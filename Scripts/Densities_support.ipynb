{
 "cells": [
  {
   "cell_type": "markdown",
   "metadata": {},
   "source": [
    "# DENSITIES PAPER"
   ]
  },
  {
   "cell_type": "code",
   "execution_count": 1,
   "metadata": {},
   "outputs": [],
   "source": [
    "import quantumpropagator as qp\n",
    "import numpy as np\n",
    "import os\n",
    "import glob\n",
    "import h5py as h5"
   ]
  },
  {
   "cell_type": "code",
   "execution_count": 2,
   "metadata": {},
   "outputs": [],
   "source": [
    "fol_wf =  '/home/alessio/x-last_Stuff/m-only_IR_middle140_0000'\n",
    "wavefunctions_files = sorted(glob.glob(fol_wf + '/Gau*.h5'))"
   ]
  },
  {
   "cell_type": "code",
   "execution_count": 3,
   "metadata": {},
   "outputs": [],
   "source": [
    "single_one = wavefunctions_files[-1]"
   ]
  },
  {
   "cell_type": "code",
   "execution_count": 4,
   "metadata": {},
   "outputs": [],
   "source": [
    "def watch_wavefunction(single_one):\n",
    "    h5_handler = h5.File(single_one,'r')\n",
    "    wf2 = h5_handler['WF']\n",
    "    \n",
    "    #print (wf2.shape)\n",
    "    return np.asarray(wf2[15:-15,15:-15,30:-30,:])\n",
    "\n",
    "def count_nonzero_wf(wf2,threshold):\n",
    "    wf = qp.abs2(wf2)\n",
    "    new_file = np.where(wf > threshold,wf,0)\n",
    "    return new_file\n",
    "\n",
    "\n",
    "wf = watch_wavefunction(single_one)\n",
    "threshold = 0.0001\n",
    "\n",
    "aaa = count_nonzero_wf(wf,threshold)\n",
    "\n",
    "new_one = qp.abs2(wf)"
   ]
  },
  {
   "cell_type": "code",
   "execution_count": 5,
   "metadata": {},
   "outputs": [],
   "source": [
    "pL, gL, tL, nstates = wf.shape"
   ]
  },
  {
   "cell_type": "code",
   "execution_count": 6,
   "metadata": {},
   "outputs": [
    {
     "data": {
      "text/plain": [
       "((25, 26, 100), 720)"
      ]
     },
     "execution_count": 6,
     "metadata": {},
     "output_type": "execute_result"
    }
   ],
   "source": [
    "calc = 0\n",
    "calculate_this = np.zeros((pL,gL,tL), dtype=bool)\n",
    "for p in range(pL):\n",
    "    for g in range(gL):\n",
    "        for t in range(tL):\n",
    "            if np.sum(new_one[p,g,t]) > 0.0001:\n",
    "                calc += 1\n",
    "                calculate_this[p,g,t] = True\n",
    "            \n",
    "calculate_this.shape, calc"
   ]
  },
  {
   "cell_type": "code",
   "execution_count": null,
   "metadata": {},
   "outputs": [],
   "source": []
  }
 ],
 "metadata": {
  "kernelspec": {
   "display_name": "Python 3",
   "language": "python",
   "name": "python3"
  },
  "language_info": {
   "codemirror_mode": {
    "name": "ipython",
    "version": 3
   },
   "file_extension": ".py",
   "mimetype": "text/x-python",
   "name": "python",
   "nbconvert_exporter": "python",
   "pygments_lexer": "ipython3",
   "version": "3.5.4"
  }
 },
 "nbformat": 4,
 "nbformat_minor": 2
}
