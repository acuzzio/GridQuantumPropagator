{
 "cells": [
  {
   "cell_type": "code",
   "execution_count": 1,
   "metadata": {},
   "outputs": [],
   "source": [
    "import quantumpropagator as qp\n",
    "import matplotlib.pyplot as plt\n",
    "import matplotlib\n",
    "from ipywidgets import interact,fixed #, interactive, fixed, interact_manual\n",
    "import ipywidgets as widgets\n",
    "from tqdm import tqdm_notebook as tqdm\n",
    "\n",
    "import os\n",
    "import sys\n",
    "import glob\n",
    "import pandas as pd\n",
    "import numpy as np\n",
    "\n",
    "%matplotlib ipympl\n",
    "\n",
    "plt.rcParams.update({'font.size': 12})"
   ]
  },
  {
   "cell_type": "code",
   "execution_count": 2,
   "metadata": {},
   "outputs": [],
   "source": [
    "%matplotlib ipympl\n",
    "def read_dipole_file(dipole_file_path):\n",
    "    nstates = 8\n",
    "    permanents = []\n",
    "    transitions = []\n",
    "\n",
    "    for lab1 in ['x','y','z']:\n",
    "        for lab2 in range(nstates):\n",
    "            permanents.append('perm_{}_{}'.format(lab1,lab2))\n",
    "            for lab3 in range(lab2+1,nstates):\n",
    "                transitions.append('trans_{}_{}_{}'.format(lab1,lab2,lab3))\n",
    "                \n",
    "    all_labels = ['fs_2','dipx','dipy','dipz'] +  permanents + transitions\n",
    "    df_dipo_pump = pd.read_csv(dipole_file_path, delim_whitespace=True, names=all_labels)\n",
    "    return(df_dipo_pump)\n",
    "\n",
    "def copy_paste_output(pump_df,probe_df, out_name):\n",
    "    '''\n",
    "    This function takes a pump and a probe run and returns a new dataframe with pump_probe pasted together\n",
    "    '''\n",
    "    fs_cut = probe_df['fs'].iloc[0]\n",
    "    # the index on the pump sheet is where the first fs value of the probe is.\n",
    "    index_cut = pump_df.index[pump_df['fs'] == fs_cut][0]\n",
    "    pump_cut = pump_df.iloc[:index_cut]\n",
    "    final_paper = pd.concat((pump_cut,probe_df))\n",
    "    final_paper.to_csv(out_name)\n",
    "    return(final_paper)\n",
    "\n",
    "def copy_paste_dipos(pump_df_d,probe_df_d, out_name):\n",
    "    '''\n",
    "    This function takes a pump and a probe run and returns a new dataframe with pump_probe pasted together\n",
    "    '''\n",
    "    fs_cut = probe_df_d['fs_2'].iloc[0]\n",
    "    # the index on the pump sheet is where the first fs value of the probe is.\n",
    "    index_cut = pump_df_d.index[pump_df_d['fs_2'] == fs_cut][0]\n",
    "    pump_cut = pump_df_d.iloc[:index_cut]\n",
    "    final_paper = pd.concat((pump_cut,probe_df_d))\n",
    "    final_paper.to_csv(out_name)\n",
    "    return(final_paper)\n",
    "\n",
    "def pythonfft(signal_time,signal,pad_length):\n",
    "    '''\n",
    "    fast fourier transform\n",
    "    signal_time :: np.array(double) <- the time array in femtoseconds\n",
    "    signal :: np.array(double) <- the signal in hartree \n",
    "    pad_length :: the length of the padding to increase resolution\n",
    "    returns :: frequencies in eV and the positive side of the signal fft\n",
    "    '''\n",
    "    signal_fft = np.fft.fft(np.pad(signal,(0,pad_length)))\n",
    "    time_au = qp.fromFsToAu(signal_time)\n",
    "    dt = time_au[1]- time_au[0]\n",
    "    frequancies_from_routine = np.fft.fftfreq(time_au.size + pad_length)\n",
    "\n",
    "    time_au_max = np.amax(time_au)\n",
    "    frequencies = qp.fromHartoEv(frequancies_from_routine*2*np.pi/dt)\n",
    "    indexes = np.where(frequancies_from_routine>=0)\n",
    "    return(frequencies[indexes],signal_fft[indexes])\n"
   ]
  },
  {
   "cell_type": "code",
   "execution_count": 3,
   "metadata": {},
   "outputs": [],
   "source": [
    "root = '/home/alessio/w-August-Run/'\n",
    "pump = 'b-UV-0.22_0000'\n",
    "probe = 'y-probe-UV_0000'\n",
    "\n",
    "fol_pump = os.path.join(root, pump)\n",
    "fol_probe = os.path.join(root, probe)\n",
    "output_norm_pump = os.path.join(fol_pump, 'output')\n",
    "output_dipo_pump = os.path.join(fol_pump, 'Output_Dipole')\n",
    "output_norm_probe = os.path.join(fol_probe, 'output')\n",
    "output_dipo_probe = os.path.join(fol_probe, 'Output_Dipole')\n",
    "\n",
    "df_norm2_pump = pd.read_csv(output_norm_pump, delim_whitespace=True, index_col=0, names=['counter', 'steps', 'fs','Norm deviation','Kinetic','Potential','Total','Total Deviation','Xpulse','Ypulse','Zpulse','AbZino'])\n",
    "df_norm2_probe = pd.read_csv(output_norm_probe, delim_whitespace=True, index_col=0, names=['counter', 'steps', 'fs','Norm deviation','Kinetic','Potential','Total','Total Deviation','Xpulse','Ypulse','Zpulse','AbZino'])\n",
    "\n",
    "df_dipo_pump = read_dipole_file(output_dipo_pump)\n",
    "df_dipo_probe = read_dipole_file(output_dipo_probe)\n",
    "\n",
    "ppname = os.path.join('/home/alessio/w-August-Run/','{}_{}.csv'.format(pump,probe))\n",
    "ppname_dip = os.path.join('/home/alessio/w-August-Run/','{}_{}_dipole.csv'.format(pump,probe))\n",
    "\n",
    "df1 = copy_paste_output(df_norm2_pump, df_norm2_probe, ppname)\n",
    "dip1 = copy_paste_dipos(df_dipo_pump, df_dipo_probe, ppname_dip)"
   ]
  },
  {
   "cell_type": "code",
   "execution_count": 4,
   "metadata": {},
   "outputs": [],
   "source": [
    "# cut the shortest, please\n",
    "(df1.shape, dip1.shape)\n",
    "num1, _ = df1.shape\n",
    "num2, _ = dip1.shape\n",
    "cut_here = np.amin([num1,num2])\n",
    "df = df1[:cut_here]\n",
    "dip = dip1[:cut_here]"
   ]
  },
  {
   "cell_type": "code",
   "execution_count": 5,
   "metadata": {},
   "outputs": [
    {
     "data": {
      "application/vnd.jupyter.widget-view+json": {
       "model_id": "",
       "version_major": 2,
       "version_minor": 0
      },
      "text/plain": [
       "Canvas(toolbar=Toolbar(toolitems=[('Home', 'Reset original view', 'home', 'home'), ('Back', 'Back to previous …"
      ]
     },
     "metadata": {},
     "output_type": "display_data"
    }
   ],
   "source": [
    "x = df['fs']\n",
    "\n",
    "pulsex = df['Xpulse']\n",
    "pulsey = df['Ypulse']\n",
    "pulsez = df['Zpulse']\n",
    "\n",
    "together = np.stack((pulsex,pulsey,pulsez), axis=1)\n",
    "y = np.sum(together,axis=1)\n",
    "\n",
    "fig, ax0 = plt.subplots(1,1,figsize = (10,6))\n",
    "ax0.plot(x,y)\n",
    "ax0.set_xlabel('fs')\n",
    "fig.tight_layout()"
   ]
  },
  {
   "cell_type": "code",
   "execution_count": 6,
   "metadata": {},
   "outputs": [
    {
     "data": {
      "application/vnd.jupyter.widget-view+json": {
       "model_id": "",
       "version_major": 2,
       "version_minor": 0
      },
      "text/plain": [
       "Canvas(toolbar=Toolbar(toolitems=[('Home', 'Reset original view', 'home', 'home'), ('Back', 'Back to previous …"
      ]
     },
     "metadata": {},
     "output_type": "display_data"
    }
   ],
   "source": [
    "pad_length = 10000\n",
    "\n",
    "freq, signal_fft = pythonfft(np.array(x),np.array(y),pad_length)\n",
    "fig, ax0 = plt.subplots(1,1,figsize = (10,6))\n",
    "#ax0.plot(freq, signal_fft)\n",
    "ax0.plot(freq, np.real(signal_fft))\n",
    "ax0.plot(freq, np.imag(signal_fft))\n",
    "ax0.set_xlim(0,10)\n",
    "ax0.set_xlabel('eV')\n",
    "\n",
    "fig.tight_layout()"
   ]
  },
  {
   "cell_type": "code",
   "execution_count": 7,
   "metadata": {},
   "outputs": [],
   "source": [
    "if False:\n",
    "    plt.close('all')\n",
    "\n",
    "    pad_length = 10000\n",
    "\n",
    "    xx = dip['fs_2']\n",
    "    x = df['fs']\n",
    "\n",
    "    #for ylabel in ['dipx', 'dipy', 'dipz','trans_x_0_1']:\n",
    "    for ylabel in ['dipx', 'dipy', 'dipz', 'trans_x_0_1', 'trans_z_0_1']: # threshold component also.\n",
    "        pulsex = df['Xpulse']\n",
    "        pulsey = df['Ypulse']\n",
    "        pulsez = df['Zpulse']\n",
    "\n",
    "        together = np.stack((pulsex,pulsey,pulsez), axis=1)\n",
    "        y = np.sum(together, axis=1)\n",
    "\n",
    "        yy = dip[ylabel]\n",
    "\n",
    "        freq_dip, signal_fft_dip = pythonfft(np.array(xx),np.array(yy),pad_length)\n",
    "\n",
    "        fig, [[ax0, ax1], [ax2, ax3], [ax4, ax5]] = plt.subplots(3,2,figsize = (10,6))\n",
    "        #ax0.plot(freq_dip, signal_fft_dip)\n",
    "\n",
    "\n",
    "        ax0.plot(xx,yy)\n",
    "        ax0.set_xlim(0,100)\n",
    "        ax0.set_xlabel('fs')\n",
    "        ax0.set_title('{} - signal'.format(ylabel))\n",
    "\n",
    "        ax2.plot(freq, np.real(signal_fft_dip))\n",
    "        ax2.plot(freq, np.imag(signal_fft_dip))\n",
    "        ax2.set_xlim(0,10)\n",
    "        ax2.set_xlabel('eV')\n",
    "        ax2.set_title('{} - FT'.format(ylabel))\n",
    "\n",
    "        ax1.plot(x,y)\n",
    "        ax1.set_xlabel('fs')\n",
    "        ax1.set_title('{} - Pulse'.format(ylabel))\n",
    "\n",
    "        freq, signal_fft = pythonfft(np.array(x),np.array(y),pad_length)\n",
    "        ax3.plot(freq, np.real(signal_fft))\n",
    "        ax3.plot(freq, np.imag(signal_fft))\n",
    "        ax3.set_xlim(0,10)\n",
    "        ax3.set_xlabel('eV')\n",
    "        ax3.set_title('{} - Pulse FFT'.format(ylabel))\n",
    "\n",
    "        S_W = -2 * np.imag(np.conj(signal_fft) * signal_fft_dip)\n",
    "        ax4.plot(freq_dip, S_W)\n",
    "        ax4.set_xlim(0,10)\n",
    "        ax4.set_xlabel('eV')\n",
    "        ax4.set_title('{} - Transient Absorption Spectra'.format(ylabel))\n",
    "\n",
    "        #fig.suptitle(ylabel)\n",
    "        fig.canvas.layout.height = '900px'\n",
    "        fig.tight_layout()"
   ]
  },
  {
   "cell_type": "markdown",
   "metadata": {},
   "source": [
    "# graph and save the big components"
   ]
  },
  {
   "cell_type": "code",
   "execution_count": 8,
   "metadata": {},
   "outputs": [],
   "source": [
    "#plt.close('all')\n",
    "if False:\n",
    "    outputFolder = '/home/alessio/w-August-Run/OUTPUTS'\n",
    "    name_output = os.path.join(outputFolder,'{}_{}.csv'.format(pump,probe))\n",
    "    print(name_output)\n",
    "\n",
    "    colors = ['b', 'g', 'r', 'c', 'm', 'y', 'k', 'mediumpurple']\n",
    "    pad_length = 10000\n",
    "    nstates = 8\n",
    "    permanents = []\n",
    "    transitions = []\n",
    "\n",
    "    fran_transition_time_sheet = pd.DataFrame()\n",
    "    fran_transition_freq_sheet = pd.DataFrame()\n",
    "\n",
    "    for lab1 in ['x','y','z']:\n",
    "        for lab2 in range(nstates):\n",
    "            permanents.append('perm_{}_{}'.format(lab1,lab2))\n",
    "            for lab3 in range(lab2+1,nstates):\n",
    "                transitions.append('trans_{}_{}_{}'.format(lab1,lab2,lab3))\n",
    "\n",
    "    pulsex = df['Xpulse']\n",
    "    pulsey = df['Ypulse']\n",
    "    pulsez = df['Zpulse']\n",
    "\n",
    "    fran_transition_time_sheet['Xpulse'] = pulsex\n",
    "    fran_transition_time_sheet['Ypulse'] = pulsey\n",
    "    fran_transition_time_sheet['Zpulse'] = pulsez\n",
    "\n",
    "    for cart in ['x','z']:\n",
    "    #for cart in ['x']:\n",
    "        timefs = dip['fs_2']\n",
    "        time = qp.fromFsToAu(timefs)\n",
    "        this_full_dipole = 'dip{}'.format(cart)\n",
    "        tot_signal = dip[this_full_dipole]\n",
    "        full_list_label = permanents + transitions\n",
    "        full_list_this_cart = [x for x in full_list_label if cart in x]\n",
    "        threshold = np.linalg.norm(tot_signal)*0.05 # 5% of the norm\n",
    "        big_components = [ x for x in full_list_this_cart if np.linalg.norm(dip[x]) > threshold or x in ['trans_x_0_1', 'trans_y_0_1', 'trans_z_0_1'] ] # the one which contributes more than 5% to the norm\n",
    "\n",
    "        # make figure\n",
    "        #fig, [ax0, ax1, ax2, ax3] = plt.subplots(4,1,figsize = (10,6))\n",
    "        fig, [[ax0, ax1], [ax2, ax3], [ax4, ax5], [ax6, ax7]] = plt.subplots(4,2,figsize = (10,6))\n",
    "\n",
    "        # PULSE PANEL\n",
    "        pulse_this = df['{}pulse'.format(cart.upper())]\n",
    "        ax0.plot(timefs,pulse_this)\n",
    "\n",
    "        freq_pulse, pulse_fft = pythonfft(np.array(time),pulse_this,pad_length)\n",
    "\n",
    "        pulse_fft_RE = np.real(pulse_fft)\n",
    "        pulse_fft_IM = np.imag(pulse_fft)\n",
    "        freq_pulse_eV = qp.fromHartoEv(freq_pulse)\n",
    "\n",
    "        # send to Francoise Spreadsheet\n",
    "        freq_label = 'Frequencies eV'  \n",
    "        if freq_label not in fran_transition_freq_sheet.columns:\n",
    "            fran_transition_freq_sheet[freq_label] = freq_pulse_eV\n",
    "        fran_transition_freq_sheet['{}_pulse_ft_real'.format(cart)] = pulse_fft_RE\n",
    "        fran_transition_freq_sheet['{}_pulse_ft_imag'.format(cart)] = pulse_fft_IM\n",
    "\n",
    "        ax1.plot(freq_pulse_eV, pulse_fft_RE)\n",
    "        ax1.plot(freq_pulse_eV, pulse_fft_IM)\n",
    "        ax1.set_xlim(0,10)\n",
    "\n",
    "        # DIPOLE PANEL\n",
    "        ax2.plot(timefs,tot_signal)\n",
    "\n",
    "        freq_dipole_tot, fft_dipole_tot = pythonfft(np.array(time),tot_signal,pad_length)\n",
    "        freq_dipole_eV = qp.fromHartoEv(freq_dipole_tot)\n",
    "        dipole_total_fft_RE = np.real(fft_dipole_tot)\n",
    "        dipole_total_fft_IM = np.imag(fft_dipole_tot)\n",
    "\n",
    "        # send to Francoise Spreadsheet\n",
    "        fran_transition_freq_sheet['{}_dipole_ft_real'.format(cart)] = pulse_fft_RE\n",
    "        fran_transition_freq_sheet['{}_dipole_ft_imag'.format(cart)] = pulse_fft_IM\n",
    "\n",
    "        ax3.plot(freq_dipole_eV, dipole_total_fft_RE)\n",
    "        ax3.plot(freq_dipole_eV, dipole_total_fft_IM)\n",
    "        ax3.set_xlim(0,10)\n",
    "\n",
    "        # first spectra\n",
    "        S_W_tot = -2 * np.imag(np.conj(pulse_fft) * fft_dipole_tot)\n",
    "\n",
    "        fran_transition_freq_sheet['TA {}'.format(cart)] = S_W_tot\n",
    "\n",
    "        ax6.plot(freq_dipole_eV, S_W_tot)\n",
    "        ax6.set_xlim(0,10)\n",
    "\n",
    "        # COMPONENT PANEL\n",
    "        print(big_components)\n",
    "        for iii, component in enumerate(big_components):\n",
    "            comp_dip = dip[component]\n",
    "            ax4.plot(timefs,comp_dip, label = component, color=colors[iii])\n",
    "\n",
    "            freq_component_tot, fft_component_tot = pythonfft(np.array(time), comp_dip, pad_length)\n",
    "            freq_component_eV = qp.fromHartoEv(freq_component_tot)\n",
    "            component_fft_RE = np.real(fft_component_tot)\n",
    "            component_fft_IM = np.imag(fft_component_tot)\n",
    "\n",
    "            # send to Francoise Spreadsheet\n",
    "            fran_transition_freq_sheet['{}_{}_component_ft_real'.format(cart,component)] = component_fft_RE\n",
    "            fran_transition_freq_sheet['{}_{}_component_ft_imag'.format(cart,component)] = component_fft_IM    \n",
    "\n",
    "            ax5.plot(freq_component_eV, component_fft_RE, color=colors[iii])\n",
    "            ax5.plot(freq_component_eV, component_fft_IM, color=colors[iii], ls=':')\n",
    "            ax5.set_xlim(0,10)\n",
    "\n",
    "            # Spectra\n",
    "            S_W_tot_component = -2 * np.imag(np.conj(pulse_fft) * fft_component_tot)\n",
    "\n",
    "            fran_transition_freq_sheet['TA {}_{}'.format(cart,component)] = S_W_tot_component\n",
    "\n",
    "            ax7.plot(freq_dipole_eV, S_W_tot_component, color=colors[iii])\n",
    "            ax7.set_xlim(0,10)\n",
    "\n",
    "        ax4.legend()\n",
    "        fig.canvas.layout.height = '900px'\n",
    "        fig.tight_layout()\n",
    "\n",
    "    fran_transition_freq_sheet.to_csv(name_output)"
   ]
  },
  {
   "cell_type": "markdown",
   "metadata": {},
   "source": [
    "# Tune the pulse, using the new kind"
   ]
  },
  {
   "cell_type": "code",
   "execution_count": 9,
   "metadata": {},
   "outputs": [],
   "source": [
    "def new_pulse(t,Ed,omega,sigma,phi,t0):\n",
    "    num = (t-t0)**2\n",
    "    den = 2*(sigma**2)\n",
    "\n",
    "    if (den == 0): \n",
    "        result = 0.0 \n",
    "    else:\n",
    "        num2 = np.sin(omega*(t-t0) + phi) * (t-t0)\n",
    "        den2 = omega * sigma**2\n",
    "        result = Ed *  np.exp(-num/den) * (np.cos(omega*(t-t0) + phi) - num2/den2 )\n",
    "    return result"
   ]
  },
  {
   "cell_type": "code",
   "execution_count": 10,
   "metadata": {},
   "outputs": [
    {
     "data": {
      "application/vnd.jupyter.widget-view+json": {
       "model_id": "15109da4382e4764a8713f1aedf04347",
       "version_major": 2,
       "version_minor": 0
      },
      "text/plain": [
       "Canvas(toolbar=Toolbar(toolitems=[('Home', 'Reset original view', 'home', 'home'), ('Back', 'Back to previous …"
      ]
     },
     "metadata": {},
     "output_type": "display_data"
    }
   ],
   "source": [
    "plt.close('all')\n",
    "\n",
    "pad_length = 10000\n",
    "length_fs = 100\n",
    "resolution = 2000\n",
    "times = np.linspace(0, qp.fromFsToAu(length_fs), resolution)\n",
    "\n",
    "E = 0.06\n",
    "omega = 0.22#/(2*np.pi)\n",
    "sigma = qp.fromFsToAu(1.7)\n",
    "phi = 0\n",
    "t0 = 2500\n",
    "\n",
    "y = qp.pulse(times, E, omega, sigma, phi, t0)\n",
    "y2 = new_pulse(times, E, omega, sigma, phi, t0)\n",
    "x = qp.fromAuToFs(times)\n",
    "\n",
    "freq, signal_fft = pythonfft(np.array(x),np.array(y),pad_length)\n",
    "freq, signal_fft2 = pythonfft(np.array(x),np.array(y2),pad_length)\n",
    "\n",
    "colors = ['r','g']\n",
    "\n",
    "fig, [ ax0, ax1 ] = plt.subplots(2,1,figsize = (10,6))\n",
    "\n",
    "ax0.plot(x,y, color = colors[0], label='Old Pulse')\n",
    "ax0.plot(x,y2, color = colors[1], label='New Pulse')\n",
    "\n",
    "ax0.set_xlabel('fs')\n",
    "\n",
    "## IMAG\n",
    "ax1.plot(freq, np.real(signal_fft), color = colors[0])\n",
    "ax1.plot(freq, np.imag(signal_fft), color = colors[0], ls=':')\n",
    "ax1.plot(freq, np.real(signal_fft2), color = colors[1])\n",
    "ax1.plot(freq, np.imag(signal_fft2), color = colors[1], ls=':')\n",
    "\n",
    "## ABSOLUTE\n",
    "# ax1.plot(freq, np.abs(signal_fft), color = colors[0])\n",
    "# ax1.plot(freq, np.abs(signal_fft2), color = colors[1])\n",
    "\n",
    "major_ticks = np.arange(0.5, 10, 0.5)\n",
    "minor_ticks = np.arange(0, 10, 0.1)\n",
    "ax1.set_xticks(major_ticks)\n",
    "ax1.set_xticks(minor_ticks, minor=True)\n",
    "\n",
    "ax1.set_xlim(0,10)\n",
    "ax1.set_xlabel('eV')\n",
    "\n",
    "ax0.legend()\n",
    "\n",
    "fig.tight_layout()"
   ]
  },
  {
   "cell_type": "markdown",
   "metadata": {},
   "source": [
    "# Multiple probes"
   ]
  },
  {
   "cell_type": "code",
   "execution_count": 59,
   "metadata": {},
   "outputs": [],
   "source": [
    "from scipy import signal\n",
    "\n",
    "def process_pump_probe_folder(root, pump, probe, cartesian, do_graph = True, select=None, limit_time = None):\n",
    "    '''\n",
    "    this is a function which does everything for pump-probe-cross graphs\n",
    "    '''\n",
    "\n",
    "    # OUTPUTS\n",
    "    select = select or ['trans_z_0_1']\n",
    "    limit_time = limit_time or 9999999\n",
    "    outputFolder = '/home/alessio/w-August-Run/OUTPUTS'\n",
    "    name_output = os.path.join(outputFolder,'{}_{}.csv'.format(pump,probe))\n",
    "    \n",
    "    fol_pump = os.path.join(root, pump)\n",
    "    fol_probe = os.path.join(root, probe)\n",
    "    output_norm_pump = os.path.join(fol_pump, 'output')\n",
    "    output_dipo_pump = os.path.join(fol_pump, 'Output_Dipole')\n",
    "    output_norm_probe = os.path.join(fol_probe, 'output')\n",
    "    output_dipo_probe = os.path.join(fol_probe, 'Output_Dipole')\n",
    "    \n",
    "    df_norm2_pump = pd.read_csv(output_norm_pump, delim_whitespace=True, index_col=0, names=['counter', 'steps', 'fs','Norm deviation','Kinetic','Potential','Total','Total Deviation','Xpulse','Ypulse','Zpulse','AbZino'])\n",
    "    df_norm2_probe = pd.read_csv(output_norm_probe, delim_whitespace=True, index_col=0, names=['counter', 'steps', 'fs','Norm deviation','Kinetic','Potential','Total','Total Deviation','Xpulse','Ypulse','Zpulse','AbZino'])\n",
    "\n",
    "    df_dipo_pump = read_dipole_file(output_dipo_pump)\n",
    "    df_dipo_probe = read_dipole_file(output_dipo_probe)\n",
    "\n",
    "    ppname = os.path.join(outputFolder,'{}_{}.csv'.format(pump,probe))\n",
    "    ppname_dip = os.path.join(outputFolder,'{}_{}_dipole.csv'.format(pump,probe))\n",
    "\n",
    "    df1 = copy_paste_output(df_norm2_pump, df_norm2_probe, ppname)\n",
    "    dip1 = copy_paste_dipos(df_dipo_pump, df_dipo_probe, ppname_dip)\n",
    "    \n",
    "    # cut the shortest, please\n",
    "    (df1.shape, dip1.shape)\n",
    "    num1, _ = df1.shape\n",
    "    num2, _ = dip1.shape\n",
    "    print('out {}: {} --- dip {}: {}'.format(num1,df1['fs'].iloc[-1], num2, dip1['fs_2'].iloc[-1]))\n",
    "    cut_here = np.amin([num1,num2,limit_time]) # which is the shortest?\n",
    "    \n",
    "    if cut_here == limit_time: # it means that we are cutting\n",
    "        print('limit {}: {}'.format(limit_time,df1['fs'].iloc[cut_here]))\n",
    "    \n",
    "    df = df1[:cut_here]\n",
    "    dip = dip1[:cut_here]\n",
    "    \n",
    "    colors = ['b', 'g', 'r', 'c', 'm', 'y', 'k', 'mediumpurple']\n",
    "    pad_length_until = 10000\n",
    "    pad_length = pad_length_until - cut_here\n",
    "    nstates = 8\n",
    "    permanents = []\n",
    "    transitions = []\n",
    "\n",
    "    fran_transition_time_sheet = pd.DataFrame()\n",
    "    fran_transition_freq_sheet = pd.DataFrame()\n",
    "\n",
    "    for lab1 in ['x','y','z']:\n",
    "        for lab2 in range(nstates):\n",
    "            permanents.append('perm_{}_{}'.format(lab1,lab2))\n",
    "            for lab3 in range(lab2+1,nstates):\n",
    "                transitions.append('trans_{}_{}_{}'.format(lab1,lab2,lab3))\n",
    "\n",
    "    pulsex = df['Xpulse']\n",
    "    pulsey = df['Ypulse']\n",
    "    pulsez = df['Zpulse']\n",
    "\n",
    "    fran_transition_time_sheet['Xpulse'] = pulsex\n",
    "    fran_transition_time_sheet['Ypulse'] = pulsey\n",
    "    fran_transition_time_sheet['Zpulse'] = pulsez\n",
    "\n",
    "    \n",
    "    #for cart in ['x','y','z']:\n",
    "    for cart in [cartesian]:\n",
    "        timefs = dip['fs_2']\n",
    "        time = qp.fromFsToAu(timefs)\n",
    "        this_full_dipole = 'dip{}'.format(cart)\n",
    "        tot_signal = dip[this_full_dipole]\n",
    "        full_list_label = permanents + transitions\n",
    "        full_list_this_cart = [x for x in full_list_label if cart in x]\n",
    "        threshold = np.linalg.norm(tot_signal)*0.05 # 5% of the norm\n",
    "        big_components = [ x for x in full_list_this_cart if np.linalg.norm(dip[x]) > threshold or x in ['trans_x_0_1', 'trans_y_0_1', 'trans_z_0_1'] ]   \n",
    "\n",
    "        # Create Arrays\n",
    "        \n",
    "        pulse_this = df['{}pulse'.format(cart.upper())]     \n",
    "        \n",
    "        \n",
    "        freq_pulse, pulse_fft = pythonfft(np.array(time),pulse_this,pad_length)\n",
    "\n",
    "        pulse_fft_RE = np.real(pulse_fft)\n",
    "        pulse_fft_IM = np.imag(pulse_fft)\n",
    "        freq_pulse_eV = qp.fromHartoEv(freq_pulse)\n",
    "        \n",
    "        time_normal = np.array(time)\n",
    "        #window = gau_window(timefs, 10, 75)\n",
    "        window = signal.gaussian(timefs.shape[0], std=450)\n",
    "        tot_signal_windowed =  tot_signal * window\n",
    "        \n",
    "        \n",
    "        freq_dipole_tot, fft_dipole_tot = pythonfft(np.array(time), tot_signal_windowed, pad_length)\n",
    "        freq_dipole_eV = qp.fromHartoEv(freq_dipole_tot)\n",
    "        dipole_total_fft_RE = np.real(fft_dipole_tot)\n",
    "        dipole_total_fft_IM = np.imag(fft_dipole_tot)\n",
    "        # first spectra\n",
    "        S_W_tot = -2 * np.imag(np.conj(pulse_fft) * fft_dipole_tot)\n",
    "        \n",
    "        if do_graph:\n",
    "            # CREATE GRAPHS        \n",
    "            fig, [[ax0, ax1], [ax2, ax3], [ax4, ax5], [ax6, ax7]] = plt.subplots(4,2,figsize = (10,6))\n",
    "\n",
    "            ax0.plot(timefs,pulse_this)\n",
    "            ax0.set_title('Pulse')\n",
    "\n",
    "            ax1.plot(freq_pulse_eV, pulse_fft_RE)\n",
    "            ax1.plot(freq_pulse_eV, pulse_fft_IM)\n",
    "            ax1.set_xlim(0,10)\n",
    "            ax1.set_title('Pulse FT')\n",
    "\n",
    "            ax2.plot(timefs,tot_signal_windowed)\n",
    "            ax2.plot(timefs,window)\n",
    "            ax2.set_title('Signal and window')\n",
    "\n",
    "            ax3.plot(freq_dipole_eV, dipole_total_fft_RE)\n",
    "            ax3.plot(freq_dipole_eV, dipole_total_fft_IM)\n",
    "            ax3.set_xlim(0,10)\n",
    "            ax3.set_title('Signal windower FT')\n",
    "\n",
    "\n",
    "            ax6.plot(freq_dipole_eV, S_W_tot)\n",
    "            ax6.set_xlim(0,10)\n",
    "            ax6.set_title('Transient Absorbtion spectra total')\n",
    "        \n",
    "        # send to Francoise Spreadsheet\n",
    "        freq_label = 'Frequencies eV'  \n",
    "        if freq_label not in fran_transition_freq_sheet.columns:\n",
    "            fran_transition_freq_sheet[freq_label] = freq_pulse_eV\n",
    "        fran_transition_freq_sheet['{}_pulse_ft_real'.format(cart)] = pulse_fft_RE\n",
    "        fran_transition_freq_sheet['{}_pulse_ft_imag'.format(cart)] = pulse_fft_IM\n",
    "        fran_transition_freq_sheet['{}_dipole_ft_real'.format(cart)] = dipole_total_fft_RE\n",
    "        fran_transition_freq_sheet['{}_dipole_ft_imag'.format(cart)] = dipole_total_fft_IM\n",
    "        fran_transition_freq_sheet['TA {}'.format(cart)] = S_W_tot\n",
    "\n",
    "        # COMPONENT PANEL\n",
    "#        for iii, component in enumerate(big_components):\n",
    "        for iii, component in enumerate(select):\n",
    "            comp_dip = dip[component]\n",
    "            freq_component_tot, fft_component_tot = pythonfft(np.array(time), comp_dip, pad_length)\n",
    "            freq_component_eV = qp.fromHartoEv(freq_component_tot)\n",
    "            component_fft_RE = np.real(fft_component_tot)\n",
    "            component_fft_IM = np.imag(fft_component_tot)\n",
    "            # Spectra\n",
    "            S_W_tot_component = -2 * np.imag(np.conj(pulse_fft) * fft_component_tot)\n",
    "            if do_graph:\n",
    "                ax4.plot(timefs,comp_dip, color=colors[iii])\n",
    "                ax4.set_title('{} component on the dipole'.format(component))\n",
    "\n",
    "                ax5.plot(freq_component_eV, component_fft_RE, color=colors[iii])\n",
    "                ax5.plot(freq_component_eV, component_fft_IM, color=colors[iii], ls=':')\n",
    "                ax5.set_xlim(0,10)\n",
    "                ax5.set_title('{} component FT'.format(component))\n",
    "                \n",
    "                ax7.plot(freq_dipole_eV, S_W_tot_component, color=colors[iii])\n",
    "                ax7.set_xlim(0,10)\n",
    "                ax7.set_title('{} Transient Absoption'.format(component))\n",
    "                plt.suptitle('{}'.format(probe))\n",
    "            # send to Francoise Spreadsheet\n",
    "            fran_transition_freq_sheet['{}_{}_component_ft_real'.format(cart,component)] = component_fft_RE\n",
    "            fran_transition_freq_sheet['{}_{}_component_ft_imag'.format(cart,component)] = component_fft_IM    \n",
    "            fran_transition_freq_sheet['TA {}_{}'.format(cart,component)] = S_W_tot_component\n",
    "\n",
    "        if do_graph:\n",
    "            fig.canvas.layout.height = '900px'\n",
    "            fig.tight_layout()\n",
    "            \n",
    "    fran_transition_freq_sheet.to_csv(name_output)\n",
    "    return(freq_dipole_eV, S_W_tot_component, S_W_tot)\n",
    "\n"
   ]
  },
  {
   "cell_type": "markdown",
   "metadata": {},
   "source": [
    "# UVx Transition Absorption spectra"
   ]
  },
  {
   "cell_type": "code",
   "execution_count": 60,
   "metadata": {},
   "outputs": [],
   "source": [
    "def gau_window(t,sigma,t0):\n",
    "    ''' \n",
    "    It returns the value of the gaussian envelope for the pulse at time t\n",
    "    now it works with arrays, too\n",
    "    '''\n",
    "    num = (t-t0)**2\n",
    "    den = 2*(sigma**2)\n",
    "    if (den == 0): \n",
    "        if type(t) == float:\n",
    "            result = 0.0 \n",
    "        else:\n",
    "            result = np.zeros_like(t)\n",
    "    else:\n",
    "        result = np.exp(-num/den)\n",
    "    norm = np.linalg.norm(result)\n",
    "    return result/norm"
   ]
  },
  {
   "cell_type": "code",
   "execution_count": 61,
   "metadata": {},
   "outputs": [
    {
     "name": "stdout",
     "output_type": "stream",
     "text": [
      "['/home/alessio/w-August-Run/a-UV-Pump-Probe-2687_0000', '/home/alessio/w-August-Run/a-UV-Pump-Probe-2791_0000', '/home/alessio/w-August-Run/a-UV-Pump-Probe-2894_0000', '/home/alessio/w-August-Run/a-UV-Pump-Probe-2997_0000', '/home/alessio/w-August-Run/a-UV-Pump-Probe-3101_0000']\n"
     ]
    }
   ],
   "source": [
    "import re\n",
    "root = '/home/alessio/w-August-Run/'\n",
    "pump = 'b-UV-0.22_0000'\n",
    "folders = sorted(glob.glob('/home/alessio/w-August-Run/a-UV-Pump-Probe*'))\n",
    "print(folders)\n",
    "delays_au = [ -float(re.findall(\"[-+]?[.]?[\\d]+(?:,\\d\\d\\d)*[\\.]?\\d*(?:[eE][-+]?\\d+)?\", s)[0]) for s in folders]"
   ]
  },
  {
   "cell_type": "code",
   "execution_count": 62,
   "metadata": {},
   "outputs": [
    {
     "data": {
      "application/vnd.jupyter.widget-view+json": {
       "model_id": "e37790375efb45148ac785847d6acb37",
       "version_major": 2,
       "version_minor": 0
      },
      "text/plain": [
       "HBox(children=(IntProgress(value=0, max=5), HTML(value='')))"
      ]
     },
     "metadata": {},
     "output_type": "display_data"
    },
    {
     "name": "stdout",
     "output_type": "stream",
     "text": [
      "out 2934: 146.79691480662282 --- dip 2340: 116.94998771911196\n"
     ]
    },
    {
     "name": "stderr",
     "output_type": "stream",
     "text": [
      "/home/alessio/config/quantumpropagator/lib/python3.6/site-packages/ipykernel_launcher.py:108: RuntimeWarning: More than 20 figures have been opened. Figures created through the pyplot interface (`matplotlib.pyplot.figure`) are retained until explicitly closed and may consume too much memory. (To control this warning, see the rcParam `figure.max_open_warning`).\n"
     ]
    },
    {
     "data": {
      "application/vnd.jupyter.widget-view+json": {
       "model_id": "992ef75a0d314bc1a73f573c28ae70a6",
       "version_major": 2,
       "version_minor": 0
      },
      "text/plain": [
       "Canvas(toolbar=Toolbar(toolitems=[('Home', 'Reset original view', 'home', 'home'), ('Back', 'Back to previous …"
      ]
     },
     "metadata": {},
     "output_type": "display_data"
    },
    {
     "name": "stdout",
     "output_type": "stream",
     "text": [
      "out 2409: 120.52061740694373 --- dip 2398: 119.84998741457346\n"
     ]
    },
    {
     "name": "stderr",
     "output_type": "stream",
     "text": [
      "/home/alessio/config/quantumpropagator/lib/python3.6/site-packages/ipykernel_launcher.py:108: RuntimeWarning: More than 20 figures have been opened. Figures created through the pyplot interface (`matplotlib.pyplot.figure`) are retained until explicitly closed and may consume too much memory. (To control this warning, see the rcParam `figure.max_open_warning`).\n"
     ]
    },
    {
     "data": {
      "application/vnd.jupyter.widget-view+json": {
       "model_id": "79085c31c02343018452aea368ae57c6",
       "version_major": 2,
       "version_minor": 0
      },
      "text/plain": [
       "Canvas(toolbar=Toolbar(toolitems=[('Home', 'Reset original view', 'home', 'home'), ('Back', 'Back to previous …"
      ]
     },
     "metadata": {},
     "output_type": "display_data"
    },
    {
     "name": "stdout",
     "output_type": "stream",
     "text": [
      "out 2431: 121.62171939321598 --- dip 2422: 121.04998728855752\n"
     ]
    },
    {
     "name": "stderr",
     "output_type": "stream",
     "text": [
      "/home/alessio/config/quantumpropagator/lib/python3.6/site-packages/ipykernel_launcher.py:108: RuntimeWarning: More than 20 figures have been opened. Figures created through the pyplot interface (`matplotlib.pyplot.figure`) are retained until explicitly closed and may consume too much memory. (To control this warning, see the rcParam `figure.max_open_warning`).\n"
     ]
    },
    {
     "data": {
      "application/vnd.jupyter.widget-view+json": {
       "model_id": "e924cc1228354e9ca516e9bac08cf31b",
       "version_major": 2,
       "version_minor": 0
      },
      "text/plain": [
       "Canvas(toolbar=Toolbar(toolitems=[('Home', 'Reset original view', 'home', 'home'), ('Back', 'Back to previous …"
      ]
     },
     "metadata": {},
     "output_type": "display_data"
    },
    {
     "name": "stdout",
     "output_type": "stream",
     "text": [
      "out 2525: 126.32642788001567 --- dip 2525: 126.19998674773912\n"
     ]
    },
    {
     "name": "stderr",
     "output_type": "stream",
     "text": [
      "/home/alessio/config/quantumpropagator/lib/python3.6/site-packages/ipykernel_launcher.py:108: RuntimeWarning: More than 20 figures have been opened. Figures created through the pyplot interface (`matplotlib.pyplot.figure`) are retained until explicitly closed and may consume too much memory. (To control this warning, see the rcParam `figure.max_open_warning`).\n"
     ]
    },
    {
     "data": {
      "application/vnd.jupyter.widget-view+json": {
       "model_id": "24a54d8f301343269fb016fb2b53f8fd",
       "version_major": 2,
       "version_minor": 0
      },
      "text/plain": [
       "Canvas(toolbar=Toolbar(toolitems=[('Home', 'Reset original view', 'home', 'home'), ('Back', 'Back to previous …"
      ]
     },
     "metadata": {},
     "output_type": "display_data"
    },
    {
     "name": "stdout",
     "output_type": "stream",
     "text": [
      "out 2588: 129.47958356797716 --- dip 2578: 128.84998646945394\n"
     ]
    },
    {
     "name": "stderr",
     "output_type": "stream",
     "text": [
      "/home/alessio/config/quantumpropagator/lib/python3.6/site-packages/ipykernel_launcher.py:108: RuntimeWarning: More than 20 figures have been opened. Figures created through the pyplot interface (`matplotlib.pyplot.figure`) are retained until explicitly closed and may consume too much memory. (To control this warning, see the rcParam `figure.max_open_warning`).\n"
     ]
    },
    {
     "data": {
      "application/vnd.jupyter.widget-view+json": {
       "model_id": "7b3792b2d449441085711393bd5efeb1",
       "version_major": 2,
       "version_minor": 0
      },
      "text/plain": [
       "Canvas(toolbar=Toolbar(toolitems=[('Home', 'Reset original view', 'home', 'home'), ('Back', 'Back to previous …"
      ]
     },
     "metadata": {},
     "output_type": "display_data"
    },
    {
     "name": "stdout",
     "output_type": "stream",
     "text": [
      "\n"
     ]
    }
   ],
   "source": [
    "graph = True\n",
    "all_of_the_1_0 = []\n",
    "all_of_the_TOT = []\n",
    "all_the_freq = []\n",
    "\n",
    "for this_one in tqdm(folders):\n",
    "    freq_dipole_eV, S_W_tot_component, S_W_tot = process_pump_probe_folder(root, pump, os.path.basename(this_one), 'z', do_graph = graph, select=['trans_z_0_1'])#, limit_time = 2400)\n",
    "    all_of_the_1_0.append(S_W_tot_component)\n",
    "    all_of_the_TOT.append(S_W_tot)\n",
    "    all_the_freq.append(freq_dipole_eV)"
   ]
  },
  {
   "cell_type": "code",
   "execution_count": 24,
   "metadata": {},
   "outputs": [],
   "source": [
    "# save in files\n",
    "save_this = False\n",
    "\n",
    "folder_output = '/STORE/alessio/things/dox/Alessio-Francoise/Results_MD_October2019/Transient_absorption/UVx'\n",
    "\n",
    "appended_vectors = [all_of_the_TOT, all_of_the_1_0]\n",
    "vector_labels = ['ALL','0_1_component']\n",
    "\n",
    "delays_fs = [ '{:.1f}'.format(qp.fromAuToFs(x)) for x in delays_au ]\n",
    "energies_vector = np.array(all_the_freq[0])\n",
    "\n",
    "if save_this:\n",
    "    for i, this_label in enumerate(vector_labels):\n",
    "        all_freq = np.array(appended_vectors[i])\n",
    "        df = pd.DataFrame(all_freq.T, index=energies_vector, columns=delays_fs)\n",
    "        df.index.name = 'Freq eV'\n",
    "        output_name = os.path.join(folder_output, 'Transient_abs_spectra_UVx_{}.txt'.format(this_label))\n",
    "        df.to_csv(output_name)\n",
    "        print('File {} written...'.format(output_name))"
   ]
  },
  {
   "cell_type": "code",
   "execution_count": 25,
   "metadata": {},
   "outputs": [
    {
     "data": {
      "application/vnd.jupyter.widget-view+json": {
       "model_id": "866f356a0a4643f5b11d387260c4dcfe",
       "version_major": 2,
       "version_minor": 0
      },
      "text/plain": [
       "Canvas(toolbar=Toolbar(toolitems=[('Home', 'Reset original view', 'home', 'home'), ('Back', 'Back to previous …"
      ]
     },
     "metadata": {},
     "output_type": "display_data"
    }
   ],
   "source": [
    "from matplotlib import cm\n",
    "\n",
    "cmap = 'hot'#'hsv'\n",
    "viridis = cm.get_cmap(cmap,12)\n",
    "color_map = viridis(np.linspace(0,1, len(delays_au)+2))\n",
    "\n",
    "fig, ax0 = plt.subplots(1,1,figsize = (10,6))\n",
    "ax1 = ax0.twinx()\n",
    "\n",
    "how_many = len(delays_au)\n",
    "\n",
    "for i,(x,y,z) in enumerate(zip(all_the_freq[:how_many], all_of_the_1_0[:how_many], all_of_the_TOT[:how_many])):\n",
    "    ax0.plot(x,y, label=delays_fs[i], ls=':', color=color_map[i])\n",
    "    ax1.plot(x,z, color=color_map[i])\n",
    "\n",
    "ax0.set_xlim(0.0,0.8)    \n",
    "ax1.set_xlim(0.0,0.8)    \n",
    "\n",
    "ax0.legend()\n",
    "ax0.set_xlabel('eV')\n",
    "fig.tight_layout()"
   ]
  },
  {
   "cell_type": "code",
   "execution_count": 26,
   "metadata": {},
   "outputs": [
    {
     "data": {
      "text/plain": [
       "((5, 5000), (5000,), 5, (5, 5000), ['65.0', '67.5', '70.0', '72.5', '75.0'])"
      ]
     },
     "execution_count": 26,
     "metadata": {},
     "output_type": "execute_result"
    }
   ],
   "source": [
    "together = np.stack(all_of_the_1_0, axis=0)\n",
    "together2 = np.stack(all_of_the_TOT, axis=0)\n",
    "\n",
    "pp_runs = zip(folders,delays_fs)\n",
    "together.shape, freq_dipole_eV.shape, len(list(pp_runs)), together2.shape, delays_fs"
   ]
  },
  {
   "cell_type": "code",
   "execution_count": 27,
   "metadata": {},
   "outputs": [
    {
     "data": {
      "application/vnd.jupyter.widget-view+json": {
       "model_id": "49fb67ab629741a3b450be163b289f30",
       "version_major": 2,
       "version_minor": 0
      },
      "text/plain": [
       "Canvas(toolbar=Toolbar(toolitems=[('Home', 'Reset original view', 'home', 'home'), ('Back', 'Back to previous …"
      ]
     },
     "metadata": {},
     "output_type": "display_data"
    }
   ],
   "source": [
    "vector_not_cut = together\n",
    "\n",
    "cut_from = 0\n",
    "cut_at = 130\n",
    "\n",
    "vector = vector_not_cut[:,cut_from:cut_at]\n",
    "y = freq_dipole_eV[cut_from:cut_at]\n",
    "\n",
    "_, vector_y_dim = vector.shape\n",
    "\n",
    "fig, [ ax1, ax2 ] = plt.subplots(1,2,figsize = (10,6))\n",
    "z_min, z_max = -np.abs(vector).max(), np.abs(vector).max()\n",
    "\n",
    "inter = 'none' # 'lanczos','none','gaussian','bilinear' 'spline16'\n",
    "inter2 = 'lanczos'\n",
    "# I put the c variable to set colorbar\n",
    "c = ax1.imshow(vector.T, interpolation=inter, cmap='RdBu', aspect='auto', origin='lower', vmin=z_min, vmax=z_max)\n",
    "\n",
    "d = ax2.imshow(vector.T, interpolation=inter2, cmap='RdBu', aspect='auto', origin='lower', vmin=z_min, vmax=z_max)\n",
    "\n",
    "# this is easy because I want to put a label for each field I have\n",
    "where_xtiks = range(len(delays_fs))\n",
    "label_x = delays_fs\n",
    "\n",
    "# this is more cumbersome, as I want to put a limited amount of tiks into the y axis.\n",
    "how_many_y_ticks = 7 # how many I want\n",
    "where_ytiks =  range(0,vector_y_dim,int((vector_y_dim/(how_many_y_ticks-1)))) # this are the indexes at which I want to put yticks\n",
    "label_y = [ '{:.2f}'.format(x) for x in y[where_ytiks]] # value of y axis at index where_yticks\n",
    "\n",
    "fig.canvas.layout.height = '900px'\n",
    "fig.colorbar(c, ax=ax1)\n",
    "fig.colorbar(d, ax=ax2)\n",
    "\n",
    "ax1.set_xlabel(r'$\\tau$')\n",
    "ax1.set_ylabel(r'eV')\n",
    "ax1.set_xticks(where_xtiks)\n",
    "ax1.set_xticklabels(delays_fs)\n",
    "ax1.set_yticks(where_ytiks)\n",
    "ax1.set_yticklabels(label_y)\n",
    "ax1.set_title('Row data')\n",
    "\n",
    "ax2.set_xlabel(r'$\\tau$')\n",
    "ax2.set_ylabel(r'eV')\n",
    "ax2.set_xticks(where_xtiks)\n",
    "ax2.set_xticklabels(delays_fs)\n",
    "ax2.set_yticks(where_ytiks)\n",
    "ax2.set_yticklabels(label_y)\n",
    "ax2.set_title('interpolated')\n",
    "\n",
    "fig.tight_layout()"
   ]
  },
  {
   "cell_type": "code",
   "execution_count": 28,
   "metadata": {},
   "outputs": [
    {
     "data": {
      "application/vnd.jupyter.widget-view+json": {
       "model_id": "605b9958ddf14e368eea756d0ac0414a",
       "version_major": 2,
       "version_minor": 0
      },
      "text/plain": [
       "Canvas(toolbar=Toolbar(toolitems=[('Home', 'Reset original view', 'home', 'home'), ('Back', 'Back to previous …"
      ]
     },
     "metadata": {},
     "output_type": "display_data"
    },
    {
     "name": "stderr",
     "output_type": "stream",
     "text": [
      "/home/alessio/config/quantumpropagator/lib/python3.6/site-packages/ipykernel_launcher.py:51: UserWarning: Tight layout not applied. tight_layout cannot make axes width small enough to accommodate all axes decorations\n"
     ]
    }
   ],
   "source": [
    "vector_not_cut = together2\n",
    "\n",
    "cut_from = 10\n",
    "cut_at = 120\n",
    "\n",
    "vector = vector_not_cut[:,cut_from:cut_at]\n",
    "y = freq_dipole_eV[cut_from:cut_at]\n",
    "\n",
    "_, vector_y_dim = vector.shape\n",
    "\n",
    "fig, [ ax1, ax2 ] = plt.subplots(1,2,figsize = (2,6))\n",
    "z_min, z_max = -np.abs(vector).max(), np.abs(vector).max()\n",
    "\n",
    "# https://matplotlib.org/3.1.1/gallery/images_contours_and_fields/interpolation_methods.html\n",
    "inter = 'none' # 'lanczos'   'none'  'gaussian' 'bilinear'\n",
    "inter2 = 'spline16'\n",
    "# I put the c variable to set colorbar\n",
    "c = ax1.imshow(vector.T, interpolation=inter, cmap='RdBu', aspect='auto', origin='lower', vmin=z_min, vmax=z_max)\n",
    "\n",
    "d = ax2.imshow(vector.T, interpolation=inter2, cmap='RdBu', aspect='auto', origin='lower', vmin=z_min, vmax=z_max)\n",
    "\n",
    "# this is easy because I want to put a label for each field I have\n",
    "where_xtiks = range(len(delays_fs))\n",
    "label_x = delays_fs\n",
    "\n",
    "# this is more cumbersome, as I want to put a limited amount of tiks into the y axis.\n",
    "how_many_y_ticks = 7 # how many I want\n",
    "where_ytiks =  range(0,vector_y_dim,int((vector_y_dim/(how_many_y_ticks-1)))) # this are the indexes at which I want to put yticks\n",
    "label_y = [ '{:.2f}'.format(x) for x in y[where_ytiks]] # value of y axis at index where_yticks\n",
    "\n",
    "fig.canvas.layout.height = '900px'\n",
    "fig.colorbar(c, ax=ax1)\n",
    "fig.colorbar(d, ax=ax2)\n",
    "\n",
    "ax1.set_xlabel(r'$\\tau$')\n",
    "ax1.set_ylabel(r'eV')\n",
    "ax1.set_xticks(where_xtiks)\n",
    "ax1.set_xticklabels(delays_fs)\n",
    "ax1.set_yticks(where_ytiks)\n",
    "ax1.set_yticklabels(label_y)\n",
    "ax1.set_title('Row data')\n",
    "\n",
    "ax2.set_xlabel(r'$\\tau$')\n",
    "ax2.set_ylabel(r'eV')\n",
    "ax2.set_xticks(where_xtiks)\n",
    "ax2.set_xticklabels(delays_fs)\n",
    "ax2.set_yticks(where_ytiks)\n",
    "ax2.set_yticklabels(label_y)\n",
    "ax2.set_title('interpolated')\n",
    "\n",
    "fig.tight_layout()"
   ]
  },
  {
   "cell_type": "code",
   "execution_count": 29,
   "metadata": {},
   "outputs": [],
   "source": [
    "# This passes the vector in gnuplot format\n",
    "\n",
    "if False:\n",
    "    xL, yL = vector.shape\n",
    "    print(vector.shape)\n",
    "    xs = np.arange(xL)\n",
    "    ys = np.arange(yL)\n",
    "    output_file = '/home/alessio/Desktop/vectorGnup'\n",
    "\n",
    "    with open(output_file,'w') as out:\n",
    "        for x in xs:\n",
    "            for y in ys:\n",
    "                out.write('{} {} {}\\n'.format(x,y,vector[x,y]))\n",
    "            out.write('\\n')\n",
    "\n"
   ]
  },
  {
   "cell_type": "markdown",
   "metadata": {},
   "source": [
    "# UVz Transient Absorption"
   ]
  },
  {
   "cell_type": "code",
   "execution_count": 30,
   "metadata": {},
   "outputs": [
    {
     "name": "stdout",
     "output_type": "stream",
     "text": [
      "['/home/alessio/w-August-Run/d-UVz-Pump-Probe-1860_0000', '/home/alessio/w-August-Run/d-UVz-Pump-Probe-2248_0000', '/home/alessio/w-August-Run/d-UVz-Pump-Probe-2401_0000', '/home/alessio/w-August-Run/d-UVz-Pump-Probe-2563_0000', '/home/alessio/w-August-Run/d-UVz-Pump-Probe-3059_0000']\n"
     ]
    }
   ],
   "source": [
    "root = '/home/alessio/w-August-Run/'\n",
    "pump = 'u-target-2-3-only_0000'\n",
    "folders = sorted(glob.glob('/home/alessio/w-August-Run/d-UVz-Pump-Probe*'))\n",
    "print(folders)\n",
    "delays_au = [ -float(re.findall(\"[-+]?[.]?[\\d]+(?:,\\d\\d\\d)*[\\.]?\\d*(?:[eE][-+]?\\d+)?\", s)[0]) for s in folders]"
   ]
  },
  {
   "cell_type": "code",
   "execution_count": 31,
   "metadata": {},
   "outputs": [
    {
     "data": {
      "application/vnd.jupyter.widget-view+json": {
       "model_id": "a0dfd95f60274b2dbbc8bbe5221395ce",
       "version_major": 2,
       "version_minor": 0
      },
      "text/plain": [
       "HBox(children=(IntProgress(value=0, max=5), HTML(value='')))"
      ]
     },
     "metadata": {},
     "output_type": "display_data"
    },
    {
     "name": "stdout",
     "output_type": "stream",
     "text": [
      "out 1041: 52.052093896922685 --- dip 1040: 51.949994544975176\n",
      "out 1216: 60.810859696815726 --- dip 1214: 60.64999363135964\n",
      "out 1252: 62.61266294707944 --- dip 1250: 62.44999344233573\n",
      "out 1276: 63.813865113921906 --- dip 1275: 63.699993311069136\n",
      "out 1475: 73.77383308065744 --- dip 1474: 73.64999226618698\n",
      "\n"
     ]
    }
   ],
   "source": [
    "graph = False\n",
    "all_of_the_2_3 = []\n",
    "all_of_the_TOT = []\n",
    "all_the_freq = []\n",
    "\n",
    "for this_one in tqdm(folders):\n",
    "    freq_dipole_eV, S_W_tot_component, S_W_tot = process_pump_probe_folder(root, pump, os.path.basename(this_one), 'y', do_graph = graph, select=['trans_y_2_3'])\n",
    "    all_of_the_2_3.append(S_W_tot_component)\n",
    "    all_of_the_TOT.append(S_W_tot)\n",
    "    all_the_freq.append(freq_dipole_eV)"
   ]
  },
  {
   "cell_type": "code",
   "execution_count": 32,
   "metadata": {},
   "outputs": [],
   "source": [
    "# save in files\n",
    "folder_output = '/STORE/alessio/things/dox/Alessio-Francoise/Results_MD_October2019/Transient_absorption/UVz'\n",
    "if False:\n",
    "    appended_vectors = [all_of_the_TOT, all_of_the_2_3]\n",
    "    vector_labels = ['ALL','2_3_component']\n",
    "\n",
    "    delays_fs = [ '{:.1f}'.format(qp.fromAuToFs(x)) for x in delays_au ]\n",
    "    energies_vector = np.array(all_the_freq[0])\n",
    "\n",
    "    for i, this_label in enumerate(vector_labels):\n",
    "        all_freq = np.array(appended_vectors[i])\n",
    "        df = pd.DataFrame(all_freq.T, index=energies_vector, columns=delays_fs)\n",
    "        df.index.name = 'Freq eV'\n",
    "        output_name = os.path.join(folder_output, 'Transient_abs_spectra_UVz_{}.txt'.format(this_label))\n",
    "        df.to_csv(output_name)\n",
    "        print('File {} written...'.format(output_name))"
   ]
  },
  {
   "cell_type": "code",
   "execution_count": 34,
   "metadata": {},
   "outputs": [
    {
     "data": {
      "application/vnd.jupyter.widget-view+json": {
       "model_id": "a0e48487ccb74aaaaa7633d21a07c222",
       "version_major": 2,
       "version_minor": 0
      },
      "text/plain": [
       "Canvas(toolbar=Toolbar(toolitems=[('Home', 'Reset original view', 'home', 'home'), ('Back', 'Back to previous …"
      ]
     },
     "metadata": {},
     "output_type": "display_data"
    }
   ],
   "source": [
    "from matplotlib import cm\n",
    "\n",
    "cmap = 'hot'#'hsv'\n",
    "viridis = cm.get_cmap(cmap,12)\n",
    "color_map = viridis(np.linspace(0,1, len(delays_au)+2))\n",
    "\n",
    "fig, ax0 = plt.subplots(1,1,figsize = (10,6))\n",
    "ax1 = ax0.twinx()\n",
    "\n",
    "how_many = len(delays_au)\n",
    "\n",
    "for i,(x,y,z) in enumerate(zip(all_the_freq[:how_many], all_of_the_1_0[:how_many], all_of_the_TOT[:how_many])):\n",
    "    ax0.plot(x,y, label=delays_fs[i], ls=':', color=color_map[i])\n",
    "    ax1.plot(x,z, color=color_map[i])\n",
    "\n",
    "ax0.set_xlim(0,10)    \n",
    "ax1.set_xlim(0,10)    \n",
    "\n",
    "ax0.legend()\n",
    "ax0.set_xlabel('eV')\n",
    "fig.tight_layout()"
   ]
  },
  {
   "cell_type": "code",
   "execution_count": 35,
   "metadata": {},
   "outputs": [
    {
     "data": {
      "text/plain": [
       "((5, 5000), (5000,), 5, (5, 5000), ['65.0', '67.5', '70.0', '72.5', '75.0'])"
      ]
     },
     "execution_count": 35,
     "metadata": {},
     "output_type": "execute_result"
    }
   ],
   "source": [
    "together = np.stack(all_of_the_1_0, axis=0)\n",
    "together2 = np.stack(all_of_the_TOT, axis=0)\n",
    "\n",
    "pp_runs = zip(folders,delays_fs)\n",
    "together.shape, freq_dipole_eV.shape, len(list(pp_runs)), together2.shape, delays_fs"
   ]
  },
  {
   "cell_type": "code",
   "execution_count": 41,
   "metadata": {},
   "outputs": [
    {
     "name": "stderr",
     "output_type": "stream",
     "text": [
      "/home/alessio/config/quantumpropagator/lib/python3.6/site-packages/ipykernel_launcher.py:11: RuntimeWarning: More than 20 figures have been opened. Figures created through the pyplot interface (`matplotlib.pyplot.figure`) are retained until explicitly closed and may consume too much memory. (To control this warning, see the rcParam `figure.max_open_warning`).\n",
      "  # This is added back by InteractiveShellApp.init_path()\n"
     ]
    },
    {
     "data": {
      "application/vnd.jupyter.widget-view+json": {
       "model_id": "33026cc00efb4f199fb0ce8eb83765fc",
       "version_major": 2,
       "version_minor": 0
      },
      "text/plain": [
       "Canvas(toolbar=Toolbar(toolitems=[('Home', 'Reset original view', 'home', 'home'), ('Back', 'Back to previous …"
      ]
     },
     "metadata": {},
     "output_type": "display_data"
    }
   ],
   "source": [
    "vector_not_cut = together\n",
    "\n",
    "cut_from = 0\n",
    "cut_at = 120\n",
    "\n",
    "vector = vector_not_cut[:,cut_from:cut_at]\n",
    "y = freq_dipole_eV[cut_from:cut_at]\n",
    "\n",
    "_, vector_y_dim = vector.shape\n",
    "\n",
    "fig, [ ax1, ax2 ] = plt.subplots(1,2,figsize = (10,6))\n",
    "z_min, z_max = -np.abs(vector).max(), np.abs(vector).max()\n",
    "\n",
    "inter = 'none' # 'lanczos','none','gaussian','bilinear' 'spline16'\n",
    "inter2 = 'lanczos'\n",
    "# I put the c variable to set colorbar\n",
    "c = ax1.imshow(vector.T, interpolation=inter, cmap='RdBu', aspect='auto', origin='lower', vmin=z_min, vmax=z_max)\n",
    "\n",
    "d = ax2.imshow(vector.T, interpolation=inter2, cmap='RdBu', aspect='auto', origin='lower', vmin=z_min, vmax=z_max)\n",
    "\n",
    "# this is easy because I want to put a label for each field I have\n",
    "where_xtiks = range(len(delays_fs))\n",
    "label_x = delays_fs\n",
    "\n",
    "# this is more cumbersome, as I want to put a limited amount of tiks into the y axis.\n",
    "how_many_y_ticks = 7 # how many I want\n",
    "where_ytiks =  range(0,vector_y_dim,int((vector_y_dim/(how_many_y_ticks-1)))) # this are the indexes at which I want to put yticks\n",
    "label_y = [ '{:.2f}'.format(x) for x in y[where_ytiks]] # value of y axis at index where_yticks\n",
    "\n",
    "fig.canvas.layout.height = '900px'\n",
    "fig.colorbar(c, ax=ax1)\n",
    "fig.colorbar(d, ax=ax2)\n",
    "\n",
    "ax1.set_xlabel(r'$\\tau$')\n",
    "ax1.set_ylabel(r'eV')\n",
    "ax1.set_xticks(where_xtiks)\n",
    "ax1.set_xticklabels(delays_fs)\n",
    "ax1.set_yticks(where_ytiks)\n",
    "ax1.set_yticklabels(label_y)\n",
    "ax1.set_title('Row data')\n",
    "\n",
    "ax2.set_xlabel(r'$\\tau$')\n",
    "ax2.set_ylabel(r'eV')\n",
    "ax2.set_xticks(where_xtiks)\n",
    "ax2.set_xticklabels(delays_fs)\n",
    "ax2.set_yticks(where_ytiks)\n",
    "ax2.set_yticklabels(label_y)\n",
    "ax2.set_title('interpolated')\n",
    "\n",
    "fig.tight_layout()"
   ]
  },
  {
   "cell_type": "code",
   "execution_count": 42,
   "metadata": {},
   "outputs": [
    {
     "name": "stderr",
     "output_type": "stream",
     "text": [
      "/home/alessio/config/quantumpropagator/lib/python3.6/site-packages/ipykernel_launcher.py:11: RuntimeWarning: More than 20 figures have been opened. Figures created through the pyplot interface (`matplotlib.pyplot.figure`) are retained until explicitly closed and may consume too much memory. (To control this warning, see the rcParam `figure.max_open_warning`).\n",
      "  # This is added back by InteractiveShellApp.init_path()\n"
     ]
    },
    {
     "data": {
      "application/vnd.jupyter.widget-view+json": {
       "model_id": "061ffe1d6efb4e11b74ee558d4e8d5da",
       "version_major": 2,
       "version_minor": 0
      },
      "text/plain": [
       "Canvas(toolbar=Toolbar(toolitems=[('Home', 'Reset original view', 'home', 'home'), ('Back', 'Back to previous …"
      ]
     },
     "metadata": {},
     "output_type": "display_data"
    },
    {
     "name": "stderr",
     "output_type": "stream",
     "text": [
      "/home/alessio/config/quantumpropagator/lib/python3.6/site-packages/ipykernel_launcher.py:51: UserWarning: Tight layout not applied. tight_layout cannot make axes width small enough to accommodate all axes decorations\n"
     ]
    }
   ],
   "source": [
    "vector_not_cut = together2\n",
    "\n",
    "cut_from = 0\n",
    "cut_at = 120\n",
    "\n",
    "vector = vector_not_cut[:,cut_from:cut_at]\n",
    "y = freq_dipole_eV[cut_from:cut_at]\n",
    "\n",
    "_, vector_y_dim = vector.shape\n",
    "\n",
    "fig, [ ax1, ax2 ] = plt.subplots(1,2,figsize = (2,6))\n",
    "z_min, z_max = -np.abs(vector).max(), np.abs(vector).max()\n",
    "\n",
    "# https://matplotlib.org/3.1.1/gallery/images_contours_and_fields/interpolation_methods.html\n",
    "inter = 'none' # 'lanczos'   'none'  'gaussian' 'bilinear'\n",
    "inter2 = 'spline16'\n",
    "# I put the c variable to set colorbar\n",
    "c = ax1.imshow(vector.T, interpolation=inter, cmap='RdBu', aspect='auto', origin='lower', vmin=z_min, vmax=z_max)\n",
    "\n",
    "d = ax2.imshow(vector.T, interpolation=inter2, cmap='RdBu', aspect='auto', origin='lower', vmin=z_min, vmax=z_max)\n",
    "\n",
    "# this is easy because I want to put a label for each field I have\n",
    "where_xtiks = range(len(delays_fs))\n",
    "label_x = delays_fs\n",
    "\n",
    "# this is more cumbersome, as I want to put a limited amount of tiks into the y axis.\n",
    "how_many_y_ticks = 7 # how many I want\n",
    "where_ytiks =  range(0,vector_y_dim,int((vector_y_dim/(how_many_y_ticks-1)))) # this are the indexes at which I want to put yticks\n",
    "label_y = [ '{:.2f}'.format(x) for x in y[where_ytiks]] # value of y axis at index where_yticks\n",
    "\n",
    "fig.canvas.layout.height = '900px'\n",
    "fig.colorbar(c, ax=ax1)\n",
    "fig.colorbar(d, ax=ax2)\n",
    "\n",
    "ax1.set_xlabel(r'$\\tau$')\n",
    "ax1.set_ylabel(r'eV')\n",
    "ax1.set_xticks(where_xtiks)\n",
    "ax1.set_xticklabels(delays_fs)\n",
    "ax1.set_yticks(where_ytiks)\n",
    "ax1.set_yticklabels(label_y)\n",
    "ax1.set_title('Row data')\n",
    "\n",
    "ax2.set_xlabel(r'$\\tau$')\n",
    "ax2.set_ylabel(r'eV')\n",
    "ax2.set_xticks(where_xtiks)\n",
    "ax2.set_xticklabels(delays_fs)\n",
    "ax2.set_yticks(where_ytiks)\n",
    "ax2.set_yticklabels(label_y)\n",
    "ax2.set_title('interpolated')\n",
    "\n",
    "fig.tight_layout()"
   ]
  },
  {
   "cell_type": "code",
   "execution_count": null,
   "metadata": {},
   "outputs": [],
   "source": []
  },
  {
   "cell_type": "markdown",
   "metadata": {},
   "source": [
    "# OLD PUMP-PROBE-RUN"
   ]
  },
  {
   "cell_type": "code",
   "execution_count": 14,
   "metadata": {},
   "outputs": [
    {
     "data": {
      "application/vnd.jupyter.widget-view+json": {
       "model_id": "8e394993b77e4851865b46799417be81",
       "version_major": 2,
       "version_minor": 0
      },
      "text/plain": [
       "HBox(children=(IntProgress(value=0, max=12), HTML(value='')))"
      ]
     },
     "metadata": {},
     "output_type": "display_data"
    },
    {
     "name": "stdout",
     "output_type": "stream",
     "text": [
      "\n"
     ]
    }
   ],
   "source": [
    "all_probes_folders = sorted(glob.glob(root + 'o-UV*'))\n",
    "\n",
    "delays = [68.0,68.2,68.4,68.6,68.8,69.0,69.2,69.4,69.6,69.8,70.0,70.2,70.4,64.0,65.0,66.0,67.0,71.0,72.0,73.0,74.0,75.0]\n",
    "\n",
    "\n",
    "graph = False\n",
    "all_of_the_1_0 = []\n",
    "all_of_the_TOT = []\n",
    "all_the_freq = []\n",
    "\n",
    "all_probes_folders_selected = all_probes_folders[13:17] + [ all_probes_folders[0], all_probes_folders[5], all_probes_folders[10] ] + all_probes_folders[17:]\n",
    "\n",
    "for this_one in tqdm(all_probes_folders_selected):\n",
    "    freq_dipole_eV, S_W_tot_component, S_W_tot = process_pump_probe_folder(root, pump, os.path.basename(this_one), do_graph = graph)\n",
    "    all_of_the_1_0.append(S_W_tot_component)\n",
    "    all_of_the_TOT.append(S_W_tot)\n",
    "    all_the_freq.append(freq_dipole_eV)\n"
   ]
  },
  {
   "cell_type": "code",
   "execution_count": 15,
   "metadata": {},
   "outputs": [
    {
     "data": {
      "application/vnd.jupyter.widget-view+json": {
       "model_id": "",
       "version_major": 2,
       "version_minor": 0
      },
      "text/plain": [
       "Canvas(toolbar=Toolbar(toolitems=[('Home', 'Reset original view', 'home', 'home'), ('Back', 'Back to previous …"
      ]
     },
     "metadata": {},
     "output_type": "display_data"
    }
   ],
   "source": [
    "from matplotlib import cm\n",
    "\n",
    "delays = [64.0,65.0,66.0,67.0,68.0,69.0,70.0,71.0,72.0,73.0,74.0,75.0]\n",
    "\n",
    "cmap = 'hot'#'hsv'\n",
    "viridis = cm.get_cmap(cmap,12)\n",
    "color_map = viridis(np.linspace(0,1, len(delays)+2))\n",
    "\n",
    "fig, ax0 = plt.subplots(1,1,figsize = (10,6))\n",
    "ax1 = ax0.twinx()\n",
    "\n",
    "how_many = len(delays)\n",
    "\n",
    "for i,(x,y,z) in enumerate(zip(all_the_freq[:how_many], all_of_the_1_0[:how_many], all_of_the_TOT[:how_many])):\n",
    "    ax0.plot(x,y, label=delays[i], ls=':', color=color_map[i])\n",
    "    ax1.plot(x,z, color=color_map[i])\n",
    "\n",
    "ax0.set_xlim(0.3,0.8)    \n",
    "ax1.set_xlim(0.3,0.8)    \n",
    "\n",
    "ax0.legend()\n",
    "ax0.set_xlabel('eV')\n",
    "fig.tight_layout()"
   ]
  },
  {
   "cell_type": "code",
   "execution_count": 16,
   "metadata": {},
   "outputs": [
    {
     "data": {
      "text/plain": [
       "((12, 5000), (5000,), 12, (12, 5000))"
      ]
     },
     "execution_count": 16,
     "metadata": {},
     "output_type": "execute_result"
    }
   ],
   "source": [
    "together = np.stack(all_of_the_1_0, axis=0)\n",
    "together2 = np.stack(all_of_the_TOT, axis=0)\n",
    "\n",
    "pp_runs = zip(all_probes_folders_selected,delays)\n",
    "together.shape, freq_dipole_eV.shape, len(list(pp_runs)), together2.shape"
   ]
  },
  {
   "cell_type": "code",
   "execution_count": 17,
   "metadata": {},
   "outputs": [
    {
     "data": {
      "application/vnd.jupyter.widget-view+json": {
       "model_id": "",
       "version_major": 2,
       "version_minor": 0
      },
      "text/plain": [
       "Canvas(toolbar=Toolbar(toolitems=[('Home', 'Reset original view', 'home', 'home'), ('Back', 'Back to previous …"
      ]
     },
     "metadata": {},
     "output_type": "display_data"
    }
   ],
   "source": [
    "vector = together\n",
    "cut_ev = 250\n",
    "\n",
    "fig, ax = plt.subplots(1,1,figsize = (2,6))\n",
    "z_min, z_max = -np.abs(vector).max(), np.abs(vector).max()\n",
    "\n",
    "y, x = np.meshgrid(freq_dipole_eV[:cut_ev],delays)\n",
    "\n",
    "c = ax.pcolormesh(x,y, vector[:,:cut_ev], cmap='RdBu', vmin=z_min, vmax=z_max)\n",
    "fig.canvas.layout.height = '900px'\n",
    "fig.colorbar(c, ax=ax)\n",
    "ax.set_xlabel(r'$\\tau$')\n",
    "ax.set_ylabel(r'eV')\n",
    "fig.tight_layout()"
   ]
  },
  {
   "cell_type": "code",
   "execution_count": 18,
   "metadata": {},
   "outputs": [
    {
     "data": {
      "application/vnd.jupyter.widget-view+json": {
       "model_id": "",
       "version_major": 2,
       "version_minor": 0
      },
      "text/plain": [
       "Canvas(toolbar=Toolbar(toolitems=[('Home', 'Reset original view', 'home', 'home'), ('Back', 'Back to previous …"
      ]
     },
     "metadata": {},
     "output_type": "display_data"
    }
   ],
   "source": [
    "vector = together2\n",
    "cut_ev = 250\n",
    "\n",
    "fig, ax = plt.subplots(1,1,figsize = (2,6))\n",
    "z_min, z_max = -np.abs(vector).max(), np.abs(vector).max()\n",
    "#z_min, z_max = -10,10\n",
    "\n",
    "y_axis = freq_dipole_eV[:cut_ev]\n",
    "x_axis = delays\n",
    "z_axis = vector[:,:cut_ev]\n",
    "\n",
    "y, x = np.meshgrid(freq_dipole_eV[:cut_ev],delays)\n",
    "\n",
    "\n",
    "c = ax.pcolormesh(x,y, vector[:,:cut_ev], cmap='RdBu', vmin=z_min, vmax=z_max)\n",
    "fig.canvas.layout.height = '900px'\n",
    "fig.colorbar(c, ax=ax)\n",
    "ax.set_xlabel(r'$\\tau$')\n",
    "ax.set_ylabel(r'eV')\n",
    "# ax.set_ylim(0.3,0.8)\n",
    "\n",
    "fig.tight_layout()"
   ]
  }
 ],
 "metadata": {
  "kernelspec": {
   "display_name": "Python 3",
   "language": "python",
   "name": "python3"
  },
  "language_info": {
   "codemirror_mode": {
    "name": "ipython",
    "version": 3
   },
   "file_extension": ".py",
   "mimetype": "text/x-python",
   "name": "python",
   "nbconvert_exporter": "python",
   "pygments_lexer": "ipython3",
   "version": "3.6.8"
  }
 },
 "nbformat": 4,
 "nbformat_minor": 4
}
