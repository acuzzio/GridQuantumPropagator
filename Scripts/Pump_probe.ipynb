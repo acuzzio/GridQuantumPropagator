{
 "cells": [
  {
   "cell_type": "code",
   "execution_count": 21,
   "metadata": {},
   "outputs": [],
   "source": [
    "import quantumpropagator as qp\n",
    "import matplotlib.pyplot as plt\n",
    "import matplotlib\n",
    "from ipywidgets import interact,fixed #, interactive, fixed, interact_manual\n",
    "import ipywidgets as widgets\n",
    "from tqdm import tqdm_notebook as tqdm\n",
    "\n",
    "import os\n",
    "import sys\n",
    "import glob\n",
    "import pandas as pd\n",
    "import numpy as np\n",
    "\n",
    "%matplotlib ipympl\n",
    "\n",
    "plt.rcParams.update({'font.size': 12})"
   ]
  },
  {
   "cell_type": "code",
   "execution_count": 22,
   "metadata": {},
   "outputs": [],
   "source": [
    "%matplotlib ipympl\n",
    "def read_dipole_file(dipole_file_path):\n",
    "    nstates = 8\n",
    "    permanents = []\n",
    "    transitions = []\n",
    "\n",
    "    for lab1 in ['x','y','z']:\n",
    "        for lab2 in range(nstates):\n",
    "            permanents.append('perm_{}_{}'.format(lab1,lab2))\n",
    "            for lab3 in range(lab2+1,nstates):\n",
    "                transitions.append('trans_{}_{}_{}'.format(lab1,lab2,lab3))\n",
    "                \n",
    "    all_labels = ['fs_2','dipx','dipy','dipz'] +  permanents + transitions\n",
    "    df_dipo_pump = pd.read_csv(dipole_file_path, delim_whitespace=True, names=all_labels)\n",
    "    return(df_dipo_pump)\n",
    "\n",
    "def copy_paste_output(pump_df,probe_df, out_name):\n",
    "    '''\n",
    "    This function takes a pump and a probe run and returns a new dataframe with pump_probe pasted together\n",
    "    '''\n",
    "    fs_cut = probe_df['fs'].iloc[0]\n",
    "    # the index on the pump sheet is where the first fs value of the probe is.\n",
    "    index_cut = pump_df.index[pump_df['fs'] == fs_cut][0]\n",
    "    pump_cut = pump_df.iloc[:index_cut]\n",
    "    final_paper = pd.concat((pump_cut,probe_df))\n",
    "    final_paper.to_csv(out_name)\n",
    "    return(final_paper)\n",
    "\n",
    "def copy_paste_dipos(pump_df_d,probe_df_d, out_name):\n",
    "    '''\n",
    "    This function takes a pump and a probe run and returns a new dataframe with pump_probe pasted together\n",
    "    '''\n",
    "    fs_cut = probe_df_d['fs_2'].iloc[0]\n",
    "    # the index on the pump sheet is where the first fs value of the probe is.\n",
    "    index_cut = pump_df_d.index[pump_df_d['fs_2'] == fs_cut][0]\n",
    "    pump_cut = pump_df_d.iloc[:index_cut]\n",
    "    final_paper = pd.concat((pump_cut,probe_df_d))\n",
    "    final_paper.to_csv(out_name)\n",
    "    return(final_paper)\n",
    "\n",
    "def pythonfft(signal_time,signal,pad_length):\n",
    "    aaa = np.fft.fft(np.pad(signal,(0,pad_length)))\n",
    "    time_au = qp.fromFsToAu(signal_time)\n",
    "    dt = time_au[1]- time_au[0]\n",
    "    bb = np.fft.fftfreq(time_au.size + pad_length)\n",
    "\n",
    "    time_au_max = np.amax(time_au)\n",
    "    bbb = qp.fromHartoEv(bb*2*np.pi/dt)\n",
    "    indexes = np.where(bb>=0)\n",
    "    return(bbb[indexes],aaa[indexes])\n"
   ]
  },
  {
   "cell_type": "code",
   "execution_count": 23,
   "metadata": {},
   "outputs": [],
   "source": [
    "root = '/home/alessio/w-August-Run/'\n",
    "pump = 'b-UV-0.22_0000'\n",
    "probe = 'y-probe-UV_0000'\n",
    "\n",
    "fol_pump = os.path.join(root, pump)\n",
    "fol_probe = os.path.join(root, probe)\n",
    "output_norm_pump = os.path.join(fol_pump, 'output')\n",
    "output_dipo_pump = os.path.join(fol_pump, 'Output_Dipole')\n",
    "output_norm_probe = os.path.join(fol_probe, 'output')\n",
    "output_dipo_probe = os.path.join(fol_probe, 'Output_Dipole')\n",
    "\n",
    "df_norm2_pump = pd.read_csv(output_norm_pump, delim_whitespace=True, index_col=0, names=['counter', 'steps', 'fs','Norm deviation','Kinetic','Potential','Total','Total Deviation','Xpulse','Ypulse','Zpulse','AbZino'])\n",
    "df_norm2_probe = pd.read_csv(output_norm_probe, delim_whitespace=True, index_col=0, names=['counter', 'steps', 'fs','Norm deviation','Kinetic','Potential','Total','Total Deviation','Xpulse','Ypulse','Zpulse','AbZino'])\n",
    "\n",
    "df_dipo_pump = read_dipole_file(output_dipo_pump)\n",
    "df_dipo_probe = read_dipole_file(output_dipo_probe)\n",
    "\n",
    "ppname = os.path.join('/home/alessio/w-August-Run/','{}_{}.csv'.format(pump,probe))\n",
    "ppname_dip = os.path.join('/home/alessio/w-August-Run/','{}_{}_dipole.csv'.format(pump,probe))\n",
    "\n",
    "df1 = copy_paste_output(df_norm2_pump, df_norm2_probe, ppname)\n",
    "dip1 = copy_paste_dipos(df_dipo_pump, df_dipo_probe, ppname_dip)"
   ]
  },
  {
   "cell_type": "code",
   "execution_count": 24,
   "metadata": {},
   "outputs": [],
   "source": [
    "# cut the shortest, please\n",
    "(df1.shape, dip1.shape)\n",
    "num1, _ = df1.shape\n",
    "num2, _ = dip1.shape\n",
    "cut_here = np.amin([num1,num2])\n",
    "df = df1[:cut_here]\n",
    "dip = dip1[:cut_here]"
   ]
  },
  {
   "cell_type": "code",
   "execution_count": 25,
   "metadata": {},
   "outputs": [
    {
     "data": {
      "application/vnd.jupyter.widget-view+json": {
       "model_id": "0f9ee3075abd42cca65f4366d51d636b",
       "version_major": 2,
       "version_minor": 0
      },
      "text/plain": [
       "Canvas(toolbar=Toolbar(toolitems=[('Home', 'Reset original view', 'home', 'home'), ('Back', 'Back to previous …"
      ]
     },
     "metadata": {},
     "output_type": "display_data"
    }
   ],
   "source": [
    "x = df['fs']\n",
    "\n",
    "pulsex = df['Xpulse']\n",
    "pulsey = df['Ypulse']\n",
    "pulsez = df['Zpulse']\n",
    "\n",
    "together = np.stack((pulsex,pulsey,pulsez), axis=1)\n",
    "y = np.sum(together,axis=1)\n",
    "\n",
    "fig, ax0 = plt.subplots(1,1,figsize = (10,6))\n",
    "ax0.plot(x,y)\n",
    "ax0.set_xlabel('fs')\n",
    "fig.tight_layout()"
   ]
  },
  {
   "cell_type": "code",
   "execution_count": 26,
   "metadata": {},
   "outputs": [
    {
     "data": {
      "application/vnd.jupyter.widget-view+json": {
       "model_id": "5325a4b574104059bb7c49facdf3f084",
       "version_major": 2,
       "version_minor": 0
      },
      "text/plain": [
       "Canvas(toolbar=Toolbar(toolitems=[('Home', 'Reset original view', 'home', 'home'), ('Back', 'Back to previous …"
      ]
     },
     "metadata": {},
     "output_type": "display_data"
    }
   ],
   "source": [
    "pad_length = 10000\n",
    "\n",
    "freq, signal_fft = pythonfft(np.array(x),np.array(y),pad_length)\n",
    "fig, ax0 = plt.subplots(1,1,figsize = (10,6))\n",
    "#ax0.plot(freq, signal_fft)\n",
    "ax0.plot(freq, np.real(signal_fft))\n",
    "ax0.plot(freq, np.imag(signal_fft))\n",
    "ax0.set_xlim(0,10)\n",
    "ax0.set_xlabel('eV')\n",
    "\n",
    "fig.tight_layout()"
   ]
  },
  {
   "cell_type": "code",
   "execution_count": 7,
   "metadata": {},
   "outputs": [
    {
     "data": {
      "application/vnd.jupyter.widget-view+json": {
       "model_id": "",
       "version_major": 2,
       "version_minor": 0
      },
      "text/plain": [
       "Canvas(toolbar=Toolbar(toolitems=[('Home', 'Reset original view', 'home', 'home'), ('Back', 'Back to previous …"
      ]
     },
     "metadata": {},
     "output_type": "display_data"
    },
    {
     "data": {
      "application/vnd.jupyter.widget-view+json": {
       "model_id": "",
       "version_major": 2,
       "version_minor": 0
      },
      "text/plain": [
       "Canvas(toolbar=Toolbar(toolitems=[('Home', 'Reset original view', 'home', 'home'), ('Back', 'Back to previous …"
      ]
     },
     "metadata": {},
     "output_type": "display_data"
    },
    {
     "data": {
      "application/vnd.jupyter.widget-view+json": {
       "model_id": "",
       "version_major": 2,
       "version_minor": 0
      },
      "text/plain": [
       "Canvas(toolbar=Toolbar(toolitems=[('Home', 'Reset original view', 'home', 'home'), ('Back', 'Back to previous …"
      ]
     },
     "metadata": {},
     "output_type": "display_data"
    },
    {
     "data": {
      "application/vnd.jupyter.widget-view+json": {
       "model_id": "",
       "version_major": 2,
       "version_minor": 0
      },
      "text/plain": [
       "Canvas(toolbar=Toolbar(toolitems=[('Home', 'Reset original view', 'home', 'home'), ('Back', 'Back to previous …"
      ]
     },
     "metadata": {},
     "output_type": "display_data"
    },
    {
     "data": {
      "application/vnd.jupyter.widget-view+json": {
       "model_id": "",
       "version_major": 2,
       "version_minor": 0
      },
      "text/plain": [
       "Canvas(toolbar=Toolbar(toolitems=[('Home', 'Reset original view', 'home', 'home'), ('Back', 'Back to previous …"
      ]
     },
     "metadata": {},
     "output_type": "display_data"
    }
   ],
   "source": [
    "plt.close('all')\n",
    "\n",
    "pad_length = 10000\n",
    "\n",
    "xx = dip['fs_2']\n",
    "x = df['fs']\n",
    "\n",
    "#for ylabel in ['dipx', 'dipy', 'dipz','trans_x_0_1']:\n",
    "for ylabel in ['dipx', 'dipy', 'dipz', 'trans_x_0_1', 'trans_z_0_1']: # threshold component also.\n",
    "    pulsex = df['Xpulse']\n",
    "    pulsey = df['Ypulse']\n",
    "    pulsez = df['Zpulse']\n",
    "\n",
    "    together = np.stack((pulsex,pulsey,pulsez), axis=1)\n",
    "    y = np.sum(together, axis=1)\n",
    "    \n",
    "    yy = dip[ylabel]\n",
    "\n",
    "    freq_dip, signal_fft_dip = pythonfft(np.array(xx),np.array(yy),pad_length)\n",
    "\n",
    "    fig, [[ax0, ax1], [ax2, ax3], [ax4, ax5]] = plt.subplots(3,2,figsize = (10,6))\n",
    "    #ax0.plot(freq_dip, signal_fft_dip)\n",
    "\n",
    "        \n",
    "    ax0.plot(xx,yy)\n",
    "    ax0.set_xlim(0,100)\n",
    "    ax0.set_xlabel('fs')\n",
    "    ax0.set_title('{} - signal'.format(ylabel))\n",
    "\n",
    "    ax2.plot(freq, np.real(signal_fft_dip))\n",
    "    ax2.plot(freq, np.imag(signal_fft_dip))\n",
    "    ax2.set_xlim(0,10)\n",
    "    ax2.set_xlabel('eV')\n",
    "    ax2.set_title('{} - FT'.format(ylabel))\n",
    "    \n",
    "    ax1.plot(x,y)\n",
    "    ax1.set_xlabel('fs')\n",
    "    ax1.set_title('{} - Pulse'.format(ylabel))\n",
    "    \n",
    "    freq, signal_fft = pythonfft(np.array(x),np.array(y),pad_length)\n",
    "    ax3.plot(freq, np.real(signal_fft))\n",
    "    ax3.plot(freq, np.imag(signal_fft))\n",
    "    ax3.set_xlim(0,10)\n",
    "    ax3.set_xlabel('eV')\n",
    "    ax3.set_title('{} - Pulse FFT'.format(ylabel))\n",
    "    \n",
    "    S_W = -2 * np.imag(np.conj(signal_fft) * signal_fft_dip)\n",
    "    ax4.plot(freq_dip, S_W)\n",
    "    ax4.set_xlim(0,10)\n",
    "    ax4.set_xlabel('eV')\n",
    "    ax4.set_title('{} - Transient Absorption Spectra'.format(ylabel))\n",
    "\n",
    "    #fig.suptitle(ylabel)\n",
    "    fig.canvas.layout.height = '900px'\n",
    "    fig.tight_layout()"
   ]
  },
  {
   "cell_type": "markdown",
   "metadata": {},
   "source": [
    "# graph and save the big components"
   ]
  },
  {
   "cell_type": "code",
   "execution_count": 8,
   "metadata": {},
   "outputs": [
    {
     "name": "stdout",
     "output_type": "stream",
     "text": [
      "/home/alessio/w-August-Run/OUTPUTS/b-UV-0.22_0000_y-probe-UV_0000.csv\n"
     ]
    }
   ],
   "source": [
    "outputFolder = '/home/alessio/w-August-Run/OUTPUTS'\n",
    "name_output = os.path.join(outputFolder,'{}_{}.csv'.format(pump,probe))\n",
    "print(name_output)"
   ]
  },
  {
   "cell_type": "code",
   "execution_count": 9,
   "metadata": {},
   "outputs": [
    {
     "data": {
      "application/vnd.jupyter.widget-view+json": {
       "model_id": "",
       "version_major": 2,
       "version_minor": 0
      },
      "text/plain": [
       "Canvas(toolbar=Toolbar(toolitems=[('Home', 'Reset original view', 'home', 'home'), ('Back', 'Back to previous …"
      ]
     },
     "metadata": {},
     "output_type": "display_data"
    },
    {
     "name": "stdout",
     "output_type": "stream",
     "text": [
      "['trans_x_0_1', 'trans_x_1_2', 'trans_x_1_3', 'trans_x_1_4']\n"
     ]
    },
    {
     "data": {
      "application/vnd.jupyter.widget-view+json": {
       "model_id": "",
       "version_major": 2,
       "version_minor": 0
      },
      "text/plain": [
       "Canvas(toolbar=Toolbar(toolitems=[('Home', 'Reset original view', 'home', 'home'), ('Back', 'Back to previous …"
      ]
     },
     "metadata": {},
     "output_type": "display_data"
    },
    {
     "name": "stdout",
     "output_type": "stream",
     "text": [
      "['perm_z_0', 'perm_z_1', 'trans_z_0_1', 'trans_z_1_4']\n"
     ]
    }
   ],
   "source": [
    "plt.close('all')\n",
    "\n",
    "colors = ['b', 'g', 'r', 'm', 'c', 'y', 'k', 'mediumpurple']\n",
    "pad_length = 10000\n",
    "nstates = 8\n",
    "permanents = []\n",
    "transitions = []\n",
    "\n",
    "fran_transition_time_sheet = pd.DataFrame()\n",
    "fran_transition_freq_sheet = pd.DataFrame()\n",
    "\n",
    "for lab1 in ['x','y','z']:\n",
    "    for lab2 in range(nstates):\n",
    "        permanents.append('perm_{}_{}'.format(lab1,lab2))\n",
    "        for lab3 in range(lab2+1,nstates):\n",
    "            transitions.append('trans_{}_{}_{}'.format(lab1,lab2,lab3))\n",
    "\n",
    "pulsex = df['Xpulse']\n",
    "pulsey = df['Ypulse']\n",
    "pulsez = df['Zpulse']\n",
    "\n",
    "fran_transition_time_sheet['Xpulse'] = pulsex\n",
    "fran_transition_time_sheet['Ypulse'] = pulsey\n",
    "fran_transition_time_sheet['Zpulse'] = pulsez\n",
    "\n",
    "for cart in ['x','z']:\n",
    "#for cart in ['x']:\n",
    "    timefs = dip['fs_2']\n",
    "    time = qp.fromFsToAu(timefs)\n",
    "    this_full_dipole = 'dip{}'.format(cart)\n",
    "    tot_signal = dip[this_full_dipole]\n",
    "    full_list_label = permanents + transitions\n",
    "    full_list_this_cart = [x for x in full_list_label if cart in x]\n",
    "    threshold = np.linalg.norm(tot_signal)*0.05 # 5% of the norm\n",
    "    big_components = [ x for x in full_list_this_cart if np.linalg.norm(dip[x]) > threshold or x in ['trans_x_0_1', 'trans_y_0_1', 'trans_z_0_1'] ] # the one which contributes more than 5% to the norm\n",
    "    \n",
    "    # make figure\n",
    "    #fig, [ax0, ax1, ax2, ax3] = plt.subplots(4,1,figsize = (10,6))\n",
    "    fig, [[ax0, ax1], [ax2, ax3], [ax4, ax5], [ax6, ax7]] = plt.subplots(4,2,figsize = (10,6))\n",
    "    \n",
    "    # PULSE PANEL\n",
    "    pulse_this = df['{}pulse'.format(cart.upper())]\n",
    "    ax0.plot(timefs,pulse_this)\n",
    "    \n",
    "    freq_pulse, pulse_fft = pythonfft(np.array(time),pulse_this,pad_length)\n",
    "    \n",
    "    pulse_fft_RE = np.real(pulse_fft)\n",
    "    pulse_fft_IM = np.imag(pulse_fft)\n",
    "    freq_pulse_eV = qp.fromHartoEv(freq_pulse)\n",
    "\n",
    "    # send to Francoise Spreadsheet\n",
    "    freq_label = 'Frequencies eV'  \n",
    "    if freq_label not in fran_transition_freq_sheet.columns:\n",
    "        fran_transition_freq_sheet[freq_label] = freq_pulse_eV\n",
    "    fran_transition_freq_sheet['{}_pulse_ft_real'.format(cart)] = pulse_fft_RE\n",
    "    fran_transition_freq_sheet['{}_pulse_ft_imag'.format(cart)] = pulse_fft_IM\n",
    "    \n",
    "    ax1.plot(freq_pulse_eV, pulse_fft_RE)\n",
    "    ax1.plot(freq_pulse_eV, pulse_fft_IM)\n",
    "    ax1.set_xlim(0,10)\n",
    "    \n",
    "    # DIPOLE PANEL\n",
    "    ax2.plot(timefs,tot_signal)\n",
    "    \n",
    "    freq_dipole_tot, fft_dipole_tot = pythonfft(np.array(time),tot_signal,pad_length)\n",
    "    freq_dipole_eV = qp.fromHartoEv(freq_dipole_tot)\n",
    "    dipole_total_fft_RE = np.real(fft_dipole_tot)\n",
    "    dipole_total_fft_IM = np.imag(fft_dipole_tot)\n",
    "    \n",
    "    # send to Francoise Spreadsheet\n",
    "    fran_transition_freq_sheet['{}_dipole_ft_real'.format(cart)] = pulse_fft_RE\n",
    "    fran_transition_freq_sheet['{}_dipole_ft_imag'.format(cart)] = pulse_fft_IM\n",
    "    \n",
    "    ax3.plot(freq_dipole_eV, dipole_total_fft_RE)\n",
    "    ax3.plot(freq_dipole_eV, dipole_total_fft_IM)\n",
    "    ax3.set_xlim(0,10)\n",
    "    \n",
    "    # first spectra\n",
    "    S_W_tot = -2 * np.imag(np.conj(pulse_fft) * fft_dipole_tot)\n",
    "    \n",
    "    fran_transition_freq_sheet['TA {}'.format(cart)] = S_W_tot\n",
    "    \n",
    "    ax6.plot(freq_dipole_eV, S_W_tot)\n",
    "    ax6.set_xlim(0,10)\n",
    "    \n",
    "    # COMPONENT PANEL\n",
    "    print(big_components)\n",
    "    for iii, component in enumerate(big_components):\n",
    "        comp_dip = dip[component]\n",
    "        ax4.plot(timefs,comp_dip, label = component, color=colors[iii])\n",
    "        \n",
    "        freq_component_tot, fft_component_tot = pythonfft(np.array(time), comp_dip, pad_length)\n",
    "        freq_component_eV = qp.fromHartoEv(freq_component_tot)\n",
    "        component_fft_RE = np.real(fft_component_tot)\n",
    "        component_fft_IM = np.imag(fft_component_tot)\n",
    "        \n",
    "        # send to Francoise Spreadsheet\n",
    "        fran_transition_freq_sheet['{}_{}_component_ft_real'.format(cart,component)] = component_fft_RE\n",
    "        fran_transition_freq_sheet['{}_{}_component_ft_imag'.format(cart,component)] = component_fft_IM    \n",
    "        \n",
    "        ax5.plot(freq_component_eV, component_fft_RE, color=colors[iii])\n",
    "        ax5.plot(freq_component_eV, component_fft_IM, color=colors[iii], ls=':')\n",
    "        ax5.set_xlim(0,10)\n",
    "        \n",
    "        # Spectra\n",
    "        S_W_tot_component = -2 * np.imag(np.conj(pulse_fft) * fft_component_tot)\n",
    "        \n",
    "        fran_transition_freq_sheet['TA {}_{}'.format(cart,component)] = S_W_tot_component\n",
    "        \n",
    "        ax7.plot(freq_dipole_eV, S_W_tot_component, color=colors[iii])\n",
    "        ax7.set_xlim(0,10)\n",
    "        \n",
    "    ax4.legend()\n",
    "    fig.canvas.layout.height = '900px'\n",
    "    fig.tight_layout()\n",
    "        "
   ]
  },
  {
   "cell_type": "code",
   "execution_count": 10,
   "metadata": {},
   "outputs": [],
   "source": [
    "fran_transition_freq_sheet.to_csv(name_output)"
   ]
  },
  {
   "cell_type": "markdown",
   "metadata": {},
   "source": [
    "# Multiple probes"
   ]
  },
  {
   "cell_type": "code",
   "execution_count": 11,
   "metadata": {},
   "outputs": [],
   "source": [
    "all_probes_folders = sorted(glob.glob(root + 'o-UV*'))"
   ]
  },
  {
   "cell_type": "code",
   "execution_count": 12,
   "metadata": {},
   "outputs": [],
   "source": [
    "def process_pump_probe_folder(root, pump, probe, do_graph = True):\n",
    "    '''\n",
    "    this is a function which does everything for pump-probe-cross graphs\n",
    "    '''\n",
    "\n",
    "    # OUTPUTS\n",
    "    outputFolder = '/home/alessio/w-August-Run/OUTPUTS'\n",
    "    name_output = os.path.join(outputFolder,'{}_{}.csv'.format(pump,probe))\n",
    "    \n",
    "    fol_pump = os.path.join(root, pump)\n",
    "    fol_probe = os.path.join(root, probe)\n",
    "    output_norm_pump = os.path.join(fol_pump, 'output')\n",
    "    output_dipo_pump = os.path.join(fol_pump, 'Output_Dipole')\n",
    "    output_norm_probe = os.path.join(fol_probe, 'output')\n",
    "    output_dipo_probe = os.path.join(fol_probe, 'Output_Dipole')\n",
    "    \n",
    "    df_norm2_pump = pd.read_csv(output_norm_pump, delim_whitespace=True, index_col=0, names=['counter', 'steps', 'fs','Norm deviation','Kinetic','Potential','Total','Total Deviation','Xpulse','Ypulse','Zpulse','AbZino'])\n",
    "    df_norm2_probe = pd.read_csv(output_norm_probe, delim_whitespace=True, index_col=0, names=['counter', 'steps', 'fs','Norm deviation','Kinetic','Potential','Total','Total Deviation','Xpulse','Ypulse','Zpulse','AbZino'])\n",
    "\n",
    "    df_dipo_pump = read_dipole_file(output_dipo_pump)\n",
    "    df_dipo_probe = read_dipole_file(output_dipo_probe)\n",
    "\n",
    "    ppname = os.path.join('/home/alessio/w-August-Run/','{}_{}.csv'.format(pump,probe))\n",
    "    ppname_dip = os.path.join('/home/alessio/w-August-Run/','{}_{}_dipole.csv'.format(pump,probe))\n",
    "\n",
    "    df1 = copy_paste_output(df_norm2_pump, df_norm2_probe, ppname)\n",
    "    dip1 = copy_paste_dipos(df_dipo_pump, df_dipo_probe, ppname_dip)\n",
    "    \n",
    "    # cut the shortest, please\n",
    "    (df1.shape, dip1.shape)\n",
    "    num1, _ = df1.shape\n",
    "    num2, _ = dip1.shape\n",
    "    cut_here = np.amin([num1,num2])\n",
    "    df = df1[:cut_here]\n",
    "    dip = dip1[:cut_here]\n",
    "    \n",
    "    colors = ['b', 'g', 'r', 'm', 'c', 'y', 'k', 'mediumpurple']\n",
    "    pad_length_until = 10000\n",
    "    pad_length = pad_length_until - cut_here\n",
    "    nstates = 8\n",
    "    permanents = []\n",
    "    transitions = []\n",
    "\n",
    "    fran_transition_time_sheet = pd.DataFrame()\n",
    "    fran_transition_freq_sheet = pd.DataFrame()\n",
    "\n",
    "    for lab1 in ['x','y','z']:\n",
    "        for lab2 in range(nstates):\n",
    "            permanents.append('perm_{}_{}'.format(lab1,lab2))\n",
    "            for lab3 in range(lab2+1,nstates):\n",
    "                transitions.append('trans_{}_{}_{}'.format(lab1,lab2,lab3))\n",
    "\n",
    "    pulsex = df['Xpulse']\n",
    "    pulsey = df['Ypulse']\n",
    "    pulsez = df['Zpulse']\n",
    "\n",
    "    fran_transition_time_sheet['Xpulse'] = pulsex\n",
    "    fran_transition_time_sheet['Ypulse'] = pulsey\n",
    "    fran_transition_time_sheet['Zpulse'] = pulsez\n",
    "\n",
    "    \n",
    "    for cart in ['x','y','z']:\n",
    "    #for cart in ['x']:\n",
    "        timefs = dip['fs_2']\n",
    "        time = qp.fromFsToAu(timefs)\n",
    "        this_full_dipole = 'dip{}'.format(cart)\n",
    "        tot_signal = dip[this_full_dipole]\n",
    "        full_list_label = permanents + transitions\n",
    "        full_list_this_cart = [x for x in full_list_label if cart in x]\n",
    "        threshold = np.linalg.norm(tot_signal)*0.05 # 5% of the norm\n",
    "        big_components = [ x for x in full_list_this_cart if np.linalg.norm(dip[x]) > threshold or x in ['trans_x_0_1', 'trans_y_0_1', 'trans_z_0_1'] ]   \n",
    "\n",
    "        # Create Arrays\n",
    "        \n",
    "        pulse_this = df['{}pulse'.format(cart.upper())]\n",
    "        freq_pulse, pulse_fft = pythonfft(np.array(time),pulse_this,pad_length)\n",
    "\n",
    "        pulse_fft_RE = np.real(pulse_fft)\n",
    "        pulse_fft_IM = np.imag(pulse_fft)\n",
    "        freq_pulse_eV = qp.fromHartoEv(freq_pulse)\n",
    "        \n",
    "        freq_dipole_tot, fft_dipole_tot = pythonfft(np.array(time),tot_signal,pad_length)\n",
    "        freq_dipole_eV = qp.fromHartoEv(freq_dipole_tot)\n",
    "        dipole_total_fft_RE = np.real(fft_dipole_tot)\n",
    "        dipole_total_fft_IM = np.imag(fft_dipole_tot)\n",
    "        # first spectra\n",
    "        S_W_tot = -2 * np.imag(np.conj(pulse_fft) * fft_dipole_tot)\n",
    "        \n",
    "        if do_graph:\n",
    "            # CREATE GRAPHS        \n",
    "            fig, [[ax0, ax1], [ax2, ax3], [ax4, ax5], [ax6, ax7]] = plt.subplots(4,2,figsize = (10,6))\n",
    "\n",
    "            ax0.plot(timefs,pulse_this)\n",
    "\n",
    "            ax1.plot(freq_pulse_eV, pulse_fft_RE)\n",
    "            ax1.plot(freq_pulse_eV, pulse_fft_IM)\n",
    "            ax1.set_xlim(0,10)\n",
    "\n",
    "            ax2.plot(timefs,tot_signal)\n",
    "\n",
    "            ax3.plot(freq_dipole_eV, dipole_total_fft_RE)\n",
    "            ax3.plot(freq_dipole_eV, dipole_total_fft_IM)\n",
    "            ax3.set_xlim(0,10)\n",
    "\n",
    "            ax6.plot(freq_dipole_eV, S_W_tot)\n",
    "            ax6.set_xlim(0,10)\n",
    "        \n",
    "        # send to Francoise Spreadsheet\n",
    "        freq_label = 'Frequencies eV'  \n",
    "        if freq_label not in fran_transition_freq_sheet.columns:\n",
    "            fran_transition_freq_sheet[freq_label] = freq_pulse_eV\n",
    "        fran_transition_freq_sheet['{}_pulse_ft_real'.format(cart)] = pulse_fft_RE\n",
    "        fran_transition_freq_sheet['{}_pulse_ft_imag'.format(cart)] = pulse_fft_IM\n",
    "        fran_transition_freq_sheet['{}_dipole_ft_real'.format(cart)] = pulse_fft_RE\n",
    "        fran_transition_freq_sheet['{}_dipole_ft_imag'.format(cart)] = pulse_fft_IM\n",
    "        fran_transition_freq_sheet['TA {}'.format(cart)] = S_W_tot\n",
    "\n",
    "        # COMPONENT PANEL\n",
    "#        for iii, component in enumerate(big_components):\n",
    "        for iii, component in enumerate(['trans_z_0_1']):\n",
    "            comp_dip = dip[component]\n",
    "            freq_component_tot, fft_component_tot = pythonfft(np.array(time), comp_dip, pad_length)\n",
    "            freq_component_eV = qp.fromHartoEv(freq_component_tot)\n",
    "            component_fft_RE = np.real(fft_component_tot)\n",
    "            component_fft_IM = np.imag(fft_component_tot)\n",
    "            # Spectra\n",
    "            S_W_tot_component = -2 * np.imag(np.conj(pulse_fft) * fft_component_tot)\n",
    "            if do_graph:\n",
    "                ax4.plot(timefs,comp_dip, label = component, color=colors[iii])\n",
    "                ax5.plot(freq_component_eV, component_fft_RE, color=colors[iii])\n",
    "\n",
    "                ax5.plot(freq_component_eV, component_fft_IM, color=colors[iii], ls=':')\n",
    "                ax5.set_xlim(0,10)\n",
    "\n",
    "                ax7.plot(freq_dipole_eV, S_W_tot_component, color=colors[iii])\n",
    "                ax7.set_xlim(0,10)\n",
    "\n",
    "            # send to Francoise Spreadsheet\n",
    "            fran_transition_freq_sheet['{}_{}_component_ft_real'.format(cart,component)] = component_fft_RE\n",
    "            fran_transition_freq_sheet['{}_{}_component_ft_imag'.format(cart,component)] = component_fft_IM    \n",
    "            fran_transition_freq_sheet['TA {}_{}'.format(cart,component)] = S_W_tot_component\n",
    "\n",
    "        if do_graph:\n",
    "            ax4.legend()\n",
    "            fig.canvas.layout.height = '900px'\n",
    "            fig.tight_layout()\n",
    "            \n",
    "    fran_transition_freq_sheet.to_csv(name_output)\n",
    "    return(freq_dipole_eV, S_W_tot_component, S_W_tot)\n",
    "\n"
   ]
  },
  {
   "cell_type": "code",
   "execution_count": 13,
   "metadata": {},
   "outputs": [],
   "source": [
    "plt.close('all')"
   ]
  },
  {
   "cell_type": "code",
   "execution_count": 14,
   "metadata": {},
   "outputs": [
    {
     "data": {
      "application/vnd.jupyter.widget-view+json": {
       "model_id": "279d748785004be3a6852762988967fa",
       "version_major": 2,
       "version_minor": 0
      },
      "text/plain": [
       "HBox(children=(IntProgress(value=0, max=12), HTML(value='')))"
      ]
     },
     "metadata": {},
     "output_type": "display_data"
    },
    {
     "name": "stdout",
     "output_type": "stream",
     "text": [
      "\n"
     ]
    }
   ],
   "source": [
    "delays = [68.0,68.2,68.4,68.6,68.8,69.0,69.2,69.4,69.6,69.8,70.0,70.2,70.4,64.0,65.0,66.0,67.0,71.0,72.0,73.0,74.0,75.0]\n",
    "\n",
    "graph = False\n",
    "all_of_the_1_0 = []\n",
    "all_of_the_TOT = []\n",
    "all_the_freq = []\n",
    "\n",
    "all_probes_folders_selected = all_probes_folders[13:17] + [ all_probes_folders[0], all_probes_folders[5], all_probes_folders[10] ] + all_probes_folders[17:]\n",
    "\n",
    "for this_one in tqdm(all_probes_folders_selected):\n",
    "    freq_dipole_eV, S_W_tot_component, S_W_tot = process_pump_probe_folder(root,pump, os.path.basename(this_one), do_graph = graph)\n",
    "    all_of_the_1_0.append(S_W_tot_component)\n",
    "    all_of_the_TOT.append(S_W_tot)\n",
    "    all_the_freq.append(freq_dipole_eV)"
   ]
  },
  {
   "cell_type": "code",
   "execution_count": 15,
   "metadata": {},
   "outputs": [
    {
     "data": {
      "application/vnd.jupyter.widget-view+json": {
       "model_id": "",
       "version_major": 2,
       "version_minor": 0
      },
      "text/plain": [
       "Canvas(toolbar=Toolbar(toolitems=[('Home', 'Reset original view', 'home', 'home'), ('Back', 'Back to previous …"
      ]
     },
     "metadata": {},
     "output_type": "display_data"
    }
   ],
   "source": [
    "from matplotlib import cm\n",
    "\n",
    "delays = [64.0,65.0,66.0,67.0,68.0,69.0,70.0,71.0,72.0,73.0,74.0,75.0]\n",
    "\n",
    "cmap = 'hot'#'hsv'\n",
    "viridis = cm.get_cmap(cmap,12)\n",
    "color_map = viridis(np.linspace(0,1, len(delays)+2))\n",
    "\n",
    "fig, ax0 = plt.subplots(1,1,figsize = (10,6))\n",
    "ax1 = ax0.twinx()\n",
    "\n",
    "how_many = len(delays)\n",
    "\n",
    "for i,(x,y,z) in enumerate(zip(all_the_freq[:how_many], all_of_the_1_0[:how_many], all_of_the_TOT[:how_many])):\n",
    "    ax0.plot(x,y, label=delays[i], ls=':', color=color_map[i])\n",
    "    ax1.plot(x,z, color=color_map[i])\n",
    "\n",
    "ax0.set_xlim(0.3,0.8)    \n",
    "ax1.set_xlim(0.3,0.8)    \n",
    "\n",
    "ax0.legend()\n",
    "ax0.set_xlabel('eV')\n",
    "fig.tight_layout()"
   ]
  },
  {
   "cell_type": "markdown",
   "metadata": {},
   "source": [
    "# make them 3d"
   ]
  },
  {
   "cell_type": "code",
   "execution_count": 16,
   "metadata": {},
   "outputs": [
    {
     "data": {
      "text/plain": [
       "((12, 5000), (5000,), 12)"
      ]
     },
     "execution_count": 16,
     "metadata": {},
     "output_type": "execute_result"
    }
   ],
   "source": [
    "together = np.stack(all_of_the_1_0, axis=0)\n",
    "together2 = np.stack(all_of_the_TOT, axis=0)\n",
    "pp_runs = zip(all_probes_folders_selected,delays)\n",
    "together.shape, freq_dipole_eV.shape, len(list(pp_runs))"
   ]
  },
  {
   "cell_type": "code",
   "execution_count": 17,
   "metadata": {},
   "outputs": [
    {
     "data": {
      "application/vnd.jupyter.widget-view+json": {
       "model_id": "",
       "version_major": 2,
       "version_minor": 0
      },
      "text/plain": [
       "Canvas(toolbar=Toolbar(toolitems=[('Home', 'Reset original view', 'home', 'home'), ('Back', 'Back to previous …"
      ]
     },
     "metadata": {},
     "output_type": "display_data"
    }
   ],
   "source": [
    "vector = together\n",
    "cut_ev = 250\n",
    "\n",
    "fig, ax = plt.subplots(1,1,figsize = (10,6))\n",
    "z_min, z_max = -np.abs(vector).max(), np.abs(vector).max()\n",
    "\n",
    "y, x = np.meshgrid(freq_dipole_eV[:cut_ev],delays)\n",
    "\n",
    "c = ax.pcolormesh(x,y, vector[:,:cut_ev], cmap='RdBu', vmin=z_min, vmax=z_max)\n",
    "fig.canvas.layout.height = '900px'\n",
    "fig.colorbar(c, ax=ax)\n",
    "ax.set_xlabel(r'$\\tau$')\n",
    "ax.set_ylabel(r'eV')\n",
    "fig.tight_layout()"
   ]
  },
  {
   "cell_type": "code",
   "execution_count": 20,
   "metadata": {},
   "outputs": [
    {
     "data": {
      "application/vnd.jupyter.widget-view+json": {
       "model_id": "",
       "version_major": 2,
       "version_minor": 0
      },
      "text/plain": [
       "Canvas(toolbar=Toolbar(toolitems=[('Home', 'Reset original view', 'home', 'home'), ('Back', 'Back to previous …"
      ]
     },
     "metadata": {},
     "output_type": "display_data"
    }
   ],
   "source": [
    "from scipy.interpolate import interp2d\n",
    "\n",
    "vector = together2\n",
    "cut_ev = 250\n",
    "\n",
    "fig, ax = plt.subplots(1,1,figsize = (10,6))\n",
    "z_min, z_max = -np.abs(vector).max(), np.abs(vector).max()\n",
    "z_min, z_max = -10,10\n",
    "\n",
    "y_axis = freq_dipole_eV[:cut_ev]\n",
    "x_axis = delays\n",
    "z_axis = vector[:,:cut_ev]\n",
    "\n",
    "x, y = np.meshgrid(y_axis,x_axis)\n",
    "\n",
    "\n",
    "# # scipy interp. cubic\n",
    "# f = interp2d(y_axis, x_axis, z_axis, kind='linear')\n",
    "# xnew = np.arange(x_axis[0], x_axis[-1], .1)\n",
    "# ynew = np.arange(y_axis[0], y_axis[-1], .1)\n",
    "# data1 = f(xnew,ynew)\n",
    "# Yn, Xn = np.meshgrid(xnew, ynew)\n",
    "# plt.pcolormesh(x,y, vector[:,:cut_ev])\n",
    "\n",
    "\n",
    "c = ax.pcolormesh(x,y, vector[:,:cut_ev], cmap='RdBu', vmin=z_min, vmax=z_max)\n",
    "fig.canvas.layout.height = '900px'\n",
    "fig.colorbar(c, ax=ax)\n",
    "ax.set_xlabel(r'$\\tau$')\n",
    "ax.set_ylabel(r'eV')\n",
    "ax.set_ylim(0.3,0.8)\n",
    "fig.tight_layout()"
   ]
  },
  {
   "cell_type": "code",
   "execution_count": 82,
   "metadata": {},
   "outputs": [
    {
     "data": {
      "text/plain": [
       "array([[0.0008229, 0.0008229, 0.0008229, ..., 0.0008229, 0.0008229,\n",
       "        0.0008229],\n",
       "       [0.0008229, 0.0008229, 0.0008229, ..., 0.0008229, 0.0008229,\n",
       "        0.0008229],\n",
       "       [0.0008229, 0.0008229, 0.0008229, ..., 0.0008229, 0.0008229,\n",
       "        0.0008229],\n",
       "       ...,\n",
       "       [0.0008229, 0.0008229, 0.0008229, ..., 0.0008229, 0.0008229,\n",
       "        0.0008229],\n",
       "       [0.0008229, 0.0008229, 0.0008229, ..., 0.0008229, 0.0008229,\n",
       "        0.0008229],\n",
       "       [0.0008229, 0.0008229, 0.0008229, ..., 0.0008229, 0.0008229,\n",
       "        0.0008229]])"
      ]
     },
     "execution_count": 82,
     "metadata": {},
     "output_type": "execute_result"
    }
   ],
   "source": [
    "data1"
   ]
  },
  {
   "cell_type": "code",
   "execution_count": null,
   "metadata": {},
   "outputs": [],
   "source": []
  }
 ],
 "metadata": {
  "kernelspec": {
   "display_name": "Python 3",
   "language": "python",
   "name": "python3"
  },
  "language_info": {
   "codemirror_mode": {
    "name": "ipython",
    "version": 3
   },
   "file_extension": ".py",
   "mimetype": "text/x-python",
   "name": "python",
   "nbconvert_exporter": "python",
   "pygments_lexer": "ipython3",
   "version": "3.6.8"
  }
 },
 "nbformat": 4,
 "nbformat_minor": 4
}
