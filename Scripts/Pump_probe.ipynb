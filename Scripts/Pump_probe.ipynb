{
 "cells": [
  {
   "cell_type": "code",
   "execution_count": 8,
   "metadata": {},
   "outputs": [],
   "source": [
    "import quantumpropagator as qp\n",
    "import matplotlib.pyplot as plt\n",
    "import matplotlib\n",
    "from ipywidgets import interact,fixed #, interactive, fixed, interact_manual\n",
    "import ipywidgets as widgets\n",
    "\n",
    "import os\n",
    "import sys\n",
    "import glob\n",
    "import pandas as pd\n",
    "import numpy as np\n",
    "\n",
    "%matplotlib ipympl\n",
    "\n",
    "plt.rcParams.update({'font.size': 8})"
   ]
  },
  {
   "cell_type": "code",
   "execution_count": 9,
   "metadata": {},
   "outputs": [],
   "source": [
    "def read_dipole_file(dipole_file_path):\n",
    "    nstates = 8\n",
    "    permanents = []\n",
    "    transitions = []\n",
    "\n",
    "    for lab1 in ['x','y','z']:\n",
    "        for lab2 in range(nstates):\n",
    "            permanents.append('perm_{}_{}'.format(lab1,lab2))\n",
    "            for lab3 in range(lab2+1,nstates):\n",
    "                transitions.append('trans_{}_{}_{}'.format(lab1,lab2,lab3))\n",
    "                \n",
    "    all_labels = ['fs_2','dipx','dipy','dipz'] +  permanents + transitions\n",
    "    df_dipo_pump = pd.read_csv(dipole_file_path, delim_whitespace=True, names=all_labels)\n",
    "    return(df_dipo_pump)\n",
    "\n",
    "def copy_paste_output(pump_df,probe_df, out_name):\n",
    "    '''\n",
    "    This function takes a pump and a probe run and returns a new dataframe with pump_probe pasted together\n",
    "    '''\n",
    "    fs_cut = probe_df['fs'].iloc[0]\n",
    "    # the index on the pump sheet is where the first fs value of the probe is.\n",
    "    index_cut = pump_df.index[pump_df['fs'] == fs_cut][0]\n",
    "    pump_cut = pump_df.iloc[:index_cut]\n",
    "    final_paper = pd.concat((pump_cut,probe_df))\n",
    "    final_paper.to_csv(out_name)\n",
    "    return(final_paper)\n",
    "\n",
    "def copy_paste_dipos(pump_df_d,probe_df_d, out_name):\n",
    "    '''\n",
    "    This function takes a pump and a probe run and returns a new dataframe with pump_probe pasted together\n",
    "    '''\n",
    "    fs_cut = probe_df_d['fs_2'].iloc[0]\n",
    "    # the index on the pump sheet is where the first fs value of the probe is.\n",
    "    index_cut = pump_df_d.index[pump_df_d['fs_2'] == fs_cut][0]\n",
    "    pump_cut = pump_df_d.iloc[:index_cut]\n",
    "    final_paper = pd.concat((pump_cut,probe_df_d))\n",
    "    final_paper.to_csv(out_name)\n",
    "    return(final_paper)\n",
    "\n",
    "def pythonfft(signal_time,signal,pad_length):\n",
    "    aaa = np.fft.fft(np.pad(signal,(0,pad_length)))\n",
    "    time_au = qp.fromFsToAu(signal_time)\n",
    "    dt = time_au[1]- time_au[0]\n",
    "    bb = np.fft.fftfreq(time_au.size + pad_length)\n",
    "\n",
    "    time_au_max = np.amax(time_au)\n",
    "    bbb = qp.fromHartoEv(bb*2*np.pi/dt)\n",
    "    indexes = np.where(bb>=0)\n",
    "    return(bbb[indexes],aaa[indexes])\n"
   ]
  },
  {
   "cell_type": "code",
   "execution_count": 10,
   "metadata": {},
   "outputs": [],
   "source": [
    "root = '/home/alessio/w-August-Run/'\n",
    "pump = 'b-UV-0.22_0000'\n",
    "probe = 'y-probe-UV_0000'\n",
    "\n",
    "fol_pump = os.path.join(root, pump)\n",
    "fol_probe = os.path.join(root, probe)\n",
    "output_norm_pump = os.path.join(fol_pump, 'output')\n",
    "output_dipo_pump = os.path.join(fol_pump, 'Output_Dipole')\n",
    "output_norm_probe = os.path.join(fol_probe, 'output')\n",
    "output_dipo_probe = os.path.join(fol_probe, 'Output_Dipole')\n",
    "\n",
    "df_norm2_pump = pd.read_csv(output_norm_pump, delim_whitespace=True, index_col=0, names=['counter', 'steps', 'fs','Norm deviation','Kinetic','Potential','Total','Total Deviation','Xpulse','Ypulse','Zpulse','AbZino'])\n",
    "df_norm2_probe = pd.read_csv(output_norm_probe, delim_whitespace=True, index_col=0, names=['counter', 'steps', 'fs','Norm deviation','Kinetic','Potential','Total','Total Deviation','Xpulse','Ypulse','Zpulse','AbZino'])\n",
    "\n",
    "df_dipo_pump = read_dipole_file(output_dipo_pump)\n",
    "df_dipo_probe = read_dipole_file(output_dipo_probe)\n",
    "\n",
    "ppname = os.path.join('/home/alessio/w-August-Run/','{}_{}.csv'.format(pump,probe))\n",
    "ppname_dip = os.path.join('/home/alessio/w-August-Run/','{}_{}_dipole.csv'.format(pump,probe))\n",
    "\n",
    "df1 = copy_paste_output(df_norm2_pump, df_norm2_probe, ppname)\n",
    "dip1 = copy_paste_dipos(df_dipo_pump, df_dipo_probe, ppname_dip)"
   ]
  },
  {
   "cell_type": "code",
   "execution_count": 11,
   "metadata": {},
   "outputs": [],
   "source": [
    "# cut the shortest, please\n",
    "(df1.shape, dip1.shape)\n",
    "num1, _ = df1.shape\n",
    "num2, _ = dip1.shape\n",
    "cut_here = np.amin([num1,num2])\n",
    "df = df1[:cut_here]\n",
    "dip = dip1[:cut_here]"
   ]
  },
  {
   "cell_type": "code",
   "execution_count": 12,
   "metadata": {},
   "outputs": [
    {
     "data": {
      "application/vnd.jupyter.widget-view+json": {
       "model_id": "",
       "version_major": 2,
       "version_minor": 0
      },
      "text/plain": [
       "Canvas(toolbar=Toolbar(toolitems=[('Home', 'Reset original view', 'home', 'home'), ('Back', 'Back to previous …"
      ]
     },
     "metadata": {},
     "output_type": "display_data"
    }
   ],
   "source": [
    "x = df['fs']\n",
    "\n",
    "pulsex = df['Xpulse']\n",
    "pulsey = df['Ypulse']\n",
    "pulsez = df['Zpulse']\n",
    "\n",
    "together = np.stack((pulsex,pulsey,pulsez), axis=1)\n",
    "y = np.sum(together,axis=1)\n",
    "\n",
    "fig, ax0 = plt.subplots(1,1,figsize = (10,6))\n",
    "ax0.plot(x,y)\n",
    "ax0.set_xlabel('fs')\n",
    "fig.tight_layout()"
   ]
  },
  {
   "cell_type": "code",
   "execution_count": 13,
   "metadata": {},
   "outputs": [
    {
     "data": {
      "application/vnd.jupyter.widget-view+json": {
       "model_id": "",
       "version_major": 2,
       "version_minor": 0
      },
      "text/plain": [
       "Canvas(toolbar=Toolbar(toolitems=[('Home', 'Reset original view', 'home', 'home'), ('Back', 'Back to previous …"
      ]
     },
     "metadata": {},
     "output_type": "display_data"
    }
   ],
   "source": [
    "pad_length = 10000\n",
    "\n",
    "freq, signal_fft = pythonfft(np.array(x),np.array(y),pad_length)\n",
    "fig, ax0 = plt.subplots(1,1,figsize = (10,6))\n",
    "#ax0.plot(freq, signal_fft)\n",
    "ax0.plot(freq, np.real(signal_fft))\n",
    "ax0.plot(freq, np.imag(signal_fft))\n",
    "ax0.set_xlim(0,10)\n",
    "ax0.set_xlabel('eV')\n",
    "\n",
    "fig.tight_layout()"
   ]
  },
  {
   "cell_type": "code",
   "execution_count": 14,
   "metadata": {},
   "outputs": [
    {
     "data": {
      "application/vnd.jupyter.widget-view+json": {
       "model_id": "0a4c84a899854b4db2cecd0fbfb7171d",
       "version_major": 2,
       "version_minor": 0
      },
      "text/plain": [
       "Canvas(toolbar=Toolbar(toolitems=[('Home', 'Reset original view', 'home', 'home'), ('Back', 'Back to previous …"
      ]
     },
     "metadata": {},
     "output_type": "display_data"
    },
    {
     "data": {
      "application/vnd.jupyter.widget-view+json": {
       "model_id": "72cce7e3834248c99fd676b2c86037e7",
       "version_major": 2,
       "version_minor": 0
      },
      "text/plain": [
       "Canvas(toolbar=Toolbar(toolitems=[('Home', 'Reset original view', 'home', 'home'), ('Back', 'Back to previous …"
      ]
     },
     "metadata": {},
     "output_type": "display_data"
    },
    {
     "data": {
      "application/vnd.jupyter.widget-view+json": {
       "model_id": "6f61638d0baf4755a53b1094620872de",
       "version_major": 2,
       "version_minor": 0
      },
      "text/plain": [
       "Canvas(toolbar=Toolbar(toolitems=[('Home', 'Reset original view', 'home', 'home'), ('Back', 'Back to previous …"
      ]
     },
     "metadata": {},
     "output_type": "display_data"
    },
    {
     "data": {
      "application/vnd.jupyter.widget-view+json": {
       "model_id": "1edf73994f1441b3a7d4ac50d1e2217c",
       "version_major": 2,
       "version_minor": 0
      },
      "text/plain": [
       "Canvas(toolbar=Toolbar(toolitems=[('Home', 'Reset original view', 'home', 'home'), ('Back', 'Back to previous …"
      ]
     },
     "metadata": {},
     "output_type": "display_data"
    },
    {
     "data": {
      "application/vnd.jupyter.widget-view+json": {
       "model_id": "b74fd74b3b414a0ba7d703111384e931",
       "version_major": 2,
       "version_minor": 0
      },
      "text/plain": [
       "Canvas(toolbar=Toolbar(toolitems=[('Home', 'Reset original view', 'home', 'home'), ('Back', 'Back to previous …"
      ]
     },
     "metadata": {},
     "output_type": "display_data"
    }
   ],
   "source": [
    "plt.close('all')\n",
    "\n",
    "pad_length = 10000\n",
    "\n",
    "xx = dip['fs_2']\n",
    "x = df['fs']\n",
    "\n",
    "#for ylabel in ['dipx', 'dipy', 'dipz','trans_x_0_1']:\n",
    "for ylabel in ['dipx', 'dipy', 'dipz', 'trans_x_0_1', 'trans_z_0_1']: # threshold component also.\n",
    "    pulsex = df['Xpulse']\n",
    "    pulsey = df['Ypulse']\n",
    "    pulsez = df['Zpulse']\n",
    "\n",
    "    together = np.stack((pulsex,pulsey,pulsez), axis=1)\n",
    "    y = np.sum(together,axis=1)\n",
    "    \n",
    "    yy = dip[ylabel]\n",
    "\n",
    "    freq_dip, signal_fft_dip = pythonfft(np.array(xx),np.array(yy),pad_length)\n",
    "\n",
    "    fig, [[ax0, ax1], [ax2, ax3], [ax4, ax5]] = plt.subplots(3,2,figsize = (10,6))\n",
    "    #ax0.plot(freq_dip, signal_fft_dip)\n",
    "\n",
    "        \n",
    "    ax0.plot(xx,yy)\n",
    "    ax0.set_xlim(0,100)\n",
    "    ax0.set_xlabel('fs')\n",
    "    ax0.set_title('{} - signal'.format(ylabel))\n",
    "\n",
    "    ax2.plot(freq, np.real(signal_fft_dip))\n",
    "    ax2.plot(freq, np.imag(signal_fft_dip))\n",
    "    ax2.set_xlim(0,10)\n",
    "    ax2.set_xlabel('eV')\n",
    "    ax2.set_title('{} - FT'.format(ylabel))\n",
    "    \n",
    "    ax1.plot(x,y)\n",
    "    ax1.set_xlabel('fs')\n",
    "    ax1.set_title('{} - Pulse'.format(ylabel))\n",
    "    \n",
    "    freq, signal_fft = pythonfft(np.array(x),np.array(y),pad_length)\n",
    "    ax3.plot(freq, np.real(signal_fft))\n",
    "    ax3.plot(freq, np.imag(signal_fft))\n",
    "    ax3.set_xlim(0,10)\n",
    "    ax3.set_xlabel('eV')\n",
    "    ax3.set_title('{} - Pulse FFT'.format(ylabel))\n",
    "    \n",
    "    S_W = -2 * np.imag(np.conj(signal_fft) * signal_fft_dip)\n",
    "    ax4.plot(freq_dip, S_W)\n",
    "    ax4.set_xlim(0,10)\n",
    "    ax4.set_xlabel('eV')\n",
    "    ax4.set_title('{} - Transient Absorption Spectra'.format(ylabel))\n",
    "\n",
    "    #fig.suptitle(ylabel)\n",
    "    fig.canvas.layout.height = '900px'\n",
    "    fig.tight_layout()"
   ]
  },
  {
   "cell_type": "markdown",
   "metadata": {},
   "source": [
    "# graph and save the big components"
   ]
  },
  {
   "cell_type": "code",
   "execution_count": 15,
   "metadata": {},
   "outputs": [
    {
     "name": "stdout",
     "output_type": "stream",
     "text": [
      "['trans_x_0_1', 'trans_x_1_2', 'trans_x_1_3', 'trans_x_1_4']\n",
      "['trans_y_0_1', 'trans_y_1_2', 'trans_y_1_3', 'trans_y_1_4', 'trans_y_1_5', 'trans_y_2_3', 'trans_y_6_7']\n",
      "['perm_z_0', 'perm_z_1', 'trans_z_0_1', 'trans_z_1_4']\n"
     ]
    }
   ],
   "source": [
    "nstates = 8\n",
    "permanents = []\n",
    "transitions = []\n",
    "\n",
    "for lab1 in ['x','y','z']:\n",
    "    for lab2 in range(nstates):\n",
    "        permanents.append('perm_{}_{}'.format(lab1,lab2))\n",
    "        for lab3 in range(lab2+1,nstates):\n",
    "            transitions.append('trans_{}_{}_{}'.format(lab1,lab2,lab3))\n",
    "                \n",
    "for cart in ['x','y','z']:\n",
    "    timefs = dip['fs_2']\n",
    "    time = qp.fromFsToAu(timefs)\n",
    "    this_full_dipole = 'dip{}'.format(cart)\n",
    "    tot_signal = dip[this_full_dipole]\n",
    "    full_list_label = permanents + transitions\n",
    "    full_list_this_cart = [x for x in full_list_label if cart in x]\n",
    "    threshold = np.linalg.norm(tot_signal)*0.05 # 5% of the norm\n",
    "    big_components = [ x for x in full_list_this_cart if np.linalg.norm(dip[x]) > threshold or x in ['trans_x_0_1', 'trans_y_0_1', 'trans_z_0_1'] ] # the one which contributes more than 5% to the norm\n",
    "    print(big_components)"
   ]
  },
  {
   "cell_type": "code",
   "execution_count": null,
   "metadata": {},
   "outputs": [],
   "source": []
  }
 ],
 "metadata": {
  "kernelspec": {
   "display_name": "Python 3",
   "language": "python",
   "name": "python3"
  },
  "language_info": {
   "codemirror_mode": {
    "name": "ipython",
    "version": 3
   },
   "file_extension": ".py",
   "mimetype": "text/x-python",
   "name": "python",
   "nbconvert_exporter": "python",
   "pygments_lexer": "ipython3",
   "version": "3.6.8"
  }
 },
 "nbformat": 4,
 "nbformat_minor": 4
}
