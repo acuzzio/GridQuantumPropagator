{
 "cells": [
  {
   "cell_type": "code",
   "execution_count": 2,
   "metadata": {},
   "outputs": [],
   "source": [
    "import quantumpropagator as qp\n",
    "import matplotlib.pyplot as plt\n",
    "import matplotlib\n",
    "from ipywidgets import interact,fixed #, interactive, fixed, interact_manual\n",
    "import ipywidgets as widgets\n",
    "\n",
    "import os\n",
    "import sys\n",
    "import glob\n",
    "import pandas as pd\n",
    "import numpy as np\n",
    "\n",
    "%matplotlib ipympl\n",
    "\n",
    "plt.rcParams.update({'font.size': 6})"
   ]
  },
  {
   "cell_type": "code",
   "execution_count": 5,
   "metadata": {},
   "outputs": [],
   "source": [
    "root = '/home/alessio/w-August-Run/'\n",
    "pump = 'b-UV-0.22_0000'\n",
    "probe = 'y-probe-UV_0000'\n",
    "\n",
    "fol_pump = os.path.join(root, pump)\n",
    "fol_probe = os.path.join(root, probe)\n",
    "output_norm_pump = os.path.join(fol_pump, 'output')\n",
    "output_dipo_pump = os.path.join(fol_pump, 'Output_Dipole')\n",
    "output_norm_probe = os.path.join(fol_probe, 'output')\n",
    "output_dipo_probe = os.path.join(fol_probe, 'Output_Dipole')\n"
   ]
  },
  {
   "cell_type": "code",
   "execution_count": 69,
   "metadata": {},
   "outputs": [],
   "source": [
    "def read_dipole_file(dipole_file_path):\n",
    "    nstates = 8\n",
    "    permanents = []\n",
    "    transitions = []\n",
    "\n",
    "    for lab1 in ['x','y','z']:\n",
    "        for lab2 in range(nstates):\n",
    "            permanents.append('perm_{}_{}'.format(lab1,lab2))\n",
    "            for lab3 in range(lab2+1,nstates):\n",
    "                transitions.append('trans_{}_{}_{}'.format(lab1,lab2,lab3))\n",
    "                \n",
    "    all_labels = ['fs_2','dipx','dipy','dipz'] +  permanents + transitions\n",
    "    df_dipo_pump = pd.read_csv(dipole_file_path, delim_whitespace=True, names=all_labels)\n",
    "    return(df_dipo_pump)\n",
    "\n",
    "df_norm2_pump = pd.read_csv(output_norm_pump, delim_whitespace=True, index_col=0, names=['counter', 'steps', 'fs','Norm deviation','Kinetic','Potential','Total','Total Deviation','Xpulse','Ypulse','Zpulse','AbZino'])\n",
    "df_norm2_probe = pd.read_csv(output_norm_probe, delim_whitespace=True, index_col=0, names=['counter', 'steps', 'fs','Norm deviation','Kinetic','Potential','Total','Total Deviation','Xpulse','Ypulse','Zpulse','AbZino'])\n",
    "\n",
    "df_dipo_pump = read_dipole_file(output_dipo_pump)\n",
    "df_dipo_probe = read_dipole_file(output_dipo_probe)"
   ]
  },
  {
   "cell_type": "code",
   "execution_count": 81,
   "metadata": {},
   "outputs": [],
   "source": [
    "def copy_paste_output(pump_df,probe_df, out_name):\n",
    "    '''\n",
    "    This function takes a pump and a probe run and returns a new dataframe with pump_probe pasted together\n",
    "    '''\n",
    "    fs_cut = probe_df['fs'].iloc[0]\n",
    "    # the index on the pump sheet is where the first fs value of the probe is.\n",
    "    index_cut = pump_df.index[pump_df['fs'] == fs_cut][0]\n",
    "    pump_cut = pump_df.iloc[:index_cut]\n",
    "    final_paper = pd.concat((pump_cut,probe_df))\n",
    "    final_paper.to_csv(out_name)\n",
    "    return(final_paper)\n",
    "\n",
    "def copy_paste_dipos(pump_df_d,probe_df_d, out_name):\n",
    "    '''\n",
    "    This function takes a pump and a probe run and returns a new dataframe with pump_probe pasted together\n",
    "    '''\n",
    "    fs_cut = probe_df_d['fs_2'].iloc[0]\n",
    "    # the index on the pump sheet is where the first fs value of the probe is.\n",
    "    index_cut = pump_df_d.index[pump_df_d['fs_2'] == fs_cut][0]\n",
    "    pump_cut = pump_df_d.iloc[:index_cut]\n",
    "    final_paper = pd.concat((pump_cut,probe_df_d))\n",
    "    final_paper.to_csv(out_name)\n",
    "    return(final_paper)\n",
    "\n",
    "    \n",
    "ppname = os.path.join('/home/alessio/w-August-Run/','{}_{}.csv'.format(pump,probe))\n",
    "ppname_dip = os.path.join('/home/alessio/w-August-Run/','{}_{}_dipole.csv'.format(pump,probe))\n",
    "\n",
    "df1 = copy_paste_output(df_norm2_pump, df_norm2_probe, ppname)\n",
    "dip1 = copy_paste_dipos(df_dipo_pump, df_dipo_probe, ppname_dip)"
   ]
  },
  {
   "cell_type": "code",
   "execution_count": 82,
   "metadata": {},
   "outputs": [],
   "source": [
    "# cut the shortest, please\n",
    "(df1.shape, dip1.shape)\n",
    "num1, _ = df1.shape\n",
    "num2, _ = dip1.shape\n",
    "cut_here = np.amin([num1,num2])\n",
    "df = df1[:cut_here]\n",
    "dip = dip1[:cut_here]"
   ]
  },
  {
   "cell_type": "code",
   "execution_count": 119,
   "metadata": {},
   "outputs": [],
   "source": [
    "def pythonfft(signal_time,signal,pad_length):\n",
    "    aaa = np.fft.fft(np.pad(signal,(0,pad_length)))\n",
    "    time_au = qp.fromFsToAu(signal_time)\n",
    "    dt = time_au[1]- time_au[0]\n",
    "    bb = np.fft.fftfreq(time_au.size + pad_length)\n",
    "\n",
    "    time_au_max = np.amax(time_au)\n",
    "    bbb = qp.fromHartoEv(bb*2*np.pi/dt)\n",
    "    indexes = np.where(bb>=0)\n",
    "    return(bbb[indexes],aaa[indexes])"
   ]
  },
  {
   "cell_type": "code",
   "execution_count": 120,
   "metadata": {},
   "outputs": [
    {
     "name": "stderr",
     "output_type": "stream",
     "text": [
      "/home/alessio/config/quantumpropagator/lib/python3.6/site-packages/ipykernel_launcher.py:10: RuntimeWarning: More than 20 figures have been opened. Figures created through the pyplot interface (`matplotlib.pyplot.figure`) are retained until explicitly closed and may consume too much memory. (To control this warning, see the rcParam `figure.max_open_warning`).\n",
      "  # Remove the CWD from sys.path while we load stuff.\n"
     ]
    },
    {
     "data": {
      "application/vnd.jupyter.widget-view+json": {
       "model_id": "403fb29ebcc24e809c7cb3fd605c0635",
       "version_major": 2,
       "version_minor": 0
      },
      "text/plain": [
       "Canvas(toolbar=Toolbar(toolitems=[('Home', 'Reset original view', 'home', 'home'), ('Back', 'Back to previous …"
      ]
     },
     "metadata": {},
     "output_type": "display_data"
    }
   ],
   "source": [
    "\n",
    "x = df['fs']\n",
    "\n",
    "pulsex = df['Xpulse']\n",
    "pulsey = df['Ypulse']\n",
    "pulsez = df['Zpulse']\n",
    "\n",
    "together = np.stack((pulsex,pulsey,pulsez), axis=1)\n",
    "y = np.sum(together,axis=1)\n",
    "\n",
    "fig, ax0 = plt.subplots(1,1,figsize = (10,6))\n",
    "ax0.plot(x,y)\n",
    "fig.tight_layout()"
   ]
  },
  {
   "cell_type": "code",
   "execution_count": 123,
   "metadata": {},
   "outputs": [
    {
     "name": "stderr",
     "output_type": "stream",
     "text": [
      "/home/alessio/config/quantumpropagator/lib/python3.6/site-packages/ipykernel_launcher.py:4: RuntimeWarning: More than 20 figures have been opened. Figures created through the pyplot interface (`matplotlib.pyplot.figure`) are retained until explicitly closed and may consume too much memory. (To control this warning, see the rcParam `figure.max_open_warning`).\n",
      "  after removing the cwd from sys.path.\n"
     ]
    },
    {
     "data": {
      "application/vnd.jupyter.widget-view+json": {
       "model_id": "d65a295f0ffc47299204753c388b954f",
       "version_major": 2,
       "version_minor": 0
      },
      "text/plain": [
       "Canvas(toolbar=Toolbar(toolitems=[('Home', 'Reset original view', 'home', 'home'), ('Back', 'Back to previous …"
      ]
     },
     "metadata": {},
     "output_type": "display_data"
    }
   ],
   "source": [
    "pad_length = 100000\n",
    "\n",
    "freq, signal_fft = pythonfft(np.array(x),np.array(y),pad_length)\n",
    "fig, ax0 = plt.subplots(1,1,figsize = (10,6))\n",
    "ax0.plot(freq, abs(signal_fft))\n",
    "ax0.set_xlim(0,10)\n",
    "fig.tight_layout()"
   ]
  },
  {
   "cell_type": "code",
   "execution_count": 128,
   "metadata": {},
   "outputs": [
    {
     "name": "stderr",
     "output_type": "stream",
     "text": [
      "/home/alessio/config/quantumpropagator/lib/python3.6/site-packages/ipykernel_launcher.py:5: RuntimeWarning: More than 20 figures have been opened. Figures created through the pyplot interface (`matplotlib.pyplot.figure`) are retained until explicitly closed and may consume too much memory. (To control this warning, see the rcParam `figure.max_open_warning`).\n",
      "  \"\"\"\n"
     ]
    },
    {
     "data": {
      "application/vnd.jupyter.widget-view+json": {
       "model_id": "72c4a6c5a71c4bdd830362902fe53ab2",
       "version_major": 2,
       "version_minor": 0
      },
      "text/plain": [
       "Canvas(toolbar=Toolbar(toolitems=[('Home', 'Reset original view', 'home', 'home'), ('Back', 'Back to previous …"
      ]
     },
     "metadata": {},
     "output_type": "display_data"
    }
   ],
   "source": [
    "xx = dip['fs_2']\n",
    "yy = dip['dipx']\n",
    "freq_dip, signal_fft_dip = pythonfft(np.array(xx),np.array(yy),pad_length)\n",
    "\n",
    "fig, ax0 = plt.subplots(1,1,figsize = (10,6))\n",
    "ax0.plot(freq_dip, abs(signal_fft_dip))\n",
    "ax0.set_xlim(0,10)\n",
    "fig.tight_layout()"
   ]
  },
  {
   "cell_type": "code",
   "execution_count": 129,
   "metadata": {},
   "outputs": [],
   "source": [
    "S_W = -2 * np.imag(np.conj(signal_fft) * signal_fft_dip)"
   ]
  },
  {
   "cell_type": "code",
   "execution_count": 130,
   "metadata": {},
   "outputs": [
    {
     "name": "stderr",
     "output_type": "stream",
     "text": [
      "/home/alessio/config/quantumpropagator/lib/python3.6/site-packages/ipykernel_launcher.py:1: RuntimeWarning: More than 20 figures have been opened. Figures created through the pyplot interface (`matplotlib.pyplot.figure`) are retained until explicitly closed and may consume too much memory. (To control this warning, see the rcParam `figure.max_open_warning`).\n",
      "  \"\"\"Entry point for launching an IPython kernel.\n"
     ]
    },
    {
     "data": {
      "application/vnd.jupyter.widget-view+json": {
       "model_id": "cf18e86e14a440109a43bec307760782",
       "version_major": 2,
       "version_minor": 0
      },
      "text/plain": [
       "Canvas(toolbar=Toolbar(toolitems=[('Home', 'Reset original view', 'home', 'home'), ('Back', 'Back to previous …"
      ]
     },
     "metadata": {},
     "output_type": "display_data"
    }
   ],
   "source": [
    "fig, ax0 = plt.subplots(1,1,figsize = (10,6))\n",
    "ax0.plot(freq_dip, S_W)\n",
    "ax0.set_xlim(0,10)\n",
    "fig.tight_layout()"
   ]
  }
 ],
 "metadata": {
  "kernelspec": {
   "display_name": "Python 3",
   "language": "python",
   "name": "python3"
  },
  "language_info": {
   "codemirror_mode": {
    "name": "ipython",
    "version": 3
   },
   "file_extension": ".py",
   "mimetype": "text/x-python",
   "name": "python",
   "nbconvert_exporter": "python",
   "pygments_lexer": "ipython3",
   "version": "3.6.8"
  }
 },
 "nbformat": 4,
 "nbformat_minor": 4
}
