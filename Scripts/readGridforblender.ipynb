{
 "cells": [
  {
   "cell_type": "code",
   "execution_count": 1,
   "metadata": {},
   "outputs": [],
   "source": [
    "import numpy as np\n",
    "import glob\n",
    "\n",
    "def at_type_trans(n):\n",
    "    d = {'6':'C', '1':'H'}\n",
    "    return d[n]\n",
    "\n",
    "def read_cube_for_Blender(cube):\n",
    "    '''\n",
    "    hardcoded for Norbornadiene\n",
    "    '''\n",
    "    with open(cube) as c:\n",
    "        c.readline()\n",
    "        c.readline()\n",
    "        natoms, xmin, ymin, zmin = c.readline().split()\n",
    "        nx, x1, x2, x3 = c.readline().split()\n",
    "        ny, y1, y2, y3 = c.readline().split()\n",
    "        nz, z1, z2, z3 = c.readline().split()\n",
    "        atomtype = []\n",
    "        geom = []\n",
    "        for line in range(int(natoms)):\n",
    "            at, one, xg, yg, zg = c.readline().split()\n",
    "            atomtype.append(at_type_trans(at))\n",
    "            geom.append([float(xg),float(yg),float(zg)])\n",
    "        geom_f = np.array(geom)\n",
    "        rest_of_file = c.read()\n",
    "    final_grid = np.array([float(x) for x in rest_of_file.split()])\n",
    "    cube_ob = {'geom': geom_f, 'atomtype' : atomtype, 'cube' : final_grid}\n",
    "    return cube_ob    \n",
    "    \n",
    "cube = 'C:\\\\Users\\\\utente\\\\Desktop\\\\Dropbox\\\\USA\\\\densities\\\\*.cube'\n",
    "\n",
    "ffn = glob.glob(cube)\n",
    "\n",
    "a = read_cube_for_Blender(ffn[0])"
   ]
  },
  {
   "cell_type": "code",
   "execution_count": 2,
   "metadata": {},
   "outputs": [
    {
     "data": {
      "text/plain": [
       "{'geom': array([[ 0.      ,  0.      ,  2.037442],\n",
       "        [ 0.      , -2.109613,  0.      ],\n",
       "        [ 0.      ,  2.109613,  0.      ],\n",
       "        [ 1.690876,  0.      ,  3.210444],\n",
       "        [-1.690876,  0.      ,  3.210444],\n",
       "        [ 0.      , -4.060812,  0.636018],\n",
       "        [ 0.      ,  4.060812,  0.636018],\n",
       "        [-2.330439,  1.291935, -1.541983],\n",
       "        [ 2.330439,  1.291935, -1.541983],\n",
       "        [ 2.330439, -1.291935, -1.541983],\n",
       "        [-2.330439, -1.291935, -1.541983],\n",
       "        [-3.643649,  2.542367, -2.475897],\n",
       "        [ 3.643649,  2.542367, -2.475897],\n",
       "        [ 3.64365 , -2.542367, -2.475897],\n",
       "        [-3.643649, -2.542367, -2.475897]]),\n",
       " 'atomtype': ['C',\n",
       "  'C',\n",
       "  'C',\n",
       "  'H',\n",
       "  'H',\n",
       "  'H',\n",
       "  'H',\n",
       "  'C',\n",
       "  'C',\n",
       "  'C',\n",
       "  'C',\n",
       "  'H',\n",
       "  'H',\n",
       "  'H',\n",
       "  'H'],\n",
       " 'cube': array([2.2913e-11, 3.3199e-11, 4.7332e-11, ..., 3.3577e-12, 2.1724e-12,\n",
       "        1.3906e-12])}"
      ]
     },
     "execution_count": 2,
     "metadata": {},
     "output_type": "execute_result"
    }
   ],
   "source": [
    "a"
   ]
  },
  {
   "cell_type": "code",
   "execution_count": null,
   "metadata": {},
   "outputs": [],
   "source": []
  }
 ],
 "metadata": {
  "kernelspec": {
   "display_name": "Python 3",
   "language": "python",
   "name": "python3"
  },
  "language_info": {
   "codemirror_mode": {
    "name": "ipython",
    "version": 3
   },
   "file_extension": ".py",
   "mimetype": "text/x-python",
   "name": "python",
   "nbconvert_exporter": "python",
   "pygments_lexer": "ipython3",
   "version": "3.7.3"
  }
 },
 "nbformat": 4,
 "nbformat_minor": 2
}
