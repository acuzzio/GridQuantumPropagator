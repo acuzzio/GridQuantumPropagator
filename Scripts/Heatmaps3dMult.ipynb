{
 "cells": [
  {
   "cell_type": "code",
   "execution_count": 1,
   "metadata": {
    "scrolled": true
   },
   "outputs": [],
   "source": [
    "import matplotlib.pyplot as plt\n",
    "import os\n",
    "import pandas as pd\n",
    "import numpy as np\n",
    "import quantumpropagator as qp\n",
    "from quantumpropagator import readWholeH5toDict, abs2\n",
    "#from __future__ import print_function\n",
    "from ipywidgets import interact#, interactive, fixed, interact_manual\n",
    "import ipywidgets as widgets\n",
    "from mpl_toolkits.axes_grid1 import make_axes_locatable"
   ]
  },
  {
   "cell_type": "code",
   "execution_count": 2,
   "metadata": {
    "scrolled": true
   },
   "outputs": [
    {
     "name": "stdout",
     "output_type": "stream",
     "text": [
      "0 -> aaa_input_FinerGrid_0027\n",
      "1 -> aaa_input_FinerGrid_0031\n",
      "2 -> distort_input_FinerGrid_0000\n",
      "3 -> distort_input_FinerGrid_0001\n",
      "4 -> distort_input_FinerGrid_0002\n",
      "5 -> distort_input_FinerGrid_0003\n",
      "6 -> distort_input_FinerGrid_0004\n",
      "7 -> distort_input_FinerGrid_0005\n",
      "8 -> distort_input_FinerGrid_0006\n",
      "9 -> distort_input_FinerGrid_0007\n",
      "10 -> distort_input_FinerGrid_0008\n",
      "11 -> distort_input_FinerGrid_0009\n",
      "12 -> distort_input_FinerGrid_0010\n",
      "13 -> distort_input_FinerGrid_0011\n",
      "14 -> distort_input_FinerGrid_0012\n",
      "15 -> distort_input_FinerGrid_0013\n",
      "16 -> distort_input_FinerGrid_0014\n",
      "17 -> distort_input_FinerGrid_0015\n",
      "18 -> distort_input_FinerGrid_0016\n",
      "19 -> distort_input_FinerGrid_0017\n",
      "20 -> distort_input_FinerGrid_0018\n",
      "21 -> distort_input_FinerGrid_0019\n",
      "22 -> distort_input_FinerGrid_0020\n",
      "\n"
     ]
    }
   ],
   "source": [
    "subfolders = sorted([ dir for dir in os.listdir('.') if os.path.isdir(dir) and dir != '.ipynb_checkpoints'])\n",
    "print(''.join(['{} -> {}\\n'.format(a,b) for a,b in enumerate(subfolders)]))"
   ]
  },
  {
   "cell_type": "code",
   "execution_count": 3,
   "metadata": {
    "scrolled": true
   },
   "outputs": [],
   "source": [
    "a = subfolders[-1]"
   ]
  },
  {
   "cell_type": "code",
   "execution_count": 4,
   "metadata": {
    "scrolled": true
   },
   "outputs": [],
   "source": [
    "filesList = [ fn for fn in sorted(os.listdir(a)) if fn[:8] == 'Gaussian' and fn[-3:] == '.h5']\n",
    "outh5 = os.path.join(a,'allInput.h5')\n",
    "dictio = readWholeH5toDict(outh5)\n",
    "phis,gams,thes = dictio['phis'],dictio['gams'],dictio['thes']\n",
    "lastV = len(filesList)-1\n",
    "# dictio.keys()\n",
    "zeroWF = qp.retrieve_hdf5_data(os.path.join(a,filesList[0]),'WF')\n",
    "vmaxV = abs2(zeroWF).max()\n",
    "phiL,gamL,theL,nstates = (qp.retrieve_hdf5_data(os.path.join(a,filesList[0]),'WF')).shape\n",
    "\n",
    "####################### HERE PHI IS MAGNIFICATED, NOT GOOD #########################################\n",
    "\n",
    "phisT = phis*100\n",
    "gamsT = np.rad2deg(gams)\n",
    "thesT = np.rad2deg(thes)*2\n",
    "\n",
    "equi_p = 28\n",
    "equi_g = 20\n",
    "equi_t = 28"
   ]
  },
  {
   "cell_type": "code",
   "execution_count": 5,
   "metadata": {},
   "outputs": [],
   "source": [
    "def heatThisP(h5File,first,second,vmaxV,state,sliced,which,save=None):\n",
    "    '''\n",
    "    WATCH OUT GAMMA IS \"randomly\" MULTIPLIED BY 3 !!!\n",
    "    '''\n",
    "    aaa = np.rad2deg\n",
    "    save = save or False\n",
    "    time = qp.retrieve_hdf5_data(h5File,'Time')[0]\n",
    "    fig = plt.figure(figsize=(10, 10), dpi= 80, facecolor='w', edgecolor='k')\n",
    "    #fig = plt.figure(figsize=(10, 10), dpi= 80, facecolor='w', edgecolor='k')\n",
    "    plt.title('Time = {:10.5f} fs'.format(time))\n",
    "\n",
    "    if which == 'phi':\n",
    "        wf   = qp.retrieve_hdf5_data(h5File,'WF')[sliced,:,:,state]\n",
    "        plt.ylabel('Gamma')\n",
    "        plt.xlabel('Theta')\n",
    "        ext = [aaa(second[0]),aaa(second[-1]),aaa(first[0]),aaa(first[-1])]\n",
    "    \n",
    "    elif which == 'gam':\n",
    "        wf   = qp.retrieve_hdf5_data(h5File,'WF')[:,sliced,:,state]\n",
    "        plt.ylabel('Phi')\n",
    "        plt.xlabel('Theta')\n",
    "        ext = [aaa(second[0]),aaa(second[-1]),first[0]*50,first[-1]*50]\n",
    "        \n",
    "    elif which == 'the':\n",
    "        wf   = qp.retrieve_hdf5_data(h5File,'WF')[:,:,sliced,state]\n",
    "        plt.ylabel('Phi')\n",
    "        plt.xlabel('Gamma')\n",
    "        ext = [aaa(second[0]),aaa(second[-1]),first[0]*50,first[-1]*50]\n",
    "    \n",
    "\n",
    "    \n",
    "    # this is to get a nice colorbar on the side\n",
    "    ax = plt.gca()\n",
    "\n",
    "    im = ax.imshow(qp.abs2(wf), extent=ext, cmap='hot', vmax=vmaxV)\n",
    "    #im = ax.imshow(qp.abs2(wf), cmap='PuBu_r', vmax=0.4)\n",
    "    divider = make_axes_locatable(ax)\n",
    "    cax = divider.append_axes(\"right\", size=\"5%\", pad=0.05)\n",
    "\n",
    "    plt.colorbar(im, cax=cax)\n",
    "    \n",
    "    if save:\n",
    "        fig.savefig(os.path.splitext(h5File)[0] + '.png')\n",
    "        plt.close()"
   ]
  },
  {
   "cell_type": "markdown",
   "metadata": {},
   "source": [
    "# Phi Slices"
   ]
  },
  {
   "cell_type": "markdown",
   "metadata": {},
   "source": [
    "# CHECK the order of plotting axis"
   ]
  },
  {
   "cell_type": "code",
   "execution_count": 6,
   "metadata": {
    "scrolled": false
   },
   "outputs": [
    {
     "data": {
      "application/vnd.jupyter.widget-view+json": {
       "model_id": "d8627f5450834030a30f5c27ac346eb9",
       "version_major": 2,
       "version_minor": 0
      },
      "text/plain": [
       "interactive(children=(IntSlider(value=2, description='frame', max=2), IntSlider(value=0, description='state', …"
      ]
     },
     "metadata": {},
     "output_type": "display_data"
    }
   ],
   "source": [
    "def f_tg(frame,state,phi):\n",
    "    return heatThisP(os.path.join(a,filesList[frame]),gams,thes,vmaxV,state,phi,'phi')\n",
    "\n",
    "interact(f_tg, frame = widgets.IntSlider(min=0,max=lastV,step=1,value=lastV),state = widgets.IntSlider(min=0,max=nstates-1,step=1,value=0), phi = widgets.IntSlider(min=0,max=phiL-1,step=1,value=equi_p));\n",
    "createimages = False"
   ]
  },
  {
   "cell_type": "markdown",
   "metadata": {},
   "source": [
    "# Gamma slices"
   ]
  },
  {
   "cell_type": "code",
   "execution_count": 7,
   "metadata": {
    "scrolled": false
   },
   "outputs": [
    {
     "data": {
      "application/vnd.jupyter.widget-view+json": {
       "model_id": "0af8aab0c5ab443bb1a1a81bd3efbb9f",
       "version_major": 2,
       "version_minor": 0
      },
      "text/plain": [
       "interactive(children=(IntSlider(value=2, description='frame', max=2), IntSlider(value=0, description='state', …"
      ]
     },
     "metadata": {},
     "output_type": "display_data"
    }
   ],
   "source": [
    "def f_pt(frame, state, gamma):\n",
    "    return heatThisP(os.path.join(a,filesList[frame]),phis,thes,vmaxV,state,gamma,'gam')\n",
    "\n",
    "interact(f_pt, frame = widgets.IntSlider(min=0,max=lastV,step=1,value=lastV),state = widgets.IntSlider(min=0,max=nstates-1,step=1,value=0), gamma = widgets.IntSlider(min=0,max=gamL-1,step=1,value=equi_g));"
   ]
  },
  {
   "cell_type": "markdown",
   "metadata": {},
   "source": [
    "# Theta slices"
   ]
  },
  {
   "cell_type": "code",
   "execution_count": 8,
   "metadata": {},
   "outputs": [
    {
     "data": {
      "application/vnd.jupyter.widget-view+json": {
       "model_id": "08afa8b06eea4d1e9a5c5ed1612cc3bd",
       "version_major": 2,
       "version_minor": 0
      },
      "text/plain": [
       "interactive(children=(IntSlider(value=2, description='frame', max=2), IntSlider(value=0, description='state', …"
      ]
     },
     "metadata": {},
     "output_type": "display_data"
    }
   ],
   "source": [
    "def f_pg(frame, state, theta):\n",
    "    return heatThisP(os.path.join(a,filesList[frame]),phis,gams,vmaxV,state,theta,'the')\n",
    "\n",
    "interact(f_pg, frame = widgets.IntSlider(min=0,max=lastV,step=1,value=lastV),state = widgets.IntSlider(min=0,max=nstates-1,step=1,value=0), theta = widgets.IntSlider(min=0,max=theL-1,step=1,value=equi_t));"
   ]
  },
  {
   "cell_type": "markdown",
   "metadata": {},
   "source": [
    "# 1d slices"
   ]
  },
  {
   "cell_type": "code",
   "execution_count": 9,
   "metadata": {
    "scrolled": false
   },
   "outputs": [],
   "source": [
    "def slice1D(h5File, first, second, label, exa):\n",
    "    wf  = qp.retrieve_hdf5_data(h5File,'WF')\n",
    "    fig = plt.figure(figsize=(11, 6), dpi= 80, facecolor='w', edgecolor='k')\n",
    "    time = qp.retrieve_hdf5_data(h5File,'Time')[0]\n",
    "    plt.ylim(-0.5,0.5)\n",
    "    if label == 'phi':\n",
    "        ys = wf[:,first,second,:]*exa\n",
    "        plt.title('Time = {:10.5f} fs | theta = {:8.3f} | gamma = {:8.3f}'.format(time,thesT[first],gamsT[second]))\n",
    "        labelsX = phisT\n",
    "        plt.xlabel('Phi')\n",
    "    if label == 'gam':\n",
    "        ys = wf[first,:,second,:]*exa\n",
    "        plt.title('Time = {:10.5f} fs | phi = {:8.3f} | theta = {:8.3f}'.format(time,phisT[first],thesT[second]))\n",
    "        labelsX = gamsT\n",
    "        plt.xlabel('Gamma')\n",
    "    if label == 'the':\n",
    "        ys = wf[first,second,:,:]*exa\n",
    "        plt.title('Time = {:10.5f} fs | phi = {:8.3f} | gamma = {:8.3f}'.format(time,phisT[first],gamsT[second]))\n",
    "        labelsX = thesT\n",
    "        plt.xlabel('Theta')\n",
    "    \n",
    "    plt.plot(labelsX, np.real(ys), linewidth=1,ls='--')\n",
    "    plt.plot(labelsX, np.imag(ys), linewidth=1,ls='--')\n",
    "    plt.plot(labelsX, abs2(ys), linewidth=3,ls='-')"
   ]
  },
  {
   "cell_type": "markdown",
   "metadata": {},
   "source": [
    "## 1D Phi"
   ]
  },
  {
   "cell_type": "code",
   "execution_count": 10,
   "metadata": {
    "scrolled": false
   },
   "outputs": [
    {
     "data": {
      "application/vnd.jupyter.widget-view+json": {
       "model_id": "e8350175cb5e4574a534eb1e51c9cd94",
       "version_major": 2,
       "version_minor": 0
      },
      "text/plain": [
       "interactive(children=(IntSlider(value=2, description='file_number', max=2), IntSlider(value=20, description='g…"
      ]
     },
     "metadata": {},
     "output_type": "display_data"
    }
   ],
   "source": [
    "def fphi(file_number,gamma, theta,exa):\n",
    "    return slice1D(os.path.join(a, filesList[file_number]), gamma, theta, 'phi', exa)\n",
    "\n",
    "interact(fphi, file_number = widgets.IntSlider(min=0,max=lastV,step=1,value=lastV), gamma = widgets.IntSlider(min=0,max=gamL-1,step=1,value=equi_g), theta = widgets.IntSlider(min=0,max=theL-1,step=1,value=equi_t), exa = widgets.IntSlider(min=1,max=10,step=1,value=1));"
   ]
  },
  {
   "cell_type": "markdown",
   "metadata": {},
   "source": [
    "## 1D Gamma"
   ]
  },
  {
   "cell_type": "code",
   "execution_count": 11,
   "metadata": {
    "scrolled": false
   },
   "outputs": [
    {
     "data": {
      "application/vnd.jupyter.widget-view+json": {
       "model_id": "9fc319322c854509ba33f34574c50cb4",
       "version_major": 2,
       "version_minor": 0
      },
      "text/plain": [
       "interactive(children=(IntSlider(value=2, description='file_number', max=2), IntSlider(value=28, description='p…"
      ]
     },
     "metadata": {},
     "output_type": "display_data"
    }
   ],
   "source": [
    "def fgam(file_number,phi,theta,exa):\n",
    "    return slice1D(os.path.join(a, filesList[file_number]), phi, theta, 'gam', exa)\n",
    "\n",
    "interact(fgam, file_number = widgets.IntSlider(min=0,max=lastV,step=1,value=lastV), phi = widgets.IntSlider(min=0,max=phiL-1,step=1,value=equi_p), theta = widgets.IntSlider(min=0,max=theL-1,step=1,value=equi_t), exa = widgets.IntSlider(min=1,max=10,step=1,value=1));"
   ]
  },
  {
   "cell_type": "markdown",
   "metadata": {},
   "source": [
    "## 1D Theta"
   ]
  },
  {
   "cell_type": "code",
   "execution_count": 12,
   "metadata": {},
   "outputs": [
    {
     "data": {
      "application/vnd.jupyter.widget-view+json": {
       "model_id": "c7f63920b7ca49fe95969c9419881775",
       "version_major": 2,
       "version_minor": 0
      },
      "text/plain": [
       "interactive(children=(IntSlider(value=2, description='file_number', max=2), IntSlider(value=28, description='p…"
      ]
     },
     "metadata": {},
     "output_type": "display_data"
    }
   ],
   "source": [
    "def fthe(file_number,phi,gamma,exa):\n",
    "    return slice1D(os.path.join(a, filesList[file_number]), phi, gamma, 'the', exa)\n",
    "\n",
    "interact(fthe, file_number = widgets.IntSlider(min=0,max=lastV,step=1,value=lastV), phi = widgets.IntSlider(min=0,max=phiL-1,step=1,value=equi_p), gamma = widgets.IntSlider(min=0,max=gamL-1,step=1,value=equi_g), exa = widgets.IntSlider(min=1,max=10,step=1,value=1));"
   ]
  },
  {
   "cell_type": "markdown",
   "metadata": {},
   "source": [
    "# Population and Energies"
   ]
  },
  {
   "cell_type": "code",
   "execution_count": 13,
   "metadata": {
    "scrolled": true
   },
   "outputs": [],
   "source": [
    "outfn = os.path.join(a,'output')\n",
    "outfnP = os.path.join(a,'outputPopul')\n",
    "data = pd.read_csv(outfn, delim_whitespace=True, header=None);\n",
    "dataP = pd.read_csv(outfnP, delim_whitespace=True, header=None);\n",
    "data.columns = ['steps','fs','Norm Deviation','Kinetic','Potential','Total','Total deviation','Xpulse','Ypulse','Zpulse']"
   ]
  },
  {
   "cell_type": "code",
   "execution_count": 14,
   "metadata": {
    "scrolled": true
   },
   "outputs": [
    {
     "data": {
      "text/html": [
       "<div>\n",
       "<style>\n",
       "    .dataframe thead tr:only-child th {\n",
       "        text-align: right;\n",
       "    }\n",
       "\n",
       "    .dataframe thead th {\n",
       "        text-align: left;\n",
       "    }\n",
       "\n",
       "    .dataframe tbody tr th {\n",
       "        vertical-align: top;\n",
       "    }\n",
       "</style>\n",
       "<table border=\"1\" class=\"dataframe\">\n",
       "  <thead>\n",
       "    <tr style=\"text-align: right;\">\n",
       "      <th></th>\n",
       "      <th>steps</th>\n",
       "      <th>fs</th>\n",
       "      <th>Norm Deviation</th>\n",
       "      <th>Kinetic</th>\n",
       "      <th>Potential</th>\n",
       "      <th>Total</th>\n",
       "      <th>Total deviation</th>\n",
       "      <th>Xpulse</th>\n",
       "      <th>Ypulse</th>\n",
       "      <th>Zpulse</th>\n",
       "      <th>0</th>\n",
       "      <th>1</th>\n",
       "      <th>2</th>\n",
       "    </tr>\n",
       "  </thead>\n",
       "  <tbody>\n",
       "    <tr>\n",
       "      <th>0</th>\n",
       "      <td>0</td>\n",
       "      <td>0.000000</td>\n",
       "      <td>-4.440892e-16</td>\n",
       "      <td>1.000724</td>\n",
       "      <td>0.757976</td>\n",
       "      <td>1.758700</td>\n",
       "      <td>0.000000</td>\n",
       "      <td>0.0</td>\n",
       "      <td>0.0</td>\n",
       "      <td>0.0</td>\n",
       "      <td>0.0000</td>\n",
       "      <td>1.000000</td>\n",
       "      <td>0.0</td>\n",
       "    </tr>\n",
       "    <tr>\n",
       "      <th>1</th>\n",
       "      <td>20</td>\n",
       "      <td>0.200199</td>\n",
       "      <td>1.167657e-06</td>\n",
       "      <td>0.964348</td>\n",
       "      <td>0.794344</td>\n",
       "      <td>1.758692</td>\n",
       "      <td>0.000008</td>\n",
       "      <td>0.0</td>\n",
       "      <td>0.0</td>\n",
       "      <td>0.0</td>\n",
       "      <td>0.2002</td>\n",
       "      <td>0.999998</td>\n",
       "      <td>0.0</td>\n",
       "    </tr>\n",
       "    <tr>\n",
       "      <th>2</th>\n",
       "      <td>40</td>\n",
       "      <td>0.400397</td>\n",
       "      <td>4.799647e-06</td>\n",
       "      <td>0.869504</td>\n",
       "      <td>0.889164</td>\n",
       "      <td>1.758668</td>\n",
       "      <td>0.000032</td>\n",
       "      <td>0.0</td>\n",
       "      <td>0.0</td>\n",
       "      <td>0.0</td>\n",
       "      <td>0.4004</td>\n",
       "      <td>0.999990</td>\n",
       "      <td>0.0</td>\n",
       "    </tr>\n",
       "    <tr>\n",
       "      <th>3</th>\n",
       "      <td>60</td>\n",
       "      <td>0.600596</td>\n",
       "      <td>1.148619e-05</td>\n",
       "      <td>0.754026</td>\n",
       "      <td>1.004603</td>\n",
       "      <td>1.758629</td>\n",
       "      <td>0.000071</td>\n",
       "      <td>0.0</td>\n",
       "      <td>0.0</td>\n",
       "      <td>0.0</td>\n",
       "      <td>0.6006</td>\n",
       "      <td>0.999977</td>\n",
       "      <td>0.0</td>\n",
       "    </tr>\n",
       "  </tbody>\n",
       "</table>\n",
       "</div>"
      ],
      "text/plain": [
       "   steps        fs  Norm Deviation   Kinetic  Potential     Total  \\\n",
       "0      0  0.000000   -4.440892e-16  1.000724   0.757976  1.758700   \n",
       "1     20  0.200199    1.167657e-06  0.964348   0.794344  1.758692   \n",
       "2     40  0.400397    4.799647e-06  0.869504   0.889164  1.758668   \n",
       "3     60  0.600596    1.148619e-05  0.754026   1.004603  1.758629   \n",
       "\n",
       "   Total deviation  Xpulse  Ypulse  Zpulse       0         1    2  \n",
       "0         0.000000     0.0     0.0     0.0  0.0000  1.000000  0.0  \n",
       "1         0.000008     0.0     0.0     0.0  0.2002  0.999998  0.0  \n",
       "2         0.000032     0.0     0.0     0.0  0.4004  0.999990  0.0  \n",
       "3         0.000071     0.0     0.0     0.0  0.6006  0.999977  0.0  "
      ]
     },
     "execution_count": 14,
     "metadata": {},
     "output_type": "execute_result"
    }
   ],
   "source": [
    "result = pd.concat([data, dataP], axis=1)\n",
    "result"
   ]
  },
  {
   "cell_type": "code",
   "execution_count": 15,
   "metadata": {
    "scrolled": false
   },
   "outputs": [
    {
     "data": {
      "image/png": "[encoded data removed]",
      "text/plain": [
       "<matplotlib.figure.Figure at 0x7f858b22aa90>"
      ]
     },
     "metadata": {},
     "output_type": "display_data"
    },
    {
     "data": {
      "image/png": "[encoded data removed]",
      "text/plain": [
       "<matplotlib.figure.Figure at 0x7f858af25c18>"
      ]
     },
     "metadata": {},
     "output_type": "display_data"
    },
    {
     "data": {
      "image/png": "[encoded data removed]",
      "text/plain": [
       "<matplotlib.figure.Figure at 0x7f858b0c2d30>"
      ]
     },
     "metadata": {},
     "output_type": "display_data"
    },
    {
     "data": {
      "image/png": "[encoded data removed]",
      "text/plain": [
       "<matplotlib.figure.Figure at 0x7f858b0bbba8>"
      ]
     },
     "metadata": {},
     "output_type": "display_data"
    }
   ],
   "source": [
    "data.plot(title = 'Norm Deviation', x='fs', y = 'Norm Deviation', figsize=(15,4));\n",
    "data.plot(title = 'Kinetic', x='fs', y = 'Kinetic', figsize=(15,4));\n",
    "data.plot(title = 'Potential', x='fs', y = 'Potential', figsize=(15,4));\n",
    "data.plot(title = 'Total', x='fs', y = 'Total', figsize=(15,4));"
   ]
  },
  {
   "cell_type": "code",
   "execution_count": 16,
   "metadata": {},
   "outputs": [
    {
     "data": {
      "image/png": "[encoded data removed]",
      "text/plain": [
       "<matplotlib.figure.Figure at 0x7f858b241160>"
      ]
     },
     "metadata": {},
     "output_type": "display_data"
    }
   ],
   "source": [
    "data['Kinetic_Moved'] = data['Kinetic'] + data['Potential'][0]\n",
    "data.plot(title = 'Comparison Potential Total Kinetic', x=['fs'] ,y=['Kinetic_Moved','Potential','Total'], figsize=(15,5));"
   ]
  },
  {
   "cell_type": "code",
   "execution_count": 17,
   "metadata": {},
   "outputs": [
    {
     "data": {
      "image/png": "[encoded data removed]",
      "text/plain": [
       "<matplotlib.figure.Figure at 0x7f85940b96a0>"
      ]
     },
     "metadata": {},
     "output_type": "display_data"
    }
   ],
   "source": [
    "fig = plt.figure(figsize=(11,5))\n",
    "ax1 = fig.add_subplot(111)\n",
    "ax2 = ax1.twinx()\n",
    "ax1.set_ylabel('Population')\n",
    "ax2.set_ylabel('Pulse')\n",
    "popul = np.arange(nstates)+1\n",
    "result.plot(title = 'Population and Pulse', ax = ax1,  x=['fs'] ,y=popul, linewidth=0.8)\n",
    "result.plot(title = 'Population and Pulse', ax = ax2,  x=['fs'] ,y=['Xpulse','Ypulse','Zpulse'], linewidth=0.5,ls='--');"
   ]
  },
  {
   "cell_type": "markdown",
   "metadata": {},
   "source": [
    "## Expected values"
   ]
  },
  {
   "cell_type": "code",
   "execution_count": 18,
   "metadata": {},
   "outputs": [
    {
     "data": {
      "application/vnd.jupyter.widget-view+json": {
       "model_id": "553d3bfbba6f4a408b11ada30b10be99",
       "version_major": 2,
       "version_minor": 0
      },
      "text/plain": [
       "interactive(children=(IntSlider(value=2, description='x', max=2), Output()), _dom_classes=('widget-interact',)…"
      ]
     },
     "metadata": {},
     "output_type": "display_data"
    }
   ],
   "source": [
    "def expected(h5file):\n",
    "    wf  = qp.retrieve_hdf5_data(h5file,'WF')\n",
    "    time = qp.retrieve_hdf5_data(h5file,'Time')[0]\n",
    "    print('Time: {:5.2f} fs'.format(time))\n",
    "    _,_,_,nstates = wf.shape\n",
    "    for i in range(nstates):\n",
    "        wfState = wf[:,:,:,i]\n",
    "        popu = np.linalg.norm(wfState) # this is norm, the real popu is this squared\n",
    "        if popu == 0:\n",
    "            print('Expected Values State {}:\\nPopul: {:10.3f} \\n  Phi: - \\n  Theta: - \\n  Gamma: -'.format(i, popu**2))\n",
    "        else:\n",
    "            wfA = abs2(wfState/popu)\n",
    "            # We need to sun and then sum again. From 3d to 1d.\n",
    "            phiAvg = np.sum(np.sum(wfA,axis=2),axis=1)\n",
    "            gamAvg = np.sum(np.sum(wfA,axis=2),axis=0)\n",
    "            theAvg = np.sum(np.sum(wfA,axis=1),axis=0)\n",
    "            phiA = sum([ phisT[i] * phiAvg[i] for i in range(phiAvg.size) ])\n",
    "            gamA = sum([ gamsT[i] * gamAvg[i] for i in range(gamAvg.size) ])\n",
    "            theA = sum([ thesT[i] * theAvg[i] for i in range(theAvg.size) ])\n",
    "            print('Expected Values State {}:\\nPopul: {:10.3f} \\n  Phi:   {:10.3f} \\n  Theta: {:10.3f} \\n  Gamma: {:10.3f}'.format(i, popu**2, phiA, theA, gamA))\n",
    "\n",
    "def fexp(x):\n",
    "    return expected(os.path.join(a,filesList[x]))\n",
    "\n",
    "interact(fexp, x = widgets.IntSlider(min=0,max=lastV,step=1,value=lastV));"
   ]
  },
  {
   "cell_type": "markdown",
   "metadata": {},
   "source": [
    "## Look at side of cell"
   ]
  },
  {
   "cell_type": "code",
   "execution_count": 19,
   "metadata": {},
   "outputs": [
    {
     "data": {
      "application/vnd.jupyter.widget-view+json": {
       "model_id": "91441012b8bb44a5a90d4156936f92ee",
       "version_major": 2,
       "version_minor": 0
      },
      "text/plain": [
       "interactive(children=(IntSlider(value=2, description='x', max=2), Output()), _dom_classes=('widget-interact',)…"
      ]
     },
     "metadata": {},
     "output_type": "display_data"
    }
   ],
   "source": [
    "def side(h5file):\n",
    "    wf  = qp.retrieve_hdf5_data(h5file,'WF')\n",
    "    time = qp.retrieve_hdf5_data(h5file,'Time')[0]\n",
    "    print('Time: {:5.2f} fs'.format(time))\n",
    "    wfAB = qp.abs2(wf)\n",
    "    print('Phi -> {:5.2e} {:5.2e}'.format(np.sum(wfAB[-1,:,:,0]),np.sum(wfAB[0,:,:,0])))\n",
    "    print('Gam -> {:5.2e} {:5.2e}'.format(np.sum(wfAB[:,-1,:,0]),np.sum(wfAB[:,0,:,0])))\n",
    "    print('The -> {:5.2e} {:5.2e}'.format(np.sum(wfAB[:,:,-1,0]),np.sum(wfAB[:,:,0,0])))\n",
    "\n",
    "\n",
    "def side_f(x):\n",
    "    return side(os.path.join(a,filesList[x]))\n",
    "    \n",
    "interact(side_f, x = widgets.IntSlider(min=0,max=lastV,step=1,value=lastV));"
   ]
  },
  {
   "cell_type": "code",
   "execution_count": null,
   "metadata": {},
   "outputs": [],
   "source": []
  }
 ],
 "metadata": {
  "kernelspec": {
   "display_name": "Python 3",
   "language": "python",
   "name": "python3"
  },
  "language_info": {
   "codemirror_mode": {
    "name": "ipython",
    "version": 3
   },
   "file_extension": ".py",
   "mimetype": "text/x-python",
   "name": "python",
   "nbconvert_exporter": "python",
   "pygments_lexer": "ipython3",
   "version": "3.6.1"
  }
 },
 "nbformat": 4,
 "nbformat_minor": 2
}
