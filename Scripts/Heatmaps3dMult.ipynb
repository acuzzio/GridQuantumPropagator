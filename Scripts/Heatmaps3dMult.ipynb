{
 "cells": [
  {
   "cell_type": "code",
   "execution_count": 1,
   "metadata": {
    "scrolled": true
   },
   "outputs": [],
   "source": [
    "import matplotlib.pyplot as plt\n",
    "import os\n",
    "import pandas as pd\n",
    "import numpy as np\n",
    "import quantumpropagator as qp\n",
    "from quantumpropagator import readWholeH5toDict, abs2\n",
    "#from __future__ import print_function\n",
    "from ipywidgets import interact#, interactive, fixed, interact_manual\n",
    "import ipywidgets as widgets\n",
    "from mpl_toolkits.axes_grid1 import make_axes_locatable"
   ]
  },
  {
   "cell_type": "code",
   "execution_count": 2,
   "metadata": {
    "scrolled": true
   },
   "outputs": [
    {
     "name": "stdout",
     "output_type": "stream",
     "text": [
      "0 -> aaa_input_FinerGrid_0027\n",
      "1 -> aaa_input_FinerGrid_0031\n",
      "2 -> bbb_finerfinergrid_exploding\n",
      "3 -> bbb_finergrid_3d_withoutpotential\n",
      "4 -> distort_input_FinerGrid_0000\n",
      "5 -> distort_input_FinerGrid_0001\n",
      "6 -> distort_input_FinerGrid_0002\n",
      "7 -> distort_input_FinerGrid_0003\n",
      "8 -> distort_input_FinerGrid_0004\n",
      "9 -> distort_input_FinerGrid_0005\n",
      "10 -> distort_input_FinerGrid_0006\n",
      "11 -> distort_input_FinerGrid_0007\n",
      "12 -> distort_input_FinerGrid_0008\n",
      "13 -> distort_input_FinerGrid_0009\n",
      "\n"
     ]
    }
   ],
   "source": [
    "subfolders = sorted([ dir for dir in os.listdir('.') if os.path.isdir(dir) and dir != '.ipynb_checkpoints'])\n",
    "print(''.join(['{} -> {}\\n'.format(a,b) for a,b in enumerate(subfolders)]))"
   ]
  },
  {
   "cell_type": "code",
   "execution_count": 3,
   "metadata": {
    "scrolled": true
   },
   "outputs": [],
   "source": [
    "a = subfolders[-1]"
   ]
  },
  {
   "cell_type": "code",
   "execution_count": 4,
   "metadata": {
    "scrolled": true
   },
   "outputs": [],
   "source": [
    "filesList = [ fn for fn in sorted(os.listdir(a)) if fn[:8] == 'Gaussian' and fn[-3:] == '.h5']\n",
    "outh5 = os.path.join(a,'allInput.h5')\n",
    "dictio = readWholeH5toDict(outh5)\n",
    "phis,gams,thes = dictio['phis'],dictio['gams'],dictio['thes']\n",
    "lastV = len(filesList)-1\n",
    "# dictio.keys()\n",
    "zeroWF = qp.retrieve_hdf5_data(os.path.join(a,filesList[0]),'WF')\n",
    "vmaxV = abs2(zeroWF).max()\n",
    "phiL,gamL,theL,nstates = (qp.retrieve_hdf5_data(os.path.join(a,filesList[0]),'WF')).shape\n",
    "\n",
    "####################### HERE PHI IS MAGNIFICATED, NOT GOOD #########################################\n",
    "\n",
    "phisT = phis*100\n",
    "gamsT = np.rad2deg(gams)\n",
    "thesT = np.rad2deg(thes)*2\n",
    "\n",
    "equi_p = 56\n",
    "equi_g = 40\n",
    "equi_t = 56"
   ]
  },
  {
   "cell_type": "code",
   "execution_count": 5,
   "metadata": {},
   "outputs": [],
   "source": [
    "def heatThisP(h5File,first,second,vmaxV,state,sliced,which,save=None):\n",
    "    '''\n",
    "    \n",
    "    '''\n",
    "    aaa = np.rad2deg\n",
    "    save = save or False\n",
    "    time = qp.retrieve_hdf5_data(h5File,'Time')[0]\n",
    "    fig = plt.figure(figsize=(10, 10), dpi= 80, facecolor='w', edgecolor='k')\n",
    "    #fig = plt.figure(figsize=(10, 10), dpi= 80, facecolor='w', edgecolor='k')\n",
    "    plt.title('Time = {:10.5f} fs'.format(time))\n",
    "\n",
    "    if which == 'phi':\n",
    "        wf   = qp.retrieve_hdf5_data(h5File,'WF')[sliced,:,:,state]\n",
    "        plt.ylabel('Gamma')\n",
    "        plt.xlabel('Theta')\n",
    "        ext = [aaa(second[0]),aaa(second[-1]),aaa(first[0]),aaa(first[-1])]\n",
    "    \n",
    "    elif which == 'gam':\n",
    "        wf   = qp.retrieve_hdf5_data(h5File,'WF')[:,sliced,:,state]\n",
    "        plt.ylabel('Phi')\n",
    "        plt.xlabel('Theta')\n",
    "        ext = [aaa(second[0]),aaa(second[-1]),first[0]*50,first[-1]*50]\n",
    "        \n",
    "    elif which == 'the':\n",
    "        wf   = qp.retrieve_hdf5_data(h5File,'WF')[:,:,sliced,state]\n",
    "        plt.ylabel('Phi')\n",
    "        plt.xlabel('Gamma')\n",
    "        ext = [aaa(second[0]),aaa(second[-1]),first[0]*50,first[-1]*50]\n",
    "    \n",
    "\n",
    "    \n",
    "    # this is to get a nice colorbar on the side\n",
    "    ax = plt.gca()\n",
    "\n",
    "    im = ax.imshow(qp.abs2(wf), extent=ext, cmap='hot', vmax=vmaxV)\n",
    "    #im = ax.imshow(qp.abs2(wf), cmap='PuBu_r', vmax=0.4)\n",
    "    divider = make_axes_locatable(ax)\n",
    "    cax = divider.append_axes(\"right\", size=\"5%\", pad=0.05)\n",
    "\n",
    "    plt.colorbar(im, cax=cax)\n",
    "    \n",
    "    if save:\n",
    "        fig.savefig(os.path.splitext(h5File)[0] + '.png')\n",
    "        plt.close()"
   ]
  },
  {
   "cell_type": "markdown",
   "metadata": {},
   "source": [
    "# Phi Slices"
   ]
  },
  {
   "cell_type": "code",
   "execution_count": 6,
   "metadata": {
    "scrolled": false
   },
   "outputs": [
    {
     "data": {
      "application/vnd.jupyter.widget-view+json": {
       "model_id": "65264f60466842eb82150436435f0a0c",
       "version_major": 2,
       "version_minor": 0
      },
      "text/plain": [
       "interactive(children=(IntSlider(value=34, description='frame', max=34), IntSlider(value=0, description='state'…"
      ]
     },
     "metadata": {},
     "output_type": "display_data"
    }
   ],
   "source": [
    "def f_tg(frame,state,phi):\n",
    "    return heatThisP(os.path.join(a,filesList[frame]),gams,thes,vmaxV,state,phi,'phi')\n",
    "\n",
    "interact(f_tg, frame = widgets.IntSlider(min=0,max=lastV,step=1,value=lastV),state = widgets.IntSlider(min=0,max=nstates-1,step=1,value=0), phi = widgets.IntSlider(min=0,max=phiL-1,step=1,value=equi_p));\n",
    "createimages = False"
   ]
  },
  {
   "cell_type": "markdown",
   "metadata": {},
   "source": [
    "# Gamma slices"
   ]
  },
  {
   "cell_type": "code",
   "execution_count": 7,
   "metadata": {
    "scrolled": false
   },
   "outputs": [
    {
     "data": {
      "application/vnd.jupyter.widget-view+json": {
       "model_id": "ed3fc626a2294647a0bd5347d65b3306",
       "version_major": 2,
       "version_minor": 0
      },
      "text/plain": [
       "interactive(children=(IntSlider(value=34, description='frame', max=34), IntSlider(value=0, description='state'…"
      ]
     },
     "metadata": {},
     "output_type": "display_data"
    }
   ],
   "source": [
    "def f_pt(frame, state, gamma):\n",
    "    return heatThisP(os.path.join(a,filesList[frame]),phis,thes,vmaxV,state,gamma,'gam')\n",
    "\n",
    "interact(f_pt, frame = widgets.IntSlider(min=0,max=lastV,step=1,value=lastV),state = widgets.IntSlider(min=0,max=nstates-1,step=1,value=0), gamma = widgets.IntSlider(min=0,max=gamL-1,step=1,value=equi_g));"
   ]
  },
  {
   "cell_type": "markdown",
   "metadata": {},
   "source": [
    "# Theta slices"
   ]
  },
  {
   "cell_type": "code",
   "execution_count": 8,
   "metadata": {},
   "outputs": [
    {
     "data": {
      "application/vnd.jupyter.widget-view+json": {
       "model_id": "7ac1db8137664cf18c747b26cec21562",
       "version_major": 2,
       "version_minor": 0
      },
      "text/plain": [
       "interactive(children=(IntSlider(value=34, description='frame', max=34), IntSlider(value=0, description='state'…"
      ]
     },
     "metadata": {},
     "output_type": "display_data"
    }
   ],
   "source": [
    "def f_pg(frame, state, theta):\n",
    "    return heatThisP(os.path.join(a,filesList[frame]),phis,gams,vmaxV,state,theta,'the')\n",
    "\n",
    "interact(f_pg, frame = widgets.IntSlider(min=0,max=lastV,step=1,value=lastV),state = widgets.IntSlider(min=0,max=nstates-1,step=1,value=0), theta = widgets.IntSlider(min=0,max=theL-1,step=1,value=equi_t));"
   ]
  },
  {
   "cell_type": "markdown",
   "metadata": {},
   "source": [
    "# 1d slices"
   ]
  },
  {
   "cell_type": "code",
   "execution_count": 9,
   "metadata": {
    "scrolled": false
   },
   "outputs": [],
   "source": [
    "def slice1D(h5File, first, second, label, exa):\n",
    "    wf  = qp.retrieve_hdf5_data(h5File,'WF')\n",
    "    fig = plt.figure(figsize=(11, 6), dpi= 80, facecolor='w', edgecolor='k')\n",
    "    time = qp.retrieve_hdf5_data(h5File,'Time')[0]\n",
    "    plt.ylim(-0.5,0.5)\n",
    "    if label == 'phi':\n",
    "        ys = wf[:,first,second,:]*exa\n",
    "        plt.title('Time = {:10.5f} fs | gamma = {:8.3f} | theta = {:8.3f}'.format(time,gamsT[first],thesT[second]))\n",
    "        labelsX = phisT\n",
    "        plt.xlabel('Phi')\n",
    "    if label == 'gam':\n",
    "        ys = wf[first,:,second,:]*exa\n",
    "        plt.title('Time = {:10.5f} fs | phi = {:8.3f} | theta = {:8.3f}'.format(time,phisT[first],thesT[second]))\n",
    "        labelsX = gamsT\n",
    "        plt.xlabel('Gamma')\n",
    "    if label == 'the':\n",
    "        ys = wf[first,second,:,:]*exa\n",
    "        plt.title('Time = {:10.5f} fs | phi = {:8.3f} | gamma = {:8.3f}'.format(time,phisT[first],gamsT[second]))\n",
    "        labelsX = thesT\n",
    "        plt.xlabel('Theta')\n",
    "    \n",
    "    plt.plot(labelsX, np.real(ys), linewidth=1,ls='--')\n",
    "    plt.plot(labelsX, np.imag(ys), linewidth=1,ls='--')\n",
    "    plt.plot(labelsX, abs2(ys), linewidth=3,ls='-')"
   ]
  },
  {
   "cell_type": "markdown",
   "metadata": {},
   "source": [
    "## 1D Phi"
   ]
  },
  {
   "cell_type": "code",
   "execution_count": 10,
   "metadata": {
    "scrolled": false
   },
   "outputs": [
    {
     "data": {
      "application/vnd.jupyter.widget-view+json": {
       "model_id": "2e8ce2277e444212ad3d47e89bd12da8",
       "version_major": 2,
       "version_minor": 0
      },
      "text/plain": [
       "interactive(children=(IntSlider(value=34, description='file_number', max=34), IntSlider(value=40, description=…"
      ]
     },
     "metadata": {},
     "output_type": "display_data"
    }
   ],
   "source": [
    "def fphi(file_number,gamma, theta,exa):\n",
    "    return slice1D(os.path.join(a, filesList[file_number]), gamma, theta, 'phi', exa)\n",
    "\n",
    "interact(fphi, file_number = widgets.IntSlider(min=0,max=lastV,step=1,value=lastV), gamma = widgets.IntSlider(min=0,max=gamL-1,step=1,value=equi_g), theta = widgets.IntSlider(min=0,max=theL-1,step=1,value=equi_t), exa = widgets.IntSlider(min=1,max=10,step=1,value=1));"
   ]
  },
  {
   "cell_type": "markdown",
   "metadata": {},
   "source": [
    "## 1D Gamma"
   ]
  },
  {
   "cell_type": "code",
   "execution_count": 11,
   "metadata": {
    "scrolled": false
   },
   "outputs": [
    {
     "data": {
      "application/vnd.jupyter.widget-view+json": {
       "model_id": "e6955c1112514977a2831788d2eb6ebd",
       "version_major": 2,
       "version_minor": 0
      },
      "text/plain": [
       "interactive(children=(IntSlider(value=34, description='file_number', max=34), IntSlider(value=56, description=…"
      ]
     },
     "metadata": {},
     "output_type": "display_data"
    }
   ],
   "source": [
    "def fgam(file_number,phi,theta,exa):\n",
    "    return slice1D(os.path.join(a, filesList[file_number]), phi, theta, 'gam', exa)\n",
    "\n",
    "interact(fgam, file_number = widgets.IntSlider(min=0,max=lastV,step=1,value=lastV), phi = widgets.IntSlider(min=0,max=phiL-1,step=1,value=equi_p), theta = widgets.IntSlider(min=0,max=theL-1,step=1,value=equi_t), exa = widgets.IntSlider(min=1,max=10,step=1,value=1));"
   ]
  },
  {
   "cell_type": "markdown",
   "metadata": {},
   "source": [
    "## 1D Theta"
   ]
  },
  {
   "cell_type": "code",
   "execution_count": 12,
   "metadata": {},
   "outputs": [
    {
     "data": {
      "application/vnd.jupyter.widget-view+json": {
       "model_id": "44b7a1fe724349f683ede1b1671cca51",
       "version_major": 2,
       "version_minor": 0
      },
      "text/plain": [
       "interactive(children=(IntSlider(value=34, description='file_number', max=34), IntSlider(value=56, description=…"
      ]
     },
     "metadata": {},
     "output_type": "display_data"
    }
   ],
   "source": [
    "def fthe(file_number,phi,gamma,exa):\n",
    "    return slice1D(os.path.join(a, filesList[file_number]), phi, gamma, 'the', exa)\n",
    "\n",
    "interact(fthe, file_number = widgets.IntSlider(min=0,max=lastV,step=1,value=lastV), phi = widgets.IntSlider(min=0,max=phiL-1,step=1,value=equi_p), gamma = widgets.IntSlider(min=0,max=gamL-1,step=1,value=equi_g), exa = widgets.IntSlider(min=1,max=10,step=1,value=1));"
   ]
  },
  {
   "cell_type": "markdown",
   "metadata": {},
   "source": [
    "# Population and Energies"
   ]
  },
  {
   "cell_type": "code",
   "execution_count": 13,
   "metadata": {
    "scrolled": true
   },
   "outputs": [],
   "source": [
    "outfn = os.path.join(a,'output')\n",
    "outfnP = os.path.join(a,'outputPopul')\n",
    "data = pd.read_csv(outfn, delim_whitespace=True, header=None);\n",
    "dataP = pd.read_csv(outfnP, delim_whitespace=True, header=None);\n",
    "data.columns = ['steps','fs','Norm Deviation','Kinetic','Potential','Total','Total deviation','Xpulse','Ypulse','Zpulse']"
   ]
  },
  {
   "cell_type": "code",
   "execution_count": 14,
   "metadata": {
    "scrolled": true
   },
   "outputs": [
    {
     "data": {
      "text/html": [
       "<div>\n",
       "<style>\n",
       "    .dataframe thead tr:only-child th {\n",
       "        text-align: right;\n",
       "    }\n",
       "\n",
       "    .dataframe thead th {\n",
       "        text-align: left;\n",
       "    }\n",
       "\n",
       "    .dataframe tbody tr th {\n",
       "        vertical-align: top;\n",
       "    }\n",
       "</style>\n",
       "<table border=\"1\" class=\"dataframe\">\n",
       "  <thead>\n",
       "    <tr style=\"text-align: right;\">\n",
       "      <th></th>\n",
       "      <th>steps</th>\n",
       "      <th>fs</th>\n",
       "      <th>Norm Deviation</th>\n",
       "      <th>Kinetic</th>\n",
       "      <th>Potential</th>\n",
       "      <th>Total</th>\n",
       "      <th>Total deviation</th>\n",
       "      <th>Xpulse</th>\n",
       "      <th>Ypulse</th>\n",
       "      <th>Zpulse</th>\n",
       "      <th>0</th>\n",
       "      <th>1</th>\n",
       "      <th>2</th>\n",
       "    </tr>\n",
       "  </thead>\n",
       "  <tbody>\n",
       "    <tr>\n",
       "      <th>0</th>\n",
       "      <td>0</td>\n",
       "      <td>0.000000</td>\n",
       "      <td>1.110223e-16</td>\n",
       "      <td>1.014629</td>\n",
       "      <td>0.0</td>\n",
       "      <td>1.014629</td>\n",
       "      <td>0.000000</td>\n",
       "      <td>0.0</td>\n",
       "      <td>0.0</td>\n",
       "      <td>0.0</td>\n",
       "      <td>0.0000</td>\n",
       "      <td>1.00000</td>\n",
       "      <td>0.0</td>\n",
       "    </tr>\n",
       "    <tr>\n",
       "      <th>1</th>\n",
       "      <td>10</td>\n",
       "      <td>0.100099</td>\n",
       "      <td>1.516488e-08</td>\n",
       "      <td>1.014621</td>\n",
       "      <td>0.0</td>\n",
       "      <td>1.014621</td>\n",
       "      <td>0.000007</td>\n",
       "      <td>0.0</td>\n",
       "      <td>0.0</td>\n",
       "      <td>0.0</td>\n",
       "      <td>0.1001</td>\n",
       "      <td>1.00000</td>\n",
       "      <td>0.0</td>\n",
       "    </tr>\n",
       "    <tr>\n",
       "      <th>2</th>\n",
       "      <td>20</td>\n",
       "      <td>0.200199</td>\n",
       "      <td>-4.552402e-08</td>\n",
       "      <td>1.014619</td>\n",
       "      <td>0.0</td>\n",
       "      <td>1.014619</td>\n",
       "      <td>0.000009</td>\n",
       "      <td>0.0</td>\n",
       "      <td>0.0</td>\n",
       "      <td>0.0</td>\n",
       "      <td>0.2002</td>\n",
       "      <td>1.00000</td>\n",
       "      <td>0.0</td>\n",
       "    </tr>\n",
       "    <tr>\n",
       "      <th>3</th>\n",
       "      <td>30</td>\n",
       "      <td>0.300298</td>\n",
       "      <td>-1.623741e-07</td>\n",
       "      <td>1.014619</td>\n",
       "      <td>0.0</td>\n",
       "      <td>1.014619</td>\n",
       "      <td>0.000010</td>\n",
       "      <td>0.0</td>\n",
       "      <td>0.0</td>\n",
       "      <td>0.0</td>\n",
       "      <td>0.3003</td>\n",
       "      <td>1.00000</td>\n",
       "      <td>0.0</td>\n",
       "    </tr>\n",
       "    <tr>\n",
       "      <th>4</th>\n",
       "      <td>40</td>\n",
       "      <td>0.400397</td>\n",
       "      <td>-3.306030e-07</td>\n",
       "      <td>1.014619</td>\n",
       "      <td>0.0</td>\n",
       "      <td>1.014619</td>\n",
       "      <td>0.000010</td>\n",
       "      <td>0.0</td>\n",
       "      <td>0.0</td>\n",
       "      <td>0.0</td>\n",
       "      <td>0.4004</td>\n",
       "      <td>1.00000</td>\n",
       "      <td>0.0</td>\n",
       "    </tr>\n",
       "    <tr>\n",
       "      <th>5</th>\n",
       "      <td>50</td>\n",
       "      <td>0.500496</td>\n",
       "      <td>-5.490312e-07</td>\n",
       "      <td>1.014619</td>\n",
       "      <td>0.0</td>\n",
       "      <td>1.014619</td>\n",
       "      <td>0.000010</td>\n",
       "      <td>0.0</td>\n",
       "      <td>0.0</td>\n",
       "      <td>0.0</td>\n",
       "      <td>0.5005</td>\n",
       "      <td>1.00000</td>\n",
       "      <td>0.0</td>\n",
       "    </tr>\n",
       "    <tr>\n",
       "      <th>6</th>\n",
       "      <td>60</td>\n",
       "      <td>0.600596</td>\n",
       "      <td>-8.173632e-07</td>\n",
       "      <td>1.014619</td>\n",
       "      <td>0.0</td>\n",
       "      <td>1.014619</td>\n",
       "      <td>0.000009</td>\n",
       "      <td>0.0</td>\n",
       "      <td>0.0</td>\n",
       "      <td>0.0</td>\n",
       "      <td>0.6006</td>\n",
       "      <td>1.00000</td>\n",
       "      <td>0.0</td>\n",
       "    </tr>\n",
       "    <tr>\n",
       "      <th>7</th>\n",
       "      <td>70</td>\n",
       "      <td>0.700695</td>\n",
       "      <td>-1.135534e-06</td>\n",
       "      <td>1.014620</td>\n",
       "      <td>0.0</td>\n",
       "      <td>1.014620</td>\n",
       "      <td>0.000009</td>\n",
       "      <td>0.0</td>\n",
       "      <td>0.0</td>\n",
       "      <td>0.0</td>\n",
       "      <td>0.7007</td>\n",
       "      <td>1.00000</td>\n",
       "      <td>0.0</td>\n",
       "    </tr>\n",
       "    <tr>\n",
       "      <th>8</th>\n",
       "      <td>80</td>\n",
       "      <td>0.800794</td>\n",
       "      <td>-1.503532e-06</td>\n",
       "      <td>1.014621</td>\n",
       "      <td>0.0</td>\n",
       "      <td>1.014621</td>\n",
       "      <td>0.000008</td>\n",
       "      <td>0.0</td>\n",
       "      <td>0.0</td>\n",
       "      <td>0.0</td>\n",
       "      <td>0.8008</td>\n",
       "      <td>1.00000</td>\n",
       "      <td>0.0</td>\n",
       "    </tr>\n",
       "    <tr>\n",
       "      <th>9</th>\n",
       "      <td>90</td>\n",
       "      <td>0.900893</td>\n",
       "      <td>-1.921473e-06</td>\n",
       "      <td>1.014622</td>\n",
       "      <td>0.0</td>\n",
       "      <td>1.014622</td>\n",
       "      <td>0.000007</td>\n",
       "      <td>0.0</td>\n",
       "      <td>0.0</td>\n",
       "      <td>0.0</td>\n",
       "      <td>0.9009</td>\n",
       "      <td>1.00000</td>\n",
       "      <td>0.0</td>\n",
       "    </tr>\n",
       "    <tr>\n",
       "      <th>10</th>\n",
       "      <td>100</td>\n",
       "      <td>1.000993</td>\n",
       "      <td>-2.390362e-06</td>\n",
       "      <td>1.014623</td>\n",
       "      <td>0.0</td>\n",
       "      <td>1.014623</td>\n",
       "      <td>0.000006</td>\n",
       "      <td>0.0</td>\n",
       "      <td>0.0</td>\n",
       "      <td>0.0</td>\n",
       "      <td>1.0010</td>\n",
       "      <td>1.00000</td>\n",
       "      <td>0.0</td>\n",
       "    </tr>\n",
       "    <tr>\n",
       "      <th>11</th>\n",
       "      <td>110</td>\n",
       "      <td>1.101092</td>\n",
       "      <td>-2.915366e-06</td>\n",
       "      <td>1.014625</td>\n",
       "      <td>0.0</td>\n",
       "      <td>1.014625</td>\n",
       "      <td>0.000004</td>\n",
       "      <td>0.0</td>\n",
       "      <td>0.0</td>\n",
       "      <td>0.0</td>\n",
       "      <td>1.1011</td>\n",
       "      <td>1.00001</td>\n",
       "      <td>0.0</td>\n",
       "    </tr>\n",
       "    <tr>\n",
       "      <th>12</th>\n",
       "      <td>120</td>\n",
       "      <td>1.201191</td>\n",
       "      <td>-3.511961e-06</td>\n",
       "      <td>1.014627</td>\n",
       "      <td>0.0</td>\n",
       "      <td>1.014627</td>\n",
       "      <td>0.000002</td>\n",
       "      <td>0.0</td>\n",
       "      <td>0.0</td>\n",
       "      <td>0.0</td>\n",
       "      <td>1.2012</td>\n",
       "      <td>1.00001</td>\n",
       "      <td>0.0</td>\n",
       "    </tr>\n",
       "    <tr>\n",
       "      <th>13</th>\n",
       "      <td>130</td>\n",
       "      <td>1.301291</td>\n",
       "      <td>-4.211719e-06</td>\n",
       "      <td>1.014630</td>\n",
       "      <td>0.0</td>\n",
       "      <td>1.014630</td>\n",
       "      <td>-0.000001</td>\n",
       "      <td>0.0</td>\n",
       "      <td>0.0</td>\n",
       "      <td>0.0</td>\n",
       "      <td>1.3013</td>\n",
       "      <td>1.00001</td>\n",
       "      <td>0.0</td>\n",
       "    </tr>\n",
       "    <tr>\n",
       "      <th>14</th>\n",
       "      <td>140</td>\n",
       "      <td>1.401390</td>\n",
       "      <td>-5.062987e-06</td>\n",
       "      <td>1.014635</td>\n",
       "      <td>0.0</td>\n",
       "      <td>1.014635</td>\n",
       "      <td>-0.000007</td>\n",
       "      <td>0.0</td>\n",
       "      <td>0.0</td>\n",
       "      <td>0.0</td>\n",
       "      <td>1.4014</td>\n",
       "      <td>1.00001</td>\n",
       "      <td>0.0</td>\n",
       "    </tr>\n",
       "    <tr>\n",
       "      <th>15</th>\n",
       "      <td>150</td>\n",
       "      <td>1.501489</td>\n",
       "      <td>-6.125112e-06</td>\n",
       "      <td>1.014643</td>\n",
       "      <td>0.0</td>\n",
       "      <td>1.014643</td>\n",
       "      <td>-0.000014</td>\n",
       "      <td>0.0</td>\n",
       "      <td>0.0</td>\n",
       "      <td>0.0</td>\n",
       "      <td>1.5015</td>\n",
       "      <td>1.00001</td>\n",
       "      <td>0.0</td>\n",
       "    </tr>\n",
       "    <tr>\n",
       "      <th>16</th>\n",
       "      <td>160</td>\n",
       "      <td>1.601588</td>\n",
       "      <td>-7.458954e-06</td>\n",
       "      <td>1.014653</td>\n",
       "      <td>0.0</td>\n",
       "      <td>1.014653</td>\n",
       "      <td>-0.000024</td>\n",
       "      <td>0.0</td>\n",
       "      <td>0.0</td>\n",
       "      <td>0.0</td>\n",
       "      <td>1.6016</td>\n",
       "      <td>1.00001</td>\n",
       "      <td>0.0</td>\n",
       "    </tr>\n",
       "    <tr>\n",
       "      <th>17</th>\n",
       "      <td>170</td>\n",
       "      <td>1.701688</td>\n",
       "      <td>-9.117583e-06</td>\n",
       "      <td>1.014666</td>\n",
       "      <td>0.0</td>\n",
       "      <td>1.014666</td>\n",
       "      <td>-0.000037</td>\n",
       "      <td>0.0</td>\n",
       "      <td>0.0</td>\n",
       "      <td>0.0</td>\n",
       "      <td>1.7017</td>\n",
       "      <td>1.00002</td>\n",
       "      <td>0.0</td>\n",
       "    </tr>\n",
       "    <tr>\n",
       "      <th>18</th>\n",
       "      <td>180</td>\n",
       "      <td>1.801787</td>\n",
       "      <td>-1.113979e-05</td>\n",
       "      <td>1.014682</td>\n",
       "      <td>0.0</td>\n",
       "      <td>1.014682</td>\n",
       "      <td>-0.000053</td>\n",
       "      <td>0.0</td>\n",
       "      <td>0.0</td>\n",
       "      <td>0.0</td>\n",
       "      <td>1.8018</td>\n",
       "      <td>1.00002</td>\n",
       "      <td>0.0</td>\n",
       "    </tr>\n",
       "    <tr>\n",
       "      <th>19</th>\n",
       "      <td>190</td>\n",
       "      <td>1.901886</td>\n",
       "      <td>-1.354717e-05</td>\n",
       "      <td>1.014699</td>\n",
       "      <td>0.0</td>\n",
       "      <td>1.014699</td>\n",
       "      <td>-0.000071</td>\n",
       "      <td>0.0</td>\n",
       "      <td>0.0</td>\n",
       "      <td>0.0</td>\n",
       "      <td>1.9019</td>\n",
       "      <td>1.00003</td>\n",
       "      <td>0.0</td>\n",
       "    </tr>\n",
       "    <tr>\n",
       "      <th>20</th>\n",
       "      <td>200</td>\n",
       "      <td>2.001985</td>\n",
       "      <td>-1.634421e-05</td>\n",
       "      <td>1.014719</td>\n",
       "      <td>0.0</td>\n",
       "      <td>1.014719</td>\n",
       "      <td>-0.000090</td>\n",
       "      <td>0.0</td>\n",
       "      <td>0.0</td>\n",
       "      <td>0.0</td>\n",
       "      <td>2.0020</td>\n",
       "      <td>1.00003</td>\n",
       "      <td>0.0</td>\n",
       "    </tr>\n",
       "    <tr>\n",
       "      <th>21</th>\n",
       "      <td>210</td>\n",
       "      <td>2.102085</td>\n",
       "      <td>-1.952026e-05</td>\n",
       "      <td>1.014740</td>\n",
       "      <td>0.0</td>\n",
       "      <td>1.014740</td>\n",
       "      <td>-0.000111</td>\n",
       "      <td>0.0</td>\n",
       "      <td>0.0</td>\n",
       "      <td>0.0</td>\n",
       "      <td>2.1021</td>\n",
       "      <td>1.00004</td>\n",
       "      <td>0.0</td>\n",
       "    </tr>\n",
       "    <tr>\n",
       "      <th>22</th>\n",
       "      <td>220</td>\n",
       "      <td>2.202184</td>\n",
       "      <td>-2.305230e-05</td>\n",
       "      <td>1.014762</td>\n",
       "      <td>0.0</td>\n",
       "      <td>1.014762</td>\n",
       "      <td>-0.000133</td>\n",
       "      <td>0.0</td>\n",
       "      <td>0.0</td>\n",
       "      <td>0.0</td>\n",
       "      <td>2.2022</td>\n",
       "      <td>1.00005</td>\n",
       "      <td>0.0</td>\n",
       "    </tr>\n",
       "    <tr>\n",
       "      <th>23</th>\n",
       "      <td>230</td>\n",
       "      <td>2.302283</td>\n",
       "      <td>-2.690869e-05</td>\n",
       "      <td>1.014785</td>\n",
       "      <td>0.0</td>\n",
       "      <td>1.014785</td>\n",
       "      <td>-0.000156</td>\n",
       "      <td>0.0</td>\n",
       "      <td>0.0</td>\n",
       "      <td>0.0</td>\n",
       "      <td>2.3023</td>\n",
       "      <td>1.00005</td>\n",
       "      <td>0.0</td>\n",
       "    </tr>\n",
       "    <tr>\n",
       "      <th>24</th>\n",
       "      <td>240</td>\n",
       "      <td>2.402383</td>\n",
       "      <td>-3.105218e-05</td>\n",
       "      <td>1.014807</td>\n",
       "      <td>0.0</td>\n",
       "      <td>1.014807</td>\n",
       "      <td>-0.000178</td>\n",
       "      <td>0.0</td>\n",
       "      <td>0.0</td>\n",
       "      <td>0.0</td>\n",
       "      <td>2.4024</td>\n",
       "      <td>1.00006</td>\n",
       "      <td>0.0</td>\n",
       "    </tr>\n",
       "    <tr>\n",
       "      <th>25</th>\n",
       "      <td>250</td>\n",
       "      <td>2.502482</td>\n",
       "      <td>-3.543987e-05</td>\n",
       "      <td>1.014829</td>\n",
       "      <td>0.0</td>\n",
       "      <td>1.014829</td>\n",
       "      <td>-0.000200</td>\n",
       "      <td>0.0</td>\n",
       "      <td>0.0</td>\n",
       "      <td>0.0</td>\n",
       "      <td>2.5025</td>\n",
       "      <td>1.00007</td>\n",
       "      <td>0.0</td>\n",
       "    </tr>\n",
       "    <tr>\n",
       "      <th>26</th>\n",
       "      <td>260</td>\n",
       "      <td>2.602581</td>\n",
       "      <td>-4.003092e-05</td>\n",
       "      <td>1.014851</td>\n",
       "      <td>0.0</td>\n",
       "      <td>1.014851</td>\n",
       "      <td>-0.000222</td>\n",
       "      <td>0.0</td>\n",
       "      <td>0.0</td>\n",
       "      <td>0.0</td>\n",
       "      <td>2.6026</td>\n",
       "      <td>1.00008</td>\n",
       "      <td>0.0</td>\n",
       "    </tr>\n",
       "    <tr>\n",
       "      <th>27</th>\n",
       "      <td>270</td>\n",
       "      <td>2.702680</td>\n",
       "      <td>-4.477795e-05</td>\n",
       "      <td>1.014872</td>\n",
       "      <td>0.0</td>\n",
       "      <td>1.014872</td>\n",
       "      <td>-0.000243</td>\n",
       "      <td>0.0</td>\n",
       "      <td>0.0</td>\n",
       "      <td>0.0</td>\n",
       "      <td>2.7027</td>\n",
       "      <td>1.00009</td>\n",
       "      <td>0.0</td>\n",
       "    </tr>\n",
       "    <tr>\n",
       "      <th>28</th>\n",
       "      <td>280</td>\n",
       "      <td>2.802780</td>\n",
       "      <td>-4.964663e-05</td>\n",
       "      <td>1.014892</td>\n",
       "      <td>0.0</td>\n",
       "      <td>1.014892</td>\n",
       "      <td>-0.000263</td>\n",
       "      <td>0.0</td>\n",
       "      <td>0.0</td>\n",
       "      <td>0.0</td>\n",
       "      <td>2.8028</td>\n",
       "      <td>1.00010</td>\n",
       "      <td>0.0</td>\n",
       "    </tr>\n",
       "    <tr>\n",
       "      <th>29</th>\n",
       "      <td>290</td>\n",
       "      <td>2.902879</td>\n",
       "      <td>-5.458117e-05</td>\n",
       "      <td>1.014911</td>\n",
       "      <td>0.0</td>\n",
       "      <td>1.014911</td>\n",
       "      <td>-0.000282</td>\n",
       "      <td>0.0</td>\n",
       "      <td>0.0</td>\n",
       "      <td>0.0</td>\n",
       "      <td>2.9029</td>\n",
       "      <td>1.00011</td>\n",
       "      <td>0.0</td>\n",
       "    </tr>\n",
       "    <tr>\n",
       "      <th>30</th>\n",
       "      <td>300</td>\n",
       "      <td>3.002978</td>\n",
       "      <td>-5.956161e-05</td>\n",
       "      <td>1.014929</td>\n",
       "      <td>0.0</td>\n",
       "      <td>1.014929</td>\n",
       "      <td>-0.000300</td>\n",
       "      <td>0.0</td>\n",
       "      <td>0.0</td>\n",
       "      <td>0.0</td>\n",
       "      <td>3.0030</td>\n",
       "      <td>1.00012</td>\n",
       "      <td>0.0</td>\n",
       "    </tr>\n",
       "    <tr>\n",
       "      <th>31</th>\n",
       "      <td>310</td>\n",
       "      <td>3.103077</td>\n",
       "      <td>-6.454986e-05</td>\n",
       "      <td>1.014946</td>\n",
       "      <td>0.0</td>\n",
       "      <td>1.014946</td>\n",
       "      <td>-0.000317</td>\n",
       "      <td>0.0</td>\n",
       "      <td>0.0</td>\n",
       "      <td>0.0</td>\n",
       "      <td>3.1031</td>\n",
       "      <td>1.00013</td>\n",
       "      <td>0.0</td>\n",
       "    </tr>\n",
       "    <tr>\n",
       "      <th>32</th>\n",
       "      <td>320</td>\n",
       "      <td>3.203177</td>\n",
       "      <td>-6.945649e-05</td>\n",
       "      <td>1.014961</td>\n",
       "      <td>0.0</td>\n",
       "      <td>1.014961</td>\n",
       "      <td>-0.000332</td>\n",
       "      <td>0.0</td>\n",
       "      <td>0.0</td>\n",
       "      <td>0.0</td>\n",
       "      <td>3.2032</td>\n",
       "      <td>1.00014</td>\n",
       "      <td>0.0</td>\n",
       "    </tr>\n",
       "    <tr>\n",
       "      <th>33</th>\n",
       "      <td>330</td>\n",
       "      <td>3.303276</td>\n",
       "      <td>-7.436901e-05</td>\n",
       "      <td>1.014975</td>\n",
       "      <td>0.0</td>\n",
       "      <td>1.014975</td>\n",
       "      <td>-0.000347</td>\n",
       "      <td>0.0</td>\n",
       "      <td>0.0</td>\n",
       "      <td>0.0</td>\n",
       "      <td>3.3033</td>\n",
       "      <td>1.00015</td>\n",
       "      <td>0.0</td>\n",
       "    </tr>\n",
       "    <tr>\n",
       "      <th>34</th>\n",
       "      <td>340</td>\n",
       "      <td>3.403375</td>\n",
       "      <td>-7.919288e-05</td>\n",
       "      <td>1.014989</td>\n",
       "      <td>0.0</td>\n",
       "      <td>1.014989</td>\n",
       "      <td>-0.000360</td>\n",
       "      <td>0.0</td>\n",
       "      <td>0.0</td>\n",
       "      <td>0.0</td>\n",
       "      <td>3.4034</td>\n",
       "      <td>1.00016</td>\n",
       "      <td>0.0</td>\n",
       "    </tr>\n",
       "  </tbody>\n",
       "</table>\n",
       "</div>"
      ],
      "text/plain": [
       "    steps        fs  Norm Deviation   Kinetic  Potential     Total  \\\n",
       "0       0  0.000000    1.110223e-16  1.014629        0.0  1.014629   \n",
       "1      10  0.100099    1.516488e-08  1.014621        0.0  1.014621   \n",
       "2      20  0.200199   -4.552402e-08  1.014619        0.0  1.014619   \n",
       "3      30  0.300298   -1.623741e-07  1.014619        0.0  1.014619   \n",
       "4      40  0.400397   -3.306030e-07  1.014619        0.0  1.014619   \n",
       "5      50  0.500496   -5.490312e-07  1.014619        0.0  1.014619   \n",
       "6      60  0.600596   -8.173632e-07  1.014619        0.0  1.014619   \n",
       "7      70  0.700695   -1.135534e-06  1.014620        0.0  1.014620   \n",
       "8      80  0.800794   -1.503532e-06  1.014621        0.0  1.014621   \n",
       "9      90  0.900893   -1.921473e-06  1.014622        0.0  1.014622   \n",
       "10    100  1.000993   -2.390362e-06  1.014623        0.0  1.014623   \n",
       "11    110  1.101092   -2.915366e-06  1.014625        0.0  1.014625   \n",
       "12    120  1.201191   -3.511961e-06  1.014627        0.0  1.014627   \n",
       "13    130  1.301291   -4.211719e-06  1.014630        0.0  1.014630   \n",
       "14    140  1.401390   -5.062987e-06  1.014635        0.0  1.014635   \n",
       "15    150  1.501489   -6.125112e-06  1.014643        0.0  1.014643   \n",
       "16    160  1.601588   -7.458954e-06  1.014653        0.0  1.014653   \n",
       "17    170  1.701688   -9.117583e-06  1.014666        0.0  1.014666   \n",
       "18    180  1.801787   -1.113979e-05  1.014682        0.0  1.014682   \n",
       "19    190  1.901886   -1.354717e-05  1.014699        0.0  1.014699   \n",
       "20    200  2.001985   -1.634421e-05  1.014719        0.0  1.014719   \n",
       "21    210  2.102085   -1.952026e-05  1.014740        0.0  1.014740   \n",
       "22    220  2.202184   -2.305230e-05  1.014762        0.0  1.014762   \n",
       "23    230  2.302283   -2.690869e-05  1.014785        0.0  1.014785   \n",
       "24    240  2.402383   -3.105218e-05  1.014807        0.0  1.014807   \n",
       "25    250  2.502482   -3.543987e-05  1.014829        0.0  1.014829   \n",
       "26    260  2.602581   -4.003092e-05  1.014851        0.0  1.014851   \n",
       "27    270  2.702680   -4.477795e-05  1.014872        0.0  1.014872   \n",
       "28    280  2.802780   -4.964663e-05  1.014892        0.0  1.014892   \n",
       "29    290  2.902879   -5.458117e-05  1.014911        0.0  1.014911   \n",
       "30    300  3.002978   -5.956161e-05  1.014929        0.0  1.014929   \n",
       "31    310  3.103077   -6.454986e-05  1.014946        0.0  1.014946   \n",
       "32    320  3.203177   -6.945649e-05  1.014961        0.0  1.014961   \n",
       "33    330  3.303276   -7.436901e-05  1.014975        0.0  1.014975   \n",
       "34    340  3.403375   -7.919288e-05  1.014989        0.0  1.014989   \n",
       "\n",
       "    Total deviation  Xpulse  Ypulse  Zpulse       0        1    2  \n",
       "0          0.000000     0.0     0.0     0.0  0.0000  1.00000  0.0  \n",
       "1          0.000007     0.0     0.0     0.0  0.1001  1.00000  0.0  \n",
       "2          0.000009     0.0     0.0     0.0  0.2002  1.00000  0.0  \n",
       "3          0.000010     0.0     0.0     0.0  0.3003  1.00000  0.0  \n",
       "4          0.000010     0.0     0.0     0.0  0.4004  1.00000  0.0  \n",
       "5          0.000010     0.0     0.0     0.0  0.5005  1.00000  0.0  \n",
       "6          0.000009     0.0     0.0     0.0  0.6006  1.00000  0.0  \n",
       "7          0.000009     0.0     0.0     0.0  0.7007  1.00000  0.0  \n",
       "8          0.000008     0.0     0.0     0.0  0.8008  1.00000  0.0  \n",
       "9          0.000007     0.0     0.0     0.0  0.9009  1.00000  0.0  \n",
       "10         0.000006     0.0     0.0     0.0  1.0010  1.00000  0.0  \n",
       "11         0.000004     0.0     0.0     0.0  1.1011  1.00001  0.0  \n",
       "12         0.000002     0.0     0.0     0.0  1.2012  1.00001  0.0  \n",
       "13        -0.000001     0.0     0.0     0.0  1.3013  1.00001  0.0  \n",
       "14        -0.000007     0.0     0.0     0.0  1.4014  1.00001  0.0  \n",
       "15        -0.000014     0.0     0.0     0.0  1.5015  1.00001  0.0  \n",
       "16        -0.000024     0.0     0.0     0.0  1.6016  1.00001  0.0  \n",
       "17        -0.000037     0.0     0.0     0.0  1.7017  1.00002  0.0  \n",
       "18        -0.000053     0.0     0.0     0.0  1.8018  1.00002  0.0  \n",
       "19        -0.000071     0.0     0.0     0.0  1.9019  1.00003  0.0  \n",
       "20        -0.000090     0.0     0.0     0.0  2.0020  1.00003  0.0  \n",
       "21        -0.000111     0.0     0.0     0.0  2.1021  1.00004  0.0  \n",
       "22        -0.000133     0.0     0.0     0.0  2.2022  1.00005  0.0  \n",
       "23        -0.000156     0.0     0.0     0.0  2.3023  1.00005  0.0  \n",
       "24        -0.000178     0.0     0.0     0.0  2.4024  1.00006  0.0  \n",
       "25        -0.000200     0.0     0.0     0.0  2.5025  1.00007  0.0  \n",
       "26        -0.000222     0.0     0.0     0.0  2.6026  1.00008  0.0  \n",
       "27        -0.000243     0.0     0.0     0.0  2.7027  1.00009  0.0  \n",
       "28        -0.000263     0.0     0.0     0.0  2.8028  1.00010  0.0  \n",
       "29        -0.000282     0.0     0.0     0.0  2.9029  1.00011  0.0  \n",
       "30        -0.000300     0.0     0.0     0.0  3.0030  1.00012  0.0  \n",
       "31        -0.000317     0.0     0.0     0.0  3.1031  1.00013  0.0  \n",
       "32        -0.000332     0.0     0.0     0.0  3.2032  1.00014  0.0  \n",
       "33        -0.000347     0.0     0.0     0.0  3.3033  1.00015  0.0  \n",
       "34        -0.000360     0.0     0.0     0.0  3.4034  1.00016  0.0  "
      ]
     },
     "execution_count": 14,
     "metadata": {},
     "output_type": "execute_result"
    }
   ],
   "source": [
    "result = pd.concat([data, dataP], axis=1)\n",
    "result"
   ]
  },
  {
   "cell_type": "code",
   "execution_count": 15,
   "metadata": {
    "scrolled": false
   },
   "outputs": [
    {
     "data": {
      "image/png": "[encoded data removed]",
      "text/plain": [
       "<matplotlib.figure.Figure at 0x7f7e1961df28>"
      ]
     },
     "metadata": {},
     "output_type": "display_data"
    },
    {
     "data": {
      "image/png": "[encoded data removed]",
      "text/plain": [
       "<matplotlib.figure.Figure at 0x7f7e1943ab00>"
      ]
     },
     "metadata": {},
     "output_type": "display_data"
    },
    {
     "data": {
      "image/png": "[encoded data removed]",
      "text/plain": [
       "<matplotlib.figure.Figure at 0x7f7e19633fd0>"
      ]
     },
     "metadata": {},
     "output_type": "display_data"
    },
    {
     "data": {
      "image/png": "[encoded data removed]",
      "text/plain": [
       "<matplotlib.figure.Figure at 0x7f7e196de080>"
      ]
     },
     "metadata": {},
     "output_type": "display_data"
    }
   ],
   "source": [
    "data.plot(title = 'Norm Deviation', x='fs', y = 'Norm Deviation', figsize=(15,4));\n",
    "data.plot(title = 'Kinetic', x='fs', y = 'Kinetic', figsize=(15,4));\n",
    "data.plot(title = 'Potential', x='fs', y = 'Potential', figsize=(15,4));\n",
    "data.plot(title = 'Total', x='fs', y = 'Total', figsize=(15,4));"
   ]
  },
  {
   "cell_type": "code",
   "execution_count": 16,
   "metadata": {},
   "outputs": [
    {
     "data": {
      "image/png": "[encoded data removed]",
      "text/plain": [
       "<matplotlib.figure.Figure at 0x7f7e19785278>"
      ]
     },
     "metadata": {},
     "output_type": "display_data"
    }
   ],
   "source": [
    "data['Kinetic_Moved'] = data['Kinetic'] + data['Potential'][0]\n",
    "data.plot(title = 'Comparison Potential Total Kinetic', x=['fs'] ,y=['Kinetic_Moved','Potential','Total'], figsize=(15,5));"
   ]
  },
  {
   "cell_type": "code",
   "execution_count": 17,
   "metadata": {},
   "outputs": [
    {
     "data": {
      "image/png": "[encoded data removed]",
      "text/plain": [
       "<matplotlib.figure.Figure at 0x7f7e196a3390>"
      ]
     },
     "metadata": {},
     "output_type": "display_data"
    }
   ],
   "source": [
    "fig = plt.figure(figsize=(11,5))\n",
    "ax1 = fig.add_subplot(111)\n",
    "ax2 = ax1.twinx()\n",
    "ax1.set_ylabel('Population')\n",
    "ax2.set_ylabel('Pulse')\n",
    "popul = np.arange(nstates)+1\n",
    "result.plot(title = 'Population and Pulse', ax = ax1,  x=['fs'] ,y=popul, linewidth=0.8)\n",
    "result.plot(title = 'Population and Pulse', ax = ax2,  x=['fs'] ,y=['Xpulse','Ypulse','Zpulse'], linewidth=0.5,ls='--');"
   ]
  },
  {
   "cell_type": "markdown",
   "metadata": {},
   "source": [
    "## Expected values"
   ]
  },
  {
   "cell_type": "code",
   "execution_count": 18,
   "metadata": {},
   "outputs": [
    {
     "data": {
      "application/vnd.jupyter.widget-view+json": {
       "model_id": "09983c775f4c448fb9cbd3e36b7f6b04",
       "version_major": 2,
       "version_minor": 0
      },
      "text/plain": [
       "interactive(children=(IntSlider(value=34, description='x', max=34), Output()), _dom_classes=('widget-interact'…"
      ]
     },
     "metadata": {},
     "output_type": "display_data"
    }
   ],
   "source": [
    "def expected(h5file):\n",
    "    wf  = qp.retrieve_hdf5_data(h5file,'WF')\n",
    "    time = qp.retrieve_hdf5_data(h5file,'Time')[0]\n",
    "    print('Time: {:5.2f} fs'.format(time))\n",
    "    _,_,_,nstates = wf.shape\n",
    "    for i in range(nstates):\n",
    "        wfState = wf[:,:,:,i]\n",
    "        popu = np.linalg.norm(wfState) # this is norm, the real popu is this squared\n",
    "        if popu == 0:\n",
    "            print('Expected Values State {}:\\nPopul: {:10.3f} \\n  Phi: - \\n  Theta: - \\n  Gamma: -'.format(i, popu**2))\n",
    "        else:\n",
    "            wfA = abs2(wfState/popu)\n",
    "            # We need to sun and then sum again. From 3d to 1d.\n",
    "            phiAvg = np.sum(np.sum(wfA,axis=2),axis=1)\n",
    "            gamAvg = np.sum(np.sum(wfA,axis=2),axis=0)\n",
    "            theAvg = np.sum(np.sum(wfA,axis=1),axis=0)\n",
    "            phiA = sum([ phisT[i] * phiAvg[i] for i in range(phiAvg.size) ])\n",
    "            gamA = sum([ gamsT[i] * gamAvg[i] for i in range(gamAvg.size) ])\n",
    "            theA = sum([ thesT[i] * theAvg[i] for i in range(theAvg.size) ])\n",
    "            print('Expected Values State {}:\\nPopul: {:10.3f} \\n  Phi:   {:10.3f} \\n  Theta: {:10.3f} \\n  Gamma: {:10.3f}'.format(i, popu**2, phiA, theA, gamA))\n",
    "\n",
    "def fexp(x):\n",
    "    return expected(os.path.join(a,filesList[x]))\n",
    "\n",
    "interact(fexp, x = widgets.IntSlider(min=0,max=lastV,step=1,value=lastV));"
   ]
  },
  {
   "cell_type": "markdown",
   "metadata": {},
   "source": [
    "## Look at side of cell"
   ]
  },
  {
   "cell_type": "code",
   "execution_count": 19,
   "metadata": {},
   "outputs": [
    {
     "data": {
      "application/vnd.jupyter.widget-view+json": {
       "model_id": "161daf74fd6f4492963aeb25cf2e7698",
       "version_major": 2,
       "version_minor": 0
      },
      "text/plain": [
       "interactive(children=(IntSlider(value=34, description='x', max=34), Output()), _dom_classes=('widget-interact'…"
      ]
     },
     "metadata": {},
     "output_type": "display_data"
    }
   ],
   "source": [
    "def side(h5file):\n",
    "    wf  = qp.retrieve_hdf5_data(h5file,'WF')\n",
    "    time = qp.retrieve_hdf5_data(h5file,'Time')[0]\n",
    "    print('Time: {:5.2f} fs'.format(time))\n",
    "    wfAB = qp.abs2(wf)\n",
    "    print('Phi -> {:5.2e} {:5.2e}'.format(np.sum(wfAB[-1,:,:,0]),np.sum(wfAB[0,:,:,0])))\n",
    "    print('Gam -> {:5.2e} {:5.2e}'.format(np.sum(wfAB[:,-1,:,0]),np.sum(wfAB[:,0,:,0])))\n",
    "    print('The -> {:5.2e} {:5.2e}'.format(np.sum(wfAB[:,:,-1,0]),np.sum(wfAB[:,:,0,0])))\n",
    "\n",
    "\n",
    "def side_f(x):\n",
    "    return side(os.path.join(a,filesList[x]))\n",
    "    \n",
    "interact(side_f, x = widgets.IntSlider(min=0,max=lastV,step=1,value=lastV));"
   ]
  },
  {
   "cell_type": "code",
   "execution_count": null,
   "metadata": {},
   "outputs": [],
   "source": []
  }
 ],
 "metadata": {
  "kernelspec": {
   "display_name": "Python 3",
   "language": "python",
   "name": "python3"
  },
  "language_info": {
   "codemirror_mode": {
    "name": "ipython",
    "version": 3
   },
   "file_extension": ".py",
   "mimetype": "text/x-python",
   "name": "python",
   "nbconvert_exporter": "python",
   "pygments_lexer": "ipython3",
   "version": "3.6.1"
  }
 },
 "nbformat": 4,
 "nbformat_minor": 2
}
