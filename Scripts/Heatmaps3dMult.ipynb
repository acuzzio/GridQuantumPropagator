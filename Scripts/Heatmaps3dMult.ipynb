{
 "cells": [
  {
   "cell_type": "code",
   "execution_count": 1,
   "metadata": {
    "scrolled": true
   },
   "outputs": [],
   "source": [
    "import matplotlib.pyplot as plt\n",
    "import os\n",
    "import pandas as pd\n",
    "import numpy as np\n",
    "import quantumpropagator as qp\n",
    "from quantumpropagator import readWholeH5toDict, abs2\n",
    "#from __future__ import print_function\n",
    "from ipywidgets import interact#, interactive, fixed, interact_manual\n",
    "import ipywidgets as widgets\n",
    "from mpl_toolkits.axes_grid1 import make_axes_locatable"
   ]
  },
  {
   "cell_type": "code",
   "execution_count": 2,
   "metadata": {
    "scrolled": true
   },
   "outputs": [
    {
     "name": "stdout",
     "output_type": "stream",
     "text": [
      "0 -> aaa_input_FinerGrid_0027\n",
      "1 -> aaa_input_FinerGrid_0031\n",
      "2 -> distort_input_FinerGrid_0000\n",
      "3 -> distort_input_FinerGrid_0001\n",
      "4 -> distort_input_FinerGrid_0002\n",
      "5 -> distort_input_FinerGrid_0003\n",
      "6 -> distort_input_FinerGrid_0004\n",
      "7 -> distort_input_FinerGrid_0005\n",
      "8 -> distort_input_FinerGrid_0006\n",
      "9 -> distort_input_FinerGrid_0007\n",
      "10 -> distort_input_FinerGrid_0008\n",
      "11 -> distort_input_FinerGrid_0009\n",
      "12 -> distort_input_FinerGrid_0010\n",
      "13 -> distort_input_FinerGrid_0011\n",
      "14 -> distort_input_FinerGrid_0012\n",
      "15 -> distort_input_FinerGrid_0013\n",
      "16 -> distort_input_FinerGrid_0014\n",
      "17 -> distort_input_FinerGrid_0015\n",
      "18 -> distort_input_FinerGrid_0016\n",
      "19 -> distort_input_FinerGrid_0017\n",
      "\n"
     ]
    }
   ],
   "source": [
    "subfolders = sorted([ dir for dir in os.listdir('.') if os.path.isdir(dir) and dir != '.ipynb_checkpoints'])\n",
    "print(''.join(['{} -> {}\\n'.format(a,b) for a,b in enumerate(subfolders)]))"
   ]
  },
  {
   "cell_type": "code",
   "execution_count": 3,
   "metadata": {
    "scrolled": true
   },
   "outputs": [],
   "source": [
    "a = subfolders[-1]"
   ]
  },
  {
   "cell_type": "code",
   "execution_count": 4,
   "metadata": {
    "scrolled": true
   },
   "outputs": [],
   "source": [
    "filesList = [ fn for fn in sorted(os.listdir(a)) if fn[:8] == 'Gaussian' and fn[-3:] == '.h5']\n",
    "outh5 = os.path.join(a,'allInput.h5')\n",
    "dictio = readWholeH5toDict(outh5)\n",
    "phis,gams,thes = dictio['phis'],dictio['gams'],dictio['thes']\n",
    "lastV = len(filesList)-1\n",
    "# dictio.keys()\n",
    "zeroWF = qp.retrieve_hdf5_data(os.path.join(a,filesList[0]),'WF')\n",
    "vmaxV = abs2(zeroWF).max()\n",
    "phiL,gamL,theL,nstates = (qp.retrieve_hdf5_data(os.path.join(a,filesList[0]),'WF')).shape\n",
    "\n",
    "####################### HERE PHI IS MAGNIFICATED, NOT GOOD #########################################\n",
    "\n",
    "phisT = phis*100\n",
    "gamsT = np.rad2deg(gams)\n",
    "thesT = np.rad2deg(thes)*2\n",
    "\n",
    "equi_p = 28\n",
    "equi_g = 20\n",
    "equi_t = 28"
   ]
  },
  {
   "cell_type": "code",
   "execution_count": 5,
   "metadata": {},
   "outputs": [],
   "source": [
    "def heatThisP(h5File,first,second,vmaxV,state,sliced,which,save=None):\n",
    "    '''\n",
    "    WATCH OUT GAMMA IS \"randomly\" MULTIPLIED BY 3 !!!\n",
    "    '''\n",
    "    aaa = np.rad2deg\n",
    "    save = save or False\n",
    "    time = qp.retrieve_hdf5_data(h5File,'Time')[0]\n",
    "    fig = plt.figure(figsize=(10, 10), dpi= 80, facecolor='w', edgecolor='k')\n",
    "    #fig = plt.figure(figsize=(10, 10), dpi= 80, facecolor='w', edgecolor='k')\n",
    "    plt.title('Time = {:10.5f} fs'.format(time))\n",
    "\n",
    "    if which == 'phi':\n",
    "        wf   = qp.retrieve_hdf5_data(h5File,'WF')[sliced,:,:,state]\n",
    "        plt.ylabel('Gamma')\n",
    "        plt.xlabel('Theta')\n",
    "        ext = [aaa(second[0]),aaa(second[-1]),aaa(first[0]),aaa(first[-1])]\n",
    "    \n",
    "    elif which == 'gam':\n",
    "        wf   = qp.retrieve_hdf5_data(h5File,'WF')[:,sliced,:,state]\n",
    "        plt.ylabel('Phi')\n",
    "        plt.xlabel('Theta')\n",
    "        ext = [aaa(second[0]),aaa(second[-1]),first[0]*50,first[-1]*50]\n",
    "        \n",
    "    elif which == 'the':\n",
    "        wf   = qp.retrieve_hdf5_data(h5File,'WF')[:,:,sliced,state]\n",
    "        plt.ylabel('Phi')\n",
    "        plt.xlabel('Gamma')\n",
    "        ext = [aaa(second[0]),aaa(second[-1]),first[0]*50,first[-1]*50]\n",
    "    \n",
    "\n",
    "    \n",
    "    # this is to get a nice colorbar on the side\n",
    "    ax = plt.gca()\n",
    "\n",
    "    im = ax.imshow(qp.abs2(wf), extent=ext, cmap='hot', vmax=vmaxV)\n",
    "    #im = ax.imshow(qp.abs2(wf), cmap='PuBu_r', vmax=0.4)\n",
    "    divider = make_axes_locatable(ax)\n",
    "    cax = divider.append_axes(\"right\", size=\"5%\", pad=0.05)\n",
    "\n",
    "    plt.colorbar(im, cax=cax)\n",
    "    \n",
    "    if save:\n",
    "        fig.savefig(os.path.splitext(h5File)[0] + '.png')\n",
    "        plt.close()"
   ]
  },
  {
   "cell_type": "markdown",
   "metadata": {},
   "source": [
    "# Phi Slices"
   ]
  },
  {
   "cell_type": "markdown",
   "metadata": {},
   "source": [
    "# CHECK the order of plotting axis"
   ]
  },
  {
   "cell_type": "code",
   "execution_count": 6,
   "metadata": {
    "scrolled": false
   },
   "outputs": [
    {
     "data": {
      "application/vnd.jupyter.widget-view+json": {
       "model_id": "0d3c3a1a68a24c05a4ebfef4514b76db",
       "version_major": 2,
       "version_minor": 0
      },
      "text/plain": [
       "interactive(children=(IntSlider(value=18, description='frame', max=18), IntSlider(value=0, description='state'…"
      ]
     },
     "metadata": {},
     "output_type": "display_data"
    }
   ],
   "source": [
    "def f_tg(frame,state,phi):\n",
    "    return heatThisP(os.path.join(a,filesList[frame]),gams,thes,vmaxV,state,phi,'phi')\n",
    "\n",
    "interact(f_tg, frame = widgets.IntSlider(min=0,max=lastV,step=1,value=lastV),state = widgets.IntSlider(min=0,max=nstates-1,step=1,value=0), phi = widgets.IntSlider(min=0,max=phiL-1,step=1,value=equi_p));\n",
    "createimages = False"
   ]
  },
  {
   "cell_type": "markdown",
   "metadata": {},
   "source": [
    "# Gamma slices"
   ]
  },
  {
   "cell_type": "code",
   "execution_count": 7,
   "metadata": {
    "scrolled": false
   },
   "outputs": [
    {
     "data": {
      "application/vnd.jupyter.widget-view+json": {
       "model_id": "7c2c657fcb1048769bc4e4791d70a1a9",
       "version_major": 2,
       "version_minor": 0
      },
      "text/plain": [
       "interactive(children=(IntSlider(value=18, description='frame', max=18), IntSlider(value=0, description='state'…"
      ]
     },
     "metadata": {},
     "output_type": "display_data"
    }
   ],
   "source": [
    "def f_pt(frame, state, gamma):\n",
    "    return heatThisP(os.path.join(a,filesList[frame]),phis,thes,vmaxV,state,gamma,'gam')\n",
    "\n",
    "interact(f_pt, frame = widgets.IntSlider(min=0,max=lastV,step=1,value=lastV),state = widgets.IntSlider(min=0,max=nstates-1,step=1,value=0), gamma = widgets.IntSlider(min=0,max=gamL-1,step=1,value=equi_g));"
   ]
  },
  {
   "cell_type": "markdown",
   "metadata": {},
   "source": [
    "# Theta slices"
   ]
  },
  {
   "cell_type": "code",
   "execution_count": 8,
   "metadata": {},
   "outputs": [
    {
     "data": {
      "application/vnd.jupyter.widget-view+json": {
       "model_id": "f8dfbb9438ce4cf2924647c382ed5871",
       "version_major": 2,
       "version_minor": 0
      },
      "text/plain": [
       "interactive(children=(IntSlider(value=18, description='frame', max=18), IntSlider(value=0, description='state'…"
      ]
     },
     "metadata": {},
     "output_type": "display_data"
    }
   ],
   "source": [
    "def f_pg(frame, state, theta):\n",
    "    return heatThisP(os.path.join(a,filesList[frame]),phis,gams,vmaxV,state,theta,'the')\n",
    "\n",
    "interact(f_pg, frame = widgets.IntSlider(min=0,max=lastV,step=1,value=lastV),state = widgets.IntSlider(min=0,max=nstates-1,step=1,value=0), theta = widgets.IntSlider(min=0,max=theL-1,step=1,value=equi_t));"
   ]
  },
  {
   "cell_type": "markdown",
   "metadata": {},
   "source": [
    "# 1d slices"
   ]
  },
  {
   "cell_type": "code",
   "execution_count": 9,
   "metadata": {
    "scrolled": false
   },
   "outputs": [],
   "source": [
    "def slice1D(h5File, first, second, label, exa):\n",
    "    wf  = qp.retrieve_hdf5_data(h5File,'WF')\n",
    "    fig = plt.figure(figsize=(11, 6), dpi= 80, facecolor='w', edgecolor='k')\n",
    "    time = qp.retrieve_hdf5_data(h5File,'Time')[0]\n",
    "    plt.ylim(-0.5,0.5)\n",
    "    if label == 'phi':\n",
    "        ys = wf[:,first,second,:]*exa\n",
    "        plt.title('Time = {:10.5f} fs | theta = {:8.3f} | gamma = {:8.3f}'.format(time,thesT[first],gamsT[second]))\n",
    "        labelsX = phisT\n",
    "        plt.xlabel('Phi')\n",
    "    if label == 'gam':\n",
    "        ys = wf[first,:,second,:]*exa\n",
    "        plt.title('Time = {:10.5f} fs | phi = {:8.3f} | theta = {:8.3f}'.format(time,phisT[first],thesT[second]))\n",
    "        labelsX = gamsT\n",
    "        plt.xlabel('Gamma')\n",
    "    if label == 'the':\n",
    "        ys = wf[first,second,:,:]*exa\n",
    "        plt.title('Time = {:10.5f} fs | phi = {:8.3f} | gamma = {:8.3f}'.format(time,phisT[first],gamsT[second]))\n",
    "        labelsX = thesT\n",
    "        plt.xlabel('Theta')\n",
    "    \n",
    "    plt.plot(labelsX, np.real(ys), linewidth=1,ls='--')\n",
    "    plt.plot(labelsX, np.imag(ys), linewidth=1,ls='--')\n",
    "    plt.plot(labelsX, abs2(ys), linewidth=3,ls='-')"
   ]
  },
  {
   "cell_type": "markdown",
   "metadata": {},
   "source": [
    "## 1D Phi"
   ]
  },
  {
   "cell_type": "code",
   "execution_count": 10,
   "metadata": {
    "scrolled": false
   },
   "outputs": [
    {
     "data": {
      "application/vnd.jupyter.widget-view+json": {
       "model_id": "6ea6c6a5345e456ebc012ffde030d1c7",
       "version_major": 2,
       "version_minor": 0
      },
      "text/plain": [
       "interactive(children=(IntSlider(value=18, description='file_number', max=18), IntSlider(value=20, description=…"
      ]
     },
     "metadata": {},
     "output_type": "display_data"
    }
   ],
   "source": [
    "def fphi(file_number,gamma, theta,exa):\n",
    "    return slice1D(os.path.join(a, filesList[file_number]), gamma, theta, 'phi', exa)\n",
    "\n",
    "interact(fphi, file_number = widgets.IntSlider(min=0,max=lastV,step=1,value=lastV), gamma = widgets.IntSlider(min=0,max=gamL-1,step=1,value=equi_g), theta = widgets.IntSlider(min=0,max=theL-1,step=1,value=equi_t), exa = widgets.IntSlider(min=1,max=10,step=1,value=1));"
   ]
  },
  {
   "cell_type": "markdown",
   "metadata": {},
   "source": [
    "## 1D Gamma"
   ]
  },
  {
   "cell_type": "code",
   "execution_count": 11,
   "metadata": {
    "scrolled": false
   },
   "outputs": [
    {
     "data": {
      "application/vnd.jupyter.widget-view+json": {
       "model_id": "e21c7e853bf541429a793a6c99c05578",
       "version_major": 2,
       "version_minor": 0
      },
      "text/plain": [
       "interactive(children=(IntSlider(value=18, description='file_number', max=18), IntSlider(value=28, description=…"
      ]
     },
     "metadata": {},
     "output_type": "display_data"
    }
   ],
   "source": [
    "def fgam(file_number,phi,theta,exa):\n",
    "    return slice1D(os.path.join(a, filesList[file_number]), phi, theta, 'gam', exa)\n",
    "\n",
    "interact(fgam, file_number = widgets.IntSlider(min=0,max=lastV,step=1,value=lastV), phi = widgets.IntSlider(min=0,max=phiL-1,step=1,value=equi_p), theta = widgets.IntSlider(min=0,max=theL-1,step=1,value=equi_t), exa = widgets.IntSlider(min=1,max=10,step=1,value=1));"
   ]
  },
  {
   "cell_type": "markdown",
   "metadata": {},
   "source": [
    "## 1D Theta"
   ]
  },
  {
   "cell_type": "code",
   "execution_count": 12,
   "metadata": {},
   "outputs": [
    {
     "data": {
      "application/vnd.jupyter.widget-view+json": {
       "model_id": "9250958d137e4929978890c1c4d2d8c6",
       "version_major": 2,
       "version_minor": 0
      },
      "text/plain": [
       "interactive(children=(IntSlider(value=18, description='file_number', max=18), IntSlider(value=28, description=…"
      ]
     },
     "metadata": {},
     "output_type": "display_data"
    }
   ],
   "source": [
    "def fthe(file_number,phi,gamma,exa):\n",
    "    return slice1D(os.path.join(a, filesList[file_number]), phi, gamma, 'the', exa)\n",
    "\n",
    "interact(fthe, file_number = widgets.IntSlider(min=0,max=lastV,step=1,value=lastV), phi = widgets.IntSlider(min=0,max=phiL-1,step=1,value=equi_p), gamma = widgets.IntSlider(min=0,max=gamL-1,step=1,value=equi_g), exa = widgets.IntSlider(min=1,max=10,step=1,value=1));"
   ]
  },
  {
   "cell_type": "markdown",
   "metadata": {},
   "source": [
    "# Population and Energies"
   ]
  },
  {
   "cell_type": "code",
   "execution_count": 13,
   "metadata": {
    "scrolled": true
   },
   "outputs": [],
   "source": [
    "outfn = os.path.join(a,'output')\n",
    "outfnP = os.path.join(a,'outputPopul')\n",
    "data = pd.read_csv(outfn, delim_whitespace=True, header=None);\n",
    "dataP = pd.read_csv(outfnP, delim_whitespace=True, header=None);\n",
    "data.columns = ['steps','fs','Norm Deviation','Kinetic','Potential','Total','Total deviation','Xpulse','Ypulse','Zpulse']"
   ]
  },
  {
   "cell_type": "code",
   "execution_count": 14,
   "metadata": {
    "scrolled": true
   },
   "outputs": [
    {
     "data": {
      "text/html": [
       "<div>\n",
       "<style>\n",
       "    .dataframe thead tr:only-child th {\n",
       "        text-align: right;\n",
       "    }\n",
       "\n",
       "    .dataframe thead th {\n",
       "        text-align: left;\n",
       "    }\n",
       "\n",
       "    .dataframe tbody tr th {\n",
       "        vertical-align: top;\n",
       "    }\n",
       "</style>\n",
       "<table border=\"1\" class=\"dataframe\">\n",
       "  <thead>\n",
       "    <tr style=\"text-align: right;\">\n",
       "      <th></th>\n",
       "      <th>steps</th>\n",
       "      <th>fs</th>\n",
       "      <th>Norm Deviation</th>\n",
       "      <th>Kinetic</th>\n",
       "      <th>Potential</th>\n",
       "      <th>Total</th>\n",
       "      <th>Total deviation</th>\n",
       "      <th>Xpulse</th>\n",
       "      <th>Ypulse</th>\n",
       "      <th>Zpulse</th>\n",
       "      <th>0</th>\n",
       "      <th>1</th>\n",
       "      <th>2</th>\n",
       "    </tr>\n",
       "  </thead>\n",
       "  <tbody>\n",
       "    <tr>\n",
       "      <th>0</th>\n",
       "      <td>0</td>\n",
       "      <td>0.000000</td>\n",
       "      <td>-2.220446e-16</td>\n",
       "      <td>1.118385</td>\n",
       "      <td>0.134545</td>\n",
       "      <td>1.252930</td>\n",
       "      <td>0.000000</td>\n",
       "      <td>0.0</td>\n",
       "      <td>0.0</td>\n",
       "      <td>0.0</td>\n",
       "      <td>0.0000</td>\n",
       "      <td>1.000000</td>\n",
       "      <td>0.0</td>\n",
       "    </tr>\n",
       "    <tr>\n",
       "      <th>1</th>\n",
       "      <td>20</td>\n",
       "      <td>0.200199</td>\n",
       "      <td>1.507103e-06</td>\n",
       "      <td>1.109942</td>\n",
       "      <td>0.142984</td>\n",
       "      <td>1.252926</td>\n",
       "      <td>0.000004</td>\n",
       "      <td>0.0</td>\n",
       "      <td>0.0</td>\n",
       "      <td>0.0</td>\n",
       "      <td>0.2002</td>\n",
       "      <td>0.999997</td>\n",
       "      <td>0.0</td>\n",
       "    </tr>\n",
       "    <tr>\n",
       "      <th>2</th>\n",
       "      <td>40</td>\n",
       "      <td>0.400397</td>\n",
       "      <td>6.023159e-06</td>\n",
       "      <td>1.084905</td>\n",
       "      <td>0.168009</td>\n",
       "      <td>1.252914</td>\n",
       "      <td>0.000015</td>\n",
       "      <td>0.0</td>\n",
       "      <td>0.0</td>\n",
       "      <td>0.0</td>\n",
       "      <td>0.4004</td>\n",
       "      <td>0.999988</td>\n",
       "      <td>0.0</td>\n",
       "    </tr>\n",
       "    <tr>\n",
       "      <th>3</th>\n",
       "      <td>60</td>\n",
       "      <td>0.600596</td>\n",
       "      <td>1.355226e-05</td>\n",
       "      <td>1.044142</td>\n",
       "      <td>0.208754</td>\n",
       "      <td>1.252895</td>\n",
       "      <td>0.000034</td>\n",
       "      <td>0.0</td>\n",
       "      <td>0.0</td>\n",
       "      <td>0.0</td>\n",
       "      <td>0.6006</td>\n",
       "      <td>0.999973</td>\n",
       "      <td>0.0</td>\n",
       "    </tr>\n",
       "    <tr>\n",
       "      <th>4</th>\n",
       "      <td>80</td>\n",
       "      <td>0.800794</td>\n",
       "      <td>2.409863e-05</td>\n",
       "      <td>0.989070</td>\n",
       "      <td>0.263798</td>\n",
       "      <td>1.252869</td>\n",
       "      <td>0.000061</td>\n",
       "      <td>0.0</td>\n",
       "      <td>0.0</td>\n",
       "      <td>0.0</td>\n",
       "      <td>0.8008</td>\n",
       "      <td>0.999952</td>\n",
       "      <td>0.0</td>\n",
       "    </tr>\n",
       "    <tr>\n",
       "      <th>5</th>\n",
       "      <td>100</td>\n",
       "      <td>1.000993</td>\n",
       "      <td>3.766856e-05</td>\n",
       "      <td>0.921624</td>\n",
       "      <td>0.331210</td>\n",
       "      <td>1.252834</td>\n",
       "      <td>0.000095</td>\n",
       "      <td>0.0</td>\n",
       "      <td>0.0</td>\n",
       "      <td>0.0</td>\n",
       "      <td>1.0010</td>\n",
       "      <td>0.999925</td>\n",
       "      <td>0.0</td>\n",
       "    </tr>\n",
       "    <tr>\n",
       "      <th>6</th>\n",
       "      <td>120</td>\n",
       "      <td>1.201191</td>\n",
       "      <td>5.426972e-05</td>\n",
       "      <td>0.844187</td>\n",
       "      <td>0.408606</td>\n",
       "      <td>1.252793</td>\n",
       "      <td>0.000137</td>\n",
       "      <td>0.0</td>\n",
       "      <td>0.0</td>\n",
       "      <td>0.0</td>\n",
       "      <td>1.2012</td>\n",
       "      <td>0.999891</td>\n",
       "      <td>0.0</td>\n",
       "    </tr>\n",
       "    <tr>\n",
       "      <th>7</th>\n",
       "      <td>140</td>\n",
       "      <td>1.401390</td>\n",
       "      <td>7.390076e-05</td>\n",
       "      <td>0.759555</td>\n",
       "      <td>0.493189</td>\n",
       "      <td>1.252743</td>\n",
       "      <td>0.000186</td>\n",
       "      <td>0.0</td>\n",
       "      <td>0.0</td>\n",
       "      <td>0.0</td>\n",
       "      <td>1.4014</td>\n",
       "      <td>0.999852</td>\n",
       "      <td>0.0</td>\n",
       "    </tr>\n",
       "    <tr>\n",
       "      <th>8</th>\n",
       "      <td>160</td>\n",
       "      <td>1.601588</td>\n",
       "      <td>9.649596e-05</td>\n",
       "      <td>0.671111</td>\n",
       "      <td>0.581577</td>\n",
       "      <td>1.252688</td>\n",
       "      <td>0.000241</td>\n",
       "      <td>0.0</td>\n",
       "      <td>0.0</td>\n",
       "      <td>0.0</td>\n",
       "      <td>1.6016</td>\n",
       "      <td>0.999807</td>\n",
       "      <td>0.0</td>\n",
       "    </tr>\n",
       "    <tr>\n",
       "      <th>9</th>\n",
       "      <td>180</td>\n",
       "      <td>1.801787</td>\n",
       "      <td>1.219455e-04</td>\n",
       "      <td>0.582985</td>\n",
       "      <td>0.669644</td>\n",
       "      <td>1.252629</td>\n",
       "      <td>0.000301</td>\n",
       "      <td>0.0</td>\n",
       "      <td>0.0</td>\n",
       "      <td>0.0</td>\n",
       "      <td>1.8018</td>\n",
       "      <td>0.999756</td>\n",
       "      <td>0.0</td>\n",
       "    </tr>\n",
       "    <tr>\n",
       "      <th>10</th>\n",
       "      <td>200</td>\n",
       "      <td>2.001985</td>\n",
       "      <td>1.502462e-04</td>\n",
       "      <td>0.499536</td>\n",
       "      <td>0.753028</td>\n",
       "      <td>1.252564</td>\n",
       "      <td>0.000366</td>\n",
       "      <td>0.0</td>\n",
       "      <td>0.0</td>\n",
       "      <td>0.0</td>\n",
       "      <td>2.0020</td>\n",
       "      <td>0.999700</td>\n",
       "      <td>0.0</td>\n",
       "    </tr>\n",
       "    <tr>\n",
       "      <th>11</th>\n",
       "      <td>220</td>\n",
       "      <td>2.202184</td>\n",
       "      <td>1.814876e-04</td>\n",
       "      <td>0.424555</td>\n",
       "      <td>0.827936</td>\n",
       "      <td>1.252492</td>\n",
       "      <td>0.000438</td>\n",
       "      <td>0.0</td>\n",
       "      <td>0.0</td>\n",
       "      <td>0.0</td>\n",
       "      <td>2.2022</td>\n",
       "      <td>0.999637</td>\n",
       "      <td>0.0</td>\n",
       "    </tr>\n",
       "    <tr>\n",
       "      <th>12</th>\n",
       "      <td>240</td>\n",
       "      <td>2.402383</td>\n",
       "      <td>2.157857e-04</td>\n",
       "      <td>0.360948</td>\n",
       "      <td>0.891463</td>\n",
       "      <td>1.252411</td>\n",
       "      <td>0.000519</td>\n",
       "      <td>0.0</td>\n",
       "      <td>0.0</td>\n",
       "      <td>0.0</td>\n",
       "      <td>2.4024</td>\n",
       "      <td>0.999568</td>\n",
       "      <td>0.0</td>\n",
       "    </tr>\n",
       "    <tr>\n",
       "      <th>13</th>\n",
       "      <td>260</td>\n",
       "      <td>2.602581</td>\n",
       "      <td>2.532243e-04</td>\n",
       "      <td>0.310718</td>\n",
       "      <td>0.941602</td>\n",
       "      <td>1.252320</td>\n",
       "      <td>0.000610</td>\n",
       "      <td>0.0</td>\n",
       "      <td>0.0</td>\n",
       "      <td>0.0</td>\n",
       "      <td>2.6026</td>\n",
       "      <td>0.999494</td>\n",
       "      <td>0.0</td>\n",
       "    </tr>\n",
       "    <tr>\n",
       "      <th>14</th>\n",
       "      <td>280</td>\n",
       "      <td>2.802780</td>\n",
       "      <td>2.938282e-04</td>\n",
       "      <td>0.275104</td>\n",
       "      <td>0.977115</td>\n",
       "      <td>1.252219</td>\n",
       "      <td>0.000711</td>\n",
       "      <td>0.0</td>\n",
       "      <td>0.0</td>\n",
       "      <td>0.0</td>\n",
       "      <td>2.8028</td>\n",
       "      <td>0.999412</td>\n",
       "      <td>0.0</td>\n",
       "    </tr>\n",
       "    <tr>\n",
       "      <th>15</th>\n",
       "      <td>300</td>\n",
       "      <td>3.002978</td>\n",
       "      <td>3.375614e-04</td>\n",
       "      <td>0.254725</td>\n",
       "      <td>0.997383</td>\n",
       "      <td>1.252109</td>\n",
       "      <td>0.000821</td>\n",
       "      <td>0.0</td>\n",
       "      <td>0.0</td>\n",
       "      <td>0.0</td>\n",
       "      <td>3.0030</td>\n",
       "      <td>0.999325</td>\n",
       "      <td>0.0</td>\n",
       "    </tr>\n",
       "    <tr>\n",
       "      <th>16</th>\n",
       "      <td>320</td>\n",
       "      <td>3.203177</td>\n",
       "      <td>3.843371e-04</td>\n",
       "      <td>0.249686</td>\n",
       "      <td>1.002303</td>\n",
       "      <td>1.251989</td>\n",
       "      <td>0.000941</td>\n",
       "      <td>0.0</td>\n",
       "      <td>0.0</td>\n",
       "      <td>0.0</td>\n",
       "      <td>3.2032</td>\n",
       "      <td>0.999231</td>\n",
       "      <td>0.0</td>\n",
       "    </tr>\n",
       "    <tr>\n",
       "      <th>17</th>\n",
       "      <td>340</td>\n",
       "      <td>3.403375</td>\n",
       "      <td>4.340296e-04</td>\n",
       "      <td>0.259636</td>\n",
       "      <td>0.992225</td>\n",
       "      <td>1.251860</td>\n",
       "      <td>0.001069</td>\n",
       "      <td>0.0</td>\n",
       "      <td>0.0</td>\n",
       "      <td>0.0</td>\n",
       "      <td>3.4034</td>\n",
       "      <td>0.999132</td>\n",
       "      <td>0.0</td>\n",
       "    </tr>\n",
       "    <tr>\n",
       "      <th>18</th>\n",
       "      <td>360</td>\n",
       "      <td>3.603574</td>\n",
       "      <td>4.864865e-04</td>\n",
       "      <td>0.283800</td>\n",
       "      <td>0.967924</td>\n",
       "      <td>1.251724</td>\n",
       "      <td>0.001206</td>\n",
       "      <td>0.0</td>\n",
       "      <td>0.0</td>\n",
       "      <td>0.0</td>\n",
       "      <td>3.6036</td>\n",
       "      <td>0.999027</td>\n",
       "      <td>0.0</td>\n",
       "    </tr>\n",
       "    <tr>\n",
       "      <th>19</th>\n",
       "      <td>380</td>\n",
       "      <td>3.803772</td>\n",
       "      <td>5.415373e-04</td>\n",
       "      <td>0.320996</td>\n",
       "      <td>0.930584</td>\n",
       "      <td>1.251580</td>\n",
       "      <td>0.001349</td>\n",
       "      <td>0.0</td>\n",
       "      <td>0.0</td>\n",
       "      <td>0.0</td>\n",
       "      <td>3.8038</td>\n",
       "      <td>0.998917</td>\n",
       "      <td>0.0</td>\n",
       "    </tr>\n",
       "  </tbody>\n",
       "</table>\n",
       "</div>"
      ],
      "text/plain": [
       "    steps        fs  Norm Deviation   Kinetic  Potential     Total  \\\n",
       "0       0  0.000000   -2.220446e-16  1.118385   0.134545  1.252930   \n",
       "1      20  0.200199    1.507103e-06  1.109942   0.142984  1.252926   \n",
       "2      40  0.400397    6.023159e-06  1.084905   0.168009  1.252914   \n",
       "3      60  0.600596    1.355226e-05  1.044142   0.208754  1.252895   \n",
       "4      80  0.800794    2.409863e-05  0.989070   0.263798  1.252869   \n",
       "5     100  1.000993    3.766856e-05  0.921624   0.331210  1.252834   \n",
       "6     120  1.201191    5.426972e-05  0.844187   0.408606  1.252793   \n",
       "7     140  1.401390    7.390076e-05  0.759555   0.493189  1.252743   \n",
       "8     160  1.601588    9.649596e-05  0.671111   0.581577  1.252688   \n",
       "9     180  1.801787    1.219455e-04  0.582985   0.669644  1.252629   \n",
       "10    200  2.001985    1.502462e-04  0.499536   0.753028  1.252564   \n",
       "11    220  2.202184    1.814876e-04  0.424555   0.827936  1.252492   \n",
       "12    240  2.402383    2.157857e-04  0.360948   0.891463  1.252411   \n",
       "13    260  2.602581    2.532243e-04  0.310718   0.941602  1.252320   \n",
       "14    280  2.802780    2.938282e-04  0.275104   0.977115  1.252219   \n",
       "15    300  3.002978    3.375614e-04  0.254725   0.997383  1.252109   \n",
       "16    320  3.203177    3.843371e-04  0.249686   1.002303  1.251989   \n",
       "17    340  3.403375    4.340296e-04  0.259636   0.992225  1.251860   \n",
       "18    360  3.603574    4.864865e-04  0.283800   0.967924  1.251724   \n",
       "19    380  3.803772    5.415373e-04  0.320996   0.930584  1.251580   \n",
       "\n",
       "    Total deviation  Xpulse  Ypulse  Zpulse       0         1    2  \n",
       "0          0.000000     0.0     0.0     0.0  0.0000  1.000000  0.0  \n",
       "1          0.000004     0.0     0.0     0.0  0.2002  0.999997  0.0  \n",
       "2          0.000015     0.0     0.0     0.0  0.4004  0.999988  0.0  \n",
       "3          0.000034     0.0     0.0     0.0  0.6006  0.999973  0.0  \n",
       "4          0.000061     0.0     0.0     0.0  0.8008  0.999952  0.0  \n",
       "5          0.000095     0.0     0.0     0.0  1.0010  0.999925  0.0  \n",
       "6          0.000137     0.0     0.0     0.0  1.2012  0.999891  0.0  \n",
       "7          0.000186     0.0     0.0     0.0  1.4014  0.999852  0.0  \n",
       "8          0.000241     0.0     0.0     0.0  1.6016  0.999807  0.0  \n",
       "9          0.000301     0.0     0.0     0.0  1.8018  0.999756  0.0  \n",
       "10         0.000366     0.0     0.0     0.0  2.0020  0.999700  0.0  \n",
       "11         0.000438     0.0     0.0     0.0  2.2022  0.999637  0.0  \n",
       "12         0.000519     0.0     0.0     0.0  2.4024  0.999568  0.0  \n",
       "13         0.000610     0.0     0.0     0.0  2.6026  0.999494  0.0  \n",
       "14         0.000711     0.0     0.0     0.0  2.8028  0.999412  0.0  \n",
       "15         0.000821     0.0     0.0     0.0  3.0030  0.999325  0.0  \n",
       "16         0.000941     0.0     0.0     0.0  3.2032  0.999231  0.0  \n",
       "17         0.001069     0.0     0.0     0.0  3.4034  0.999132  0.0  \n",
       "18         0.001206     0.0     0.0     0.0  3.6036  0.999027  0.0  \n",
       "19         0.001349     0.0     0.0     0.0  3.8038  0.998917  0.0  "
      ]
     },
     "execution_count": 14,
     "metadata": {},
     "output_type": "execute_result"
    }
   ],
   "source": [
    "result = pd.concat([data, dataP], axis=1)\n",
    "result"
   ]
  },
  {
   "cell_type": "code",
   "execution_count": 15,
   "metadata": {
    "scrolled": false
   },
   "outputs": [
    {
     "data": {
      "image/png": "[encoded data removed]",
      "text/plain": [
       "<matplotlib.figure.Figure at 0x7f72c036fa58>"
      ]
     },
     "metadata": {},
     "output_type": "display_data"
    },
    {
     "data": {
      "image/png": "[encoded data removed]",
      "text/plain": [
       "<matplotlib.figure.Figure at 0x7f72c01b09e8>"
      ]
     },
     "metadata": {},
     "output_type": "display_data"
    },
    {
     "data": {
      "image/png": "[encoded data removed]",
      "text/plain": [
       "<matplotlib.figure.Figure at 0x7f72c0153eb8>"
      ]
     },
     "metadata": {},
     "output_type": "display_data"
    },
    {
     "data": {
      "image/png": "[encoded data removed]",
      "text/plain": [
       "<matplotlib.figure.Figure at 0x7f72c03dbb38>"
      ]
     },
     "metadata": {},
     "output_type": "display_data"
    }
   ],
   "source": [
    "data.plot(title = 'Norm Deviation', x='fs', y = 'Norm Deviation', figsize=(15,4));\n",
    "data.plot(title = 'Kinetic', x='fs', y = 'Kinetic', figsize=(15,4));\n",
    "data.plot(title = 'Potential', x='fs', y = 'Potential', figsize=(15,4));\n",
    "data.plot(title = 'Total', x='fs', y = 'Total', figsize=(15,4));"
   ]
  },
  {
   "cell_type": "code",
   "execution_count": 16,
   "metadata": {},
   "outputs": [
    {
     "data": {
      "image/png": "[encoded data removed]",
      "text/plain": [
       "<matplotlib.figure.Figure at 0x7f72c0410438>"
      ]
     },
     "metadata": {},
     "output_type": "display_data"
    }
   ],
   "source": [
    "data['Kinetic_Moved'] = data['Kinetic'] + data['Potential'][0]\n",
    "data.plot(title = 'Comparison Potential Total Kinetic', x=['fs'] ,y=['Kinetic_Moved','Potential','Total'], figsize=(15,5));"
   ]
  },
  {
   "cell_type": "code",
   "execution_count": 17,
   "metadata": {},
   "outputs": [
    {
     "data": {
      "image/png": "[encoded data removed]",
      "text/plain": [
       "<matplotlib.figure.Figure at 0x7f72c04e3470>"
      ]
     },
     "metadata": {},
     "output_type": "display_data"
    }
   ],
   "source": [
    "fig = plt.figure(figsize=(11,5))\n",
    "ax1 = fig.add_subplot(111)\n",
    "ax2 = ax1.twinx()\n",
    "ax1.set_ylabel('Population')\n",
    "ax2.set_ylabel('Pulse')\n",
    "popul = np.arange(nstates)+1\n",
    "result.plot(title = 'Population and Pulse', ax = ax1,  x=['fs'] ,y=popul, linewidth=0.8)\n",
    "result.plot(title = 'Population and Pulse', ax = ax2,  x=['fs'] ,y=['Xpulse','Ypulse','Zpulse'], linewidth=0.5,ls='--');"
   ]
  },
  {
   "cell_type": "markdown",
   "metadata": {},
   "source": [
    "## Expected values"
   ]
  },
  {
   "cell_type": "code",
   "execution_count": 18,
   "metadata": {},
   "outputs": [
    {
     "data": {
      "application/vnd.jupyter.widget-view+json": {
       "model_id": "6b0b5b9371534b0fa0efccf596cd3c98",
       "version_major": 2,
       "version_minor": 0
      },
      "text/plain": [
       "interactive(children=(IntSlider(value=18, description='x', max=18), Output()), _dom_classes=('widget-interact'…"
      ]
     },
     "metadata": {},
     "output_type": "display_data"
    }
   ],
   "source": [
    "def expected(h5file):\n",
    "    wf  = qp.retrieve_hdf5_data(h5file,'WF')\n",
    "    time = qp.retrieve_hdf5_data(h5file,'Time')[0]\n",
    "    print('Time: {:5.2f} fs'.format(time))\n",
    "    _,_,_,nstates = wf.shape\n",
    "    for i in range(nstates):\n",
    "        wfState = wf[:,:,:,i]\n",
    "        popu = np.linalg.norm(wfState) # this is norm, the real popu is this squared\n",
    "        if popu == 0:\n",
    "            print('Expected Values State {}:\\nPopul: {:10.3f} \\n  Phi: - \\n  Theta: - \\n  Gamma: -'.format(i, popu**2))\n",
    "        else:\n",
    "            wfA = abs2(wfState/popu)\n",
    "            # We need to sun and then sum again. From 3d to 1d.\n",
    "            phiAvg = np.sum(np.sum(wfA,axis=2),axis=1)\n",
    "            gamAvg = np.sum(np.sum(wfA,axis=2),axis=0)\n",
    "            theAvg = np.sum(np.sum(wfA,axis=1),axis=0)\n",
    "            phiA = sum([ phisT[i] * phiAvg[i] for i in range(phiAvg.size) ])\n",
    "            gamA = sum([ gamsT[i] * gamAvg[i] for i in range(gamAvg.size) ])\n",
    "            theA = sum([ thesT[i] * theAvg[i] for i in range(theAvg.size) ])\n",
    "            print('Expected Values State {}:\\nPopul: {:10.3f} \\n  Phi:   {:10.3f} \\n  Theta: {:10.3f} \\n  Gamma: {:10.3f}'.format(i, popu**2, phiA, theA, gamA))\n",
    "\n",
    "def fexp(x):\n",
    "    return expected(os.path.join(a,filesList[x]))\n",
    "\n",
    "interact(fexp, x = widgets.IntSlider(min=0,max=lastV,step=1,value=lastV));"
   ]
  }
 ],
 "metadata": {
  "kernelspec": {
   "display_name": "Python 3",
   "language": "python",
   "name": "python3"
  },
  "language_info": {
   "codemirror_mode": {
    "name": "ipython",
    "version": 3
   },
   "file_extension": ".py",
   "mimetype": "text/x-python",
   "name": "python",
   "nbconvert_exporter": "python",
   "pygments_lexer": "ipython3",
   "version": "3.6.1"
  }
 },
 "nbformat": 4,
 "nbformat_minor": 2
}
