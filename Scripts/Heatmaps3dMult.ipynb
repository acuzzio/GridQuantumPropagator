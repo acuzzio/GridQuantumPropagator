{
 "cells": [
  {
   "cell_type": "code",
   "execution_count": 1,
   "metadata": {
    "scrolled": true
   },
   "outputs": [],
   "source": [
    "import matplotlib.pyplot as plt\n",
    "import os\n",
    "import pandas as pd\n",
    "import numpy as np\n",
    "import quantumpropagator as qp\n",
    "from quantumpropagator import readWholeH5toDict, abs2\n",
    "#from __future__ import print_function\n",
    "from ipywidgets import interact#, interactive, fixed, interact_manual\n",
    "import ipywidgets as widgets\n",
    "from mpl_toolkits.axes_grid1 import make_axes_locatable"
   ]
  },
  {
   "cell_type": "code",
   "execution_count": 2,
   "metadata": {
    "scrolled": true
   },
   "outputs": [
    {
     "name": "stdout",
     "output_type": "stream",
     "text": [
      "0 -> aaa_input_FinerGrid_0027\n",
      "1 -> aaa_input_FinerGrid_0031\n",
      "2 -> bbb_finerfinergrid_exploding\n",
      "3 -> bbb_finergrid_3d_withoutpotential\n",
      "4 -> distort_input_FinerGrid_0000\n",
      "5 -> distort_input_FinerGrid_0001\n",
      "6 -> distort_input_FinerGrid_0002\n",
      "7 -> distort_input_FinerGrid_0003\n",
      "8 -> distort_input_FinerGrid_0004\n",
      "9 -> distort_input_FinerGrid_0005\n",
      "10 -> distort_input_FinerGrid_0006\n",
      "11 -> distort_input_FinerGrid_0007\n",
      "12 -> distort_input_FinerGrid_0008\n",
      "13 -> distort_input_FinerGrid_0009\n",
      "14 -> distort_input_FinerGrid_0010\n",
      "15 -> distort_input_FinerGrid_0011\n",
      "16 -> distort_input_FinerGrid_0012\n",
      "17 -> distort_input_FinerGrid_0013\n",
      "18 -> distort_input_FinerGrid_0014\n",
      "19 -> distort_input_FinerGrid_0015\n",
      "20 -> distort_input_FinerGrid_0016\n",
      "21 -> distort_input_FinerGrid_0017\n",
      "\n"
     ]
    }
   ],
   "source": [
    "subfolders = sorted([ dir for dir in os.listdir('.') if os.path.isdir(dir) and dir != '.ipynb_checkpoints'])\n",
    "print(''.join(['{} -> {}\\n'.format(a,b) for a,b in enumerate(subfolders)]))"
   ]
  },
  {
   "cell_type": "code",
   "execution_count": 3,
   "metadata": {
    "scrolled": true
   },
   "outputs": [],
   "source": [
    "a = subfolders[-1]\n",
    "a = subfolders[2]"
   ]
  },
  {
   "cell_type": "code",
   "execution_count": 4,
   "metadata": {
    "scrolled": true
   },
   "outputs": [],
   "source": [
    "filesList = [ fn for fn in sorted(os.listdir(a)) if fn[:8] == 'Gaussian' and fn[-3:] == '.h5']\n",
    "outh5 = os.path.join(a,'allInput.h5')\n",
    "dictio = readWholeH5toDict(outh5)\n",
    "phis,gams,thes = dictio['phis'],dictio['gams'],dictio['thes']\n",
    "lastV = len(filesList)-1\n",
    "# dictio.keys()\n",
    "zeroWF = qp.retrieve_hdf5_data(os.path.join(a,filesList[0]),'WF')\n",
    "vmaxV = abs2(zeroWF).max()\n",
    "phiL,gamL,theL,nstates = (qp.retrieve_hdf5_data(os.path.join(a,filesList[0]),'WF')).shape\n",
    "\n",
    "####################### HERE PHI IS MAGNIFICATED, NOT GOOD #########################################\n",
    "\n",
    "phisT = phis*100\n",
    "gamsT = np.rad2deg(gams)\n",
    "thesT = np.rad2deg(thes)*2\n",
    "\n",
    "equi_p = 56\n",
    "equi_g = 40\n",
    "equi_t = 56"
   ]
  },
  {
   "cell_type": "code",
   "execution_count": 5,
   "metadata": {},
   "outputs": [],
   "source": [
    "def heatThisP(h5File,first,second,vmaxV,state,sliced,which,save=None):\n",
    "    '''\n",
    "    \n",
    "    '''\n",
    "    aaa = np.rad2deg\n",
    "    save = save or False\n",
    "    time = qp.retrieve_hdf5_data(h5File,'Time')[0]\n",
    "    fig = plt.figure(figsize=(10, 10), dpi= 80, facecolor='w', edgecolor='k')\n",
    "    #fig = plt.figure(figsize=(10, 10), dpi= 80, facecolor='w', edgecolor='k')\n",
    "    plt.title('Time = {:10.5f} fs'.format(time))\n",
    "\n",
    "    if which == 'phi':\n",
    "        wf   = qp.retrieve_hdf5_data(h5File,'WF')[sliced,:,:,state]\n",
    "        plt.ylabel('Gamma')\n",
    "        plt.xlabel('Theta')\n",
    "        ext = [aaa(second[0]),aaa(second[-1]),aaa(first[0]),aaa(first[-1])]\n",
    "    \n",
    "    elif which == 'gam':\n",
    "        wf   = qp.retrieve_hdf5_data(h5File,'WF')[:,sliced,:,state]\n",
    "        plt.ylabel('Phi')\n",
    "        plt.xlabel('Theta')\n",
    "        ext = [aaa(second[0]),aaa(second[-1]),first[0]*50,first[-1]*50]\n",
    "        \n",
    "    elif which == 'the':\n",
    "        wf   = qp.retrieve_hdf5_data(h5File,'WF')[:,:,sliced,state]\n",
    "        plt.ylabel('Phi')\n",
    "        plt.xlabel('Gamma')\n",
    "        ext = [aaa(second[0]),aaa(second[-1]),first[0]*50,first[-1]*50]\n",
    "    \n",
    "\n",
    "    \n",
    "    # this is to get a nice colorbar on the side\n",
    "    ax = plt.gca()\n",
    "\n",
    "    im = ax.imshow(qp.abs2(wf), extent=ext, cmap='hot', vmax=vmaxV)\n",
    "    #im = ax.imshow(qp.abs2(wf), cmap='PuBu_r', vmax=0.4)\n",
    "    divider = make_axes_locatable(ax)\n",
    "    cax = divider.append_axes(\"right\", size=\"5%\", pad=0.05)\n",
    "\n",
    "    plt.colorbar(im, cax=cax)\n",
    "    \n",
    "    if save:\n",
    "        fig.savefig(os.path.splitext(h5File)[0] + '.png')\n",
    "        plt.close()"
   ]
  },
  {
   "cell_type": "markdown",
   "metadata": {},
   "source": [
    "# Phi Slices"
   ]
  },
  {
   "cell_type": "code",
   "execution_count": 6,
   "metadata": {
    "scrolled": false
   },
   "outputs": [
    {
     "data": {
      "application/vnd.jupyter.widget-view+json": {
       "model_id": "cc20d77b35c34637a29df8341fe70597",
       "version_major": 2,
       "version_minor": 0
      },
      "text/plain": [
       "interactive(children=(IntSlider(value=19, description='frame', max=19), IntSlider(value=0, description='state'…"
      ]
     },
     "metadata": {},
     "output_type": "display_data"
    }
   ],
   "source": [
    "def f_tg(frame,state,phi):\n",
    "    return heatThisP(os.path.join(a,filesList[frame]),gams,thes,vmaxV,state,phi,'phi')\n",
    "\n",
    "interact(f_tg, frame = widgets.IntSlider(min=0,max=lastV,step=1,value=lastV),state = widgets.IntSlider(min=0,max=nstates-1,step=1,value=0), phi = widgets.IntSlider(min=0,max=phiL-1,step=1,value=equi_p));\n",
    "createimages = False"
   ]
  },
  {
   "cell_type": "markdown",
   "metadata": {},
   "source": [
    "# Gamma slices"
   ]
  },
  {
   "cell_type": "code",
   "execution_count": 7,
   "metadata": {
    "scrolled": false
   },
   "outputs": [
    {
     "data": {
      "application/vnd.jupyter.widget-view+json": {
       "model_id": "41588fb813c34feaa0ef6e32f415a362",
       "version_major": 2,
       "version_minor": 0
      },
      "text/plain": [
       "interactive(children=(IntSlider(value=19, description='frame', max=19), IntSlider(value=0, description='state'…"
      ]
     },
     "metadata": {},
     "output_type": "display_data"
    }
   ],
   "source": [
    "def f_pt(frame, state, gamma):\n",
    "    return heatThisP(os.path.join(a,filesList[frame]),phis,thes,vmaxV,state,gamma,'gam')\n",
    "\n",
    "interact(f_pt, frame = widgets.IntSlider(min=0,max=lastV,step=1,value=lastV),state = widgets.IntSlider(min=0,max=nstates-1,step=1,value=0), gamma = widgets.IntSlider(min=0,max=gamL-1,step=1,value=equi_g));"
   ]
  },
  {
   "cell_type": "markdown",
   "metadata": {},
   "source": [
    "# Theta slices"
   ]
  },
  {
   "cell_type": "code",
   "execution_count": 8,
   "metadata": {},
   "outputs": [
    {
     "data": {
      "application/vnd.jupyter.widget-view+json": {
       "model_id": "e82381e057d448eabe4f322af6c6fd0a",
       "version_major": 2,
       "version_minor": 0
      },
      "text/plain": [
       "interactive(children=(IntSlider(value=19, description='frame', max=19), IntSlider(value=0, description='state'…"
      ]
     },
     "metadata": {},
     "output_type": "display_data"
    }
   ],
   "source": [
    "def f_pg(frame, state, theta):\n",
    "    return heatThisP(os.path.join(a,filesList[frame]),phis,gams,vmaxV,state,theta,'the')\n",
    "\n",
    "interact(f_pg, frame = widgets.IntSlider(min=0,max=lastV,step=1,value=lastV),state = widgets.IntSlider(min=0,max=nstates-1,step=1,value=0), theta = widgets.IntSlider(min=0,max=theL-1,step=1,value=equi_t));"
   ]
  },
  {
   "cell_type": "markdown",
   "metadata": {},
   "source": [
    "# 1d slices"
   ]
  },
  {
   "cell_type": "code",
   "execution_count": 9,
   "metadata": {
    "scrolled": false
   },
   "outputs": [],
   "source": [
    "def slice1D(h5File, first, second, label, exa):\n",
    "    wf  = qp.retrieve_hdf5_data(h5File,'WF')\n",
    "    fig = plt.figure(figsize=(11, 6), dpi= 80, facecolor='w', edgecolor='k')\n",
    "    time = qp.retrieve_hdf5_data(h5File,'Time')[0]\n",
    "    plt.ylim(-0.5,0.5)\n",
    "    if label == 'phi':\n",
    "        ys = wf[:,first,second,:]*exa\n",
    "        plt.title('Time = {:10.5f} fs | gamma = {:8.3f} | theta = {:8.3f}'.format(time,gamsT[first],thesT[second]))\n",
    "        labelsX = phisT\n",
    "        plt.xlabel('Phi')\n",
    "    if label == 'gam':\n",
    "        ys = wf[first,:,second,:]*exa\n",
    "        plt.title('Time = {:10.5f} fs | phi = {:8.3f} | theta = {:8.3f}'.format(time,phisT[first],thesT[second]))\n",
    "        labelsX = gamsT\n",
    "        plt.xlabel('Gamma')\n",
    "    if label == 'the':\n",
    "        ys = wf[first,second,:,:]*exa\n",
    "        plt.title('Time = {:10.5f} fs | phi = {:8.3f} | gamma = {:8.3f}'.format(time,phisT[first],gamsT[second]))\n",
    "        labelsX = thesT\n",
    "        plt.xlabel('Theta')\n",
    "    \n",
    "    plt.plot(labelsX, np.real(ys), linewidth=1,ls='--')\n",
    "    plt.plot(labelsX, np.imag(ys), linewidth=1,ls='--')\n",
    "    plt.plot(labelsX, abs2(ys), linewidth=3,ls='-')"
   ]
  },
  {
   "cell_type": "markdown",
   "metadata": {},
   "source": [
    "## 1D Phi"
   ]
  },
  {
   "cell_type": "code",
   "execution_count": 10,
   "metadata": {
    "scrolled": false
   },
   "outputs": [
    {
     "data": {
      "application/vnd.jupyter.widget-view+json": {
       "model_id": "aaedb7e35f8c4bde97e44547691e3459",
       "version_major": 2,
       "version_minor": 0
      },
      "text/plain": [
       "interactive(children=(IntSlider(value=19, description='file_number', max=19), IntSlider(value=40, description=…"
      ]
     },
     "metadata": {},
     "output_type": "display_data"
    }
   ],
   "source": [
    "def fphi(file_number,gamma, theta,exa):\n",
    "    return slice1D(os.path.join(a, filesList[file_number]), gamma, theta, 'phi', exa)\n",
    "\n",
    "interact(fphi, file_number = widgets.IntSlider(min=0,max=lastV,step=1,value=lastV), gamma = widgets.IntSlider(min=0,max=gamL-1,step=1,value=equi_g), theta = widgets.IntSlider(min=0,max=theL-1,step=1,value=equi_t), exa = widgets.IntSlider(min=1,max=10,step=1,value=1));"
   ]
  },
  {
   "cell_type": "markdown",
   "metadata": {},
   "source": [
    "## 1D Gamma"
   ]
  },
  {
   "cell_type": "code",
   "execution_count": 11,
   "metadata": {
    "scrolled": false
   },
   "outputs": [
    {
     "data": {
      "application/vnd.jupyter.widget-view+json": {
       "model_id": "11a2016c7d0d4f88927c438bb9f98a49",
       "version_major": 2,
       "version_minor": 0
      },
      "text/plain": [
       "interactive(children=(IntSlider(value=19, description='file_number', max=19), IntSlider(value=56, description=…"
      ]
     },
     "metadata": {},
     "output_type": "display_data"
    }
   ],
   "source": [
    "def fgam(file_number,phi,theta,exa):\n",
    "    return slice1D(os.path.join(a, filesList[file_number]), phi, theta, 'gam', exa)\n",
    "\n",
    "interact(fgam, file_number = widgets.IntSlider(min=0,max=lastV,step=1,value=lastV), phi = widgets.IntSlider(min=0,max=phiL-1,step=1,value=equi_p), theta = widgets.IntSlider(min=0,max=theL-1,step=1,value=equi_t), exa = widgets.IntSlider(min=1,max=10,step=1,value=1));"
   ]
  },
  {
   "cell_type": "markdown",
   "metadata": {},
   "source": [
    "## 1D Theta"
   ]
  },
  {
   "cell_type": "code",
   "execution_count": 12,
   "metadata": {},
   "outputs": [
    {
     "data": {
      "application/vnd.jupyter.widget-view+json": {
       "model_id": "64622a07663149aa976e36e0da820793",
       "version_major": 2,
       "version_minor": 0
      },
      "text/plain": [
       "interactive(children=(IntSlider(value=19, description='file_number', max=19), IntSlider(value=56, description=…"
      ]
     },
     "metadata": {},
     "output_type": "display_data"
    }
   ],
   "source": [
    "def fthe(file_number,phi,gamma,exa):\n",
    "    return slice1D(os.path.join(a, filesList[file_number]), phi, gamma, 'the', exa)\n",
    "\n",
    "interact(fthe, file_number = widgets.IntSlider(min=0,max=lastV,step=1,value=lastV), phi = widgets.IntSlider(min=0,max=phiL-1,step=1,value=equi_p), gamma = widgets.IntSlider(min=0,max=gamL-1,step=1,value=equi_g), exa = widgets.IntSlider(min=1,max=10,step=1,value=1));"
   ]
  },
  {
   "cell_type": "markdown",
   "metadata": {},
   "source": [
    "# Population and Energies"
   ]
  },
  {
   "cell_type": "code",
   "execution_count": 13,
   "metadata": {
    "scrolled": true
   },
   "outputs": [],
   "source": [
    "outfn = os.path.join(a,'output')\n",
    "outfnP = os.path.join(a,'outputPopul')\n",
    "data = pd.read_csv(outfn, delim_whitespace=True, header=None);\n",
    "dataP = pd.read_csv(outfnP, delim_whitespace=True, header=None);\n",
    "data.columns = ['steps','fs','Norm Deviation','Kinetic','Potential','Total','Total deviation','Xpulse','Ypulse','Zpulse']"
   ]
  },
  {
   "cell_type": "code",
   "execution_count": 14,
   "metadata": {
    "scrolled": true
   },
   "outputs": [
    {
     "data": {
      "text/html": [
       "<div>\n",
       "<style>\n",
       "    .dataframe thead tr:only-child th {\n",
       "        text-align: right;\n",
       "    }\n",
       "\n",
       "    .dataframe thead th {\n",
       "        text-align: left;\n",
       "    }\n",
       "\n",
       "    .dataframe tbody tr th {\n",
       "        vertical-align: top;\n",
       "    }\n",
       "</style>\n",
       "<table border=\"1\" class=\"dataframe\">\n",
       "  <thead>\n",
       "    <tr style=\"text-align: right;\">\n",
       "      <th></th>\n",
       "      <th>steps</th>\n",
       "      <th>fs</th>\n",
       "      <th>Norm Deviation</th>\n",
       "      <th>Kinetic</th>\n",
       "      <th>Potential</th>\n",
       "      <th>Total</th>\n",
       "      <th>Total deviation</th>\n",
       "      <th>Xpulse</th>\n",
       "      <th>Ypulse</th>\n",
       "      <th>Zpulse</th>\n",
       "      <th>0</th>\n",
       "      <th>1</th>\n",
       "      <th>2</th>\n",
       "    </tr>\n",
       "  </thead>\n",
       "  <tbody>\n",
       "    <tr>\n",
       "      <th>0</th>\n",
       "      <td>0.0</td>\n",
       "      <td>0.000000</td>\n",
       "      <td>2.886580e-15</td>\n",
       "      <td>1.014629e+00</td>\n",
       "      <td>7.576573e-01</td>\n",
       "      <td>1.772286e+00</td>\n",
       "      <td>0.000000e+00</td>\n",
       "      <td>0.0</td>\n",
       "      <td>0.0</td>\n",
       "      <td>0.0</td>\n",
       "      <td>0.0000</td>\n",
       "      <td>1.000000e+00</td>\n",
       "      <td>0.0</td>\n",
       "    </tr>\n",
       "    <tr>\n",
       "      <th>1</th>\n",
       "      <td>20.0</td>\n",
       "      <td>0.200199</td>\n",
       "      <td>1.334800e-06</td>\n",
       "      <td>9.756638e-01</td>\n",
       "      <td>7.966048e-01</td>\n",
       "      <td>1.772269e+00</td>\n",
       "      <td>1.740717e-05</td>\n",
       "      <td>0.0</td>\n",
       "      <td>0.0</td>\n",
       "      <td>0.0</td>\n",
       "      <td>0.2002</td>\n",
       "      <td>9.999970e-01</td>\n",
       "      <td>0.0</td>\n",
       "    </tr>\n",
       "    <tr>\n",
       "      <th>2</th>\n",
       "      <td>40.0</td>\n",
       "      <td>0.400397</td>\n",
       "      <td>5.582199e-06</td>\n",
       "      <td>8.746146e-01</td>\n",
       "      <td>8.976290e-01</td>\n",
       "      <td>1.772244e+00</td>\n",
       "      <td>4.244102e-05</td>\n",
       "      <td>0.0</td>\n",
       "      <td>0.0</td>\n",
       "      <td>0.0</td>\n",
       "      <td>0.4004</td>\n",
       "      <td>9.999890e-01</td>\n",
       "      <td>0.0</td>\n",
       "    </tr>\n",
       "    <tr>\n",
       "      <th>3</th>\n",
       "      <td>60.0</td>\n",
       "      <td>0.600596</td>\n",
       "      <td>1.398517e-05</td>\n",
       "      <td>7.528658e-01</td>\n",
       "      <td>1.019334e+00</td>\n",
       "      <td>1.772200e+00</td>\n",
       "      <td>8.632255e-05</td>\n",
       "      <td>0.0</td>\n",
       "      <td>0.0</td>\n",
       "      <td>0.0</td>\n",
       "      <td>0.6006</td>\n",
       "      <td>9.999720e-01</td>\n",
       "      <td>0.0</td>\n",
       "    </tr>\n",
       "    <tr>\n",
       "      <th>4</th>\n",
       "      <td>80.0</td>\n",
       "      <td>0.800794</td>\n",
       "      <td>2.852449e-05</td>\n",
       "      <td>6.616741e-01</td>\n",
       "      <td>1.110456e+00</td>\n",
       "      <td>1.772130e+00</td>\n",
       "      <td>1.559005e-04</td>\n",
       "      <td>0.0</td>\n",
       "      <td>0.0</td>\n",
       "      <td>0.0</td>\n",
       "      <td>0.8008</td>\n",
       "      <td>9.999430e-01</td>\n",
       "      <td>0.0</td>\n",
       "    </tr>\n",
       "    <tr>\n",
       "      <th>5</th>\n",
       "      <td>100.0</td>\n",
       "      <td>1.000993</td>\n",
       "      <td>-4.827960e+02</td>\n",
       "      <td>3.747167e+07</td>\n",
       "      <td>1.245613e+07</td>\n",
       "      <td>4.992780e+07</td>\n",
       "      <td>-4.992780e+07</td>\n",
       "      <td>0.0</td>\n",
       "      <td>0.0</td>\n",
       "      <td>0.0</td>\n",
       "      <td>1.0010</td>\n",
       "      <td>2.340590e+05</td>\n",
       "      <td>0.0</td>\n",
       "    </tr>\n",
       "    <tr>\n",
       "      <th>6</th>\n",
       "      <td>120.0</td>\n",
       "      <td>1.201191</td>\n",
       "      <td>-3.297139e+10</td>\n",
       "      <td>1.740295e+23</td>\n",
       "      <td>5.812155e+22</td>\n",
       "      <td>2.321511e+23</td>\n",
       "      <td>-2.321511e+23</td>\n",
       "      <td>0.0</td>\n",
       "      <td>0.0</td>\n",
       "      <td>0.0</td>\n",
       "      <td>1.2012</td>\n",
       "      <td>1.087110e+21</td>\n",
       "      <td>0.0</td>\n",
       "    </tr>\n",
       "    <tr>\n",
       "      <th>7</th>\n",
       "      <td>140.0</td>\n",
       "      <td>1.401390</td>\n",
       "      <td>-2.990376e+18</td>\n",
       "      <td>1.430425e+39</td>\n",
       "      <td>4.935325e+38</td>\n",
       "      <td>1.923957e+39</td>\n",
       "      <td>-1.923957e+39</td>\n",
       "      <td>0.0</td>\n",
       "      <td>0.0</td>\n",
       "      <td>0.0</td>\n",
       "      <td>1.4014</td>\n",
       "      <td>8.942350e+36</td>\n",
       "      <td>0.0</td>\n",
       "    </tr>\n",
       "    <tr>\n",
       "      <th>8</th>\n",
       "      <td>160.0</td>\n",
       "      <td>1.601588</td>\n",
       "      <td>-7.948703e+27</td>\n",
       "      <td>1.006086e+58</td>\n",
       "      <td>4.048234e+57</td>\n",
       "      <td>1.410910e+58</td>\n",
       "      <td>-1.410910e+58</td>\n",
       "      <td>0.0</td>\n",
       "      <td>0.0</td>\n",
       "      <td>0.0</td>\n",
       "      <td>1.6016</td>\n",
       "      <td>6.318190e+55</td>\n",
       "      <td>0.0</td>\n",
       "    </tr>\n",
       "    <tr>\n",
       "      <th>9</th>\n",
       "      <td>180.0</td>\n",
       "      <td>1.801787</td>\n",
       "      <td>-1.532773e+38</td>\n",
       "      <td>3.740075e+78</td>\n",
       "      <td>1.535719e+78</td>\n",
       "      <td>5.275794e+78</td>\n",
       "      <td>-5.275794e+78</td>\n",
       "      <td>0.0</td>\n",
       "      <td>0.0</td>\n",
       "      <td>0.0</td>\n",
       "      <td>1.8018</td>\n",
       "      <td>2.349390e+76</td>\n",
       "      <td>0.0</td>\n",
       "    </tr>\n",
       "    <tr>\n",
       "      <th>10</th>\n",
       "      <td>200.0</td>\n",
       "      <td>2.001985</td>\n",
       "      <td>-4.294319e+48</td>\n",
       "      <td>2.938500e+99</td>\n",
       "      <td>1.209408e+99</td>\n",
       "      <td>4.147908e+99</td>\n",
       "      <td>-4.147908e+99</td>\n",
       "      <td>0.0</td>\n",
       "      <td>0.0</td>\n",
       "      <td>0.0</td>\n",
       "      <td>2.0020</td>\n",
       "      <td>1.844120e+97</td>\n",
       "      <td>0.0</td>\n",
       "    </tr>\n",
       "    <tr>\n",
       "      <th>11</th>\n",
       "      <td>220.0</td>\n",
       "      <td>2.202184</td>\n",
       "      <td>-1.329159e+59</td>\n",
       "      <td>2.817383e+120</td>\n",
       "      <td>1.157909e+120</td>\n",
       "      <td>3.975292e+120</td>\n",
       "      <td>-3.975292e+120</td>\n",
       "      <td>0.0</td>\n",
       "      <td>0.0</td>\n",
       "      <td>0.0</td>\n",
       "      <td>2.2022</td>\n",
       "      <td>1.766660e+118</td>\n",
       "      <td>0.0</td>\n",
       "    </tr>\n",
       "    <tr>\n",
       "      <th>12</th>\n",
       "      <td>240.0</td>\n",
       "      <td>2.402383</td>\n",
       "      <td>-4.216827e+69</td>\n",
       "      <td>2.837135e+141</td>\n",
       "      <td>1.164442e+141</td>\n",
       "      <td>4.001577e+141</td>\n",
       "      <td>-4.001577e+141</td>\n",
       "      <td>0.0</td>\n",
       "      <td>0.0</td>\n",
       "      <td>0.0</td>\n",
       "      <td>2.4024</td>\n",
       "      <td>1.778160e+139</td>\n",
       "      <td>0.0</td>\n",
       "    </tr>\n",
       "    <tr>\n",
       "      <th>13</th>\n",
       "      <td>260.0</td>\n",
       "      <td>2.602581</td>\n",
       "      <td>-1.346353e+80</td>\n",
       "      <td>2.892981e+162</td>\n",
       "      <td>1.186350e+162</td>\n",
       "      <td>4.079332e+162</td>\n",
       "      <td>-4.079332e+162</td>\n",
       "      <td>0.0</td>\n",
       "      <td>0.0</td>\n",
       "      <td>0.0</td>\n",
       "      <td>2.6026</td>\n",
       "      <td>1.812670e+160</td>\n",
       "      <td>0.0</td>\n",
       "    </tr>\n",
       "    <tr>\n",
       "      <th>14</th>\n",
       "      <td>280.0</td>\n",
       "      <td>2.802780</td>\n",
       "      <td>-4.305907e+90</td>\n",
       "      <td>2.959510e+183</td>\n",
       "      <td>1.213061e+183</td>\n",
       "      <td>4.172571e+183</td>\n",
       "      <td>-4.172571e+183</td>\n",
       "      <td>0.0</td>\n",
       "      <td>0.0</td>\n",
       "      <td>0.0</td>\n",
       "      <td>2.8028</td>\n",
       "      <td>1.854080e+181</td>\n",
       "      <td>0.0</td>\n",
       "    </tr>\n",
       "    <tr>\n",
       "      <th>15</th>\n",
       "      <td>300.0</td>\n",
       "      <td>3.002978</td>\n",
       "      <td>-1.377739e+101</td>\n",
       "      <td>3.030091e+204</td>\n",
       "      <td>1.241691e+204</td>\n",
       "      <td>4.271782e+204</td>\n",
       "      <td>-4.271782e+204</td>\n",
       "      <td>0.0</td>\n",
       "      <td>0.0</td>\n",
       "      <td>0.0</td>\n",
       "      <td>3.0030</td>\n",
       "      <td>1.898160e+202</td>\n",
       "      <td>0.0</td>\n",
       "    </tr>\n",
       "    <tr>\n",
       "      <th>16</th>\n",
       "      <td>320.0</td>\n",
       "      <td>3.203177</td>\n",
       "      <td>-4.408820e+111</td>\n",
       "      <td>3.102997e+225</td>\n",
       "      <td>1.271419e+225</td>\n",
       "      <td>4.374416e+225</td>\n",
       "      <td>-4.374416e+225</td>\n",
       "      <td>0.0</td>\n",
       "      <td>0.0</td>\n",
       "      <td>0.0</td>\n",
       "      <td>3.2032</td>\n",
       "      <td>1.943770e+223</td>\n",
       "      <td>0.0</td>\n",
       "    </tr>\n",
       "    <tr>\n",
       "      <th>17</th>\n",
       "      <td>340.0</td>\n",
       "      <td>3.403375</td>\n",
       "      <td>-1.410888e+122</td>\n",
       "      <td>3.177816e+246</td>\n",
       "      <td>1.302007e+246</td>\n",
       "      <td>4.479823e+246</td>\n",
       "      <td>-4.479823e+246</td>\n",
       "      <td>0.0</td>\n",
       "      <td>0.0</td>\n",
       "      <td>0.0</td>\n",
       "      <td>3.4034</td>\n",
       "      <td>1.990610e+244</td>\n",
       "      <td>0.0</td>\n",
       "    </tr>\n",
       "    <tr>\n",
       "      <th>18</th>\n",
       "      <td>360.0</td>\n",
       "      <td>3.603574</td>\n",
       "      <td>-4.515109e+132</td>\n",
       "      <td>3.254488e+267</td>\n",
       "      <td>1.333391e+267</td>\n",
       "      <td>4.587879e+267</td>\n",
       "      <td>-4.587879e+267</td>\n",
       "      <td>0.0</td>\n",
       "      <td>0.0</td>\n",
       "      <td>0.0</td>\n",
       "      <td>3.6036</td>\n",
       "      <td>2.038620e+265</td>\n",
       "      <td>0.0</td>\n",
       "    </tr>\n",
       "    <tr>\n",
       "      <th>19</th>\n",
       "      <td>380.0</td>\n",
       "      <td>3.803772</td>\n",
       "      <td>-1.444930e+143</td>\n",
       "      <td>3.333045e+288</td>\n",
       "      <td>1.365566e+288</td>\n",
       "      <td>4.698611e+288</td>\n",
       "      <td>-4.698611e+288</td>\n",
       "      <td>0.0</td>\n",
       "      <td>0.0</td>\n",
       "      <td>0.0</td>\n",
       "      <td>3.8038</td>\n",
       "      <td>2.087820e+286</td>\n",
       "      <td>0.0</td>\n",
       "    </tr>\n",
       "    <tr>\n",
       "      <th>20</th>\n",
       "      <td>NaN</td>\n",
       "      <td>NaN</td>\n",
       "      <td>NaN</td>\n",
       "      <td>NaN</td>\n",
       "      <td>NaN</td>\n",
       "      <td>NaN</td>\n",
       "      <td>NaN</td>\n",
       "      <td>NaN</td>\n",
       "      <td>NaN</td>\n",
       "      <td>NaN</td>\n",
       "      <td>4.0040</td>\n",
       "      <td>2.138250e+307</td>\n",
       "      <td>0.0</td>\n",
       "    </tr>\n",
       "  </tbody>\n",
       "</table>\n",
       "</div>"
      ],
      "text/plain": [
       "    steps        fs  Norm Deviation        Kinetic      Potential  \\\n",
       "0     0.0  0.000000    2.886580e-15   1.014629e+00   7.576573e-01   \n",
       "1    20.0  0.200199    1.334800e-06   9.756638e-01   7.966048e-01   \n",
       "2    40.0  0.400397    5.582199e-06   8.746146e-01   8.976290e-01   \n",
       "3    60.0  0.600596    1.398517e-05   7.528658e-01   1.019334e+00   \n",
       "4    80.0  0.800794    2.852449e-05   6.616741e-01   1.110456e+00   \n",
       "5   100.0  1.000993   -4.827960e+02   3.747167e+07   1.245613e+07   \n",
       "6   120.0  1.201191   -3.297139e+10   1.740295e+23   5.812155e+22   \n",
       "7   140.0  1.401390   -2.990376e+18   1.430425e+39   4.935325e+38   \n",
       "8   160.0  1.601588   -7.948703e+27   1.006086e+58   4.048234e+57   \n",
       "9   180.0  1.801787   -1.532773e+38   3.740075e+78   1.535719e+78   \n",
       "10  200.0  2.001985   -4.294319e+48   2.938500e+99   1.209408e+99   \n",
       "11  220.0  2.202184   -1.329159e+59  2.817383e+120  1.157909e+120   \n",
       "12  240.0  2.402383   -4.216827e+69  2.837135e+141  1.164442e+141   \n",
       "13  260.0  2.602581   -1.346353e+80  2.892981e+162  1.186350e+162   \n",
       "14  280.0  2.802780   -4.305907e+90  2.959510e+183  1.213061e+183   \n",
       "15  300.0  3.002978  -1.377739e+101  3.030091e+204  1.241691e+204   \n",
       "16  320.0  3.203177  -4.408820e+111  3.102997e+225  1.271419e+225   \n",
       "17  340.0  3.403375  -1.410888e+122  3.177816e+246  1.302007e+246   \n",
       "18  360.0  3.603574  -4.515109e+132  3.254488e+267  1.333391e+267   \n",
       "19  380.0  3.803772  -1.444930e+143  3.333045e+288  1.365566e+288   \n",
       "20    NaN       NaN             NaN            NaN            NaN   \n",
       "\n",
       "            Total  Total deviation  Xpulse  Ypulse  Zpulse       0  \\\n",
       "0    1.772286e+00     0.000000e+00     0.0     0.0     0.0  0.0000   \n",
       "1    1.772269e+00     1.740717e-05     0.0     0.0     0.0  0.2002   \n",
       "2    1.772244e+00     4.244102e-05     0.0     0.0     0.0  0.4004   \n",
       "3    1.772200e+00     8.632255e-05     0.0     0.0     0.0  0.6006   \n",
       "4    1.772130e+00     1.559005e-04     0.0     0.0     0.0  0.8008   \n",
       "5    4.992780e+07    -4.992780e+07     0.0     0.0     0.0  1.0010   \n",
       "6    2.321511e+23    -2.321511e+23     0.0     0.0     0.0  1.2012   \n",
       "7    1.923957e+39    -1.923957e+39     0.0     0.0     0.0  1.4014   \n",
       "8    1.410910e+58    -1.410910e+58     0.0     0.0     0.0  1.6016   \n",
       "9    5.275794e+78    -5.275794e+78     0.0     0.0     0.0  1.8018   \n",
       "10   4.147908e+99    -4.147908e+99     0.0     0.0     0.0  2.0020   \n",
       "11  3.975292e+120   -3.975292e+120     0.0     0.0     0.0  2.2022   \n",
       "12  4.001577e+141   -4.001577e+141     0.0     0.0     0.0  2.4024   \n",
       "13  4.079332e+162   -4.079332e+162     0.0     0.0     0.0  2.6026   \n",
       "14  4.172571e+183   -4.172571e+183     0.0     0.0     0.0  2.8028   \n",
       "15  4.271782e+204   -4.271782e+204     0.0     0.0     0.0  3.0030   \n",
       "16  4.374416e+225   -4.374416e+225     0.0     0.0     0.0  3.2032   \n",
       "17  4.479823e+246   -4.479823e+246     0.0     0.0     0.0  3.4034   \n",
       "18  4.587879e+267   -4.587879e+267     0.0     0.0     0.0  3.6036   \n",
       "19  4.698611e+288   -4.698611e+288     0.0     0.0     0.0  3.8038   \n",
       "20            NaN              NaN     NaN     NaN     NaN  4.0040   \n",
       "\n",
       "                1    2  \n",
       "0    1.000000e+00  0.0  \n",
       "1    9.999970e-01  0.0  \n",
       "2    9.999890e-01  0.0  \n",
       "3    9.999720e-01  0.0  \n",
       "4    9.999430e-01  0.0  \n",
       "5    2.340590e+05  0.0  \n",
       "6    1.087110e+21  0.0  \n",
       "7    8.942350e+36  0.0  \n",
       "8    6.318190e+55  0.0  \n",
       "9    2.349390e+76  0.0  \n",
       "10   1.844120e+97  0.0  \n",
       "11  1.766660e+118  0.0  \n",
       "12  1.778160e+139  0.0  \n",
       "13  1.812670e+160  0.0  \n",
       "14  1.854080e+181  0.0  \n",
       "15  1.898160e+202  0.0  \n",
       "16  1.943770e+223  0.0  \n",
       "17  1.990610e+244  0.0  \n",
       "18  2.038620e+265  0.0  \n",
       "19  2.087820e+286  0.0  \n",
       "20  2.138250e+307  0.0  "
      ]
     },
     "execution_count": 14,
     "metadata": {},
     "output_type": "execute_result"
    }
   ],
   "source": [
    "result = pd.concat([data, dataP], axis=1)\n",
    "result"
   ]
  },
  {
   "cell_type": "code",
   "execution_count": 15,
   "metadata": {
    "scrolled": false
   },
   "outputs": [
    {
     "data": {
      "image/png": "[encoded data removed]",
      "text/plain": [
       "<matplotlib.figure.Figure at 0x7f009fa3d630>"
      ]
     },
     "metadata": {},
     "output_type": "display_data"
    },
    {
     "data": {
      "image/png": "[encoded data removed]",
      "text/plain": [
       "<matplotlib.figure.Figure at 0x7f00bc133978>"
      ]
     },
     "metadata": {},
     "output_type": "display_data"
    },
    {
     "data": {
      "image/png": "[encoded data removed]",
      "text/plain": [
       "<matplotlib.figure.Figure at 0x7f00bc1c7780>"
      ]
     },
     "metadata": {},
     "output_type": "display_data"
    },
    {
     "data": {
      "image/png": "[encoded data removed]",
      "text/plain": [
       "<matplotlib.figure.Figure at 0x7f00bc3062e8>"
      ]
     },
     "metadata": {},
     "output_type": "display_data"
    }
   ],
   "source": [
    "data.plot(title = 'Norm Deviation', x='fs', y = 'Norm Deviation', figsize=(15,4));\n",
    "data.plot(title = 'Kinetic', x='fs', y = 'Kinetic', figsize=(15,4));\n",
    "data.plot(title = 'Potential', x='fs', y = 'Potential', figsize=(15,4));\n",
    "data.plot(title = 'Total', x='fs', y = 'Total', figsize=(15,4));"
   ]
  },
  {
   "cell_type": "code",
   "execution_count": 16,
   "metadata": {},
   "outputs": [
    {
     "data": {
      "image/png": "[encoded data removed]",
      "text/plain": [
       "<matplotlib.figure.Figure at 0x7f00bc4f2208>"
      ]
     },
     "metadata": {},
     "output_type": "display_data"
    }
   ],
   "source": [
    "data['Kinetic_Moved'] = data['Kinetic'] + data['Potential'][0]\n",
    "data.plot(title = 'Comparison Potential Total Kinetic', x=['fs'] ,y=['Kinetic_Moved','Potential','Total'], figsize=(15,5));"
   ]
  },
  {
   "cell_type": "code",
   "execution_count": 17,
   "metadata": {},
   "outputs": [
    {
     "data": {
      "image/png": "[encoded data removed]",
      "text/plain": [
       "<matplotlib.figure.Figure at 0x7f00bc4f22b0>"
      ]
     },
     "metadata": {},
     "output_type": "display_data"
    }
   ],
   "source": [
    "fig = plt.figure(figsize=(11,5))\n",
    "ax1 = fig.add_subplot(111)\n",
    "ax2 = ax1.twinx()\n",
    "ax1.set_ylabel('Population')\n",
    "ax2.set_ylabel('Pulse')\n",
    "popul = np.arange(nstates)+1\n",
    "result.plot(title = 'Population and Pulse', ax = ax1,  x=['fs'] ,y=popul, linewidth=0.8)\n",
    "result.plot(title = 'Population and Pulse', ax = ax2,  x=['fs'] ,y=['Xpulse','Ypulse','Zpulse'], linewidth=0.5,ls='--');"
   ]
  },
  {
   "cell_type": "markdown",
   "metadata": {},
   "source": [
    "## Expected values"
   ]
  },
  {
   "cell_type": "code",
   "execution_count": 18,
   "metadata": {},
   "outputs": [
    {
     "data": {
      "application/vnd.jupyter.widget-view+json": {
       "model_id": "5aaa98d9ad45480096f5acf86d393dd4",
       "version_major": 2,
       "version_minor": 0
      },
      "text/plain": [
       "interactive(children=(IntSlider(value=19, description='x', max=19), Output()), _dom_classes=('widget-interact'…"
      ]
     },
     "metadata": {},
     "output_type": "display_data"
    }
   ],
   "source": [
    "def expected(h5file):\n",
    "    wf  = qp.retrieve_hdf5_data(h5file,'WF')\n",
    "    time = qp.retrieve_hdf5_data(h5file,'Time')[0]\n",
    "    print('Time: {:5.2f} fs'.format(time))\n",
    "    _,_,_,nstates = wf.shape\n",
    "    for i in range(nstates):\n",
    "        wfState = wf[:,:,:,i]\n",
    "        popu = np.linalg.norm(wfState) # this is norm, the real popu is this squared\n",
    "        if popu == 0:\n",
    "            print('Expected Values State {}:\\nPopul: {:10.3f} \\n  Phi: - \\n  Theta: - \\n  Gamma: -'.format(i, popu**2))\n",
    "        else:\n",
    "            wfA = abs2(wfState/popu)\n",
    "            # We need to sun and then sum again. From 3d to 1d.\n",
    "            phiAvg = np.sum(np.sum(wfA,axis=2),axis=1)\n",
    "            gamAvg = np.sum(np.sum(wfA,axis=2),axis=0)\n",
    "            theAvg = np.sum(np.sum(wfA,axis=1),axis=0)\n",
    "            phiA = sum([ phisT[i] * phiAvg[i] for i in range(phiAvg.size) ])\n",
    "            gamA = sum([ gamsT[i] * gamAvg[i] for i in range(gamAvg.size) ])\n",
    "            theA = sum([ thesT[i] * theAvg[i] for i in range(theAvg.size) ])\n",
    "            print('Expected Values State {}:\\nPopul: {:10.3f} \\n  Phi:   {:10.3f} \\n  Theta: {:10.3f} \\n  Gamma: {:10.3f}'.format(i, popu**2, phiA, theA, gamA))\n",
    "\n",
    "def fexp(x):\n",
    "    return expected(os.path.join(a,filesList[x]))\n",
    "\n",
    "interact(fexp, x = widgets.IntSlider(min=0,max=lastV,step=1,value=lastV));"
   ]
  },
  {
   "cell_type": "markdown",
   "metadata": {},
   "source": [
    "## Look at side of cell"
   ]
  },
  {
   "cell_type": "code",
   "execution_count": 19,
   "metadata": {},
   "outputs": [
    {
     "data": {
      "application/vnd.jupyter.widget-view+json": {
       "model_id": "7ea9abca5fb14f4a8ae1f36ed5cf2143",
       "version_major": 2,
       "version_minor": 0
      },
      "text/plain": [
       "interactive(children=(IntSlider(value=19, description='x', max=19), Output()), _dom_classes=('widget-interact'…"
      ]
     },
     "metadata": {},
     "output_type": "display_data"
    }
   ],
   "source": [
    "def side(h5file):\n",
    "    wf  = qp.retrieve_hdf5_data(h5file,'WF')\n",
    "    time = qp.retrieve_hdf5_data(h5file,'Time')[0]\n",
    "    print('Time: {:5.2f} fs'.format(time))\n",
    "    wfAB = qp.abs2(wf)\n",
    "    print('Phi -> {:5.2e} {:5.2e}'.format(np.sum(wfAB[-1,:,:,0]),np.sum(wfAB[0,:,:,0])))\n",
    "    print('Gam -> {:5.2e} {:5.2e}'.format(np.sum(wfAB[:,-1,:,0]),np.sum(wfAB[:,0,:,0])))\n",
    "    print('The -> {:5.2e} {:5.2e}'.format(np.sum(wfAB[:,:,-1,0]),np.sum(wfAB[:,:,0,0])))\n",
    "\n",
    "\n",
    "def side_f(x):\n",
    "    return side(os.path.join(a,filesList[x]))\n",
    "    \n",
    "interact(side_f, x = widgets.IntSlider(min=0,max=lastV,step=1,value=lastV));"
   ]
  },
  {
   "cell_type": "code",
   "execution_count": null,
   "metadata": {},
   "outputs": [],
   "source": []
  }
 ],
 "metadata": {
  "kernelspec": {
   "display_name": "Python 3",
   "language": "python",
   "name": "python3"
  },
  "language_info": {
   "codemirror_mode": {
    "name": "ipython",
    "version": 3
   },
   "file_extension": ".py",
   "mimetype": "text/x-python",
   "name": "python",
   "nbconvert_exporter": "python",
   "pygments_lexer": "ipython3",
   "version": "3.6.1"
  }
 },
 "nbformat": 4,
 "nbformat_minor": 2
}
