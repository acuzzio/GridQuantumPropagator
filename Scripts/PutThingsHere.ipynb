{
 "cells": [
  {
   "cell_type": "code",
   "execution_count": 1,
   "metadata": {
    "ExecuteTime": {
     "end_time": "2019-06-10T11:02:29.738249Z",
     "start_time": "2019-06-10T11:02:29.721128Z"
    }
   },
   "outputs": [],
   "source": [
    "import os\n",
    "import matplotlib.pyplot as plt\n",
    "%matplotlib notebook\n",
    "# from mpl_toolkits.mplot3d import axes3d\n",
    "# from ipywidgets import interact, fixed\n",
    "# import ipywidgets as widgets\n",
    "# from tqdm import tqdm_notebook as tqdm\n",
    "\n",
    "# from ipywidgets import interactive, interact, HBox, Layout, VBox\n"
   ]
  },
  {
   "cell_type": "code",
   "execution_count": 10,
   "metadata": {
    "ExecuteTime": {
     "end_time": "2019-06-10T11:59:37.098521Z",
     "start_time": "2019-06-10T11:59:37.037577Z"
    }
   },
   "outputs": [],
   "source": [
    "list_of_positions = [(16,19,110, 0, 0, 0), # 00 good, approaching high values of phi from high gamma\n",
    "                     (16,25,110, 0, 0, 0), # 01 good, approaching high values of phi from low gamma\n",
    "                     (18,30, 90, 0, 0, 0), # 02 another angle of attack\n",
    "                     (20,30,110, 0, 0, 0), # 03 this is the area where the green seems to accumulate\n",
    "                     (17,19,110, 2, 2, 6), # 04 initial cube\n",
    "                     (17,25,108, 2, 2, 6), # 05 final cube\n",
    "                     (25,30,101, 0, 0, 0), # 06 things go well\n",
    "                     (25,28,99, 4, 5, 14), # 07 this is the wavefunction I want to cut out from IR runs. And now from the UV on Z\n",
    "                     (22,22,110, 7, 7, 20), # 08 I want a cube that defines CI part  CI_MASK IS THIS ONE\n",
    "                     (16, 22, 110, 0, 0, 0), # 09 this point is the CI itself\n",
    "                     (16, 19, 125, 0, 0, 0), # 10 this is \"after\" the CI\n",
    "                     (16, 26, 100, 0, 0, 0), # 11 this is \"before\" the CI\n",
    "                     (25, 26, 100, 0, 0, 0), # 12 This is the one on 90 times\n",
    "                     (17, 29, 118, 0, 0, 0), # 13 This is where s1 seems to transfer in s0\n",
    "                     (29, 28, 55, 0, 0, 0), # 14 this is MINIMUM\n",
    "                     (21, 26, 118, 0, 0, 0), # 15 This is IN THE MIDDLE OF 74 ball\n",
    "                     (27, 17, 90, 0, 0, 0), # 16 This is HIGH GAMMA EXTREME OF 90 ball\n",
    "                     (25,28,99, 4, 5, 14), # 17 this is the wavefunction I want to cut out from IR runs. Little bigger now for the UV on Z\n",
    "                     (27,26,85, 2, 2, 24), # 18 this is to try to take out coherence and energy differences from 2-3.\n",
    "                     (29, 28, 129, 0, 0, 0) # 19 BETWEEN_BONDS_NEW_TRY_STARTS_HERE. This is to get high values of theta.\n",
    "                    ]\n",
    "\n",
    "folder = '/home/alessio/Desktop/d-projectExplorer/positions'\n",
    "folder = '/home/alessio/IMPORTANTS/VISUALIZE_POINTS'\n",
    "qp.ensure_dir(folder)\n",
    "\n",
    "zero_vector = np.zeros((55,56,160))\n",
    "\n",
    "a = 0\n",
    "\n",
    "for x in list_of_positions:\n",
    "    new = np.zeros_like(zero_vector)\n",
    "    p, g, t, hms_p, hms_g, hms_t = x\n",
    "    new[p-hms_p:p+hms_p+1,g-hms_g:g+hms_g+1,t-hms_t:t+hms_t+1] = 1\n",
    "    dictio = {}\n",
    "    dictio['Position'] = new\n",
    "    dictio['lab'] = '{} ({},{},{}) ({} {} {})'.format(a, p, g, t, hms_p, hms_g, hms_t)\n",
    "    filename = os.path.join(folder,'Position{:04}.h5'.format(a))\n",
    "    a+=1\n",
    "    qp.writeH5fileDict(filename, dictio)\n"
   ]
  },
  {
   "cell_type": "markdown",
   "metadata": {},
   "source": [
    "For the \"in between bonds\" scan, I need to create real wavefunctions, in S0, normalized."
   ]
  },
  {
   "cell_type": "code",
   "execution_count": 11,
   "metadata": {},
   "outputs": [],
   "source": [
    "zero_vector = np.zeros((55,56,160,8))\n",
    "\n",
    "folder = '/home/alessio/IMPORTANTS/VISUALIZE_POINTS_IN_BETWEN_BONDS'\n",
    "\n",
    "for a,x in enumerate(list_of_positions):\n",
    "    new = new = np.zeros_like(zero_vector)\n",
    "    p, g, t, hms_p, hms_g, hms_t = x\n",
    "    new[p-hms_p:p+hms_p+1,g-hms_g:g+hms_g+1,t-hms_t:t+hms_t+1, 0] = 1 # always S0\n",
    "    dictio = {}\n",
    "    norm_new = np.linalg.norm(new)\n",
    "    dictio['WF'] = new/norm_new\n",
    "    dictio['Time'] = [float(a),0.0]\n",
    "    dictio['lab'] = '{} ({},{},{}) ({} {} {})'.format(a, p, g, t, hms_p, hms_g, hms_t)\n",
    "    filename = os.path.join(folder,'Gaussian{:04}.h5'.format(a))\n",
    "    qp.writeH5fileDict(filename, dictio)\n",
    "\n",
    "\n",
    "\n",
    "\n",
    "\n"
   ]
  },
  {
   "cell_type": "markdown",
   "metadata": {},
   "source": [
    "Here I create the table I then put in the report"
   ]
  },
  {
   "cell_type": "code",
   "execution_count": 20,
   "metadata": {},
   "outputs": [
    {
     "name": "stdout",
     "output_type": "stream",
     "text": [
      "\\textbf{  1} & \\textit{Open Form} & 3.835 & 1.469 & 3.469 & 0.367 & 3.229 & 0.468 & 2.946 & 0.284\\\\\n",
      "\\textbf{  2} & \\textit{CI} & 3.902 & 1.642 & 3.630 & 0.272 & 3.561 & 0.929 & 3.298 & 0.263\\\\\n",
      "\\textbf{  3} & \\textit{S1 pop from UVz} & 4.091 & 1.600 & 3.627 & 0.464 & 4.201 & 1.487 & 3.746 & 0.456\\\\\n",
      "\\textbf{  4} & \\textit{Before CI} & 4.861 & 2.456 & 4.497 & 0.363 & 3.519 & 0.707 & 3.176 & 0.344\\\\\n",
      "\\textbf{  5} & \\textit{After CI} & 3.644 & 1.327 & 3.282 & 0.362 & 4.392 & 1.608 & 4.025 & 0.368\\\\\n",
      "\\textbf{  6} & \\textit{Big Transfer} & 3.450 & 1.048 & 3.061 & 0.389 & 5.345 & 2.610 & 4.969 & 0.377\\\\\n",
      "\\textbf{  7} & \\textit{UVx s1 ball at 74} & 5.005 & 2.539 & 4.612 & 0.393 & 3.308 & 0.669 & 2.861 & 0.447\\\\\n",
      "\\textbf{  8} & \\textit{Extreme theta} & 3.779 & 1.414 & 3.435 & 0.343 & 4.336 & 1.880 & 3.813 & 0.523\\\\\n"
     ]
    }
   ],
   "source": [
    "import glob\n",
    "outputfolders = '/home/alessio/densities/From_pinot/new_calculation_in_between_bonds/POINTS/wavefunctions'\n",
    "# this open old_bond files\n",
    "files1 = sorted(glob.glob('{}/*1.csv'.format(outputfolders)))\n",
    "files2 = sorted(glob.glob('{}/*2.csv'.format(outputfolders)))\n",
    "\n",
    "def read_and_format_line(a):\n",
    "    '''\n",
    "    transform a csv line into something with table in latex\n",
    "    '''\n",
    "#     label = ('\\\\textbf{{{:3.0f}}}'.format(float(a.split(',')[0])))\n",
    "    valuesLine = ' & '.join(['{:5.3f}'.format(float(x)) for i, x in enumerate(a.split(',')) if i!=0][0::2])\n",
    "    return valuesLine\n",
    "\n",
    "dictionary = {6 : (3, 'S1 pop from UVz'),\n",
    "    9 : (2, 'CI'),\n",
    "    10 : (5, 'After CI'),\n",
    "    11 : (4, 'Before CI'),\n",
    "    13 : (6, 'Big Transfer'),\n",
    "    14 : (1, 'Open Form'),\n",
    "    15 : (7, 'UVx s1 ball at 74'),\n",
    "    19 : (8, 'Extreme theta')}\n",
    "\n",
    "\n",
    "for i in [14,9,6,11,10,13,15,19]:\n",
    "    file1 = files1[i]\n",
    "    with open(file1,'r') as f:\n",
    "        a1 = f.readline()\n",
    "        v1 = read_and_format_line(a1)\n",
    "\n",
    "    file2 = files2[i]\n",
    "    with open(file2,'r') as f:\n",
    "        a2 = f.readline()\n",
    "        v2 = read_and_format_line(a2)\n",
    "    if i in dictionary:\n",
    "        print('\\\\textbf{{{:3.0f}}} & \\\\textit{{{}}} & {} & {}\\\\\\\\'.format(dictionary[i][0],dictionary[i][1],v1,v2))\n"
   ]
  },
  {
   "cell_type": "code",
   "execution_count": 5,
   "metadata": {},
   "outputs": [
    {
     "name": "stdout",
     "output_type": "stream",
     "text": [
      "0 -> (16, 19, 110, 0, 0, 0) -> zNorbornadiene_N006-500_P013-538_P088-436.rasscf.h5\n",
      "1 -> (16, 25, 110, 0, 0, 0) -> zNorbornadiene_N006-500_P015-385_P088-436.rasscf.h5\n",
      "2 -> (18, 30, 90, 0, 0, 0) -> zNorbornadiene_N005-500_P016-923_P097-374.rasscf.h5\n",
      "3 -> (20, 30, 110, 0, 0, 0) -> zNorbornadiene_N004-500_P016-923_P088-436.rasscf.h5\n",
      "4 -> (17, 19, 110, 2, 2, 6) -> zNorbornadiene_N006-000_P013-538_P088-436.rasscf.h5\n",
      "5 -> (17, 25, 108, 2, 2, 6) -> zNorbornadiene_N006-000_P015-385_P089-330.rasscf.h5\n",
      "6 -> (25, 30, 101, 0, 0, 0) -> zNorbornadiene_N002-000_P016-923_P092-458.rasscf.h5\n",
      "7 -> (25, 28, 99, 4, 5, 14) -> zNorbornadiene_N002-000_P016-308_P093-352.rasscf.h5\n",
      "8 -> (22, 22, 110, 7, 7, 20) -> zNorbornadiene_N003-500_P014-462_P088-436.rasscf.h5\n",
      "9 -> (16, 22, 110, 0, 0, 0) -> zNorbornadiene_N006-500_P014-462_P088-436.rasscf.h5\n",
      "10 -> (16, 19, 125, 0, 0, 0) -> zNorbornadiene_N006-500_P013-538_P081-732.rasscf.h5\n",
      "11 -> (16, 26, 100, 0, 0, 0) -> zNorbornadiene_N006-500_P015-692_P092-905.rasscf.h5\n",
      "12 -> (25, 26, 100, 0, 0, 0) -> zNorbornadiene_N002-000_P015-692_P092-905.rasscf.h5\n",
      "13 -> (17, 29, 118, 0, 0, 0) -> zNorbornadiene_N006-000_P016-615_P084-860.rasscf.h5\n",
      "14 -> (29, 28, 55, 0, 0, 0) -> zNorbornadiene_P000-000_P016-308_P113-017.rasscf.h5\n",
      "15 -> (21, 26, 118, 0, 0, 0) -> zNorbornadiene_N004-000_P015-692_P084-860.rasscf.h5\n",
      "16 -> (27, 17, 90, 0, 0, 0) -> zNorbornadiene_N001-000_P012-923_P097-374.rasscf.h5\n",
      "17 -> (25, 28, 99, 4, 5, 14) -> zNorbornadiene_N002-000_P016-308_P093-352.rasscf.h5\n",
      "18 -> (27, 26, 85, 2, 2, 24) -> zNorbornadiene_N001-000_P015-692_P099-609.rasscf.h5\n"
     ]
    },
    {
     "ename": "IndexError",
     "evalue": "list index out of range",
     "output_type": "error",
     "traceback": [
      "\u001b[0;31m---------------------------------------------------------------------------\u001b[0m",
      "\u001b[0;31mIndexError\u001b[0m                                Traceback (most recent call last)",
      "\u001b[0;32m<ipython-input-5-f730c1e8ac50>\u001b[0m in \u001b[0;36m<module>\u001b[0;34m\u001b[0m\n\u001b[1;32m     12\u001b[0m \u001b[0;34m\u001b[0m\u001b[0m\n\u001b[1;32m     13\u001b[0m \u001b[0;32mfor\u001b[0m \u001b[0mi\u001b[0m\u001b[0;34m,\u001b[0m \u001b[0mfilez\u001b[0m \u001b[0;32min\u001b[0m \u001b[0menumerate\u001b[0m\u001b[0;34m(\u001b[0m\u001b[0mlist_of_positions\u001b[0m\u001b[0;34m)\u001b[0m\u001b[0;34m:\u001b[0m\u001b[0;34m\u001b[0m\u001b[0;34m\u001b[0m\u001b[0m\n\u001b[0;32m---> 14\u001b[0;31m     \u001b[0mname\u001b[0m \u001b[0;34m=\u001b[0m \u001b[0mfindfile\u001b[0m\u001b[0;34m(\u001b[0m\u001b[0mfilez\u001b[0m\u001b[0;34m)\u001b[0m\u001b[0;34m\u001b[0m\u001b[0;34m\u001b[0m\u001b[0m\n\u001b[0m\u001b[1;32m     15\u001b[0m     \u001b[0mprint\u001b[0m\u001b[0;34m(\u001b[0m\u001b[0;34m'{} -> {} -> {}'\u001b[0m\u001b[0;34m.\u001b[0m\u001b[0mformat\u001b[0m\u001b[0;34m(\u001b[0m\u001b[0mi\u001b[0m\u001b[0;34m,\u001b[0m \u001b[0mfilez\u001b[0m\u001b[0;34m,\u001b[0m \u001b[0mname\u001b[0m\u001b[0;34m)\u001b[0m\u001b[0;34m)\u001b[0m\u001b[0;34m\u001b[0m\u001b[0;34m\u001b[0m\u001b[0m\n",
      "\u001b[0;32m<ipython-input-5-f730c1e8ac50>\u001b[0m in \u001b[0;36mfindfile\u001b[0;34m(tup)\u001b[0m\n\u001b[1;32m      8\u001b[0m     \u001b[0mgamsL\u001b[0m \u001b[0;34m=\u001b[0m \u001b[0;34m[\u001b[0m\u001b[0;34m'P012-308'\u001b[0m\u001b[0;34m,\u001b[0m\u001b[0;34m'P012-615'\u001b[0m\u001b[0;34m,\u001b[0m\u001b[0;34m'P012-923'\u001b[0m\u001b[0;34m,\u001b[0m\u001b[0;34m'P013-231'\u001b[0m\u001b[0;34m,\u001b[0m\u001b[0;34m'P013-538'\u001b[0m\u001b[0;34m,\u001b[0m\u001b[0;34m'P013-846'\u001b[0m\u001b[0;34m,\u001b[0m\u001b[0;34m'P014-154'\u001b[0m\u001b[0;34m,\u001b[0m\u001b[0;34m'P014-462'\u001b[0m\u001b[0;34m,\u001b[0m\u001b[0;34m'P014-769'\u001b[0m\u001b[0;34m,\u001b[0m\u001b[0;34m'P015-077'\u001b[0m\u001b[0;34m,\u001b[0m\u001b[0;34m'P015-385'\u001b[0m\u001b[0;34m,\u001b[0m\u001b[0;34m'P015-692'\u001b[0m\u001b[0;34m,\u001b[0m\u001b[0;34m'P016-000'\u001b[0m\u001b[0;34m,\u001b[0m\u001b[0;34m'P016-308'\u001b[0m\u001b[0;34m,\u001b[0m\u001b[0;34m'P016-615'\u001b[0m\u001b[0;34m,\u001b[0m\u001b[0;34m'P016-923'\u001b[0m\u001b[0;34m,\u001b[0m\u001b[0;34m'P017-231'\u001b[0m\u001b[0;34m,\u001b[0m\u001b[0;34m'P017-538'\u001b[0m\u001b[0;34m,\u001b[0m\u001b[0;34m'P017-846'\u001b[0m\u001b[0;34m,\u001b[0m\u001b[0;34m'P018-154'\u001b[0m\u001b[0;34m,\u001b[0m\u001b[0;34m'P018-462'\u001b[0m\u001b[0;34m,\u001b[0m\u001b[0;34m'P018-769'\u001b[0m\u001b[0;34m,\u001b[0m\u001b[0;34m'P019-077'\u001b[0m\u001b[0;34m,\u001b[0m\u001b[0;34m'P019-385'\u001b[0m\u001b[0;34m,\u001b[0m\u001b[0;34m'P019-692'\u001b[0m\u001b[0;34m,\u001b[0m\u001b[0;34m'P020-000'\u001b[0m\u001b[0;34m]\u001b[0m\u001b[0;34m\u001b[0m\u001b[0;34m\u001b[0m\u001b[0m\n\u001b[1;32m      9\u001b[0m     \u001b[0mthesL\u001b[0m \u001b[0;34m=\u001b[0m \u001b[0;34m[\u001b[0m\u001b[0;34m'P124-190'\u001b[0m\u001b[0;34m,\u001b[0m\u001b[0;34m'P123-743'\u001b[0m\u001b[0;34m,\u001b[0m\u001b[0;34m'P123-296'\u001b[0m\u001b[0;34m,\u001b[0m\u001b[0;34m'P122-849'\u001b[0m\u001b[0;34m,\u001b[0m\u001b[0;34m'P122-402'\u001b[0m\u001b[0;34m,\u001b[0m\u001b[0;34m'P121-955'\u001b[0m\u001b[0;34m,\u001b[0m\u001b[0;34m'P121-508'\u001b[0m\u001b[0;34m,\u001b[0m\u001b[0;34m'P121-061'\u001b[0m\u001b[0;34m,\u001b[0m\u001b[0;34m'P120-615'\u001b[0m\u001b[0;34m,\u001b[0m\u001b[0;34m'P120-168'\u001b[0m\u001b[0;34m,\u001b[0m\u001b[0;34m'P119-721'\u001b[0m\u001b[0;34m,\u001b[0m\u001b[0;34m'P119-274'\u001b[0m\u001b[0;34m,\u001b[0m\u001b[0;34m'P118-827'\u001b[0m\u001b[0;34m,\u001b[0m\u001b[0;34m'P118-380'\u001b[0m\u001b[0;34m,\u001b[0m\u001b[0;34m'P117-933'\u001b[0m\u001b[0;34m,\u001b[0m\u001b[0;34m'P117-486'\u001b[0m\u001b[0;34m,\u001b[0m\u001b[0;34m'P117-039'\u001b[0m\u001b[0;34m,\u001b[0m\u001b[0;34m'P116-592'\u001b[0m\u001b[0;34m,\u001b[0m\u001b[0;34m'P116-145'\u001b[0m\u001b[0;34m,\u001b[0m\u001b[0;34m'P115-698'\u001b[0m\u001b[0;34m,\u001b[0m\u001b[0;34m'P115-251'\u001b[0m\u001b[0;34m,\u001b[0m\u001b[0;34m'P114-804'\u001b[0m\u001b[0;34m,\u001b[0m\u001b[0;34m'P114-358'\u001b[0m\u001b[0;34m,\u001b[0m\u001b[0;34m'P113-911'\u001b[0m\u001b[0;34m,\u001b[0m\u001b[0;34m'P113-464'\u001b[0m\u001b[0;34m,\u001b[0m\u001b[0;34m'P113-017'\u001b[0m\u001b[0;34m,\u001b[0m\u001b[0;34m'P112-570'\u001b[0m\u001b[0;34m,\u001b[0m\u001b[0;34m'P112-123'\u001b[0m\u001b[0;34m,\u001b[0m\u001b[0;34m'P111-676'\u001b[0m\u001b[0;34m,\u001b[0m\u001b[0;34m'P111-229'\u001b[0m\u001b[0;34m,\u001b[0m\u001b[0;34m'P110-782'\u001b[0m\u001b[0;34m,\u001b[0m\u001b[0;34m'P110-335'\u001b[0m\u001b[0;34m,\u001b[0m\u001b[0;34m'P109-888'\u001b[0m\u001b[0;34m,\u001b[0m\u001b[0;34m'P109-441'\u001b[0m\u001b[0;34m,\u001b[0m\u001b[0;34m'P108-994'\u001b[0m\u001b[0;34m,\u001b[0m\u001b[0;34m'P108-547'\u001b[0m\u001b[0;34m,\u001b[0m\u001b[0;34m'P108-101'\u001b[0m\u001b[0;34m,\u001b[0m\u001b[0;34m'P107-654'\u001b[0m\u001b[0;34m,\u001b[0m\u001b[0;34m'P107-207'\u001b[0m\u001b[0;34m,\u001b[0m\u001b[0;34m'P106-760'\u001b[0m\u001b[0;34m,\u001b[0m\u001b[0;34m'P106-313'\u001b[0m\u001b[0;34m,\u001b[0m\u001b[0;34m'P105-866'\u001b[0m\u001b[0;34m,\u001b[0m\u001b[0;34m'P105-419'\u001b[0m\u001b[0;34m,\u001b[0m\u001b[0;34m'P104-972'\u001b[0m\u001b[0;34m,\u001b[0m\u001b[0;34m'P104-525'\u001b[0m\u001b[0;34m,\u001b[0m\u001b[0;34m'P104-078'\u001b[0m\u001b[0;34m,\u001b[0m\u001b[0;34m'P103-631'\u001b[0m\u001b[0;34m,\u001b[0m\u001b[0;34m'P103-184'\u001b[0m\u001b[0;34m,\u001b[0m\u001b[0;34m'P102-737'\u001b[0m\u001b[0;34m,\u001b[0m\u001b[0;34m'P102-291'\u001b[0m\u001b[0;34m,\u001b[0m\u001b[0;34m'P101-844'\u001b[0m\u001b[0;34m,\u001b[0m\u001b[0;34m'P101-397'\u001b[0m\u001b[0;34m,\u001b[0m\u001b[0;34m'P100-950'\u001b[0m\u001b[0;34m,\u001b[0m\u001b[0;34m'P100-503'\u001b[0m\u001b[0;34m,\u001b[0m\u001b[0;34m'P100-056'\u001b[0m\u001b[0;34m,\u001b[0m\u001b[0;34m'P099-609'\u001b[0m\u001b[0;34m,\u001b[0m\u001b[0;34m'P099-162'\u001b[0m\u001b[0;34m,\u001b[0m\u001b[0;34m'P098-715'\u001b[0m\u001b[0;34m,\u001b[0m\u001b[0;34m'P098-268'\u001b[0m\u001b[0;34m,\u001b[0m\u001b[0;34m'P097-821'\u001b[0m\u001b[0;34m,\u001b[0m\u001b[0;34m'P097-374'\u001b[0m\u001b[0;34m,\u001b[0m\u001b[0;34m'P096-927'\u001b[0m\u001b[0;34m,\u001b[0m\u001b[0;34m'P096-480'\u001b[0m\u001b[0;34m,\u001b[0m\u001b[0;34m'P096-034'\u001b[0m\u001b[0;34m,\u001b[0m\u001b[0;34m'P095-587'\u001b[0m\u001b[0;34m,\u001b[0m\u001b[0;34m'P095-140'\u001b[0m\u001b[0;34m,\u001b[0m\u001b[0;34m'P094-693'\u001b[0m\u001b[0;34m,\u001b[0m\u001b[0;34m'P094-246'\u001b[0m\u001b[0;34m,\u001b[0m\u001b[0;34m'P093-799'\u001b[0m\u001b[0;34m,\u001b[0m\u001b[0;34m'P093-352'\u001b[0m\u001b[0;34m,\u001b[0m\u001b[0;34m'P092-905'\u001b[0m\u001b[0;34m,\u001b[0m\u001b[0;34m'P092-458'\u001b[0m\u001b[0;34m,\u001b[0m\u001b[0;34m'P092-011'\u001b[0m\u001b[0;34m,\u001b[0m\u001b[0;34m'P091-564'\u001b[0m\u001b[0;34m,\u001b[0m\u001b[0;34m'P091-117'\u001b[0m\u001b[0;34m,\u001b[0m\u001b[0;34m'P090-670'\u001b[0m\u001b[0;34m,\u001b[0m\u001b[0;34m'P090-223'\u001b[0m\u001b[0;34m,\u001b[0m\u001b[0;34m'P089-777'\u001b[0m\u001b[0;34m,\u001b[0m\u001b[0;34m'P089-330'\u001b[0m\u001b[0;34m,\u001b[0m\u001b[0;34m'P088-883'\u001b[0m\u001b[0;34m,\u001b[0m\u001b[0;34m'P088-436'\u001b[0m\u001b[0;34m,\u001b[0m\u001b[0;34m'P087-989'\u001b[0m\u001b[0;34m,\u001b[0m\u001b[0;34m'P087-542'\u001b[0m\u001b[0;34m,\u001b[0m\u001b[0;34m'P087-095'\u001b[0m\u001b[0;34m,\u001b[0m\u001b[0;34m'P086-648'\u001b[0m\u001b[0;34m,\u001b[0m\u001b[0;34m'P086-201'\u001b[0m\u001b[0;34m,\u001b[0m\u001b[0;34m'P085-754'\u001b[0m\u001b[0;34m,\u001b[0m\u001b[0;34m'P085-307'\u001b[0m\u001b[0;34m,\u001b[0m\u001b[0;34m'P084-860'\u001b[0m\u001b[0;34m,\u001b[0m\u001b[0;34m'P084-413'\u001b[0m\u001b[0;34m,\u001b[0m\u001b[0;34m'P083-966'\u001b[0m\u001b[0;34m,\u001b[0m\u001b[0;34m'P083-520'\u001b[0m\u001b[0;34m,\u001b[0m\u001b[0;34m'P083-073'\u001b[0m\u001b[0;34m,\u001b[0m\u001b[0;34m'P082-626'\u001b[0m\u001b[0;34m,\u001b[0m\u001b[0;34m'P082-179'\u001b[0m\u001b[0;34m,\u001b[0m\u001b[0;34m'P081-732'\u001b[0m\u001b[0;34m,\u001b[0m\u001b[0;34m'P081-285'\u001b[0m\u001b[0;34m,\u001b[0m\u001b[0;34m'P080-838'\u001b[0m\u001b[0;34m,\u001b[0m\u001b[0;34m'P080-391'\u001b[0m\u001b[0;34m,\u001b[0m\u001b[0;34m'P079-944'\u001b[0m\u001b[0;34m]\u001b[0m\u001b[0;34m\u001b[0m\u001b[0;34m\u001b[0m\u001b[0m\n\u001b[0;32m---> 10\u001b[0;31m     \u001b[0mfile\u001b[0m \u001b[0;34m=\u001b[0m \u001b[0;34m'zNorbornadiene_{}_{}_{}.rasscf.h5'\u001b[0m\u001b[0;34m.\u001b[0m\u001b[0mformat\u001b[0m\u001b[0;34m(\u001b[0m\u001b[0mphisL\u001b[0m\u001b[0;34m[\u001b[0m\u001b[0ma\u001b[0m\u001b[0;34m-\u001b[0m\u001b[0;36m15\u001b[0m\u001b[0;34m]\u001b[0m\u001b[0;34m,\u001b[0m \u001b[0mgamsL\u001b[0m\u001b[0;34m[\u001b[0m\u001b[0mb\u001b[0m\u001b[0;34m-\u001b[0m\u001b[0;36m15\u001b[0m\u001b[0;34m]\u001b[0m\u001b[0;34m,\u001b[0m \u001b[0mthesL\u001b[0m\u001b[0;34m[\u001b[0m\u001b[0mc\u001b[0m\u001b[0;34m-\u001b[0m\u001b[0;36m30\u001b[0m\u001b[0;34m]\u001b[0m\u001b[0;34m)\u001b[0m\u001b[0;34m\u001b[0m\u001b[0;34m\u001b[0m\u001b[0m\n\u001b[0m\u001b[1;32m     11\u001b[0m     \u001b[0;32mreturn\u001b[0m\u001b[0;34m(\u001b[0m\u001b[0mfile\u001b[0m\u001b[0;34m)\u001b[0m\u001b[0;34m\u001b[0m\u001b[0;34m\u001b[0m\u001b[0m\n\u001b[1;32m     12\u001b[0m \u001b[0;34m\u001b[0m\u001b[0m\n",
      "\u001b[0;31mIndexError\u001b[0m: list index out of range"
     ]
    }
   ],
   "source": [
    "def findfile(tup):\n",
    "    '''\n",
    "    from the non extrapolated cube to the calculations file names\n",
    "    '''\n",
    "    a,b,c,_,_,_ = tup\n",
    "    phisL = ['N007-000', 'N006-500', 'N006-000', 'N005-500', 'N005-000', 'N004-500', 'N004-000', 'N003-500', 'N003-000', 'N002-500', 'N002-000', 'N001-500', 'N001-000', 'N000-500', 'P000-000', 'P000-500',\n",
    "     'P001-000', 'P001-500', 'P002-000', 'P002-500', 'P003-000', 'P003-500', 'P004-000', 'P004-500', 'P005-000']\n",
    "    gamsL = ['P012-308','P012-615','P012-923','P013-231','P013-538','P013-846','P014-154','P014-462','P014-769','P015-077','P015-385','P015-692','P016-000','P016-308','P016-615','P016-923','P017-231','P017-538','P017-846','P018-154','P018-462','P018-769','P019-077','P019-385','P019-692','P020-000']\n",
    "    thesL = ['P124-190','P123-743','P123-296','P122-849','P122-402','P121-955','P121-508','P121-061','P120-615','P120-168','P119-721','P119-274','P118-827','P118-380','P117-933','P117-486','P117-039','P116-592','P116-145','P115-698','P115-251','P114-804','P114-358','P113-911','P113-464','P113-017','P112-570','P112-123','P111-676','P111-229','P110-782','P110-335','P109-888','P109-441','P108-994','P108-547','P108-101','P107-654','P107-207','P106-760','P106-313','P105-866','P105-419','P104-972','P104-525','P104-078','P103-631','P103-184','P102-737','P102-291','P101-844','P101-397','P100-950','P100-503','P100-056','P099-609','P099-162','P098-715','P098-268','P097-821','P097-374','P096-927','P096-480','P096-034','P095-587','P095-140','P094-693','P094-246','P093-799','P093-352','P092-905','P092-458','P092-011','P091-564','P091-117','P090-670','P090-223','P089-777','P089-330','P088-883','P088-436','P087-989','P087-542','P087-095','P086-648','P086-201','P085-754','P085-307','P084-860','P084-413','P083-966','P083-520','P083-073','P082-626','P082-179','P081-732','P081-285','P080-838','P080-391','P079-944']\n",
    "    file = 'zNorbornadiene_{}_{}_{}.rasscf.h5'.format(phisL[a-15], gamsL[b-15], thesL[c-30])\n",
    "    return(file)\n",
    "\n",
    "for i, filez in enumerate(list_of_positions):\n",
    "    name = findfile(filez)\n",
    "    print('{} -> {} -> {}'.format(i, filez, name))"
   ]
  },
  {
   "cell_type": "markdown",
   "metadata": {},
   "source": [
    "|number  | state | new bond | old bond | description |\n",
    "| ---    |   --- |    ---   |  ---     | --- |\n",
    "| 13     | s1    | 5.441 | 3.500 | Where there is actual transfer along CI \n",
    "| 13     | s0    | 5.345 | 3.449 | \n",
    "| 12     | s1    | 4.540 | 3.456 | 90 fs center \n",
    "| 12     | s0    | 4.532 | 3.508 |  \n",
    "| 11     | s1    | 3.575 | 4.916 | BEFORE (low phi) \n",
    "| 11     | s0    | 3.519 | 4.860 | \n",
    "| 10     | s1    | 4.425 | 3.661 | AFTER (low phi) \n",
    "| 10     | s0    | 4.392 | 3.644 | \n"
   ]
  },
  {
   "cell_type": "code",
   "execution_count": 6,
   "metadata": {},
   "outputs": [],
   "source": [
    "def cut_out_wf(wf_name,tupleZ,outname):\n",
    "    wf = qp.retrieve_hdf5_data(wf_name,'WF')\n",
    "    time = qp.retrieve_hdf5_data(wf_name,'Time')\n",
    "    mask = np.zeros_like(wf)\n",
    "    p, g, t, hms_p, hms_g, hms_t = tupleZ\n",
    "    mask[p-hms_p:p+hms_p+1,g-hms_g:g+hms_g+1,t-hms_t:t+hms_t+1] = 1\n",
    "    new_wf2 = wf * mask\n",
    "    new_wf = new_wf2/(np.linalg.norm(new_wf2))\n",
    "    new_wf_file = {'Time': time, 'WF': new_wf}\n",
    "    qp.writeH5fileDict(outname,new_wf_file)\n",
    "\n",
    "\n",
    "# here I want to save IR NOR and IR INV into two different files\n",
    "wf_name = '/home/alessio/w-August-Run/m-IR-Polarized-NOR_0000/Gaussian0045.h5'\n",
    "outname = '/home/alessio/Desktop/d-projectExplorer/positions/Gaussian0000.h5'\n",
    "    \n",
    "#wf_name = '/home/alessio/w-August-Run/m-IR-Polarized-INV_0000/Gaussian0045.h5'\n",
    "#outname = '/home/alessio/Desktop/d-projectExplorer/positions/Gaussian0001.h5'\n",
    "tupleZ = (25,28,99, 4, 5, 14)\n",
    "\n",
    "\n",
    "cut_out_wf(wf_name, tupleZ, outname)"
   ]
  },
  {
   "cell_type": "markdown",
   "metadata": {},
   "source": [
    "# Take Dipoles Matrices"
   ]
  },
  {
   "cell_type": "code",
   "execution_count": 5,
   "metadata": {},
   "outputs": [
    {
     "name": "stdout",
     "output_type": "stream",
     "text": [
      "Pickle loaded\n"
     ]
    },
    {
     "data": {
      "text/plain": [
       "(55, 56, 160, 8)"
      ]
     },
     "execution_count": 5,
     "metadata": {},
     "output_type": "execute_result"
    }
   ],
   "source": [
    "name_data_file = '/home/alessio/NAC_smoothing/LESSMASS/2019-May-smoothNacONLY.pickle'\n",
    "\n",
    "data = qp.pickleLoad(name_data_file)\n",
    "print('Pickle loaded')\n",
    "data.keys()\n",
    "potential = data['potCube']\n",
    "potential.shape"
   ]
  },
  {
   "cell_type": "code",
   "execution_count": 6,
   "metadata": {},
   "outputs": [
    {
     "data": {
      "text/plain": [
       "(29, 28, 55, 0)"
      ]
     },
     "execution_count": 6,
     "metadata": {},
     "output_type": "execute_result"
    }
   ],
   "source": [
    "# the minimum geometry\n",
    "qp.find_numpy_index_minumum(potential)"
   ]
  },
  {
   "cell_type": "code",
   "execution_count": 7,
   "metadata": {},
   "outputs": [
    {
     "data": {
      "text/plain": [
       "'zNorbornadiene_P000-000_P016-308_P113-017.rasscf.h5'"
      ]
     },
     "execution_count": 7,
     "metadata": {},
     "output_type": "execute_result"
    }
   ],
   "source": [
    "findfile((29, 28, 55,0,0,0))"
   ]
  },
  {
   "cell_type": "code",
   "execution_count": 8,
   "metadata": {},
   "outputs": [
    {
     "data": {
      "text/plain": [
       "(0, 2, 71)"
      ]
     },
     "execution_count": 8,
     "metadata": {},
     "output_type": "execute_result"
    }
   ],
   "source": [
    "# the conical intersection is a little harder to find. The point with minimum difference between 0 and 1 is in the extrapolation regions, in fact. This is why I take the internal cube and THEN I re-add 15-15-30\n",
    "qp.find_numpy_index_minumum(np.abs(potential[15:-15,15:-15,30:-30,1]-potential[15:-15,15:-15,30:-30,0]))"
   ]
  },
  {
   "cell_type": "code",
   "execution_count": 9,
   "metadata": {},
   "outputs": [
    {
     "name": "stdout",
     "output_type": "stream",
     "text": [
      "(3, 8, 8)\n",
      "(3, 8, 8)\n"
     ]
    }
   ],
   "source": [
    "def printDipoles(data,p,g,t):\n",
    "    '''\n",
    "    from tuple to file of dipoles\n",
    "    '''\n",
    "    outf = '/home/alessio/TEMPORALE'\n",
    "    dipoles = data['dipCUBE']\n",
    "    this_one = dipoles[p,g,t]\n",
    "    print(this_one.shape)\n",
    "    for car in [0,1,2]:\n",
    "        name = os.path.join(outf,'dipoles_{}_{}_{}_{}.csv'.format(p,g,t,car))\n",
    "        a = pd.DataFrame(this_one[car],index = ['S0','S1','S2','S3','S4','S5','S6','S7'], columns=['S0','S1','S2','S3','S4','S5','S6','S7'])\n",
    "        a.to_csv(name)\n",
    "\n",
    "    \n",
    "    \n",
    "printDipoles(data,29,28,55)\n",
    "printDipoles(data,0+15,2+15,71+30)"
   ]
  },
  {
   "cell_type": "code",
   "execution_count": 10,
   "metadata": {},
   "outputs": [
    {
     "data": {
      "text/plain": [
       "0.21168795729157364"
      ]
     },
     "execution_count": 10,
     "metadata": {},
     "output_type": "execute_result"
    }
   ],
   "source": [
    "qp.fromHartoEv(potential[15,17,101,1]-potential[15,17,101,0])"
   ]
  },
  {
   "cell_type": "code",
   "execution_count": 12,
   "metadata": {},
   "outputs": [],
   "source": [
    "def printDipoles_file(fn):\n",
    "    '''\n",
    "    same as above, but for the file\n",
    "    '''\n",
    "    outf = '/home/alessio/TEMPORALE/'\n",
    "    all_data = qp.readWholeH5toDict(fn)\n",
    "    all_dipoles = all_data['SFS_EDIPMOM']\n",
    "    this_one = all_dipoles[:,:8,:8]\n",
    "    root = os.path.basename(fn)\n",
    "    for car in [0,1,2]:\n",
    "        name = os.path.join(outf,'dipoles_{}_{}.csv'.format(root,car))\n",
    "        a = pd.DataFrame(this_one[car], index = ['S0','S1','S2','S3','S4','S5','S6','S7'], columns=['S0','S1','S2','S3','S4','S5','S6','S7'])\n",
    "        a.to_csv(name)\n",
    "\n",
    "# this works only when \n",
    "# $ ClusterHere.sh front\n",
    "\n",
    "#fn = '/home/alessio/a-MOLCASTEST/fromOpen_3_4.rassi.h5'\n",
    "#printDipoles_file(fn)"
   ]
  },
  {
   "cell_type": "markdown",
   "metadata": {},
   "source": [
    "# VISUALIZATION OF DETERMINANTS"
   ]
  },
  {
   "cell_type": "code",
   "execution_count": 13,
   "metadata": {},
   "outputs": [
    {
     "data": {
      "text/plain": [
       "['NA', 'A1', 'B2']"
      ]
     },
     "execution_count": 13,
     "metadata": {},
     "output_type": "execute_result"
    }
   ],
   "source": [
    "def which_sym(thing):\n",
    "    loro = ['B1','A1','B2','A2','A1','B2','B1','A1']\n",
    "    operations = { 'A1': np.array([1,1,1]),\n",
    "                   'A2': np.array([1,-1,-1]),\n",
    "                   'B1': np.array([-1,1,-1]),\n",
    "                   'B2': np.array([-1,-1,1]),}\n",
    "    if '2' not in thing:\n",
    "        infal = 'NA'\n",
    "    else:\n",
    "        if 'u' not in thing:\n",
    "            infal = 'A1'\n",
    "        else:\n",
    "            uno = thing.index('u')\n",
    "            due = thing.index('d')\n",
    "            value = operations[loro[uno]]*operations[loro[due]]\n",
    "            result = [ key for key in operations if np.all(operations[key] == value) ]\n",
    "            infal = result[0]\n",
    "    return(infal)\n",
    "\n",
    "xss = ['udud0000','02200000','u20d0000']\n",
    "[ which_sym(hes) for hes in xss]\n"
   ]
  },
  {
   "cell_type": "code",
   "execution_count": 14,
   "metadata": {},
   "outputs": [],
   "source": [
    "import matplotlib.pyplot as plt\n",
    "import matplotlib.patches as mpatches\n",
    "\n",
    "def visualize_determinants(elements_parsed,name_file):\n",
    "    fig, ax = plt.subplots(figsize=(10,20))\n",
    "\n",
    "    ax.annotate('{}'.format(os.path.basename(name_file)), xy=(0.05, 0.05),ha='center', size = 20)\n",
    "\n",
    "    ax.set_xlim(0,1.1)\n",
    "    ax.set_ylim(2.5,0)\n",
    "\n",
    "    # ax.plot(range(10))\n",
    "\n",
    "\n",
    "    y_initial_position = .1\n",
    "\n",
    "    for st_index, state in enumerate(elements_parsed):\n",
    "        name, percentages, det_strings = state\n",
    "\n",
    "        name_y_position = y_initial_position + (len(percentages)*0.1/2)\n",
    "\n",
    "        ax.annotate('{}'.format(name), xy=(0.05, name_y_position),ha='center', size = 20)\n",
    "\n",
    "\n",
    "        for det in range(len(percentages)):\n",
    "\n",
    "            percentage = percentages[det]\n",
    "            string_thing = det_strings[det]\n",
    "\n",
    "\n",
    "            y_shift = 0.1        \n",
    "            y_position = 0.05 + y_initial_position + y_shift*det\n",
    "\n",
    "            ax.annotate('{:.1f}%'.format(percentage*100), xy=(0.15, y_position),ha='center', size = 15)\n",
    "#             print(string_thing)\n",
    "            sym_of_this = which_sym(string_thing)\n",
    "            ax.annotate(sym_of_this, xy=(1.05, y_position),ha='center', size = 15)\n",
    "            \n",
    "            for i in range(8):\n",
    "                up_down_string = string_thing[i]\n",
    "                #\n",
    "                \n",
    "                initial_x_pos = 0.2\n",
    "                dx = 0.1\n",
    "                x_pos = initial_x_pos + i * dx\n",
    "                y_pos = 0.01 + y_initial_position + y_shift*det\n",
    "\n",
    "                \n",
    "                rect = mpatches.Rectangle((x_pos, y_pos), dx, dx, ec=\"black\", lw=1.0, fill=False)\n",
    "                ax.add_patch(rect)\n",
    "\n",
    "                # drawing \n",
    "                x2, x1 = initial_x_pos + 0.03 + i * dx, initial_x_pos + 0.07 + i * dx\n",
    "                y1, y2 = 0.02 + y_initial_position + y_shift*det, 0.09 + y_initial_position + y_shift*det\n",
    "\n",
    "                arrow1_start = (x1, y1)\n",
    "                arrow1_stop  = (x1, y2)\n",
    "                arrow2_start = (x2, y2)\n",
    "                arrow2_stop  = (x2, y1)\n",
    "                mutSc = 30\n",
    "\n",
    "                if up_down_string == '2' or up_down_string == 'd':\n",
    "                    arrow =  mpatches.FancyArrowPatch(arrow1_start, arrow1_stop, arrowstyle='->', mutation_scale = mutSc, color='r')\n",
    "                    ax.add_patch(arrow)\n",
    "                if up_down_string == '2' or up_down_string == 'u':\n",
    "                    arrow2 = mpatches.FancyArrowPatch(arrow2_start, arrow2_stop, arrowstyle='->', mutation_scale = mutSc, color='r')\n",
    "                    ax.add_patch(arrow2)\n",
    "\n",
    "        y_initial_position = y_initial_position + len(percentages)*0.1 + 0.05\n",
    "\n",
    "\n",
    "    ax.axis('off')"
   ]
  },
  {
   "cell_type": "code",
   "execution_count": 15,
   "metadata": {},
   "outputs": [],
   "source": [
    "import re\n",
    "import sys\n",
    "\n",
    "def parse_out_for_determinants(out):\n",
    "    \n",
    "    elements = []\n",
    "    energies = []\n",
    "\n",
    "    with open(out,'r') as f:\n",
    "        a = f.readlines()\n",
    "\n",
    "    nstate = 0\n",
    "    for i,line in enumerate(a):\n",
    "        if re.search('printout of CI-coefficients', line):\n",
    "            name = 'S{}'.format(nstate)\n",
    "            energies.append(a[i+1].split()[1])        \n",
    "            sublist_up_down = []\n",
    "            sublist_weight = []\n",
    "            k = 0\n",
    "            while len(a[i+3+k].split()) == 4:\n",
    "                thing_parsed = a[i+3+k]\n",
    "                thing = thing_parsed.split()\n",
    "                string_up_down = thing[1]\n",
    "                weigth = float(thing[3])\n",
    "                if weigth > 0.06:\n",
    "                    sublist_up_down.append(string_up_down)\n",
    "                    sublist_weight.append(weigth)\n",
    "                k += 1\n",
    "            correct_format = (name,sublist_weight,sublist_up_down)\n",
    "            elements.append(correct_format)\n",
    "            nstate += 1\n",
    "    return(elements,out)\n",
    "\n"
   ]
  },
  {
   "cell_type": "markdown",
   "metadata": {},
   "source": [
    "This will work with a Molcas output"
   ]
  },
  {
   "cell_type": "code",
   "execution_count": 16,
   "metadata": {},
   "outputs": [],
   "source": [
    "#out = '/home/alessio/a-DETERMINANTS/zNorbornadiene_N001-000_P015-692_P099-609/zNorbornadiene_N001-000_P015-692_P099-609.out'\n",
    "#out = '/home/alessio/a-DETERMINANTS/CI_calculations/LAST_POINT_SP/fromOpen_3_4.out'\n",
    "#out = '/home/alessio/a-DETERMINANTS/zNorbornadiene_N002-000_P016-308_P093-352/zNorbornadiene_N002-000_P016-308_P093-352.out'\n",
    "#out = '/home/alessio/a-DETERMINANTS/zNorbornadiene_N001-000_P015-692_P099-609/CI_S2_S3_optimization/SINGLEPOINT/zNorbCIs2s3_N001-000_P015-692_P099-609.out'\n",
    "#elements, out = parse_out_for_determinants(out)\n",
    "#visualize_determinants(elements,out)"
   ]
  },
  {
   "cell_type": "markdown",
   "metadata": {},
   "source": [
    "This is to watch \"in between bonds\" values across the cube. I will just select some point into the cube to get a reference on how those values are changing."
   ]
  },
  {
   "cell_type": "code",
   "execution_count": null,
   "metadata": {},
   "outputs": [],
   "source": []
  }
 ],
 "metadata": {
  "hide_input": false,
  "kernelspec": {
   "display_name": "Python 3",
   "language": "python",
   "name": "python3"
  },
  "language_info": {
   "codemirror_mode": {
    "name": "ipython",
    "version": 3
   },
   "file_extension": ".py",
   "mimetype": "text/x-python",
   "name": "python",
   "nbconvert_exporter": "python",
   "pygments_lexer": "ipython3",
   "version": "3.6.8"
  },
  "toc": {
   "base_numbering": 1,
   "nav_menu": {},
   "number_sections": true,
   "sideBar": true,
   "skip_h1_title": false,
   "title_cell": "Table of Contents",
   "title_sidebar": "Contents",
   "toc_cell": false,
   "toc_position": {},
   "toc_section_display": true,
   "toc_window_display": false
  }
 },
 "nbformat": 4,
 "nbformat_minor": 4
}
