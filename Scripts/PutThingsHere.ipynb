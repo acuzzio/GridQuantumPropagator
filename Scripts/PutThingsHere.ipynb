{
 "cells": [
  {
   "cell_type": "code",
   "execution_count": 1,
   "metadata": {
    "ExecuteTime": {
     "end_time": "2019-06-10T11:02:29.738249Z",
     "start_time": "2019-06-10T11:02:29.721128Z"
    }
   },
   "outputs": [],
   "source": [
    "import os\n",
    "import matplotlib.pyplot as plt\n",
    "%matplotlib notebook\n",
    "# from mpl_toolkits.mplot3d import axes3d\n",
    "# from ipywidgets import interact, fixed\n",
    "# import ipywidgets as widgets\n",
    "# from tqdm import tqdm_notebook as tqdm\n",
    "\n",
    "# from ipywidgets import interactive, interact, HBox, Layout, VBox\n",
    "import os"
   ]
  },
  {
   "cell_type": "code",
   "execution_count": 35,
   "metadata": {
    "ExecuteTime": {
     "end_time": "2019-06-10T11:59:37.098521Z",
     "start_time": "2019-06-10T11:59:37.037577Z"
    }
   },
   "outputs": [],
   "source": [
    "list_of_positions = [(16,19,110, 0, 0, 0), # 00 good, approaching high values of phi from high gamma\n",
    "                     (16,25,110, 0, 0, 0), # 01 good, approaching high values of phi from low gamma\n",
    "                     (18,30, 90, 0, 0, 0), # 02 another angle of attack\n",
    "                     (20,30,110, 0, 0, 0), # 03 this is the area where the green seems to accumulate\n",
    "                     (17,19,110, 2, 2, 6), # 04 initial cube\n",
    "                     (17,25,108, 2, 2, 6), # 05 final cube\n",
    "                     (25,30,101, 0, 0, 0), # 06 things go well\n",
    "                     (25,28,99, 4, 5, 14), # 07 this is the wavefunction I want to cut out from IR runs. And now from the UV on Z\n",
    "                     (22,22,110, 7, 7, 20), # 08 I want a cube that defines CI part  CI_MASK IS THIS ONE\n",
    "                     (16, 22, 110, 0, 0, 0), # 09 this point is the CI itself\n",
    "                     (16, 19, 125, 0, 0, 0), # 10 this is \"after\" the CI\n",
    "                     (16, 26, 100, 0, 0, 0), # 11 this is \"before\" the CI\n",
    "                     (25, 26, 100, 0, 0, 0), # 12 This is the one on 90 times\n",
    "                     (17, 29, 118, 0, 0, 0), # 13 This is where s1 seems to transfer in s0\n",
    "                     (29, 28, 55, 0, 0, 0), # 14 this is MINIMUM\n",
    "                     (21, 26, 118, 0, 0, 0), # 15 This is IN THE MIDDLE OF 74 ball\n",
    "                     (27, 17, 90, 0, 0, 0), # 16 This is HIGH GAMMA EXTREME OF 90 ball\n",
    "                     (25,28,99, 4, 5, 14), # 17 this is the wavefunction I want to cut out from IR runs. Little bigger now for the UV on Z\n",
    "                    ]\n",
    "\n",
    "folder = '/home/alessio/Desktop/d-projectExplorer/positions'\n",
    "folder = '/home/alessio/k-nokick/IMPORTANTS/VISUALIZE_POINTS'\n",
    "qp.ensure_dir(folder)\n",
    "\n",
    "zero_vector = np.zeros((55,56,160))\n",
    "\n",
    "a = 0\n",
    "\n",
    "for x in list_of_positions:\n",
    "    new = np.zeros_like(zero_vector)\n",
    "    p, g, t, hms_p, hms_g, hms_t = x\n",
    "    new[p-hms_p:p+hms_p+1,g-hms_g:g+hms_g+1,t-hms_t:t+hms_t+1] = 1\n",
    "    dictio = {}\n",
    "    dictio['Position'] = new\n",
    "    dictio['lab'] = '({},{},{}) ({} {} {})'.format(p, g, t, hms_p, hms_g, hms_t)\n",
    "    filename = os.path.join(folder,'Position{:04}.h5'.format(a))\n",
    "    a+=1\n",
    "    qp.writeH5fileDict(filename, dictio)\n"
   ]
  },
  {
   "cell_type": "code",
   "execution_count": 36,
   "metadata": {},
   "outputs": [
    {
     "name": "stdout",
     "output_type": "stream",
     "text": [
      "0 -> zNorbornadiene_N006-500_P013-538_P088-436.rasscf.h5\n",
      "1 -> zNorbornadiene_N006-500_P015-385_P088-436.rasscf.h5\n",
      "2 -> zNorbornadiene_N005-500_P016-923_P097-374.rasscf.h5\n",
      "3 -> zNorbornadiene_N004-500_P016-923_P088-436.rasscf.h5\n",
      "4 -> zNorbornadiene_N006-000_P013-538_P088-436.rasscf.h5\n",
      "5 -> zNorbornadiene_N006-000_P015-385_P089-330.rasscf.h5\n",
      "6 -> zNorbornadiene_N002-000_P016-923_P092-458.rasscf.h5\n",
      "7 -> zNorbornadiene_N002-000_P016-308_P093-352.rasscf.h5\n",
      "8 -> zNorbornadiene_N003-500_P014-462_P088-436.rasscf.h5\n",
      "9 -> zNorbornadiene_N006-500_P014-462_P088-436.rasscf.h5\n",
      "10 -> zNorbornadiene_N006-500_P013-538_P081-732.rasscf.h5\n",
      "11 -> zNorbornadiene_N006-500_P015-692_P092-905.rasscf.h5\n",
      "12 -> zNorbornadiene_N002-000_P015-692_P092-905.rasscf.h5\n",
      "13 -> zNorbornadiene_N006-000_P016-615_P084-860.rasscf.h5\n",
      "14 -> zNorbornadiene_P000-000_P016-308_P113-017.rasscf.h5\n",
      "15 -> zNorbornadiene_N004-000_P015-692_P084-860.rasscf.h5\n",
      "16 -> zNorbornadiene_N001-000_P012-923_P097-374.rasscf.h5\n"
     ]
    }
   ],
   "source": [
    "def findfile(tup):\n",
    "    '''\n",
    "    from the non extrapolated cube to the calculations file names\n",
    "    '''\n",
    "    a,b,c,_,_,_ = tup\n",
    "    phisL = ['N007-000', 'N006-500', 'N006-000', 'N005-500', 'N005-000', 'N004-500', 'N004-000', 'N003-500', 'N003-000', 'N002-500', 'N002-000', 'N001-500', 'N001-000', 'N000-500', 'P000-000', 'P000-500',\n",
    "     'P001-000', 'P001-500', 'P002-000', 'P002-500', 'P003-000', 'P003-500', 'P004-000', 'P004-500', 'P005-000']\n",
    "    gamsL = ['P012-308','P012-615','P012-923','P013-231','P013-538','P013-846','P014-154','P014-462','P014-769','P015-077','P015-385','P015-692','P016-000','P016-308','P016-615','P016-923','P017-231','P017-538','P017-846','P018-154','P018-462','P018-769','P019-077','P019-385','P019-692','P020-000']\n",
    "    thesL = ['P124-190','P123-743','P123-296','P122-849','P122-402','P121-955','P121-508','P121-061','P120-615','P120-168','P119-721','P119-274','P118-827','P118-380','P117-933','P117-486','P117-039','P116-592','P116-145','P115-698','P115-251','P114-804','P114-358','P113-911','P113-464','P113-017','P112-570','P112-123','P111-676','P111-229','P110-782','P110-335','P109-888','P109-441','P108-994','P108-547','P108-101','P107-654','P107-207','P106-760','P106-313','P105-866','P105-419','P104-972','P104-525','P104-078','P103-631','P103-184','P102-737','P102-291','P101-844','P101-397','P100-950','P100-503','P100-056','P099-609','P099-162','P098-715','P098-268','P097-821','P097-374','P096-927','P096-480','P096-034','P095-587','P095-140','P094-693','P094-246','P093-799','P093-352','P092-905','P092-458','P092-011','P091-564','P091-117','P090-670','P090-223','P089-777','P089-330','P088-883','P088-436','P087-989','P087-542','P087-095','P086-648','P086-201','P085-754','P085-307','P084-860','P084-413','P083-966','P083-520','P083-073','P082-626','P082-179','P081-732','P081-285','P080-838','P080-391','P079-944']\n",
    "    file = 'zNorbornadiene_{}_{}_{}.rasscf.h5'.format(phisL[a-15], gamsL[b-15], thesL[c-30])\n",
    "    return(file)\n",
    "\n",
    "for i, filez in enumerate(list_of_positions):\n",
    "    name = findfile(filez)\n",
    "    print('{} -> {}'.format(i, name))"
   ]
  },
  {
   "cell_type": "markdown",
   "metadata": {},
   "source": [
    "|number  | state | new bond | old bond | description |\n",
    "| ---    |   --- |    ---   |  ---     | --- |\n",
    "| 13     | s1    | 5.441 | 3.500 | Where there is actual transfer along CI \n",
    "| 13     | s0    | 5.345 | 3.449 | \n",
    "| 12     | s1    | 4.540 | 3.456 | 90 fs center \n",
    "| 12     | s0    | 4.532 | 3.508 |  \n",
    "| 11     | s1    | 3.575 | 4.916 | BEFORE (low phi) \n",
    "| 11     | s0    | 3.519 | 4.860 | \n",
    "| 10     | s1    | 4.425 | 3.661 | AFTER (low phi) \n",
    "| 10     | s0    | 4.392 | 3.644 | \n"
   ]
  },
  {
   "cell_type": "code",
   "execution_count": 31,
   "metadata": {},
   "outputs": [],
   "source": [
    "def cut_out_wf(wf_name,tupleZ,outname):\n",
    "    wf = qp.retrieve_hdf5_data(wf_name,'WF')\n",
    "    time = qp.retrieve_hdf5_data(wf_name,'Time')\n",
    "    mask = np.zeros_like(wf)\n",
    "    p, g, t, hms_p, hms_g, hms_t = tupleZ\n",
    "    mask[p-hms_p:p+hms_p+1,g-hms_g:g+hms_g+1,t-hms_t:t+hms_t+1] = 1\n",
    "    new_wf2 = wf * mask\n",
    "    new_wf = new_wf2/(np.linalg.norm(new_wf2))\n",
    "    new_wf_file = {'Time': time, 'WF': new_wf}\n",
    "    qp.writeH5fileDict(outname,new_wf_file)\n",
    "\n",
    "\n",
    "# here I want to save IR NOR and IR INV into two different files\n",
    "wf_name = '/home/alessio/w-August-Run/m-IR-Polarized-NOR_0000/Gaussian0045.h5'\n",
    "outname = '/home/alessio/Desktop/d-projectExplorer/positions/Gaussian0000.h5'\n",
    "    \n",
    "#wf_name = '/home/alessio/w-August-Run/m-IR-Polarized-INV_0000/Gaussian0045.h5'\n",
    "#outname = '/home/alessio/Desktop/d-projectExplorer/positions/Gaussian0001.h5'\n",
    "tupleZ = (25,28,99, 4, 5, 14)\n",
    "\n",
    "\n",
    "cut_out_wf(wf_name, tupleZ, outname)"
   ]
  },
  {
   "cell_type": "code",
   "execution_count": null,
   "metadata": {},
   "outputs": [],
   "source": []
  },
  {
   "cell_type": "code",
   "execution_count": null,
   "metadata": {},
   "outputs": [],
   "source": []
  }
 ],
 "metadata": {
  "hide_input": false,
  "kernelspec": {
   "display_name": "Python 3",
   "language": "python",
   "name": "python3"
  },
  "language_info": {
   "codemirror_mode": {
    "name": "ipython",
    "version": 3
   },
   "file_extension": ".py",
   "mimetype": "text/x-python",
   "name": "python",
   "nbconvert_exporter": "python",
   "pygments_lexer": "ipython3",
   "version": "3.6.8"
  },
  "toc": {
   "base_numbering": 1,
   "nav_menu": {},
   "number_sections": true,
   "sideBar": true,
   "skip_h1_title": false,
   "title_cell": "Table of Contents",
   "title_sidebar": "Contents",
   "toc_cell": false,
   "toc_position": {},
   "toc_section_display": true,
   "toc_window_display": false
  }
 },
 "nbformat": 4,
 "nbformat_minor": 4
}
