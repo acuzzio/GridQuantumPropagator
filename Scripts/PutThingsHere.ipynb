{
 "cells": [
  {
   "cell_type": "code",
   "execution_count": 1,
   "metadata": {
    "ExecuteTime": {
     "end_time": "2019-06-10T11:02:29.738249Z",
     "start_time": "2019-06-10T11:02:29.721128Z"
    }
   },
   "outputs": [],
   "source": [
    "import os\n",
    "import matplotlib.pyplot as plt\n",
    "%matplotlib notebook\n",
    "# from mpl_toolkits.mplot3d import axes3d\n",
    "# from ipywidgets import interact, fixed\n",
    "# import ipywidgets as widgets\n",
    "# from tqdm import tqdm_notebook as tqdm\n",
    "\n",
    "# from ipywidgets import interactive, interact, HBox, Layout, VBox"
   ]
  },
  {
   "cell_type": "code",
   "execution_count": 9,
   "metadata": {
    "ExecuteTime": {
     "end_time": "2019-06-10T11:59:37.098521Z",
     "start_time": "2019-06-10T11:59:37.037577Z"
    }
   },
   "outputs": [],
   "source": [
    "list_of_positions = [(16,19,110, 0, 0, 0), # good, approaching high values of phi from high gamma\n",
    "                     (16,25,110, 0, 0, 0), # good, approaching high values of phi from low gamma\n",
    "                     (18,30, 90, 0, 0, 0), # another angle of attack\n",
    "                     (20,30,110, 0, 0, 0), # this is the area where the green seems to accumulate\n",
    "                     (17,19,110, 2, 2, 6), # initial cube\n",
    "                     (17,25,108, 2, 2, 6), # final cube\n",
    "                     (25,30,101, 0, 0, 0), # things go well\n",
    "                     (25,28,99, 4, 5, 14), # this is the wavefunction I want to cut out.\n",
    "                     (22,22,110, 7, 7, 20), # I want a cube that defines CI part\n",
    "                    ]\n",
    "\n",
    "folder = '/home/alessio/Desktop/d-projectExplorer/positions'\n",
    "qp.ensure_dir(folder)\n",
    "\n",
    "zero_vector = np.zeros((55,56,160))\n",
    "\n",
    "a = 0\n",
    "\n",
    "for x in list_of_positions:\n",
    "    new = np.zeros_like(zero_vector)\n",
    "    p, g, t, hms_p, hms_g, hms_t = x\n",
    "    new[p-hms_p:p+hms_p+1,g-hms_g:g+hms_g+1,t-hms_t:t+hms_t+1] = 1\n",
    "    dictio = {}\n",
    "    dictio['Position'] = new\n",
    "    dictio['label'] = '({},{},{}) ({} {} {})'.format(p, g, t, hms_p, hms_g, hms_t)\n",
    "    filename = os.path.join(folder,'Position{:04}.h5'.format(a))\n",
    "    a+=1\n",
    "    qp.writeH5fileDict(filename, dictio)\n"
   ]
  },
  {
   "cell_type": "code",
   "execution_count": 7,
   "metadata": {},
   "outputs": [],
   "source": [
    "def cut_out_wf(wf_name,tupleZ,outname):\n",
    "    wf = qp.retrieve_hdf5_data(wf_name,'WF')\n",
    "    time = qp.retrieve_hdf5_data(wf_name,'Time')\n",
    "    mask = np.zeros_like(wf)\n",
    "    p, g, t, hms_p, hms_g, hms_t = tupleZ\n",
    "    mask[p-hms_p:p+hms_p+1,g-hms_g:g+hms_g+1,t-hms_t:t+hms_t+1] = 1\n",
    "    new_wf2 = wf * mask\n",
    "    new_wf = new_wf2/(np.linalg.norm(new_wf2))\n",
    "    new_wf_file = {'Time': time, 'WF': new_wf}\n",
    "    qp.writeH5fileDict(outname,new_wf_file)\n",
    "\n",
    "\n",
    "# here I want to save IR NOR and IR INV into two different files\n",
    "wf_name = '/home/alessio/w-August-Run/m-IR-Polarized-NOR_0000/Gaussian0045.h5'\n",
    "outname = '/home/alessio/Desktop/d-projectExplorer/positions/Gaussian0000.h5'\n",
    "    \n",
    "#wf_name = '/home/alessio/w-August-Run/m-IR-Polarized-INV_0000/Gaussian0045.h5'\n",
    "#outname = '/home/alessio/Desktop/d-projectExplorer/positions/Gaussian0001.h5'\n",
    "tupleZ = (25,28,99, 4, 5, 14)\n",
    "\n",
    "\n",
    "cut_out_wf(wf_name, tupleZ, outname)"
   ]
  },
  {
   "cell_type": "code",
   "execution_count": null,
   "metadata": {},
   "outputs": [],
   "source": []
  },
  {
   "cell_type": "code",
   "execution_count": null,
   "metadata": {},
   "outputs": [],
   "source": []
  }
 ],
 "metadata": {
  "hide_input": false,
  "kernelspec": {
   "display_name": "Python 3",
   "language": "python",
   "name": "python3"
  },
  "language_info": {
   "codemirror_mode": {
    "name": "ipython",
    "version": 3
   },
   "file_extension": ".py",
   "mimetype": "text/x-python",
   "name": "python",
   "nbconvert_exporter": "python",
   "pygments_lexer": "ipython3",
   "version": "3.5.4"
  },
  "toc": {
   "base_numbering": 1,
   "nav_menu": {},
   "number_sections": true,
   "sideBar": true,
   "skip_h1_title": false,
   "title_cell": "Table of Contents",
   "title_sidebar": "Contents",
   "toc_cell": false,
   "toc_position": {},
   "toc_section_display": true,
   "toc_window_display": false
  }
 },
 "nbformat": 4,
 "nbformat_minor": 2
}
