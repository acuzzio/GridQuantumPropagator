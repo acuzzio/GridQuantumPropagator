{
 "cells": [
  {
   "cell_type": "code",
   "execution_count": 15,
   "metadata": {
    "ExecuteTime": {
     "end_time": "2019-06-10T11:02:29.738249Z",
     "start_time": "2019-06-10T11:02:29.721128Z"
    }
   },
   "outputs": [
    {
     "data": {
      "text/html": [
       "<style>.container { width:100% !important; }</style>"
      ],
      "text/plain": [
       "<IPython.core.display.HTML object>"
      ]
     },
     "metadata": {},
     "output_type": "display_data"
    }
   ],
   "source": [
    "from IPython.core.display import display, HTML\n",
    "display(HTML(\"<style>.container { width:100% !important; }</style>\"))\n",
    "import os\n",
    "# import matplotlib.pyplot as plt\n",
    "%matplotlib notebook\n",
    "# from mpl_toolkits.mplot3d import axes3d\n",
    "# from ipywidgets import interact, fixed\n",
    "# import ipywidgets as widgets\n",
    "# from tqdm import tqdm_notebook as tqdm\n",
    "\n",
    "# from ipywidgets import interactive, interact, HBox, Layout, VBox"
   ]
  },
  {
   "cell_type": "code",
   "execution_count": 30,
   "metadata": {
    "ExecuteTime": {
     "end_time": "2019-06-10T11:59:37.098521Z",
     "start_time": "2019-06-10T11:59:37.037577Z"
    }
   },
   "outputs": [],
   "source": [
    "list_of_positions = [(16,19,110), # good, approaching high values of phi from high gamma\n",
    "                     (16,25,110), # good, approaching high values of phi from low gamma\n",
    "                     (18,30, 90), # another angle of attack\n",
    "                     (20,30,110), # this is the area where the green seems to accumulate\n",
    "                     (21,22,110), # this is just a little above the CI.\n",
    "                     (29,28,55),  # this is just the FC point\n",
    "                     (33,28,55),  # little above in PHI\n",
    "                     (25,28,55),  # little below in PHI\n",
    "                    ]\n",
    "\n",
    "folder = '/home/alessio/Desktop/d-projectExplorer/positions'\n",
    "qp.ensure_dir(folder)\n",
    "\n",
    "zero_vector = np.zeros((55,56,160))\n",
    "\n",
    "a = 0\n",
    "\n",
    "for x in list_of_positions:\n",
    "    new = np.zeros_like(zero_vector)\n",
    "    new[x] = 1\n",
    "    dictio = {}\n",
    "    dictio['Position'] = new\n",
    "    dictio['label'] = 'Index {}'.format(x)\n",
    "    filename = os.path.join(folder,'Position{:04}.h5'.format(a))\n",
    "    a+=1\n",
    "    qp.writeH5fileDict(filename, dictio)\n"
   ]
  },
  {
   "cell_type": "code",
   "execution_count": null,
   "metadata": {
    "collapsed": true
   },
   "outputs": [],
   "source": []
  }
 ],
 "metadata": {
  "hide_input": false,
  "kernelspec": {
   "display_name": "Python 3",
   "language": "python",
   "name": "python3"
  },
  "language_info": {
   "codemirror_mode": {
    "name": "ipython",
    "version": 3
   },
   "file_extension": ".py",
   "mimetype": "text/x-python",
   "name": "python",
   "nbconvert_exporter": "python",
   "pygments_lexer": "ipython3",
   "version": "3.7.3"
  },
  "toc": {
   "base_numbering": 1,
   "nav_menu": {},
   "number_sections": true,
   "sideBar": true,
   "skip_h1_title": false,
   "title_cell": "Table of Contents",
   "title_sidebar": "Contents",
   "toc_cell": false,
   "toc_position": {},
   "toc_section_display": true,
   "toc_window_display": false
  }
 },
 "nbformat": 4,
 "nbformat_minor": 2
}
