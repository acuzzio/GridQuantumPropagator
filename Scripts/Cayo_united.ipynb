{
 "cells": [
  {
   "cell_type": "markdown",
   "metadata": {},
   "source": [
    "# 1D vectorization"
   ]
  },
  {
   "cell_type": "code",
   "execution_count": 1,
   "metadata": {
    "ExecuteTime": {
     "end_time": "2019-09-03T15:12:00.046202Z",
     "start_time": "2019-09-03T15:12:00.028286Z"
    }
   },
   "outputs": [],
   "source": [
    "import quantumpropagator as qp\n",
    "%load_ext Cython\n",
    "\n",
    "Vm = np.ones((7,2))\n",
    "Km = np.ones((7,9,3))*10e-8\n",
    "theL = 7\n",
    "nstates = 2\n",
    "xl = theL*nstates\n",
    "dthe = 0.003"
   ]
  },
  {
   "cell_type": "code",
   "execution_count": 48,
   "metadata": {
    "ExecuteTime": {
     "end_time": "2019-09-03T15:29:48.667853Z",
     "start_time": "2019-09-03T15:29:48.657578Z"
    }
   },
   "outputs": [],
   "source": [
    "%%cython\n",
    "\n",
    "import numpy as np\n",
    "cimport numpy as np\n",
    "\n",
    "def wrapper_Checkaddress1D_prime(Vm,Km,theL,nstates,dthe):\n",
    "    a,b,c,d,k = Checkaddress1D(Vm,Km,theL,nstates,dthe,100000)\n",
    "    return (k)\n",
    "\n",
    "def wrapper_Checkaddress1D(Vm,Km,theL,nstates,dthe, k):\n",
    "    a,b,c,d,k = Checkaddress1D(Vm,Km,theL,nstates,dthe, k)\n",
    "    return (np.asarray(a), np.asarray(b), np.asarray(c), np.asarray(d))\n",
    "\n",
    "def transform(t,s):\n",
    "    nstates = 2\n",
    "    if t < 0 or t > 7-1:\n",
    "        #print(t,s)\n",
    "        res = -1\n",
    "    else:\n",
    "        res = t*nstates+s\n",
    " \n",
    "    return res \n",
    "\n",
    "def quick_multiply(a,b,d,xl,x):\n",
    "    '''\n",
    "    a = values\n",
    "    b = columns\n",
    "    d = rows counting\n",
    "    i = rows\n",
    "    '''\n",
    "    I = -1j\n",
    "    mom = np.empty_like(x)\n",
    "    for i in range(xl):\n",
    "        for j in range(d[i],d[i+1]):\n",
    "            mom[i] = mom[i] + a[j] * x[b[j]]\n",
    "    return mom\n",
    "\n",
    "\n",
    "cdef Checkaddress1D(double [:,:] Vm, double [:,:,:] Km, int theL, int nstates, double dthe, int kL):\n",
    "    cdef:\n",
    "        int s, t, k, add1\n",
    "        double value1\n",
    "        double [:] values_big\n",
    "        int [:] i_big, j_big, d_big\n",
    "\n",
    "    values_big = np.zeros(kL) # real\n",
    "    i_big = np.zeros(kL, dtype=np.intc) #integers\n",
    "    j_big = np.zeros(kL, dtype=np.intc) #integers\n",
    "    d_big = np.zeros(theL*nstates+1, dtype=np.intc) #integers\n",
    "\n",
    "    k = 0\n",
    "    d_big[0] = k\n",
    "    for t in range(theL):\n",
    "        for s in range(nstates):\n",
    "            i_add = transform(t,s)\n",
    "            # derivatives in theta\n",
    "            # dG_dt   = ((1.0/12)*GRID[t-2,s]+(-2.0/3)*GRID[t-1,s]+(2.0/3)*GRID[t+1,s]+(-1.0/12)*GRID[t+2,s]) / dthe\n",
    "            # d2G_dt2 = (-GRID[t+2,s]+16*GRID[t+1,s]-30*GRID[t,s]+16*GRID[t-1,s]-GRID[t-2,s]) / (12 * dthe**2)\n",
    "\n",
    "            value1 = ((1.0/12) * Km[t,8,1] / dthe) + (-(1.0/12) * Km[t,8,2] / (dthe**2))\n",
    "            add1   = transform(t-2,s)\n",
    "            if add1 >= 0:\n",
    "                values_big[k] = value1\n",
    "                i_big[k] = i_add\n",
    "                j_big[k] = add1\n",
    "                k = k + 1 \n",
    "\n",
    "            value1 = (-2.0/3) * Km[t,8,1] / dthe + (+(16.0/12) * Km[t,8,2] / (dthe**2))\n",
    "            add1   = transform(t-1,s)\n",
    "            if add1 >= 0:\n",
    "                values_big[k] = value1\n",
    "                i_big[k] = i_add\n",
    "                j_big[k] = add1\n",
    "                k = k + 1 \n",
    "\n",
    "            value1 = (-(30.0/12) * Km[t,8,2] / (dthe**2)) + Vm[t,s]\n",
    "            add1   = transform(t,s)\n",
    "            if add1 >= 0:\n",
    "                values_big[k] = value1\n",
    "                i_big[k] = i_add\n",
    "                j_big[k] = add1\n",
    "                k = k + 1 \n",
    "\n",
    "            value1 = (2.0/3) * Km[t,8,1] / dthe + (+(16.0/12) * Km[t,8,2] / (dthe**2))\n",
    "            add1   = transform(t+1,s)\n",
    "            if add1 >= 0:\n",
    "                values_big[k] = value1\n",
    "                i_big[k] = i_add\n",
    "                j_big[k] = add1\n",
    "                k = k + 1 \n",
    "\n",
    "            value1 = (-(1.0/12) * Km[t,8,1] / dthe) + (-(1.0/12) * Km[t,8,2] / (dthe**2))\n",
    "            add1   = transform(t+2,s)\n",
    "            if add1 >= 0:\n",
    "                values_big[k] = value1\n",
    "                i_big[k] = i_add\n",
    "                j_big[k] = add1\n",
    "                k = k + 1\n",
    "\n",
    "#             Mtot = 0 \n",
    "#             Ntot = 0 \n",
    "\n",
    "#             for d in range(nstates): # state s is where the outer loop is, d is where the inner loop is.\n",
    "#                 for carte in range(3): # carte is 'cartesian', meaning 0,1,2 -> x,y,z\n",
    "#                     Mtot = Mtot - ((pulseV[carte] * Dm[t,carte,s,d] ) * GRID[t,d])\n",
    "\n",
    "#                 # NAC calculation\n",
    "#                 if   s < d:\n",
    "#                        dG_dt_oth = ((1.0/12)*GRID[t-2,d] + (-2.0/3)*GRID[t-1,d] + (2.0/3)*GRID[t+1,d] + (-1.0/12)*GRID[t+2,d])*Nm[t,s,d,2] / dthe\n",
    "#                 elif s > d:\n",
    "#                        dG_dt_oth = ((1.0/12)*GRID[t-2,d]*Nm[t-2,s,d,2] + (-2.0/3)*GRID[t-1,d]*Nm[t-1,s,d,2] + (2.0/3)*GRID[t+1,d]*Nm[t+1,s,d,2] + (-1.0/12)*GRID[t+2,d]*Nm[t+2,s,d,2]) / dthe\n",
    "#                 else:\n",
    "#                      dG_dt_oth = 0 \n",
    "\n",
    "#                 Ntot = Ntot - dG_dt_oth\n",
    "\n",
    "            \n",
    "            \n",
    "            d_big[i_add+1] = k\n",
    "            \n",
    "\n",
    "    return(values_big, i_big, j_big, d_big, k)\n"
   ]
  },
  {
   "cell_type": "code",
   "execution_count": 27,
   "metadata": {
    "ExecuteTime": {
     "end_time": "2019-09-03T15:29:52.118050Z",
     "start_time": "2019-09-03T15:29:52.109249Z"
    }
   },
   "outputs": [
    {
     "name": "stdout",
     "output_type": "stream",
     "text": [
      "58\n"
     ]
    }
   ],
   "source": [
    "k = wrapper_Checkaddress1D_prime(Vm,Km,theL,nstates,dthe)\n",
    "print(k)"
   ]
  },
  {
   "cell_type": "code",
   "execution_count": 28,
   "metadata": {
    "ExecuteTime": {
     "end_time": "2019-09-03T15:29:52.312064Z",
     "start_time": "2019-09-03T15:29:52.306923Z"
    }
   },
   "outputs": [],
   "source": [
    "a,b,c,d = wrapper_Checkaddress1D(Vm,Km,theL,nstates,dthe,k)"
   ]
  },
  {
   "cell_type": "code",
   "execution_count": 29,
   "metadata": {
    "ExecuteTime": {
     "end_time": "2019-09-03T15:29:52.536356Z",
     "start_time": "2019-09-03T15:29:52.529275Z"
    }
   },
   "outputs": [
    {
     "data": {
      "text/plain": [
       "((58,), (58,), (58,), (15,))"
      ]
     },
     "execution_count": 29,
     "metadata": {},
     "output_type": "execute_result"
    }
   ],
   "source": [
    "a.shape, b.shape, c.shape, d.shape"
   ]
  },
  {
   "cell_type": "code",
   "execution_count": 30,
   "metadata": {
    "ExecuteTime": {
     "end_time": "2019-09-03T15:29:52.828405Z",
     "start_time": "2019-09-03T15:29:52.818307Z"
    }
   },
   "outputs": [
    {
     "data": {
      "text/plain": [
       "(array([  9.72222222e-01,   1.48370370e-02,  -9.28703704e-04,\n",
       "          9.72222222e-01,   1.48370370e-02,  -9.28703704e-04,\n",
       "          1.47925926e-02,   9.72222222e-01,   1.48370370e-02,\n",
       "         -9.28703704e-04,   1.47925926e-02,   9.72222222e-01,\n",
       "          1.48370370e-02,  -9.28703704e-04,  -9.23148148e-04,\n",
       "          1.47925926e-02,   9.72222222e-01,   1.48370370e-02,\n",
       "         -9.28703704e-04,  -9.23148148e-04,   1.47925926e-02,\n",
       "          9.72222222e-01,   1.48370370e-02,  -9.28703704e-04,\n",
       "         -9.23148148e-04,   1.47925926e-02,   9.72222222e-01,\n",
       "          1.48370370e-02,  -9.28703704e-04,  -9.23148148e-04,\n",
       "          1.47925926e-02,   9.72222222e-01,   1.48370370e-02,\n",
       "         -9.28703704e-04,  -9.23148148e-04,   1.47925926e-02,\n",
       "          9.72222222e-01,   1.48370370e-02,  -9.28703704e-04,\n",
       "         -9.23148148e-04,   1.47925926e-02,   9.72222222e-01,\n",
       "          1.48370370e-02,  -9.28703704e-04,  -9.23148148e-04,\n",
       "          1.47925926e-02,   9.72222222e-01,   1.48370370e-02,\n",
       "         -9.23148148e-04,   1.47925926e-02,   9.72222222e-01,\n",
       "          1.48370370e-02,  -9.23148148e-04,   1.47925926e-02,\n",
       "          9.72222222e-01,  -9.23148148e-04,   1.47925926e-02,\n",
       "          9.72222222e-01]),\n",
       " array([ 0,  0,  0,  1,  1,  1,  2,  2,  2,  2,  3,  3,  3,  3,  4,  4,  4,\n",
       "         4,  4,  5,  5,  5,  5,  5,  6,  6,  6,  6,  6,  7,  7,  7,  7,  7,\n",
       "         8,  8,  8,  8,  8,  9,  9,  9,  9,  9, 10, 10, 10, 10, 11, 11, 11,\n",
       "        11, 12, 12, 12, 13, 13, 13], dtype=int32),\n",
       " array([ 0,  2,  4,  1,  3,  5,  0,  2,  4,  6,  1,  3,  5,  7,  0,  2,  4,\n",
       "         6,  8,  1,  3,  5,  7,  9,  2,  4,  6,  8, 10,  3,  5,  7,  9, 11,\n",
       "         4,  6,  8, 10, 12,  5,  7,  9, 11, 13,  6,  8, 10, 12,  7,  9, 11,\n",
       "        13,  8, 10, 12,  9, 11, 13], dtype=int32))"
      ]
     },
     "execution_count": 30,
     "metadata": {},
     "output_type": "execute_result"
    }
   ],
   "source": [
    "a,b,c"
   ]
  },
  {
   "cell_type": "code",
   "execution_count": 31,
   "metadata": {
    "ExecuteTime": {
     "end_time": "2019-09-03T15:29:53.365749Z",
     "start_time": "2019-09-03T15:29:53.361331Z"
    }
   },
   "outputs": [],
   "source": [
    "lol = np.zeros((14,14))"
   ]
  },
  {
   "cell_type": "code",
   "execution_count": 45,
   "metadata": {
    "ExecuteTime": {
     "end_time": "2019-09-03T15:29:53.860947Z",
     "start_time": "2019-09-03T15:29:53.856852Z"
    }
   },
   "outputs": [],
   "source": [
    "lol[b,c] = a"
   ]
  },
  {
   "cell_type": "code",
   "execution_count": 46,
   "metadata": {
    "ExecuteTime": {
     "end_time": "2019-09-03T15:29:54.511383Z",
     "start_time": "2019-09-03T15:29:54.491230Z"
    }
   },
   "outputs": [
    {
     "name": "stdout",
     "output_type": "stream",
     "text": [
      "          1         2         3         4         5         6         7   \\\n",
      "1   0.972222  0.000000  0.014837  0.000000 -0.000929  0.000000  0.000000   \n",
      "2   0.000000  0.972222  0.000000  0.014837  0.000000 -0.000929  0.000000   \n",
      "3   0.014793  0.000000  0.972222  0.000000  0.014837  0.000000 -0.000929   \n",
      "4   0.000000  0.014793  0.000000  0.972222  0.000000  0.014837  0.000000   \n",
      "5  -0.000923  0.000000  0.014793  0.000000  0.972222  0.000000  0.014837   \n",
      "6   0.000000 -0.000923  0.000000  0.014793  0.000000  0.972222  0.000000   \n",
      "7   0.000000  0.000000 -0.000923  0.000000  0.014793  0.000000  0.972222   \n",
      "8   0.000000  0.000000  0.000000 -0.000923  0.000000  0.014793  0.000000   \n",
      "9   0.000000  0.000000  0.000000  0.000000 -0.000923  0.000000  0.014793   \n",
      "10  0.000000  0.000000  0.000000  0.000000  0.000000 -0.000923  0.000000   \n",
      "11  0.000000  0.000000  0.000000  0.000000  0.000000  0.000000 -0.000923   \n",
      "12  0.000000  0.000000  0.000000  0.000000  0.000000  0.000000  0.000000   \n",
      "13  0.000000  0.000000  0.000000  0.000000  0.000000  0.000000  0.000000   \n",
      "14  0.000000  0.000000  0.000000  0.000000  0.000000  0.000000  0.000000   \n",
      "\n",
      "          8         9         10        11        12        13        14  \n",
      "1   0.000000  0.000000  0.000000  0.000000  0.000000  0.000000  0.000000  \n",
      "2   0.000000  0.000000  0.000000  0.000000  0.000000  0.000000  0.000000  \n",
      "3   0.000000  0.000000  0.000000  0.000000  0.000000  0.000000  0.000000  \n",
      "4  -0.000929  0.000000  0.000000  0.000000  0.000000  0.000000  0.000000  \n",
      "5   0.000000 -0.000929  0.000000  0.000000  0.000000  0.000000  0.000000  \n",
      "6   0.014837  0.000000 -0.000929  0.000000  0.000000  0.000000  0.000000  \n",
      "7   0.000000  0.014837  0.000000 -0.000929  0.000000  0.000000  0.000000  \n",
      "8   0.972222  0.000000  0.014837  0.000000 -0.000929  0.000000  0.000000  \n",
      "9   0.000000  0.972222  0.000000  0.014837  0.000000 -0.000929  0.000000  \n",
      "10  0.014793  0.000000  0.972222  0.000000  0.014837  0.000000 -0.000929  \n",
      "11  0.000000  0.014793  0.000000  0.972222  0.000000  0.014837  0.000000  \n",
      "12 -0.000923  0.000000  0.014793  0.000000  0.972222  0.000000  0.014837  \n",
      "13  0.000000 -0.000923  0.000000  0.014793  0.000000  0.972222  0.000000  \n",
      "14  0.000000  0.000000 -0.000923  0.000000  0.014793  0.000000  0.972222  \n"
     ]
    }
   ],
   "source": [
    "qp.printMatrix2D(lol)"
   ]
  },
  {
   "cell_type": "code",
   "execution_count": 34,
   "metadata": {
    "ExecuteTime": {
     "end_time": "2019-09-03T15:29:57.343309Z",
     "start_time": "2019-09-03T15:29:57.337448Z"
    }
   },
   "outputs": [
    {
     "data": {
      "text/plain": [
       "array([ 0,  3,  6, 10, 14, 19, 24, 29, 34, 39, 44, 48, 52, 55, 58], dtype=int32)"
      ]
     },
     "execution_count": 34,
     "metadata": {},
     "output_type": "execute_result"
    }
   ],
   "source": [
    "d"
   ]
  },
  {
   "cell_type": "code",
   "execution_count": 35,
   "metadata": {
    "ExecuteTime": {
     "end_time": "2019-09-03T15:31:12.433248Z",
     "start_time": "2019-09-03T15:31:12.428441Z"
    },
    "collapsed": true
   },
   "outputs": [],
   "source": [
    "x = np.ones(14, dtype=complex)\n",
    "xl = 14"
   ]
  },
  {
   "cell_type": "code",
   "execution_count": 40,
   "metadata": {
    "ExecuteTime": {
     "end_time": "2019-09-03T15:31:30.506484Z",
     "start_time": "2019-09-03T15:31:30.496217Z"
    }
   },
   "outputs": [
    {
     "name": "stdout",
     "output_type": "stream",
     "text": [
      "CPU times: user 339 µs, sys: 130 µs, total: 469 µs\n",
      "Wall time: 477 µs\n"
     ]
    },
    {
     "data": {
      "text/plain": [
       "array([  9.86130556e-001 +3.95252517e-323j,\n",
       "         9.86130556e-001 +1.97626258e-323j,\n",
       "         1.00092315e+000 +6.93151265e-310j,\n",
       "         1.00092315e+000 -2.10723071e-121j,\n",
       "         1.00000000e+000 +0.00000000e+000j,\n",
       "         8.16341772e+292 +0.00000000e+000j,\n",
       "         1.00000000e+000 -2.89903644e-311j,\n",
       "         1.00000000e+000 +0.00000000e+000j,\n",
       "        -2.78776631e+259 +0.00000000e+000j,\n",
       "         1.00000000e+000 -1.10340057e+221j,\n",
       "         1.00092870e+000 +0.00000000e+000j,\n",
       "         6.63084096e+040 +0.00000000e+000j,\n",
       "         9.86091667e-001 -2.20458621e+231j,\n",
       "         9.86091667e-001 +0.00000000e+000j])"
      ]
     },
     "execution_count": 40,
     "metadata": {},
     "output_type": "execute_result"
    }
   ],
   "source": [
    "%%time\n",
    "quick_multiply(a,b,d,xl,x)"
   ]
  },
  {
   "cell_type": "code",
   "execution_count": 42,
   "metadata": {},
   "outputs": [
    {
     "name": "stdout",
     "output_type": "stream",
     "text": [
      "CPU times: user 53 µs, sys: 20 µs, total: 73 µs\n",
      "Wall time: 80.6 µs\n"
     ]
    },
    {
     "data": {
      "text/plain": [
       "array([ 0.98613056+0.j,  0.98613056+0.j,  1.00092315+0.j,  1.00092315+0.j,\n",
       "        1.00000000+0.j,  1.00000000+0.j,  1.00000000+0.j,  1.00000000+0.j,\n",
       "        1.00000000+0.j,  1.00000000+0.j,  1.00092870+0.j,  1.00092870+0.j,\n",
       "        0.98609167+0.j,  0.98609167+0.j])"
      ]
     },
     "execution_count": 42,
     "metadata": {},
     "output_type": "execute_result"
    }
   ],
   "source": [
    "%%time\n",
    "lol@x"
   ]
  },
  {
   "cell_type": "code",
   "execution_count": null,
   "metadata": {},
   "outputs": [],
   "source": []
  }
 ],
 "metadata": {
  "hide_input": false,
  "kernelspec": {
   "display_name": "Python 3",
   "language": "python",
   "name": "python3"
  },
  "language_info": {
   "codemirror_mode": {
    "name": "ipython",
    "version": 3
   },
   "file_extension": ".py",
   "mimetype": "text/x-python",
   "name": "python",
   "nbconvert_exporter": "python",
   "pygments_lexer": "ipython3",
   "version": "3.5.4"
  },
  "toc": {
   "base_numbering": 1,
   "nav_menu": {},
   "number_sections": true,
   "sideBar": true,
   "skip_h1_title": false,
   "title_cell": "Table of Contents",
   "title_sidebar": "Contents",
   "toc_cell": false,
   "toc_position": {},
   "toc_section_display": true,
   "toc_window_display": false
  }
 },
 "nbformat": 4,
 "nbformat_minor": 2
}
