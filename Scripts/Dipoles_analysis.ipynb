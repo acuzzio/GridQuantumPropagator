{
 "cells": [
  {
   "cell_type": "code",
   "execution_count": 5,
   "metadata": {},
   "outputs": [],
   "source": [
    "import quantumpropagator as qp\n",
    "import matplotlib.pyplot as plt\n",
    "import matplotlib\n",
    "from ipywidgets import interact,fixed #, interactive, fixed, interact_manual\n",
    "import ipywidgets as widgets\n",
    "\n",
    "import os\n",
    "import sys\n",
    "import glob\n",
    "import pandas as pd\n",
    "import numpy as np\n",
    "\n",
    "from scipy import fftpack\n",
    "\n",
    "%matplotlib ipympl\n",
    "\n",
    "#plt.rcParams.update({'font.size': 10})"
   ]
  },
  {
   "cell_type": "code",
   "execution_count": 6,
   "metadata": {},
   "outputs": [
    {
     "name": "stdout",
     "output_type": "stream",
     "text": [
      "0 -> b-UV-0.22_0000\n",
      "1 -> m-IR-Polarized-INV_0000\n",
      "2 -> m-IR-Polarized-LON_0000\n",
      "3 -> m-IR-Polarized-NOR_0000\n",
      "4 -> position-from1_0000\n",
      "5 -> position-from2_0000\n",
      "6 -> position-from3_0000\n",
      "7 -> position-from4_0000\n",
      "8 -> position-from5_0000\n",
      "9 -> t-FC_excited_phi_0000\n",
      "10 -> t-IR-to-excite-phi_0000\n",
      "11 -> t-UV-0.22_excited_phi_0001\n",
      "12 -> z-from1_0000\n",
      "\n"
     ]
    }
   ],
   "source": [
    "fol = '/home/alessio/w-August-Run/'\n",
    "outputFolder = '/home/alessio/w-August-Run/OUTPUTS'\n",
    "subfolders2 = sorted([dir for dir in os.listdir(fol) if os.path.isdir(os.path.join(fol,dir))])\n",
    "subfolders =  [ dir for dir in subfolders2 if dir not in ['HTML','csv','OUTPUTS'] ]\n",
    "print(''.join(['{} -> {}\\n'.format(a,b) for a,b in enumerate(subfolders)]))"
   ]
  },
  {
   "cell_type": "code",
   "execution_count": 153,
   "metadata": {},
   "outputs": [
    {
     "name": "stderr",
     "output_type": "stream",
     "text": [
      "/home/alessio/config/miniconda/envs/quantumpropagator/lib/python3.5/site-packages/matplotlib/pyplot.py:523: RuntimeWarning: More than 20 figures have been opened. Figures created through the pyplot interface (`matplotlib.pyplot.figure`) are retained until explicitly closed and may consume too much memory. (To control this warning, see the rcParam `figure.max_open_warning`).\n",
      "  max_open_warning, RuntimeWarning)\n"
     ]
    },
    {
     "data": {
      "application/vnd.jupyter.widget-view+json": {
       "model_id": "690630d2bdfa45d7924b5127765014c4",
       "version_major": 2,
       "version_minor": 0
      },
      "text/plain": [
       "A Jupyter Widget"
      ]
     },
     "metadata": {},
     "output_type": "display_data"
    },
    {
     "name": "stdout",
     "output_type": "stream",
     "text": [
      "2.06706851173\n"
     ]
    }
   ],
   "source": [
    "def process_folder(this_folder,fol,outputFolder):\n",
    "    project_folder = os.path.join(fol,this_folder)\n",
    "    output_dipo = os.path.join(project_folder, 'Output_Dipole')\n",
    "    df_dipo2 = pd.read_csv(output_dipo, delim_whitespace=True, names=['fs_2','dipX','dipY','dipZ'])\n",
    "    \n",
    "    fig, [ax0,ax1] = plt.subplots(2,1,figsize = (16,8))\n",
    "    \n",
    "    time = qp.fromFsToAu(df_dipo2['fs_2'])\n",
    "    \n",
    "    ax0.plot(time,df_dipo2['dipX'])\n",
    "    ax0.plot(time,df_dipo2['dipY'])\n",
    "    ax0.plot(time,df_dipo2['dipZ'])\n",
    "    \n",
    "    dt = time[1]-time[0]\n",
    "    print(dt)\n",
    "    t = time\n",
    "    x = df_dipo2['dipX']\n",
    "    a = np.fft.fftfreq(len(x),dt)\n",
    "    # b = qp.abs2(np.fft.fft(x))\n",
    "    b = np.abs(np.fft.fft(x))\n",
    "\n",
    "    indexes = np.where( a >= 0 )\n",
    "    ax1.plot(a[indexes], b[indexes])\n",
    "    \n",
    "    degub_fodler = '/home/alessio/Desktop/'\n",
    "\n",
    "    np.savetxt(os.path.join(degub_fodler,'file1'),a)\n",
    "    np.savetxt(os.path.join(degub_fodler,'file2'),b)\n",
    "    \n",
    "    fig.tight_layout()\n",
    "    return(t, x, a, b)\n",
    "    \n",
    "t, x, a, b = process_folder(subfolders[0],fol,outputFolder)"
   ]
  },
  {
   "cell_type": "code",
   "execution_count": 154,
   "metadata": {},
   "outputs": [],
   "source": [
    "def double_this(n):\n",
    "    return np.concatenate((np.flip(n, axis=0), n[1:]))\n",
    "\n",
    "def double_time(v):\n",
    "    return np.concatenate((np.flip(-v, axis=0), v[1:]))"
   ]
  },
  {
   "cell_type": "code",
   "execution_count": 155,
   "metadata": {},
   "outputs": [
    {
     "data": {
      "text/plain": [
       "((4001,), (4001,))"
      ]
     },
     "execution_count": 155,
     "metadata": {},
     "output_type": "execute_result"
    }
   ],
   "source": [
    "t.shape, x.shape"
   ]
  },
  {
   "cell_type": "code",
   "execution_count": 156,
   "metadata": {},
   "outputs": [
    {
     "name": "stderr",
     "output_type": "stream",
     "text": [
      "/home/alessio/config/miniconda/envs/quantumpropagator/lib/python3.5/site-packages/matplotlib/pyplot.py:523: RuntimeWarning: More than 20 figures have been opened. Figures created through the pyplot interface (`matplotlib.pyplot.figure`) are retained until explicitly closed and may consume too much memory. (To control this warning, see the rcParam `figure.max_open_warning`).\n",
      "  max_open_warning, RuntimeWarning)\n"
     ]
    },
    {
     "data": {
      "application/vnd.jupyter.widget-view+json": {
       "model_id": "92be72553b824eb1b9f54c5234709af2",
       "version_major": 2,
       "version_minor": 0
      },
      "text/plain": [
       "A Jupyter Widget"
      ]
     },
     "metadata": {},
     "output_type": "display_data"
    }
   ],
   "source": [
    "xx = double_this(x)\n",
    "tt = double_time(t)\n",
    "\n",
    "zero_at = np.amax(tt)\n",
    "\n",
    "omega = np.pi/(2*zero_at)\n",
    "cos_x = np.cos(omega*tt)*xx\n",
    "\n",
    "fig, ax0 = plt.subplots(1,1,figsize = (16,8))\n",
    "\n",
    "ax0.plot(tt,xx)\n",
    "ax0.plot(tt,np.cos(omega*tt))\n",
    "ax0.plot(tt,cos_x)\n",
    "\n",
    "fig.tight_layout()"
   ]
  },
  {
   "cell_type": "code",
   "execution_count": 160,
   "metadata": {},
   "outputs": [],
   "source": [
    "dt = t[1]-t[0]\n",
    "aaaa = np.fft.fftfreq(len(x),dt)\n",
    "bbbb = np.fft.fft(x)\n",
    "aaa = np.fft.fftfreq(len(cos_x),dt)\n",
    "bbb = np.fft.fft(cos_x)"
   ]
  },
  {
   "cell_type": "code",
   "execution_count": 162,
   "metadata": {},
   "outputs": [
    {
     "name": "stderr",
     "output_type": "stream",
     "text": [
      "/home/alessio/config/miniconda/envs/quantumpropagator/lib/python3.5/site-packages/matplotlib/pyplot.py:523: RuntimeWarning: More than 20 figures have been opened. Figures created through the pyplot interface (`matplotlib.pyplot.figure`) are retained until explicitly closed and may consume too much memory. (To control this warning, see the rcParam `figure.max_open_warning`).\n",
      "  max_open_warning, RuntimeWarning)\n"
     ]
    },
    {
     "data": {
      "application/vnd.jupyter.widget-view+json": {
       "model_id": "85237aa661da499a99e617897eb959c6",
       "version_major": 2,
       "version_minor": 0
      },
      "text/plain": [
       "A Jupyter Widget"
      ]
     },
     "metadata": {},
     "output_type": "display_data"
    }
   ],
   "source": [
    "fig, ax0 = plt.subplots(1,1,figsize = (16,8))\n",
    "\n",
    "indexes = np.where(aaa>=0)\n",
    "indexes2 = np.where(aaaa>=0)\n",
    "\n",
    "ax0.plot(aaa[indexes],abs(bbb[indexes]))\n",
    "ax0.plot(aaaa[indexes2],abs(bbbb[indexes2]))\n",
    "ax0.set_xlim(0,0.05)\n",
    "\n",
    "fig.tight_layout()"
   ]
  },
  {
   "cell_type": "code",
   "execution_count": null,
   "metadata": {},
   "outputs": [],
   "source": []
  }
 ],
 "metadata": {
  "kernelspec": {
   "display_name": "Python 3",
   "language": "python",
   "name": "python3"
  },
  "language_info": {
   "codemirror_mode": {
    "name": "ipython",
    "version": 3
   },
   "file_extension": ".py",
   "mimetype": "text/x-python",
   "name": "python",
   "nbconvert_exporter": "python",
   "pygments_lexer": "ipython3",
   "version": "3.5.4"
  }
 },
 "nbformat": 4,
 "nbformat_minor": 2
}
