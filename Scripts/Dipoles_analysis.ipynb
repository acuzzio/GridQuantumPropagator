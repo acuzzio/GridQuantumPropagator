{
 "cells": [
  {
   "cell_type": "code",
   "execution_count": 1,
   "metadata": {},
   "outputs": [],
   "source": [
    "import quantumpropagator as qp\n",
    "import matplotlib.pyplot as plt\n",
    "import matplotlib\n",
    "from ipywidgets import interact,fixed #, interactive, fixed, interact_manual\n",
    "import ipywidgets as widgets\n",
    "\n",
    "import os\n",
    "import sys\n",
    "import glob\n",
    "import pandas as pd\n",
    "import numpy as np\n",
    "\n",
    "from scipy import fftpack\n",
    "%load_ext Cython\n",
    "%matplotlib ipympl\n",
    "\n",
    "#plt.rcParams.update({'font.size': 10})"
   ]
  },
  {
   "cell_type": "code",
   "execution_count": 2,
   "metadata": {},
   "outputs": [
    {
     "name": "stdout",
     "output_type": "stream",
     "text": [
      "0 -> b-UV-0.22_0000\n",
      "1 -> m-IR-Polarized-INV_0000\n",
      "2 -> m-IR-Polarized-LON_0000\n",
      "3 -> m-IR-Polarized-NOR_0000\n",
      "4 -> o-UV-Pump-Probe-0000_0000\n",
      "5 -> o-UV-Pump-Probe-0001_0000\n",
      "6 -> o-UV-Pump-Probe-0002_0000\n",
      "7 -> o-UV-Pump-Probe-0003_0000\n",
      "8 -> o-UV-Pump-Probe-0004_0000\n",
      "9 -> o-UV-Pump-Probe-0005_0000\n",
      "10 -> o-UV-Pump-Probe-0006_0000\n",
      "11 -> o-UV-Pump-Probe-0007_0000\n",
      "12 -> o-UV-Pump-Probe-0008_0000\n",
      "13 -> o-UV-Pump-Probe-0009_0000\n",
      "14 -> o-UV-Pump-Probe-0010_0000\n",
      "15 -> o-UV-Pump-Probe-0011_0000\n",
      "16 -> o-UV-Pump-Probe-0012_0000\n",
      "17 -> o-UV-Pump-Probe-0013_0000\n",
      "18 -> o-UV-Pump-Probe-0014_0000\n",
      "19 -> o-UV-Pump-Probe-0015_0000\n",
      "20 -> o-UV-Pump-Probe-0016_0000\n",
      "21 -> o-UV-Pump-Probe-0017_0000\n",
      "22 -> o-UV-Pump-Probe-0018_0000\n",
      "23 -> o-UV-Pump-Probe-0019_0000\n",
      "24 -> o-UV-Pump-Probe-0020_0000\n",
      "25 -> o-UV-Pump-Probe-0021_0000\n",
      "26 -> position-from1_0000\n",
      "27 -> position-from2_0000\n",
      "28 -> position-from3_0000\n",
      "29 -> position-from4_0000\n",
      "30 -> position-from5_0000\n",
      "31 -> position-from6_0000\n",
      "32 -> t-FC_excited_phi_0000\n",
      "33 -> t-IR-to-excite-phi_0000\n",
      "34 -> t-UV-0.22_excited_phi_0001\n",
      "35 -> u-target-2-3-only_0000\n",
      "36 -> u-target-2-3-only_mask_0000\n",
      "37 -> w-SubMask_from_IR_time_reversed-NOABS_0000\n",
      "38 -> w-SubMask_from_IR_time_reversed_0000\n",
      "39 -> w-SubMask_from_position3.time_reversed-NOABS_0000\n",
      "40 -> w-SubMask_from_position3.time_reversed_0000\n",
      "41 -> x-SubMask_from_IR_0000\n",
      "42 -> x-SubMask_from_IR_INV_0000\n",
      "43 -> y-probe-UV_0000\n",
      "44 -> z-from1_0000\n",
      "\n"
     ]
    }
   ],
   "source": [
    "%matplotlib ipympl\n",
    "fol = '/home/alessio/w-August-Run/'\n",
    "outputFolder = '/home/alessio/w-August-Run/OUTPUTS'\n",
    "subfolders2 = sorted([dir for dir in os.listdir(fol) if os.path.isdir(os.path.join(fol,dir))])\n",
    "subfolders =  [ dir for dir in subfolders2 if dir not in ['HTML','csv','OUTPUTS','FRANCOISE','.ipynb_checkpoints'] ]\n",
    "print(''.join(['{} -> {}\\n'.format(a,b) for a,b in enumerate(subfolders)]))"
   ]
  },
  {
   "cell_type": "code",
   "execution_count": 4,
   "metadata": {},
   "outputs": [],
   "source": [
    "%%cython \n",
    "#-a\n",
    "import numpy as np\n",
    "import quantumpropagator as qp\n",
    "from cmath import exp,pi\n",
    "\n",
    "cdef extern from \"complex.h\":\n",
    "        double complex cexp(double complex)\n",
    "\n",
    "# from libc.math cimport exp\n",
    "\n",
    "# cdef extern from \"<complex.h>\" namespace \"std\":\n",
    "#     double complex exp(double complex z)\n",
    "#     float complex exp(float complex z)  # overload\n",
    "\n",
    "def fft_artisanal2(x):\n",
    "    N = len(x)\n",
    "    if N <= 1: return x\n",
    "    even = fft_artisanal(x[0::2])\n",
    "    odd =  fft_artisanal(x[1::2])\n",
    "    T = [ exp(-2j*pi*k/N)*odd[k] for k in range(N//2) ]\n",
    "    return [even[k] + T[k] for k in range(N//2)] + [even[k] - T[k] for k in range(N//2)]\n",
    "\n",
    "def fft_artisanal(time,signal):\n",
    "    dt = time[1] - time[0]\n",
    "    nstep = time.size\n",
    "    all_time = nstep * dt\n",
    "    sx = -np.pi/dt\n",
    "    dx = np.pi/dt\n",
    "    dw = (2 * np.pi)/all_time\n",
    "    freq = np.arange(0,dx,dw)\n",
    "    freq_size = freq.size\n",
    "    fft_array, freq = fft_c(time, signal, freq, dt, freq_size, nstep)\n",
    "    return (fft_array, np.array(freq))\n",
    "\n",
    "cdef fft_c(double [:] time, double [:] signal, double [:] freq, int dt, int freq_size, int nstep):\n",
    "    cdef:\n",
    "        int k,j\n",
    "        double complex I = -1j\n",
    "        \n",
    "    fft_array = np.zeros(freq_size, dtype=complex)\n",
    "    \n",
    "    for k in range(freq_size):\n",
    "        for j in range(nstep):\n",
    "\n",
    "            fft_array[k] = fft_array[k] + cexp(I * freq[k] * time[j]) * signal[j]\n",
    "\n",
    "    return(fft_array, freq)"
   ]
  },
  {
   "cell_type": "code",
   "execution_count": 5,
   "metadata": {},
   "outputs": [
    {
     "name": "stdout",
     "output_type": "stream",
     "text": [
      "['perm_x_0', 'perm_x_1', 'perm_x_2', 'perm_x_3', 'perm_x_4', 'perm_x_5', 'perm_x_6', 'perm_x_7', 'perm_y_0', 'perm_y_1', 'perm_y_2', 'perm_y_3', 'perm_y_4', 'perm_y_5', 'perm_y_6', 'perm_y_7', 'perm_z_0', 'perm_z_1', 'perm_z_2', 'perm_z_3', 'perm_z_4', 'perm_z_5', 'perm_z_6', 'perm_z_7', 'trans_x_0_1', 'trans_x_0_2', 'trans_x_0_3', 'trans_x_0_4', 'trans_x_0_5', 'trans_x_0_6', 'trans_x_0_7', 'trans_x_1_2', 'trans_x_1_3', 'trans_x_1_4', 'trans_x_1_5', 'trans_x_1_6', 'trans_x_1_7', 'trans_x_2_3', 'trans_x_2_4', 'trans_x_2_5', 'trans_x_2_6', 'trans_x_2_7', 'trans_x_3_4', 'trans_x_3_5', 'trans_x_3_6', 'trans_x_3_7', 'trans_x_4_5', 'trans_x_4_6', 'trans_x_4_7', 'trans_x_5_6', 'trans_x_5_7', 'trans_x_6_7', 'trans_y_0_1', 'trans_y_0_2', 'trans_y_0_3', 'trans_y_0_4', 'trans_y_0_5', 'trans_y_0_6', 'trans_y_0_7', 'trans_y_1_2', 'trans_y_1_3', 'trans_y_1_4', 'trans_y_1_5', 'trans_y_1_6', 'trans_y_1_7', 'trans_y_2_3', 'trans_y_2_4', 'trans_y_2_5', 'trans_y_2_6', 'trans_y_2_7', 'trans_y_3_4', 'trans_y_3_5', 'trans_y_3_6', 'trans_y_3_7', 'trans_y_4_5', 'trans_y_4_6', 'trans_y_4_7', 'trans_y_5_6', 'trans_y_5_7', 'trans_y_6_7', 'trans_z_0_1', 'trans_z_0_2', 'trans_z_0_3', 'trans_z_0_4', 'trans_z_0_5', 'trans_z_0_6', 'trans_z_0_7', 'trans_z_1_2', 'trans_z_1_3', 'trans_z_1_4', 'trans_z_1_5', 'trans_z_1_6', 'trans_z_1_7', 'trans_z_2_3', 'trans_z_2_4', 'trans_z_2_5', 'trans_z_2_6', 'trans_z_2_7', 'trans_z_3_4', 'trans_z_3_5', 'trans_z_3_6', 'trans_z_3_7', 'trans_z_4_5', 'trans_z_4_6', 'trans_z_4_7', 'trans_z_5_6', 'trans_z_5_7', 'trans_z_6_7']\n"
     ]
    }
   ],
   "source": [
    "# define all labels\n",
    "nstates = 8\n",
    "permanents = []\n",
    "transitions = []\n",
    "\n",
    "for lab1 in ['x','y','z']:\n",
    "    for lab2 in range(nstates):\n",
    "        permanents.append('perm_{}_{}'.format(lab1,lab2))\n",
    "        for lab3 in range(lab2+1,nstates):\n",
    "            transitions.append('trans_{}_{}_{}'.format(lab1,lab2,lab3))\n",
    "            \n",
    "\n",
    "print(permanents + transitions)"
   ]
  },
  {
   "cell_type": "code",
   "execution_count": 6,
   "metadata": {},
   "outputs": [
    {
     "data": {
      "application/vnd.jupyter.widget-view+json": {
       "model_id": "7a536d12c2454757b8ba5a6dffe396be",
       "version_major": 2,
       "version_minor": 0
      },
      "text/plain": [
       "Canvas(toolbar=Toolbar(toolitems=[('Home', 'Reset original view', 'home', 'home'), ('Back', 'Back to previous …"
      ]
     },
     "metadata": {},
     "output_type": "display_data"
    },
    {
     "name": "stdout",
     "output_type": "stream",
     "text": [
      "['trans_x_0_1', 'trans_x_0_4', 'trans_x_1_2', 'trans_x_1_3', 'trans_x_1_4', 'trans_x_2_3', 'trans_x_2_4', 'trans_x_2_5']\n"
     ]
    },
    {
     "data": {
      "application/vnd.jupyter.widget-view+json": {
       "model_id": "4e90f534762d41cebf48ead89e4ad90e",
       "version_major": 2,
       "version_minor": 0
      },
      "text/plain": [
       "Canvas(toolbar=Toolbar(toolitems=[('Home', 'Reset original view', 'home', 'home'), ('Back', 'Back to previous …"
      ]
     },
     "metadata": {},
     "output_type": "display_data"
    },
    {
     "name": "stdout",
     "output_type": "stream",
     "text": [
      "['trans_y_0_1', 'trans_y_1_2', 'trans_y_1_3', 'trans_y_2_3', 'trans_y_2_4', 'trans_y_6_7']\n"
     ]
    },
    {
     "data": {
      "application/vnd.jupyter.widget-view+json": {
       "model_id": "67eb517ef9ed464fb5b1a34c0735a181",
       "version_major": 2,
       "version_minor": 0
      },
      "text/plain": [
       "Canvas(toolbar=Toolbar(toolitems=[('Home', 'Reset original view', 'home', 'home'), ('Back', 'Back to previous …"
      ]
     },
     "metadata": {},
     "output_type": "display_data"
    },
    {
     "name": "stdout",
     "output_type": "stream",
     "text": [
      "['perm_z_0', 'perm_z_1', 'perm_z_2', 'perm_z_3', 'trans_z_0_1', 'trans_z_0_2']\n"
     ]
    }
   ],
   "source": [
    "plt.close('all')\n",
    "\n",
    "def reorder_dataframe_last_first(df):\n",
    "    '''used to reorder dataframe'''\n",
    "    cols = df.columns.tolist()\n",
    "    cols = cols[-1:] + cols[:-1]\n",
    "    return df[cols]\n",
    "\n",
    "def process_folder(this_folder,fol,outputFolder):\n",
    "    project_folder = os.path.join(fol,this_folder)\n",
    "    #for mask_or_not in ['','_CI_Mask']:\n",
    "    for mask_or_not in ['']:\n",
    "        subname = 'Output_Dipole{}'.format(mask_or_not)\n",
    "        output_dipo = os.path.join(project_folder, subname)\n",
    "        all_labels = ['fs_2','dipx','dipy','dipz'] +  permanents + transitions\n",
    "        df_dipo2 = pd.read_csv(output_dipo, delim_whitespace=True, names=all_labels)\n",
    "\n",
    "        fran_df_dipole = pd.DataFrame()\n",
    "        fran_df_freq = pd.DataFrame()\n",
    "\n",
    "        for cart in ['x','y','z']:\n",
    "            full_list_label = permanents + transitions\n",
    "            full_list_this_cart = [x for x in full_list_label if cart in x]\n",
    "\n",
    "            # setting figure\n",
    "            fig, [ax0,ax1,ax2] = plt.subplots(3,1,figsize = (12,8))\n",
    "\n",
    "            # first panel is just total signal\n",
    "            timefs = df_dipo2['fs_2']\n",
    "            time = qp.fromFsToAu(timefs)\n",
    "            this_full_dipole = 'dip{}'.format(cart)\n",
    "            tot_signal = df_dipo2[this_full_dipole]\n",
    "            ax0.plot(timefs,tot_signal)\n",
    "            \n",
    "            dt = time[1]-time[0]\n",
    "            t = time\n",
    "            x = df_dipo2[this_full_dipole]\n",
    "\n",
    "            fft_array, freq = fft_artisanal(np.array(t),np.array(x))\n",
    "            \n",
    "            # I record the full dft for signal in x,y or z\n",
    "            fran_df_freq['DFT-{}{}'.format(this_full_dipole,mask_or_not)] = np.abs(fft_array)\n",
    "\n",
    "            #second panel is big components\n",
    "            threshold = np.linalg.norm(tot_signal)*0.05 # 5% of the norm\n",
    "            big_components = [ x for x in full_list_this_cart if np.linalg.norm(df_dipo2[x]) > threshold or x in ['trans_x_0_1', 'trans_y_0_1', 'trans_z_0_1'] ] # the one which contributes more than 5% to the norm\n",
    "            print(big_components)\n",
    "\n",
    "            fran_df_dipole[this_full_dipole] = df_dipo2[this_full_dipole]\n",
    "\n",
    "            for this_lab in big_components:\n",
    "                ax1.plot(timefs, df_dipo2[this_lab], label=this_lab)\n",
    "\n",
    "\n",
    "\n",
    "        # THIS PART FOR DFT\n",
    "                dt = time[1]-time[0]\n",
    "\n",
    "                t = time\n",
    "                x = df_dipo2[this_lab]\n",
    "\n",
    "                fft_array, freq = fft_artisanal(np.array(t),np.array(x))\n",
    "#                 freq, fft_array  = pythonfft(np.array(t),np.array(x))\n",
    "    #             print(fft_array.shape, freq.shape)\n",
    "\n",
    "                ev_freq = qp.fromHartoEv(freq)\n",
    "                abs_fft_array = np.abs(fft_array)\n",
    "                ax2.plot(ev_freq, abs_fft_array, label=this_lab)\n",
    "\n",
    "                # add the things into Francoise df\n",
    "    #             print(df_dipo2[this_lab].shape,fft_array.shape)\n",
    "                fran_df_dipole['{}{}'.format(this_lab,mask_or_not)] = df_dipo2[this_lab]\n",
    "                fran_df_freq['DFT-{}{}'.format(this_lab,mask_or_not)] = abs_fft_array\n",
    "\n",
    "\n",
    "\n",
    "        # #  THOSE LINES TO DEBUG WITH GNUPLOT\n",
    "        # #     degub_fodler = '/home/alessio/Desktop/'\n",
    "\n",
    "        # #     np.savetxt(os.path.join(degub_fodler,'file1'),a)\n",
    "        # #     np.savetxt(os.path.join(degub_fodler,'file2'),b)\n",
    "\n",
    "\n",
    "            ax1.legend(ncol=5)\n",
    "            ax1.set_xlabel('fs')\n",
    "            ax2.legend(ncol=5)\n",
    "            ax2.set_xlabel('eV')\n",
    "            ax0.set_title('{} - Dipole{} {}'.format(this_folder,mask_or_not,cart))\n",
    "            fig.tight_layout()\n",
    "\n",
    "        # this needs to be ONCE in the df of Francoise\n",
    "        fran_df_dipole['time fs'] = timefs\n",
    "        fran_df_freq['DFT-Frequencies eV'] = ev_freq\n",
    "        fran_df_dipole = reorder_dataframe_last_first(fran_df_dipole)\n",
    "        fran_df_freq = reorder_dataframe_last_first(fran_df_freq)\n",
    "\n",
    "        fran_df_dipole.to_csv(os.path.join(outputFolder,'{}_dipoles{}.csv'.format(this_folder,mask_or_not)))\n",
    "        fran_df_freq.to_csv(os.path.join(outputFolder,'{}_dipoles_DFT{}.csv'.format(this_folder,mask_or_not)))\n",
    "\n",
    "    \n",
    "process_folder(subfolders[35],fol,outputFolder)    \n",
    "# process_folder(subfolders[1],fol,outputFolder)\n",
    "# process_folder(subfolders[2],fol,outputFolder)\n",
    "# process_folder(subfolders[3],fol,outputFolder)\n",
    "# process_folder(subfolders[20],fol,outputFolder)\n",
    "# process_folder(subfolders[33],fol,outputFolder)"
   ]
  },
  {
   "cell_type": "markdown",
   "metadata": {},
   "source": [
    "# Try to clean signal part"
   ]
  },
  {
   "cell_type": "code",
   "execution_count": null,
   "metadata": {},
   "outputs": [],
   "source": [
    "# def adjust_signal(sig,ext):\n",
    "#     sig_size = sig.size\n",
    "#     array_value = np.zeros(ext)\n",
    "#     sig_array = np.array(dipz)\n",
    "#     flipped = np.flip(sig_array,axis=0)\n",
    "    \n",
    "#     output_signal = np.concatenate((array_value,flipped,sig_array,array_value))\n",
    "#     return(output_signal)\n",
    "\n",
    "# def adjust_time(time,full_length):\n",
    "#     time_size = time.size\n",
    "#     time_final_value = time[time_size-1]\n",
    "#     total_time = np.linspace(-time_final_value,time_final_value,full_length)\n",
    "#     return(total_time)\n",
    "    \n",
    "\n",
    "\n",
    "# sig_ext = adjust_signal(dipz,1000)\n",
    "# time_ext = adjust_time(time,10002)"
   ]
  },
  {
   "cell_type": "code",
   "execution_count": null,
   "metadata": {},
   "outputs": [],
   "source": [
    "file1 = '/home/alessio/w-August-Run/OUTPUTS/b-UV-0.22_0000_dipoles.csv'\n",
    "file2 = '/home/alessio/w-August-Run/OUTPUTS/b-UV-0.22_0000_dipoles_DFT.csv'\n",
    "df1 = pd.read_csv(file1)\n",
    "df2 = pd.read_csv(file2)\n",
    "print(df1.keys(), df2.keys())\n",
    "signal_time = df1['time fs']\n",
    "signal = df1['dipx']\n",
    "\n",
    "ff_freq = df2['DFT-Frequencies eV']\n",
    "ff_signal = df2['DFT-dipx']"
   ]
  },
  {
   "cell_type": "code",
   "execution_count": 9,
   "metadata": {},
   "outputs": [
    {
     "data": {
      "application/vnd.jupyter.widget-view+json": {
       "model_id": "5a923e51ad614d1fa978b7c6b0f3e0c9",
       "version_major": 2,
       "version_minor": 0
      },
      "text/plain": [
       "Canvas(toolbar=Toolbar(toolitems=[('Home', 'Reset original view', 'home', 'home'), ('Back', 'Back to previous …"
      ]
     },
     "metadata": {},
     "output_type": "display_data"
    },
    {
     "data": {
      "text/plain": [
       "(0, 10)"
      ]
     },
     "execution_count": 9,
     "metadata": {},
     "output_type": "execute_result"
    }
   ],
   "source": [
    "fig, [ax0,ax1] = plt.subplots(2,1,figsize = (12,16))\n",
    "ax0.plot(signal_time,signal)\n",
    "ax1.plot(ff_freq,ff_signal)\n",
    "ax1.set_xlim(0,10)"
   ]
  },
  {
   "cell_type": "code",
   "execution_count": 15,
   "metadata": {},
   "outputs": [
    {
     "name": "stdout",
     "output_type": "stream",
     "text": [
      "(2001,) (2001,)\n",
      "(4001,) (4001,)\n"
     ]
    },
    {
     "data": {
      "application/vnd.jupyter.widget-view+json": {
       "model_id": "",
       "version_major": 2,
       "version_minor": 0
      },
      "text/plain": [
       "Canvas(toolbar=Toolbar(toolitems=[('Home', 'Reset original view', 'home', 'home'), ('Back', 'Back to previous …"
      ]
     },
     "metadata": {},
     "output_type": "display_data"
    },
    {
     "data": {
      "text/plain": [
       "(0, 10)"
      ]
     },
     "execution_count": 15,
     "metadata": {},
     "output_type": "execute_result"
    }
   ],
   "source": [
    "def pythonfft(signal_time,signal):\n",
    "    aaa = abs(np.fft.fft(signal))\n",
    "    time_au = qp.fromFsToAu(signal_time)\n",
    "    dt = time_au[1]- time_au[0]\n",
    "    bb = np.fft.fftfreq(time_au.size)\n",
    "\n",
    "    time_au_max = np.amax(time_au)\n",
    "    bbb = qp.fromHartoEv(bb*2*np.pi/dt)\n",
    "    indexes = np.where(bb>=0)\n",
    "    return(bbb[indexes],aaa[indexes])\n",
    "\n",
    "#print(np.amax(bbb), np.amax(ff_freq), np.amax(ff_freq)/np.amax(bbb))\n",
    "\n",
    "bbb,aaa = pythonfft(signal_time,signal)\n",
    "print(bbb.shape,aaa.shape)\n",
    "print(signal.shape, signal_time.shape)\n",
    "fig, ax0 = plt.subplots(1,1,figsize = (10,6))\n",
    "\n",
    "ax0.plot(bbb,aaa)\n",
    "ax0.plot(ff_freq,ff_signal)\n",
    "ax0.set_xlim(0,10)"
   ]
  },
  {
   "cell_type": "code",
   "execution_count": 10,
   "metadata": {},
   "outputs": [
    {
     "name": "stdout",
     "output_type": "stream",
     "text": [
      "Index(['Unnamed: 0', 'DFT-Frequencies eV', 'DFT-dipx', 'DFT-trans_x_0_1',\n",
      "       'DFT-trans_x_1_2', 'DFT-trans_x_1_3', 'DFT-trans_x_1_4', 'DFT-dipy',\n",
      "       'DFT-trans_y_0_1', 'DFT-trans_y_1_2', 'DFT-trans_y_1_3',\n",
      "       'DFT-trans_y_1_4', 'DFT-trans_y_1_5', 'DFT-trans_y_2_3',\n",
      "       'DFT-trans_y_6_7', 'DFT-dipz', 'DFT-perm_z_0', 'DFT-perm_z_1',\n",
      "       'DFT-trans_z_0_1', 'DFT-trans_z_1_4'],\n",
      "      dtype='object') Index(['Unnamed: 0', 'DFT-Frequencies eV', 'DFT-dipx_CI_Mask',\n",
      "       'DFT-perm_x_1_CI_Mask', 'DFT-trans_x_0_1_CI_Mask',\n",
      "       'DFT-trans_x_1_2_CI_Mask', 'DFT-trans_x_1_3_CI_Mask',\n",
      "       'DFT-trans_x_1_4_CI_Mask', 'DFT-trans_x_1_5_CI_Mask',\n",
      "       'DFT-trans_x_2_4_CI_Mask', 'DFT-trans_x_2_5_CI_Mask',\n",
      "       'DFT-dipy_CI_Mask', 'DFT-trans_y_0_1_CI_Mask',\n",
      "       'DFT-trans_y_1_2_CI_Mask', 'DFT-trans_y_1_3_CI_Mask',\n",
      "       'DFT-trans_y_1_4_CI_Mask', 'DFT-trans_y_1_5_CI_Mask',\n",
      "       'DFT-trans_y_2_3_CI_Mask', 'DFT-trans_y_2_4_CI_Mask',\n",
      "       'DFT-dipz_CI_Mask', 'DFT-perm_z_1_CI_Mask', 'DFT-perm_z_2_CI_Mask',\n",
      "       'DFT-trans_z_0_1_CI_Mask'],\n",
      "      dtype='object')\n"
     ]
    }
   ],
   "source": [
    "file1 = '/home/alessio/w-August-Run/OUTPUTS/b-UV-0.22_0000_dipoles_DFT.csv'\n",
    "file2 = '/home/alessio/w-August-Run/OUTPUTS/b-UV-0.22_0000_dipoles_DFT_CI_Mask.csv'\n",
    "df1 = pd.read_csv(file1)\n",
    "df2 = pd.read_csv(file2)\n",
    "print(df1.keys(),df2.keys())"
   ]
  },
  {
   "cell_type": "code",
   "execution_count": 11,
   "metadata": {},
   "outputs": [
    {
     "data": {
      "text/plain": [
       "(0, 10)"
      ]
     },
     "execution_count": 11,
     "metadata": {},
     "output_type": "execute_result"
    },
    {
     "data": {
      "image/png": "[encoded data removed]",
      "text/plain": [
       "<Figure size 864x576 with 2 Axes>"
      ]
     },
     "metadata": {
      "needs_background": "light"
     },
     "output_type": "display_data"
    }
   ],
   "source": [
    "fig, ax0 = plt.subplots(1,1,figsize = (12,8))\n",
    "ax0.plot(df2['DFT-Frequencies eV'],df2['DFT-trans_x_0_1_CI_Mask'])\n",
    "ax1 = ax0.twinx()\n",
    "ax1.plot(df1['DFT-Frequencies eV'],df1['DFT-trans_x_0_1'],color='r')\n",
    "ax0.set_xlim(0,10)\n",
    "ax1.set_xlim(0,10)"
   ]
  },
  {
   "cell_type": "code",
   "execution_count": null,
   "metadata": {},
   "outputs": [],
   "source": []
  }
 ],
 "metadata": {
  "kernelspec": {
   "display_name": "Python 3",
   "language": "python",
   "name": "python3"
  },
  "language_info": {
   "codemirror_mode": {
    "name": "ipython",
    "version": 3
   },
   "file_extension": ".py",
   "mimetype": "text/x-python",
   "name": "python",
   "nbconvert_exporter": "python",
   "pygments_lexer": "ipython3",
   "version": "3.6.8"
  }
 },
 "nbformat": 4,
 "nbformat_minor": 4
}
