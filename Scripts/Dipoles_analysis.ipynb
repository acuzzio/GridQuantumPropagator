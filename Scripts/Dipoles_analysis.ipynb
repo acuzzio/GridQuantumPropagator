{
 "cells": [
  {
   "cell_type": "code",
   "execution_count": 6,
   "metadata": {},
   "outputs": [
    {
     "name": "stdout",
     "output_type": "stream",
     "text": [
      "The Cython extension is already loaded. To reload it, use:\n",
      "  %reload_ext Cython\n"
     ]
    }
   ],
   "source": [
    "import quantumpropagator as qp\n",
    "import matplotlib.pyplot as plt\n",
    "import matplotlib\n",
    "from ipywidgets import interact,fixed #, interactive, fixed, interact_manual\n",
    "import ipywidgets as widgets\n",
    "\n",
    "import os\n",
    "import sys\n",
    "import glob\n",
    "import pandas as pd\n",
    "import numpy as np\n",
    "\n",
    "from scipy import fftpack\n",
    "%load_ext Cython\n",
    "%matplotlib ipympl\n",
    "\n",
    "#plt.rcParams.update({'font.size': 10})"
   ]
  },
  {
   "cell_type": "code",
   "execution_count": 2,
   "metadata": {},
   "outputs": [
    {
     "name": "stdout",
     "output_type": "stream",
     "text": [
      "0 -> b-UV-0.22_0000\n",
      "1 -> m-IR-Polarized-INV_0000\n",
      "2 -> m-IR-Polarized-LON_0000\n",
      "3 -> m-IR-Polarized-NOR_0000\n",
      "4 -> position-from1_0000\n",
      "5 -> position-from2_0000\n",
      "6 -> position-from3_0000\n",
      "7 -> position-from4_0000\n",
      "8 -> position-from5_0000\n",
      "9 -> position-from6_0000\n",
      "10 -> t-FC_excited_phi_0000\n",
      "11 -> t-IR-to-excite-phi_0000\n",
      "12 -> t-UV-0.22_excited_phi_0001\n",
      "13 -> x-SubMask_from_IR_0000\n",
      "14 -> x-SubMask_from_IR_INV_0000\n",
      "15 -> z-from1_0000\n",
      "\n"
     ]
    }
   ],
   "source": [
    "fol = '/home/alessio/w-August-Run/'\n",
    "outputFolder = '/home/alessio/w-August-Run/OUTPUTS'\n",
    "subfolders2 = sorted([dir for dir in os.listdir(fol) if os.path.isdir(os.path.join(fol,dir))])\n",
    "subfolders =  [ dir for dir in subfolders2 if dir not in ['HTML','csv','OUTPUTS'] ]\n",
    "print(''.join(['{} -> {}\\n'.format(a,b) for a,b in enumerate(subfolders)]))"
   ]
  },
  {
   "cell_type": "code",
   "execution_count": 3,
   "metadata": {},
   "outputs": [],
   "source": [
    "%%cython\n",
    "# -a\n",
    "import numpy as np\n",
    "import quantumpropagator as qp\n",
    "\n",
    "cdef extern from \"complex.h\":\n",
    "        double complex cexp(double complex)\n",
    "\n",
    "# from libc.math cimport exp\n",
    "\n",
    "# cdef extern from \"<complex.h>\" namespace \"std\":\n",
    "#     double complex exp(double complex z)\n",
    "#     float complex exp(float complex z)  # overload\n",
    "\n",
    "def fft_artisanal(time,signal):\n",
    "    dt = time[1] - time[0]\n",
    "    nstep = time.size\n",
    "    all_time = nstep * dt\n",
    "    sx = -np.pi/dt\n",
    "    dx = np.pi/dt\n",
    "    dw = (2 * np.pi)/all_time\n",
    "    freq = np.arange(0,dx,dw)\n",
    "    freq_size = freq.size\n",
    "    fft_array, freq = fft_c(time, signal, freq, dt, freq_size, nstep)\n",
    "    return (fft_array, np.array(freq))\n",
    "\n",
    "cdef fft_c(double [:] time, double [:] signal, double [:] freq, int dt, int freq_size, int nstep):\n",
    "    cdef:\n",
    "        int k,j\n",
    "        double complex I = -1j\n",
    "        \n",
    "    fft_array = np.zeros(freq_size, dtype=complex)\n",
    "    \n",
    "    for k in range(freq_size):\n",
    "        for j in range(nstep):\n",
    "\n",
    "            fft_array[k] = fft_array[k] + cexp(I * freq[k] * time[j]) * signal[j]\n",
    "\n",
    "    return(fft_array, freq)"
   ]
  },
  {
   "cell_type": "code",
   "execution_count": 4,
   "metadata": {},
   "outputs": [
    {
     "name": "stdout",
     "output_type": "stream",
     "text": [
      "['perm_x_0', 'perm_x_1', 'perm_x_2', 'perm_x_3', 'perm_x_4', 'perm_x_5', 'perm_x_6', 'perm_x_7', 'perm_y_0', 'perm_y_1', 'perm_y_2', 'perm_y_3', 'perm_y_4', 'perm_y_5', 'perm_y_6', 'perm_y_7', 'perm_z_0', 'perm_z_1', 'perm_z_2', 'perm_z_3', 'perm_z_4', 'perm_z_5', 'perm_z_6', 'perm_z_7', 'trans_x_0_1', 'trans_x_0_2', 'trans_x_0_3', 'trans_x_0_4', 'trans_x_0_5', 'trans_x_0_6', 'trans_x_0_7', 'trans_x_1_2', 'trans_x_1_3', 'trans_x_1_4', 'trans_x_1_5', 'trans_x_1_6', 'trans_x_1_7', 'trans_x_2_3', 'trans_x_2_4', 'trans_x_2_5', 'trans_x_2_6', 'trans_x_2_7', 'trans_x_3_4', 'trans_x_3_5', 'trans_x_3_6', 'trans_x_3_7', 'trans_x_4_5', 'trans_x_4_6', 'trans_x_4_7', 'trans_x_5_6', 'trans_x_5_7', 'trans_x_6_7', 'trans_y_0_1', 'trans_y_0_2', 'trans_y_0_3', 'trans_y_0_4', 'trans_y_0_5', 'trans_y_0_6', 'trans_y_0_7', 'trans_y_1_2', 'trans_y_1_3', 'trans_y_1_4', 'trans_y_1_5', 'trans_y_1_6', 'trans_y_1_7', 'trans_y_2_3', 'trans_y_2_4', 'trans_y_2_5', 'trans_y_2_6', 'trans_y_2_7', 'trans_y_3_4', 'trans_y_3_5', 'trans_y_3_6', 'trans_y_3_7', 'trans_y_4_5', 'trans_y_4_6', 'trans_y_4_7', 'trans_y_5_6', 'trans_y_5_7', 'trans_y_6_7', 'trans_z_0_1', 'trans_z_0_2', 'trans_z_0_3', 'trans_z_0_4', 'trans_z_0_5', 'trans_z_0_6', 'trans_z_0_7', 'trans_z_1_2', 'trans_z_1_3', 'trans_z_1_4', 'trans_z_1_5', 'trans_z_1_6', 'trans_z_1_7', 'trans_z_2_3', 'trans_z_2_4', 'trans_z_2_5', 'trans_z_2_6', 'trans_z_2_7', 'trans_z_3_4', 'trans_z_3_5', 'trans_z_3_6', 'trans_z_3_7', 'trans_z_4_5', 'trans_z_4_6', 'trans_z_4_7', 'trans_z_5_6', 'trans_z_5_7', 'trans_z_6_7']\n"
     ]
    }
   ],
   "source": [
    "# define all labels\n",
    "nstates = 8\n",
    "permanents = []\n",
    "transitions = []\n",
    "\n",
    "for lab1 in ['x','y','z']:\n",
    "    for lab2 in range(nstates):\n",
    "        permanents.append('perm_{}_{}'.format(lab1,lab2))\n",
    "        for lab3 in range(lab2+1,nstates):\n",
    "            transitions.append('trans_{}_{}_{}'.format(lab1,lab2,lab3))\n",
    "            \n",
    "\n",
    "print(permanents + transitions)"
   ]
  },
  {
   "cell_type": "code",
   "execution_count": 20,
   "metadata": {},
   "outputs": [
    {
     "data": {
      "application/vnd.jupyter.widget-view+json": {
       "model_id": "418b0ddabaf840b4b641e51d63ca772b",
       "version_major": 2,
       "version_minor": 0
      },
      "text/plain": [
       "A Jupyter Widget"
      ]
     },
     "metadata": {},
     "output_type": "display_data"
    },
    {
     "name": "stdout",
     "output_type": "stream",
     "text": [
      "['trans_x_0_1', 'trans_x_1_2', 'trans_x_1_3', 'trans_x_1_4']\n"
     ]
    },
    {
     "data": {
      "application/vnd.jupyter.widget-view+json": {
       "model_id": "9f62436b018f494ebe687dca52042f5c",
       "version_major": 2,
       "version_minor": 0
      },
      "text/plain": [
       "A Jupyter Widget"
      ]
     },
     "metadata": {},
     "output_type": "display_data"
    },
    {
     "name": "stdout",
     "output_type": "stream",
     "text": [
      "['trans_y_0_1', 'trans_y_1_2', 'trans_y_1_3', 'trans_y_1_4', 'trans_y_1_5', 'trans_y_2_3', 'trans_y_6_7']\n"
     ]
    },
    {
     "data": {
      "application/vnd.jupyter.widget-view+json": {
       "model_id": "600fe7b8fca741a58b8712e40f88fcc5",
       "version_major": 2,
       "version_minor": 0
      },
      "text/plain": [
       "A Jupyter Widget"
      ]
     },
     "metadata": {},
     "output_type": "display_data"
    },
    {
     "name": "stdout",
     "output_type": "stream",
     "text": [
      "['perm_z_0', 'perm_z_1', 'trans_z_1_4']\n"
     ]
    }
   ],
   "source": [
    "plt.close('all')\n",
    "\n",
    "def reorder_dataframe_last_first(df):\n",
    "    '''used to reorder dataframe'''\n",
    "    cols = df.columns.tolist()\n",
    "    cols = cols[-1:] + cols[:-1]\n",
    "    return df[cols]\n",
    "\n",
    "def process_folder(this_folder,fol,outputFolder):\n",
    "    project_folder = os.path.join(fol,this_folder)\n",
    "    output_dipo = os.path.join(project_folder, 'Output_Dipole')\n",
    "    all_labels = ['fs_2','dipx','dipy','dipz'] +  permanents + transitions\n",
    "    df_dipo2 = pd.read_csv(output_dipo, delim_whitespace=True, names=all_labels)\n",
    "    \n",
    "    fran_df_dipole = pd.DataFrame()\n",
    "    fran_df_freq = pd.DataFrame()\n",
    "    \n",
    "    for cart in ['x','y','z']:\n",
    "        full_list_label = permanents + transitions\n",
    "        full_list_this_cart = [x for x in full_list_label if cart in x]\n",
    "\n",
    "        # setting figure\n",
    "        fig, [ax0,ax1,ax2] = plt.subplots(3,1,figsize = (12,8))\n",
    "\n",
    "        # first panel is just total signal\n",
    "        timefs = df_dipo2['fs_2']\n",
    "        time = qp.fromFsToAu(timefs)\n",
    "        tot_signal = df_dipo2['dip{}'.format(cart)]\n",
    "        ax0.plot(timefs,tot_signal)\n",
    "        \n",
    "\n",
    "        #second panel is big components\n",
    "        threshold = np.linalg.norm(tot_signal)*0.05 # 5% of the norm\n",
    "        big_components = [ x for x in full_list_this_cart if np.linalg.norm(df_dipo2[x]) > threshold ] # the one which contributes more than 5% to the norm\n",
    "        print(big_components)\n",
    "\n",
    "        for this_lab in big_components:\n",
    "            ax1.plot(timefs, df_dipo2[this_lab], label=this_lab)\n",
    "            \n",
    "            \n",
    "            \n",
    "    # THIS PART FOR DFT\n",
    "            dt = time[1]-time[0]\n",
    "\n",
    "            t = time\n",
    "            x = df_dipo2[this_lab]\n",
    "\n",
    "            fft_array, freq = fft_artisanal(np.array(t),np.array(x))\n",
    "#             print(fft_array.shape, freq.shape)\n",
    "\n",
    "            ev_freq = qp.fromHartoEv(freq)\n",
    "            abs_fft_array = np.abs(fft_array)\n",
    "            ax2.plot(ev_freq, abs_fft_array, label=this_lab)\n",
    "\n",
    "            # add the things into Francoise df\n",
    "#             print(df_dipo2[this_lab].shape,fft_array.shape)\n",
    "            fran_df_dipole[this_lab] = df_dipo2[this_lab]\n",
    "            fran_df_freq['DFT-{}'.format(this_lab)] = abs_fft_array\n",
    "        \n",
    "\n",
    "        \n",
    "    # #  THOSE LINES TO DEBUG WITH GNUPLOT\n",
    "    # #     degub_fodler = '/home/alessio/Desktop/'\n",
    "\n",
    "    # #     np.savetxt(os.path.join(degub_fodler,'file1'),a)\n",
    "    # #     np.savetxt(os.path.join(degub_fodler,'file2'),b)\n",
    "\n",
    "        \n",
    "        ax1.legend(ncol=5)\n",
    "        ax1.set_xlabel('fs')\n",
    "        ax2.legend(ncol=5)\n",
    "        ax2.set_xlabel('eV')\n",
    "        ax0.set_title('Dipole {}'.format(cart))\n",
    "        fig.tight_layout()\n",
    "    # this needs to be ONCE in the df of Francoise\n",
    "    fran_df_dipole['time fs'] = timefs\n",
    "    fran_df_freq['DFT-Frequencies eV'] = freq\n",
    "    fran_df_dipole = reorder_dataframe_last_first(fran_df_dipole)\n",
    "    fran_df_freq = reorder_dataframe_last_first(fran_df_freq)\n",
    "    \n",
    "    fran_df_dipole.to_csv(os.path.join(outputFolder,'{}_dipoles.csv'.format(this_folder)))\n",
    "    fran_df_freq.to_csv(os.path.join(outputFolder,'{}_dipoles_DFT.csv'.format(this_folder)))\n",
    "    \n",
    "    \n",
    "    return(df_dipo2['dip{}'.format('z')],timefs,fran_df_dipole,fran_df_freq)\n",
    "    \n",
    "dipz,time,fran_df_dipole,fran_df_freq = process_folder(subfolders[0],fol,outputFolder)"
   ]
  },
  {
   "cell_type": "markdown",
   "metadata": {},
   "source": [
    "# Try to clean signal part"
   ]
  },
  {
   "cell_type": "code",
   "execution_count": 118,
   "metadata": {},
   "outputs": [],
   "source": [
    "def adjust_signal(sig,ext):\n",
    "    sig_size = sig.size\n",
    "    array_value = np.zeros(ext)\n",
    "    sig_array = np.array(dipz)\n",
    "    flipped = np.flip(sig_array,axis=0)\n",
    "    \n",
    "    output_signal = np.concatenate((array_value,flipped,sig_array,array_value))\n",
    "    return(output_signal)\n",
    "\n",
    "def adjust_time(time,full_length):\n",
    "    time_size = time.size\n",
    "    time_final_value = time[time_size-1]\n",
    "    total_time = np.linspace(-time_final_value,time_final_value,full_length)\n",
    "    return(total_time)\n",
    "    \n",
    "\n",
    "\n",
    "sig_ext = adjust_signal(dipz,1000)\n",
    "time_ext = adjust_time(time,10002)"
   ]
  },
  {
   "cell_type": "code",
   "execution_count": 119,
   "metadata": {},
   "outputs": [
    {
     "data": {
      "application/vnd.jupyter.widget-view+json": {
       "model_id": "c5741e67deaa4d97ad6e537150570d33",
       "version_major": 2,
       "version_minor": 0
      },
      "text/plain": [
       "A Jupyter Widget"
      ]
     },
     "metadata": {},
     "output_type": "display_data"
    }
   ],
   "source": [
    "#plt.close('all')\n",
    "\n",
    "import scipy\n",
    "fig, [ax0, ax1] = plt.subplots(2,1,figsize = (12,8))\n",
    "\n",
    "a = scipy.signal.windows.gaussian(10002,1400)\n",
    "z = adjust_signal(dipz,1000)\n",
    "\n",
    "newsignal = z*a\n",
    "\n",
    "ax0.plot(time_ext,a)\n",
    "ax0.plot(time_ext,newsignal)\n",
    "\n",
    "fft_array, freq = fft_artisanal(time_ext,newsignal)\n",
    "\n",
    "ax1.plot(freq, np.abs(fft_array))\n",
    "\n",
    "fig.tight_layout();"
   ]
  },
  {
   "cell_type": "code",
   "execution_count": null,
   "metadata": {},
   "outputs": [],
   "source": []
  }
 ],
 "metadata": {
  "kernelspec": {
   "display_name": "Python 3",
   "language": "python",
   "name": "python3"
  },
  "language_info": {
   "codemirror_mode": {
    "name": "ipython",
    "version": 3
   },
   "file_extension": ".py",
   "mimetype": "text/x-python",
   "name": "python",
   "nbconvert_exporter": "python",
   "pygments_lexer": "ipython3",
   "version": "3.5.4"
  }
 },
 "nbformat": 4,
 "nbformat_minor": 2
}
