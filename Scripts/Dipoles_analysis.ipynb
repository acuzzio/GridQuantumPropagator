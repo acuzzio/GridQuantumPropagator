{
 "cells": [
  {
   "cell_type": "code",
   "execution_count": 2,
   "metadata": {},
   "outputs": [
    {
     "name": "stdout",
     "output_type": "stream",
     "text": [
      "The Cython extension is already loaded. To reload it, use:\n",
      "  %reload_ext Cython\n"
     ]
    }
   ],
   "source": [
    "import quantumpropagator as qp\n",
    "import matplotlib.pyplot as plt\n",
    "import matplotlib\n",
    "from ipywidgets import interact,fixed #, interactive, fixed, interact_manual\n",
    "import ipywidgets as widgets\n",
    "\n",
    "import os\n",
    "import sys\n",
    "import glob\n",
    "import pandas as pd\n",
    "import numpy as np\n",
    "\n",
    "from scipy import fftpack\n",
    "%load_ext Cython\n",
    "%matplotlib ipympl\n",
    "\n",
    "#plt.rcParams.update({'font.size': 10})"
   ]
  },
  {
   "cell_type": "code",
   "execution_count": 3,
   "metadata": {},
   "outputs": [
    {
     "name": "stdout",
     "output_type": "stream",
     "text": [
      "0 -> b-UV-0.22_0000\n",
      "1 -> m-IR-Polarized-INV_0000\n",
      "2 -> m-IR-Polarized-LON_0000\n",
      "3 -> m-IR-Polarized-NOR_0000\n",
      "4 -> position-from1_0000\n",
      "5 -> position-from2_0000\n",
      "6 -> position-from3_0000\n",
      "7 -> position-from4_0000\n",
      "8 -> position-from5_0000\n",
      "9 -> position-from6_0000\n",
      "10 -> t-FC_excited_phi_0000\n",
      "11 -> t-IR-to-excite-phi_0000\n",
      "12 -> t-UV-0.22_excited_phi_0001\n",
      "13 -> w-SubMask_from_IR_time_reversed_0000\n",
      "14 -> x-SubMask_from_IR_0000\n",
      "15 -> x-SubMask_from_IR_INV_0000\n",
      "16 -> z-from1_0000\n",
      "\n"
     ]
    }
   ],
   "source": [
    "fol = '/home/alessio/w-August-Run/'\n",
    "outputFolder = '/home/alessio/w-August-Run/OUTPUTS'\n",
    "subfolders2 = sorted([dir for dir in os.listdir(fol) if os.path.isdir(os.path.join(fol,dir))])\n",
    "subfolders =  [ dir for dir in subfolders2 if dir not in ['HTML','csv','OUTPUTS','FRANCOISE'] ]\n",
    "print(''.join(['{} -> {}\\n'.format(a,b) for a,b in enumerate(subfolders)]))"
   ]
  },
  {
   "cell_type": "code",
   "execution_count": 4,
   "metadata": {},
   "outputs": [],
   "source": [
    "%%cython\n",
    "# -a\n",
    "import numpy as np\n",
    "import quantumpropagator as qp\n",
    "from cmath import exp,pi\n",
    "\n",
    "cdef extern from \"complex.h\":\n",
    "        double complex cexp(double complex)\n",
    "\n",
    "# from libc.math cimport exp\n",
    "\n",
    "# cdef extern from \"<complex.h>\" namespace \"std\":\n",
    "#     double complex exp(double complex z)\n",
    "#     float complex exp(float complex z)  # overload\n",
    "\n",
    "def fft_artisanal2(x):\n",
    "    N = len(x)\n",
    "    if N <= 1: return x\n",
    "    even = fft_artisanal(x[0::2])\n",
    "    odd =  fft_artisanal(x[1::2])\n",
    "    T = [ exp(-2j*pi*k/N)*odd[k] for k in range(N//2) ]\n",
    "    return [even[k] + T[k] for k in range(N//2)] + [even[k] - T[k] for k in range(N//2)]\n",
    "\n",
    "def fft_artisanal(time,signal):\n",
    "    dt = time[1] - time[0]\n",
    "    nstep = time.size\n",
    "    all_time = nstep * dt\n",
    "    sx = -np.pi/dt\n",
    "    dx = np.pi/dt\n",
    "    dw = (2 * np.pi)/all_time\n",
    "    freq = np.arange(0,dx,dw)\n",
    "    freq_size = freq.size\n",
    "    fft_array, freq = fft_c(time, signal, freq, dt, freq_size, nstep)\n",
    "    return (fft_array, np.array(freq))\n",
    "\n",
    "cdef fft_c(double [:] time, double [:] signal, double [:] freq, int dt, int freq_size, int nstep):\n",
    "    cdef:\n",
    "        int k,j\n",
    "        double complex I = -1j\n",
    "        \n",
    "    fft_array = np.zeros(freq_size, dtype=complex)\n",
    "    \n",
    "    for k in range(freq_size):\n",
    "        for j in range(nstep):\n",
    "\n",
    "            fft_array[k] = fft_array[k] + cexp(I * freq[k] * time[j]) * signal[j]\n",
    "\n",
    "    return(fft_array, freq)"
   ]
  },
  {
   "cell_type": "code",
   "execution_count": 5,
   "metadata": {},
   "outputs": [
    {
     "name": "stdout",
     "output_type": "stream",
     "text": [
      "['perm_x_0', 'perm_x_1', 'perm_x_2', 'perm_x_3', 'perm_x_4', 'perm_x_5', 'perm_x_6', 'perm_x_7', 'perm_y_0', 'perm_y_1', 'perm_y_2', 'perm_y_3', 'perm_y_4', 'perm_y_5', 'perm_y_6', 'perm_y_7', 'perm_z_0', 'perm_z_1', 'perm_z_2', 'perm_z_3', 'perm_z_4', 'perm_z_5', 'perm_z_6', 'perm_z_7', 'trans_x_0_1', 'trans_x_0_2', 'trans_x_0_3', 'trans_x_0_4', 'trans_x_0_5', 'trans_x_0_6', 'trans_x_0_7', 'trans_x_1_2', 'trans_x_1_3', 'trans_x_1_4', 'trans_x_1_5', 'trans_x_1_6', 'trans_x_1_7', 'trans_x_2_3', 'trans_x_2_4', 'trans_x_2_5', 'trans_x_2_6', 'trans_x_2_7', 'trans_x_3_4', 'trans_x_3_5', 'trans_x_3_6', 'trans_x_3_7', 'trans_x_4_5', 'trans_x_4_6', 'trans_x_4_7', 'trans_x_5_6', 'trans_x_5_7', 'trans_x_6_7', 'trans_y_0_1', 'trans_y_0_2', 'trans_y_0_3', 'trans_y_0_4', 'trans_y_0_5', 'trans_y_0_6', 'trans_y_0_7', 'trans_y_1_2', 'trans_y_1_3', 'trans_y_1_4', 'trans_y_1_5', 'trans_y_1_6', 'trans_y_1_7', 'trans_y_2_3', 'trans_y_2_4', 'trans_y_2_5', 'trans_y_2_6', 'trans_y_2_7', 'trans_y_3_4', 'trans_y_3_5', 'trans_y_3_6', 'trans_y_3_7', 'trans_y_4_5', 'trans_y_4_6', 'trans_y_4_7', 'trans_y_5_6', 'trans_y_5_7', 'trans_y_6_7', 'trans_z_0_1', 'trans_z_0_2', 'trans_z_0_3', 'trans_z_0_4', 'trans_z_0_5', 'trans_z_0_6', 'trans_z_0_7', 'trans_z_1_2', 'trans_z_1_3', 'trans_z_1_4', 'trans_z_1_5', 'trans_z_1_6', 'trans_z_1_7', 'trans_z_2_3', 'trans_z_2_4', 'trans_z_2_5', 'trans_z_2_6', 'trans_z_2_7', 'trans_z_3_4', 'trans_z_3_5', 'trans_z_3_6', 'trans_z_3_7', 'trans_z_4_5', 'trans_z_4_6', 'trans_z_4_7', 'trans_z_5_6', 'trans_z_5_7', 'trans_z_6_7']\n"
     ]
    }
   ],
   "source": [
    "# define all labels\n",
    "nstates = 8\n",
    "permanents = []\n",
    "transitions = []\n",
    "\n",
    "for lab1 in ['x','y','z']:\n",
    "    for lab2 in range(nstates):\n",
    "        permanents.append('perm_{}_{}'.format(lab1,lab2))\n",
    "        for lab3 in range(lab2+1,nstates):\n",
    "            transitions.append('trans_{}_{}_{}'.format(lab1,lab2,lab3))\n",
    "            \n",
    "\n",
    "print(permanents + transitions)"
   ]
  },
  {
   "cell_type": "code",
   "execution_count": 67,
   "metadata": {},
   "outputs": [
    {
     "data": {
      "application/vnd.jupyter.widget-view+json": {
       "model_id": "497093e195fa4a7886b918831ed6e769",
       "version_major": 2,
       "version_minor": 0
      },
      "text/plain": [
       "A Jupyter Widget"
      ]
     },
     "metadata": {},
     "output_type": "display_data"
    },
    {
     "name": "stdout",
     "output_type": "stream",
     "text": [
      "['trans_x_0_1', 'trans_x_1_2', 'trans_x_1_3', 'trans_x_1_4']\n"
     ]
    },
    {
     "data": {
      "application/vnd.jupyter.widget-view+json": {
       "model_id": "314b804e114b4b02b228a76de529a74a",
       "version_major": 2,
       "version_minor": 0
      },
      "text/plain": [
       "A Jupyter Widget"
      ]
     },
     "metadata": {},
     "output_type": "display_data"
    },
    {
     "name": "stdout",
     "output_type": "stream",
     "text": [
      "['trans_y_0_1', 'trans_y_1_2', 'trans_y_1_3', 'trans_y_1_4', 'trans_y_1_5', 'trans_y_2_3', 'trans_y_6_7']\n"
     ]
    },
    {
     "data": {
      "application/vnd.jupyter.widget-view+json": {
       "model_id": "160508a26bec44f990e3a003b5f447ed",
       "version_major": 2,
       "version_minor": 0
      },
      "text/plain": [
       "A Jupyter Widget"
      ]
     },
     "metadata": {},
     "output_type": "display_data"
    },
    {
     "name": "stdout",
     "output_type": "stream",
     "text": [
      "['perm_z_0', 'perm_z_1', 'trans_z_0_1', 'trans_z_1_4']\n"
     ]
    },
    {
     "data": {
      "application/vnd.jupyter.widget-view+json": {
       "model_id": "dce585aea68848fe8b69674aac9f0d82",
       "version_major": 2,
       "version_minor": 0
      },
      "text/plain": [
       "A Jupyter Widget"
      ]
     },
     "metadata": {},
     "output_type": "display_data"
    },
    {
     "name": "stdout",
     "output_type": "stream",
     "text": [
      "['perm_x_1', 'trans_x_0_1', 'trans_x_1_2', 'trans_x_1_3', 'trans_x_1_4', 'trans_x_1_5', 'trans_x_2_4', 'trans_x_2_5']\n"
     ]
    },
    {
     "data": {
      "application/vnd.jupyter.widget-view+json": {
       "model_id": "503a7f0fc7c64d17a218501e03731d60",
       "version_major": 2,
       "version_minor": 0
      },
      "text/plain": [
       "A Jupyter Widget"
      ]
     },
     "metadata": {},
     "output_type": "display_data"
    },
    {
     "name": "stdout",
     "output_type": "stream",
     "text": [
      "['trans_y_0_1', 'trans_y_1_2', 'trans_y_1_3', 'trans_y_1_4', 'trans_y_1_5', 'trans_y_2_3', 'trans_y_2_4']\n"
     ]
    },
    {
     "data": {
      "application/vnd.jupyter.widget-view+json": {
       "model_id": "30e7f77634db4bd9b204683ac931a5d7",
       "version_major": 2,
       "version_minor": 0
      },
      "text/plain": [
       "A Jupyter Widget"
      ]
     },
     "metadata": {},
     "output_type": "display_data"
    },
    {
     "name": "stdout",
     "output_type": "stream",
     "text": [
      "['perm_z_1', 'perm_z_2', 'trans_z_0_1']\n"
     ]
    },
    {
     "data": {
      "application/vnd.jupyter.widget-view+json": {
       "model_id": "b58c29f4c29c48b097f71b02ac8d7098",
       "version_major": 2,
       "version_minor": 0
      },
      "text/plain": [
       "A Jupyter Widget"
      ]
     },
     "metadata": {},
     "output_type": "display_data"
    },
    {
     "name": "stdout",
     "output_type": "stream",
     "text": [
      "['trans_x_0_1', 'trans_x_1_2', 'trans_x_1_3', 'trans_x_2_4', 'trans_x_3_7']\n"
     ]
    },
    {
     "data": {
      "application/vnd.jupyter.widget-view+json": {
       "model_id": "b08118c027f9405794a12b36d30be2e6",
       "version_major": 2,
       "version_minor": 0
      },
      "text/plain": [
       "A Jupyter Widget"
      ]
     },
     "metadata": {},
     "output_type": "display_data"
    },
    {
     "name": "stdout",
     "output_type": "stream",
     "text": [
      "['trans_y_0_1', 'trans_y_1_2', 'trans_y_1_3', 'trans_y_1_6', 'trans_y_2_3', 'trans_y_2_7']\n"
     ]
    },
    {
     "data": {
      "application/vnd.jupyter.widget-view+json": {
       "model_id": "494612cdf65d4b65a78f7c2e23712c6a",
       "version_major": 2,
       "version_minor": 0
      },
      "text/plain": [
       "A Jupyter Widget"
      ]
     },
     "metadata": {},
     "output_type": "display_data"
    },
    {
     "name": "stdout",
     "output_type": "stream",
     "text": [
      "['perm_z_0', 'perm_z_1', 'perm_z_2', 'perm_z_3', 'trans_z_0_1', 'trans_z_0_2', 'trans_z_1_4']\n"
     ]
    },
    {
     "data": {
      "application/vnd.jupyter.widget-view+json": {
       "model_id": "c13bb2c21c60467db8785104a92f5ef2",
       "version_major": 2,
       "version_minor": 0
      },
      "text/plain": [
       "A Jupyter Widget"
      ]
     },
     "metadata": {},
     "output_type": "display_data"
    },
    {
     "name": "stdout",
     "output_type": "stream",
     "text": [
      "['trans_x_0_1', 'trans_x_1_2', 'trans_x_1_3', 'trans_x_1_4', 'trans_x_2_3', 'trans_x_2_4', 'trans_x_2_5', 'trans_x_2_6']\n"
     ]
    },
    {
     "data": {
      "application/vnd.jupyter.widget-view+json": {
       "model_id": "c66dd941fcdf462d9088121b7b4b34c0",
       "version_major": 2,
       "version_minor": 0
      },
      "text/plain": [
       "A Jupyter Widget"
      ]
     },
     "metadata": {},
     "output_type": "display_data"
    },
    {
     "name": "stdout",
     "output_type": "stream",
     "text": [
      "['trans_y_0_1', 'trans_y_1_2', 'trans_y_1_3', 'trans_y_2_3', 'trans_y_2_4', 'trans_y_2_6']\n"
     ]
    },
    {
     "data": {
      "application/vnd.jupyter.widget-view+json": {
       "model_id": "07fc9bf280a64220876579b90354a0d3",
       "version_major": 2,
       "version_minor": 0
      },
      "text/plain": [
       "A Jupyter Widget"
      ]
     },
     "metadata": {},
     "output_type": "display_data"
    },
    {
     "name": "stdout",
     "output_type": "stream",
     "text": [
      "['perm_z_1', 'perm_z_2', 'perm_z_3', 'trans_z_0_1']\n"
     ]
    },
    {
     "data": {
      "application/vnd.jupyter.widget-view+json": {
       "model_id": "5da41c7833d64e13a8cf303aaea9ceef",
       "version_major": 2,
       "version_minor": 0
      },
      "text/plain": [
       "A Jupyter Widget"
      ]
     },
     "metadata": {},
     "output_type": "display_data"
    },
    {
     "name": "stdout",
     "output_type": "stream",
     "text": [
      "['trans_x_0_1', 'trans_x_1_2', 'trans_x_1_3', 'trans_x_2_4', 'trans_x_3_7']\n"
     ]
    },
    {
     "data": {
      "application/vnd.jupyter.widget-view+json": {
       "model_id": "74c8d48a6a9d4409a5103cb623d2789a",
       "version_major": 2,
       "version_minor": 0
      },
      "text/plain": [
       "A Jupyter Widget"
      ]
     },
     "metadata": {},
     "output_type": "display_data"
    },
    {
     "name": "stdout",
     "output_type": "stream",
     "text": [
      "['trans_y_0_1', 'trans_y_1_2', 'trans_y_1_3', 'trans_y_1_6', 'trans_y_2_3', 'trans_y_2_7']\n"
     ]
    },
    {
     "data": {
      "application/vnd.jupyter.widget-view+json": {
       "model_id": "4c6d5c8a7e26420cadabb2e9ae8bb03f",
       "version_major": 2,
       "version_minor": 0
      },
      "text/plain": [
       "A Jupyter Widget"
      ]
     },
     "metadata": {},
     "output_type": "display_data"
    },
    {
     "name": "stdout",
     "output_type": "stream",
     "text": [
      "['perm_z_0', 'perm_z_1', 'perm_z_2', 'perm_z_3', 'perm_z_5', 'perm_z_6', 'trans_z_0_1', 'trans_z_0_2', 'trans_z_1_4']\n"
     ]
    },
    {
     "data": {
      "application/vnd.jupyter.widget-view+json": {
       "model_id": "978b42e186c649d8a6f6a7f94706382c",
       "version_major": 2,
       "version_minor": 0
      },
      "text/plain": [
       "A Jupyter Widget"
      ]
     },
     "metadata": {},
     "output_type": "display_data"
    },
    {
     "name": "stdout",
     "output_type": "stream",
     "text": [
      "['trans_x_0_1', 'trans_x_1_2', 'trans_x_1_3', 'trans_x_1_4', 'trans_x_1_5', 'trans_x_2_3', 'trans_x_2_4', 'trans_x_2_5', 'trans_x_2_6', 'trans_x_3_6', 'trans_x_3_7', 'trans_x_4_6', 'trans_x_5_6', 'trans_x_6_7']\n"
     ]
    },
    {
     "data": {
      "application/vnd.jupyter.widget-view+json": {
       "model_id": "e9acbcf852b342688a4b7bf47d1ffbad",
       "version_major": 2,
       "version_minor": 0
      },
      "text/plain": [
       "A Jupyter Widget"
      ]
     },
     "metadata": {},
     "output_type": "display_data"
    },
    {
     "name": "stdout",
     "output_type": "stream",
     "text": [
      "['trans_y_0_1', 'trans_y_1_2', 'trans_y_1_3', 'trans_y_1_6', 'trans_y_2_3', 'trans_y_2_4', 'trans_y_2_6', 'trans_y_3_5', 'trans_y_4_6', 'trans_y_5_6']\n"
     ]
    },
    {
     "data": {
      "application/vnd.jupyter.widget-view+json": {
       "model_id": "0418af9dcc6b47f4b42ecec15a1d1194",
       "version_major": 2,
       "version_minor": 0
      },
      "text/plain": [
       "A Jupyter Widget"
      ]
     },
     "metadata": {},
     "output_type": "display_data"
    },
    {
     "name": "stdout",
     "output_type": "stream",
     "text": [
      "['perm_z_1', 'perm_z_2', 'perm_z_3', 'perm_z_5', 'perm_z_6', 'perm_z_7', 'trans_z_0_1']\n"
     ]
    },
    {
     "data": {
      "application/vnd.jupyter.widget-view+json": {
       "model_id": "3dcc13533fd94ac1bb7fa92d33558543",
       "version_major": 2,
       "version_minor": 0
      },
      "text/plain": [
       "A Jupyter Widget"
      ]
     },
     "metadata": {},
     "output_type": "display_data"
    },
    {
     "name": "stdout",
     "output_type": "stream",
     "text": [
      "['trans_x_0_1', 'trans_x_1_2', 'trans_x_1_3', 'trans_x_2_4', 'trans_x_3_7']\n"
     ]
    },
    {
     "data": {
      "application/vnd.jupyter.widget-view+json": {
       "model_id": "ee4cd27cd57a491b9e373f8588675bf5",
       "version_major": 2,
       "version_minor": 0
      },
      "text/plain": [
       "A Jupyter Widget"
      ]
     },
     "metadata": {},
     "output_type": "display_data"
    },
    {
     "name": "stdout",
     "output_type": "stream",
     "text": [
      "['trans_y_0_1', 'trans_y_1_2', 'trans_y_1_3', 'trans_y_1_6', 'trans_y_2_3', 'trans_y_2_7']\n"
     ]
    },
    {
     "name": "stderr",
     "output_type": "stream",
     "text": [
      "/home/alessio/config/miniconda/envs/quantumpropagator/lib/python3.5/site-packages/matplotlib/pyplot.py:523: RuntimeWarning: More than 20 figures have been opened. Figures created through the pyplot interface (`matplotlib.pyplot.figure`) are retained until explicitly closed and may consume too much memory. (To control this warning, see the rcParam `figure.max_open_warning`).\n",
      "  max_open_warning, RuntimeWarning)\n"
     ]
    },
    {
     "data": {
      "application/vnd.jupyter.widget-view+json": {
       "model_id": "65a12ae353904477afaa2a90000d0f9c",
       "version_major": 2,
       "version_minor": 0
      },
      "text/plain": [
       "A Jupyter Widget"
      ]
     },
     "metadata": {},
     "output_type": "display_data"
    },
    {
     "name": "stdout",
     "output_type": "stream",
     "text": [
      "['perm_z_0', 'perm_z_1', 'perm_z_2', 'perm_z_3', 'trans_z_0_1', 'trans_z_0_2']\n"
     ]
    },
    {
     "data": {
      "application/vnd.jupyter.widget-view+json": {
       "model_id": "2ffdc15dffd14db0b12f4fa6fe359e24",
       "version_major": 2,
       "version_minor": 0
      },
      "text/plain": [
       "A Jupyter Widget"
      ]
     },
     "metadata": {},
     "output_type": "display_data"
    },
    {
     "name": "stdout",
     "output_type": "stream",
     "text": [
      "['trans_x_0_1', 'trans_x_1_2', 'trans_x_1_3', 'trans_x_2_3', 'trans_x_2_4', 'trans_x_2_5', 'trans_x_2_6', 'trans_x_3_7']\n"
     ]
    },
    {
     "data": {
      "application/vnd.jupyter.widget-view+json": {
       "model_id": "0fb105b78dae450196a56688502bb041",
       "version_major": 2,
       "version_minor": 0
      },
      "text/plain": [
       "A Jupyter Widget"
      ]
     },
     "metadata": {},
     "output_type": "display_data"
    },
    {
     "name": "stdout",
     "output_type": "stream",
     "text": [
      "['trans_y_0_1', 'trans_y_1_2', 'trans_y_1_3', 'trans_y_2_3', 'trans_y_2_6']\n"
     ]
    },
    {
     "data": {
      "application/vnd.jupyter.widget-view+json": {
       "model_id": "82d8a8f36df8467a815dc06fb4edd33e",
       "version_major": 2,
       "version_minor": 0
      },
      "text/plain": [
       "A Jupyter Widget"
      ]
     },
     "metadata": {},
     "output_type": "display_data"
    },
    {
     "name": "stdout",
     "output_type": "stream",
     "text": [
      "['perm_z_1', 'perm_z_2', 'perm_z_3', 'trans_z_0_1']\n"
     ]
    },
    {
     "data": {
      "application/vnd.jupyter.widget-view+json": {
       "model_id": "dac3b3ada14747c089b4f2e5e6fdb2c8",
       "version_major": 2,
       "version_minor": 0
      },
      "text/plain": [
       "A Jupyter Widget"
      ]
     },
     "metadata": {},
     "output_type": "display_data"
    },
    {
     "name": "stdout",
     "output_type": "stream",
     "text": [
      "['perm_x_1', 'trans_x_0_1', 'trans_x_1_2', 'trans_x_1_3', 'trans_x_1_4', 'trans_x_1_5', 'trans_x_2_4']\n"
     ]
    },
    {
     "data": {
      "application/vnd.jupyter.widget-view+json": {
       "model_id": "f8e7ec7be93d42b581b80488bd6a5b66",
       "version_major": 2,
       "version_minor": 0
      },
      "text/plain": [
       "A Jupyter Widget"
      ]
     },
     "metadata": {},
     "output_type": "display_data"
    },
    {
     "name": "stdout",
     "output_type": "stream",
     "text": [
      "['trans_y_0_1', 'trans_y_1_2', 'trans_y_1_3']\n"
     ]
    },
    {
     "data": {
      "application/vnd.jupyter.widget-view+json": {
       "model_id": "ddd41228739d48de936877c5d4a6aef2",
       "version_major": 2,
       "version_minor": 0
      },
      "text/plain": [
       "A Jupyter Widget"
      ]
     },
     "metadata": {},
     "output_type": "display_data"
    },
    {
     "name": "stdout",
     "output_type": "stream",
     "text": [
      "['perm_z_1', 'trans_z_0_1']\n"
     ]
    },
    {
     "data": {
      "application/vnd.jupyter.widget-view+json": {
       "model_id": "4c2b69a59e9940228e88e6f9729f957f",
       "version_major": 2,
       "version_minor": 0
      },
      "text/plain": [
       "A Jupyter Widget"
      ]
     },
     "metadata": {},
     "output_type": "display_data"
    },
    {
     "name": "stdout",
     "output_type": "stream",
     "text": [
      "['perm_x_1', 'trans_x_0_1', 'trans_x_1_2', 'trans_x_1_3', 'trans_x_1_4', 'trans_x_1_5', 'trans_x_2_4']\n"
     ]
    },
    {
     "data": {
      "application/vnd.jupyter.widget-view+json": {
       "model_id": "fea4833339834030b13d26477420afb8",
       "version_major": 2,
       "version_minor": 0
      },
      "text/plain": [
       "A Jupyter Widget"
      ]
     },
     "metadata": {},
     "output_type": "display_data"
    },
    {
     "name": "stdout",
     "output_type": "stream",
     "text": [
      "['trans_y_0_1', 'trans_y_1_2', 'trans_y_2_3']\n"
     ]
    },
    {
     "data": {
      "application/vnd.jupyter.widget-view+json": {
       "model_id": "04c2e2f553fa4afa89717f05f8c08d37",
       "version_major": 2,
       "version_minor": 0
      },
      "text/plain": [
       "A Jupyter Widget"
      ]
     },
     "metadata": {},
     "output_type": "display_data"
    },
    {
     "name": "stdout",
     "output_type": "stream",
     "text": [
      "['perm_z_1', 'trans_z_0_1']\n"
     ]
    }
   ],
   "source": [
    "plt.close('all')\n",
    "\n",
    "def reorder_dataframe_last_first(df):\n",
    "    '''used to reorder dataframe'''\n",
    "    cols = df.columns.tolist()\n",
    "    cols = cols[-1:] + cols[:-1]\n",
    "    return df[cols]\n",
    "\n",
    "def process_folder(this_folder,fol,outputFolder):\n",
    "    project_folder = os.path.join(fol,this_folder)\n",
    "    for mask_or_not in ['','_CI_Mask']:\n",
    "        subname = 'Output_Dipole{}'.format(mask_or_not)\n",
    "        output_dipo = os.path.join(project_folder, subname)\n",
    "        all_labels = ['fs_2','dipx','dipy','dipz'] +  permanents + transitions\n",
    "        df_dipo2 = pd.read_csv(output_dipo, delim_whitespace=True, names=all_labels)\n",
    "\n",
    "        fran_df_dipole = pd.DataFrame()\n",
    "        fran_df_freq = pd.DataFrame()\n",
    "\n",
    "        for cart in ['x','y','z']:\n",
    "            full_list_label = permanents + transitions\n",
    "            full_list_this_cart = [x for x in full_list_label if cart in x]\n",
    "\n",
    "            # setting figure\n",
    "            fig, [ax0,ax1,ax2] = plt.subplots(3,1,figsize = (12,8))\n",
    "\n",
    "            # first panel is just total signal\n",
    "            timefs = df_dipo2['fs_2']\n",
    "            time = qp.fromFsToAu(timefs)\n",
    "            this_full_dipole = 'dip{}'.format(cart)\n",
    "            tot_signal = df_dipo2[this_full_dipole]\n",
    "            ax0.plot(timefs,tot_signal)\n",
    "            \n",
    "            dt = time[1]-time[0]\n",
    "            t = time\n",
    "            x = df_dipo2[this_full_dipole]\n",
    "\n",
    "            fft_array, freq = fft_artisanal(np.array(t),np.array(x))\n",
    "            \n",
    "            # I record the full dft for signal in x,y or z\n",
    "            fran_df_freq['DFT-{}{}'.format(this_full_dipole,mask_or_not)] = np.abs(fft_array)\n",
    "\n",
    "            #second panel is big components\n",
    "            threshold = np.linalg.norm(tot_signal)*0.05 # 5% of the norm\n",
    "            big_components = [ x for x in full_list_this_cart if np.linalg.norm(df_dipo2[x]) > threshold or x in ['trans_x_0_1', 'trans_y_0_1', 'trans_z_0_1'] ] # the one which contributes more than 5% to the norm\n",
    "            print(big_components)\n",
    "\n",
    "            fran_df_dipole[this_full_dipole] = df_dipo2[this_full_dipole]\n",
    "\n",
    "            for this_lab in big_components:\n",
    "                ax1.plot(timefs, df_dipo2[this_lab], label=this_lab)\n",
    "\n",
    "\n",
    "\n",
    "        # THIS PART FOR DFT\n",
    "                dt = time[1]-time[0]\n",
    "\n",
    "                t = time\n",
    "                x = df_dipo2[this_lab]\n",
    "\n",
    "                fft_array, freq = fft_artisanal(np.array(t),np.array(x))\n",
    "    #             print(fft_array.shape, freq.shape)\n",
    "\n",
    "                ev_freq = qp.fromHartoEv(freq)\n",
    "                abs_fft_array = np.abs(fft_array)\n",
    "                ax2.plot(ev_freq, abs_fft_array, label=this_lab)\n",
    "\n",
    "                # add the things into Francoise df\n",
    "    #             print(df_dipo2[this_lab].shape,fft_array.shape)\n",
    "                fran_df_dipole['{}{}'.format(this_lab,mask_or_not)] = df_dipo2[this_lab]\n",
    "                fran_df_freq['DFT-{}{}'.format(this_lab,mask_or_not)] = abs_fft_array\n",
    "\n",
    "\n",
    "\n",
    "        # #  THOSE LINES TO DEBUG WITH GNUPLOT\n",
    "        # #     degub_fodler = '/home/alessio/Desktop/'\n",
    "\n",
    "        # #     np.savetxt(os.path.join(degub_fodler,'file1'),a)\n",
    "        # #     np.savetxt(os.path.join(degub_fodler,'file2'),b)\n",
    "\n",
    "\n",
    "            ax1.legend(ncol=5)\n",
    "            ax1.set_xlabel('fs')\n",
    "            ax2.legend(ncol=5)\n",
    "            ax2.set_xlabel('eV')\n",
    "            ax0.set_title('{} - Dipole{} {}'.format(this_folder,mask_or_not,cart))\n",
    "            fig.tight_layout()\n",
    "\n",
    "        # this needs to be ONCE in the df of Francoise\n",
    "        fran_df_dipole['time fs'] = timefs\n",
    "        fran_df_freq['DFT-Frequencies eV'] = ev_freq\n",
    "        fran_df_dipole = reorder_dataframe_last_first(fran_df_dipole)\n",
    "        fran_df_freq = reorder_dataframe_last_first(fran_df_freq)\n",
    "\n",
    "        fran_df_dipole.to_csv(os.path.join(outputFolder,'{}_dipoles{}.csv'.format(this_folder,mask_or_not)))\n",
    "        fran_df_freq.to_csv(os.path.join(outputFolder,'{}_dipoles_DFT{}.csv'.format(this_folder,mask_or_not)))\n",
    "\n",
    "    \n",
    "process_folder(subfolders[0],fol,outputFolder)    \n",
    "process_folder(subfolders[1],fol,outputFolder)\n",
    "process_folder(subfolders[2],fol,outputFolder)\n",
    "process_folder(subfolders[3],fol,outputFolder)\n",
    "process_folder(subfolders[16],fol,outputFolder)"
   ]
  },
  {
   "cell_type": "markdown",
   "metadata": {},
   "source": [
    "# Try to clean signal part"
   ]
  },
  {
   "cell_type": "code",
   "execution_count": 6,
   "metadata": {},
   "outputs": [],
   "source": [
    "# def adjust_signal(sig,ext):\n",
    "#     sig_size = sig.size\n",
    "#     array_value = np.zeros(ext)\n",
    "#     sig_array = np.array(dipz)\n",
    "#     flipped = np.flip(sig_array,axis=0)\n",
    "    \n",
    "#     output_signal = np.concatenate((array_value,flipped,sig_array,array_value))\n",
    "#     return(output_signal)\n",
    "\n",
    "# def adjust_time(time,full_length):\n",
    "#     time_size = time.size\n",
    "#     time_final_value = time[time_size-1]\n",
    "#     total_time = np.linspace(-time_final_value,time_final_value,full_length)\n",
    "#     return(total_time)\n",
    "    \n",
    "\n",
    "\n",
    "# sig_ext = adjust_signal(dipz,1000)\n",
    "# time_ext = adjust_time(time,10002)"
   ]
  },
  {
   "cell_type": "code",
   "execution_count": 64,
   "metadata": {},
   "outputs": [
    {
     "name": "stdout",
     "output_type": "stream",
     "text": [
      "Index(['Unnamed: 0', 'time fs', 'dipx', 'trans_x_0_1', 'trans_x_1_2',\n",
      "       'trans_x_1_3', 'trans_x_1_4', 'dipy', 'trans_y_0_1', 'trans_y_1_2',\n",
      "       'trans_y_1_3', 'trans_y_1_4', 'trans_y_1_5', 'trans_y_2_3',\n",
      "       'trans_y_6_7', 'dipz', 'perm_z_0', 'perm_z_1', 'trans_z_0_1',\n",
      "       'trans_z_1_4'],\n",
      "      dtype='object') Index(['Unnamed: 0', 'DFT-Frequencies eV', 'DFT-dipx', 'DFT-trans_x_0_1',\n",
      "       'DFT-trans_x_1_2', 'DFT-trans_x_1_3', 'DFT-trans_x_1_4', 'DFT-dipy',\n",
      "       'DFT-trans_y_0_1', 'DFT-trans_y_1_2', 'DFT-trans_y_1_3',\n",
      "       'DFT-trans_y_1_4', 'DFT-trans_y_1_5', 'DFT-trans_y_2_3',\n",
      "       'DFT-trans_y_6_7', 'DFT-dipz', 'DFT-perm_z_0', 'DFT-perm_z_1',\n",
      "       'DFT-trans_z_0_1', 'DFT-trans_z_1_4'],\n",
      "      dtype='object')\n"
     ]
    }
   ],
   "source": [
    "file1 = '/home/alessio/w-August-Run/OUTPUTS/b-UV-0.22_0000_dipoles.csv'\n",
    "file2 = '/home/alessio/w-August-Run/OUTPUTS/b-UV-0.22_0000_dipoles_DFT.csv'\n",
    "df1 = pd.read_csv(file1)\n",
    "df2 = pd.read_csv(file2)\n",
    "print(df1.keys(), df2.keys())\n",
    "signal_time = df1['time fs']\n",
    "signal = df1['dipx']\n",
    "\n",
    "ff_freq = df2['DFT-Frequencies eV']\n",
    "ff_signal = df2['DFT-dipx']"
   ]
  },
  {
   "cell_type": "code",
   "execution_count": 65,
   "metadata": {},
   "outputs": [
    {
     "name": "stderr",
     "output_type": "stream",
     "text": [
      "/home/alessio/config/miniconda/envs/quantumpropagator/lib/python3.5/site-packages/matplotlib/pyplot.py:523: RuntimeWarning: More than 20 figures have been opened. Figures created through the pyplot interface (`matplotlib.pyplot.figure`) are retained until explicitly closed and may consume too much memory. (To control this warning, see the rcParam `figure.max_open_warning`).\n",
      "  max_open_warning, RuntimeWarning)\n"
     ]
    },
    {
     "data": {
      "application/vnd.jupyter.widget-view+json": {
       "model_id": "",
       "version_major": 2,
       "version_minor": 0
      },
      "text/plain": [
       "A Jupyter Widget"
      ]
     },
     "metadata": {},
     "output_type": "display_data"
    },
    {
     "data": {
      "text/plain": [
       "(0, 10)"
      ]
     },
     "execution_count": 65,
     "metadata": {},
     "output_type": "execute_result"
    }
   ],
   "source": [
    "fig, [ax0,ax1] = plt.subplots(2,1,figsize = (12,16))\n",
    "ax0.plot(signal_time,signal)\n",
    "ax1.plot(ff_freq,ff_signal)\n",
    "ax1.set_xlim(0,10)"
   ]
  },
  {
   "cell_type": "code",
   "execution_count": 66,
   "metadata": {},
   "outputs": [
    {
     "name": "stdout",
     "output_type": "stream",
     "text": [
      "(2001,) (2001,)\n",
      "(4001,) (4001,)\n"
     ]
    },
    {
     "name": "stderr",
     "output_type": "stream",
     "text": [
      "/home/alessio/config/miniconda/envs/quantumpropagator/lib/python3.5/site-packages/matplotlib/pyplot.py:523: RuntimeWarning: More than 20 figures have been opened. Figures created through the pyplot interface (`matplotlib.pyplot.figure`) are retained until explicitly closed and may consume too much memory. (To control this warning, see the rcParam `figure.max_open_warning`).\n",
      "  max_open_warning, RuntimeWarning)\n"
     ]
    },
    {
     "data": {
      "application/vnd.jupyter.widget-view+json": {
       "model_id": "",
       "version_major": 2,
       "version_minor": 0
      },
      "text/plain": [
       "A Jupyter Widget"
      ]
     },
     "metadata": {},
     "output_type": "display_data"
    },
    {
     "data": {
      "text/plain": [
       "(0, 10)"
      ]
     },
     "execution_count": 66,
     "metadata": {},
     "output_type": "execute_result"
    }
   ],
   "source": [
    "def pythonfft(signal_time,signal):\n",
    "    aaa = abs(np.fft.fft(signal))\n",
    "    time_au = qp.fromFsToAu(signal_time)\n",
    "    dt = time_au[1]- time_au[0]\n",
    "    bb = np.fft.fftfreq(time_au.size)\n",
    "\n",
    "    time_au_max = np.amax(time_au)\n",
    "    bbb = qp.fromHartoEv(bb*2*np.pi/dt)\n",
    "    indexes = np.where(bb>=0)\n",
    "    return(bbb[indexes],aaa[indexes])\n",
    "\n",
    "#print(np.amax(bbb), np.amax(ff_freq), np.amax(ff_freq)/np.amax(bbb))\n",
    "\n",
    "bbb,aaa = pythonfft(signal_time,signal)\n",
    "print(bbb.shape,aaa.shape)\n",
    "print(signal.shape, signal_time.shape)\n",
    "fig, ax0 = plt.subplots(1,1,figsize = (10,6))\n",
    "\n",
    "ax0.plot(bbb,aaa)\n",
    "ax0.plot(ff_freq,ff_signal)\n",
    "ax0.set_xlim(0,10)"
   ]
  },
  {
   "cell_type": "code",
   "execution_count": 71,
   "metadata": {},
   "outputs": [
    {
     "name": "stdout",
     "output_type": "stream",
     "text": [
      "Index(['Unnamed: 0', 'DFT-Frequencies eV', 'DFT-dipx', 'DFT-trans_x_0_1',\n",
      "       'DFT-trans_x_1_2', 'DFT-trans_x_1_3', 'DFT-trans_x_1_4', 'DFT-dipy',\n",
      "       'DFT-trans_y_0_1', 'DFT-trans_y_1_2', 'DFT-trans_y_1_3',\n",
      "       'DFT-trans_y_1_4', 'DFT-trans_y_1_5', 'DFT-trans_y_2_3',\n",
      "       'DFT-trans_y_6_7', 'DFT-dipz', 'DFT-perm_z_0', 'DFT-perm_z_1',\n",
      "       'DFT-trans_z_0_1', 'DFT-trans_z_1_4'],\n",
      "      dtype='object') Index(['Unnamed: 0', 'DFT-Frequencies eV', 'DFT-dipx_CI_Mask',\n",
      "       'DFT-perm_x_1_CI_Mask', 'DFT-trans_x_0_1_CI_Mask',\n",
      "       'DFT-trans_x_1_2_CI_Mask', 'DFT-trans_x_1_3_CI_Mask',\n",
      "       'DFT-trans_x_1_4_CI_Mask', 'DFT-trans_x_1_5_CI_Mask',\n",
      "       'DFT-trans_x_2_4_CI_Mask', 'DFT-trans_x_2_5_CI_Mask',\n",
      "       'DFT-dipy_CI_Mask', 'DFT-trans_y_0_1_CI_Mask',\n",
      "       'DFT-trans_y_1_2_CI_Mask', 'DFT-trans_y_1_3_CI_Mask',\n",
      "       'DFT-trans_y_1_4_CI_Mask', 'DFT-trans_y_1_5_CI_Mask',\n",
      "       'DFT-trans_y_2_3_CI_Mask', 'DFT-trans_y_2_4_CI_Mask',\n",
      "       'DFT-dipz_CI_Mask', 'DFT-perm_z_1_CI_Mask', 'DFT-perm_z_2_CI_Mask',\n",
      "       'DFT-trans_z_0_1_CI_Mask'],\n",
      "      dtype='object')\n"
     ]
    }
   ],
   "source": [
    "file1 = '/home/alessio/w-August-Run/OUTPUTS/b-UV-0.22_0000_dipoles_DFT.csv'\n",
    "file2 = '/home/alessio/w-August-Run/OUTPUTS/b-UV-0.22_0000_dipoles_DFT_CI_Mask.csv'\n",
    "df1 = pd.read_csv(file1)\n",
    "df2 = pd.read_csv(file2)\n",
    "print(df1.keys(),df2.keys())"
   ]
  },
  {
   "cell_type": "code",
   "execution_count": 75,
   "metadata": {},
   "outputs": [
    {
     "name": "stderr",
     "output_type": "stream",
     "text": [
      "/home/alessio/config/miniconda/envs/quantumpropagator/lib/python3.5/site-packages/matplotlib/pyplot.py:523: RuntimeWarning: More than 20 figures have been opened. Figures created through the pyplot interface (`matplotlib.pyplot.figure`) are retained until explicitly closed and may consume too much memory. (To control this warning, see the rcParam `figure.max_open_warning`).\n",
      "  max_open_warning, RuntimeWarning)\n"
     ]
    },
    {
     "data": {
      "application/vnd.jupyter.widget-view+json": {
       "model_id": "0de08bdbf4bb4466bb28f148d6c4c829",
       "version_major": 2,
       "version_minor": 0
      },
      "text/plain": [
       "A Jupyter Widget"
      ]
     },
     "metadata": {},
     "output_type": "display_data"
    },
    {
     "data": {
      "text/plain": [
       "(0, 10)"
      ]
     },
     "execution_count": 75,
     "metadata": {},
     "output_type": "execute_result"
    }
   ],
   "source": [
    "fig, ax0 = plt.subplots(1,1,figsize = (12,8))\n",
    "ax0.plot(df2['DFT-Frequencies eV'],df2['DFT-trans_x_0_1_CI_Mask'])\n",
    "ax1 = ax0.twinx()\n",
    "ax1.plot(df1['DFT-Frequencies eV'],df1['DFT-trans_x_0_1'],color='r')\n",
    "ax0.set_xlim(0,10)\n",
    "ax1.set_xlim(0,10)"
   ]
  },
  {
   "cell_type": "code",
   "execution_count": null,
   "metadata": {},
   "outputs": [],
   "source": []
  }
 ],
 "metadata": {
  "kernelspec": {
   "display_name": "Python 3",
   "language": "python",
   "name": "python3"
  },
  "language_info": {
   "codemirror_mode": {
    "name": "ipython",
    "version": 3
   },
   "file_extension": ".py",
   "mimetype": "text/x-python",
   "name": "python",
   "nbconvert_exporter": "python",
   "pygments_lexer": "ipython3",
   "version": "3.5.4"
  }
 },
 "nbformat": 4,
 "nbformat_minor": 2
}
