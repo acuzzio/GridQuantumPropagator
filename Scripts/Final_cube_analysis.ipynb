{
 "cells": [
  {
   "cell_type": "markdown",
   "metadata": {},
   "source": [
    "# Final cube analysis"
   ]
  },
  {
   "cell_type": "code",
   "execution_count": 1,
   "metadata": {},
   "outputs": [
    {
     "data": {
      "text/html": [
       "<style>.container { width:100% !important; }</style>"
      ],
      "text/plain": [
       "<IPython.core.display.HTML object>"
      ]
     },
     "metadata": {},
     "output_type": "display_data"
    },
    {
     "data": {
      "text/plain": [
       "dict_keys(['phis', 'gams', 'thes', 'geoCUBE', 'potCube', 'smoCube', 'kinCube', 'dipCUBE'])"
      ]
     },
     "execution_count": 1,
     "metadata": {},
     "output_type": "execute_result"
    }
   ],
   "source": [
    "from IPython.core.display import display, HTML\n",
    "display(HTML(\"<style>.container { width:100% !important; }</style>\"))\n",
    "\n",
    "%matplotlib notebook\n",
    "from mpl_toolkits.mplot3d import axes3d\n",
    "import matplotlib.pyplot as plt\n",
    "from ipywidgets import interact,fixed #, interactive, fixed, interact_manual\n",
    "import ipywidgets as widgets\n",
    "\n",
    "\n",
    "import pickle\n",
    "\n",
    "name_data_file = 'newExtrapolated_allCorrection.pickle'\n",
    "\n",
    "with open(name_data_file, \"rb\") as input_file:\n",
    "    data = pickle.load(input_file)\n",
    "\n",
    "data.keys()"
   ]
  },
  {
   "cell_type": "markdown",
   "metadata": {},
   "source": [
    "## Coordinates"
   ]
  },
  {
   "cell_type": "code",
   "execution_count": 7,
   "metadata": {},
   "outputs": [
    {
     "name": "stdout",
     "output_type": "stream",
     "text": [
      "         Labels extr.        internal extr.     dq      range\n",
      "Phi ->   0.1250  -0.1450  12.5000 -14.5000  -0.5000  27.0000\n",
      "Gam ->   0.4294   0.1344  24.6050   7.7030  -0.3070  16.9020\n",
      "The ->   0.5806   1.2008  66.5340 137.6000   0.4470 -71.0660\n"
     ]
    }
   ],
   "source": [
    "from quantumpropagator import fromLabelsToFloats, labTranformA\n",
    "\n",
    "phis_ext = labTranformA(data['phis'])\n",
    "gams_ext = labTranformA(data['gams'])\n",
    "thes_ext = labTranformA(data['thes'])\n",
    "\n",
    "phiV_ext, gamV_ext, theV_ext = fromLabelsToFloats(data)\n",
    "\n",
    "# take step\n",
    "dphi = phis_ext[0] - phis_ext[1]\n",
    "dgam = gams_ext[0] - gams_ext[1]\n",
    "dthe = thes_ext[0] - thes_ext[1]\n",
    "\n",
    "# take range\n",
    "range_phi = phis_ext[-1] - phis_ext[0]\n",
    "range_gam = gams_ext[-1] - gams_ext[0]\n",
    "range_the = thes_ext[-1] - thes_ext[0]\n",
    "\n",
    "\n",
    "header = '         Labels extr.        internal extr.     dq      range\\n'\n",
    "string = 'Phi -> {:8.4f} {:8.4f} {:8.4f} {:8.4f} {:8.4f} {:8.4f}\\nGam -> {:8.4f} {:8.4f} {:8.4f} {:8.4f} {:8.4f} {:8.4f}\\nThe -> {:8.4f} {:8.4f} {:8.4f} {:8.4f} {:8.4f} {:8.4f}'\n",
    "out = (header + string).format(phiV_ext[-1],phiV_ext[0],phis_ext[-1],phis_ext[0],dphi,range_phi,\n",
    "                               gamV_ext[-1],gamV_ext[0],gams_ext[-1],gams_ext[0],dgam,range_gam,\n",
    "                               theV_ext[-1],theV_ext[0],thes_ext[-1],thes_ext[0],dthe,range_the)\n",
    "print(out)"
   ]
  },
  {
   "cell_type": "markdown",
   "metadata": {},
   "source": [
    "## NACS visualization"
   ]
  },
  {
   "cell_type": "code",
   "execution_count": 3,
   "metadata": {
    "collapsed": true
   },
   "outputs": [],
   "source": [
    "nacs = data['smoCube']"
   ]
  },
  {
   "cell_type": "code",
   "execution_count": 4,
   "metadata": {},
   "outputs": [
    {
     "data": {
      "text/plain": [
       "((25, 26, 100, 8, 8, 3), (55, 56, 160, 8, 8, 3))"
      ]
     },
     "execution_count": 4,
     "metadata": {},
     "output_type": "execute_result"
    }
   ],
   "source": [
    "# take out zeros\n",
    "NACS = nacs[15:-15,15:-15,30:-30]\n",
    "phis = phis_ext[15:-15]\n",
    "gams = gams_ext[15:-15]\n",
    "thes = thes_ext[30:-30]\n",
    "phiV = phiV_ext[15:-15]\n",
    "gamV = gamV_ext[15:-15]\n",
    "theV = theV_ext[30:-30]\n",
    "# select the two states\n",
    "NACS.shape, nacs.shape"
   ]
  },
  {
   "cell_type": "code",
   "execution_count": 5,
   "metadata": {
    "scrolled": false
   },
   "outputs": [
    {
     "data": {
      "application/vnd.jupyter.widget-view+json": {
       "model_id": "cf4755675a4f4baf850074dd99921bd1",
       "version_major": 2,
       "version_minor": 0
      },
      "text/plain": [
       "A Jupyter Widget"
      ]
     },
     "metadata": {},
     "output_type": "display_data"
    }
   ],
   "source": [
    "def do3dplot(xs,ys,zss):\n",
    "    'with mesh function'\n",
    "    fig = plt.figure(figsize=(9,9))\n",
    "    ax = fig.add_subplot(111, projection='3d')\n",
    "    X,Y = np.meshgrid(ys,xs)\n",
    "    #ax.set_zlim(-1, 1)\n",
    "    #ax.scatter(X, Y, zss)\n",
    "    ax.plot_wireframe(X, Y, zss)\n",
    "    fig.tight_layout()\n",
    "\n",
    "def visualize_this_thing(thing,state1,state2,cart,kind,dim):\n",
    "    print(thing.shape)\n",
    "\n",
    "    along = ['Phi','Gam','The']\n",
    "    print('NAC between state ({},{}) along {}\\nDoing cut in {} with value ({:8.4f},{:8.4f})'.format(state1,\n",
    "                                                                state2,\n",
    "                                                                along[cart],\n",
    "                                                                kind,\n",
    "                                                                dimV[kind][dim],\n",
    "                                                                dims[kind][dim]))\n",
    "    if kind == 'Phi':\n",
    "        pot = thing[dim,:,:,state1,state2,cart]\n",
    "        print('\\nLooking at SMO with indexes [{},:,:,{},{},{}]'.format(dim, state1,state2,cart))\n",
    "        do3dplot(gams,thes,pot)\n",
    "    elif kind == 'Gam':\n",
    "        print('\\nLooking at SMO with indexes [:,{},:,{},{},{}]'.format(dim, state1,state2,cart))\n",
    "        pot = thing[:,dim,:,state1,state2,cart]\n",
    "        do3dplot(phis,thes,pot)\n",
    "    elif kind == 'The':\n",
    "        print('\\nLooking at SMO with indexes [:,:,{},{},{},{}]'.format(dim, state1,state2,cart))\n",
    "        pot = thing[:,:,dim,state1,state2,cart]\n",
    "        do3dplot(phis,gams,pot)\n",
    "\n",
    "\n",
    "dimV = { 'Phi': phiV, 'Gam': gamV, 'The': theV } # real values\n",
    "dims = { 'Phi': phis, 'Gam': gams, 'The': thes } # for labels\n",
    "\n",
    "kinds = ['Phi','Gam','The']\n",
    "\n",
    "def fun_pot2D(kind,state1, state2, cart,dim):\n",
    "    visualize_this_thing(NACS, state1, state2, cart, kind, dim)\n",
    "    \n",
    "def nested(kinds):\n",
    "    dimensionV = dimV[kinds]\n",
    "    interact(fun_pot2D, kind=fixed(kinds), state1 = widgets.IntSlider(min=0,max=7,step=1,value=0), state2 = widgets.IntSlider(min=0,max=7,step=1,value=0), cart = widgets.IntSlider(min=0,max=2,step=1,value=0), dim = widgets.IntSlider(min=0,max=(len(dimensionV)-1),step=1,value=0))\n",
    "\n",
    "interact(nested, kinds = ['Phi','Gam','The']);"
   ]
  },
  {
   "cell_type": "code",
   "execution_count": 6,
   "metadata": {},
   "outputs": [
    {
     "data": {
      "text/plain": [
       "(55, 56, 160, 15, 3)"
      ]
     },
     "execution_count": 6,
     "metadata": {},
     "output_type": "execute_result"
    }
   ],
   "source": [
    "data['geoCUBE'].shape"
   ]
  },
  {
   "cell_type": "markdown",
   "metadata": {
    "collapsed": true,
    "scrolled": false
   },
   "source": [
    "# DIPOLES visualization"
   ]
  },
  {
   "cell_type": "code",
   "execution_count": 8,
   "metadata": {},
   "outputs": [
    {
     "data": {
      "text/plain": [
       "((55, 56, 160, 3, 8, 8), (25, 26, 100, 3, 8, 8))"
      ]
     },
     "execution_count": 8,
     "metadata": {},
     "output_type": "execute_result"
    }
   ],
   "source": [
    "dipo = data['dipCUBE']\n",
    "DIPO = dipo[15:-15,15:-15,30:-30]\n",
    "dipo.shape, DIPO.shape"
   ]
  },
  {
   "cell_type": "code",
   "execution_count": 9,
   "metadata": {},
   "outputs": [
    {
     "data": {
      "application/vnd.jupyter.widget-view+json": {
       "model_id": "cf94602d999b4a0c8a67326e621dbe15",
       "version_major": 2,
       "version_minor": 0
      },
      "text/plain": [
       "A Jupyter Widget"
      ]
     },
     "metadata": {},
     "output_type": "display_data"
    }
   ],
   "source": [
    "def do3dplot(xs,ys,zss):\n",
    "    'with mesh function'\n",
    "    fig = plt.figure(figsize=(9,9))\n",
    "    ax = fig.add_subplot(111, projection='3d')\n",
    "    X,Y = np.meshgrid(ys,xs)\n",
    "    #ax.set_zlim(-1, 1)\n",
    "    #ax.scatter(X, Y, zss)\n",
    "    ax.plot_wireframe(X, Y, zss)\n",
    "    fig.tight_layout()\n",
    "\n",
    "def visualize_this_thing(thing,state1,state2,cart,kind,dim):\n",
    "    print(thing.shape)\n",
    "\n",
    "    along = ['X','Y','Z']\n",
    "    print('DIPOLE between state ({},{}) along {}\\nDoing cut in {} with value ({:8.4f},{:8.4f})'.format(state1,\n",
    "                                                                state2,\n",
    "                                                                along[cart],\n",
    "                                                                kind,\n",
    "                                                                dimV[kind][dim],\n",
    "                                                                dims[kind][dim]))\n",
    "    if kind == 'Phi':\n",
    "        pot = thing[dim,:,:,cart,state1,state2]\n",
    "        print('\\nLooking at DIPOLE with indexes [{},:,:,{},{},{}]'.format(dim,cart,state1,state2))\n",
    "        do3dplot(gams,thes,pot)\n",
    "    elif kind == 'Gam':\n",
    "        print('\\nLooking at DIPOLE with indexes [:,{},:,{},{},{}]'.format(dim,cart,state1,state2))\n",
    "        pot = thing[:,dim,:,cart,state1,state2]\n",
    "        do3dplot(phis,thes,pot)\n",
    "    elif kind == 'The':\n",
    "        print('\\nLooking at DIPOLE with indexes [:,:,{},{},{},{}]'.format(dim,cart,state1,state2))\n",
    "        pot = thing[:,:,dim,cart,state1,state2]\n",
    "        do3dplot(phis,gams,pot)\n",
    "\n",
    "\n",
    "dimV = { 'Phi': phiV, 'Gam': gamV, 'The': theV } # real values\n",
    "dims = { 'Phi': phis, 'Gam': gams, 'The': thes } # for labels\n",
    "\n",
    "kinds = ['Phi','Gam','The']\n",
    "\n",
    "def fun_pot2D(kind,state1, state2, cart,dim):\n",
    "    visualize_this_thing(DIPO, state1, state2, cart, kind, dim)\n",
    "    \n",
    "def nested(kinds):\n",
    "    dimensionV = dimV[kinds]\n",
    "    interact(fun_pot2D, kind=fixed(kinds), state1 = widgets.IntSlider(min=0,max=7,step=1,value=0), state2 = widgets.IntSlider(min=0,max=7,step=1,value=0), cart = widgets.IntSlider(min=0,max=2,step=1,value=0), dim = widgets.IntSlider(min=0,max=(len(dimensionV)-1),step=1,value=0))\n",
    "\n",
    "interact(nested, kinds = ['Phi','Gam','The']);"
   ]
  },
  {
   "cell_type": "code",
   "execution_count": 10,
   "metadata": {},
   "outputs": [
    {
     "data": {
      "text/plain": [
       "(29, 28, 55, 0)"
      ]
     },
     "execution_count": 10,
     "metadata": {},
     "output_type": "execute_result"
    }
   ],
   "source": [
    "pot = data['potCube'] - data['potCube'].min()\n",
    "A = pot\n",
    "# find the minimum index having the shape\n",
    "np.unravel_index(A.argmin(), A.shape)"
   ]
  },
  {
   "cell_type": "code",
   "execution_count": 10,
   "metadata": {},
   "outputs": [
    {
     "data": {
      "text/plain": [
       "(25, 26, 100, 8, 8, 3)"
      ]
     },
     "execution_count": 10,
     "metadata": {},
     "output_type": "execute_result"
    }
   ],
   "source": [
    "NACS.shape"
   ]
  },
  {
   "cell_type": "code",
   "execution_count": 11,
   "metadata": {
    "collapsed": true
   },
   "outputs": [],
   "source": [
    "B = NACS[1,:,:,0,1,0]"
   ]
  },
  {
   "cell_type": "code",
   "execution_count": 12,
   "metadata": {
    "collapsed": true
   },
   "outputs": [],
   "source": [
    "index = np.unravel_index(B.argmax(), B.shape)"
   ]
  },
  {
   "cell_type": "code",
   "execution_count": 13,
   "metadata": {},
   "outputs": [
    {
     "data": {
      "text/plain": [
       "((7, 81), 4.605073601526367e-05, 4.605073601526367e-05)"
      ]
     },
     "execution_count": 13,
     "metadata": {},
     "output_type": "execute_result"
    }
   ],
   "source": [
    "index, B[index], NACS[1,7,81,0,1,0]"
   ]
  },
  {
   "cell_type": "code",
   "execution_count": 14,
   "metadata": {},
   "outputs": [
    {
     "data": {
      "text/plain": [
       "4.605073601526367e-05"
      ]
     },
     "execution_count": 14,
     "metadata": {},
     "output_type": "execute_result"
    }
   ],
   "source": [
    "nacs[16,22,111,0,1,0]"
   ]
  },
  {
   "cell_type": "markdown",
   "metadata": {},
   "source": [
    "## temporary cells for last correction sign"
   ]
  },
  {
   "cell_type": "code",
   "execution_count": 15,
   "metadata": {
    "collapsed": true
   },
   "outputs": [],
   "source": [
    "# npy = '/home/alessio/Desktop/NAC_CORRECTION_NOVEMBER2018/dataprova.npy'\n",
    "# dictio = np.load(npy)[()]\n",
    "# dictio.keys()"
   ]
  },
  {
   "cell_type": "code",
   "execution_count": 16,
   "metadata": {
    "collapsed": true
   },
   "outputs": [],
   "source": [
    "# NACS2 = dictio['nacCUBE']\n",
    "# NACS2.shape"
   ]
  },
  {
   "cell_type": "code",
   "execution_count": 17,
   "metadata": {
    "collapsed": true
   },
   "outputs": [],
   "source": [
    "# def do3dplot(xs,ys,zss):\n",
    "#     'with mesh function'\n",
    "#     fig = plt.figure(figsize=(9,9))\n",
    "#     ax = fig.add_subplot(111, projection='3d')\n",
    "#     X,Y = np.meshgrid(ys,xs)\n",
    "#     #ax.set_zlim(-1, 1)\n",
    "#     #ax.scatter(X, Y, zss)\n",
    "#     ax.plot_wireframe(X, Y, zss)\n",
    "#     fig.tight_layout()\n",
    "\n",
    "# def visualize_this_thing(thing,state1,state2,cart,kind,dim):\n",
    "#     print(thing.shape)\n",
    "#     print('\\nWARNING, this is not fully correct!!! Not SMO and not really what you think\\n')\n",
    "\n",
    "#     along = ['Phi','Gam','The']\n",
    "#     print('NAC between state ({},{}) along {}\\nDoing cut in {} with value ({:8.4f},{:8.4f})'.format(state1,\n",
    "#                                                                 state2,\n",
    "#                                                                 along[cart],\n",
    "#                                                                 kind,\n",
    "#                                                                 dimV[kind][dim],\n",
    "#                                                                 dims[kind][dim]))\n",
    "#     if kind == 'Phi':\n",
    "#         pot = thing[dim,:,:,state1,state2,0,cart]\n",
    "#         print('\\nLooking at SMO with indexes [{},:,:,{},{},{}]'.format(dim, state1,state2,cart))\n",
    "#         do3dplot(gams,thes,pot)\n",
    "#     elif kind == 'Gam':\n",
    "#         print('\\nLooking at SMO with indexes [:,{},:,{},{},{}]'.format(dim, state1,state2,cart))\n",
    "#         pot = thing[:,dim,:,state1,state2,0,cart]\n",
    "#         do3dplot(phis,thes,pot)\n",
    "#     elif kind == 'The':\n",
    "#         print('\\nLooking at SMO with indexes [:,:,{},{},{},{}]'.format(dim, state1,state2,cart))\n",
    "#         pot = thing[:,:,dim,state1,state2,0,cart]\n",
    "#         do3dplot(phis,gams,pot)\n",
    "\n",
    "\n",
    "# dimV = { 'Phi': phiV, 'Gam': gamV, 'The': theV } # real values\n",
    "# dims = { 'Phi': phis, 'Gam': gams, 'The': thes } # for labels\n",
    "\n",
    "# kinds = ['Phi','Gam','The']\n",
    "\n",
    "# def fun_pot2D(kind,state1, state2, cart,dim):\n",
    "#     visualize_this_thing(NACS2, state1, state2, cart, kind, dim)\n",
    "    \n",
    "# def nested(kinds):\n",
    "#     dimensionV = dimV[kinds]\n",
    "#     interact(fun_pot2D, kind=fixed(kinds), state1 = widgets.IntSlider(min=0,max=7,step=1,value=0), state2 = widgets.IntSlider(min=0,max=7,step=1,value=0), cart = widgets.IntSlider(min=0,max=2,step=1,value=0), dim = widgets.IntSlider(min=0,max=(len(dimensionV)-1),step=1,value=0))\n",
    "\n",
    "# interact(nested, kinds = ['Phi','Gam','The']);"
   ]
  },
  {
   "cell_type": "markdown",
   "metadata": {},
   "source": [
    "# sign flipper on extrapolated SMO cube\n",
    "you used the cells below to correct NAC on the main plane... it was still flipping"
   ]
  },
  {
   "cell_type": "code",
   "execution_count": 18,
   "metadata": {},
   "outputs": [
    {
     "data": {
      "text/plain": [
       "dict_keys(['kinCube', 'thes', 'potCube', 'phis', 'geoCUBE', 'smoCube', 'gams', 'dipCUBE'])"
      ]
     },
     "execution_count": 18,
     "metadata": {},
     "output_type": "execute_result"
    }
   ],
   "source": [
    "data.keys()"
   ]
  },
  {
   "cell_type": "code",
   "execution_count": 19,
   "metadata": {
    "collapsed": true
   },
   "outputs": [],
   "source": [
    "data_new = data"
   ]
  },
  {
   "cell_type": "code",
   "execution_count": 20,
   "metadata": {},
   "outputs": [
    {
     "data": {
      "text/plain": [
       "((25, 26, 100, 8, 8, 3), (55, 56, 160, 8, 8, 3))"
      ]
     },
     "execution_count": 20,
     "metadata": {},
     "output_type": "execute_result"
    }
   ],
   "source": [
    "nacs_new = data['smoCube']\n",
    "NACS_new = nacs_new[15:-15,15:-15,30:-30]\n",
    "NACS_new.shape,nacs_new.shape"
   ]
  },
  {
   "cell_type": "code",
   "execution_count": 21,
   "metadata": {
    "collapsed": true,
    "scrolled": false
   },
   "outputs": [],
   "source": [
    "phi_ext_000_000 = 29\n",
    "phi_prev = 28\n",
    "phi_next = 30\n",
    "\n",
    "new_nacs = np.copy(nacs)\n",
    "\n",
    "for g in range(56):\n",
    "    for t in range(160):\n",
    "        not_correct  = nacs[phi_ext_000_000,g,t]\n",
    "        correct_prev = nacs[phi_prev       ,g,t]\n",
    "        correct_next = nacs[phi_next       ,g,t]\n",
    "        #if np.linalg.norm(not_correct) > 0.001:\n",
    "        #        print('{} {}\\nThis {} \\nMiddle {}\\n After {}'.format(g,t,correct_prev[:,:,1], not_correct[:,:,1],correct_next[:,:,1]))\n",
    "        for state1 in range(8):\n",
    "            for state2 in range(8):\n",
    "                for cart in range(3):\n",
    "                    value_prev = correct_prev[state1,state2,cart]\n",
    "                    value_this = not_correct [state1,state2,cart]\n",
    "                    value_next = correct_next[state1,state2,cart]\n",
    "                    average = (value_prev + value_next)/2\n",
    "                    if np.sign(average) == np.sign(value_this):\n",
    "                        new_value = value_this\n",
    "                    else:\n",
    "                        new_value = -value_this \n",
    "                    new_nacs[phi_ext_000_000,g,t,state1,state2,cart] = new_value\n",
    "\n",
    "\n",
    "#                    if np.linalg.norm(not_correct[state1,state2,:]) > 0.0001:\n",
    "#                    print('{} {} {}, ({},{})\\nThis   {}\\nMiddle {}\\n After {}'.format(g,t,not_correct.shape,state1,state2,correct_prev[state1,state2,cart], not_correct[state1,state2,],correct_next[state1,state2,:]))\n"
   ]
  },
  {
   "cell_type": "code",
   "execution_count": 22,
   "metadata": {},
   "outputs": [
    {
     "data": {
      "application/vnd.jupyter.widget-view+json": {
       "model_id": "c021785a7cdc4ad9b501dc7cd63e04c3",
       "version_major": 2,
       "version_minor": 0
      },
      "text/plain": [
       "A Jupyter Widget"
      ]
     },
     "metadata": {},
     "output_type": "display_data"
    }
   ],
   "source": [
    "def do3dplot(xs,ys,zss):\n",
    "    'with mesh function'\n",
    "    fig = plt.figure(figsize=(9,9))\n",
    "    ax = fig.add_subplot(111, projection='3d')\n",
    "    X,Y = np.meshgrid(ys,xs)\n",
    "    #ax.set_zlim(-1, 1)\n",
    "    #ax.scatter(X, Y, zss)\n",
    "    ax.plot_wireframe(X, Y, zss)\n",
    "    fig.tight_layout()\n",
    "\n",
    "def visualize_this_thing(thing,state1,state2,cart,kind,dim):\n",
    "    print(thing.shape)\n",
    "\n",
    "    along = ['Phi','Gam','The']\n",
    "    print('NAC between state ({},{}) along {}\\nDoing cut in {} with value ({:8.4f},{:8.4f})'.format(state1,\n",
    "                                                                state2,\n",
    "                                                                along[cart],\n",
    "                                                                kind,\n",
    "                                                                dimV[kind][dim],\n",
    "                                                                dims[kind][dim]))\n",
    "    if kind == 'Phi':\n",
    "        pot = thing[dim,:,:,state1,state2,cart]\n",
    "        print('\\nLooking at SMO with indexes [{},:,:,{},{},{}]'.format(dim, state1,state2,cart))\n",
    "        do3dplot(gams_ext,thes_ext,pot)\n",
    "    elif kind == 'Gam':\n",
    "        print('\\nLooking at SMO with indexes [:,{},:,{},{},{}]'.format(dim, state1,state2,cart))\n",
    "        pot = thing[:,dim,:,state1,state2,cart]\n",
    "        do3dplot(phis_ext,thes_ext,pot)\n",
    "    elif kind == 'The':\n",
    "        print('\\nLooking at SMO with indexes [:,:,{},{},{},{}]'.format(dim, state1,state2,cart))\n",
    "        pot = thing[:,:,dim,state1,state2,cart]\n",
    "        do3dplot(phis_ext,gams_ext,pot)\n",
    "\n",
    "\n",
    "dimV = { 'Phi': phiV_ext, 'Gam': gamV_ext, 'The': theV_ext } # real values\n",
    "dims = { 'Phi': phis_ext, 'Gam': gams_ext, 'The': thes_ext } # for labels\n",
    "\n",
    "kinds = ['Phi','Gam','The']\n",
    "\n",
    "def fun_pot2D(kind,state1, state2, cart,dim):\n",
    "    visualize_this_thing(new_nacs, state1, state2, cart, kind, dim)\n",
    "    \n",
    "def nested(kinds):\n",
    "    dimensionV = dimV[kinds]\n",
    "    interact(fun_pot2D, kind=fixed(kinds), state1 = widgets.IntSlider(min=0,max=7,step=1,value=0), state2 = widgets.IntSlider(min=0,max=7,step=1,value=0), cart = widgets.IntSlider(min=0,max=2,step=1,value=0), dim = widgets.IntSlider(min=0,max=(len(dimensionV)-1),step=1,value=0))\n",
    "\n",
    "interact(nested, kinds = ['Phi','Gam','The']);"
   ]
  },
  {
   "cell_type": "code",
   "execution_count": 23,
   "metadata": {},
   "outputs": [
    {
     "data": {
      "text/plain": [
       "dict_keys(['kinCube', 'thes', 'potCube', 'phis', 'geoCUBE', 'smoCube', 'gams', 'dipCUBE'])"
      ]
     },
     "execution_count": 23,
     "metadata": {},
     "output_type": "execute_result"
    }
   ],
   "source": [
    "name_data_file_new = 'newExtrapolated_allCorrectionSECOND.pickle'\n",
    "data_new.keys()"
   ]
  },
  {
   "cell_type": "code",
   "execution_count": 24,
   "metadata": {
    "collapsed": true
   },
   "outputs": [],
   "source": [
    "\n",
    "data_new['smoCube'] = new_nacs\n",
    "\n",
    "pickle.dump( data_new, open( name_data_file_new, \"wb\" ) )"
   ]
  },
  {
   "cell_type": "code",
   "execution_count": null,
   "metadata": {
    "collapsed": true
   },
   "outputs": [],
   "source": []
  }
 ],
 "metadata": {
  "kernelspec": {
   "display_name": "Python 3",
   "language": "python",
   "name": "python3"
  },
  "language_info": {
   "codemirror_mode": {
    "name": "ipython",
    "version": 3
   },
   "file_extension": ".py",
   "mimetype": "text/x-python",
   "name": "python",
   "nbconvert_exporter": "python",
   "pygments_lexer": "ipython3",
   "version": "3.5.4"
  }
 },
 "nbformat": 4,
 "nbformat_minor": 2
}
