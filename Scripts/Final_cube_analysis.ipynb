{
 "cells": [
  {
   "cell_type": "markdown",
   "metadata": {},
   "source": [
    "# Final cube analysis"
   ]
  },
  {
   "cell_type": "code",
   "execution_count": 2,
   "metadata": {},
   "outputs": [
    {
     "data": {
      "text/html": [
       "<style>.container { width:100% !important; }</style>"
      ],
      "text/plain": [
       "<IPython.core.display.HTML object>"
      ]
     },
     "metadata": {},
     "output_type": "display_data"
    },
    {
     "data": {
      "text/plain": [
       "dict_keys(['dipCUBE', 'thes', 'potCube', 'gams', 'geoCUBE', 'kinCube', 'smoCube', 'phis'])"
      ]
     },
     "execution_count": 2,
     "metadata": {},
     "output_type": "execute_result"
    }
   ],
   "source": [
    "from IPython.core.display import display, HTML\n",
    "display(HTML(\"<style>.container { width:100% !important; }</style>\"))\n",
    "\n",
    "%matplotlib notebook\n",
    "from mpl_toolkits.mplot3d import axes3d\n",
    "import matplotlib.pyplot as plt\n",
    "from ipywidgets import interact,fixed #, interactive, fixed, interact_manual\n",
    "import ipywidgets as widgets\n",
    "\n",
    "\n",
    "import pickle\n",
    "\n",
    "name_data_file = 'newExtrapolated_allCorrection.pickle'\n",
    "\n",
    "with open(name_data_file, \"rb\") as input_file:\n",
    "    data = pickle.load(input_file)\n",
    "\n",
    "data.keys()"
   ]
  },
  {
   "cell_type": "markdown",
   "metadata": {},
   "source": [
    "## Coordinates"
   ]
  },
  {
   "cell_type": "code",
   "execution_count": 4,
   "metadata": {},
   "outputs": [
    {
     "name": "stdout",
     "output_type": "stream",
     "text": [
      "         Labels extr.        internal extr.     dq      range\n",
      "Phi ->   0.1250  -0.1450  12.5000 -14.5000  -0.5000  27.0000\n",
      "Gam ->   0.4294   0.1344  24.6050   7.7030  -0.3070  16.9020\n",
      "The ->   0.5806   1.2008  66.5340 137.6000   0.4470 -71.0660\n"
     ]
    }
   ],
   "source": [
    "from quantumpropagator import fromLabelsToFloats, labTranformA\n",
    "\n",
    "phis_ext = labTranformA(data['phis'])\n",
    "gams_ext = labTranformA(data['gams'])\n",
    "thes_ext = labTranformA(data['thes'])\n",
    "\n",
    "phiV_ext, gamV_ext, theV_ext = fromLabelsToFloats(data)\n",
    "\n",
    "# take step\n",
    "dphi = phis_ext[0] - phis_ext[1]\n",
    "dgam = gams_ext[0] - gams_ext[1]\n",
    "dthe = thes_ext[0] - thes_ext[1]\n",
    "\n",
    "# take range\n",
    "range_phi = phis_ext[-1] - phis_ext[0]\n",
    "range_gam = gams_ext[-1] - gams_ext[0]\n",
    "range_the = thes_ext[-1] - thes_ext[0]\n",
    "\n",
    "\n",
    "header = '         Labels extr.        internal extr.     dq      range\\n'\n",
    "string = 'Phi -> {:8.4f} {:8.4f} {:8.4f} {:8.4f} {:8.4f} {:8.4f}\\nGam -> {:8.4f} {:8.4f} {:8.4f} {:8.4f} {:8.4f} {:8.4f}\\nThe -> {:8.4f} {:8.4f} {:8.4f} {:8.4f} {:8.4f} {:8.4f}'\n",
    "out = (header + string).format(phiV_ext[-1],phiV_ext[0],phis_ext[-1],phis_ext[0],dphi,range_phi,\n",
    "                               gamV_ext[-1],gamV_ext[0],gams_ext[-1],gams_ext[0],dgam,range_gam,\n",
    "                               theV_ext[-1],theV_ext[0],thes_ext[-1],thes_ext[0],dthe,range_the)\n",
    "print(out)"
   ]
  },
  {
   "cell_type": "markdown",
   "metadata": {},
   "source": [
    "## NACS"
   ]
  },
  {
   "cell_type": "code",
   "execution_count": 5,
   "metadata": {
    "collapsed": true
   },
   "outputs": [],
   "source": [
    "nacs = data['smoCube']"
   ]
  },
  {
   "cell_type": "code",
   "execution_count": 6,
   "metadata": {},
   "outputs": [
    {
     "data": {
      "text/plain": [
       "(25, 26, 100, 8, 8, 3)"
      ]
     },
     "execution_count": 6,
     "metadata": {},
     "output_type": "execute_result"
    }
   ],
   "source": [
    "# take out zeros\n",
    "NACS = nacs[15:-15,15:-15,30:-30]\n",
    "phis = phis_ext[15:-15]\n",
    "gams = gams_ext[15:-15]\n",
    "thes = thes_ext[30:-30]\n",
    "phiV = phiV_ext[15:-15]\n",
    "gamV = gamV_ext[15:-15]\n",
    "theV = theV_ext[30:-30]\n",
    "# select the two states\n",
    "NACS.shape"
   ]
  },
  {
   "cell_type": "code",
   "execution_count": 23,
   "metadata": {
    "scrolled": false
   },
   "outputs": [
    {
     "data": {
      "application/vnd.jupyter.widget-view+json": {
       "model_id": "ffb5575121dc49069303bf2281f21bfb",
       "version_major": 2,
       "version_minor": 0
      },
      "text/plain": [
       "A Jupyter Widget"
      ]
     },
     "metadata": {},
     "output_type": "display_data"
    }
   ],
   "source": [
    "# x = gam_cut\n",
    "# y = the_cut\n",
    "# z = NACS[14,:,:,0,1,0]\n",
    "\n",
    "# print(x.shape,y.shape,z.shape)\n",
    "\n",
    "# do3dplot3(x,y,z)\n",
    "\n",
    "def do3dplot(xs,ys,zss):\n",
    "    'with mesh function'\n",
    "    fig = plt.figure(figsize=(15,15))\n",
    "    ax = fig.add_subplot(111, projection='3d')\n",
    "    X,Y = np.meshgrid(ys,xs)\n",
    "    #ax.plot_wireframe(X, Y, zss)\n",
    "    #ax.set_zlim(-1, 1)\n",
    "    ax.scatter(X, Y, zss)\n",
    "    fig.tight_layout()\n",
    "\n",
    "def visualize_this_thing(thing,state1,state2,cart,kind,dim):\n",
    "    along = ['X','Y','Z']\n",
    "    print('NAC between state ({},{}) along {}\\nDoing cut in {} with value ({:8.4f},{:8.4f})'.format(state1,\n",
    "                                                                state2,\n",
    "                                                                along[cart],\n",
    "                                                                kind,\n",
    "                                                                dimV[kind][dim],\n",
    "                                                                dims[kind][dim]))\n",
    "    if kind == 'Phi':\n",
    "        pot = thing[dim,:,:,state1,state2,cart]\n",
    "        do3dplot(gams,thes,pot)\n",
    "    elif kind == 'Gam':\n",
    "        pot = thing[:,dim,:,state1,state2,cart]\n",
    "        do3dplot(phis,thes,pot)\n",
    "    elif kind == 'The':\n",
    "        pot = thing[:,:,dim,state1,state2,cart]\n",
    "        do3dplot(phis,gams,pot)\n",
    "\n",
    "\n",
    "dimV = { 'Phi': phiV, 'Gam': gamV, 'The': theV } # real values\n",
    "dims = { 'Phi': phis, 'Gam': gams, 'The': thes } # for labels\n",
    "\n",
    "kinds = ['Phi','Gam','The']\n",
    "\n",
    "def fun_pot2D(kind,state1, state2, cart,dim):\n",
    "    visualize_this_thing(NACS, state1, state2, cart, kind, dim)\n",
    "    \n",
    "def nested(kinds):\n",
    "    dimensionV = dimV[kinds]\n",
    "    interact(fun_pot2D, kind=fixed(kinds), state1 = widgets.IntSlider(min=0,max=7,step=1,value=0), state2 = widgets.IntSlider(min=0,max=7,step=1,value=0), cart = widgets.IntSlider(min=0,max=2,step=1,value=0), dim = widgets.IntSlider(min=0,max=(len(dimensionV)-1),step=1,value=0))\n",
    "\n",
    "interact(nested, kinds = ['Phi','Gam','The']);"
   ]
  },
  {
   "cell_type": "code",
   "execution_count": 18,
   "metadata": {},
   "outputs": [
    {
     "data": {
      "text/plain": [
       "array([[  4.04597268e-08,  -3.49140478e-08,  -2.95418643e-08, ...,\n",
       "         -2.13436756e-06,  -2.07177930e-06,  -2.00882829e-06],\n",
       "       [  4.06693628e-08,  -3.71023989e-08,  -3.31405568e-08, ...,\n",
       "         -2.73444046e-06,  -2.56953881e-06,  -2.42564174e-06],\n",
       "       [  3.94965162e-08,  -3.68149229e-08,  -3.38706852e-08, ...,\n",
       "         -2.97215331e-06,  -2.73292210e-06,  -2.53691730e-06],\n",
       "       ..., \n",
       "       [  1.40518214e-09,   1.39969692e-09,   1.39463242e-09, ...,\n",
       "          4.27511971e-07,   3.99941935e-07,   3.70174966e-07],\n",
       "       [  2.64428964e-09,   2.61623817e-09,   2.59660038e-09, ...,\n",
       "          3.14458887e-07,   2.98931246e-07,   2.80273306e-07],\n",
       "       [  4.67634665e-09,   4.63746292e-09,   4.77349482e-09, ...,\n",
       "          1.97693327e-07,   1.87425240e-07,   1.74431909e-07]])"
      ]
     },
     "execution_count": 18,
     "metadata": {},
     "output_type": "execute_result"
    }
   ],
   "source": [
    "NACS[:,10,:,0,1,0]"
   ]
  },
  {
   "cell_type": "code",
   "execution_count": null,
   "metadata": {
    "collapsed": true
   },
   "outputs": [],
   "source": []
  }
 ],
 "metadata": {
  "kernelspec": {
   "display_name": "Python 3",
   "language": "python",
   "name": "python3"
  },
  "language_info": {
   "codemirror_mode": {
    "name": "ipython",
    "version": 3
   },
   "file_extension": ".py",
   "mimetype": "text/x-python",
   "name": "python",
   "nbconvert_exporter": "python",
   "pygments_lexer": "ipython3",
   "version": "3.5.4"
  }
 },
 "nbformat": 4,
 "nbformat_minor": 2
}
