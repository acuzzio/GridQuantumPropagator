{
 "cells": [
  {
   "cell_type": "code",
   "execution_count": 1,
   "metadata": {
    "ExecuteTime": {
     "end_time": "2019-06-24T20:05:13.747601Z",
     "start_time": "2019-06-24T20:04:57.538352Z"
    },
    "hide_input": false
   },
   "outputs": [
    {
     "name": "stdout",
     "output_type": "stream",
     "text": [
      "no display found. Using non-interactive Agg backend\n"
     ]
    },
    {
     "data": {
      "text/html": [
       "<style>.container { width:100% !important; }</style>"
      ],
      "text/plain": [
       "<IPython.core.display.HTML object>"
      ]
     },
     "metadata": {},
     "output_type": "display_data"
    },
    {
     "name": "stdout",
     "output_type": "stream",
     "text": [
      "everything loaded\n"
     ]
    }
   ],
   "source": [
    "import quantumpropagator as qp\n",
    "from ipywidgets import interactive, interact, HBox, Layout, VBox\n",
    "import pandas as pd\n",
    "import os\n",
    "from tqdm import tqdm_notebook as tqdm\n",
    "import ipywidgets as widgets\n",
    "from ipywidgets import interact, fixed\n",
    "from mpl_toolkits.mplot3d import axes3d\n",
    "import matplotlib.pyplot as plt\n",
    "import numpy as np\n",
    "#%matplotlib inline\n",
    "%matplotlib widget\n",
    "#%matplotlib notebook\n",
    "# import seaborn\n",
    "# from IPython.core.interactiveshell import InteractiveShell\n",
    "#InteractiveShell.ast_node_interactivity = \"all\"\n",
    "\n",
    "pd.options.display.max_rows = 5\n",
    "pd.options.display.max_columns = 90\n",
    "\n",
    "print ('everything loaded')"
   ]
  },
  {
   "cell_type": "code",
   "execution_count": 2,
   "metadata": {
    "ExecuteTime": {
     "end_time": "2019-06-19T19:03:05.265546Z",
     "start_time": "2019-06-19T19:03:05.250556Z"
    },
    "hide_input": false
   },
   "outputs": [
    {
     "name": "stdout",
     "output_type": "stream",
     "text": [
      " 0 -> Old-m-only-IR-middle140\n",
      " 1 -> b-UV-0.22_0000\n",
      " 2 -> d-experiments_smooth01_0000\n",
      " 3 -> d-experiments_smooth10_0000\n",
      " 4 -> experiment_alessio_0000\n",
      " 5 -> m-IR-Polarized-NOR_0000\n",
      " 6 -> m-only_IR_middle140-9331_0000\n",
      " 7 -> m-only_IR_middle140_0000\n",
      " 8 -> m-only_IR_middle140_div10_0000\n",
      " 9 -> position-from1_0000\n",
      "10 -> position-from1_mult_0000\n",
      "11 -> position-from2_0000\n",
      "12 -> position-from2_mult_0000\n",
      "13 -> position-from3_0000\n",
      "14 -> position-from3_mult_0000\n",
      "15 -> position-from4_0000\n",
      "16 -> position-from4_mult_0000\n",
      "17 -> position-from5_0000\n",
      "18 -> position-from6_0000\n",
      "19 -> position-from7_0000\n",
      "20 -> smoothing_only_17_0000\n",
      "21 -> smoothing_only_9_0000\n",
      "22 -> smoothing_only_NOT_smoothed_0000\n",
      "23 -> y-IR140-S0notdivided_0000\n",
      "24 -> y-IR_140_nac0_0000\n",
      "25 -> y-UV-S0notdivided_0000\n",
      "26 -> z-from1_0000\n",
      "\n"
     ]
    }
   ],
   "source": [
    "fol = 'C:\\\\Users\\\\utente\\\\Desktop\\\\DATA\\\\USA'\n",
    "subfolders = sorted([dir for dir in os.listdir(\n",
    "    fol) if os.path.isdir(os.path.join(fol, dir))])\n",
    "print(''.join(['{:2} -> {}\\n'.format(a, b) for a, b in enumerate(subfolders)]))"
   ]
  },
  {
   "cell_type": "code",
   "execution_count": 3,
   "metadata": {
    "ExecuteTime": {
     "end_time": "2019-06-19T19:03:12.011160Z",
     "start_time": "2019-06-19T19:03:11.987175Z"
    },
    "hide_input": false
   },
   "outputs": [],
   "source": [
    "def from_folder_to_dataframe(folder):\n",
    "    '''\n",
    "    this function returns the dataframe given a folder\n",
    "    '''\n",
    "    project_folder = os.path.abspath(folder)\n",
    "    output_norm = os.path.join(project_folder, 'output')\n",
    "    output_popu = os.path.join(project_folder, 'outputPopul')\n",
    "    output_csv = os.path.join(project_folder,os.path.basename(folder) + '.csv')\n",
    "\n",
    "    df_norm = pd.read_csv(output_norm, delim_whitespace=True, index_col=0, names=[\n",
    "                          'counter', 'steps', 'fs', 'Norm deviation', 'Kinetic', 'Potential', 'Total', 'Total Deviation', 'Xpulse', 'Ypulse', 'Zpulse', 'AbZino'])\n",
    "    df_popu = pd.read_csv(output_popu, delim_whitespace=True, names=[\n",
    "                          'fs', 'S0', 'S1', 'S2', 'S3', 'S4', 'S5', 'S6', 'S7'])\n",
    "    df_all = pd.concat([df_norm, df_popu], axis=1)\n",
    "\n",
    "    output_abso = os.path.join(project_folder, 'Output_Abs')\n",
    "    if os.path.isfile(output_abso):\n",
    "        df_abso = pd.read_csv(output_abso, delim_whitespace=True, names=[\n",
    "                              'Time AU', 'Abs Tot', 'Abs S0', 'Abs S1', 'Abs S2', 'Abs S3', 'Abs S4', 'Abs S5', 'Abs S6', 'Abs S7'])\n",
    "        df_all = pd.concat([df_all, df_abso], axis=1)\n",
    "    \n",
    "\n",
    "        AU_dt = qp.fromFsToAu(df_popu['fs'].iloc[1])\n",
    "        for electronic_state in ['Tot','S0','S1','S2','S3','S4','S5','S6','S7']:\n",
    "            df_all['P(t) {}'.format(electronic_state)] = -(np.cumsum(df_all['Abs {}'.format(electronic_state)])*AU_dt)\n",
    "\n",
    "    df_all.to_csv(output_csv)\n",
    "\n",
    "    return(df_all)"
   ]
  },
  {
   "cell_type": "markdown",
   "metadata": {},
   "source": [
    "# Smoothing effects"
   ]
  },
  {
   "cell_type": "code",
   "execution_count": 4,
   "metadata": {
    "ExecuteTime": {
     "end_time": "2019-06-19T19:35:06.971587Z",
     "start_time": "2019-06-19T19:35:06.960594Z"
    },
    "hide_input": false,
    "scrolled": false
   },
   "outputs": [],
   "source": [
    "def make_population_graphs(multiple_dataframes, names, rangeS):\n",
    "    for state in rangeS:\n",
    "        fig, ax0 = plt.subplots(1, 1, figsize=(10, 5))\n",
    "        ax0.set_xlabel('fs')\n",
    "        ax0.set_ylabel('Population')\n",
    "        ax0.set_ylim(0, 1.01)\n",
    "        #ax0.set_ylim(0, 0.3)\n",
    "        ax0.set_title(r'Population of $S_{}$'.format(state))\n",
    "        for i, df in enumerate(multiple_dataframes):\n",
    "            ax0.plot(df['fs'].iloc[:, 1],\n",
    "                     df['S{}'.format(state)], label=names[i])\n",
    "        ax0.legend()\n",
    "        fig.tight_layout()"
   ]
  },
  {
   "cell_type": "code",
   "execution_count": 5,
   "metadata": {
    "ExecuteTime": {
     "end_time": "2019-06-19T19:35:10.603230Z",
     "start_time": "2019-06-19T19:35:07.785387Z"
    }
   },
   "outputs": [
    {
     "data": {
      "application/vnd.jupyter.widget-view+json": {
       "model_id": "",
       "version_major": 2,
       "version_minor": 0
      },
      "text/plain": [
       "FigureCanvasNbAgg()"
      ]
     },
     "metadata": {},
     "output_type": "display_data"
    }
   ],
   "source": [
    "numbers = [0, 2, 21, 22]\n",
    "names = [subfolders[x] for x in numbers]\n",
    "names = ['$S_1/S_2$ manually changed', '17-9-9-1 Kernel', '9-3-3-1 Kernel', 'Original NACS']\n",
    "dfs = [from_folder_to_dataframe(\n",
    "    os.path.join(fol, subfolders[x])) for x in numbers]\n",
    "\n",
    "how_many_states = 1\n",
    "make_population_graphs(dfs, names, range(how_many_states))"
   ]
  },
  {
   "cell_type": "markdown",
   "metadata": {
    "hide_input": true
   },
   "source": [
    "# position runs"
   ]
  },
  {
   "cell_type": "markdown",
   "metadata": {},
   "source": [
    "## not multiplied"
   ]
  },
  {
   "cell_type": "code",
   "execution_count": 6,
   "metadata": {
    "ExecuteTime": {
     "end_time": "2019-06-19T19:35:25.350092Z",
     "start_time": "2019-06-19T19:35:24.662075Z"
    },
    "hide_input": false,
    "scrolled": true
   },
   "outputs": [
    {
     "data": {
      "application/vnd.jupyter.widget-view+json": {
       "model_id": "",
       "version_major": 2,
       "version_minor": 0
      },
      "text/plain": [
       "FigureCanvasNbAgg()"
      ]
     },
     "metadata": {},
     "output_type": "display_data"
    },
    {
     "data": {
      "application/vnd.jupyter.widget-view+json": {
       "model_id": "",
       "version_major": 2,
       "version_minor": 0
      },
      "text/plain": [
       "FigureCanvasNbAgg()"
      ]
     },
     "metadata": {},
     "output_type": "display_data"
    }
   ],
   "source": [
    "\n",
    "numbers = [9,11,13,15,17]\n",
    "\n",
    "names = ['1', '2', '3', '4', '5']\n",
    "dfs = [from_folder_to_dataframe(\n",
    "    os.path.join(fol, subfolders[x])) for x in numbers]\n",
    "how_many_states = 2\n",
    "make_population_graphs(dfs, names, range(how_many_states))"
   ]
  },
  {
   "cell_type": "markdown",
   "metadata": {},
   "source": [
    "## multiplied"
   ]
  },
  {
   "cell_type": "code",
   "execution_count": 7,
   "metadata": {
    "ExecuteTime": {
     "end_time": "2019-06-18T20:17:15.134317Z",
     "start_time": "2019-06-18T20:17:14.322571Z"
    },
    "hide_input": true,
    "scrolled": true
   },
   "outputs": [
    {
     "data": {
      "application/vnd.jupyter.widget-view+json": {
       "model_id": "",
       "version_major": 2,
       "version_minor": 0
      },
      "text/plain": [
       "FigureCanvasNbAgg()"
      ]
     },
     "metadata": {},
     "output_type": "display_data"
    },
    {
     "data": {
      "application/vnd.jupyter.widget-view+json": {
       "model_id": "",
       "version_major": 2,
       "version_minor": 0
      },
      "text/plain": [
       "FigureCanvasNbAgg()"
      ]
     },
     "metadata": {},
     "output_type": "display_data"
    }
   ],
   "source": [
    "numbers = [10,12,14,16]\n",
    "names = ['1 mult', '2 mult', '3 mult', '4 mult']\n",
    "dfs = [from_folder_to_dataframe(\n",
    "    os.path.join(fol, subfolders[x])) for x in numbers]\n",
    "\n",
    "how_many_states = 2\n",
    "make_population_graphs(dfs, names, range(how_many_states))"
   ]
  },
  {
   "cell_type": "markdown",
   "metadata": {},
   "source": [
    "# Cooking"
   ]
  },
  {
   "cell_type": "code",
   "execution_count": 8,
   "metadata": {
    "ExecuteTime": {
     "end_time": "2019-06-19T21:56:57.490003Z",
     "start_time": "2019-06-19T21:56:50.537886Z"
    },
    "scrolled": false
   },
   "outputs": [
    {
     "data": {
      "application/vnd.jupyter.widget-view+json": {
       "model_id": "",
       "version_major": 2,
       "version_minor": 0
      },
      "text/plain": [
       "FigureCanvasNbAgg()"
      ]
     },
     "metadata": {},
     "output_type": "display_data"
    },
    {
     "data": {
      "application/vnd.jupyter.widget-view+json": {
       "model_id": "",
       "version_major": 2,
       "version_minor": 0
      },
      "text/plain": [
       "FigureCanvasNbAgg()"
      ]
     },
     "metadata": {},
     "output_type": "display_data"
    },
    {
     "data": {
      "application/vnd.jupyter.widget-view+json": {
       "model_id": "",
       "version_major": 2,
       "version_minor": 0
      },
      "text/plain": [
       "FigureCanvasNbAgg()"
      ]
     },
     "metadata": {},
     "output_type": "display_data"
    },
    {
     "data": {
      "application/vnd.jupyter.widget-view+json": {
       "model_id": "",
       "version_major": 2,
       "version_minor": 0
      },
      "text/plain": [
       "FigureCanvasNbAgg()"
      ]
     },
     "metadata": {},
     "output_type": "display_data"
    },
    {
     "data": {
      "application/vnd.jupyter.widget-view+json": {
       "model_id": "",
       "version_major": 2,
       "version_minor": 0
      },
      "text/plain": [
       "FigureCanvasNbAgg()"
      ]
     },
     "metadata": {},
     "output_type": "display_data"
    },
    {
     "data": {
      "application/vnd.jupyter.widget-view+json": {
       "model_id": "",
       "version_major": 2,
       "version_minor": 0
      },
      "text/plain": [
       "FigureCanvasNbAgg()"
      ]
     },
     "metadata": {},
     "output_type": "display_data"
    },
    {
     "data": {
      "application/vnd.jupyter.widget-view+json": {
       "model_id": "",
       "version_major": 2,
       "version_minor": 0
      },
      "text/plain": [
       "FigureCanvasNbAgg()"
      ]
     },
     "metadata": {},
     "output_type": "display_data"
    },
    {
     "data": {
      "application/vnd.jupyter.widget-view+json": {
       "model_id": "",
       "version_major": 2,
       "version_minor": 0
      },
      "text/plain": [
       "FigureCanvasNbAgg()"
      ]
     },
     "metadata": {},
     "output_type": "display_data"
    }
   ],
   "source": [
    "# %matplotlib notebook\n",
    "desktop = 'C:\\\\Users\\\\utente\\\\Desktop'\n",
    "numbers = [2,3,8,23,4]\n",
    "names = [subfolders[x] for x in numbers]\n",
    "# d-experiments_smooth01_0000 d-experiments_smooth10_0000 m-only_IR_middle140_div10_0000 y-IR140-S0notdivided_0000\n",
    "names = ['D','E','C','F','experiment']\n",
    "\n",
    "dfs = [from_folder_to_dataframe(\n",
    "    os.path.join(fol, subfolders[x])) for x in numbers]\n",
    "\n",
    "how_many_states = 8\n",
    "\n",
    "for name, df in zip(names,dfs):\n",
    "    path_file = os.path.join(desktop,'{}.csv'.format(name))\n",
    "    df.to_csv()\n",
    "\n",
    "make_population_graphs(dfs, names, range(how_many_states))"
   ]
  },
  {
   "cell_type": "code",
   "execution_count": 9,
   "metadata": {
    "ExecuteTime": {
     "end_time": "2019-06-18T20:03:08.588820Z",
     "start_time": "2019-06-18T20:03:08.349709Z"
    }
   },
   "outputs": [
    {
     "data": {
      "application/vnd.jupyter.widget-view+json": {
       "model_id": "",
       "version_major": 2,
       "version_minor": 0
      },
      "text/plain": [
       "FigureCanvasNbAgg()"
      ]
     },
     "metadata": {},
     "output_type": "display_data"
    }
   ],
   "source": [
    "fig , ax0 = plt.subplots(1,1,figsize=(10,7));\n",
    "\n",
    "numbers = [2,3,8,23,4]\n",
    "# d-experiments_smooth01_0000 d-experiments_smooth10_0000 m-only_IR_middle140_div10_0000 y-IR140-S0notdivided_0000\n",
    "labels = ['D','E','C','F','experiment']\n",
    "\n",
    "displacements = [0.0176,-0.041,0,0,0]\n",
    "\n",
    "for x in range(len(numbers)):\n",
    "    ax0.plot(dfs[x]['fs'].iloc[:, 1], dfs[x]['S0']+displacements[x], label=labels[x])\n",
    "    ax0.legend()\n",
    "    ax0.set_xlabel('fs')\n",
    "    ax0.set_ylim(0.268,0.315)\n",
    "    ax0.set_xlim(20,200)\n",
    "    ax0.set_ylabel(r'population in $S_0$')\n",
    "    ax0.set_title(r'population in $S_0$ after the pulse')\n",
    "fig.tight_layout()\n"
   ]
  },
  {
   "cell_type": "code",
   "execution_count": 10,
   "metadata": {},
   "outputs": [
    {
     "data": {
      "application/vnd.jupyter.widget-view+json": {
       "model_id": "",
       "version_major": 2,
       "version_minor": 0
      },
      "text/plain": [
       "FigureCanvasNbAgg()"
      ]
     },
     "metadata": {},
     "output_type": "display_data"
    }
   ],
   "source": [
    "fig , [[ax0,ax1,b0,b1],[ax2,ax3,b2,b3]] = plt.subplots(2,4,figsize=(15,6),sharex=True, sharey=True);\n",
    "labels = names\n",
    "labels = ['D','E','C','F','exp']\n",
    "displacements = [0.0176,-0.041,0,0,-0.01]\n",
    "\n",
    "\n",
    "b0 = plt.subplot2grid((2, 4), (0, 2), rowspan=2, colspan=2)\n",
    "\n",
    "for x in range(len(numbers)):\n",
    "    ax0.plot(dfs[x]['fs'].iloc[:, 1], dfs[x]['S0'],label=labels[x])\n",
    "    ax0.set_ylim(0.0,1.01)\n",
    "    ax0.legend()\n",
    "    ax0.set_title(r'$S_0$')\n",
    "    ax1.plot(dfs[x]['fs'].iloc[:, 1], dfs[x]['S1'],label=labels[x])\n",
    "    ax1.set_ylim(0.0,1.01)\n",
    "    ax1.set_title(r'$S_1$')\n",
    "    ax2.plot(dfs[x]['fs'].iloc[:, 1], dfs[x]['S2'],label=labels[x])\n",
    "    ax2.set_ylim(0.0,1.01)\n",
    "    ax2.set_title(r'$S_2$')\n",
    "    ax3.plot(dfs[x]['fs'].iloc[:, 1], dfs[x]['S6'],label=labels[x])\n",
    "    ax3.set_ylim(0.0,1.01)\n",
    "    ax3.set_title(r'$S_6$')\n",
    "    \n",
    "    b0.plot(dfs[x]['fs'].iloc[:, 1], dfs[x]['S0']+displacements[x], label=labels[x])\n",
    "    b0.legend()\n",
    "    b0.set_xlabel('fs')\n",
    "    b0.set_ylim(0.268,0.315)\n",
    "    b0.set_xlim(20,200)\n",
    "    b0.set_ylabel(r'population in $S_0$')\n",
    "    b0.set_title(r'population in $S_0$ after the pulse')\n",
    "fig.tight_layout()\n",
    "#fig.savefig('C:\\\\Users\\\\utente\\\\Desktop\\\\Dropbox\\\\u-3dPropagation_manuscript\\\\Report\\\\images\\\\cooking.png')\n"
   ]
  },
  {
   "cell_type": "code",
   "execution_count": 11,
   "metadata": {
    "ExecuteTime": {
     "end_time": "2019-06-18T20:43:41.145110Z",
     "start_time": "2019-06-18T20:43:40.105751Z"
    }
   },
   "outputs": [],
   "source": [
    "numbers = [2,23]\n",
    "names = [subfolders[x] for x in numbers]\n",
    "# d-experiments_smooth01_0000 d-experiments_smooth10_0000 m-only_IR_middle140_div10_0000 y-IR140-S0notdivided_0000\n",
    "names = ['D','F']\n",
    "\n",
    "dfs = [from_folder_to_dataframe(\n",
    "    os.path.join(fol, subfolders[x])) for x in numbers]\n",
    "\n",
    "how_many_states = 8\n",
    "\n",
    "\n",
    "dfD, dfF = dfs"
   ]
  },
  {
   "cell_type": "code",
   "execution_count": 12,
   "metadata": {
    "ExecuteTime": {
     "end_time": "2019-06-18T22:21:25.378878Z",
     "start_time": "2019-06-18T22:21:24.743047Z"
    }
   },
   "outputs": [
    {
     "data": {
      "application/vnd.jupyter.widget-view+json": {
       "model_id": "",
       "version_major": 2,
       "version_minor": 0
      },
      "text/plain": [
       "FigureCanvasNbAgg()"
      ]
     },
     "metadata": {},
     "output_type": "display_data"
    }
   ],
   "source": [
    "fig, [[ax0,ax1],[ax2,ax3]] = plt.subplots(2,2,figsize=(13,8))\n",
    "colors = ['b', 'g', 'r', 'm', 'c', 'y', 'k', 'mediumpurple']\n",
    "here = dfD\n",
    "for state in [0,1,2,3,4,5,6,7]:\n",
    "    ax0.plot(here['fs'].iloc[:,1], here['S{}'.format(state)], label=r'$S_{}$'.format(state), color=colors[state])\n",
    "\n",
    "ax00 = ax0.twinx()\n",
    "ax00.plot(here['fs'].iloc[:,1], here['Xpulse'], label='X_pulse', ls='--', lw=.5)\n",
    "ax00.plot(here['fs'].iloc[:,1], here['Ypulse'], label='Y_pulse', ls='--', lw=.5)\n",
    "ax0.set_title('D')\n",
    "ax0.legend()\n",
    "\n",
    "here = dfF\n",
    "for state in [0,1,2,3,4,5,6,7]:\n",
    "    ax1.plot(here['fs'].iloc[:,1], here['S{}'.format(state)], label=r'$S_{}$'.format(state), color=colors[state])\n",
    "\n",
    "ax11 = ax1.twinx()\n",
    "ax11.plot(here['fs'].iloc[:,1], here['Xpulse'], label='X_pulse', ls='--', lw=.5)\n",
    "ax11.plot(here['fs'].iloc[:,1], here['Ypulse'], label='Y_pulse', ls='--', lw=.5)\n",
    "ax1.set_title('F')\n",
    "ax1.legend()\n",
    "\n",
    "ax2 = plt.subplot2grid((2, 2), (1, 0), colspan=2)\n",
    "\n",
    "for state in [0,1,2,3,4,5,6,7]:\n",
    "    ax2.plot(dfD['fs'].iloc[:,1], dfD['S{}'.format(state)], label=r'$S_{}$'.format(state), color=colors[state], lw=.5)\n",
    "    ax2.plot(dfF['fs'].iloc[:,1], dfF['S{}'.format(state)], label=r'$S_{}$'.format(state), color=colors[state], ls='--', lw=.5)\n",
    "\n",
    "ax2.set_title('D and F')\n",
    "\n",
    "\n",
    "fig.tight_layout()"
   ]
  },
  {
   "cell_type": "code",
   "execution_count": 13,
   "metadata": {
    "ExecuteTime": {
     "end_time": "2019-06-18T21:47:40.865533Z",
     "start_time": "2019-06-18T21:47:40.794575Z"
    }
   },
   "outputs": [
    {
     "data": {
      "text/html": [
       "<div>\n",
       "<style scoped>\n",
       "    .dataframe tbody tr th:only-of-type {\n",
       "        vertical-align: middle;\n",
       "    }\n",
       "\n",
       "    .dataframe tbody tr th {\n",
       "        vertical-align: top;\n",
       "    }\n",
       "\n",
       "    .dataframe thead th {\n",
       "        text-align: right;\n",
       "    }\n",
       "</style>\n",
       "<table border=\"1\" class=\"dataframe\">\n",
       "  <thead>\n",
       "    <tr style=\"text-align: right;\">\n",
       "      <th></th>\n",
       "      <th>steps</th>\n",
       "      <th>fs</th>\n",
       "      <th>Norm deviation</th>\n",
       "      <th>Kinetic</th>\n",
       "      <th>Potential</th>\n",
       "      <th>Total</th>\n",
       "      <th>Total Deviation</th>\n",
       "      <th>Xpulse</th>\n",
       "      <th>Ypulse</th>\n",
       "      <th>Zpulse</th>\n",
       "      <th>AbZino</th>\n",
       "      <th>fs</th>\n",
       "      <th>S0</th>\n",
       "      <th>S1</th>\n",
       "      <th>S2</th>\n",
       "      <th>S3</th>\n",
       "      <th>S4</th>\n",
       "      <th>S5</th>\n",
       "      <th>S6</th>\n",
       "      <th>S7</th>\n",
       "      <th>Time AU</th>\n",
       "      <th>Abs Tot</th>\n",
       "      <th>Abs S0</th>\n",
       "      <th>Abs S1</th>\n",
       "      <th>Abs S2</th>\n",
       "      <th>Abs S3</th>\n",
       "      <th>Abs S4</th>\n",
       "      <th>Abs S5</th>\n",
       "      <th>Abs S6</th>\n",
       "      <th>Abs S7</th>\n",
       "      <th>P(t) Tot</th>\n",
       "      <th>P(t) S0</th>\n",
       "      <th>P(t) S1</th>\n",
       "      <th>P(t) S2</th>\n",
       "      <th>P(t) S3</th>\n",
       "      <th>P(t) S4</th>\n",
       "      <th>P(t) S5</th>\n",
       "      <th>P(t) S6</th>\n",
       "      <th>P(t) S7</th>\n",
       "    </tr>\n",
       "  </thead>\n",
       "  <tbody>\n",
       "    <tr>\n",
       "      <th>0</th>\n",
       "      <td>0</td>\n",
       "      <td>0.000000</td>\n",
       "      <td>3.330669e-16</td>\n",
       "      <td>0.091654</td>\n",
       "      <td>0.091279</td>\n",
       "      <td>0.182933</td>\n",
       "      <td>0.000000e+00</td>\n",
       "      <td>6.018470e-07</td>\n",
       "      <td>-0.000003</td>\n",
       "      <td>0.0</td>\n",
       "      <td>-1.066187e-66</td>\n",
       "      <td>0.0000</td>\n",
       "      <td>1.000000</td>\n",
       "      <td>0.000000e+00</td>\n",
       "      <td>0.000000e+00</td>\n",
       "      <td>0.000000e+00</td>\n",
       "      <td>0.000000e+00</td>\n",
       "      <td>0.000000e+00</td>\n",
       "      <td>0.000000e+00</td>\n",
       "      <td>0.000000e+00</td>\n",
       "      <td>0.0000</td>\n",
       "      <td>-1.066190e-66</td>\n",
       "      <td>-1.066190e-66</td>\n",
       "      <td>0.000000e+00</td>\n",
       "      <td>0.000000e+00</td>\n",
       "      <td>0.000000e+00</td>\n",
       "      <td>0.000000e+00</td>\n",
       "      <td>0.000000e+00</td>\n",
       "      <td>0.000000e+00</td>\n",
       "      <td>0.000000e+00</td>\n",
       "      <td>2.208296e-66</td>\n",
       "      <td>2.208296e-66</td>\n",
       "      <td>-0.000000e+00</td>\n",
       "      <td>-0.000000e+00</td>\n",
       "      <td>-0.000000e+00</td>\n",
       "      <td>-0.000000e+00</td>\n",
       "      <td>-0.000000e+00</td>\n",
       "      <td>-0.000000e+00</td>\n",
       "      <td>-0.000000e+00</td>\n",
       "    </tr>\n",
       "    <tr>\n",
       "      <th>1</th>\n",
       "      <td>100</td>\n",
       "      <td>0.050050</td>\n",
       "      <td>1.741657e-08</td>\n",
       "      <td>0.091655</td>\n",
       "      <td>0.091278</td>\n",
       "      <td>0.182933</td>\n",
       "      <td>7.450631e-09</td>\n",
       "      <td>1.788736e-07</td>\n",
       "      <td>-0.000004</td>\n",
       "      <td>0.0</td>\n",
       "      <td>-1.066273e-66</td>\n",
       "      <td>0.0501</td>\n",
       "      <td>1.000000</td>\n",
       "      <td>1.901010e-12</td>\n",
       "      <td>3.668870e-09</td>\n",
       "      <td>2.496840e-10</td>\n",
       "      <td>2.404130e-10</td>\n",
       "      <td>9.419040e-10</td>\n",
       "      <td>5.769070e-10</td>\n",
       "      <td>1.476350e-09</td>\n",
       "      <td>2.0671</td>\n",
       "      <td>-1.066270e-66</td>\n",
       "      <td>-1.066270e-66</td>\n",
       "      <td>-4.681490e-72</td>\n",
       "      <td>-2.172220e-74</td>\n",
       "      <td>-7.164960e-76</td>\n",
       "      <td>-7.088750e-75</td>\n",
       "      <td>-1.748820e-74</td>\n",
       "      <td>-6.107180e-75</td>\n",
       "      <td>-8.409260e-74</td>\n",
       "      <td>4.416757e-66</td>\n",
       "      <td>4.416757e-66</td>\n",
       "      <td>9.696316e-72</td>\n",
       "      <td>4.499108e-74</td>\n",
       "      <td>1.484009e-75</td>\n",
       "      <td>1.468224e-74</td>\n",
       "      <td>3.622161e-74</td>\n",
       "      <td>1.264921e-74</td>\n",
       "      <td>1.741728e-73</td>\n",
       "    </tr>\n",
       "    <tr>\n",
       "      <th>...</th>\n",
       "      <td>...</td>\n",
       "      <td>...</td>\n",
       "      <td>...</td>\n",
       "      <td>...</td>\n",
       "      <td>...</td>\n",
       "      <td>...</td>\n",
       "      <td>...</td>\n",
       "      <td>...</td>\n",
       "      <td>...</td>\n",
       "      <td>...</td>\n",
       "      <td>...</td>\n",
       "      <td>...</td>\n",
       "      <td>...</td>\n",
       "      <td>...</td>\n",
       "      <td>...</td>\n",
       "      <td>...</td>\n",
       "      <td>...</td>\n",
       "      <td>...</td>\n",
       "      <td>...</td>\n",
       "      <td>...</td>\n",
       "      <td>...</td>\n",
       "      <td>...</td>\n",
       "      <td>...</td>\n",
       "      <td>...</td>\n",
       "      <td>...</td>\n",
       "      <td>...</td>\n",
       "      <td>...</td>\n",
       "      <td>...</td>\n",
       "      <td>...</td>\n",
       "      <td>...</td>\n",
       "      <td>...</td>\n",
       "      <td>...</td>\n",
       "      <td>...</td>\n",
       "      <td>...</td>\n",
       "      <td>...</td>\n",
       "      <td>...</td>\n",
       "      <td>...</td>\n",
       "      <td>...</td>\n",
       "      <td>...</td>\n",
       "    </tr>\n",
       "    <tr>\n",
       "      <th>3999</th>\n",
       "      <td>399900</td>\n",
       "      <td>200.150311</td>\n",
       "      <td>7.768910e-02</td>\n",
       "      <td>0.340407</td>\n",
       "      <td>3.766910</td>\n",
       "      <td>4.107318</td>\n",
       "      <td>-3.924385e+00</td>\n",
       "      <td>0.000000e+00</td>\n",
       "      <td>-0.000000</td>\n",
       "      <td>0.0</td>\n",
       "      <td>-1.384310e-05</td>\n",
       "      <td>200.1503</td>\n",
       "      <td>0.269247</td>\n",
       "      <td>1.487770e-01</td>\n",
       "      <td>1.224270e-01</td>\n",
       "      <td>9.583840e-02</td>\n",
       "      <td>4.587400e-02</td>\n",
       "      <td>4.657370e-02</td>\n",
       "      <td>9.827060e-02</td>\n",
       "      <td>2.365020e-02</td>\n",
       "      <td>8266.2078</td>\n",
       "      <td>-1.384310e-05</td>\n",
       "      <td>-3.001060e-06</td>\n",
       "      <td>-1.068970e-06</td>\n",
       "      <td>-2.229460e-06</td>\n",
       "      <td>-1.663510e-06</td>\n",
       "      <td>-2.182180e-06</td>\n",
       "      <td>-2.975320e-06</td>\n",
       "      <td>-3.057000e-07</td>\n",
       "      <td>-4.168960e-07</td>\n",
       "      <td>1.293178e-01</td>\n",
       "      <td>1.401046e-02</td>\n",
       "      <td>1.330160e-02</td>\n",
       "      <td>2.200517e-02</td>\n",
       "      <td>1.932773e-02</td>\n",
       "      <td>1.761958e-02</td>\n",
       "      <td>2.954225e-02</td>\n",
       "      <td>5.268524e-03</td>\n",
       "      <td>8.242518e-03</td>\n",
       "    </tr>\n",
       "    <tr>\n",
       "      <th>4000</th>\n",
       "      <td>399999</td>\n",
       "      <td>200.199861</td>\n",
       "      <td>7.770602e-02</td>\n",
       "      <td>0.340392</td>\n",
       "      <td>3.766700</td>\n",
       "      <td>4.107092</td>\n",
       "      <td>-3.924159e+00</td>\n",
       "      <td>0.000000e+00</td>\n",
       "      <td>-0.000000</td>\n",
       "      <td>0.0</td>\n",
       "      <td>-1.384129e-05</td>\n",
       "      <td>200.1999</td>\n",
       "      <td>0.269243</td>\n",
       "      <td>1.487750e-01</td>\n",
       "      <td>1.224940e-01</td>\n",
       "      <td>9.579620e-02</td>\n",
       "      <td>4.584260e-02</td>\n",
       "      <td>4.657950e-02</td>\n",
       "      <td>9.828960e-02</td>\n",
       "      <td>2.360630e-02</td>\n",
       "      <td>8268.2542</td>\n",
       "      <td>-1.384130e-05</td>\n",
       "      <td>-2.994170e-06</td>\n",
       "      <td>-1.068850e-06</td>\n",
       "      <td>-2.224500e-06</td>\n",
       "      <td>-1.668100e-06</td>\n",
       "      <td>-2.183810e-06</td>\n",
       "      <td>-2.979460e-06</td>\n",
       "      <td>-3.050740e-07</td>\n",
       "      <td>-4.173390e-07</td>\n",
       "      <td>1.293465e-01</td>\n",
       "      <td>1.401666e-02</td>\n",
       "      <td>1.330382e-02</td>\n",
       "      <td>2.200978e-02</td>\n",
       "      <td>1.933119e-02</td>\n",
       "      <td>1.762410e-02</td>\n",
       "      <td>2.954842e-02</td>\n",
       "      <td>5.269156e-03</td>\n",
       "      <td>8.243382e-03</td>\n",
       "    </tr>\n",
       "  </tbody>\n",
       "</table>\n",
       "<p>4001 rows × 39 columns</p>\n",
       "</div>"
      ],
      "text/plain": [
       "       steps          fs  Norm deviation   Kinetic  Potential     Total  \\\n",
       "0          0    0.000000    3.330669e-16  0.091654   0.091279  0.182933   \n",
       "1        100    0.050050    1.741657e-08  0.091655   0.091278  0.182933   \n",
       "...      ...         ...             ...       ...        ...       ...   \n",
       "3999  399900  200.150311    7.768910e-02  0.340407   3.766910  4.107318   \n",
       "4000  399999  200.199861    7.770602e-02  0.340392   3.766700  4.107092   \n",
       "\n",
       "      Total Deviation        Xpulse    Ypulse  Zpulse        AbZino        fs  \\\n",
       "0        0.000000e+00  6.018470e-07 -0.000003     0.0 -1.066187e-66    0.0000   \n",
       "1        7.450631e-09  1.788736e-07 -0.000004     0.0 -1.066273e-66    0.0501   \n",
       "...               ...           ...       ...     ...           ...       ...   \n",
       "3999    -3.924385e+00  0.000000e+00 -0.000000     0.0 -1.384310e-05  200.1503   \n",
       "4000    -3.924159e+00  0.000000e+00 -0.000000     0.0 -1.384129e-05  200.1999   \n",
       "\n",
       "            S0            S1            S2            S3            S4  \\\n",
       "0     1.000000  0.000000e+00  0.000000e+00  0.000000e+00  0.000000e+00   \n",
       "1     1.000000  1.901010e-12  3.668870e-09  2.496840e-10  2.404130e-10   \n",
       "...        ...           ...           ...           ...           ...   \n",
       "3999  0.269247  1.487770e-01  1.224270e-01  9.583840e-02  4.587400e-02   \n",
       "4000  0.269243  1.487750e-01  1.224940e-01  9.579620e-02  4.584260e-02   \n",
       "\n",
       "                S5            S6            S7    Time AU       Abs Tot  \\\n",
       "0     0.000000e+00  0.000000e+00  0.000000e+00     0.0000 -1.066190e-66   \n",
       "1     9.419040e-10  5.769070e-10  1.476350e-09     2.0671 -1.066270e-66   \n",
       "...            ...           ...           ...        ...           ...   \n",
       "3999  4.657370e-02  9.827060e-02  2.365020e-02  8266.2078 -1.384310e-05   \n",
       "4000  4.657950e-02  9.828960e-02  2.360630e-02  8268.2542 -1.384130e-05   \n",
       "\n",
       "            Abs S0        Abs S1        Abs S2        Abs S3        Abs S4  \\\n",
       "0    -1.066190e-66  0.000000e+00  0.000000e+00  0.000000e+00  0.000000e+00   \n",
       "1    -1.066270e-66 -4.681490e-72 -2.172220e-74 -7.164960e-76 -7.088750e-75   \n",
       "...            ...           ...           ...           ...           ...   \n",
       "3999 -3.001060e-06 -1.068970e-06 -2.229460e-06 -1.663510e-06 -2.182180e-06   \n",
       "4000 -2.994170e-06 -1.068850e-06 -2.224500e-06 -1.668100e-06 -2.183810e-06   \n",
       "\n",
       "            Abs S5        Abs S6        Abs S7      P(t) Tot       P(t) S0  \\\n",
       "0     0.000000e+00  0.000000e+00  0.000000e+00  2.208296e-66  2.208296e-66   \n",
       "1    -1.748820e-74 -6.107180e-75 -8.409260e-74  4.416757e-66  4.416757e-66   \n",
       "...            ...           ...           ...           ...           ...   \n",
       "3999 -2.975320e-06 -3.057000e-07 -4.168960e-07  1.293178e-01  1.401046e-02   \n",
       "4000 -2.979460e-06 -3.050740e-07 -4.173390e-07  1.293465e-01  1.401666e-02   \n",
       "\n",
       "           P(t) S1       P(t) S2       P(t) S3       P(t) S4       P(t) S5  \\\n",
       "0    -0.000000e+00 -0.000000e+00 -0.000000e+00 -0.000000e+00 -0.000000e+00   \n",
       "1     9.696316e-72  4.499108e-74  1.484009e-75  1.468224e-74  3.622161e-74   \n",
       "...            ...           ...           ...           ...           ...   \n",
       "3999  1.330160e-02  2.200517e-02  1.932773e-02  1.761958e-02  2.954225e-02   \n",
       "4000  1.330382e-02  2.200978e-02  1.933119e-02  1.762410e-02  2.954842e-02   \n",
       "\n",
       "           P(t) S6       P(t) S7  \n",
       "0    -0.000000e+00 -0.000000e+00  \n",
       "1     1.264921e-74  1.741728e-73  \n",
       "...            ...           ...  \n",
       "3999  5.268524e-03  8.242518e-03  \n",
       "4000  5.269156e-03  8.243382e-03  \n",
       "\n",
       "[4001 rows x 39 columns]"
      ]
     },
     "execution_count": 13,
     "metadata": {},
     "output_type": "execute_result"
    }
   ],
   "source": [
    "dfD"
   ]
  },
  {
   "cell_type": "code",
   "execution_count": 14,
   "metadata": {
    "ExecuteTime": {
     "end_time": "2019-06-18T21:51:41.650528Z",
     "start_time": "2019-06-18T21:51:41.268556Z"
    }
   },
   "outputs": [
    {
     "data": {
      "application/vnd.jupyter.widget-view+json": {
       "model_id": "",
       "version_major": 2,
       "version_minor": 0
      },
      "text/plain": [
       "FigureCanvasNbAgg()"
      ]
     },
     "metadata": {},
     "output_type": "display_data"
    }
   ],
   "source": [
    "fig, [[ax0,ax1],[ax2,ax3]] = plt.subplots(2,2,figsize=(13,8))\n",
    "colors = ['b', 'g', 'r', 'm', 'c', 'y', 'k', 'mediumpurple']\n",
    "\n",
    "ax0.plot(dfD['fs'].iloc[:,1], dfD['Abs S0'],label='D')\n",
    "ax0.plot(dfF['fs'].iloc[:,1], dfF['Abs S0'],label='F')\n",
    "ax0.set_title(r'Absorbed in $S_0$')\n",
    "\n",
    "ax1.plot(dfD['fs'].iloc[:,1], dfD['Abs Tot'])\n",
    "ax1.plot(dfF['fs'].iloc[:,1], dfF['Abs Tot'])\n",
    "ax1.set_title(r'Total Absorbed')\n",
    "\n",
    "ax2.plot(dfD['fs'].iloc[:,1], dfD['P(t) S0'])\n",
    "ax2.plot(dfF['fs'].iloc[:,1], dfF['P(t) S0'])\n",
    "ax2.set_title(r'P(t) absorbed in $S_0$')\n",
    "\n",
    "ax3.plot(dfD['fs'].iloc[:,1], dfD['P(t) Tot'])\n",
    "ax3.plot(dfF['fs'].iloc[:,1], dfF['P(t) Tot'])\n",
    "ax3.set_title(r'P(t) Total Absorbed')\n",
    "\n",
    "ax0.legend()\n",
    "\n",
    "fig.tight_layout();"
   ]
  },
  {
   "cell_type": "markdown",
   "metadata": {
    "hide_input": false
   },
   "source": [
    "# UV vs 140-long"
   ]
  },
  {
   "cell_type": "code",
   "execution_count": 15,
   "metadata": {
    "ExecuteTime": {
     "end_time": "2019-06-18T22:16:19.499684Z",
     "start_time": "2019-06-18T22:16:17.528377Z"
    },
    "scrolled": false
   },
   "outputs": [
    {
     "data": {
      "application/vnd.jupyter.widget-view+json": {
       "model_id": "",
       "version_major": 2,
       "version_minor": 0
      },
      "text/plain": [
       "FigureCanvasNbAgg()"
      ]
     },
     "metadata": {},
     "output_type": "display_data"
    },
    {
     "data": {
      "application/vnd.jupyter.widget-view+json": {
       "model_id": "",
       "version_major": 2,
       "version_minor": 0
      },
      "text/plain": [
       "FigureCanvasNbAgg()"
      ]
     },
     "metadata": {},
     "output_type": "display_data"
    },
    {
     "data": {
      "application/vnd.jupyter.widget-view+json": {
       "model_id": "",
       "version_major": 2,
       "version_minor": 0
      },
      "text/plain": [
       "FigureCanvasNbAgg()"
      ]
     },
     "metadata": {},
     "output_type": "display_data"
    },
    {
     "name": "stderr",
     "output_type": "stream",
     "text": [
      "C:\\ProgramData\\Anaconda3\\lib\\site-packages\\matplotlib\\pyplot.py:514: RuntimeWarning: More than 20 figures have been opened. Figures created through the pyplot interface (`matplotlib.pyplot.figure`) are retained until explicitly closed and may consume too much memory. (To control this warning, see the rcParam `figure.max_open_warning`).\n",
      "  max_open_warning, RuntimeWarning)\n"
     ]
    },
    {
     "data": {
      "application/vnd.jupyter.widget-view+json": {
       "model_id": "",
       "version_major": 2,
       "version_minor": 0
      },
      "text/plain": [
       "FigureCanvasNbAgg()"
      ]
     },
     "metadata": {},
     "output_type": "display_data"
    },
    {
     "name": "stderr",
     "output_type": "stream",
     "text": [
      "C:\\ProgramData\\Anaconda3\\lib\\site-packages\\matplotlib\\pyplot.py:514: RuntimeWarning: More than 20 figures have been opened. Figures created through the pyplot interface (`matplotlib.pyplot.figure`) are retained until explicitly closed and may consume too much memory. (To control this warning, see the rcParam `figure.max_open_warning`).\n",
      "  max_open_warning, RuntimeWarning)\n"
     ]
    },
    {
     "data": {
      "application/vnd.jupyter.widget-view+json": {
       "model_id": "",
       "version_major": 2,
       "version_minor": 0
      },
      "text/plain": [
       "FigureCanvasNbAgg()"
      ]
     },
     "metadata": {},
     "output_type": "display_data"
    },
    {
     "name": "stderr",
     "output_type": "stream",
     "text": [
      "C:\\ProgramData\\Anaconda3\\lib\\site-packages\\matplotlib\\pyplot.py:514: RuntimeWarning: More than 20 figures have been opened. Figures created through the pyplot interface (`matplotlib.pyplot.figure`) are retained until explicitly closed and may consume too much memory. (To control this warning, see the rcParam `figure.max_open_warning`).\n",
      "  max_open_warning, RuntimeWarning)\n"
     ]
    },
    {
     "data": {
      "application/vnd.jupyter.widget-view+json": {
       "model_id": "",
       "version_major": 2,
       "version_minor": 0
      },
      "text/plain": [
       "FigureCanvasNbAgg()"
      ]
     },
     "metadata": {},
     "output_type": "display_data"
    },
    {
     "name": "stderr",
     "output_type": "stream",
     "text": [
      "C:\\ProgramData\\Anaconda3\\lib\\site-packages\\matplotlib\\pyplot.py:514: RuntimeWarning: More than 20 figures have been opened. Figures created through the pyplot interface (`matplotlib.pyplot.figure`) are retained until explicitly closed and may consume too much memory. (To control this warning, see the rcParam `figure.max_open_warning`).\n",
      "  max_open_warning, RuntimeWarning)\n"
     ]
    },
    {
     "data": {
      "application/vnd.jupyter.widget-view+json": {
       "model_id": "",
       "version_major": 2,
       "version_minor": 0
      },
      "text/plain": [
       "FigureCanvasNbAgg()"
      ]
     },
     "metadata": {},
     "output_type": "display_data"
    },
    {
     "name": "stderr",
     "output_type": "stream",
     "text": [
      "C:\\ProgramData\\Anaconda3\\lib\\site-packages\\matplotlib\\pyplot.py:514: RuntimeWarning: More than 20 figures have been opened. Figures created through the pyplot interface (`matplotlib.pyplot.figure`) are retained until explicitly closed and may consume too much memory. (To control this warning, see the rcParam `figure.max_open_warning`).\n",
      "  max_open_warning, RuntimeWarning)\n"
     ]
    },
    {
     "data": {
      "application/vnd.jupyter.widget-view+json": {
       "model_id": "",
       "version_major": 2,
       "version_minor": 0
      },
      "text/plain": [
       "FigureCanvasNbAgg()"
      ]
     },
     "metadata": {},
     "output_type": "display_data"
    }
   ],
   "source": [
    "#%matplotlib notebook\n",
    "\n",
    "numbers = [23,25]\n",
    "# y-IR140-S0notdivided_0000 y-UV-S0notdivided_0000\n",
    "names = [subfolders[x] for x in numbers]\n",
    "names = ['140','UV']\n",
    "\n",
    "dfs = [from_folder_to_dataframe(\n",
    "    os.path.join(fol, subfolders[x])) for x in numbers]\n",
    "\n",
    "how_many_states = 8\n",
    "make_population_graphs(dfs, names, range(how_many_states))"
   ]
  },
  {
   "cell_type": "code",
   "execution_count": 21,
   "metadata": {
    "ExecuteTime": {
     "end_time": "2019-06-17T23:34:07.782897Z",
     "start_time": "2019-06-17T23:34:07.726934Z"
    }
   },
   "outputs": [
    {
     "data": {
      "text/html": [
       "<div>\n",
       "<style scoped>\n",
       "    .dataframe tbody tr th:only-of-type {\n",
       "        vertical-align: middle;\n",
       "    }\n",
       "\n",
       "    .dataframe tbody tr th {\n",
       "        vertical-align: top;\n",
       "    }\n",
       "\n",
       "    .dataframe thead th {\n",
       "        text-align: right;\n",
       "    }\n",
       "</style>\n",
       "<table border=\"1\" class=\"dataframe\">\n",
       "  <thead>\n",
       "    <tr style=\"text-align: right;\">\n",
       "      <th></th>\n",
       "      <th>steps</th>\n",
       "      <th>fs</th>\n",
       "      <th>Norm deviation</th>\n",
       "      <th>Kinetic</th>\n",
       "      <th>Potential</th>\n",
       "      <th>Total</th>\n",
       "      <th>Total Deviation</th>\n",
       "      <th>Xpulse</th>\n",
       "      <th>Ypulse</th>\n",
       "      <th>Zpulse</th>\n",
       "      <th>AbZino</th>\n",
       "      <th>fs</th>\n",
       "      <th>S0</th>\n",
       "      <th>S1</th>\n",
       "      <th>S2</th>\n",
       "      <th>S3</th>\n",
       "      <th>S4</th>\n",
       "      <th>S5</th>\n",
       "      <th>S6</th>\n",
       "      <th>S7</th>\n",
       "      <th>Time AU</th>\n",
       "      <th>Abs Tot</th>\n",
       "      <th>Abs S0</th>\n",
       "      <th>Abs S1</th>\n",
       "      <th>Abs S2</th>\n",
       "      <th>Abs S3</th>\n",
       "      <th>Abs S4</th>\n",
       "      <th>Abs S5</th>\n",
       "      <th>Abs S6</th>\n",
       "      <th>Abs S7</th>\n",
       "      <th>P(t) Tot</th>\n",
       "      <th>P(t) S0</th>\n",
       "      <th>P(t) S1</th>\n",
       "      <th>P(t) S2</th>\n",
       "      <th>P(t) S3</th>\n",
       "      <th>P(t) S4</th>\n",
       "      <th>P(t) S5</th>\n",
       "      <th>P(t) S6</th>\n",
       "      <th>P(t) S7</th>\n",
       "    </tr>\n",
       "  </thead>\n",
       "  <tbody>\n",
       "    <tr>\n",
       "      <th>0</th>\n",
       "      <td>0</td>\n",
       "      <td>0.000000</td>\n",
       "      <td>3.330669e-16</td>\n",
       "      <td>0.091654</td>\n",
       "      <td>0.091279</td>\n",
       "      <td>0.182933</td>\n",
       "      <td>0.000000e+00</td>\n",
       "      <td>6.018470e-07</td>\n",
       "      <td>-0.000003</td>\n",
       "      <td>0.0</td>\n",
       "      <td>-1.066187e-66</td>\n",
       "      <td>0.0000</td>\n",
       "      <td>1.000000</td>\n",
       "      <td>0.000000e+00</td>\n",
       "      <td>0.000000e+00</td>\n",
       "      <td>0.000000e+00</td>\n",
       "      <td>0.000000e+00</td>\n",
       "      <td>0.000000e+00</td>\n",
       "      <td>0.000000e+00</td>\n",
       "      <td>0.000000e+00</td>\n",
       "      <td>0.0000</td>\n",
       "      <td>-1.066190e-66</td>\n",
       "      <td>-1.066190e-66</td>\n",
       "      <td>0.000000e+00</td>\n",
       "      <td>0.000000e+00</td>\n",
       "      <td>0.000000e+00</td>\n",
       "      <td>0.000000e+00</td>\n",
       "      <td>0.000000e+00</td>\n",
       "      <td>0.000000e+00</td>\n",
       "      <td>0.000000e+00</td>\n",
       "      <td>2.208296e-66</td>\n",
       "      <td>2.208296e-66</td>\n",
       "      <td>-0.000000e+00</td>\n",
       "      <td>-0.000000e+00</td>\n",
       "      <td>-0.000000e+00</td>\n",
       "      <td>-0.000000e+00</td>\n",
       "      <td>-0.000000e+00</td>\n",
       "      <td>-0.000000e+00</td>\n",
       "      <td>-0.000000e+00</td>\n",
       "    </tr>\n",
       "    <tr>\n",
       "      <th>1</th>\n",
       "      <td>100</td>\n",
       "      <td>0.050050</td>\n",
       "      <td>1.741663e-08</td>\n",
       "      <td>0.091653</td>\n",
       "      <td>0.091280</td>\n",
       "      <td>0.182933</td>\n",
       "      <td>7.570760e-09</td>\n",
       "      <td>1.788736e-07</td>\n",
       "      <td>-0.000004</td>\n",
       "      <td>0.0</td>\n",
       "      <td>-1.067019e-66</td>\n",
       "      <td>0.0501</td>\n",
       "      <td>0.999999</td>\n",
       "      <td>4.710600e-07</td>\n",
       "      <td>1.546090e-13</td>\n",
       "      <td>1.635820e-16</td>\n",
       "      <td>3.232010e-14</td>\n",
       "      <td>1.960990e-13</td>\n",
       "      <td>3.367220e-13</td>\n",
       "      <td>2.497590e-12</td>\n",
       "      <td>2.0671</td>\n",
       "      <td>-1.067020e-66</td>\n",
       "      <td>-1.066420e-66</td>\n",
       "      <td>-6.011790e-70</td>\n",
       "      <td>-1.124400e-77</td>\n",
       "      <td>-1.176140e-79</td>\n",
       "      <td>-1.674370e-80</td>\n",
       "      <td>-2.406950e-81</td>\n",
       "      <td>-1.854890e-81</td>\n",
       "      <td>-7.420340e-82</td>\n",
       "      <td>4.418311e-66</td>\n",
       "      <td>4.417068e-66</td>\n",
       "      <td>1.245164e-69</td>\n",
       "      <td>2.328861e-77</td>\n",
       "      <td>2.436025e-79</td>\n",
       "      <td>3.467960e-80</td>\n",
       "      <td>4.985282e-81</td>\n",
       "      <td>3.841853e-81</td>\n",
       "      <td>1.536903e-81</td>\n",
       "    </tr>\n",
       "    <tr>\n",
       "      <th>...</th>\n",
       "      <td>...</td>\n",
       "      <td>...</td>\n",
       "      <td>...</td>\n",
       "      <td>...</td>\n",
       "      <td>...</td>\n",
       "      <td>...</td>\n",
       "      <td>...</td>\n",
       "      <td>...</td>\n",
       "      <td>...</td>\n",
       "      <td>...</td>\n",
       "      <td>...</td>\n",
       "      <td>...</td>\n",
       "      <td>...</td>\n",
       "      <td>...</td>\n",
       "      <td>...</td>\n",
       "      <td>...</td>\n",
       "      <td>...</td>\n",
       "      <td>...</td>\n",
       "      <td>...</td>\n",
       "      <td>...</td>\n",
       "      <td>...</td>\n",
       "      <td>...</td>\n",
       "      <td>...</td>\n",
       "      <td>...</td>\n",
       "      <td>...</td>\n",
       "      <td>...</td>\n",
       "      <td>...</td>\n",
       "      <td>...</td>\n",
       "      <td>...</td>\n",
       "      <td>...</td>\n",
       "      <td>...</td>\n",
       "      <td>...</td>\n",
       "      <td>...</td>\n",
       "      <td>...</td>\n",
       "      <td>...</td>\n",
       "      <td>...</td>\n",
       "      <td>...</td>\n",
       "      <td>...</td>\n",
       "      <td>...</td>\n",
       "    </tr>\n",
       "    <tr>\n",
       "      <th>3999</th>\n",
       "      <td>399900</td>\n",
       "      <td>200.150311</td>\n",
       "      <td>1.177907e-01</td>\n",
       "      <td>0.316253</td>\n",
       "      <td>3.219603</td>\n",
       "      <td>3.535856</td>\n",
       "      <td>-3.352923e+00</td>\n",
       "      <td>0.000000e+00</td>\n",
       "      <td>-0.000000</td>\n",
       "      <td>0.0</td>\n",
       "      <td>-2.088250e-05</td>\n",
       "      <td>200.1503</td>\n",
       "      <td>0.309529</td>\n",
       "      <td>1.215840e-01</td>\n",
       "      <td>9.023510e-02</td>\n",
       "      <td>8.410050e-02</td>\n",
       "      <td>5.621300e-02</td>\n",
       "      <td>4.842110e-02</td>\n",
       "      <td>5.028350e-02</td>\n",
       "      <td>1.792710e-02</td>\n",
       "      <td>8266.2078</td>\n",
       "      <td>-2.088250e-05</td>\n",
       "      <td>-5.482220e-06</td>\n",
       "      <td>-2.579830e-06</td>\n",
       "      <td>-4.060250e-06</td>\n",
       "      <td>-2.690450e-06</td>\n",
       "      <td>-3.036780e-06</td>\n",
       "      <td>-2.176630e-06</td>\n",
       "      <td>-3.626200e-07</td>\n",
       "      <td>-4.937140e-07</td>\n",
       "      <td>1.999339e-01</td>\n",
       "      <td>2.792528e-02</td>\n",
       "      <td>2.342225e-02</td>\n",
       "      <td>3.649613e-02</td>\n",
       "      <td>2.734930e-02</td>\n",
       "      <td>3.006184e-02</td>\n",
       "      <td>3.607304e-02</td>\n",
       "      <td>7.170778e-03</td>\n",
       "      <td>1.143525e-02</td>\n",
       "    </tr>\n",
       "    <tr>\n",
       "      <th>4000</th>\n",
       "      <td>399999</td>\n",
       "      <td>200.199861</td>\n",
       "      <td>1.178175e-01</td>\n",
       "      <td>0.316139</td>\n",
       "      <td>3.219368</td>\n",
       "      <td>3.535507</td>\n",
       "      <td>-3.352574e+00</td>\n",
       "      <td>0.000000e+00</td>\n",
       "      <td>-0.000000</td>\n",
       "      <td>0.0</td>\n",
       "      <td>-2.086916e-05</td>\n",
       "      <td>200.1999</td>\n",
       "      <td>0.309526</td>\n",
       "      <td>1.215830e-01</td>\n",
       "      <td>9.021920e-02</td>\n",
       "      <td>8.409070e-02</td>\n",
       "      <td>5.622700e-02</td>\n",
       "      <td>4.836620e-02</td>\n",
       "      <td>5.028020e-02</td>\n",
       "      <td>1.795330e-02</td>\n",
       "      <td>8268.2542</td>\n",
       "      <td>-2.086920e-05</td>\n",
       "      <td>-5.489350e-06</td>\n",
       "      <td>-2.577390e-06</td>\n",
       "      <td>-4.046350e-06</td>\n",
       "      <td>-2.694660e-06</td>\n",
       "      <td>-3.033610e-06</td>\n",
       "      <td>-2.173030e-06</td>\n",
       "      <td>-3.626450e-07</td>\n",
       "      <td>-4.921360e-07</td>\n",
       "      <td>1.999771e-01</td>\n",
       "      <td>2.793665e-02</td>\n",
       "      <td>2.342759e-02</td>\n",
       "      <td>3.650451e-02</td>\n",
       "      <td>2.735488e-02</td>\n",
       "      <td>3.006812e-02</td>\n",
       "      <td>3.607754e-02</td>\n",
       "      <td>7.171529e-03</td>\n",
       "      <td>1.143627e-02</td>\n",
       "    </tr>\n",
       "  </tbody>\n",
       "</table>\n",
       "<p>4001 rows × 39 columns</p>\n",
       "</div>"
      ],
      "text/plain": [
       "       steps          fs  Norm deviation   Kinetic  Potential     Total  \\\n",
       "0          0    0.000000    3.330669e-16  0.091654   0.091279  0.182933   \n",
       "1        100    0.050050    1.741663e-08  0.091653   0.091280  0.182933   \n",
       "...      ...         ...             ...       ...        ...       ...   \n",
       "3999  399900  200.150311    1.177907e-01  0.316253   3.219603  3.535856   \n",
       "4000  399999  200.199861    1.178175e-01  0.316139   3.219368  3.535507   \n",
       "\n",
       "      Total Deviation        Xpulse    Ypulse  Zpulse        AbZino        fs  \\\n",
       "0        0.000000e+00  6.018470e-07 -0.000003     0.0 -1.066187e-66    0.0000   \n",
       "1        7.570760e-09  1.788736e-07 -0.000004     0.0 -1.067019e-66    0.0501   \n",
       "...               ...           ...       ...     ...           ...       ...   \n",
       "3999    -3.352923e+00  0.000000e+00 -0.000000     0.0 -2.088250e-05  200.1503   \n",
       "4000    -3.352574e+00  0.000000e+00 -0.000000     0.0 -2.086916e-05  200.1999   \n",
       "\n",
       "            S0            S1            S2            S3            S4  \\\n",
       "0     1.000000  0.000000e+00  0.000000e+00  0.000000e+00  0.000000e+00   \n",
       "1     0.999999  4.710600e-07  1.546090e-13  1.635820e-16  3.232010e-14   \n",
       "...        ...           ...           ...           ...           ...   \n",
       "3999  0.309529  1.215840e-01  9.023510e-02  8.410050e-02  5.621300e-02   \n",
       "4000  0.309526  1.215830e-01  9.021920e-02  8.409070e-02  5.622700e-02   \n",
       "\n",
       "                S5            S6            S7    Time AU       Abs Tot  \\\n",
       "0     0.000000e+00  0.000000e+00  0.000000e+00     0.0000 -1.066190e-66   \n",
       "1     1.960990e-13  3.367220e-13  2.497590e-12     2.0671 -1.067020e-66   \n",
       "...            ...           ...           ...        ...           ...   \n",
       "3999  4.842110e-02  5.028350e-02  1.792710e-02  8266.2078 -2.088250e-05   \n",
       "4000  4.836620e-02  5.028020e-02  1.795330e-02  8268.2542 -2.086920e-05   \n",
       "\n",
       "            Abs S0        Abs S1        Abs S2        Abs S3        Abs S4  \\\n",
       "0    -1.066190e-66  0.000000e+00  0.000000e+00  0.000000e+00  0.000000e+00   \n",
       "1    -1.066420e-66 -6.011790e-70 -1.124400e-77 -1.176140e-79 -1.674370e-80   \n",
       "...            ...           ...           ...           ...           ...   \n",
       "3999 -5.482220e-06 -2.579830e-06 -4.060250e-06 -2.690450e-06 -3.036780e-06   \n",
       "4000 -5.489350e-06 -2.577390e-06 -4.046350e-06 -2.694660e-06 -3.033610e-06   \n",
       "\n",
       "            Abs S5        Abs S6        Abs S7      P(t) Tot       P(t) S0  \\\n",
       "0     0.000000e+00  0.000000e+00  0.000000e+00  2.208296e-66  2.208296e-66   \n",
       "1    -2.406950e-81 -1.854890e-81 -7.420340e-82  4.418311e-66  4.417068e-66   \n",
       "...            ...           ...           ...           ...           ...   \n",
       "3999 -2.176630e-06 -3.626200e-07 -4.937140e-07  1.999339e-01  2.792528e-02   \n",
       "4000 -2.173030e-06 -3.626450e-07 -4.921360e-07  1.999771e-01  2.793665e-02   \n",
       "\n",
       "           P(t) S1       P(t) S2       P(t) S3       P(t) S4       P(t) S5  \\\n",
       "0    -0.000000e+00 -0.000000e+00 -0.000000e+00 -0.000000e+00 -0.000000e+00   \n",
       "1     1.245164e-69  2.328861e-77  2.436025e-79  3.467960e-80  4.985282e-81   \n",
       "...            ...           ...           ...           ...           ...   \n",
       "3999  2.342225e-02  3.649613e-02  2.734930e-02  3.006184e-02  3.607304e-02   \n",
       "4000  2.342759e-02  3.650451e-02  2.735488e-02  3.006812e-02  3.607754e-02   \n",
       "\n",
       "           P(t) S6       P(t) S7  \n",
       "0    -0.000000e+00 -0.000000e+00  \n",
       "1     3.841853e-81  1.536903e-81  \n",
       "...            ...           ...  \n",
       "3999  7.170778e-03  1.143525e-02  \n",
       "4000  7.171529e-03  1.143627e-02  \n",
       "\n",
       "[4001 rows x 39 columns]"
      ]
     },
     "execution_count": 21,
     "metadata": {},
     "output_type": "execute_result"
    }
   ],
   "source": [
    "dfs[0]"
   ]
  },
  {
   "cell_type": "code",
   "execution_count": 22,
   "metadata": {
    "ExecuteTime": {
     "end_time": "2019-06-18T22:16:23.673134Z",
     "start_time": "2019-06-18T22:16:23.593183Z"
    }
   },
   "outputs": [
    {
     "data": {
      "text/html": [
       "<div>\n",
       "<style scoped>\n",
       "    .dataframe tbody tr th:only-of-type {\n",
       "        vertical-align: middle;\n",
       "    }\n",
       "\n",
       "    .dataframe tbody tr th {\n",
       "        vertical-align: top;\n",
       "    }\n",
       "\n",
       "    .dataframe thead th {\n",
       "        text-align: right;\n",
       "    }\n",
       "</style>\n",
       "<table border=\"1\" class=\"dataframe\">\n",
       "  <thead>\n",
       "    <tr style=\"text-align: right;\">\n",
       "      <th></th>\n",
       "      <th>steps</th>\n",
       "      <th>fs</th>\n",
       "      <th>Norm deviation</th>\n",
       "      <th>Kinetic</th>\n",
       "      <th>Potential</th>\n",
       "      <th>Total</th>\n",
       "      <th>Total Deviation</th>\n",
       "      <th>Xpulse</th>\n",
       "      <th>Ypulse</th>\n",
       "      <th>Zpulse</th>\n",
       "      <th>AbZino</th>\n",
       "      <th>fs</th>\n",
       "      <th>S0</th>\n",
       "      <th>S1</th>\n",
       "      <th>S2</th>\n",
       "      <th>S3</th>\n",
       "      <th>S4</th>\n",
       "      <th>S5</th>\n",
       "      <th>S6</th>\n",
       "      <th>S7</th>\n",
       "      <th>Time AU</th>\n",
       "      <th>Abs Tot</th>\n",
       "      <th>Abs S0</th>\n",
       "      <th>Abs S1</th>\n",
       "      <th>Abs S2</th>\n",
       "      <th>Abs S3</th>\n",
       "      <th>Abs S4</th>\n",
       "      <th>Abs S5</th>\n",
       "      <th>Abs S6</th>\n",
       "      <th>Abs S7</th>\n",
       "      <th>P(t) Tot</th>\n",
       "      <th>P(t) S0</th>\n",
       "      <th>P(t) S1</th>\n",
       "      <th>P(t) S2</th>\n",
       "      <th>P(t) S3</th>\n",
       "      <th>P(t) S4</th>\n",
       "      <th>P(t) S5</th>\n",
       "      <th>P(t) S6</th>\n",
       "      <th>P(t) S7</th>\n",
       "    </tr>\n",
       "  </thead>\n",
       "  <tbody>\n",
       "    <tr>\n",
       "      <th>0</th>\n",
       "      <td>0</td>\n",
       "      <td>0.000000</td>\n",
       "      <td>3.330669e-16</td>\n",
       "      <td>0.091654</td>\n",
       "      <td>0.091279</td>\n",
       "      <td>0.182933</td>\n",
       "      <td>0.000000e+00</td>\n",
       "      <td>2.612992e-30</td>\n",
       "      <td>0.0</td>\n",
       "      <td>0.0</td>\n",
       "      <td>-1.066187e-66</td>\n",
       "      <td>0.0000</td>\n",
       "      <td>1.000000</td>\n",
       "      <td>0.000000e+00</td>\n",
       "      <td>0.000000e+00</td>\n",
       "      <td>0.000000e+00</td>\n",
       "      <td>0.000000e+00</td>\n",
       "      <td>0.000000e+00</td>\n",
       "      <td>0.000000e+00</td>\n",
       "      <td>0.000000e+00</td>\n",
       "      <td>0.0000</td>\n",
       "      <td>-1.066190e-66</td>\n",
       "      <td>-1.066190e-66</td>\n",
       "      <td>0.000000e+00</td>\n",
       "      <td>0.000000e+00</td>\n",
       "      <td>0.000000e+00</td>\n",
       "      <td>0.000000e+00</td>\n",
       "      <td>0.000000e+00</td>\n",
       "      <td>0.000000e+00</td>\n",
       "      <td>0.000000e+00</td>\n",
       "      <td>2.208296e-66</td>\n",
       "      <td>2.208296e-66</td>\n",
       "      <td>-0.000000e+00</td>\n",
       "      <td>-0.000000e+00</td>\n",
       "      <td>-0.000000e+00</td>\n",
       "      <td>-0.000000e+00</td>\n",
       "      <td>-0.000000e+00</td>\n",
       "      <td>-0.000000e+00</td>\n",
       "      <td>-0.000000e+00</td>\n",
       "    </tr>\n",
       "    <tr>\n",
       "      <th>1</th>\n",
       "      <td>100</td>\n",
       "      <td>0.050050</td>\n",
       "      <td>1.741664e-08</td>\n",
       "      <td>0.091653</td>\n",
       "      <td>0.091280</td>\n",
       "      <td>0.182933</td>\n",
       "      <td>7.529706e-09</td>\n",
       "      <td>4.662243e-30</td>\n",
       "      <td>0.0</td>\n",
       "      <td>0.0</td>\n",
       "      <td>-1.067019e-66</td>\n",
       "      <td>0.0501</td>\n",
       "      <td>0.999999</td>\n",
       "      <td>4.711740e-07</td>\n",
       "      <td>1.545630e-13</td>\n",
       "      <td>6.465310e-17</td>\n",
       "      <td>7.017670e-17</td>\n",
       "      <td>1.303550e-13</td>\n",
       "      <td>4.643510e-17</td>\n",
       "      <td>2.253440e-18</td>\n",
       "      <td>2.0671</td>\n",
       "      <td>-1.067020e-66</td>\n",
       "      <td>-1.066420e-66</td>\n",
       "      <td>-6.011790e-70</td>\n",
       "      <td>-1.123300e-77</td>\n",
       "      <td>-7.022740e-80</td>\n",
       "      <td>-4.430870e-88</td>\n",
       "      <td>-1.385360e-90</td>\n",
       "      <td>-7.197180e-92</td>\n",
       "      <td>-6.162140e-92</td>\n",
       "      <td>4.418311e-66</td>\n",
       "      <td>4.417068e-66</td>\n",
       "      <td>1.245164e-69</td>\n",
       "      <td>2.326582e-77</td>\n",
       "      <td>1.454552e-79</td>\n",
       "      <td>9.177231e-88</td>\n",
       "      <td>2.869362e-90</td>\n",
       "      <td>1.490682e-91</td>\n",
       "      <td>1.276304e-91</td>\n",
       "    </tr>\n",
       "    <tr>\n",
       "      <th>...</th>\n",
       "      <td>...</td>\n",
       "      <td>...</td>\n",
       "      <td>...</td>\n",
       "      <td>...</td>\n",
       "      <td>...</td>\n",
       "      <td>...</td>\n",
       "      <td>...</td>\n",
       "      <td>...</td>\n",
       "      <td>...</td>\n",
       "      <td>...</td>\n",
       "      <td>...</td>\n",
       "      <td>...</td>\n",
       "      <td>...</td>\n",
       "      <td>...</td>\n",
       "      <td>...</td>\n",
       "      <td>...</td>\n",
       "      <td>...</td>\n",
       "      <td>...</td>\n",
       "      <td>...</td>\n",
       "      <td>...</td>\n",
       "      <td>...</td>\n",
       "      <td>...</td>\n",
       "      <td>...</td>\n",
       "      <td>...</td>\n",
       "      <td>...</td>\n",
       "      <td>...</td>\n",
       "      <td>...</td>\n",
       "      <td>...</td>\n",
       "      <td>...</td>\n",
       "      <td>...</td>\n",
       "      <td>...</td>\n",
       "      <td>...</td>\n",
       "      <td>...</td>\n",
       "      <td>...</td>\n",
       "      <td>...</td>\n",
       "      <td>...</td>\n",
       "      <td>...</td>\n",
       "      <td>...</td>\n",
       "      <td>...</td>\n",
       "    </tr>\n",
       "    <tr>\n",
       "      <th>3591</th>\n",
       "      <td>359100</td>\n",
       "      <td>179.729874</td>\n",
       "      <td>7.148692e-02</td>\n",
       "      <td>0.445703</td>\n",
       "      <td>2.273173</td>\n",
       "      <td>2.718876</td>\n",
       "      <td>-2.535943e+00</td>\n",
       "      <td>0.000000e+00</td>\n",
       "      <td>0.0</td>\n",
       "      <td>0.0</td>\n",
       "      <td>-2.113919e-05</td>\n",
       "      <td>179.7299</td>\n",
       "      <td>0.548108</td>\n",
       "      <td>2.765770e-01</td>\n",
       "      <td>1.686350e-02</td>\n",
       "      <td>5.810050e-03</td>\n",
       "      <td>7.823990e-03</td>\n",
       "      <td>4.744230e-03</td>\n",
       "      <td>1.213080e-03</td>\n",
       "      <td>9.972160e-04</td>\n",
       "      <td>7422.8438</td>\n",
       "      <td>-2.113920e-05</td>\n",
       "      <td>-1.957630e-05</td>\n",
       "      <td>-5.422960e-07</td>\n",
       "      <td>-1.508560e-07</td>\n",
       "      <td>-1.018250e-07</td>\n",
       "      <td>-1.887550e-07</td>\n",
       "      <td>-2.017320e-07</td>\n",
       "      <td>-1.488610e-07</td>\n",
       "      <td>-2.285640e-07</td>\n",
       "      <td>1.127363e-01</td>\n",
       "      <td>7.867072e-02</td>\n",
       "      <td>7.292628e-03</td>\n",
       "      <td>2.899442e-03</td>\n",
       "      <td>2.523515e-03</td>\n",
       "      <td>3.610321e-03</td>\n",
       "      <td>4.655139e-03</td>\n",
       "      <td>4.764036e-03</td>\n",
       "      <td>8.320493e-03</td>\n",
       "    </tr>\n",
       "    <tr>\n",
       "      <th>3592</th>\n",
       "      <td>359200</td>\n",
       "      <td>179.779924</td>\n",
       "      <td>7.150866e-02</td>\n",
       "      <td>0.445704</td>\n",
       "      <td>2.272896</td>\n",
       "      <td>2.718599</td>\n",
       "      <td>-2.535666e+00</td>\n",
       "      <td>0.000000e+00</td>\n",
       "      <td>0.0</td>\n",
       "      <td>0.0</td>\n",
       "      <td>-2.112217e-05</td>\n",
       "      <td>179.7799</td>\n",
       "      <td>0.548109</td>\n",
       "      <td>2.765300e-01</td>\n",
       "      <td>1.687110e-02</td>\n",
       "      <td>5.808370e-03</td>\n",
       "      <td>7.825920e-03</td>\n",
       "      <td>4.742260e-03</td>\n",
       "      <td>1.213170e-03</td>\n",
       "      <td>9.958820e-04</td>\n",
       "      <td>7424.9109</td>\n",
       "      <td>-2.112220e-05</td>\n",
       "      <td>-1.956050e-05</td>\n",
       "      <td>-5.417790e-07</td>\n",
       "      <td>-1.509940e-07</td>\n",
       "      <td>-1.015910e-07</td>\n",
       "      <td>-1.884210e-07</td>\n",
       "      <td>-2.017400e-07</td>\n",
       "      <td>-1.488480e-07</td>\n",
       "      <td>-2.283300e-07</td>\n",
       "      <td>1.127800e-01</td>\n",
       "      <td>7.871123e-02</td>\n",
       "      <td>7.293750e-03</td>\n",
       "      <td>2.899754e-03</td>\n",
       "      <td>2.523725e-03</td>\n",
       "      <td>3.610711e-03</td>\n",
       "      <td>4.655557e-03</td>\n",
       "      <td>4.764344e-03</td>\n",
       "      <td>8.320966e-03</td>\n",
       "    </tr>\n",
       "  </tbody>\n",
       "</table>\n",
       "<p>3593 rows × 39 columns</p>\n",
       "</div>"
      ],
      "text/plain": [
       "       steps          fs  Norm deviation   Kinetic  Potential     Total  \\\n",
       "0          0    0.000000    3.330669e-16  0.091654   0.091279  0.182933   \n",
       "1        100    0.050050    1.741664e-08  0.091653   0.091280  0.182933   \n",
       "...      ...         ...             ...       ...        ...       ...   \n",
       "3591  359100  179.729874    7.148692e-02  0.445703   2.273173  2.718876   \n",
       "3592  359200  179.779924    7.150866e-02  0.445704   2.272896  2.718599   \n",
       "\n",
       "      Total Deviation        Xpulse  Ypulse  Zpulse        AbZino        fs  \\\n",
       "0        0.000000e+00  2.612992e-30     0.0     0.0 -1.066187e-66    0.0000   \n",
       "1        7.529706e-09  4.662243e-30     0.0     0.0 -1.067019e-66    0.0501   \n",
       "...               ...           ...     ...     ...           ...       ...   \n",
       "3591    -2.535943e+00  0.000000e+00     0.0     0.0 -2.113919e-05  179.7299   \n",
       "3592    -2.535666e+00  0.000000e+00     0.0     0.0 -2.112217e-05  179.7799   \n",
       "\n",
       "            S0            S1            S2            S3            S4  \\\n",
       "0     1.000000  0.000000e+00  0.000000e+00  0.000000e+00  0.000000e+00   \n",
       "1     0.999999  4.711740e-07  1.545630e-13  6.465310e-17  7.017670e-17   \n",
       "...        ...           ...           ...           ...           ...   \n",
       "3591  0.548108  2.765770e-01  1.686350e-02  5.810050e-03  7.823990e-03   \n",
       "3592  0.548109  2.765300e-01  1.687110e-02  5.808370e-03  7.825920e-03   \n",
       "\n",
       "                S5            S6            S7    Time AU       Abs Tot  \\\n",
       "0     0.000000e+00  0.000000e+00  0.000000e+00     0.0000 -1.066190e-66   \n",
       "1     1.303550e-13  4.643510e-17  2.253440e-18     2.0671 -1.067020e-66   \n",
       "...            ...           ...           ...        ...           ...   \n",
       "3591  4.744230e-03  1.213080e-03  9.972160e-04  7422.8438 -2.113920e-05   \n",
       "3592  4.742260e-03  1.213170e-03  9.958820e-04  7424.9109 -2.112220e-05   \n",
       "\n",
       "            Abs S0        Abs S1        Abs S2        Abs S3        Abs S4  \\\n",
       "0    -1.066190e-66  0.000000e+00  0.000000e+00  0.000000e+00  0.000000e+00   \n",
       "1    -1.066420e-66 -6.011790e-70 -1.123300e-77 -7.022740e-80 -4.430870e-88   \n",
       "...            ...           ...           ...           ...           ...   \n",
       "3591 -1.957630e-05 -5.422960e-07 -1.508560e-07 -1.018250e-07 -1.887550e-07   \n",
       "3592 -1.956050e-05 -5.417790e-07 -1.509940e-07 -1.015910e-07 -1.884210e-07   \n",
       "\n",
       "            Abs S5        Abs S6        Abs S7      P(t) Tot       P(t) S0  \\\n",
       "0     0.000000e+00  0.000000e+00  0.000000e+00  2.208296e-66  2.208296e-66   \n",
       "1    -1.385360e-90 -7.197180e-92 -6.162140e-92  4.418311e-66  4.417068e-66   \n",
       "...            ...           ...           ...           ...           ...   \n",
       "3591 -2.017320e-07 -1.488610e-07 -2.285640e-07  1.127363e-01  7.867072e-02   \n",
       "3592 -2.017400e-07 -1.488480e-07 -2.283300e-07  1.127800e-01  7.871123e-02   \n",
       "\n",
       "           P(t) S1       P(t) S2       P(t) S3       P(t) S4       P(t) S5  \\\n",
       "0    -0.000000e+00 -0.000000e+00 -0.000000e+00 -0.000000e+00 -0.000000e+00   \n",
       "1     1.245164e-69  2.326582e-77  1.454552e-79  9.177231e-88  2.869362e-90   \n",
       "...            ...           ...           ...           ...           ...   \n",
       "3591  7.292628e-03  2.899442e-03  2.523515e-03  3.610321e-03  4.655139e-03   \n",
       "3592  7.293750e-03  2.899754e-03  2.523725e-03  3.610711e-03  4.655557e-03   \n",
       "\n",
       "           P(t) S6       P(t) S7  \n",
       "0    -0.000000e+00 -0.000000e+00  \n",
       "1     1.490682e-91  1.276304e-91  \n",
       "...            ...           ...  \n",
       "3591  4.764036e-03  8.320493e-03  \n",
       "3592  4.764344e-03  8.320966e-03  \n",
       "\n",
       "[3593 rows x 39 columns]"
      ]
     },
     "execution_count": 22,
     "metadata": {},
     "output_type": "execute_result"
    }
   ],
   "source": [
    "dfs[1]"
   ]
  },
  {
   "cell_type": "code",
   "execution_count": 23,
   "metadata": {
    "ExecuteTime": {
     "end_time": "2019-06-18T22:18:16.697161Z",
     "start_time": "2019-06-18T22:18:16.683170Z"
    }
   },
   "outputs": [],
   "source": [
    "on_so,on_tot = dfs[0]['P(t) S0'].tail(1), dfs[0]['P(t) Tot'].tail(1)"
   ]
  },
  {
   "cell_type": "code",
   "execution_count": 24,
   "metadata": {
    "ExecuteTime": {
     "end_time": "2019-06-18T22:18:25.592705Z",
     "start_time": "2019-06-18T22:18:25.584709Z"
    }
   },
   "outputs": [],
   "source": [
    "tw_so,tw_tot = dfs[1]['P(t) S0'].tail(1), dfs[1]['P(t) Tot'].tail(1)"
   ]
  },
  {
   "cell_type": "code",
   "execution_count": 16,
   "metadata": {
    "ExecuteTime": {
     "end_time": "2019-06-18T22:18:26.210673Z",
     "start_time": "2019-06-18T22:18:26.201678Z"
    }
   },
   "outputs": [
    {
     "ename": "NameError",
     "evalue": "name 'on_so' is not defined",
     "output_type": "error",
     "traceback": [
      "\u001b[1;31m---------------------------------------------------------------------------\u001b[0m",
      "\u001b[1;31mNameError\u001b[0m                                 Traceback (most recent call last)",
      "\u001b[1;32m<ipython-input-16-9ff7dd37ab68>\u001b[0m in \u001b[0;36m<module>\u001b[1;34m\u001b[0m\n\u001b[1;32m----> 1\u001b[1;33m \u001b[0mon_so\u001b[0m\u001b[1;33m,\u001b[0m \u001b[0mon_tot\u001b[0m\u001b[1;33m,\u001b[0m \u001b[0mon_so\u001b[0m\u001b[1;33m/\u001b[0m\u001b[0mon_tot\u001b[0m\u001b[1;33m\u001b[0m\u001b[1;33m\u001b[0m\u001b[0m\n\u001b[0m",
      "\u001b[1;31mNameError\u001b[0m: name 'on_so' is not defined"
     ]
    }
   ],
   "source": [
    "on_so, on_tot, on_so/on_tot"
   ]
  },
  {
   "cell_type": "code",
   "execution_count": 17,
   "metadata": {
    "ExecuteTime": {
     "end_time": "2019-06-18T22:18:40.085356Z",
     "start_time": "2019-06-18T22:18:40.075363Z"
    }
   },
   "outputs": [
    {
     "ename": "NameError",
     "evalue": "name 'tw_so' is not defined",
     "output_type": "error",
     "traceback": [
      "\u001b[1;31m---------------------------------------------------------------------------\u001b[0m",
      "\u001b[1;31mNameError\u001b[0m                                 Traceback (most recent call last)",
      "\u001b[1;32m<ipython-input-17-b300773f5841>\u001b[0m in \u001b[0;36m<module>\u001b[1;34m\u001b[0m\n\u001b[1;32m----> 1\u001b[1;33m \u001b[0mtw_so\u001b[0m\u001b[1;33m,\u001b[0m\u001b[0mtw_tot\u001b[0m\u001b[1;33m,\u001b[0m \u001b[0mtw_so\u001b[0m\u001b[1;33m/\u001b[0m\u001b[0mtw_tot\u001b[0m\u001b[1;33m\u001b[0m\u001b[1;33m\u001b[0m\u001b[0m\n\u001b[0m",
      "\u001b[1;31mNameError\u001b[0m: name 'tw_so' is not defined"
     ]
    }
   ],
   "source": [
    "tw_so,tw_tot, tw_so/tw_tot"
   ]
  },
  {
   "cell_type": "code",
   "execution_count": 18,
   "metadata": {},
   "outputs": [
    {
     "data": {
      "text/plain": [
       "65000"
      ]
     },
     "execution_count": 18,
     "metadata": {},
     "output_type": "execute_result"
    }
   ],
   "source": [
    "25*26*100"
   ]
  },
  {
   "cell_type": "code",
   "execution_count": 20,
   "metadata": {},
   "outputs": [
    {
     "data": {
      "application/vnd.jupyter.widget-view+json": {
       "model_id": "53b1d220b92e4e71af277de2499d6517",
       "version_major": 2,
       "version_minor": 0
      },
      "text/plain": [
       "FigureCanvasNbAgg()"
      ]
     },
     "metadata": {},
     "output_type": "display_data"
    }
   ],
   "source": [
    "numbers = [9,11,13,15,17]\n",
    "\n",
    "names = ['1', '2', '3', '4', '5']\n",
    "multiple_dataframes = [from_folder_to_dataframe(\n",
    "    os.path.join(fol, subfolders[x])) for x in numbers]\n",
    "how_many_states = 2\n",
    "\n",
    "import matplotlib\n",
    "matplotlib.rcParams.update({'font.size': 20})\n",
    "\n",
    "fig, [ax0,ax1] = plt.subplots(2, 1, figsize=(10, 10))\n",
    "ax0.set_xlabel('fs')\n",
    "ax0.set_ylabel('Population')\n",
    "ax0.set_ylim(0, 1.01)\n",
    "ax0.set_ylim(0, 0.15)\n",
    "ax0.set_title(r'Population of $S_{}$'.format(0))\n",
    "for i, df in enumerate(multiple_dataframes):\n",
    "    ax0.plot(df['fs'].iloc[:, 1],\n",
    "             df['S{}'.format(0)], label=names[i])\n",
    "ax0.legend()\n",
    "\n",
    "ax1.set_xlabel('fs')\n",
    "ax1.set_ylabel('Population')\n",
    "ax1.set_ylim(0, 1.01)\n",
    "ax1.set_ylim(0.85,1)\n",
    "ax1.set_title(r'Population of $S_{}$'.format(1))\n",
    "for i, df in enumerate(multiple_dataframes):\n",
    "    ax1.plot(df['fs'].iloc[:, 1],\n",
    "             df['S{}'.format(1)], label=names[i])\n",
    "ax1.legend()\n",
    "\n",
    "fig.tight_layout()\n",
    "        \n",
    "   "
   ]
  },
  {
   "cell_type": "code",
   "execution_count": null,
   "metadata": {},
   "outputs": [],
   "source": []
  }
 ],
 "metadata": {
  "kernelspec": {
   "display_name": "Python 3",
   "language": "python",
   "name": "python3"
  },
  "language_info": {
   "codemirror_mode": {
    "name": "ipython",
    "version": 3
   },
   "file_extension": ".py",
   "mimetype": "text/x-python",
   "name": "python",
   "nbconvert_exporter": "python",
   "pygments_lexer": "ipython3",
   "version": "3.7.3"
  },
  "toc": {
   "base_numbering": 1,
   "nav_menu": {},
   "number_sections": true,
   "sideBar": true,
   "skip_h1_title": false,
   "title_cell": "Table of Contents",
   "title_sidebar": "Contents",
   "toc_cell": false,
   "toc_position": {},
   "toc_section_display": true,
   "toc_window_display": false
  }
 },
 "nbformat": 4,
 "nbformat_minor": 2
}
