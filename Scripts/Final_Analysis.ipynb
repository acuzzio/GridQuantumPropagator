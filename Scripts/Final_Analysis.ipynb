{
 "cells": [
  {
   "cell_type": "code",
   "execution_count": 1,
   "metadata": {},
   "outputs": [],
   "source": [
    "import quantumpropagator as qp\n",
    "import matplotlib.pyplot as plt\n",
    "import matplotlib\n",
    "from ipywidgets import interact,fixed #, interactive, fixed, interact_manual\n",
    "import ipywidgets as widgets\n",
    "\n",
    "import os\n",
    "import sys\n",
    "import glob\n",
    "import pandas as pd\n",
    "import numpy as np\n",
    "\n",
    "%matplotlib ipympl\n",
    "\n",
    "plt.rcParams.update({'font.size': 6})"
   ]
  },
  {
   "cell_type": "code",
   "execution_count": 2,
   "metadata": {},
   "outputs": [
    {
     "name": "stdout",
     "output_type": "stream",
     "text": [
      "0 -> a-UV-Pump-Probe-2687_0000\n",
      "1 -> a-UV-Pump-Probe-2791_0000\n",
      "2 -> a-UV-Pump-Probe-2894_0000\n",
      "3 -> a-UV-Pump-Probe-2997_0000\n",
      "4 -> a-UV-Pump-Probe-3101_0000\n",
      "5 -> b-UV-0.22_0000\n",
      "6 -> d-UVz-Pump-Probe-1860_0000\n",
      "7 -> d-UVz-Pump-Probe-2248_0000\n",
      "8 -> d-UVz-Pump-Probe-2401_0000\n",
      "9 -> d-UVz-Pump-Probe-2563_0000\n",
      "10 -> d-UVz-Pump-Probe-3059_0000\n",
      "11 -> m-IR-Polarized-INV_0000\n",
      "12 -> m-IR-Polarized-LON_0000\n",
      "13 -> m-IR-Polarized-NOR_0000\n",
      "14 -> n-target-2-3-only-diffCAP_0000\n",
      "15 -> o-UV-Pump-Probe-0000_0000\n",
      "16 -> o-UV-Pump-Probe-0001_0000\n",
      "17 -> o-UV-Pump-Probe-0002_0000\n",
      "18 -> o-UV-Pump-Probe-0003_0000\n",
      "19 -> o-UV-Pump-Probe-0004_0000\n",
      "20 -> o-UV-Pump-Probe-0005_0000\n",
      "21 -> o-UV-Pump-Probe-0006_0000\n",
      "22 -> o-UV-Pump-Probe-0007_0000\n",
      "23 -> o-UV-Pump-Probe-0008_0000\n",
      "24 -> o-UV-Pump-Probe-0009_0000\n",
      "25 -> o-UV-Pump-Probe-0010_0000\n",
      "26 -> o-UV-Pump-Probe-0011_0000\n",
      "27 -> o-UV-Pump-Probe-0012_0000\n",
      "28 -> o-UV-Pump-Probe-0013_0000\n",
      "29 -> o-UV-Pump-Probe-0014_0000\n",
      "30 -> o-UV-Pump-Probe-0015_0000\n",
      "31 -> o-UV-Pump-Probe-0016_0000\n",
      "32 -> o-UV-Pump-Probe-0017_0000\n",
      "33 -> o-UV-Pump-Probe-0018_0000\n",
      "34 -> o-UV-Pump-Probe-0019_0000\n",
      "35 -> o-UV-Pump-Probe-0020_0000\n",
      "36 -> o-UV-Pump-Probe-0021_0000\n",
      "37 -> position-from1_0000\n",
      "38 -> position-from2_0000\n",
      "39 -> position-from3_0000\n",
      "40 -> position-from4_0000\n",
      "41 -> position-from5_0000\n",
      "42 -> position-from6_0000\n",
      "43 -> q-target-2-3-nac12exag_0000\n",
      "44 -> t-FC_excited_phi_0000\n",
      "45 -> t-IR-to-excite-phi_0000\n",
      "46 -> t-UV-0.22_excited_phi_0001\n",
      "47 -> u-target-2-3-only_0000\n",
      "48 -> u-target-2-3-only_mask_0000\n",
      "49 -> w-SubMask_from_IR_time_reversed-NOABS_0000\n",
      "50 -> w-SubMask_from_IR_time_reversed_0000\n",
      "51 -> w-SubMask_from_position3.time_reversed-NOABS_0000\n",
      "52 -> w-SubMask_from_position3.time_reversed_0000\n",
      "53 -> x-SubMask_from_IR_0000\n",
      "54 -> x-SubMask_from_IR_INV_0000\n",
      "55 -> y-probe-UV_0000\n",
      "56 -> z-from1_0000\n",
      "\n"
     ]
    }
   ],
   "source": [
    "%matplotlib ipympl\n",
    "fol = '/home/alessio/w-August-Run/'\n",
    "outputFolder = '/home/alessio/w-August-Run/OUTPUTS'\n",
    "subfolders2 = sorted([dir for dir in os.listdir(fol) if os.path.isdir(os.path.join(fol,dir))])\n",
    "subfolders =  [ dir for dir in subfolders2 if dir not in ['HTML','csv','OUTPUTS','FRANCOISE','.ipynb_checkpoints'] ]\n",
    "print(''.join(['{} -> {}\\n'.format(a,b) for a,b in enumerate(subfolders)]))"
   ]
  },
  {
   "cell_type": "code",
   "execution_count": 3,
   "metadata": {},
   "outputs": [],
   "source": [
    "def process_folder(this_folder,fol,outputFolder):\n",
    "    '''\n",
    "    this function will create a correct set of files to give to Francoise\n",
    "    '''\n",
    "    project_folder = os.path.join(fol,this_folder)\n",
    "    project_output = os.path.join(outputFolder,this_folder)\n",
    "    output_norm = os.path.join(project_folder, 'output')\n",
    "    output_popu = os.path.join(project_folder, 'outputPopul')\n",
    "    output_abso = os.path.join(project_folder, 'Output_Abs')\n",
    "    output_regi = os.path.join(project_folder, 'Output_Regions')\n",
    "    output_dipo = os.path.join(project_folder, 'Output_Dipole')\n",
    "    \n",
    "    df_norm2 = pd.read_csv(output_norm, delim_whitespace=True, index_col=0, names=['counter', 'steps', 'fs','Norm deviation','Kinetic','Potential','Total','Total Deviation','Xpulse','Ypulse','Zpulse','AbZino'])\n",
    "    df_popu2 = pd.read_csv(output_popu, delim_whitespace=True, names=['fs_1', 'S0', 'S1','S2','S3','S4','S5','S6','S7'])\n",
    "    df_abso2 = pd.read_csv(output_abso, delim_whitespace=True, names=['Time AU', 'Abs Tot', 'Abs S0', 'Abs S1','Abs S2','Abs S3','Abs S4','Abs S5','Abs S6','Abs S7'])\n",
    "    df_regi2 = pd.read_csv(output_regi, delim_whitespace=True, names=['Non-decided','Reactants','Products'])\n",
    "    \n",
    "    # I need to cut down to different file size <- this will become obsolete\n",
    "    dfs = [df_norm2,df_popu2,df_abso2,df_regi2]\n",
    "    lengths = min([x.shape[0] for x in dfs])\n",
    "    df_norm, df_popu, df_abso, df_regi = [ x.drop(x.index[lengths:]) for x in dfs ]\n",
    "\n",
    "    df_all = pd.concat([df_norm, df_popu, df_abso, df_regi], axis = 1)\n",
    "\n",
    "    # time step in AU\n",
    "    AU_dt = df_abso['Time AU'].iloc[1]-df_abso['Time AU'].iloc[0]\n",
    "    \n",
    "    # create the absorbed columns\n",
    "    for statZ in ['Tot','S0','S1','S2','S3','S4','S5','S6','S7']:\n",
    "        df_all['P(t) {}'.format(statZ)] = -(np.cumsum(df_all['Abs {}'.format(statZ)])*AU_dt)\n",
    "    \n",
    "    # change sign of norm\n",
    "    df_all['Norm deviation'] = -df_all['Norm deviation']\n",
    "    \n",
    "    # clean the paper\n",
    "    final_df = df_all.drop(['Abs Tot', 'Abs S0', 'Abs S1','Abs S2','Abs S3','Abs S4','Abs S5','Abs S6','Abs S7','fs_1','AbZino'],axis=1)\n",
    "    \n",
    "    csv_name = '{}.csv'.format(project_output)\n",
    "    final_df.to_csv(csv_name)\n",
    "    #print(list(final_df.columns) )\n",
    "    \n",
    "\n",
    "process_folder(subfolders[38],fol,outputFolder)\n",
    "process_folder(subfolders[40],fol,outputFolder)\n",
    "\n",
    "# process_folder(subfolders[26],fol,outputFolder)\n",
    "# process_folder(subfolders[27],fol,outputFolder)\n",
    "# process_folder(subfolders[28],fol,outputFolder)\n",
    "# process_folder(subfolders[29],fol,outputFolder)\n",
    "# process_folder(subfolders[30],fol,outputFolder)\n",
    "    \n",
    "process_folder(subfolders[0],fol,outputFolder)\n",
    "process_folder(subfolders[1],fol,outputFolder)\n",
    "process_folder(subfolders[2],fol,outputFolder)\n",
    "process_folder(subfolders[3],fol,outputFolder)\n",
    "process_folder(subfolders[46],fol,outputFolder)"
   ]
  },
  {
   "cell_type": "code",
   "execution_count": 4,
   "metadata": {},
   "outputs": [
    {
     "name": "stdout",
     "output_type": "stream",
     "text": [
      "file b-UV-0.22_0000_BONDS_r_c_1.4-non-overlapping_ACTIVE_no_s0.csv written\n",
      "file m-IR-Polarized-LON_0000_BONDS_r_c_1.4-non-overlapping_ACTIVE_no_s0.csv written\n",
      "file m-IR-Polarized-NOR_0000_BONDS_r_c_1.4-non-overlapping_ACTIVE_no_s0.csv written\n",
      "file u-target-2-3-only_0000_BONDS_r_c_1.4-non-overlapping_ACTIVE_no_s0.csv written\n",
      "file b-UV-0.22_0000_BONDS_r_c_1.4-non-overlapping_ACTIVE_with_s0.csv written\n",
      "file m-IR-Polarized-LON_0000_BONDS_r_c_1.4-non-overlapping_ACTIVE_with_s0.csv written\n",
      "file m-IR-Polarized-NOR_0000_BONDS_r_c_1.4-non-overlapping_ACTIVE_with_s0.csv written\n",
      "file u-target-2-3-only_0000_BONDS_r_c_1.4-non-overlapping_ACTIVE_with_s0.csv written\n",
      "file b-UV-0.22_0000_BONDS_r_c_1.4-non-overlapping_ALL_no_s0.csv written\n",
      "file m-IR-Polarized-LON_0000_BONDS_r_c_1.4-non-overlapping_ALL_no_s0.csv written\n",
      "file m-IR-Polarized-NOR_0000_BONDS_r_c_1.4-non-overlapping_ALL_no_s0.csv written\n",
      "file u-target-2-3-only_0000_BONDS_r_c_1.4-non-overlapping_ALL_no_s0.csv written\n",
      "file b-UV-0.22_0000_BONDS_r_c_1.4-non-overlapping_ALL_with_s0.csv written\n",
      "file m-IR-Polarized-LON_0000_BONDS_r_c_1.4-non-overlapping_ALL_with_s0.csv written\n",
      "file m-IR-Polarized-NOR_0000_BONDS_r_c_1.4-non-overlapping_ALL_with_s0.csv written\n",
      "file u-target-2-3-only_0000_BONDS_r_c_1.4-non-overlapping_ALL_with_s0.csv written\n"
     ]
    }
   ],
   "source": [
    "kind = 'r_c_1.4-non-overlapping'\n",
    "bonds_folder = '/home/alessio/densities/From_pinot/calculationZ_high_def/{}'.format(kind)\n",
    "\n",
    "def create_bonds_files(bonds_folder_first, outputFolder):\n",
    "    for first_folder in ['ACTIVE','ALL']:\n",
    "        bonds_folder = os.path.join(bonds_folder_first,first_folder)\n",
    "        for next_folder in ['no_s0', 'with_s0']:\n",
    "            sub3 = os.path.join(bonds_folder,next_folder)\n",
    "            subfolders2 = sorted([dir for dir in os.listdir(sub3) if os.path.isdir(os.path.join(sub3,dir))])\n",
    "            for proj in subfolders2:\n",
    "                full_path = os.path.join(sub3,proj)\n",
    "                files_dat = sorted([ os.path.join(full_path,x) for x in os.listdir(full_path) if x[-4:] == '.dat' and x[0] == 'l' ])\n",
    "                data = [ np.loadtxt(i) for i in files_dat ]\n",
    "                dic = {}\n",
    "                dic['Time'] = data[0][:,0]  # first column of first file, the time\n",
    "                labels = ['Old bond','New Bond']\n",
    "                for i, this_one in enumerate(data):\n",
    "                    dic[labels[i]] = this_one[:,1] # second column, the value\n",
    "                df = pd.DataFrame(dic)\n",
    "                file_final_name = '{}_BONDS_{}_{}_{}.csv'.format(proj,kind,first_folder,next_folder)\n",
    "                print('file {} written'.format(file_final_name))\n",
    "                df.to_csv(os.path.join(outputFolder,file_final_name))\n",
    "    return(df)\n",
    "    \n",
    "\n",
    "a = create_bonds_files(bonds_folder, outputFolder)\n"
   ]
  },
  {
   "cell_type": "markdown",
   "metadata": {},
   "source": [
    "# Product/Reactants part 4"
   ]
  },
  {
   "cell_type": "code",
   "execution_count": 5,
   "metadata": {},
   "outputs": [],
   "source": [
    "names = ['b-UV-0.22_0000.csv', 'm-IR-Polarized-LON_0000.csv', 'm-IR-Polarized-INV_0000.csv', 'm-IR-Polarized-NOR_0000.csv', 'z-from1_0000.csv', 'u-target-2-3-only_0000.csv', 'u-target-2-3-only_mask_0000.csv']\n",
    "main_papers = [ pd.read_csv(os.path.join(outputFolder,x)) for x in names ]\n",
    "\n",
    "masknames = {'b-UV-0.22_0000.csv' : 'UV', 'm-IR-Polarized-LON_0000.csv' : 'IR_LON', 'm-IR-Polarized-INV_0000.csv' : 'IR_INV', 'm-IR-Polarized-NOR_0000.csv' : 'IR_NOR', 'z-from1_0000.csv' : 'FC', 'u-target-2-3-only_0000.csv' : '2-3 IR', 'u-target-2-3-only_mask_0000.csv' : '2-3 IR Mask'}"
   ]
  },
  {
   "cell_type": "code",
   "execution_count": 6,
   "metadata": {},
   "outputs": [
    {
     "data": {
      "application/vnd.jupyter.widget-view+json": {
       "model_id": "0cba6454a8b34f4bada6f109d174dfc4",
       "version_major": 2,
       "version_minor": 0
      },
      "text/plain": [
       "Canvas(toolbar=Toolbar(toolitems=[('Home', 'Reset original view', 'home', 'home'), ('Back', 'Back to previous …"
      ]
     },
     "metadata": {},
     "output_type": "display_data"
    }
   ],
   "source": [
    "colors = ['b', 'g', 'r', 'c', 'm', 'y', 'k', 'mediumpurple']\n",
    "plt.close('all')\n",
    "\n",
    "def get_product_reactants(dfs,names,output_name):\n",
    "    '''little function to mimic calculate/ratio3'''\n",
    "    fig, [[ax0, ax2],[ax4,ax6]] = plt.subplots(2,2,figsize=(16,8))\n",
    "    \n",
    "    for i, df in enumerate(dfs):\n",
    "        this_lab = masknames[names[i]]\n",
    "        ax0.plot(df['fs'], df['Reactants'], label=this_lab, ls='--', color=colors[i])\n",
    "        ax0.plot(df['fs'], df['Products'], label=this_lab ,          color=colors[i])\n",
    "        ax0.set_title('JUST REGIONS')\n",
    "        \n",
    "        ax2.plot(df['fs'], df['P(t) S0'], label=this_lab, color=colors[i])\n",
    "        ax2.set_title('JUST ABSORBED S0')\n",
    "    \n",
    "        ax4.plot(df['fs'], df['Products'] + df['P(t) S0'], label=this_lab, color=colors[i])\n",
    "        ax4.set_title('SUM OF ABOVE')\n",
    "        \n",
    "        if this_lab == '2-3 IR':\n",
    "            ax6.plot(df['fs'], (df['Products'] + df['P(t) Tot']), label=this_lab, color=colors[i])\n",
    "            ax6.set_title('SUM with all ABSORBED STATES')\n",
    "        else:\n",
    "            ax6.plot(df['fs'], df['Products'] + df['P(t) Tot'], label=this_lab, color=colors[i])\n",
    "            ax6.set_title('SUM with all ABSORBED STATES')\n",
    "                \n",
    "        #ax7.plot(df['fs'], df['Products'] + df['P(t) S6'], label=this_lab, color=colors[i])\n",
    "        \n",
    "        \n",
    "        number_line_after_pulse = 400\n",
    "        fs_after_pulse = df['fs'].iloc[number_line_after_pulse]\n",
    "    \n",
    "        all_state_labels = ['S0','S1','S2','S3','S4','S5','S6','S7']\n",
    "        all_after_pulse = np.empty(len(all_state_labels))\n",
    "        for ii, this_state_label in enumerate(all_state_labels):\n",
    "            all_after_pulse[ii] = df[this_state_label].iloc[number_line_after_pulse]\n",
    "            # print(df[this_state_label].iloc[number_line_after_pulse])\n",
    "        \n",
    "    fig.canvas.layout.height = '800px'\n",
    "    \n",
    "        #fig.canvas.layout.width = '500px'\n",
    "\n",
    "    ax0.legend()\n",
    "    ax2.legend()\n",
    "    ax4.legend()\n",
    "    ax6.legend()\n",
    "\n",
    "    fig.tight_layout()\n",
    "    fig.savefig(output_name)\n",
    "\n",
    "\n",
    "output_name = '/home/alessio/u-3dPropagation_manuscript/Report/images/prodreact.png'\n",
    "get_product_reactants(main_papers,names,output_name)"
   ]
  },
  {
   "cell_type": "code",
   "execution_count": 9,
   "metadata": {},
   "outputs": [
    {
     "name": "stdout",
     "output_type": "stream",
     "text": [
      "[(0, 'b-UV-0.22_0000.csv'), (1, 'm-IR-Polarized-LON_0000.csv'), (2, 'm-IR-Polarized-INV_0000.csv'), (3, 'm-IR-Polarized-NOR_0000.csv'), (4, 'z-from1_0000.csv'), (5, 'u-target-2-3-only_0000.csv'), (6, 'u-target-2-3-only_mask_0000.csv')]\n"
     ]
    }
   ],
   "source": [
    "print(list(enumerate(names)))"
   ]
  },
  {
   "cell_type": "code",
   "execution_count": 10,
   "metadata": {},
   "outputs": [
    {
     "data": {
      "text/plain": [
       "58.808856085411605"
      ]
     },
     "execution_count": 10,
     "metadata": {},
     "output_type": "execute_result"
    }
   ],
   "source": [
    "df = main_papers[6]\n",
    "\n",
    "threshold = 0.0000000001 # threshold at which the pulse is considered finished.\n",
    "pulse_norm = np.linalg.norm(np.stack((df['Xpulse'],df['Ypulse'],df['Zpulse']),axis=1),axis=1)\n",
    "number_line_after_pulse_array = np.where(pulse_norm > threshold)[0]\n",
    "\n",
    "# FC is empty\n",
    "if number_line_after_pulse_array.size == 0:\n",
    "    number_line_after_pulse = 0\n",
    "else:\n",
    "    number_line_after_pulse = number_line_after_pulse_array[-1]\n",
    "\n",
    "fs_after_pulse = df['fs'].iloc[number_line_after_pulse]\n",
    "fs_after_pulse"
   ]
  },
  {
   "cell_type": "code",
   "execution_count": null,
   "metadata": {},
   "outputs": [],
   "source": []
  }
 ],
 "metadata": {
  "kernelspec": {
   "display_name": "Python 3",
   "language": "python",
   "name": "python3"
  },
  "language_info": {
   "codemirror_mode": {
    "name": "ipython",
    "version": 3
   },
   "file_extension": ".py",
   "mimetype": "text/x-python",
   "name": "python",
   "nbconvert_exporter": "python",
   "pygments_lexer": "ipython3",
   "version": "3.6.8"
  }
 },
 "nbformat": 4,
 "nbformat_minor": 4
}
