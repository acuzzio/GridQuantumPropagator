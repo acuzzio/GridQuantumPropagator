{
 "cells": [
  {
   "cell_type": "code",
   "execution_count": 2,
   "metadata": {},
   "outputs": [],
   "source": [
    "import quantumpropagator as qp\n",
    "import matplotlib.pyplot as plt\n",
    "import matplotlib\n",
    "from ipywidgets import interact,fixed #, interactive, fixed, interact_manual\n",
    "import ipywidgets as widgets\n",
    "\n",
    "import os\n",
    "import sys\n",
    "import glob\n",
    "import pandas as pd\n",
    "import numpy as np\n",
    "\n",
    "%matplotlib ipympl\n",
    "\n",
    "plt.rcParams.update({'font.size': 6})"
   ]
  },
  {
   "cell_type": "code",
   "execution_count": 3,
   "metadata": {},
   "outputs": [
    {
     "name": "stdout",
     "output_type": "stream",
     "text": [
      "0 -> b-UV-0.22_0000\n",
      "1 -> m-IR-Polarized-INV_0000\n",
      "2 -> m-IR-Polarized-LON_0000\n",
      "3 -> m-IR-Polarized-NOR_0000\n",
      "4 -> position-from1_0000\n",
      "5 -> position-from2_0000\n",
      "6 -> position-from3_0000\n",
      "7 -> position-from4_0000\n",
      "8 -> position-from5_0000\n",
      "9 -> position-from6_0000\n",
      "10 -> t-FC_excited_phi_0000\n",
      "11 -> t-IR-to-excite-phi_0000\n",
      "12 -> t-UV-0.22_excited_phi_0001\n",
      "13 -> w-SubMask_from_IR_time_reversed-NOABS_0000\n",
      "14 -> w-SubMask_from_IR_time_reversed_0000\n",
      "15 -> w-SubMask_from_position3.time_reversed-NOABS_0000\n",
      "16 -> w-SubMask_from_position3.time_reversed_0000\n",
      "17 -> x-SubMask_from_IR_0000\n",
      "18 -> x-SubMask_from_IR_INV_0000\n",
      "19 -> y-probe-UV_0000\n",
      "20 -> z-from1_0000\n",
      "\n"
     ]
    }
   ],
   "source": [
    "fol = '/home/alessio/w-August-Run/'\n",
    "outputFolder = '/home/alessio/w-August-Run/OUTPUTS'\n",
    "subfolders2 = sorted([dir for dir in os.listdir(fol) if os.path.isdir(os.path.join(fol,dir))])\n",
    "subfolders =  [ dir for dir in subfolders2 if dir not in ['HTML','csv','OUTPUTS','FRANCOISE'] ]\n",
    "print(''.join(['{} -> {}\\n'.format(a,b) for a,b in enumerate(subfolders)]))"
   ]
  },
  {
   "cell_type": "code",
   "execution_count": 5,
   "metadata": {},
   "outputs": [
    {
     "ename": "FileNotFoundError",
     "evalue": "[Errno 2] File b'/home/alessio/w-August-Run/y-probe-UV_0000/Output_Regions' does not exist: b'/home/alessio/w-August-Run/y-probe-UV_0000/Output_Regions'",
     "output_type": "error",
     "traceback": [
      "\u001b[0;31m---------------------------------------------------------------------------\u001b[0m",
      "\u001b[0;31mFileNotFoundError\u001b[0m                         Traceback (most recent call last)",
      "\u001b[0;32m<ipython-input-5-5f03499d3477>\u001b[0m in \u001b[0;36m<module>\u001b[0;34m\u001b[0m\n\u001b[1;32m     39\u001b[0m     \u001b[0mfinal_df\u001b[0m\u001b[0;34m.\u001b[0m\u001b[0mto_csv\u001b[0m\u001b[0;34m(\u001b[0m\u001b[0mcsv_name\u001b[0m\u001b[0;34m)\u001b[0m\u001b[0;34m\u001b[0m\u001b[0;34m\u001b[0m\u001b[0m\n\u001b[1;32m     40\u001b[0m \u001b[0;34m\u001b[0m\u001b[0m\n\u001b[0;32m---> 41\u001b[0;31m \u001b[0mprocess_folder\u001b[0m\u001b[0;34m(\u001b[0m\u001b[0msubfolders\u001b[0m\u001b[0;34m[\u001b[0m\u001b[0;36m19\u001b[0m\u001b[0;34m]\u001b[0m\u001b[0;34m,\u001b[0m\u001b[0mfol\u001b[0m\u001b[0;34m,\u001b[0m\u001b[0moutputFolder\u001b[0m\u001b[0;34m)\u001b[0m\u001b[0;34m\u001b[0m\u001b[0;34m\u001b[0m\u001b[0m\n\u001b[0m\u001b[1;32m     42\u001b[0m \u001b[0;31m# process_folder(subfolders[0],fol,outputFolder)\u001b[0m\u001b[0;34m\u001b[0m\u001b[0;34m\u001b[0m\u001b[0;34m\u001b[0m\u001b[0m\n\u001b[1;32m     43\u001b[0m \u001b[0;31m# process_folder(subfolders[1],fol,outputFolder)\u001b[0m\u001b[0;34m\u001b[0m\u001b[0;34m\u001b[0m\u001b[0;34m\u001b[0m\u001b[0m\n",
      "\u001b[0;32m<ipython-input-5-5f03499d3477>\u001b[0m in \u001b[0;36mprocess_folder\u001b[0;34m(this_folder, fol, outputFolder)\u001b[0m\n\u001b[1;32m     14\u001b[0m     \u001b[0mdf_popu2\u001b[0m \u001b[0;34m=\u001b[0m \u001b[0mpd\u001b[0m\u001b[0;34m.\u001b[0m\u001b[0mread_csv\u001b[0m\u001b[0;34m(\u001b[0m\u001b[0moutput_popu\u001b[0m\u001b[0;34m,\u001b[0m \u001b[0mdelim_whitespace\u001b[0m\u001b[0;34m=\u001b[0m\u001b[0;32mTrue\u001b[0m\u001b[0;34m,\u001b[0m \u001b[0mnames\u001b[0m\u001b[0;34m=\u001b[0m\u001b[0;34m[\u001b[0m\u001b[0;34m'fs_1'\u001b[0m\u001b[0;34m,\u001b[0m \u001b[0;34m'S0'\u001b[0m\u001b[0;34m,\u001b[0m \u001b[0;34m'S1'\u001b[0m\u001b[0;34m,\u001b[0m\u001b[0;34m'S2'\u001b[0m\u001b[0;34m,\u001b[0m\u001b[0;34m'S3'\u001b[0m\u001b[0;34m,\u001b[0m\u001b[0;34m'S4'\u001b[0m\u001b[0;34m,\u001b[0m\u001b[0;34m'S5'\u001b[0m\u001b[0;34m,\u001b[0m\u001b[0;34m'S6'\u001b[0m\u001b[0;34m,\u001b[0m\u001b[0;34m'S7'\u001b[0m\u001b[0;34m]\u001b[0m\u001b[0;34m)\u001b[0m\u001b[0;34m\u001b[0m\u001b[0;34m\u001b[0m\u001b[0m\n\u001b[1;32m     15\u001b[0m     \u001b[0mdf_abso2\u001b[0m \u001b[0;34m=\u001b[0m \u001b[0mpd\u001b[0m\u001b[0;34m.\u001b[0m\u001b[0mread_csv\u001b[0m\u001b[0;34m(\u001b[0m\u001b[0moutput_abso\u001b[0m\u001b[0;34m,\u001b[0m \u001b[0mdelim_whitespace\u001b[0m\u001b[0;34m=\u001b[0m\u001b[0;32mTrue\u001b[0m\u001b[0;34m,\u001b[0m \u001b[0mnames\u001b[0m\u001b[0;34m=\u001b[0m\u001b[0;34m[\u001b[0m\u001b[0;34m'Time AU'\u001b[0m\u001b[0;34m,\u001b[0m \u001b[0;34m'Abs Tot'\u001b[0m\u001b[0;34m,\u001b[0m \u001b[0;34m'Abs S0'\u001b[0m\u001b[0;34m,\u001b[0m \u001b[0;34m'Abs S1'\u001b[0m\u001b[0;34m,\u001b[0m\u001b[0;34m'Abs S2'\u001b[0m\u001b[0;34m,\u001b[0m\u001b[0;34m'Abs S3'\u001b[0m\u001b[0;34m,\u001b[0m\u001b[0;34m'Abs S4'\u001b[0m\u001b[0;34m,\u001b[0m\u001b[0;34m'Abs S5'\u001b[0m\u001b[0;34m,\u001b[0m\u001b[0;34m'Abs S6'\u001b[0m\u001b[0;34m,\u001b[0m\u001b[0;34m'Abs S7'\u001b[0m\u001b[0;34m]\u001b[0m\u001b[0;34m)\u001b[0m\u001b[0;34m\u001b[0m\u001b[0;34m\u001b[0m\u001b[0m\n\u001b[0;32m---> 16\u001b[0;31m     \u001b[0mdf_regi2\u001b[0m \u001b[0;34m=\u001b[0m \u001b[0mpd\u001b[0m\u001b[0;34m.\u001b[0m\u001b[0mread_csv\u001b[0m\u001b[0;34m(\u001b[0m\u001b[0moutput_regi\u001b[0m\u001b[0;34m,\u001b[0m \u001b[0mdelim_whitespace\u001b[0m\u001b[0;34m=\u001b[0m\u001b[0;32mTrue\u001b[0m\u001b[0;34m,\u001b[0m \u001b[0mnames\u001b[0m\u001b[0;34m=\u001b[0m\u001b[0;34m[\u001b[0m\u001b[0;34m'Non-decided'\u001b[0m\u001b[0;34m,\u001b[0m\u001b[0;34m'Reactants'\u001b[0m\u001b[0;34m,\u001b[0m\u001b[0;34m'Products'\u001b[0m\u001b[0;34m]\u001b[0m\u001b[0;34m)\u001b[0m\u001b[0;34m\u001b[0m\u001b[0;34m\u001b[0m\u001b[0m\n\u001b[0m\u001b[1;32m     17\u001b[0m \u001b[0;34m\u001b[0m\u001b[0m\n\u001b[1;32m     18\u001b[0m     \u001b[0;31m# I need to cut down to different file size <- this will become obsolete\u001b[0m\u001b[0;34m\u001b[0m\u001b[0;34m\u001b[0m\u001b[0;34m\u001b[0m\u001b[0m\n",
      "\u001b[0;32m~/config/quantumpropagator/lib/python3.6/site-packages/pandas-0.25.1-py3.6-linux-x86_64.egg/pandas/io/parsers.py\u001b[0m in \u001b[0;36mparser_f\u001b[0;34m(filepath_or_buffer, sep, delimiter, header, names, index_col, usecols, squeeze, prefix, mangle_dupe_cols, dtype, engine, converters, true_values, false_values, skipinitialspace, skiprows, skipfooter, nrows, na_values, keep_default_na, na_filter, verbose, skip_blank_lines, parse_dates, infer_datetime_format, keep_date_col, date_parser, dayfirst, cache_dates, iterator, chunksize, compression, thousands, decimal, lineterminator, quotechar, quoting, doublequote, escapechar, comment, encoding, dialect, error_bad_lines, warn_bad_lines, delim_whitespace, low_memory, memory_map, float_precision)\u001b[0m\n\u001b[1;32m    683\u001b[0m         )\n\u001b[1;32m    684\u001b[0m \u001b[0;34m\u001b[0m\u001b[0m\n\u001b[0;32m--> 685\u001b[0;31m         \u001b[0;32mreturn\u001b[0m \u001b[0m_read\u001b[0m\u001b[0;34m(\u001b[0m\u001b[0mfilepath_or_buffer\u001b[0m\u001b[0;34m,\u001b[0m \u001b[0mkwds\u001b[0m\u001b[0;34m)\u001b[0m\u001b[0;34m\u001b[0m\u001b[0;34m\u001b[0m\u001b[0m\n\u001b[0m\u001b[1;32m    686\u001b[0m \u001b[0;34m\u001b[0m\u001b[0m\n\u001b[1;32m    687\u001b[0m     \u001b[0mparser_f\u001b[0m\u001b[0;34m.\u001b[0m\u001b[0m__name__\u001b[0m \u001b[0;34m=\u001b[0m \u001b[0mname\u001b[0m\u001b[0;34m\u001b[0m\u001b[0;34m\u001b[0m\u001b[0m\n",
      "\u001b[0;32m~/config/quantumpropagator/lib/python3.6/site-packages/pandas-0.25.1-py3.6-linux-x86_64.egg/pandas/io/parsers.py\u001b[0m in \u001b[0;36m_read\u001b[0;34m(filepath_or_buffer, kwds)\u001b[0m\n\u001b[1;32m    455\u001b[0m \u001b[0;34m\u001b[0m\u001b[0m\n\u001b[1;32m    456\u001b[0m     \u001b[0;31m# Create the parser.\u001b[0m\u001b[0;34m\u001b[0m\u001b[0;34m\u001b[0m\u001b[0;34m\u001b[0m\u001b[0m\n\u001b[0;32m--> 457\u001b[0;31m     \u001b[0mparser\u001b[0m \u001b[0;34m=\u001b[0m \u001b[0mTextFileReader\u001b[0m\u001b[0;34m(\u001b[0m\u001b[0mfp_or_buf\u001b[0m\u001b[0;34m,\u001b[0m \u001b[0;34m**\u001b[0m\u001b[0mkwds\u001b[0m\u001b[0;34m)\u001b[0m\u001b[0;34m\u001b[0m\u001b[0;34m\u001b[0m\u001b[0m\n\u001b[0m\u001b[1;32m    458\u001b[0m \u001b[0;34m\u001b[0m\u001b[0m\n\u001b[1;32m    459\u001b[0m     \u001b[0;32mif\u001b[0m \u001b[0mchunksize\u001b[0m \u001b[0;32mor\u001b[0m \u001b[0miterator\u001b[0m\u001b[0;34m:\u001b[0m\u001b[0;34m\u001b[0m\u001b[0;34m\u001b[0m\u001b[0m\n",
      "\u001b[0;32m~/config/quantumpropagator/lib/python3.6/site-packages/pandas-0.25.1-py3.6-linux-x86_64.egg/pandas/io/parsers.py\u001b[0m in \u001b[0;36m__init__\u001b[0;34m(self, f, engine, **kwds)\u001b[0m\n\u001b[1;32m    893\u001b[0m             \u001b[0mself\u001b[0m\u001b[0;34m.\u001b[0m\u001b[0moptions\u001b[0m\u001b[0;34m[\u001b[0m\u001b[0;34m\"has_index_names\"\u001b[0m\u001b[0;34m]\u001b[0m \u001b[0;34m=\u001b[0m \u001b[0mkwds\u001b[0m\u001b[0;34m[\u001b[0m\u001b[0;34m\"has_index_names\"\u001b[0m\u001b[0;34m]\u001b[0m\u001b[0;34m\u001b[0m\u001b[0;34m\u001b[0m\u001b[0m\n\u001b[1;32m    894\u001b[0m \u001b[0;34m\u001b[0m\u001b[0m\n\u001b[0;32m--> 895\u001b[0;31m         \u001b[0mself\u001b[0m\u001b[0;34m.\u001b[0m\u001b[0m_make_engine\u001b[0m\u001b[0;34m(\u001b[0m\u001b[0mself\u001b[0m\u001b[0;34m.\u001b[0m\u001b[0mengine\u001b[0m\u001b[0;34m)\u001b[0m\u001b[0;34m\u001b[0m\u001b[0;34m\u001b[0m\u001b[0m\n\u001b[0m\u001b[1;32m    896\u001b[0m \u001b[0;34m\u001b[0m\u001b[0m\n\u001b[1;32m    897\u001b[0m     \u001b[0;32mdef\u001b[0m \u001b[0mclose\u001b[0m\u001b[0;34m(\u001b[0m\u001b[0mself\u001b[0m\u001b[0;34m)\u001b[0m\u001b[0;34m:\u001b[0m\u001b[0;34m\u001b[0m\u001b[0;34m\u001b[0m\u001b[0m\n",
      "\u001b[0;32m~/config/quantumpropagator/lib/python3.6/site-packages/pandas-0.25.1-py3.6-linux-x86_64.egg/pandas/io/parsers.py\u001b[0m in \u001b[0;36m_make_engine\u001b[0;34m(self, engine)\u001b[0m\n\u001b[1;32m   1133\u001b[0m     \u001b[0;32mdef\u001b[0m \u001b[0m_make_engine\u001b[0m\u001b[0;34m(\u001b[0m\u001b[0mself\u001b[0m\u001b[0;34m,\u001b[0m \u001b[0mengine\u001b[0m\u001b[0;34m=\u001b[0m\u001b[0;34m\"c\"\u001b[0m\u001b[0;34m)\u001b[0m\u001b[0;34m:\u001b[0m\u001b[0;34m\u001b[0m\u001b[0;34m\u001b[0m\u001b[0m\n\u001b[1;32m   1134\u001b[0m         \u001b[0;32mif\u001b[0m \u001b[0mengine\u001b[0m \u001b[0;34m==\u001b[0m \u001b[0;34m\"c\"\u001b[0m\u001b[0;34m:\u001b[0m\u001b[0;34m\u001b[0m\u001b[0;34m\u001b[0m\u001b[0m\n\u001b[0;32m-> 1135\u001b[0;31m             \u001b[0mself\u001b[0m\u001b[0;34m.\u001b[0m\u001b[0m_engine\u001b[0m \u001b[0;34m=\u001b[0m \u001b[0mCParserWrapper\u001b[0m\u001b[0;34m(\u001b[0m\u001b[0mself\u001b[0m\u001b[0;34m.\u001b[0m\u001b[0mf\u001b[0m\u001b[0;34m,\u001b[0m \u001b[0;34m**\u001b[0m\u001b[0mself\u001b[0m\u001b[0;34m.\u001b[0m\u001b[0moptions\u001b[0m\u001b[0;34m)\u001b[0m\u001b[0;34m\u001b[0m\u001b[0;34m\u001b[0m\u001b[0m\n\u001b[0m\u001b[1;32m   1136\u001b[0m         \u001b[0;32melse\u001b[0m\u001b[0;34m:\u001b[0m\u001b[0;34m\u001b[0m\u001b[0;34m\u001b[0m\u001b[0m\n\u001b[1;32m   1137\u001b[0m             \u001b[0;32mif\u001b[0m \u001b[0mengine\u001b[0m \u001b[0;34m==\u001b[0m \u001b[0;34m\"python\"\u001b[0m\u001b[0;34m:\u001b[0m\u001b[0;34m\u001b[0m\u001b[0;34m\u001b[0m\u001b[0m\n",
      "\u001b[0;32m~/config/quantumpropagator/lib/python3.6/site-packages/pandas-0.25.1-py3.6-linux-x86_64.egg/pandas/io/parsers.py\u001b[0m in \u001b[0;36m__init__\u001b[0;34m(self, src, **kwds)\u001b[0m\n\u001b[1;32m   1915\u001b[0m         \u001b[0mkwds\u001b[0m\u001b[0;34m[\u001b[0m\u001b[0;34m\"usecols\"\u001b[0m\u001b[0;34m]\u001b[0m \u001b[0;34m=\u001b[0m \u001b[0mself\u001b[0m\u001b[0;34m.\u001b[0m\u001b[0musecols\u001b[0m\u001b[0;34m\u001b[0m\u001b[0;34m\u001b[0m\u001b[0m\n\u001b[1;32m   1916\u001b[0m \u001b[0;34m\u001b[0m\u001b[0m\n\u001b[0;32m-> 1917\u001b[0;31m         \u001b[0mself\u001b[0m\u001b[0;34m.\u001b[0m\u001b[0m_reader\u001b[0m \u001b[0;34m=\u001b[0m \u001b[0mparsers\u001b[0m\u001b[0;34m.\u001b[0m\u001b[0mTextReader\u001b[0m\u001b[0;34m(\u001b[0m\u001b[0msrc\u001b[0m\u001b[0;34m,\u001b[0m \u001b[0;34m**\u001b[0m\u001b[0mkwds\u001b[0m\u001b[0;34m)\u001b[0m\u001b[0;34m\u001b[0m\u001b[0;34m\u001b[0m\u001b[0m\n\u001b[0m\u001b[1;32m   1918\u001b[0m         \u001b[0mself\u001b[0m\u001b[0;34m.\u001b[0m\u001b[0munnamed_cols\u001b[0m \u001b[0;34m=\u001b[0m \u001b[0mself\u001b[0m\u001b[0;34m.\u001b[0m\u001b[0m_reader\u001b[0m\u001b[0;34m.\u001b[0m\u001b[0munnamed_cols\u001b[0m\u001b[0;34m\u001b[0m\u001b[0;34m\u001b[0m\u001b[0m\n\u001b[1;32m   1919\u001b[0m \u001b[0;34m\u001b[0m\u001b[0m\n",
      "\u001b[0;32mpandas/_libs/parsers.pyx\u001b[0m in \u001b[0;36mpandas._libs.parsers.TextReader.__cinit__\u001b[0;34m()\u001b[0m\n",
      "\u001b[0;32mpandas/_libs/parsers.pyx\u001b[0m in \u001b[0;36mpandas._libs.parsers.TextReader._setup_parser_source\u001b[0;34m()\u001b[0m\n",
      "\u001b[0;31mFileNotFoundError\u001b[0m: [Errno 2] File b'/home/alessio/w-August-Run/y-probe-UV_0000/Output_Regions' does not exist: b'/home/alessio/w-August-Run/y-probe-UV_0000/Output_Regions'"
     ]
    }
   ],
   "source": [
    "\n",
    "def process_folder(this_folder,fol,outputFolder):\n",
    "    '''\n",
    "    this function will create a correct set of files to give to Francoise\n",
    "    '''\n",
    "    project_folder = os.path.join(fol,this_folder)\n",
    "    project_output = os.path.join(outputFolder,this_folder)\n",
    "    output_norm = os.path.join(project_folder, 'output')\n",
    "    output_popu = os.path.join(project_folder, 'outputPopul')\n",
    "    output_abso = os.path.join(project_folder, 'Output_Abs')\n",
    "    output_regi = os.path.join(project_folder, 'Output_Regions')\n",
    "    output_dipo = os.path.join(project_folder, 'Output_Dipole')\n",
    "    \n",
    "    df_norm2 = pd.read_csv(output_norm, delim_whitespace=True, index_col=0, names=['counter', 'steps', 'fs','Norm deviation','Kinetic','Potential','Total','Total Deviation','Xpulse','Ypulse','Zpulse','AbZino'])\n",
    "    df_popu2 = pd.read_csv(output_popu, delim_whitespace=True, names=['fs_1', 'S0', 'S1','S2','S3','S4','S5','S6','S7'])\n",
    "    df_abso2 = pd.read_csv(output_abso, delim_whitespace=True, names=['Time AU', 'Abs Tot', 'Abs S0', 'Abs S1','Abs S2','Abs S3','Abs S4','Abs S5','Abs S6','Abs S7'])\n",
    "    df_regi2 = pd.read_csv(output_regi, delim_whitespace=True, names=['Non-decided','Reactants','Products'])\n",
    "    \n",
    "    # I need to cut down to different file size <- this will become obsolete\n",
    "    dfs = [df_norm2,df_popu2,df_abso2,df_regi2]\n",
    "    lengths = min([x.shape[0] for x in dfs])\n",
    "    df_norm, df_popu, df_abso, df_regi = [ x.drop(x.index[lengths:]) for x in dfs ]\n",
    "\n",
    "    df_all = pd.concat([df_norm, df_popu, df_abso, df_regi], axis = 1)\n",
    "\n",
    "    # time step in AU\n",
    "    AU_dt = df_abso['Time AU'].iloc[1]\n",
    "    \n",
    "    # create the absorbed columns\n",
    "    for statZ in ['Tot','S0','S1','S2','S3','S4','S5','S6','S7']:\n",
    "        df_all['P(t) {}'.format(statZ)] = -(np.cumsum(df_all['Abs {}'.format(statZ)])*AU_dt)\n",
    "    \n",
    "    # change sign of norm\n",
    "    df_all['Norm deviation'] = -df_all['Norm deviation']\n",
    "    \n",
    "    # clean the paper\n",
    "    final_df = df_all.drop(['Abs Tot', 'Abs S0', 'Abs S1','Abs S2','Abs S3','Abs S4','Abs S5','Abs S6','Abs S7','fs_1','AbZino'],axis=1)\n",
    "    \n",
    "    csv_name = '{}.csv'.format(project_output)\n",
    "    final_df.to_csv(csv_name)\n",
    "\n",
    "process_folder(subfolders[19],fol,outputFolder)    \n",
    "# process_folder(subfolders[0],fol,outputFolder)\n",
    "# process_folder(subfolders[1],fol,outputFolder)\n",
    "# process_folder(subfolders[2],fol,outputFolder)\n",
    "# process_folder(subfolders[3],fol,outputFolder)\n",
    "# process_folder(subfolders[20],fol,outputFolder)"
   ]
  },
  {
   "cell_type": "code",
   "execution_count": 4,
   "metadata": {},
   "outputs": [
    {
     "name": "stdout",
     "output_type": "stream",
     "text": [
      "file b-UV-0.22_0000_BONDS_r_c_1.4-non-overlapping_ACTIVE.csv written\n",
      "file m-IR-Polarized-LON_0000_BONDS_r_c_1.4-non-overlapping_ACTIVE.csv written\n",
      "file m-IR-Polarized-NOR_0000_BONDS_r_c_1.4-non-overlapping_ACTIVE.csv written\n",
      "file z-from1_0000_BONDS_r_c_1.4-non-overlapping_ACTIVE.csv written\n",
      "file b-UV-0.22_0000_BONDS_r_c_1.4-non-overlapping_ALL.csv written\n",
      "file m-IR-Polarized-LON_0000_BONDS_r_c_1.4-non-overlapping_ALL.csv written\n",
      "file m-IR-Polarized-NOR_0000_BONDS_r_c_1.4-non-overlapping_ALL.csv written\n",
      "file z-from1_0000_BONDS_r_c_1.4-non-overlapping_ALL.csv written\n"
     ]
    }
   ],
   "source": [
    "kind = 'r_c_1.4-non-overlapping'\n",
    "bonds_folder = '/home/alessio/densities/From_pinot/calculationZ_high_def/{}'.format(kind)\n",
    "\n",
    "def create_bonds_files(bonds_folder, outputFolder):\n",
    "    for next_folder in ['ACTIVE','ALL']:\n",
    "        sub3 = os.path.join(bonds_folder,next_folder)\n",
    "        subfolders2 = sorted([dir for dir in os.listdir(sub3) if os.path.isdir(os.path.join(sub3,dir))])\n",
    "        for proj in subfolders2:\n",
    "            full_path = os.path.join(sub3,proj)\n",
    "            files_dat = sorted([ os.path.join(full_path,x) for x in os.listdir(full_path) if x[-4:] == '.dat' and x[0] == 'l' ])\n",
    "            data = [ np.loadtxt(i) for i in files_dat ]\n",
    "            dic = {}\n",
    "            dic['Time'] = data[0][:,0]  # first column of first file, the time\n",
    "            labels = ['Old bond','New Bond']\n",
    "            for i, this_one in enumerate(data):\n",
    "                dic[labels[i]] = this_one[:,1]\n",
    "            df = pd.DataFrame(dic)\n",
    "            file_final_name = '{}_BONDS_{}_{}.csv'.format(proj,kind,next_folder)\n",
    "            print('file {} written'.format(file_final_name))\n",
    "            df.to_csv(os.path.join(outputFolder,file_final_name))\n",
    "    return(df)\n",
    "    \n",
    "\n",
    "a = create_bonds_files(bonds_folder, outputFolder)"
   ]
  },
  {
   "cell_type": "markdown",
   "metadata": {},
   "source": [
    "# Product/Reactants part 4"
   ]
  },
  {
   "cell_type": "code",
   "execution_count": 71,
   "metadata": {},
   "outputs": [],
   "source": [
    "names = [ x for x in os.listdir(outputFolder) if x[-8:] == '0000.csv' ]\n",
    "main_papers = [ pd.read_csv(os.path.join(outputFolder,x)) for x in names ]\n",
    "\n",
    "masknames = {'b-UV-0.22_0000.csv' : 'UV', 'm-IR-Polarized-LON_0000.csv' : 'IR_LON', 'm-IR-Polarized-INV_0000.csv' : 'IR_INV', 'm-IR-Polarized-NOR_0000.csv' : 'IR_NOR', 'z-from1_0000.csv' : 'FC'}"
   ]
  },
  {
   "cell_type": "code",
   "execution_count": 72,
   "metadata": {},
   "outputs": [
    {
     "data": {
      "application/vnd.jupyter.widget-view+json": {
       "model_id": "2fd2ae7859624c3a95ab9a8e092eeb87",
       "version_major": 2,
       "version_minor": 0
      },
      "text/plain": [
       "Canvas(toolbar=Toolbar(toolitems=[('Home', 'Reset original view', 'home', 'home'), ('Back', 'Back to previous …"
      ]
     },
     "metadata": {},
     "output_type": "display_data"
    },
    {
     "name": "stderr",
     "output_type": "stream",
     "text": [
      "No handles with labels found to put in legend.\n"
     ]
    }
   ],
   "source": [
    "colors = ['b', 'g', 'r', 'm', 'c', 'y', 'k', 'mediumpurple']\n",
    "plt.close('all')\n",
    "\n",
    "def get_product_reactants(dfs,names):\n",
    "    '''little function to mimic calculate/ratio3'''\n",
    "    fig, [[ax0, ax1],[ax2,ax3],[ax4,ax5],[ax6,ax7]] = plt.subplots(4,2,figsize=(16,8))\n",
    "    \n",
    "    for i, df in enumerate(dfs):\n",
    "        this_lab = masknames[names[i]]\n",
    "        ax0.plot(df['fs'], df['Reactants'], label=this_lab, ls='--', color=colors[i])\n",
    "        ax0.plot(df['fs'], df['Products'], label=this_lab ,          color=colors[i])\n",
    "        ax0.set_title('JUST REGIONS')\n",
    "        \n",
    "        ax2.plot(df['fs'], df['P(t) S0'], label=this_lab, color=colors[i])\n",
    "        ax2.set_title('JUST ABSORBED S0')\n",
    "    \n",
    "        ax4.plot(df['fs'], df['Products'] + df['P(t) S0'], label=this_lab, color=colors[i])\n",
    "        ax4.set_title('SUM OF ABOVE')\n",
    "        \n",
    "        ax6.plot(df['fs'], df['Products'] + df['P(t) Tot'], label=this_lab, color=colors[i])\n",
    "        ax6.set_title('SUM with all ABSORBED STATES')\n",
    "        \n",
    "        #ax7.plot(df['fs'], df['Products'] + df['P(t) S6'], label=this_lab, color=colors[i])\n",
    "        \n",
    "        \n",
    "        number_line_after_pulse = 400\n",
    "        fs_after_pulse = df['fs'].iloc[number_line_after_pulse]\n",
    "    \n",
    "        all_state_labels = ['S0','S1','S2','S3','S4','S5','S6','S7']\n",
    "        all_after_pulse = np.empty(len(all_state_labels))\n",
    "        for ii, this_state_label in enumerate(all_state_labels):\n",
    "            all_after_pulse[ii] = df[this_state_label].iloc[number_line_after_pulse]\n",
    "            # print(df[this_state_label].iloc[number_line_after_pulse])\n",
    "        \n",
    "    fig.canvas.layout.height = '800px'\n",
    "        #fig.canvas.layout.width = '500px'\n",
    "\n",
    "    ax0.legend()\n",
    "    ax2.legend()\n",
    "    ax4.legend()\n",
    "    ax6.legend()\n",
    "    ax7.legend()\n",
    "\n",
    "    fig.tight_layout();\n",
    "\n",
    "\n",
    "get_product_reactants(main_papers,names)"
   ]
  },
  {
   "cell_type": "code",
   "execution_count": 65,
   "metadata": {},
   "outputs": [
    {
     "data": {
      "text/plain": [
       "0.0"
      ]
     },
     "execution_count": 65,
     "metadata": {},
     "output_type": "execute_result"
    }
   ],
   "source": [
    "df = main_papers[4]\n",
    "\n",
    "threshold = 0.0000000001 # threshold at which the pulse is considered finished.\n",
    "pulse_norm = np.linalg.norm(np.stack((df['Xpulse'],df['Ypulse'],df['Zpulse']),axis=1),axis=1)\n",
    "number_line_after_pulse_array = np.where(pulse_norm > threshold)[0]\n",
    "\n",
    "# FC is empty\n",
    "if number_line_after_pulse_array.size == 0:\n",
    "    number_line_after_pulse = 0\n",
    "else:\n",
    "    number_line_after_pulse = number_line_after_pulse_array[-1]\n",
    "\n",
    "fs_after_pulse = df['fs'].iloc[number_line_after_pulse]\n",
    "fs_after_pulse"
   ]
  },
  {
   "cell_type": "code",
   "execution_count": null,
   "metadata": {},
   "outputs": [],
   "source": []
  }
 ],
 "metadata": {
  "kernelspec": {
   "display_name": "Python 3",
   "language": "python",
   "name": "python3"
  },
  "language_info": {
   "codemirror_mode": {
    "name": "ipython",
    "version": 3
   },
   "file_extension": ".py",
   "mimetype": "text/x-python",
   "name": "python",
   "nbconvert_exporter": "python",
   "pygments_lexer": "ipython3",
   "version": "3.6.8"
  }
 },
 "nbformat": 4,
 "nbformat_minor": 4
}
