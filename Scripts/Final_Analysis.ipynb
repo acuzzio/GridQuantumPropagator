{
 "cells": [
  {
   "cell_type": "code",
   "execution_count": 40,
   "metadata": {},
   "outputs": [],
   "source": [
    "import quantumpropagator as qp\n",
    "import matplotlib.pyplot as plt\n",
    "import matplotlib\n",
    "from ipywidgets import interact,fixed #, interactive, fixed, interact_manual\n",
    "import ipywidgets as widgets\n",
    "\n",
    "import os\n",
    "import sys\n",
    "import glob\n",
    "import pandas as pd\n",
    "import numpy as np\n",
    "\n",
    "%matplotlib ipympl\n",
    "\n",
    "plt.rcParams.update({'font.size': 5})"
   ]
  },
  {
   "cell_type": "code",
   "execution_count": 9,
   "metadata": {},
   "outputs": [
    {
     "name": "stdout",
     "output_type": "stream",
     "text": [
      "0 -> b-UV-0.22_0000\n",
      "1 -> m-IR-Polarized-INV_0000\n",
      "2 -> m-IR-Polarized-LON_0000\n",
      "3 -> m-IR-Polarized-NOR_0000\n",
      "4 -> position-from1_0000\n",
      "5 -> position-from2_0000\n",
      "6 -> position-from3_0000\n",
      "7 -> position-from4_0000\n",
      "8 -> position-from5_0000\n",
      "9 -> position-from6_0000\n",
      "10 -> t-FC_excited_phi_0000\n",
      "11 -> t-IR-to-excite-phi_0000\n",
      "12 -> t-UV-0.22_excited_phi_0001\n",
      "13 -> w-SubMask_from_IR_time_reversed_0000\n",
      "14 -> x-SubMask_from_IR_0000\n",
      "15 -> x-SubMask_from_IR_INV_0000\n",
      "16 -> z-from1_0000\n",
      "\n"
     ]
    }
   ],
   "source": [
    "fol = '/home/alessio/w-August-Run/'\n",
    "outputFolder = '/home/alessio/w-August-Run/OUTPUTS'\n",
    "subfolders2 = sorted([dir for dir in os.listdir(fol) if os.path.isdir(os.path.join(fol,dir))])\n",
    "subfolders =  [ dir for dir in subfolders2 if dir not in ['HTML','csv','OUTPUTS','FRANCOISE'] ]\n",
    "print(''.join(['{} -> {}\\n'.format(a,b) for a,b in enumerate(subfolders)]))"
   ]
  },
  {
   "cell_type": "code",
   "execution_count": 10,
   "metadata": {},
   "outputs": [],
   "source": [
    "\n",
    "def process_folder(this_folder,fol,outputFolder):\n",
    "    '''\n",
    "    this function will create a correct set of files to give to Francoise\n",
    "    '''\n",
    "    project_folder = os.path.join(fol,this_folder)\n",
    "    project_output = os.path.join(outputFolder,this_folder)\n",
    "    output_norm = os.path.join(project_folder, 'output')\n",
    "    output_popu = os.path.join(project_folder, 'outputPopul')\n",
    "    output_abso = os.path.join(project_folder, 'Output_Abs')\n",
    "    output_regi = os.path.join(project_folder, 'Output_Regions')\n",
    "    output_dipo = os.path.join(project_folder, 'Output_Dipole')\n",
    "    \n",
    "    df_norm2 = pd.read_csv(output_norm, delim_whitespace=True, index_col=0, names=['counter', 'steps', 'fs','Norm deviation','Kinetic','Potential','Total','Total Deviation','Xpulse','Ypulse','Zpulse','AbZino'])\n",
    "    df_popu2 = pd.read_csv(output_popu, delim_whitespace=True, names=['fs_1', 'S0', 'S1','S2','S3','S4','S5','S6','S7'])\n",
    "    df_abso2 = pd.read_csv(output_abso, delim_whitespace=True, names=['Time AU', 'Abs Tot', 'Abs S0', 'Abs S1','Abs S2','Abs S3','Abs S4','Abs S5','Abs S6','Abs S7'])\n",
    "    df_regi2 = pd.read_csv(output_regi, delim_whitespace=True, names=['FC','Reactants','Products'])\n",
    "    \n",
    "    # I need to cut down to different file size <- this will become obsolete\n",
    "    dfs = [df_norm2,df_popu2,df_abso2,df_regi2]\n",
    "    lengths = min([x.shape[0] for x in dfs])\n",
    "    df_norm, df_popu, df_abso, df_regi = [ x.drop(x.index[lengths:]) for x in dfs ]\n",
    "\n",
    "    df_all = pd.concat([df_norm, df_popu, df_abso, df_regi], axis = 1)\n",
    "\n",
    "    # time step in AU\n",
    "    AU_dt = df_abso['Time AU'].iloc[1]\n",
    "    \n",
    "    # create the absorbed columns\n",
    "    for statZ in ['Tot','S0','S1','S2','S3','S4','S5','S6','S7']:\n",
    "        df_all['P(t) {}'.format(statZ)] = -(np.cumsum(df_all['Abs {}'.format(statZ)])*AU_dt)\n",
    "    \n",
    "    # change sign of norm\n",
    "    df_all['Norm deviation'] = -df_all['Norm deviation']\n",
    "    \n",
    "    # clean the paper\n",
    "    final_df = df_all.drop(['Abs Tot', 'Abs S0', 'Abs S1','Abs S2','Abs S3','Abs S4','Abs S5','Abs S6','Abs S7','fs_1','AbZino'],axis=1)\n",
    "    \n",
    "    csv_name = '{}.csv'.format(project_output)\n",
    "    final_df.to_csv(csv_name)\n",
    "    \n",
    "process_folder(subfolders[1],fol,outputFolder)\n",
    "# process_folder(subfolders[3],fol,outputFolder)\n",
    "# process_folder(subfolders[2],fol,outputFolder)\n",
    "# process_folder(subfolders[15],fol,outputFolder)"
   ]
  },
  {
   "cell_type": "code",
   "execution_count": 4,
   "metadata": {},
   "outputs": [],
   "source": [
    "kind = 'r_c_1.4-non-overlapping'\n",
    "bonds_folder = '/home/alessio/densities/From_pinot/calculationZ_high_def/{}'.format(kind)\n",
    "\n",
    "def create_bonds_files(bonds_folder, outputFolder):\n",
    "    for next_folder in ['ACTIVE','ALL']:\n",
    "        sub3 = os.path.join(bonds_folder,next_folder)\n",
    "        subfolders2 = sorted([dir for dir in os.listdir(sub3) if os.path.isdir(os.path.join(sub3,dir))])\n",
    "        for proj in subfolders2:\n",
    "            full_path = os.path.join(sub3,proj)\n",
    "            files_dat = sorted([ os.path.join(full_path,x) for x in os.listdir(full_path) if x[-4:] == '.dat' and x[0] == 'l' ])\n",
    "            data = [ np.loadtxt(i) for i in files_dat ]\n",
    "            dic = {}\n",
    "            dic['Time'] = data[0][:,0]  # first column of first file, the time\n",
    "            labels = ['Blue','Red']\n",
    "            for i, this_one in enumerate(data):\n",
    "                dic[labels[i]] = this_one[:,1]\n",
    "            df = pd.DataFrame(dic)\n",
    "            file_final_name = '{}_BONDS_{}_{}.csv'.format(proj,kind,next_folder)\n",
    "            df.to_csv(os.path.join(outputFolder,file_final_name))\n",
    "    return(df)\n",
    "    \n",
    "\n",
    "a = create_bonds_files(bonds_folder, outputFolder)"
   ]
  },
  {
   "cell_type": "markdown",
   "metadata": {},
   "source": [
    "# Product/Reactants part 4"
   ]
  },
  {
   "cell_type": "code",
   "execution_count": 33,
   "metadata": {},
   "outputs": [
    {
     "name": "stdout",
     "output_type": "stream",
     "text": [
      "['b-UV-0.22_0000.csv', 'm-IR-Polarized-LON_0000.csv', 'm-IR-Polarized-INV_0000.csv', 'm-IR-Polarized-NOR_0000.csv', 'z-from1_0000.csv']\n"
     ]
    }
   ],
   "source": [
    "names = [ x for x in os.listdir(outputFolder) if x[-8:] == '0000.csv' ]\n",
    "main_papers = [ pd.read_csv(os.path.join(outputFolder,x)) for x in names ]\n",
    "\n",
    "masknames = {'b-UV-0.22_0000.csv' : 'UV', 'm-IR-Polarized-LON_0000.csv' : 'IR_LON', 'm-IR-Polarized-INV_0000.csv' : 'IR_INV', 'm-IR-Polarized-NOR_0000.csv' : 'IR_NOR', 'z-from1_0000.csv' : 'FC'}"
   ]
  },
  {
   "cell_type": "code",
   "execution_count": 21,
   "metadata": {},
   "outputs": [
    {
     "data": {
      "text/plain": [
       "Index(['counter', 'steps', 'fs', 'Norm deviation', 'Kinetic', 'Potential',\n",
       "       'Total', 'Total Deviation', 'Xpulse', 'Ypulse', 'Zpulse', 'S0', 'S1',\n",
       "       'S2', 'S3', 'S4', 'S5', 'S6', 'S7', 'Time AU', 'FC', 'Reactants',\n",
       "       'Products', 'P(t) Tot', 'P(t) S0', 'P(t) S1', 'P(t) S2', 'P(t) S3',\n",
       "       'P(t) S4', 'P(t) S5', 'P(t) S6', 'P(t) S7'],\n",
       "      dtype='object')"
      ]
     },
     "execution_count": 21,
     "metadata": {},
     "output_type": "execute_result"
    }
   ],
   "source": []
  },
  {
   "cell_type": "code",
   "execution_count": 80,
   "metadata": {},
   "outputs": [
    {
     "data": {
      "application/vnd.jupyter.widget-view+json": {
       "model_id": "a264a3b6aa0e4b8abf2d71c3806bd4d4",
       "version_major": 2,
       "version_minor": 0
      },
      "text/plain": [
       "A Jupyter Widget"
      ]
     },
     "metadata": {},
     "output_type": "display_data"
    }
   ],
   "source": [
    "colors = ['b', 'g', 'r', 'm', 'c', 'y', 'k', 'mediumpurple']\n",
    "plt.close('all')\n",
    "\n",
    "def get_product_reactants(dfs,names):\n",
    "    '''little function to mimic calculate/ratio3'''\n",
    "    fig, [[ax0, ax1],[ax2,ax3],[ax4,ax5],[ax6,ax7]] = plt.subplots(4,2,figsize=(6,8))\n",
    "    \n",
    "    for i, df in enumerate(dfs):\n",
    "        this_lab = masknames[names[i]]\n",
    "        ax0.plot(df['fs'], df['Reactants'], label=this_lab, ls='--', color=colors[i])\n",
    "        ax0.plot(df['fs'], df['Products'], label=this_lab ,          color=colors[i])\n",
    "        ax0.set_title('Products/Reactant')\n",
    "        \n",
    "        ax2.plot(df['fs'], df['P(t) S0'], label=this_lab, color=colors[i])\n",
    "        ax0.set_title('Products/Reactant')\n",
    "    \n",
    "        ax4.plot(df['fs'], df['Products'] + df['P(t) S0'], label=this_lab, color=colors[i])\n",
    "        ax4.set_title('Products/Reactant')\n",
    "        \n",
    "        ax6.plot(df['fs'], df['Products'] + df['P(t) Tot'], label=this_lab, color=colors[i])\n",
    "        ax6.set_title('Products/Reactant')\n",
    "        \n",
    "        ax7.plot(df['fs'], df['Products'] + df['P(t) S6'], label=this_lab, color=colors[i])\n",
    "    \n",
    "    ax0.legend()\n",
    "    ax2.legend()\n",
    "    ax4.legend()\n",
    "    ax6.legend()\n",
    "    ax7.legend()\n",
    "\n",
    "    fig.tight_layout();\n",
    "\n",
    "\n",
    "get_product_reactants(main_papers,names)"
   ]
  },
  {
   "cell_type": "code",
   "execution_count": null,
   "metadata": {},
   "outputs": [],
   "source": []
  }
 ],
 "metadata": {
  "kernelspec": {
   "display_name": "Python 3",
   "language": "python",
   "name": "python3"
  },
  "language_info": {
   "codemirror_mode": {
    "name": "ipython",
    "version": 3
   },
   "file_extension": ".py",
   "mimetype": "text/x-python",
   "name": "python",
   "nbconvert_exporter": "python",
   "pygments_lexer": "ipython3",
   "version": "3.5.4"
  }
 },
 "nbformat": 4,
 "nbformat_minor": 2
}
