{
 "cells": [
  {
   "cell_type": "code",
   "execution_count": 1,
   "metadata": {},
   "outputs": [],
   "source": [
    "import quantumpropagator as qp\n",
    "import matplotlib.pyplot as plt\n",
    "import matplotlib\n",
    "from ipywidgets import interact,fixed #, interactive, fixed, interact_manual\n",
    "import ipywidgets as widgets\n",
    "\n",
    "import os\n",
    "import sys\n",
    "import glob\n",
    "import pandas as pd\n",
    "import numpy as np\n",
    "\n",
    "%matplotlib ipympl\n",
    "\n",
    "plt.rcParams.update({'font.size': 10})"
   ]
  },
  {
   "cell_type": "code",
   "execution_count": 2,
   "metadata": {},
   "outputs": [
    {
     "name": "stdout",
     "output_type": "stream",
     "text": [
      "0 -> b-UV-0.22_0000\n",
      "1 -> m-IR-Polarized-INV_0000\n",
      "2 -> m-IR-Polarized-LON_0000\n",
      "3 -> m-IR-Polarized-NOR_0000\n",
      "4 -> position-from1_0000\n",
      "5 -> position-from2_0000\n",
      "6 -> position-from3_0000\n",
      "7 -> position-from4_0000\n",
      "8 -> position-from5_0000\n",
      "9 -> position-from6_0000\n",
      "10 -> t-FC_excited_phi_0000\n",
      "11 -> t-IR-to-excite-phi_0000\n",
      "12 -> t-UV-0.22_excited_phi_0001\n",
      "13 -> x-SubMask_from_IR_0000\n",
      "14 -> x-SubMask_from_IR_INV_0000\n",
      "15 -> z-from1_0000\n",
      "\n"
     ]
    }
   ],
   "source": [
    "fol = '/home/alessio/w-August-Run/'\n",
    "outputFolder = '/home/alessio/w-August-Run/OUTPUTS'\n",
    "subfolders2 = sorted([dir for dir in os.listdir(fol) if os.path.isdir(os.path.join(fol,dir))])\n",
    "subfolders =  [ dir for dir in subfolders2 if dir not in ['HTML','csv','OUTPUTS'] ]\n",
    "print(''.join(['{} -> {}\\n'.format(a,b) for a,b in enumerate(subfolders)]))"
   ]
  },
  {
   "cell_type": "code",
   "execution_count": 17,
   "metadata": {},
   "outputs": [],
   "source": [
    "\n",
    "def process_folder(this_folder,fol,outputFolder):\n",
    "    '''\n",
    "    this function will create a correct set of files to give to Francoise\n",
    "    '''\n",
    "    project_folder = os.path.join(fol,this_folder)\n",
    "    project_output = os.path.join(outputFolder,this_folder)\n",
    "    output_norm = os.path.join(project_folder, 'output')\n",
    "    output_popu = os.path.join(project_folder, 'outputPopul')\n",
    "    output_abso = os.path.join(project_folder, 'Output_Abs')\n",
    "    output_regi = os.path.join(project_folder, 'Output_Regions')\n",
    "    output_dipo = os.path.join(project_folder, 'Output_Dipole')\n",
    "    \n",
    "    df_norm2 = pd.read_csv(output_norm, delim_whitespace=True, index_col=0, names=['counter', 'steps', 'fs','Norm deviation','Kinetic','Potential','Total','Total Deviation','Xpulse','Ypulse','Zpulse','AbZino'])\n",
    "    df_popu2 = pd.read_csv(output_popu, delim_whitespace=True, names=['fs_1', 'S0', 'S1','S2','S3','S4','S5','S6','S7'])\n",
    "    df_abso2 = pd.read_csv(output_abso, delim_whitespace=True, names=['Time AU', 'Abs Tot', 'Abs S0', 'Abs S1','Abs S2','Abs S3','Abs S4','Abs S5','Abs S6','Abs S7'])\n",
    "    df_regi2 = pd.read_csv(output_regi, delim_whitespace=True, names=['FC','Reactants','Products'])\n",
    "    \n",
    "    # I need to cut down to different file size <- this will become obsolete\n",
    "    dfs = [df_norm2,df_popu2,df_abso2,df_regi2]\n",
    "    lengths = min([x.shape[0] for x in dfs])\n",
    "    df_norm, df_popu, df_abso, df_regi = [ x.drop(x.index[lengths:]) for x in dfs ]\n",
    "\n",
    "    df_all = pd.concat([df_norm, df_popu, df_abso, df_regi], axis = 1)\n",
    "\n",
    "    # time step in AU\n",
    "    AU_dt = df_abso['Time AU'].iloc[1]\n",
    "    \n",
    "    # create the absorbed columns\n",
    "    for statZ in ['Tot','S0','S1','S2','S3','S4','S5','S6','S7']:\n",
    "        df_all['P(t) {}'.format(statZ)] = -(np.cumsum(df_all['Abs {}'.format(statZ)])*AU_dt)\n",
    "    \n",
    "    # change sign of norm\n",
    "    df_all['Norm deviation'] = -df_all['Norm deviation']\n",
    "    \n",
    "    # clean the paper\n",
    "    final_df = df_all.drop(['Abs Tot', 'Abs S0', 'Abs S1','Abs S2','Abs S3','Abs S4','Abs S5','Abs S6','Abs S7','fs_1','AbZino'],axis=1)\n",
    "    \n",
    "    csv_name = '{}.csv'.format(project_output)\n",
    "    final_df.to_csv(csv_name)\n",
    "    \n",
    "process_folder(subfolders[0],fol,outputFolder)\n",
    "process_folder(subfolders[3],fol,outputFolder)"
   ]
  },
  {
   "cell_type": "code",
   "execution_count": 71,
   "metadata": {},
   "outputs": [],
   "source": [
    "kind = 'r_c_1.4-non-overlapping'\n",
    "bonds_folder = '/home/alessio/densities/From_pinot/calculationZ_high_def/{}'.format(kind)\n",
    "\n",
    "def create_bonds_files(bonds_folder, outputFolder):\n",
    "    for next_folder in ['ACTIVE']:\n",
    "        sub3 = os.path.join(bonds_folder,next_folder)\n",
    "        subfolders2 = sorted([dir for dir in os.listdir(sub3) if os.path.isdir(os.path.join(sub3,dir))])\n",
    "        for proj in subfolders2:\n",
    "            full_path = os.path.join(sub3,proj)\n",
    "            files_dat = sorted([ os.path.join(full_path,x) for x in os.listdir(full_path) if x[-4:] == '.dat' and x[0] == 'l' ])\n",
    "            data = [ np.loadtxt(i) for i in files_dat ]\n",
    "            dic = {}\n",
    "            dic['Time'] = data[0][:,0]  # first column of first file, the time\n",
    "            labels = ['Blue','Red']\n",
    "            for i, this_one in enumerate(data):\n",
    "                dic[labels[i]] = this_one[:,1]\n",
    "            df = pd.DataFrame(dic)\n",
    "            file_final_name = '{}_BONDS_{}_{}.csv'.format(proj,kind,next_folder)\n",
    "            df.to_csv(os.path.join(outputFolder,file_final_name))\n",
    "    return(df)\n",
    "    \n",
    "\n",
    "a = create_bonds_files(bonds_folder, outputFolder)"
   ]
  },
  {
   "cell_type": "code",
   "execution_count": null,
   "metadata": {},
   "outputs": [],
   "source": []
  }
 ],
 "metadata": {
  "kernelspec": {
   "display_name": "Python 3",
   "language": "python",
   "name": "python3"
  },
  "language_info": {
   "codemirror_mode": {
    "name": "ipython",
    "version": 3
   },
   "file_extension": ".py",
   "mimetype": "text/x-python",
   "name": "python",
   "nbconvert_exporter": "python",
   "pygments_lexer": "ipython3",
   "version": "3.5.4"
  }
 },
 "nbformat": 4,
 "nbformat_minor": 2
}
