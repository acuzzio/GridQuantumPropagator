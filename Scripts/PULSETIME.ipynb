{
 "cells": [
  {
   "cell_type": "code",
   "execution_count": 1,
   "metadata": {},
   "outputs": [
    {
     "data": {
      "text/html": [
       "<style>.container { width:100% !important; }</style>"
      ],
      "text/plain": [
       "<IPython.core.display.HTML object>"
      ]
     },
     "metadata": {},
     "output_type": "display_data"
    }
   ],
   "source": [
    "from IPython.core.display import display, HTML\n",
    "display(HTML(\"<style>.container { width:100% !important; }</style>\"))\n",
    "import quantumpropagator\n",
    "import matplotlib.pyplot as plt\n",
    "from ipywidgets import interact,fixed #, interactive, fixed, interact_manual\n",
    "import ipywidgets as widgets"
   ]
  },
  {
   "cell_type": "code",
   "execution_count": 2,
   "metadata": {
    "collapsed": true
   },
   "outputs": [],
   "source": [
    "dataDict = np.load('datanewoneWithNACnow.npy')[()]"
   ]
  },
  {
   "cell_type": "code",
   "execution_count": 11,
   "metadata": {},
   "outputs": [
    {
     "name": "stdout",
     "output_type": "stream",
     "text": [
      "4.27435703085393\n"
     ]
    },
    {
     "data": {
      "image/png": "[encoded data removed]",
      "text/plain": [
       "<matplotlib.figure.Figure at 0x7ff03c7720f0>"
      ]
     },
     "metadata": {},
     "output_type": "display_data"
    }
   ],
   "source": [
    "%matplotlib inline\n",
    "\n",
    "pulseX = [0.024,0.21,40,0,224]\n",
    "pulseY = [0.024,0.06,40,0,274]\n",
    "pulseZ = [0.024,0.06,40,0,274]\n",
    "\n",
    "# graph length in fs\n",
    "fs = 20\n",
    "# graph resolution\n",
    "reso = 20\n",
    "\n",
    "# actual plotting array\n",
    "fsarray = (np.arange(fs*reso))/reso\n",
    "a = qp.fromFsToAu(fsarray)\n",
    "b = qp.pulZe(a,pulseX)\n",
    "c = qp.envel(a,pulseX[0],pulseX[2],pulseX[4])\n",
    "\n",
    "fig = plt.figure(figsize=(15,5))\n",
    "\n",
    "plt.plot(fsarray,b)\n",
    "plt.plot(fsarray,c)\n",
    "\n",
    "e = 2 * np.pi/(pulseX[2])\n",
    "\n",
    "print(qp.fromHartoEv(e))"
   ]
  },
  {
   "cell_type": "code",
   "execution_count": 12,
   "metadata": {
    "collapsed": true
   },
   "outputs": [],
   "source": [
    "def expARR(array,howmany,direction=None):\n",
    "    direction = direction or 'both'\n",
    "    dx = array[1]-array[0]\n",
    "    after = (array[-1] + (dx * np.arange(howmany+1)))[1:]\n",
    "    before = np.flip((array[0] - (dx * np.arange(howmany+1)))[1:],0)\n",
    "    if direction == 'both':\n",
    "        return np.concatenate((before,array,after))\n",
    "    elif direction == 'dx':\n",
    "        return np.concatenate((array,after))\n",
    "    elif direction == 'sx':\n",
    "        return np.concatenate((before,array))\n",
    "    \n",
    "phiV, gamV, theV = qp.fromLabelsToFloats(dataDict)\n",
    "\n",
    "phis = qp.labTranformA(dataDict['phis'])\n",
    "gams = qp.labTranformA(dataDict['gams'])\n",
    "thes = qp.labTranformA(dataDict['thes'])\n",
    "\n",
    "phiL = len(phis)\n",
    "gamL = len(gams)\n",
    "theL = len(thes)"
   ]
  },
  {
   "cell_type": "code",
   "execution_count": 14,
   "metadata": {},
   "outputs": [],
   "source": [
    "# This part creates the potentials\n",
    "\n",
    "import scipy.io as sio\n",
    "\n",
    "# saveNew_matlab_Vector = False\n",
    "# #phi_L, gam_L, the_L, nstates =  potential.shape\n",
    "\n",
    "nstates = 8\n",
    "\n",
    "# if saveNew_matlab_Vector:\n",
    "#     allstates = {}\n",
    "\n",
    "#     for s in range(nstates):\n",
    "#         ground = potential[:,:,:,s]\n",
    "#         tupl = ground.shape\n",
    "#         ground.shape,phiV.shape,gamV.shape,theV.shape\n",
    "\n",
    "#         phi_mesh, gam_mesh, the_mesh =  np.meshgrid(phiV,gamV,theV, indexing='ij')\n",
    "\n",
    "#         phi_prime = phi_mesh.reshape(-1,1)\n",
    "#         gam_prime = gam_mesh.reshape(-1,1)\n",
    "#         the_prime = the_mesh.reshape(-1,1)\n",
    "\n",
    "#         X = np.concatenate((phi_prime,gam_prime,the_prime), axis=1)\n",
    "\n",
    "#         y = ground.reshape(-1,1)\n",
    "\n",
    "#         poly = PolynomialFeatures(degree=10)\n",
    "\n",
    "#         X_ = poly.fit_transform(X)\n",
    "\n",
    "#         clf = LinearRegression()\n",
    "#         clf.fit(X_, y)\n",
    "\n",
    "#         prediction = clf.predict(X_)\n",
    "#         prediction_reshaped = prediction.reshape(tupl)\n",
    "#         stringName = 'TDM{}'.format(s)\n",
    "#         allstates[stringName] = prediction_reshaped\n",
    "\n",
    "#     sio.savemat('np_vector.mat', allstates)\n",
    "\n",
    "aaa = sio.loadmat('tdm.mat')\n",
    "new = aaa['v0']\n",
    "new_phi_L, new_gam_L, new_the_L = new.shape\n",
    "ext_potential = np.empty((new_phi_L, new_gam_L, new_the_L, nstates))\n",
    "\n",
    "phi_cayo = expARR(phiV,15,'both')\n",
    "gam_cayo = expARR(gamV,15,'both')\n",
    "the_cayo = expARR(theV,30,'both')\n",
    "\n",
    "phi_mesh_cayo, gam_mesh_cayo, the_mesh_cayo =  np.meshgrid(phi_cayo,gam_cayo,the_cayo, indexing='ij')\n",
    "\n",
    "for s in range(nstates):\n",
    "    label = 'v{}'.format(s)\n",
    "    ext_potential[:,:,:,s] = aaa[label]\n",
    "    \n",
    "zero = np.amin(ext_potential)\n",
    "ext_potential = ext_potential - zero"
   ]
  },
  {
   "cell_type": "code",
   "execution_count": 15,
   "metadata": {},
   "outputs": [
    {
     "data": {
      "text/plain": [
       "(29, 28, 55, 0)"
      ]
     },
     "execution_count": 15,
     "metadata": {},
     "output_type": "execute_result"
    }
   ],
   "source": [
    "# minimum index\n",
    "ij_min = np.unravel_index(ext_potential.argmin(), ext_potential.shape)\n",
    "phi_min,gam_min,the_min,ground_min = ij_min\n",
    "ij_min"
   ]
  },
  {
   "cell_type": "code",
   "execution_count": 16,
   "metadata": {
    "collapsed": true
   },
   "outputs": [],
   "source": [
    "def graphichetto(pulseXX, label, phi_slice, gam_slice, save=None, internal_coord=None):\n",
    "    save = save or False\n",
    "    internal_coord = internal_coord or False\n",
    "    sigma = pulseXX[2]\n",
    "    omega = pulseXX[1]\n",
    "\n",
    "    # I will cut the cube at phi_min and gamma_min\n",
    "    potAU = ext_potential[phi_slice,gam_slice]\n",
    "    \n",
    "    # change dimensions\n",
    "    pot = qp.fromHartoEv(potAU)\n",
    "    \n",
    "    # create labels\n",
    "    thes = qp.labTranformA(dataDict['thes'])\n",
    "\n",
    "    # create the 4 panels\n",
    "    fig, ([ax, ax0], [ax1, ax2]) = plt.subplots(2,2, gridspec_kw = {'height_ratios':[3, 1], 'width_ratios':[3, 1]},figsize=(15,10))\n",
    "    ax2.axis('off')\n",
    "    \n",
    "    plt.rcParams.update({'font.size': 15})\n",
    "    \n",
    "    xmin = the_cayo[the_min]\n",
    "    puntoMin = [the_min,0]\n",
    "\n",
    "\n",
    "    colors = ['b', 'g', 'r', 'c', 'm', 'y', 'k', 'mediumpurple']\n",
    "    for iii in range(nstates):\n",
    "        if internal_coord:\n",
    "            ax.plot(the_cayo, potAU[:,iii], ls='-', lw=1.5, color=colors[iii]);\n",
    "            ax.set_ylabel('Potential Energy (Hartree)')\n",
    "        else:\n",
    "            ax.plot(the_cayo, pot[:,iii], ls='-', lw=1.5, color=colors[iii]);\n",
    "            ax.set_ylabel('Potential Energy (eV)')\n",
    "\n",
    "    #ax.set_xlabel('q')\n",
    "    #ax.set_ylabel('Potential Energy')\n",
    "\n",
    "    # fs extent of GRAPH\n",
    "    fs = 50\n",
    "    # resolution of graph\n",
    "    reso = 20\n",
    "    \n",
    "    # actaual values for the pulse\n",
    "    fsarray = (np.arange(fs*reso))/reso\n",
    "    \n",
    "    # I need the fsarray in AU to call the internal functions pulZe and envel\n",
    "    a = qp.fromFsToAu(fsarray)\n",
    "    \n",
    "\n",
    "    f = qp.pulZe(a,pulseXX)\n",
    "\n",
    "    title_thing = r'AU -> $E$={:5.2f}  $\\omega$={:5.2f}  $\\sigma$={:5.2f}  $\\phi$={:5.2f}  $t_0$={:5.2f}'.format(pulseXX[0],pulseXX[1],pulseXX[2],pulseXX[3],pulseXX[4])\n",
    "    ax.set_title(title_thing)\n",
    "    \n",
    "    c = qp.envel(a,pulseXX[0],pulseXX[2],pulseXX[4])\n",
    "\n",
    "\n",
    "    # but then I plot on femtoseconds\n",
    "    if internal_coord:\n",
    "        ax1.plot(a,f)\n",
    "        ax1.plot(a,c)\n",
    "        ax1.set_xlabel('Time (AU)')        \n",
    "    else:\n",
    "        ax1.plot(fsarray,f)\n",
    "        ax1.plot(fsarray,c)\n",
    "        ax1.set_xlabel('Time (fs)')\n",
    "    \n",
    "    #labels\n",
    "\n",
    "    ax.set_xlabel(r'$\\theta$ (rad)')\n",
    "\n",
    "    # sigma in energy space\n",
    "  \n",
    "    e = 1/(sigma)\n",
    "    #print('e = {}'.format(e))\n",
    "    #e = 2*np.pi/(sigma)\n",
    "    #e = (np.pi**2)*sigma**2\n",
    "    #e = 1/(2 * np.pi*(sigma))\n",
    "    \n",
    "    # the 67% is sigma\n",
    "    # the 95% interval is 2 sigma. This is why e*2\n",
    "    # first and second are still in hartree.\n",
    "    \n",
    "    first_half = pulseXX[1] - (e * np.sqrt(2*(np.log(2))))\n",
    "    second_half = pulseXX[1] + (e *np.sqrt(2*(np.log(2))))\n",
    "\n",
    "    first = pulseXX[1] - (e)\n",
    "    second = pulseXX[1] + (e)\n",
    "    first2 = pulseXX[1] - (2*e)\n",
    "    second2 = pulseXX[1] + (2*e)\n",
    "\n",
    "    # grey band\n",
    "    if internal_coord:\n",
    "        #ax.fill_between(the_cayo, first2, second2, color='whitesmoke')\n",
    "        ax.fill_between(the_cayo, first_half, second_half, color='gainsboro') # grey bar\n",
    "        ax.plot([xmin, xmin], [first_half, second_half], 'k-', lw=2) # black line\n",
    "    else:\n",
    "        #ax.fill_between(the_cayo, qp.fromHartoEv(first2), qp.fromHartoEv(second2), color='whitesmoke')\n",
    "        ax.fill_between(the_cayo, qp.fromHartoEv(first_half), qp.fromHartoEv(second_half), color='gainsboro')\n",
    "        ax.plot([xmin, xmin], [qp.fromHartoEv(first_half),qp.fromHartoEv(second_half)], 'k-', lw=2)\n",
    "    \n",
    "    maxValue_in_ev = qp.fromEvtoHart(np.amax(pot))\n",
    "    w = np.linspace(0,maxValue_in_ev,800)\n",
    "\n",
    "    # This is the other gaussian in reciprocal space.\n",
    "    other = np.exp(-(w-omega)**2 / (2 * e**2))\n",
    "    \n",
    "    #    other = np.exp(-(w-omega)**2 * e)\n",
    "    \n",
    "    if internal_coord:\n",
    "        ax0.plot(other,w)\n",
    "    else:\n",
    "        ax0.plot(qp.fromHartoEv(other),qp.fromHartoEv(w))\n",
    "    \n",
    "    \n",
    "    ax0.set_xticks([])\n",
    "    \n",
    "    fig.tight_layout()\n",
    "    \n",
    "    if save:\n",
    "        name_fig = 'pulse{:04d}.png'.format(label)\n",
    "        fig.savefig(name_fig, dpi=300)\n",
    "\n",
    "\n",
    "    "
   ]
  },
  {
   "cell_type": "code",
   "execution_count": 17,
   "metadata": {
    "collapsed": true
   },
   "outputs": [],
   "source": [
    "omega = 1.54980/27.211\n",
    "sigma = 100\n",
    "qp.pulse(800,0.024,omega,sigma,0,800)\n",
    "number = 2*np.sqrt(2*(np.log(2)))"
   ]
  },
  {
   "cell_type": "code",
   "execution_count": 20,
   "metadata": {},
   "outputs": [
    {
     "data": {
      "application/vnd.jupyter.widget-view+json": {
       "model_id": "1a02c788941349b39f7f1c2b0df853b7",
       "version_major": 2,
       "version_minor": 0
      },
      "text/plain": [
       "A Jupyter Widget"
      ]
     },
     "metadata": {},
     "output_type": "display_data"
    }
   ],
   "source": [
    "def graphichetto_handler(inter,saves,phi_cut,gam_cut):\n",
    "    i = 0\n",
    "    \n",
    "    #full Width at mid height\n",
    "    FWMH = 2\n",
    "\n",
    "    # sigma in FS - the 95% of the gaussian is 4 sigma\n",
    "    sigmaFS = FWMH/(number)\n",
    "\n",
    "    # sigma is AU\n",
    "    sigma = qp.fromFsToAu(sigmaFS)\n",
    "#W    sigma = 40\n",
    "\n",
    "    # hartree\n",
    "    \n",
    "    # This is the value of omega for 800 IR pulse\n",
    "    #omega = 1.54980/27.211\n",
    "    \n",
    "    omega = 0.25\n",
    "\n",
    "    pulseXX = [0.04,omega,sigma,0,400]\n",
    "    \n",
    "    graphichetto(pulseXX, i, phi_cut, gam_cut, save=saves, internal_coord=inter)\n",
    "\n",
    "interact(graphichetto_handler,\n",
    "         inter = widgets.Checkbox(value=False, description='Atomic Units'),\n",
    "         saves = widgets.Checkbox(value=False, description='save images'),\n",
    "         phi_cut = widgets.IntSlider(min=0,max=phi_cayo.size-1,step=1,value=phi_min),\n",
    "         gam_cut = widgets.IntSlider(min=0,max=gam_cayo.size-1,step=1,value=gam_min),\n",
    "        );"
   ]
  },
  {
   "cell_type": "code",
   "execution_count": null,
   "metadata": {
    "collapsed": true
   },
   "outputs": [],
   "source": []
  },
  {
   "cell_type": "code",
   "execution_count": null,
   "metadata": {
    "collapsed": true
   },
   "outputs": [],
   "source": []
  }
 ],
 "metadata": {
  "kernelspec": {
   "display_name": "Python 3",
   "language": "python",
   "name": "python3"
  },
  "language_info": {
   "codemirror_mode": {
    "name": "ipython",
    "version": 3
   },
   "file_extension": ".py",
   "mimetype": "text/x-python",
   "name": "python",
   "nbconvert_exporter": "python",
   "pygments_lexer": "ipython3",
   "version": "3.5.4"
  }
 },
 "nbformat": 4,
 "nbformat_minor": 2
}
