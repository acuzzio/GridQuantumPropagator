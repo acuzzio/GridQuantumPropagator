{
 "cells": [
  {
   "cell_type": "code",
   "execution_count": 2,
   "metadata": {
    "ExecuteTime": {
     "end_time": "2019-06-10T14:40:09.557039Z",
     "start_time": "2019-06-10T14:40:09.540558Z"
    }
   },
   "outputs": [],
   "source": [
    "import quantumpropagator as qp\n",
    "import matplotlib.pyplot as plt\n",
    "from ipywidgets import interact,fixed #, interactive, fixed, interact_manual\n",
    "import ipywidgets as widgets\n",
    "#%matplotlib notebook\n",
    "%matplotlib ipympl\n",
    "\n",
    "plt.rcParams.update({'font.size': 10})"
   ]
  },
  {
   "cell_type": "markdown",
   "metadata": {},
   "source": [
    "# Single pulse graph"
   ]
  },
  {
   "cell_type": "code",
   "execution_count": 3,
   "metadata": {
    "ExecuteTime": {
     "end_time": "2019-06-10T14:40:11.953394Z",
     "start_time": "2019-06-10T14:40:11.553004Z"
    },
    "scrolled": false
   },
   "outputs": [
    {
     "data": {
      "application/vnd.jupyter.widget-view+json": {
       "model_id": "a8c39b198465493798defb0770c98231",
       "version_major": 2,
       "version_minor": 0
      },
      "text/plain": [
       "A Jupyter Widget"
      ]
     },
     "metadata": {},
     "output_type": "display_data"
    },
    {
     "data": {
      "application/vnd.jupyter.widget-view+json": {
       "model_id": "c54eb0ba8d1541b5b04aa71d0a62d851",
       "version_major": 2,
       "version_minor": 0
      },
      "text/plain": [
       "A Jupyter Widget"
      ]
     },
     "metadata": {},
     "output_type": "display_data"
    }
   ],
   "source": [
    "def graph_single(pulseX,pulseY,pulseZ, fs, reso):\n",
    "    pulses = [pulseX,pulseY,pulseZ]\n",
    "\n",
    "    # actual plotting array\n",
    "    fsarray = (np.arange(fs*reso))/reso\n",
    "    a = qp.fromFsToAu(fsarray)\n",
    "    bx, by, bz = [ qp.pulZe(a,this_pulse) for this_pulse in pulses ] \n",
    "    cx, cy, cz = [ qp.envel(a,this_pulse[0],this_pulse[2],this_pulse[4]) for this_pulse in pulses ]\n",
    "\n",
    "    #fig, [[ax0, ax1],[ax2,ax3]] = plt.subplots(2,2,figsize=(14,8),sharey=True,sharex=True)\n",
    "    fig, ax0 = plt.subplots(1,1,figsize=(7,4))\n",
    "\n",
    "    ax0.plot(fsarray,bx,ls='--', lw=1, label='X', color='b')\n",
    "    ax0.plot(fsarray,cx, lw=1)\n",
    "    ax0.plot(fsarray,by,ls='--', lw=1, label='Y', color='g')\n",
    "    ax0.plot(fsarray,cy, lw=1)\n",
    "    ax0.plot(fsarray,bz,ls='--', lw=1, label='Z', color='r')\n",
    "    ax0.plot(fsarray,cz, lw=1)\n",
    "    ax0.set_title('all')\n",
    "    ax0.legend()\n",
    "\n",
    "#     ax1.plot(fsarray,bx, color='b')\n",
    "#     ax1.plot(fsarray,cx)\n",
    "#     ax1.set_title('X')\n",
    "    \n",
    "#     ax2.plot(fsarray,by, color='g')\n",
    "#     ax2.plot(fsarray,cy)\n",
    "#     ax2.set_title('Y')\n",
    "\n",
    "#     ax3.plot(fsarray,bz, color='r')\n",
    "#     ax3.plot(fsarray,cz)\n",
    "#     ax3.set_title('Z')\n",
    "\n",
    "\n",
    "    fig.tight_layout();\n",
    "    \n",
    "pulseX = [0.04,0.06,70,0,400]\n",
    "pulseY = [0.04,0.06,70,1.570796,400] \n",
    "pulseZ = [0,0,0,0,0]\n",
    "\n",
    "# good one\n",
    "\n",
    "pulseX2 = [0.04,0.06,50,-1.570796,375]\n",
    "pulseY2 = [0.04,0.06,50,0,375]\n",
    "pulseZ2 = [0,0,0,0,0]\n",
    "\n",
    "# graph length in fs\n",
    "fs = 20\n",
    "# graph resolution\n",
    "reso = 40\n",
    "\n",
    "graph_single(pulseX,pulseY,pulseZ,fs,reso)\n",
    "graph_single(pulseX2,pulseY2,pulseZ2,fs,reso)"
   ]
  },
  {
   "cell_type": "code",
   "execution_count": 5,
   "metadata": {},
   "outputs": [
    {
     "name": "stdout",
     "output_type": "stream",
     "text": [
      "(800,)\n"
     ]
    },
    {
     "data": {
      "application/vnd.jupyter.widget-view+json": {
       "model_id": "b7f5dbe871a7432ca92ce21d5c0921e0",
       "version_major": 2,
       "version_minor": 0
      },
      "text/plain": [
       "A Jupyter Widget"
      ]
     },
     "metadata": {},
     "output_type": "display_data"
    }
   ],
   "source": [
    "def graph_double(pulseX1,pulseY1,pulseZ1,pulseX2,pulseY2,pulseZ2, fs, reso):\n",
    "    pulses1 = [pulseX1,pulseY1,pulseZ1]\n",
    "    pulses2 = [pulseX2,pulseY2,pulseZ2]\n",
    "\n",
    "    # actual plotting array\n",
    "    fsarray = (np.arange(fs*reso))/reso\n",
    "    \n",
    "    a = qp.fromFsToAu(fsarray)\n",
    "    bx1, by1, bz1 = [ qp.pulZe(a,this_pulse) for this_pulse in pulses1 ] \n",
    "    cx1, cy1, cz1 = [ qp.envel(a,this_pulse[0],this_pulse[2],this_pulse[4]) for this_pulse in pulses1 ]\n",
    "    bx2, by2, bz2 = [ qp.pulZe(a,this_pulse) for this_pulse in pulses2 ] \n",
    "    cx2, cy2, cz2 = [ qp.envel(a,this_pulse[0],this_pulse[2],this_pulse[4]) for this_pulse in pulses2 ]\n",
    "    print(bx1.shape)\n",
    "    #fig, [[ax0, ax1],[ax2,ax3]] = plt.subplots(2,2,figsize=(14,8),sharey=True,sharex=True)\n",
    "    fig, [[ax0,ax1],[ax2,ax3]] = plt.subplots(2,2,figsize=(7.5,7.5))\n",
    "    \n",
    "    ax0 = plt.subplot2grid((2, 2), (0, 0), colspan=2)\n",
    "    \n",
    "    ax0.plot(fsarray,bx1,ls='--', lw=1, label='X1', color='b')\n",
    "    ax0.plot(fsarray,cx1, lw=1.5)\n",
    "    ax0.plot(fsarray,by1,ls='--', lw=1, label='Y1', color='g')\n",
    "    ax0.plot(fsarray,cy1, lw=1.5)\n",
    "    ax0.plot(fsarray,bz1,ls='--', lw=1, label='Z1', color='r')\n",
    "    ax0.plot(fsarray,cz1, lw=1.5)\n",
    "    ax0.plot(fsarray,bx2,ls=':', lw=1, label='X2', color='b')\n",
    "    ax0.plot(fsarray,cx2, lw=1)\n",
    "    ax0.plot(fsarray,by2,ls=':', lw=1, label='Y2', color='g')\n",
    "    ax0.plot(fsarray,cy2, lw=1)\n",
    "    ax0.plot(fsarray,bz2,ls=':', lw=1, label='Z2', color='r')\n",
    "    ax0.plot(fsarray,cz2, lw=1)\n",
    "    ax0.set_title('all')\n",
    "    ax0.set_xlabel('fs')\n",
    "    ax0.set_xlim(4,16)\n",
    "    ax0.legend()\n",
    "    \n",
    "    ax2.set_xlim(-0.05,0.05)\n",
    "    ax2.set_ylim(-0.05,0.05)\n",
    "\n",
    "    bond1 = 100\n",
    "    bond2 = 300\n",
    "    \n",
    "    ax2.plot(bx1[bond2:],      by1[bond2:])\n",
    "    ax2.plot(bx1[bond1:bond2], by1[bond1:bond2])\n",
    "    ax2.plot(bx1[:bond1],      by1[:bond1])\n",
    "    ax2.set_xlabel('X')\n",
    "    ax2.set_ylabel('Y')\n",
    "    ax2.set_title('Pulse1')\n",
    "    \n",
    "    ax3.set_xlim(-0.05,0.05)\n",
    "    ax3.set_ylim(-0.05,0.05)\n",
    "    \n",
    "    ax3.plot(bx2[bond2:],      by2[bond2:])\n",
    "    ax3.plot(bx2[bond1:bond2], by2[bond1:bond2])\n",
    "    ax3.plot(bx2[:bond1],      by2[:bond1])\n",
    "    ax3.set_title('Pulse2')\n",
    "    ax3.set_xlabel('X')\n",
    "    ax3.set_ylabel('Y')\n",
    "    \n",
    "    fig.tight_layout();\n",
    "    \n",
    "pulseX1 = [0.04,0.06,70.11,0,400]\n",
    "pulseY1 = [0.04,0.06,70.11,1.570796,400] \n",
    "pulseZ1 = [0,0,0,0,0]\n",
    "\n",
    "# good one\n",
    "pulseX2 = [0.04,0.06,80,0,405]\n",
    "pulseY2 = [0.04,0.06,80,1.570796,405]\n",
    "pulseZ2 = [0,0,0,0,0]\n",
    "\n",
    "# graph length in fs\n",
    "fs = 20\n",
    "# graph resolution\n",
    "reso = 40\n",
    "\n",
    "graph_double(pulseX1,pulseY1,pulseZ1,pulseX2,pulseY2,pulseZ2, fs, reso)"
   ]
  },
  {
   "cell_type": "code",
   "execution_count": 6,
   "metadata": {
    "ExecuteTime": {
     "end_time": "2019-06-10T14:40:18.122116Z",
     "start_time": "2019-06-10T14:40:18.116237Z"
    },
    "collapsed": true
   },
   "outputs": [],
   "source": [
    "# Altri pulses che ho lanciato\n",
    "\n",
    "# pulseX2 = [0.04,0.06,140,0,600]\n",
    "# pulseY2 = [0.04,0.06,140,1.570796,600]\n",
    "# pulseZ2 = [0,0,0,0,0]\n",
    "\n",
    "\n",
    "# pulseX2 = [0.04,0.06,90,1.570796,425]\n",
    "# pulseY2 = [0.04,0.06,90,1.570796*2,425]\n",
    "# pulseZ2 = [0,0,0,0,0]\n"
   ]
  },
  {
   "cell_type": "code",
   "execution_count": 7,
   "metadata": {
    "ExecuteTime": {
     "end_time": "2019-06-10T14:40:31.835474Z",
     "start_time": "2019-06-10T14:40:18.496329Z"
    },
    "collapsed": true
   },
   "outputs": [],
   "source": [
    "dataDict = np.load('/home/alessio/n-Propagation/datanewoneWithNACnow.npy')[()]"
   ]
  },
  {
   "cell_type": "code",
   "execution_count": 8,
   "metadata": {
    "ExecuteTime": {
     "end_time": "2019-06-10T14:40:32.645316Z",
     "start_time": "2019-06-10T14:40:32.611118Z"
    },
    "collapsed": true
   },
   "outputs": [],
   "source": [
    "def expARR(array,howmany,direction=None):\n",
    "    direction = direction or 'both'\n",
    "    dx = array[1]-array[0]\n",
    "    after = (array[-1] + (dx * np.arange(howmany+1)))[1:]\n",
    "    before = np.flip((array[0] - (dx * np.arange(howmany+1)))[1:],0)\n",
    "    if direction == 'both':\n",
    "        return np.concatenate((before,array,after))\n",
    "    elif direction == 'dx':\n",
    "        return np.concatenate((array,after))\n",
    "    elif direction == 'sx':\n",
    "        return np.concatenate((before,array))\n",
    "    \n",
    "phiV, gamV, theV = qp.fromLabelsToFloats(dataDict)\n",
    "\n",
    "phis = qp.labTranformA(dataDict['phis'])\n",
    "gams = qp.labTranformA(dataDict['gams'])\n",
    "thes = qp.labTranformA(dataDict['thes'])\n",
    "\n",
    "phiL = len(phis)\n",
    "gamL = len(gams)\n",
    "theL = len(thes)"
   ]
  },
  {
   "cell_type": "code",
   "execution_count": 9,
   "metadata": {
    "ExecuteTime": {
     "end_time": "2019-06-10T14:40:35.825141Z",
     "start_time": "2019-06-10T14:40:35.410905Z"
    },
    "collapsed": true
   },
   "outputs": [],
   "source": [
    "# This part creates the potentials\n",
    "\n",
    "import scipy.io as sio\n",
    "\n",
    "# saveNew_matlab_Vector = False\n",
    "# #phi_L, gam_L, the_L, nstates =  potential.shape\n",
    "\n",
    "nstates = 8\n",
    "\n",
    "# if saveNew_matlab_Vector:\n",
    "#     allstates = {}\n",
    "\n",
    "#     for s in range(nstates):\n",
    "#         ground = potential[:,:,:,s]\n",
    "#         tupl = ground.shape\n",
    "#         ground.shape,phiV.shape,gamV.shape,theV.shape\n",
    "\n",
    "#         phi_mesh, gam_mesh, the_mesh =  np.meshgrid(phiV,gamV,theV, indexing='ij')\n",
    "\n",
    "#         phi_prime = phi_mesh.reshape(-1,1)\n",
    "#         gam_prime = gam_mesh.reshape(-1,1)\n",
    "#         the_prime = the_mesh.reshape(-1,1)\n",
    "\n",
    "#         X = np.concatenate((phi_prime,gam_prime,the_prime), axis=1)\n",
    "\n",
    "#         y = ground.reshape(-1,1)\n",
    "\n",
    "#         poly = PolynomialFeatures(degree=10)\n",
    "\n",
    "#         X_ = poly.fit_transform(X)\n",
    "\n",
    "#         clf = LinearRegression()\n",
    "#         clf.fit(X_, y)\n",
    "\n",
    "#         prediction = clf.predict(X_)\n",
    "#         prediction_reshaped = prediction.reshape(tupl)\n",
    "#         stringName = 'TDM{}'.format(s)\n",
    "#         allstates[stringName] = prediction_reshaped\n",
    "\n",
    "#     sio.savemat('np_vector.mat', allstates)\n",
    "\n",
    "aaa = sio.loadmat('/home/alessio/n-Propagation/tdm.mat')\n",
    "new = aaa['v0']\n",
    "new_phi_L, new_gam_L, new_the_L = new.shape\n",
    "ext_potential = np.empty((new_phi_L, new_gam_L, new_the_L, nstates))\n",
    "\n",
    "phi_cayo = expARR(phiV,15,'both')\n",
    "gam_cayo = expARR(gamV,15,'both')\n",
    "the_cayo = expARR(theV,30,'both')\n",
    "\n",
    "phi_mesh_cayo, gam_mesh_cayo, the_mesh_cayo =  np.meshgrid(phi_cayo,gam_cayo,the_cayo, indexing='ij')\n",
    "\n",
    "for s in range(nstates):\n",
    "    label = 'v{}'.format(s)\n",
    "    ext_potential[:,:,:,s] = aaa[label]\n",
    "    \n",
    "zero = np.amin(ext_potential)\n",
    "ext_potential = ext_potential - zero"
   ]
  },
  {
   "cell_type": "code",
   "execution_count": 10,
   "metadata": {
    "ExecuteTime": {
     "end_time": "2019-06-10T14:40:37.493722Z",
     "start_time": "2019-06-10T14:40:37.476180Z"
    }
   },
   "outputs": [
    {
     "data": {
      "text/plain": [
       "(29, 28, 55, 0)"
      ]
     },
     "execution_count": 10,
     "metadata": {},
     "output_type": "execute_result"
    }
   ],
   "source": [
    "# minimum index\n",
    "ij_min = np.unravel_index(ext_potential.argmin(), ext_potential.shape)\n",
    "phi_min,gam_min,the_min,ground_min = ij_min\n",
    "ij_min"
   ]
  },
  {
   "cell_type": "code",
   "execution_count": 16,
   "metadata": {
    "ExecuteTime": {
     "end_time": "2019-06-10T14:40:39.691153Z",
     "start_time": "2019-06-10T14:40:39.268058Z"
    },
    "collapsed": true
   },
   "outputs": [],
   "source": [
    "def graphichetto(pulseXX, label, phi_slice, gam_slice, save=None, internal_coord=None):\n",
    "    save = save or False\n",
    "    internal_coord = internal_coord or False\n",
    "    sigma = pulseXX[2]\n",
    "    omega = pulseXX[1]\n",
    "\n",
    "    # I will cut the cube at phi_min and gamma_min\n",
    "    potAU = ext_potential[phi_slice,gam_slice]\n",
    "    \n",
    "    # change dimensions\n",
    "    pot = qp.fromHartoEv(potAU)\n",
    "    \n",
    "    # create labels\n",
    "    thes = qp.labTranformA(dataDict['thes'])\n",
    "\n",
    "    # create the 4 panels\n",
    "    fig, ([ax, ax0], [ax1, ax2]) = plt.subplots(2,2, gridspec_kw = {'height_ratios':[3, 1], 'width_ratios':[3, 1]},figsize=(15,10))\n",
    "    ax2.axis('off')\n",
    "    \n",
    "    xmin = the_cayo[the_min]\n",
    "    puntoMin = [the_min,0]\n",
    "\n",
    "\n",
    "    colors = ['b', 'g', 'r', 'c', 'm', 'y', 'k', 'mediumpurple']\n",
    "    for iii in range(nstates):\n",
    "        if internal_coord:\n",
    "            ax.plot(the_cayo, potAU[:,iii], ls='-', lw=1.5, color=colors[iii]);\n",
    "            ax.set_ylabel('Potential Energy (Hartree)')\n",
    "        else:\n",
    "            ax.plot(the_cayo, pot[:,iii], ls='-', lw=1.5, color=colors[iii]);\n",
    "            ax.set_ylabel('Potential Energy (eV)')\n",
    "\n",
    "    #ax.set_xlabel('q')\n",
    "    #ax.set_ylabel('Potential Energy')\n",
    "\n",
    "    # fs extent of GRAPH\n",
    "    fs = 50\n",
    "    # resolution of graph\n",
    "    reso = 20\n",
    "    \n",
    "    # actaual values for the pulse\n",
    "    fsarray = (np.arange(fs*reso))/reso\n",
    "    \n",
    "    # I need the fsarray in AU to call the internal functions pulZe and envel\n",
    "    a = qp.fromFsToAu(fsarray)\n",
    "    \n",
    "\n",
    "    f = qp.pulZe(a,pulseXX)\n",
    "\n",
    "    title_thing = r'AU -> $E$={:5.2f}  $\\omega$={:5.2f}  $\\sigma$={:5.2f}  $\\phi$={:5.2f}  $t_0$={:5.2f}'.format(pulseXX[0],pulseXX[1],pulseXX[2],pulseXX[3],pulseXX[4])\n",
    "    ax.set_title(title_thing)\n",
    "    \n",
    "    c = qp.envel(a,pulseXX[0],pulseXX[2],pulseXX[4])\n",
    "\n",
    "\n",
    "    # but then I plot on femtoseconds\n",
    "    if internal_coord:\n",
    "        ax1.plot(a,f)\n",
    "        ax1.plot(a,c)\n",
    "        ax1.set_xlabel('Time (AU)')        \n",
    "    else:\n",
    "        ax1.plot(fsarray,f)\n",
    "        ax1.plot(fsarray,c)\n",
    "        ax1.set_xlabel('Time (fs)')\n",
    "    \n",
    "    #labels\n",
    "\n",
    "    ax.set_xlabel(r'$\\theta$ (rad)')\n",
    "\n",
    "    # sigma in energy space\n",
    "  \n",
    "    e = 1/(sigma)\n",
    "    #e = 2*np.pi/(sigma)\n",
    "    #e = (np.pi**2)*sigma**2\n",
    "    #e = 1/(2 * np.pi*(sigma))\n",
    "    print('e = {}'.format(e))\n",
    "    \n",
    "    # the 67% is sigma\n",
    "    # the 95% interval is 2 sigma. This is why e*2\n",
    "    # first and second are still in hartree.\n",
    "    \n",
    "    first_half = pulseXX[1] - (e *np.sqrt(2*(np.log(2))))\n",
    "    second_half = pulseXX[1] + (e *np.sqrt(2*(np.log(2))))\n",
    "\n",
    "    first = pulseXX[1] - (e)\n",
    "    second = pulseXX[1] + (e)\n",
    "    first2 = pulseXX[1] - (2*e)\n",
    "    second2 = pulseXX[1] + (2*e)\n",
    "\n",
    "    # grey band\n",
    "    if internal_coord:\n",
    "        #ax.fill_between(the_cayo, first2, second2, color='whitesmoke')\n",
    "        ax.fill_between(the_cayo, first_half, second_half, color='gainsboro') # grey bar\n",
    "        ax.plot([xmin, xmin], [first_half, second_half], 'k-', lw=2) # black line\n",
    "    else:\n",
    "        #ax.fill_between(the_cayo, qp.fromHartoEv(first2), qp.fromHartoEv(second2), color='whitesmoke')\n",
    "        ax.fill_between(the_cayo, qp.fromHartoEv(first_half), qp.fromHartoEv(second_half), color='gainsboro')\n",
    "        ax.plot([xmin, xmin], [qp.fromHartoEv(first_half),qp.fromHartoEv(second_half)], 'k-', lw=2)\n",
    "    \n",
    "    ax.set_ylim(0,10)\n",
    "    maxValue_in_ev = qp.fromEvtoHart(np.amax(pot))\n",
    "    w = np.linspace(0,maxValue_in_ev,800)\n",
    "\n",
    "    # This is the other gaussian in reciprocal space.\n",
    "    e = 1/(sigma)\n",
    "    other = np.exp(-(w-omega)**2 / (2 * e**2))\n",
    "    \n",
    "    #    other = np.exp(-(w-omega)**2 * e)\n",
    "    \n",
    "    if internal_coord:\n",
    "        ax0.plot(other,w)\n",
    "    else:\n",
    "        ax0.plot(qp.fromHartoEv(other),qp.fromHartoEv(w))\n",
    "    \n",
    "    \n",
    "    ax0.set_xticks([])\n",
    "    \n",
    "    fig.tight_layout()\n",
    "    \n",
    "    if save:\n",
    "        name_fig = 'pulse{:04d}.png'.format(label)\n",
    "        fig.savefig(name_fig, dpi=300)\n",
    "\n",
    "\n",
    "    "
   ]
  },
  {
   "cell_type": "code",
   "execution_count": 17,
   "metadata": {
    "ExecuteTime": {
     "end_time": "2019-06-10T14:40:40.228246Z",
     "start_time": "2019-06-10T14:40:40.221233Z"
    },
    "collapsed": true
   },
   "outputs": [],
   "source": [
    "omega = 1.54980/27.211\n",
    "sigma = 100\n",
    "qp.pulse(800,0.024,omega,sigma,0,800)\n",
    "number = 2*np.sqrt(2*(np.log(2)))"
   ]
  },
  {
   "cell_type": "code",
   "execution_count": 23,
   "metadata": {
    "ExecuteTime": {
     "end_time": "2019-06-10T14:40:41.259482Z",
     "start_time": "2019-06-10T14:40:40.747380Z"
    }
   },
   "outputs": [
    {
     "data": {
      "application/vnd.jupyter.widget-view+json": {
       "model_id": "5bb2c76284e040bebd2a8cff2798c9a5",
       "version_major": 2,
       "version_minor": 0
      },
      "text/plain": [
       "A Jupyter Widget"
      ]
     },
     "metadata": {},
     "output_type": "display_data"
    }
   ],
   "source": [
    "def graphichetto_handler(inter,saves,phi_cut,gam_cut):\n",
    "    i = 0\n",
    "    \n",
    "    #full Width at mid height\n",
    "    FWMH = 6\n",
    "\n",
    "    # sigma in FS - the 95% of the gaussian is 4 sigma\n",
    "    sigmaFS = FWMH/(number)\n",
    "\n",
    "    # sigma is AU\n",
    "    sigma = qp.fromFsToAu(sigmaFS)\n",
    "#W    sigma = 40\n",
    "\n",
    "    # hartree\n",
    "    \n",
    "    # This is the value of omega for 800 IR pulse\n",
    "    omega = 1.54980/27.211\n",
    "    \n",
    "    #omega = 0.27\n",
    "\n",
    "    pulseXX = [0.04,0.004,140,0,600]\n",
    "    \n",
    "    graphichetto(pulseXX, i, phi_cut, gam_cut, save=saves, internal_coord=inter)\n",
    "\n",
    "interact(graphichetto_handler,\n",
    "         inter = widgets.Checkbox(value=False, description='Atomic Units'),\n",
    "         saves = widgets.Checkbox(value=False, description='save images'),\n",
    "         phi_cut = widgets.IntSlider(min=0,max=phi_cayo.size-1,step=1,value=phi_min,continuous_update=False),\n",
    "         gam_cut = widgets.IntSlider(min=0,max=gam_cayo.size-1,step=1,value=gam_min,continuous_update=False),\n",
    "        );"
   ]
  },
  {
   "cell_type": "code",
   "execution_count": 14,
   "metadata": {},
   "outputs": [
    {
     "data": {
      "text/plain": [
       "(2.0676959124324044, 5.9862)"
      ]
     },
     "execution_count": 14,
     "metadata": {},
     "output_type": "execute_result"
    }
   ],
   "source": [
    "full_width_half_maximum = (2*np.pi/(2.355*35.11))*27.21\n",
    "centered_at = 0.22*27.21\n",
    "full_width_half_maximum,centered_at"
   ]
  },
  {
   "cell_type": "markdown",
   "metadata": {},
   "source": [
    "# This is done for the figure of Francoise march 2019"
   ]
  },
  {
   "cell_type": "code",
   "execution_count": 13,
   "metadata": {},
   "outputs": [
    {
     "data": {
      "application/vnd.jupyter.widget-view+json": {
       "model_id": "1b62860db50d49a2a5fafdc42610c69e",
       "version_major": 2,
       "version_minor": 0
      },
      "text/plain": [
       "A Jupyter Widget"
      ]
     },
     "metadata": {},
     "output_type": "display_data"
    }
   ],
   "source": [
    "def graphichetto2(pulseXX, label, phi_slice, gam_slice, save=None, internal_coord=None):\n",
    "    save = save or False\n",
    "    internal_coord = internal_coord or False\n",
    "    sigma = pulseXX[2]\n",
    "    omega = pulseXX[1]\n",
    "\n",
    "    # I will cut the cube at phi_min and gamma_min\n",
    "    potAU = ext_potential[phi_slice,gam_slice]\n",
    "    \n",
    "    # change dimensions\n",
    "    pot = qp.fromHartoEv(potAU)\n",
    "    \n",
    "    # create labels\n",
    "    thes = qp.labTranformA(dataDict['thes'])\n",
    "\n",
    "    # create the 4 panels\n",
    "    fig, ([ax, ax0], [ax1, ax2]) = plt.subplots(2,2, gridspec_kw = {'height_ratios':[3, 1], 'width_ratios':[3, 1]},figsize=(20,15))\n",
    "    #fig, ([ax, ax0]) = plt.subplots(1,2, sharey = True, gridspec_kw = {'width_ratios':[3, 1]},figsize=(15,10))\n",
    "    ax2.axis('off')\n",
    "    ax.set_ylim([5,9])\n",
    "    ax.set_xlim([0.8,1.05])\n",
    "    plt.subplots_adjust(wspace=0)\n",
    "    plt.rcParams.update({'font.size': 20})\n",
    "   \n",
    "    xmin = the_cayo[the_min]\n",
    "    puntoMin = [the_min,0]\n",
    "\n",
    "\n",
    "    colors = ['b', 'g', 'r', 'c', 'm', 'y', 'k', 'mediumpurple']\n",
    "    for iii in range(nstates):\n",
    "        if internal_coord:\n",
    "            ax.plot(the_cayo, potAU[:,iii], ls='-', lw=1.5, color=colors[iii]);\n",
    "            ax.set_ylabel('Potential Energy (Hartree)')\n",
    "        else:\n",
    "            ax.plot(the_cayo, pot[:,iii], ls='-', lw=1.5, color=colors[iii]);\n",
    "            ax.set_ylabel('Potential Energy (eV)')\n",
    "\n",
    "    ax.set_xlabel('q')\n",
    "    \n",
    "    # fs extent of GRAPH\n",
    "    fs = 50\n",
    "    # resolution of graph\n",
    "    reso = 20\n",
    "    # actaual values for the pulse\n",
    "    fsarray = (np.arange(fs*reso))/reso\n",
    "    # I need the fsarray in AU to call the internal functions pulZe and envel\n",
    "    a = qp.fromFsToAu(fsarray)\n",
    "    f = qp.pulZe(a,pulseXX)\n",
    "\n",
    "    title_thing = r'AU -> $E$={:5.2f}  $\\omega$={:5.2f}  $\\sigma$={:5.2f}  $\\phi$={:5.2f}  $t_0$={:5.2f}'.format(pulseXX[0],pulseXX[1],pulseXX[2],pulseXX[3],pulseXX[4])\n",
    "    ax.set_title(title_thing)\n",
    "    \n",
    "    c = qp.envel(a,pulseXX[0],pulseXX[2],pulseXX[4])\n",
    "\n",
    "    # but then I plot on femtoseconds\n",
    "    if internal_coord:\n",
    "        ax1.plot(a,f)\n",
    "        ax1.plot(a,c)\n",
    "        ax1.set_xlabel('Time (AU)')        \n",
    "    else:\n",
    "        ax1.plot(fsarray,f)\n",
    "        ax1.plot(fsarray,c)\n",
    "        ax1.set_xlabel('Time (fs)')\n",
    "    \n",
    "    #labels\n",
    "\n",
    "    ax.set_xlabel(r'$\\theta$ (rad)')\n",
    "    \n",
    "    ax1.set_ylabel('field E')\n",
    "\n",
    "    # sigma in energy space\n",
    "  \n",
    "    e = 1/(sigma)\n",
    "    #print('e = {}'.format(e))\n",
    "    #e = 2*np.pi/(sigma)\n",
    "    #e = (np.pi**2)*sigma**2\n",
    "    #e = 1/(2 * np.pi*(sigma))\n",
    "    \n",
    "    # the 67% is sigma\n",
    "    # the 95% interval is 2 sigma. This is why e*2\n",
    "    # first and second are still in hartree.\n",
    "    \n",
    "    first_half = pulseXX[1] - (e * np.sqrt(2*(np.log(2))))\n",
    "    second_half = pulseXX[1] + (e *np.sqrt(2*(np.log(2))))\n",
    "\n",
    "    first = pulseXX[1] - (e)\n",
    "    second = pulseXX[1] + (e)\n",
    "    first2 = pulseXX[1] - (2*e)\n",
    "    second2 = pulseXX[1] + (2*e)\n",
    "\n",
    "#     # grey band\n",
    "#     if internal_coord:\n",
    "#         #ax.fill_between(the_cayo, first2, second2, color='whitesmoke')\n",
    "#         #ax.fill_between(the_cayo, first_half, second_half, color='gainsboro') # grey bar\n",
    "#         ax.plot([xmin, xmin], [first_half, second_half], 'k-', lw=2) # black line\n",
    "#     else:\n",
    "#         #ax.fill_between(the_cayo, qp.fromHartoEv(first2), qp.fromHartoEv(second2), color='whitesmoke')\n",
    "#         #ax.fill_between(the_cayo, qp.fromHartoEv(first_half), qp.fromHartoEv(second_half), color='gainsboro')\n",
    "#         ax.plot([xmin, xmin], [qp.fromHartoEv(first_half),qp.fromHartoEv(second_half)], 'k-', lw=2)\n",
    "    \n",
    "    maxValue_in_ev = qp.fromEvtoHart(np.amax(pot))\n",
    "    w = np.linspace(0,maxValue_in_ev,800)\n",
    "\n",
    "    # This is the other gaussian in reciprocal space.\n",
    "    other = np.exp(-(w-omega)**2 / (2 * e**2))\n",
    "    \n",
    "    #    other = np.exp(-(w-omega)**2 * e)\n",
    "    \n",
    "    if internal_coord:\n",
    "        ax0.plot(other,w)\n",
    "    else:\n",
    "        ax0.plot(qp.fromHartoEv(other),qp.fromHartoEv(w))\n",
    "    \n",
    "    \n",
    "    ax0.set_xticks([])\n",
    "    \n",
    "    fig.tight_layout()\n",
    "    \n",
    "    if save:\n",
    "        name_fig = 'pulse{:04d}.png'.format(label)\n",
    "        fig.savefig(name_fig, dpi=300)\n",
    "\n",
    "\n",
    "def graphichetto_handler2(inter,saves,phi_cut,gam_cut):\n",
    "    i = 0\n",
    "    \n",
    "    #full Width at mid height\n",
    "    FWMH = 6\n",
    "\n",
    "    # sigma in FS - the 95% of the gaussian is 4 sigma\n",
    "    sigmaFS = FWMH/(number)\n",
    "\n",
    "    # sigma is AU\n",
    "    sigma = qp.fromFsToAu(sigmaFS)\n",
    "#W    sigma = 40\n",
    "\n",
    "    # hartree\n",
    "    \n",
    "    # This is the value of omega for 800 IR pulse\n",
    "    omega = 1.54980/27.211\n",
    "    \n",
    "    #omega = 0.27\n",
    "\n",
    "    pulseXX = [0.04,0.22,35.11,0,400]\n",
    "    \n",
    "    graphichetto2(pulseXX, i, phi_cut, gam_cut, save=saves, internal_coord=inter)\n",
    "\n",
    "interact(graphichetto_handler2,\n",
    "         inter = widgets.Checkbox(value=False, description='Atomic Units'),\n",
    "         saves = widgets.Checkbox(value=False, description='save images'),\n",
    "         phi_cut = widgets.IntSlider(min=0,max=phi_cayo.size-1,step=1,value=phi_min,continuous_update=False),\n",
    "         gam_cut = widgets.IntSlider(min=0,max=gam_cayo.size-1,step=1,value=gam_min,continuous_update=False),\n",
    "        );\n"
   ]
  },
  {
   "cell_type": "code",
   "execution_count": 19,
   "metadata": {
    "scrolled": false
   },
   "outputs": [
    {
     "name": "stderr",
     "output_type": "stream",
     "text": [
      "/home/alessio/config/miniconda/envs/quantumpropagator/lib/python3.5/site-packages/matplotlib/pyplot.py:523: RuntimeWarning: More than 20 figures have been opened. Figures created through the pyplot interface (`matplotlib.pyplot.figure`) are retained until explicitly closed and may consume too much memory. (To control this warning, see the rcParam `figure.max_open_warning`).\n",
      "  max_open_warning, RuntimeWarning)\n"
     ]
    },
    {
     "data": {
      "application/vnd.jupyter.widget-view+json": {
       "model_id": "4462e676ab31428bac0cb68b35a8bdb4",
       "version_major": 2,
       "version_minor": 0
      },
      "text/plain": [
       "A Jupyter Widget"
      ]
     },
     "metadata": {},
     "output_type": "display_data"
    },
    {
     "data": {
      "application/vnd.jupyter.widget-view+json": {
       "model_id": "6b716b26b0484d74b7ad8e97abdc8289",
       "version_major": 2,
       "version_minor": 0
      },
      "text/plain": [
       "A Jupyter Widget"
      ]
     },
     "metadata": {},
     "output_type": "display_data"
    },
    {
     "data": {
      "application/vnd.jupyter.widget-view+json": {
       "model_id": "9d131ea1d8cd43a08dbb48564d9c300f",
       "version_major": 2,
       "version_minor": 0
      },
      "text/plain": [
       "A Jupyter Widget"
      ]
     },
     "metadata": {},
     "output_type": "display_data"
    },
    {
     "data": {
      "application/vnd.jupyter.widget-view+json": {
       "model_id": "1a39cc0c80c24f78a012fccdb4911daa",
       "version_major": 2,
       "version_minor": 0
      },
      "text/plain": [
       "A Jupyter Widget"
      ]
     },
     "metadata": {},
     "output_type": "display_data"
    }
   ],
   "source": [
    "from matplotlib.collections import LineCollection\n",
    "from matplotlib.colors import ListedColormap, BoundaryNorm\n",
    "\n",
    "\n",
    "def phaseGraph(pulse3_tuple,fs,reso,first,second,labeol):\n",
    "    '''\n",
    "    draw a x on y graph\n",
    "    '''\n",
    "    x,y = pulse3_tuple[first],pulse3_tuple[second]\n",
    "    \n",
    "    names = ['X','Y','Z']\n",
    "    \n",
    "    name_first,name_second = names[first], names[second]\n",
    "\n",
    "    # actaual values for the pulse\n",
    "    fsarray = (np.arange(fs*reso))/reso\n",
    "    \n",
    "    # I need the fsarray in AU to call the internal functions pulZe and envel\n",
    "    a = qp.fromFsToAu(fsarray)\n",
    "    b = qp.pulZe(a,x)        \n",
    "    c = qp.pulZe(a,y) \n",
    "    \n",
    "    fig, (ax0,ax1) = plt.subplots(1,2,figsize=(10,5))\n",
    "    fig.tight_layout()\n",
    "\n",
    "\n",
    "    plt.title(labeol)\n",
    "    \n",
    "    ax0.set_xlabel('fs')\n",
    "    ax0.set_ylabel('E')\n",
    "    ax1.set_xlabel(name_first)\n",
    "    ax1.set_ylabel(name_second)\n",
    "    \n",
    "    ax0.plot(fsarray,b)\n",
    "    ax0.plot(fsarray,c)\n",
    "    \n",
    "    ax1.set_xlim(-0.05,0.05)\n",
    "    ax1.set_ylim(-0.05,0.05)\n",
    "\n",
    "    bond1 = 500\n",
    "    bond2 = 1000\n",
    "    \n",
    "    ax1.plot(b[bond2:],c[bond2:])\n",
    "    ax1.plot(b[bond1:bond2],c[bond1:bond2])\n",
    "    ax1.plot(b[:bond1],c[:bond1])\n",
    "\n",
    "def gimme_phases(phi1,phi2):\n",
    "    '''\n",
    "    given the two phases, returns a z_dummy IR pulse with different phases to feed the graph\n",
    "    '''\n",
    "    pulsino = [[0.04,0.06,70.22,phi1,274],[0.04,0.06,70.22,phi2,274],[1,1,1,1,1]] \n",
    "    return pulsino\n",
    "\n",
    "\n",
    "pulseWant = gimme_phases(np.pi/4,-np.pi/4)\n",
    "\n",
    "pulse1 = gimme_phases(np.pi/2,0)\n",
    "pulse2 = gimme_phases(0,np.pi/2)\n",
    "pulse3 = gimme_phases(0,3*(np.pi/2))\n",
    "pulse4 = gimme_phases(np.pi,3*(np.pi/2))\n",
    "\n",
    "phaseGraph(pulse1,15,200,0,1, 'inverted')\n",
    "phaseGraph(pulse2,15,200,0,1, 'normal')\n",
    "phaseGraph(pulse3,15,200,0,1, 'counterClock')\n",
    "phaseGraph(pulse4,15,200,0,1, 'phase_pi')\n"
   ]
  },
  {
   "cell_type": "code",
   "execution_count": null,
   "metadata": {
    "collapsed": true
   },
   "outputs": [],
   "source": []
  }
 ],
 "metadata": {
  "hide_input": false,
  "kernelspec": {
   "display_name": "Python 3",
   "language": "python",
   "name": "python3"
  },
  "language_info": {
   "codemirror_mode": {
    "name": "ipython",
    "version": 3
   },
   "file_extension": ".py",
   "mimetype": "text/x-python",
   "name": "python",
   "nbconvert_exporter": "python",
   "pygments_lexer": "ipython3",
   "version": "3.5.4"
  },
  "toc": {
   "base_numbering": 1,
   "nav_menu": {},
   "number_sections": true,
   "sideBar": true,
   "skip_h1_title": false,
   "title_cell": "Table of Contents",
   "title_sidebar": "Contents",
   "toc_cell": false,
   "toc_position": {},
   "toc_section_display": true,
   "toc_window_display": false
  }
 },
 "nbformat": 4,
 "nbformat_minor": 2
}
