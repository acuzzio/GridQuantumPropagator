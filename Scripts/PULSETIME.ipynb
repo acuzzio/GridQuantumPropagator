{
 "cells": [
  {
   "cell_type": "code",
   "execution_count": 2,
   "metadata": {
    "ExecuteTime": {
     "end_time": "2019-06-10T14:40:09.557039Z",
     "start_time": "2019-06-10T14:40:09.540558Z"
    }
   },
   "outputs": [],
   "source": [
    "import quantumpropagator as qp\n",
    "import matplotlib.pyplot as plt\n",
    "from ipywidgets import interact,fixed #, interactive, fixed, interact_manual\n",
    "import ipywidgets as widgets\n",
    "#%matplotlib notebook\n",
    "%matplotlib ipympl\n",
    "\n",
    "plt.rcParams.update({'font.size': 8})"
   ]
  },
  {
   "cell_type": "markdown",
   "metadata": {},
   "source": [
    "# Single pulse graph"
   ]
  },
  {
   "cell_type": "code",
   "execution_count": 3,
   "metadata": {
    "ExecuteTime": {
     "end_time": "2019-06-10T14:40:11.953394Z",
     "start_time": "2019-06-10T14:40:11.553004Z"
    }
   },
   "outputs": [
    {
     "data": {
      "application/vnd.jupyter.widget-view+json": {
       "model_id": "329f41871654433c99b7c24c2c307674",
       "version_major": 2,
       "version_minor": 0
      },
      "text/plain": [
       "Canvas(toolbar=Toolbar(toolitems=[('Home', 'Reset original view', 'home', 'home'), ('Back', 'Back to previous …"
      ]
     },
     "metadata": {},
     "output_type": "display_data"
    },
    {
     "data": {
      "application/vnd.jupyter.widget-view+json": {
       "model_id": "b373e6963a7a48e193f6939562174649",
       "version_major": 2,
       "version_minor": 0
      },
      "text/plain": [
       "Canvas(toolbar=Toolbar(toolitems=[('Home', 'Reset original view', 'home', 'home'), ('Back', 'Back to previous …"
      ]
     },
     "metadata": {},
     "output_type": "display_data"
    }
   ],
   "source": [
    "def graph_single(pulseX,pulseY,pulseZ, fs, reso):\n",
    "    pulses = [pulseX,pulseY,pulseZ]\n",
    "\n",
    "    # actual plotting array\n",
    "    fsarray = (np.arange(fs*reso))/reso\n",
    "    a = qp.fromFsToAu(fsarray)\n",
    "    bx, by, bz = [ qp.pulZe(a,this_pulse) for this_pulse in pulses ] \n",
    "    cx, cy, cz = [ qp.envel(a,this_pulse[0],this_pulse[2],this_pulse[4]) for this_pulse in pulses ]\n",
    "\n",
    "    #fig, [[ax0, ax1],[ax2,ax3]] = plt.subplots(2,2,figsize=(14,8),sharey=True,sharex=True)\n",
    "    fig, ax0 = plt.subplots(1,1,figsize=(7,4))\n",
    "\n",
    "    ax0.plot(fsarray,bx,ls='--', lw=1, label='X', color='b')\n",
    "    ax0.plot(fsarray,cx, lw=1)\n",
    "    ax0.plot(fsarray,by,ls='--', lw=1, label='Y', color='g')\n",
    "    ax0.plot(fsarray,cy, lw=1)\n",
    "    ax0.plot(fsarray,bz,ls='--', lw=1, label='Z', color='r')\n",
    "    ax0.plot(fsarray,cz, lw=1)\n",
    "    ax0.set_title('all')\n",
    "    ax0.legend()\n",
    "\n",
    "#     ax1.plot(fsarray,bx, color='b')\n",
    "#     ax1.plot(fsarray,cx)\n",
    "#     ax1.set_title('X')\n",
    "    \n",
    "#     ax2.plot(fsarray,by, color='g')\n",
    "#     ax2.plot(fsarray,cy)\n",
    "#     ax2.set_title('Y')\n",
    "\n",
    "#     ax3.plot(fsarray,bz, color='r')\n",
    "#     ax3.plot(fsarray,cz)\n",
    "#     ax3.set_title('Z')\n",
    "\n",
    "\n",
    "    fig.tight_layout();\n",
    "    \n",
    "pulseX = [0.04,0.06,70,0,400]\n",
    "pulseY = [0.04,0.06,70,1.570796,400] \n",
    "pulseZ = [0,0,0,0,0]\n",
    "\n",
    "# good one\n",
    "\n",
    "pulseX2 = [0.04,0.06,50,-1.570796,375]\n",
    "pulseY2 = [0.04,0.06,50,0,375]\n",
    "pulseZ2 = [0,0,0,0,0]\n",
    "\n",
    "# graph length in fs\n",
    "fs = 20\n",
    "# graph resolution\n",
    "reso = 40\n",
    "\n",
    "graph_single(pulseX,pulseY,pulseZ,fs,reso)\n",
    "graph_single(pulseX2,pulseY2,pulseZ2,fs,reso)"
   ]
  },
  {
   "cell_type": "code",
   "execution_count": 14,
   "metadata": {},
   "outputs": [
    {
     "data": {
      "application/vnd.jupyter.widget-view+json": {
       "model_id": "942bafce450345e9bcf05f138f7ac401",
       "version_major": 2,
       "version_minor": 0
      },
      "text/plain": [
       "Canvas(toolbar=Toolbar(toolitems=[('Home', 'Reset original view', 'home', 'home'), ('Back', 'Back to previous …"
      ]
     },
     "metadata": {},
     "output_type": "display_data"
    }
   ],
   "source": [
    "pulseX = [0,0,0,0,0]\n",
    "pulseY = [0,0,0,0,0]\n",
    "pulseZ = [0.005, 0.03041 , 250, 0, 2811.21347115 ]\n",
    "fs = 100\n",
    "\n",
    "graph_single(pulseX,pulseY,pulseZ,fs,reso)"
   ]
  },
  {
   "cell_type": "code",
   "execution_count": 4,
   "metadata": {},
   "outputs": [
    {
     "name": "stdout",
     "output_type": "stream",
     "text": [
      "(800,)\n"
     ]
    },
    {
     "data": {
      "application/vnd.jupyter.widget-view+json": {
       "model_id": "09bc25a902364b2489703001adcddcce",
       "version_major": 2,
       "version_minor": 0
      },
      "text/plain": [
       "Canvas(toolbar=Toolbar(toolitems=[('Home', 'Reset original view', 'home', 'home'), ('Back', 'Back to previous …"
      ]
     },
     "metadata": {},
     "output_type": "display_data"
    }
   ],
   "source": [
    "def graph_double(pulseX1,pulseY1,pulseZ1,pulseX2,pulseY2,pulseZ2, fs, reso):\n",
    "    pulses1 = [pulseX1,pulseY1,pulseZ1]\n",
    "    pulses2 = [pulseX2,pulseY2,pulseZ2]\n",
    "\n",
    "    # actual plotting array\n",
    "    fsarray = (np.arange(fs*reso))/reso\n",
    "    \n",
    "    a = qp.fromFsToAu(fsarray)\n",
    "    bx1, by1, bz1 = [ qp.pulZe(a,this_pulse) for this_pulse in pulses1 ] \n",
    "    cx1, cy1, cz1 = [ qp.envel(a,this_pulse[0],this_pulse[2],this_pulse[4]) for this_pulse in pulses1 ]\n",
    "    bx2, by2, bz2 = [ qp.pulZe(a,this_pulse) for this_pulse in pulses2 ] \n",
    "    cx2, cy2, cz2 = [ qp.envel(a,this_pulse[0],this_pulse[2],this_pulse[4]) for this_pulse in pulses2 ]\n",
    "    print(bx1.shape)\n",
    "    #fig, [[ax0, ax1],[ax2,ax3]] = plt.subplots(2,2,figsize=(14,8),sharey=True,sharex=True)\n",
    "    fig, [[ax0,ax1],[ax2,ax3]] = plt.subplots(2,2,figsize=(7.5,7.5))\n",
    "    \n",
    "    ax0 = plt.subplot2grid((2, 2), (0, 0), colspan=2)\n",
    "    \n",
    "    ax0.plot(fsarray,bx1,ls='--', lw=1, label='X1', color='b')\n",
    "    ax0.plot(fsarray,cx1, lw=1.5)\n",
    "    ax0.plot(fsarray,by1,ls='--', lw=1, label='Y1', color='g')\n",
    "    ax0.plot(fsarray,cy1, lw=1.5)\n",
    "    ax0.plot(fsarray,bz1,ls='--', lw=1, label='Z1', color='r')\n",
    "    ax0.plot(fsarray,cz1, lw=1.5)\n",
    "    ax0.plot(fsarray,bx2,ls=':', lw=1, label='X2', color='b')\n",
    "    ax0.plot(fsarray,cx2, lw=1)\n",
    "    ax0.plot(fsarray,by2,ls=':', lw=1, label='Y2', color='g')\n",
    "    ax0.plot(fsarray,cy2, lw=1)\n",
    "    ax0.plot(fsarray,bz2,ls=':', lw=1, label='Z2', color='r')\n",
    "    ax0.plot(fsarray,cz2, lw=1)\n",
    "    ax0.set_title('all')\n",
    "    ax0.set_xlabel('fs')\n",
    "    ax0.set_xlim(4,16)\n",
    "    ax0.legend()\n",
    "    \n",
    "    ax2.set_xlim(-0.05,0.05)\n",
    "    ax2.set_ylim(-0.05,0.05)\n",
    "\n",
    "    bond1 = 100\n",
    "    bond2 = 300\n",
    "    \n",
    "    ax2.plot(bx1[bond2:],      by1[bond2:])\n",
    "    ax2.plot(bx1[bond1:bond2], by1[bond1:bond2])\n",
    "    ax2.plot(bx1[:bond1],      by1[:bond1])\n",
    "    ax2.set_xlabel('X')\n",
    "    ax2.set_ylabel('Y')\n",
    "    ax2.set_title('Pulse1')\n",
    "    \n",
    "    ax3.set_xlim(-0.05,0.05)\n",
    "    ax3.set_ylim(-0.05,0.05)\n",
    "    \n",
    "    ax3.plot(bx2[bond2:],      by2[bond2:])\n",
    "    ax3.plot(bx2[bond1:bond2], by2[bond1:bond2])\n",
    "    ax3.plot(bx2[:bond1],      by2[:bond1])\n",
    "    ax3.set_title('Pulse2')\n",
    "    ax3.set_xlabel('X')\n",
    "    ax3.set_ylabel('Y')\n",
    "    \n",
    "    fig.tight_layout();\n",
    "    \n",
    "pulseX1 = [0.04,0.06,70.11,0,400]\n",
    "pulseY1 = [0.04,0.06,70.11,1.570796,400] \n",
    "pulseZ1 = [0,0,0,0,0]\n",
    "\n",
    "# good one\n",
    "pulseX2 = [0.04,0.06,80,0,405]\n",
    "pulseY2 = [0.04,0.06,80,1.570796,405]\n",
    "pulseZ2 = [0,0,0,0,0]\n",
    "\n",
    "# graph length in fs\n",
    "fs = 20\n",
    "# graph resolution\n",
    "reso = 40\n",
    "\n",
    "graph_double(pulseX1,pulseY1,pulseZ1,pulseX2,pulseY2,pulseZ2, fs, reso)"
   ]
  },
  {
   "cell_type": "code",
   "execution_count": 5,
   "metadata": {
    "ExecuteTime": {
     "end_time": "2019-06-10T14:40:18.122116Z",
     "start_time": "2019-06-10T14:40:18.116237Z"
    }
   },
   "outputs": [],
   "source": [
    "# Altri pulses che ho lanciato\n",
    "\n",
    "# pulseX2 = [0.04,0.06,140,0,600]\n",
    "# pulseY2 = [0.04,0.06,140,1.570796,600]\n",
    "# pulseZ2 = [0,0,0,0,0]\n",
    "\n",
    "\n",
    "# pulseX2 = [0.04,0.06,90,1.570796,425]\n",
    "# pulseY2 = [0.04,0.06,90,1.570796*2,425]\n",
    "# pulseZ2 = [0,0,0,0,0]\n"
   ]
  },
  {
   "cell_type": "code",
   "execution_count": 6,
   "metadata": {
    "ExecuteTime": {
     "end_time": "2019-06-10T14:40:31.835474Z",
     "start_time": "2019-06-10T14:40:18.496329Z"
    }
   },
   "outputs": [
    {
     "name": "stdout",
     "output_type": "stream",
     "text": [
      "Pickle loaded\n"
     ]
    },
    {
     "data": {
      "text/plain": [
       "dict_keys(['dipCUBE', 'kinCube', 'smoCube', 'thes', 'potCube', 'gams', 'phis', 'geoCUBE'])"
      ]
     },
     "execution_count": 6,
     "metadata": {},
     "output_type": "execute_result"
    }
   ],
   "source": [
    "name_data_file = '/home/alessio/NAC_smoothing/LESSMASS/2019-May-smoothNacONLY.pickle'\n",
    "\n",
    "dataDict = qp.pickleLoad(name_data_file)\n",
    "print('Pickle loaded')\n",
    "\n",
    "dataDict.keys()"
   ]
  },
  {
   "cell_type": "code",
   "execution_count": 7,
   "metadata": {
    "ExecuteTime": {
     "end_time": "2019-06-10T14:40:32.645316Z",
     "start_time": "2019-06-10T14:40:32.611118Z"
    }
   },
   "outputs": [
    {
     "name": "stdout",
     "output_type": "stream",
     "text": [
      "(29, 28, 55, 0)\n"
     ]
    }
   ],
   "source": [
    "# def expARR(array,howmany,direction=None):\n",
    "#     direction = direction or 'both'\n",
    "#     dx = array[1]-array[0]\n",
    "#     after = (array[-1] + (dx * np.arange(howmany+1)))[1:]\n",
    "#     before = np.flip((array[0] - (dx * np.arange(howmany+1)))[1:],0)\n",
    "#     if direction == 'both':\n",
    "#         return np.concatenate((before,array,after))\n",
    "#     elif direction == 'dx':\n",
    "#         return np.concatenate((array,after))\n",
    "#     elif direction == 'sx':\n",
    "#         return np.concatenate((before,array))\n",
    "\n",
    "pot = dataDict['potCube']\n",
    "\n",
    "print(qp.find_numpy_index_minumum(pot))\n",
    "pmin, gmin, tmin, smin = qp.find_numpy_index_minumum(pot)\n",
    "\n",
    "phiV, gamV, theV = qp.fromLabelsToFloats(dataDict)\n",
    "\n",
    "phis = qp.labTranformA(dataDict['phis'])\n",
    "gams = qp.labTranformA(dataDict['gams'])\n",
    "thes = qp.labTranformA(dataDict['thes'])\n",
    "\n",
    "phiL = len(phis)\n",
    "gamL = len(gams)\n",
    "theL = len(thes)"
   ]
  },
  {
   "cell_type": "code",
   "execution_count": 8,
   "metadata": {
    "ExecuteTime": {
     "end_time": "2019-06-10T14:40:39.691153Z",
     "start_time": "2019-06-10T14:40:39.268058Z"
    }
   },
   "outputs": [],
   "source": [
    "def graphichetto(pulseXX, label, phi_slice, gam_slice, save=None, internal_coord=None):\n",
    "    save = save or False\n",
    "    internal_coord = internal_coord or False\n",
    "    \n",
    "    sigma = pulseXX[2]\n",
    "    omega = pulseXX[1]\n",
    "\n",
    "    # I will cut the cube at phi_min and gamma_min\n",
    "    pot_cut = pot[phi_slice,gam_slice]\n",
    "    nstates = 8\n",
    "    \n",
    "    # create labels\n",
    "    thes = qp.labTranformA(dataDict['thes'])\n",
    "    \n",
    "    \n",
    "    # create the 4 panels\n",
    "    fig, ([ax, ax0], [ax1, ax2]) = plt.subplots(2,2, gridspec_kw = {'height_ratios':[3, 1], 'width_ratios':[3, 1]},figsize=(15,10))\n",
    "    ax2.axis('off')\n",
    "    \n",
    "\n",
    "    colors = ['b', 'g', 'r', 'c', 'm', 'y', 'k', 'mediumpurple']\n",
    "    for iii in range(nstates):\n",
    "        if internal_coord:\n",
    "            ax.plot(thes, pot_cut[:,iii], ls='-', lw=1.5, color=colors[iii]);\n",
    "            ax.set_ylabel('Potential Energy (Hartree)')\n",
    "        else:\n",
    "            ax.plot(thes, qp.fromHartoEv(pot_cut[:,iii]), ls='-', lw=1.5, color=colors[iii]);\n",
    "            ax.set_ylabel('Potential Energy (eV)')\n",
    "\n",
    "    ax.set_xlabel('q')\n",
    "    ax.set_ylabel('Potential Energy')\n",
    "\n",
    "    # fs extent of GRAPH\n",
    "    fs = 100\n",
    "    # resolution of graph\n",
    "    reso = 20\n",
    "    \n",
    "    # actaual values for the pulse\n",
    "    fsarray = (np.arange(fs*reso))/reso\n",
    "    \n",
    "    # I need the fsarray in AU to call the internal functions pulZe and envel\n",
    "    a = qp.fromFsToAu(fsarray)\n",
    "    f = qp.pulZe(a,pulseXX)\n",
    "    title_thing = r'AU -> $E$={:5.2f}  $\\omega$={:6.3f}  $\\sigma$={:6.3f}  $\\phi$={:6.3f}  $t_0$={:5.2f}'.format(pulseXX[0],pulseXX[1],pulseXX[2],pulseXX[3],pulseXX[4])\n",
    "    ax.set_title(title_thing)\n",
    "    c = qp.envel(a,pulseXX[0],pulseXX[2],pulseXX[4])\n",
    "\n",
    "\n",
    "    # but then I plot on femtoseconds\n",
    "    if internal_coord:\n",
    "        ax1.plot(a,f)\n",
    "        ax1.plot(a,c)\n",
    "        ax1.set_xlabel('Time (AU)')        \n",
    "    else:\n",
    "        ax1.plot(fsarray,f)\n",
    "        ax1.plot(fsarray,c)\n",
    "        ax1.set_xlabel('Time (fs)')\n",
    "    \n",
    "    # labels\n",
    "    ax.set_xlabel(r'$\\theta$ (rad)')\n",
    "\n",
    "    # sigma in energy space\n",
    "  \n",
    "    e = 1/(sigma)\n",
    "    #e = 2*np.pi/(sigma)\n",
    "    #e = (np.pi**2)*sigma**2\n",
    "    #e = 1/(2 * np.pi*(sigma))\n",
    "    print('e = {}'.format(e))\n",
    "    \n",
    "    # the 67% is sigma\n",
    "    # the 95% interval is 2 sigma. This is why e*2\n",
    "    # first and second are still in hartree.\n",
    "    \n",
    "    first_half = pulseXX[1] - (e *np.sqrt(2*(np.log(2))))\n",
    "    second_half = pulseXX[1] + (e *np.sqrt(2*(np.log(2))))\n",
    "\n",
    "    first = pulseXX[1] - (e)\n",
    "    second = pulseXX[1] + (e)\n",
    "    first2 = pulseXX[1] - (2*e)\n",
    "    second2 = pulseXX[1] + (2*e)\n",
    "\n",
    "    # grey band\n",
    "    if internal_coord:\n",
    "        #ax.fill_between(thes, first2, second2, color='whitesmoke')\n",
    "        ax.fill_between(thes, first_half, second_half, color='gainsboro') # grey bar\n",
    "        #ax.plot([xmin, xmin], [first_half, second_half], 'k-', lw=2) # black line\n",
    "    else:\n",
    "        #ax.fill_between(thes, qp.fromHartoEv(first2), qp.fromHartoEv(second2), color='whitesmoke')\n",
    "        ax.fill_between(thes, qp.fromHartoEv(first_half), qp.fromHartoEv(second_half), color='gainsboro')\n",
    "        #ax.plot([xmin, xmin], [qp.fromHartoEv(first_half),qp.fromHartoEv(second_half)], 'k-', lw=2)\n",
    "    \n",
    "    ax.set_ylim(0,10)\n",
    "    maxValue_in_ev = np.amax(pot)\n",
    "    w = np.linspace(0,maxValue_in_ev,800)\n",
    "\n",
    "    # This is the other gaussian in reciprocal space.\n",
    "    e = 1/(sigma)\n",
    "    other = np.exp(-(w-omega)**2 / (2 * e**2))\n",
    "    \n",
    "    #    other = np.exp(-(w-omega)**2 * e)\n",
    "    \n",
    "    if internal_coord:\n",
    "        ax0.plot(other,w)\n",
    "    else:\n",
    "        ax0.plot(qp.fromHartoEv(other),qp.fromHartoEv(w))\n",
    "    \n",
    "    ax0.set_xticks([])\n",
    "    ax0.set_ylim(0,10)\n",
    "    #fig.tight_layout()\n",
    "    \n",
    "    if save:\n",
    "        name_fig = 'pulse{:04d}.png'.format(label)\n",
    "        fig.savefig(name_fig, dpi=300)\n",
    "\n",
    "# i = 0\n",
    "# pulseXX = [0.04,0.23,60,0,2000]\n",
    "# graphichetto(pulseXX, i, 29, 28)"
   ]
  },
  {
   "cell_type": "code",
   "execution_count": 9,
   "metadata": {
    "ExecuteTime": {
     "end_time": "2019-06-10T14:40:41.259482Z",
     "start_time": "2019-06-10T14:40:40.747380Z"
    }
   },
   "outputs": [
    {
     "data": {
      "application/vnd.jupyter.widget-view+json": {
       "model_id": "b49a94df929648e69965aea90a8615f5",
       "version_major": 2,
       "version_minor": 0
      },
      "text/plain": [
       "interactive(children=(Checkbox(value=False, description='Atomic Units'), Checkbox(value=False, description='sa…"
      ]
     },
     "metadata": {},
     "output_type": "display_data"
    }
   ],
   "source": [
    "number = 2*np.sqrt(2*(np.log(2)))\n",
    "def graphichetto_handler(inter,saves,phi_cut,gam_cut,sigma_OUT,omega_OUT):\n",
    "    i = 0\n",
    "    FWMH = 6 #full Width at mid height\n",
    "    sigmaFS = FWMH/(number) # sigma in FS - the 95% of the gaussian is 4 sigma\n",
    "    sigma = qp.fromFsToAu(sigmaFS) # sigma is AU\n",
    "    omega = 1.54980/27.211\n",
    "    #pulseXX = [0.04,0.23,50,np.pi/2,2000]\n",
    "    pulseXX = [0.04,omega_OUT,sigma_OUT,np.pi/2,700]\n",
    "    graphichetto(pulseXX, i, phi_cut, gam_cut, save=saves, internal_coord=inter)\n",
    "\n",
    "interact(graphichetto_handler,\n",
    "         inter = widgets.Checkbox(value=False, description='Atomic Units'),\n",
    "         saves = widgets.Checkbox(value=False, description='save images'),\n",
    "         phi_cut = widgets.IntSlider(min=0,max=phis.size-1,step=1,value=pmin,continuous_update=False),\n",
    "         gam_cut = widgets.IntSlider(min=0,max=gams.size-1,step=1,value=gmin,continuous_update=False),\n",
    "         sigma_OUT = widgets.FloatText(value=100, description='sigma:', disabled=False),\n",
    "         omega_OUT = widgets.FloatText(value=0.22, description='omega:', disabled=False),\n",
    "        );"
   ]
  },
  {
   "cell_type": "code",
   "execution_count": 10,
   "metadata": {},
   "outputs": [
    {
     "data": {
      "text/plain": [
       "(2.0676959124324044, 5.9862)"
      ]
     },
     "execution_count": 10,
     "metadata": {},
     "output_type": "execute_result"
    }
   ],
   "source": [
    "full_width_half_maximum = (2*np.pi/(2.355*35.11))*27.21\n",
    "centered_at = 0.22*27.21\n",
    "full_width_half_maximum,centered_at"
   ]
  },
  {
   "cell_type": "code",
   "execution_count": 11,
   "metadata": {},
   "outputs": [
    {
     "data": {
      "application/vnd.jupyter.widget-view+json": {
       "model_id": "078ebfffc40a41d8ae3154ee9c73ee2b",
       "version_major": 2,
       "version_minor": 0
      },
      "text/plain": [
       "Canvas(toolbar=Toolbar(toolitems=[('Home', 'Reset original view', 'home', 'home'), ('Back', 'Back to previous …"
      ]
     },
     "metadata": {},
     "output_type": "display_data"
    },
    {
     "data": {
      "application/vnd.jupyter.widget-view+json": {
       "model_id": "6fec09951a7c48f784af9c2fea5cafa6",
       "version_major": 2,
       "version_minor": 0
      },
      "text/plain": [
       "Canvas(toolbar=Toolbar(toolitems=[('Home', 'Reset original view', 'home', 'home'), ('Back', 'Back to previous …"
      ]
     },
     "metadata": {},
     "output_type": "display_data"
    },
    {
     "data": {
      "application/vnd.jupyter.widget-view+json": {
       "model_id": "46f0f896d06642fb94f4b8ee80890b09",
       "version_major": 2,
       "version_minor": 0
      },
      "text/plain": [
       "Canvas(toolbar=Toolbar(toolitems=[('Home', 'Reset original view', 'home', 'home'), ('Back', 'Back to previous …"
      ]
     },
     "metadata": {},
     "output_type": "display_data"
    },
    {
     "data": {
      "application/vnd.jupyter.widget-view+json": {
       "model_id": "46e443877d8f43ca8607ad12e4bc0e6b",
       "version_major": 2,
       "version_minor": 0
      },
      "text/plain": [
       "Canvas(toolbar=Toolbar(toolitems=[('Home', 'Reset original view', 'home', 'home'), ('Back', 'Back to previous …"
      ]
     },
     "metadata": {},
     "output_type": "display_data"
    }
   ],
   "source": [
    "from matplotlib.collections import LineCollection\n",
    "from matplotlib.colors import ListedColormap, BoundaryNorm\n",
    "\n",
    "\n",
    "def phaseGraph(pulse3_tuple,fs,reso,first,second,labeol):\n",
    "    '''\n",
    "    draw a x on y graph\n",
    "    '''\n",
    "    x,y = pulse3_tuple[first],pulse3_tuple[second]\n",
    "    \n",
    "    names = ['X','Y','Z']\n",
    "    \n",
    "    name_first,name_second = names[first], names[second]\n",
    "\n",
    "    # actaual values for the pulse\n",
    "    fsarray = (np.arange(fs*reso))/reso\n",
    "    \n",
    "    # I need the fsarray in AU to call the internal functions pulZe and envel\n",
    "    a = qp.fromFsToAu(fsarray)\n",
    "    b = qp.pulZe(a,x)        \n",
    "    c = qp.pulZe(a,y) \n",
    "    \n",
    "    fig, (ax0,ax1) = plt.subplots(1,2,figsize=(10,5))\n",
    "    fig.tight_layout()\n",
    "\n",
    "\n",
    "    plt.title(labeol)\n",
    "    \n",
    "    ax0.set_xlabel('fs')\n",
    "    ax0.set_ylabel('E')\n",
    "    ax1.set_xlabel(name_first)\n",
    "    ax1.set_ylabel(name_second)\n",
    "    \n",
    "    ax0.plot(fsarray,b)\n",
    "    ax0.plot(fsarray,c)\n",
    "    \n",
    "    ax1.set_xlim(-0.05,0.05)\n",
    "    ax1.set_ylim(-0.05,0.05)\n",
    "\n",
    "    bond1 = 500\n",
    "    bond2 = 1000\n",
    "    \n",
    "    ax1.plot(b[bond2:],c[bond2:])\n",
    "    ax1.plot(b[bond1:bond2],c[bond1:bond2])\n",
    "    ax1.plot(b[:bond1],c[:bond1])\n",
    "\n",
    "def gimme_phases(phi1,phi2):\n",
    "    '''\n",
    "    given the two phases, returns a z_dummy IR pulse with different phases to feed the graph\n",
    "    '''\n",
    "    pulsino = [[0.04,0.06,70.22,phi1,274],[0.04,0.06,70.22,phi2,274],[1,1,1,1,1]] \n",
    "    return pulsino\n",
    "\n",
    "\n",
    "pulseWant = gimme_phases(np.pi/4,-np.pi/4)\n",
    "\n",
    "pulse1 = gimme_phases(np.pi/2,0)\n",
    "pulse2 = gimme_phases(0,np.pi/2)\n",
    "pulse3 = gimme_phases(0,3*(np.pi/2))\n",
    "pulse4 = gimme_phases(np.pi,3*(np.pi/2))\n",
    "\n",
    "phaseGraph(pulse1,15,200,0,1, 'inverted')\n",
    "phaseGraph(pulse2,15,200,0,1, 'normal')\n",
    "phaseGraph(pulse3,15,200,0,1, 'counterClock')\n",
    "phaseGraph(pulse4,15,200,0,1, 'phase_pi')\n"
   ]
  },
  {
   "cell_type": "markdown",
   "metadata": {},
   "source": [
    "# New kind of Pulse"
   ]
  },
  {
   "cell_type": "code",
   "execution_count": 12,
   "metadata": {},
   "outputs": [
    {
     "data": {
      "application/vnd.jupyter.widget-view+json": {
       "model_id": "954b8b89b25145d78631e928de8ee1c7",
       "version_major": 2,
       "version_minor": 0
      },
      "text/plain": [
       "Canvas(toolbar=Toolbar(toolitems=[('Home', 'Reset original view', 'home', 'home'), ('Back', 'Back to previous …"
      ]
     },
     "metadata": {},
     "output_type": "display_data"
    }
   ],
   "source": [
    "def new_pulse(t,Ed,omega,sigma,phi,t0):\n",
    "    num = (t-t0)**2\n",
    "    den = 2*(sigma**2)\n",
    "\n",
    "    if (den == 0): \n",
    "        result = 0.0 \n",
    "    else:\n",
    "        num2 = np.sin(omega*(t-t0) + phi) * (t-t0)\n",
    "        den2 = omega * sigma**2\n",
    "        result = Ed *  np.exp(-num/den)* (np.cos(omega*(t-t0) + phi) - num2/den2 )\n",
    "    return result    \n",
    "\n",
    "\n",
    "\n",
    "times = np.linspace(0,5000,3000)\n",
    "\n",
    "\n",
    "pul = new_pulse(times,  0.04,0.004,400,np.pi/2,2200)\n",
    "pil2 = qp.pulZe(times, [0.04,0.004,400,np.pi/2,2200])\n",
    "\n",
    "fig, ax0 = plt.subplots(1,1,figsize = (10,8))\n",
    "\n",
    "ax0.plot(qp.fromAuToFs(times), pul, label = 'old')\n",
    "ax0.plot(qp.fromAuToFs(times), pil2, label = 'new')\n",
    "\n",
    "ax0.set_xlabel('fs')\n",
    "ax0.legend()\n",
    "fig.tight_layout()\n"
   ]
  },
  {
   "cell_type": "code",
   "execution_count": null,
   "metadata": {},
   "outputs": [],
   "source": []
  }
 ],
 "metadata": {
  "hide_input": false,
  "kernelspec": {
   "display_name": "Python 3",
   "language": "python",
   "name": "python3"
  },
  "language_info": {
   "codemirror_mode": {
    "name": "ipython",
    "version": 3
   },
   "file_extension": ".py",
   "mimetype": "text/x-python",
   "name": "python",
   "nbconvert_exporter": "python",
   "pygments_lexer": "ipython3",
   "version": "3.6.8"
  },
  "toc": {
   "base_numbering": 1,
   "nav_menu": {},
   "number_sections": true,
   "sideBar": true,
   "skip_h1_title": false,
   "title_cell": "Table of Contents",
   "title_sidebar": "Contents",
   "toc_cell": false,
   "toc_position": {},
   "toc_section_display": true,
   "toc_window_display": false
  }
 },
 "nbformat": 4,
 "nbformat_minor": 4
}
