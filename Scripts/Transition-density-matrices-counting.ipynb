{
 "cells": [
  {
   "cell_type": "code",
   "execution_count": 17,
   "metadata": {},
   "outputs": [],
   "source": [
    "import numpy as np\n",
    "import quantumpropagator as qp\n",
    "import glob\n",
    "import os"
   ]
  },
  {
   "cell_type": "code",
   "execution_count": 3,
   "metadata": {},
   "outputs": [
    {
     "data": {
      "text/plain": [
       "(64, 31, 31)"
      ]
     },
     "execution_count": 3,
     "metadata": {},
     "output_type": "execute_result"
    }
   ],
   "source": [
    "fn = '/home/alessio/a-DETERMINANTS/expected_values_S2/NEWOUTPUTRUNS/zNorbornadiene_N000-500_P015-692_P099-162/zNorbornadiene_N000-500_P015-692_P099-162.rasscf.TDM.h5'\n",
    "a = qp.readWholeH5toDict(fn)\n",
    "tdm = a['TDM']\n",
    "t = tdm.reshape((64,31,31))\n",
    "t.shape"
   ]
  },
  {
   "cell_type": "code",
   "execution_count": 11,
   "metadata": {},
   "outputs": [
    {
     "name": "stdout",
     "output_type": "stream",
     "text": [
      "2 - 2 ->   43.20327218    0.00000000    5.79687182\n",
      "2 - 3 ->    0.27791846    0.02718194    1.14697861\n",
      "3 - 3 ->   43.29315835    0.00000000    5.70757845\n"
     ]
    }
   ],
   "source": [
    "for i in range(64):\n",
    "    a = np.sum(np.abs(t[i][0:22,0:22]))\n",
    "    b = np.sum(np.abs(t[i][0:22,22:31]))\n",
    "    c = np.sum(np.abs(t[i][22:31,22:31]))\n",
    "    ii = i//8\n",
    "    jj = i%8\n",
    "    if ii in [2,3] and jj in [2,3] and ii<=jj:\n",
    "        print('{} - {} -> {:13.8f} {:13.8f} {:13.8f}'.format(ii, jj, a, b, c)) "
   ]
  },
  {
   "cell_type": "code",
   "execution_count": 20,
   "metadata": {},
   "outputs": [],
   "source": [
    "folders = sorted(glob.glob('/home/alessio/a-DETERMINANTS/expected_values_S2/NEWOUTPUTRUNS/*/*.TDM.h5'))"
   ]
  },
  {
   "cell_type": "code",
   "execution_count": 21,
   "metadata": {},
   "outputs": [
    {
     "name": "stdout",
     "output_type": "stream",
     "text": [
      "zNorbornadiene_N000-500_P015-077_P108-994.rasscf.TDM.h5 - 2 - 3 ->    0.76593703    0.07928920    1.62053083\n",
      "zNorbornadiene_N000-500_P015-077_P109-888.rasscf.TDM.h5 - 2 - 3 ->    0.79963280    0.07373227    1.44250854\n",
      "zNorbornadiene_N000-500_P015-077_P110-335.rasscf.TDM.h5 - 2 - 3 ->    0.75899618    0.06659471    1.25994361\n",
      "zNorbornadiene_N000-500_P015-077_P110-782.rasscf.TDM.h5 - 2 - 3 ->    0.68162806    0.05733566    1.04049216\n",
      "zNorbornadiene_N000-500_P015-385_P111-229.rasscf.TDM.h5 - 2 - 3 ->    0.01068539    0.00000000    0.78392503\n",
      "zNorbornadiene_N000-500_P015-692_P098-715.rasscf.TDM.h5 - 2 - 3 ->    0.09046909    0.00000000    2.18752335\n",
      "zNorbornadiene_N000-500_P015-692_P099-162.rasscf.TDM.h5 - 2 - 3 ->    0.27791846    0.02718194    1.14697861\n",
      "zNorbornadiene_N000-500_P015-692_P100-056.rasscf.TDM.h5 - 2 - 3 ->    0.04930653    0.00000000    1.91775700\n",
      "zNorbornadiene_N000-500_P015-692_P112-123.rasscf.TDM.h5 - 2 - 3 ->    0.00974995    0.00000000    0.21640324\n",
      "zNorbornadiene_N000-500_P016-000_P100-503.rasscf.TDM.h5 - 2 - 3 ->    0.01403970    0.00000000    1.57222718\n",
      "zNorbornadiene_N000-500_P016-000_P101-397.rasscf.TDM.h5 - 2 - 3 ->    0.02861367    0.00441570    0.27352842\n",
      "zNorbornadiene_N000-500_P016-000_P112-570.rasscf.TDM.h5 - 2 - 3 ->    0.00943659    0.00313979    0.03229323\n",
      "zNorbornadiene_N000-500_P016-308_P112-570.rasscf.TDM.h5 - 2 - 3 ->    0.00033932    0.00000000    0.20056340\n",
      "zNorbornadiene_N001-000_P015-385_P096-927.rasscf.TDM.h5 - 2 - 3 ->    0.13908000    0.00000000    1.37125541\n",
      "zNorbornadiene_N001-000_P015-385_P097-374.rasscf.TDM.h5 - 2 - 3 ->    0.29411566    0.10813239    1.11836008\n",
      "zNorbornadiene_N001-000_P015-385_P097-821.rasscf.TDM.h5 - 2 - 3 ->    0.15208864    0.00000000    1.43308721\n",
      "zNorbornadiene_N001-000_P015-385_P098-268.rasscf.TDM.h5 - 2 - 3 ->    0.35750774    0.10993785    1.28373354\n",
      "zNorbornadiene_N001-000_P015-385_P101-397.rasscf.TDM.h5 - 2 - 3 ->    0.20829522    0.00000000    2.32016351\n",
      "zNorbornadiene_N001-000_P015-692_P100-056.rasscf.TDM.h5 - 2 - 3 ->    0.15850649    0.00000000    2.53475564\n",
      "zNorbornadiene_N001-000_P015-692_P100-503.rasscf.TDM.h5 - 2 - 3 ->    0.14182887    0.00000000    2.45938342\n",
      "zNorbornadiene_N001-000_P015-692_P100-950.rasscf.TDM.h5 - 2 - 3 ->    0.12644123    0.00000000    2.37790939\n",
      "zNorbornadiene_N001-000_P016-000_P099-609.rasscf.TDM.h5 - 2 - 3 ->    0.06535510    0.00000000    2.05635794\n",
      "zNorbornadiene_N001-500_P015-385_P095-587.rasscf.TDM.h5 - 2 - 3 ->    0.00001912    0.00000000    1.06539049\n",
      "zNorbornadiene_N001-500_P015-385_P096-034.rasscf.TDM.h5 - 2 - 3 ->    0.00002014    0.00000000    1.08493988\n",
      "zNorbornadiene_N001-500_P015-385_P096-480.rasscf.TDM.h5 - 2 - 3 ->    0.02189382    0.00032473    0.05103383\n",
      "zNorbornadiene_N001-500_P015-692_P094-693.rasscf.TDM.h5 - 2 - 3 ->    0.00710249    0.00030118    0.03515237\n",
      "zNorbornadiene_N001-500_P015-692_P095-140.rasscf.TDM.h5 - 2 - 3 ->    0.00003273    0.00000000    1.10474696\n",
      "zNorbornadiene_N001-500_P015-692_P096-927.rasscf.TDM.h5 - 2 - 3 ->    0.18862705    0.00000000    1.84761620\n",
      "zNorbornadiene_N001-500_P016-000_P094-246.rasscf.TDM.h5 - 2 - 3 ->    0.34600232    0.10433621    1.40215492\n",
      "zNorbornadiene_N001-500_P016-000_P094-693.rasscf.TDM.h5 - 2 - 3 ->    0.38047523    0.10320277    1.48991705\n",
      "zNorbornadiene_N001-500_P016-000_P097-374.rasscf.TDM.h5 - 2 - 3 ->    0.59546695    0.08732074    1.97493714\n",
      "zNorbornadiene_N001-500_P016-000_P097-821.rasscf.TDM.h5 - 2 - 3 ->    0.61313291    0.08207132    1.98783026\n",
      "zNorbornadiene_N001-500_P016-000_P098-268.rasscf.TDM.h5 - 2 - 3 ->    0.62002856    0.07623169    1.96676149\n",
      "zNorbornadiene_N001-500_P016-000_P098-715.rasscf.TDM.h5 - 2 - 3 ->    0.61609143    0.07005480    1.91334069\n",
      "zNorbornadiene_N001-500_P016-000_P099-162.rasscf.TDM.h5 - 2 - 3 ->    0.18319954    0.00000000    2.66395897\n",
      "zNorbornadiene_N002-000_P015-692_P094-246.rasscf.TDM.h5 - 2 - 3 ->    0.00001122    0.00000000    1.12112109\n",
      "zNorbornadiene_N002-000_P015-692_P094-693.rasscf.TDM.h5 - 2 - 3 ->    0.02599705    0.00041311    0.05684538\n",
      "zNorbornadiene_N002-000_P015-692_P095-140.rasscf.TDM.h5 - 2 - 3 ->    0.02645196    0.00041610    0.05699356\n",
      "zNorbornadiene_N002-000_P015-692_P095-587.rasscf.TDM.h5 - 2 - 3 ->    0.00000883    0.00000000    1.14709397\n",
      "zNorbornadiene_N002-000_P015-692_P096-034.rasscf.TDM.h5 - 2 - 3 ->    0.00007931    0.00000000    1.40392409\n",
      "zNorbornadiene_N002-000_P015-692_P096-480.rasscf.TDM.h5 - 2 - 3 ->    0.04100070    0.00043238    0.07106148\n",
      "zNorbornadiene_N002-000_P016-000_P093-799.rasscf.TDM.h5 - 2 - 3 ->    0.01888513    0.00038645    0.04882873\n",
      "zNorbornadiene_N002-000_P016-000_P094-246.rasscf.TDM.h5 - 2 - 3 ->    0.00001964    0.00000000    1.11614645\n",
      "zNorbornadiene_N002-000_P016-308_P093-799.rasscf.TDM.h5 - 2 - 3 ->    0.00013219    0.00000000    1.13604882\n",
      "zNorbornadiene_N002-000_P016-308_P094-246.rasscf.TDM.h5 - 2 - 3 ->    0.18055867    0.00000000    2.08318180\n",
      "zNorbornadiene_P000-000_P015-077_P108-547.rasscf.TDM.h5 - 2 - 3 ->    0.00000001    0.00000000    1.43843171\n",
      "zNorbornadiene_P000-000_P015-385_P106-313.rasscf.TDM.h5 - 2 - 3 ->    0.00400969    0.00009212    0.20652411\n",
      "zNorbornadiene_P000-000_P015-385_P107-207.rasscf.TDM.h5 - 2 - 3 ->    0.00000000    0.00000000    1.40612544\n",
      "zNorbornadiene_P000-000_P015-385_P107-654.rasscf.TDM.h5 - 2 - 3 ->    0.00000000    0.00000000    1.39544292\n",
      "zNorbornadiene_P000-000_P015-692_P104-972.rasscf.TDM.h5 - 2 - 3 ->    0.00000000    0.00000000    1.40727878\n",
      "zNorbornadiene_P000-000_P015-692_P105-419.rasscf.TDM.h5 - 2 - 3 ->    0.00000000    0.00000000    1.39717019\n",
      "zNorbornadiene_P000-000_P016-000_P101-844.rasscf.TDM.h5 - 2 - 3 ->    0.00287506    0.00007331    0.16010862\n",
      "zNorbornadiene_P000-000_P016-000_P102-737.rasscf.TDM.h5 - 2 - 3 ->    0.00000000    0.00000000    1.41809505\n",
      "zNorbornadiene_P000-000_P016-000_P103-184.rasscf.TDM.h5 - 2 - 3 ->    0.00000000    0.00000000    1.40801856\n",
      "zNorbornadiene_P000-000_P016-000_P104-078.rasscf.TDM.h5 - 2 - 3 ->    0.00000000    0.00000000    1.38891094\n"
     ]
    }
   ],
   "source": [
    "for fol in folders:\n",
    "    for i in range(64):\n",
    "        dic = qp.readWholeH5toDict(fol)\n",
    "        tdm = dic['TDM']\n",
    "        t = tdm.reshape((64,31,31))\n",
    "        a = np.sum(np.abs(t[i][0:22,0:22]))\n",
    "        b = np.sum(np.abs(t[i][0:22,22:31]))\n",
    "        c = np.sum(np.abs(t[i][22:31,22:31]))\n",
    "        ii = i//8\n",
    "        jj = i%8\n",
    "        if ii in [2,3] and jj in [2,3] and ii<jj:\n",
    "            print('{} - {} - {} -> {:13.8f} {:13.8f} {:13.8f}'.format(os.path.basename(fol), ii, jj, a, b, c)) "
   ]
  },
  {
   "cell_type": "code",
   "execution_count": null,
   "metadata": {},
   "outputs": [],
   "source": []
  }
 ],
 "metadata": {
  "kernelspec": {
   "display_name": "Python 3",
   "language": "python",
   "name": "python3"
  },
  "language_info": {
   "codemirror_mode": {
    "name": "ipython",
    "version": 3
   },
   "file_extension": ".py",
   "mimetype": "text/x-python",
   "name": "python",
   "nbconvert_exporter": "python",
   "pygments_lexer": "ipython3",
   "version": "3.6.8"
  }
 },
 "nbformat": 4,
 "nbformat_minor": 4
}
