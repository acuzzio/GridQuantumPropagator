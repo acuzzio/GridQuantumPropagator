{
 "cells": [
  {
   "cell_type": "code",
   "execution_count": 1,
   "metadata": {},
   "outputs": [
    {
     "name": "stdout",
     "output_type": "stream",
     "text": [
      "dict_keys(['kinCube', 'potCube', 'dipCUBE', 'geoCUBE', 'phis', 'gams', 'thes'])\n"
     ]
    },
    {
     "data": {
      "text/plain": [
       "((29, 21, 29, 9, 3),\n",
       " (29, 21, 29, 8),\n",
       " (29, 21, 29, 3, 8, 8),\n",
       " (29, 21, 29, 15, 3))"
      ]
     },
     "execution_count": 1,
     "metadata": {},
     "output_type": "execute_result"
    }
   ],
   "source": [
    "dataDict = np.load('datainput_FinerGrid.npy')[()]\n",
    "qp.printDictKeys(dataDict)\n",
    "dataDict['kinCube'].shape, dataDict['potCube'].shape, dataDict['dipCUBE'].shape, dataDict['geoCUBE'].shape"
   ]
  },
  {
   "cell_type": "code",
   "execution_count": 2,
   "metadata": {},
   "outputs": [
    {
     "data": {
      "text/plain": [
       "(14, 10, 14)"
      ]
     },
     "execution_count": 2,
     "metadata": {},
     "output_type": "execute_result"
    }
   ],
   "source": [
    "gsm_phi_ind = dataDict['phis'].index('P000-000')\n",
    "gsm_gam_ind = dataDict['gams'].index('P016-923')\n",
    "gsm_the_ind = dataDict['thes'].index('P114-804')\n",
    "\n",
    "gsm_phi_ind, gsm_gam_ind, gsm_the_ind"
   ]
  },
  {
   "cell_type": "code",
   "execution_count": 3,
   "metadata": {},
   "outputs": [],
   "source": [
    "from quantumpropagator import labTranformA,fromLabelsToFloats\n",
    "\n",
    "phiV, gamV, theV = fromLabelsToFloats(dataDict)\n",
    "\n",
    "phis = labTranformA(dataDict['phis'])\n",
    "gams = labTranformA(dataDict['gams'])\n",
    "thes = labTranformA(dataDict['thes'])\n",
    "\n",
    "phiL = len(phis)\n",
    "gamL = len(gams)\n",
    "theL = len(thes)"
   ]
  },
  {
   "cell_type": "code",
   "execution_count": 4,
   "metadata": {},
   "outputs": [
    {
     "data": {
      "text/plain": [
       "(array([-7. , -6.5, -6. , -5.5, -5. , -4.5, -4. , -3.5, -3. , -2.5, -2. ,\n",
       "        -1.5, -1. , -0.5,  0. ,  0.5,  1. ,  1.5,  2. ,  2.5,  3. ,  3.5,\n",
       "         4. ,  4.5,  5. ,  5.5,  6. ,  6.5,  7. ]),\n",
       " array([-0.07 , -0.065, -0.06 , -0.055, -0.05 , -0.045, -0.04 , -0.035,\n",
       "        -0.03 , -0.025, -0.02 , -0.015, -0.01 , -0.005,  0.   ,  0.005,\n",
       "         0.01 ,  0.015,  0.02 ,  0.025,  0.03 ,  0.035,  0.04 ,  0.045,\n",
       "         0.05 ,  0.055,  0.06 ,  0.065,  0.07 ]),\n",
       " -0.14000000000000001,\n",
       " -0.0050000000000000044,\n",
       " 29)"
      ]
     },
     "execution_count": 4,
     "metadata": {},
     "output_type": "execute_result"
    }
   ],
   "source": [
    "phis,phiV,phiV[0]-phiV[-1],phiV[0]-phiV[1],phiL"
   ]
  },
  {
   "cell_type": "code",
   "execution_count": 5,
   "metadata": {},
   "outputs": [
    {
     "data": {
      "text/plain": [
       "(array([ 13.846,  14.154,  14.462,  14.769,  15.077,  15.385,  15.692,\n",
       "         16.   ,  16.308,  16.615,  16.923,  17.231,  17.538,  17.846,\n",
       "         18.154,  18.462,  18.769,  19.077,  19.385,  19.692,  20.   ]),\n",
       " array([ 0.24165829,  0.2470339 ,  0.25240952,  0.25776768,  0.26314329,\n",
       "         0.26851891,  0.27387707,  0.27925268,  0.28462829,  0.28998646,\n",
       "         0.29536207,  0.30073768,  0.30609584,  0.31147146,  0.31684707,\n",
       "         0.32222269,  0.32758085,  0.33295646,  0.33833208,  0.34369024,\n",
       "         0.34906585]),\n",
       " -0.10740756216773104,\n",
       " -0.0053756140961425392,\n",
       " 21)"
      ]
     },
     "execution_count": 5,
     "metadata": {},
     "output_type": "execute_result"
    }
   ],
   "source": [
    "gams,gamV,gamV[0]-gamV[-1],gamV[0]-gamV[1],gamL"
   ]
  },
  {
   "cell_type": "code",
   "execution_count": 6,
   "metadata": {},
   "outputs": [
    {
     "data": {
      "text/plain": [
       "(array([ 121.061,  120.615,  120.168,  119.721,  119.274,  118.827,\n",
       "         118.38 ,  117.933,  117.486,  117.039,  116.592,  116.145,\n",
       "         115.698,  115.251,  114.804,  114.358,  113.911,  113.464,\n",
       "         113.017,  112.57 ,  112.123,  111.676,  111.229,  110.782,\n",
       "         110.335,  109.888,  109.441,  108.994,  108.547]),\n",
       " array([ 1.05645652,  1.05256444,  1.04866363,  1.04476282,  1.04086201,\n",
       "         1.0369612 ,  1.03306038,  1.02915957,  1.02525876,  1.02135795,\n",
       "         1.01745714,  1.01355633,  1.00965552,  1.00575471,  1.0018539 ,\n",
       "         0.99796181,  0.994061  ,  0.99016019,  0.98625938,  0.98235857,\n",
       "         0.97845776,  0.97455695,  0.97065614,  0.96675533,  0.96285452,\n",
       "         0.9589537 ,  0.95505289,  0.95115208,  0.94725127]),\n",
       " 0.10920525129728531,\n",
       " 0.0038920842319474236,\n",
       " 29)"
      ]
     },
     "execution_count": 6,
     "metadata": {},
     "output_type": "execute_result"
    }
   ],
   "source": [
    "thes,theV,theV[0]-theV[-1],theV[0]-theV[1], theL"
   ]
  },
  {
   "cell_type": "code",
   "execution_count": 7,
   "metadata": {},
   "outputs": [
    {
     "data": {
      "text/plain": [
       "((29, 21, 29, 8), (29, 21, 29, 9, 3))"
      ]
     },
     "execution_count": 7,
     "metadata": {},
     "output_type": "execute_result"
    }
   ],
   "source": [
    "dataDict['potCube'].shape, dataDict['kinCube'].shape,"
   ]
  },
  {
   "cell_type": "code",
   "execution_count": 8,
   "metadata": {},
   "outputs": [],
   "source": [
    "#dataDict['potCube'] = dataDict['potCube'][:,0:20,:]\n",
    "#dataDict['kinCube'] = dataDict['kinCube'][:,0:20,:]\n",
    "#dataDict['potCube'].shape, dataDict['kinCube'].shape, "
   ]
  },
  {
   "cell_type": "code",
   "execution_count": 9,
   "metadata": {},
   "outputs": [],
   "source": [
    "#gspotALL = dataDict['potCube']\n",
    "#gspot = gspotALL[:,:,:,0]\n",
    "#gspot2 = np.empty_like(gspot)\n",
    "#gspotALL2 = np.zeros_like(gspotALL)\n",
    "#\n",
    "#print(gspot.shape,np.amin(gspot),np.amax(gspot),np.amax(gspot)-np.amin(gspot))#\n",
    "\n",
    "#p_s = 0.01\n",
    "#g_s = 100\n",
    "#t_s = 100\n",
    "#p0 = phiV[14] \n",
    "#g0 = gamV[10]\n",
    "#t0 = theV[14]\n",
    "\n",
    "#for pi, p in enumerate(phiV):\n",
    "#    for gi, g in enumerate(gamV):\n",
    "#        for ti,t in enumerate(theV):\n",
    "#             gspot2[pi,gi,ti] = p_s*(p-p0)**2 + g_s*(g-g0)**2 + t_s*(t-t0)**2\n",
    "#                \n",
    "#gspotALL2[:,:,:,0] = gspot23\n",
    "\n",
    "#dataDict['potCube'] = gspotALL2\n",
    "\n",
    "#saveNew = True\n",
    "#if saveNew:\n",
    "#    np.save('datainput_FinerGrid_potential.npy', dataDict)"
   ]
  },
  {
   "cell_type": "code",
   "execution_count": 10,
   "metadata": {},
   "outputs": [],
   "source": [
    "#%matplotlib notebook\n",
    "from mpl_toolkits.mplot3d import axes3d\n",
    "import matplotlib.pyplot as plt\n",
    "from ipywidgets import interact#, interactive, fixed, interact_manual\n",
    "import ipywidgets as widgets\n",
    "\n",
    "def do3dplot(xs,ys,zss):\n",
    "    fig = plt.figure()\n",
    "    ax = fig.add_subplot(111, projection='3d')\n",
    "    X,Y = np.meshgrid(ys,xs)\n",
    "    #ax.plot_wireframe(X, Y, zss)\n",
    "    ax.scatter(X, Y, zss)\n",
    "    \n",
    "def do3dplot2(X,Y,Z):\n",
    "    fig = plt.figure()\n",
    "    ax = fig.add_subplot(111, projection='3d')\n",
    "    #ax.plot_wireframe(X, Y, Z)\n",
    "    ax.scatter(X, Y, Z)\n",
    "    \n"
   ]
  },
  {
   "cell_type": "markdown",
   "metadata": {},
   "source": [
    "# Potentials"
   ]
  },
  {
   "cell_type": "markdown",
   "metadata": {},
   "source": [
    "## K matrix elements"
   ]
  },
  {
   "cell_type": "code",
   "execution_count": 11,
   "metadata": {
    "scrolled": false
   },
   "outputs": [
    {
     "data": {
      "application/vnd.jupyter.widget-view+json": {
       "model_id": "7c6bcf05caed4b6d940710755072edfd",
       "version_major": 2,
       "version_minor": 0
      },
      "text/plain": [
       "interactive(children=(IntSlider(value=0, description='mkelem', max=8), IntSlider(value=0, description='deriv',…"
      ]
     },
     "metadata": {},
     "output_type": "display_data"
    }
   ],
   "source": [
    "def kinElem(mkelem,deriv,phi):\n",
    "    expl = '{}\\'th order derivative coefficient in K matrix'.format(deriv)\n",
    "    tis = ['Tpp','Tpg','Tpt','Tgp','Tgg','Tgt','Ttp','Ttg','Ttt']\n",
    "    tisexpl = '{} -> '.format(tis[mkelem])\n",
    "    print(tisexpl + expl)\n",
    "    x = gams\n",
    "    y = thes\n",
    "    z = dataDict['kinCube'][phi,:,:,mkelem,deriv]\n",
    "    do3dplot(x,y,z)\n",
    "\n",
    "interact(kinElem, mkelem = widgets.IntSlider(min=0,max=8,step=1,value=0), deriv = widgets.IntSlider(min=0,max=2,step=1,value=0),phi = widgets.IntSlider(min=0,max=phiL-1,step=1,value=0));"
   ]
  },
  {
   "cell_type": "code",
   "execution_count": 12,
   "metadata": {},
   "outputs": [
    {
     "data": {
      "text/plain": [
       "(array([[  0.00000000e+00,   0.00000000e+00,  -8.35472332e-04],\n",
       "        [  0.00000000e+00,  -2.53570502e-07,  -5.45873123e-07],\n",
       "        [  0.00000000e+00,  -4.65375191e-09,  -5.66464392e-07],\n",
       "        [  0.00000000e+00,  -5.37195471e-06,  -5.45873123e-07],\n",
       "        [ -3.40583407e-07,  -6.69089023e-09,  -6.17230487e-07],\n",
       "        [ -9.88377667e-12,  -3.81219534e-09,  -3.70111223e-10],\n",
       "        [  0.00000000e+00,  -5.62130292e-06,  -5.66464392e-07],\n",
       "        [ -5.51738684e-10,  -3.56685104e-09,  -3.70111223e-10],\n",
       "        [ -1.81712299e-08,  -7.61215944e-09,  -6.74365133e-07]]),\n",
       " array([[  0.00000000e+00,   0.00000000e+00,  -8.35472332e-04],\n",
       "        [  0.00000000e+00,  -2.53570502e-07,  -5.45873123e-07],\n",
       "        [  0.00000000e+00,  -4.65375191e-09,  -5.66464392e-07],\n",
       "        [  0.00000000e+00,  -5.37195471e-06,  -5.45873123e-07],\n",
       "        [ -3.40583407e-07,  -6.69089023e-09,  -6.17230487e-07],\n",
       "        [ -9.88377667e-12,  -3.81219534e-09,  -3.70111223e-10],\n",
       "        [  0.00000000e+00,  -5.62130292e-06,  -5.66464392e-07],\n",
       "        [ -5.51738684e-10,  -3.56685104e-09,  -3.70111223e-10],\n",
       "        [ -1.81712299e-08,  -7.61215944e-09,  -6.74365133e-07]]))"
      ]
     },
     "execution_count": 12,
     "metadata": {},
     "output_type": "execute_result"
    }
   ],
   "source": [
    "dataDict['kinCube'][11,10,14],dataDict['kinCube'][8,10,14]"
   ]
  },
  {
   "cell_type": "markdown",
   "metadata": {},
   "source": [
    "# Double the grid"
   ]
  },
  {
   "cell_type": "code",
   "execution_count": 13,
   "metadata": {},
   "outputs": [
    {
     "data": {
      "text/plain": [
       "(array([-0.07 , -0.065, -0.06 , -0.055, -0.05 , -0.045, -0.04 , -0.035,\n",
       "        -0.03 , -0.025, -0.02 , -0.015, -0.01 , -0.005,  0.   ,  0.005,\n",
       "         0.01 ,  0.015,  0.02 ,  0.025,  0.03 ,  0.035,  0.04 ,  0.045,\n",
       "         0.05 ,  0.055,  0.06 ,  0.065,  0.07 ]),\n",
       " array([ 0.24165829,  0.2470339 ,  0.25240952,  0.25776768,  0.26314329,\n",
       "         0.26851891,  0.27387707,  0.27925268,  0.28462829,  0.28998646,\n",
       "         0.29536207,  0.30073768,  0.30609584,  0.31147146,  0.31684707,\n",
       "         0.32222269,  0.32758085,  0.33295646,  0.33833208,  0.34369024,\n",
       "         0.34906585]),\n",
       " array([ 1.05645652,  1.05256444,  1.04866363,  1.04476282,  1.04086201,\n",
       "         1.0369612 ,  1.03306038,  1.02915957,  1.02525876,  1.02135795,\n",
       "         1.01745714,  1.01355633,  1.00965552,  1.00575471,  1.0018539 ,\n",
       "         0.99796181,  0.994061  ,  0.99016019,  0.98625938,  0.98235857,\n",
       "         0.97845776,  0.97455695,  0.97065614,  0.96675533,  0.96285452,\n",
       "         0.9589537 ,  0.95505289,  0.95115208,  0.94725127]))"
      ]
     },
     "execution_count": 13,
     "metadata": {},
     "output_type": "execute_result"
    }
   ],
   "source": [
    "phiV,gamV,theV"
   ]
  },
  {
   "cell_type": "code",
   "execution_count": 14,
   "metadata": {},
   "outputs": [],
   "source": [
    "def expARR(array,howmany):\n",
    "    dx = array[1]-array[0]\n",
    "    after = (array[-1] + (dx * np.arange(howmany+1)))[1:]\n",
    "    before = np.flip((array[0] - (dx * np.arange(howmany+1)))[1:],0)\n",
    "    return np.concatenate((before,array,after))\n",
    "\n",
    "def doubleAxespoins(Y):\n",
    "    N = len(Y)\n",
    "    X = np.arange(0, 2*N, 2)\n",
    "    X_new = np.arange(2*N-1)       # Where you want to interpolate\n",
    "    Y_new = np.interp(X_new, X, Y) \n",
    "    return(Y_new)"
   ]
  },
  {
   "cell_type": "code",
   "execution_count": 15,
   "metadata": {},
   "outputs": [
    {
     "name": "stdout",
     "output_type": "stream",
     "text": [
      "0.0 0.295362069315 1.00185389723\n"
     ]
    }
   ],
   "source": [
    "import quantumpropagator as qp\n",
    "\n",
    "# gestionate Phi\n",
    "refi_phi = 2\n",
    "expandi_phi = 0\n",
    "\n",
    "phis_n = phiV\n",
    "phis_n = expARR(phis_n,expandi_phi)\n",
    "for _ in range(refi_phi):\n",
    "    phis_n = doubleAxespoins(phis_n)\n",
    "\n",
    "\n",
    "# gestionate Gam\n",
    "refi_gam = 2\n",
    "expandi_gam = 4\n",
    "\n",
    "gams_n = gamV\n",
    "gams_n = expARR(gams_n,expandi_gam)\n",
    "for _ in range(refi_gam):\n",
    "    gams_n = doubleAxespoins(gams_n)\n",
    "\n",
    "\n",
    "# gestionate The\n",
    "refi_the = 2\n",
    "expandi_the = 0\n",
    "\n",
    "thes_n = theV\n",
    "thes_n = expARR(thes_n,expandi_the)\n",
    "for _ in range(refi_the):\n",
    "    thes_n = doubleAxespoins(thes_n)\n",
    "\n",
    "# equilibrium indices and equilibrium points\n",
    "p0 = phis_n[(gsm_phi_ind+expandi_phi)*2**refi_phi] \n",
    "g0 = gams_n[(gsm_gam_ind+expandi_gam)*2**refi_gam]\n",
    "t0 = thes_n[(gsm_the_ind+expandi_the)*2**refi_the]\n",
    "\n",
    "print(p0,g0,t0)\n",
    "    \n",
    "    \n",
    "pp,gg,tt = qp.fromFloatsToLabels(phis_n, gams_n, thes_n)\n",
    "ppL = len(pp)\n",
    "ggL = len(gg)\n",
    "ttL = len(tt)"
   ]
  },
  {
   "cell_type": "code",
   "execution_count": 16,
   "metadata": {
    "scrolled": false
   },
   "outputs": [
    {
     "data": {
      "text/plain": [
       "(array([-0.07   , -0.06875, -0.0675 , -0.06625, -0.065  , -0.06375,\n",
       "        -0.0625 , -0.06125, -0.06   , -0.05875, -0.0575 , -0.05625,\n",
       "        -0.055  , -0.05375, -0.0525 , -0.05125, -0.05   , -0.04875,\n",
       "        -0.0475 , -0.04625, -0.045  , -0.04375, -0.0425 , -0.04125,\n",
       "        -0.04   , -0.03875, -0.0375 , -0.03625, -0.035  , -0.03375,\n",
       "        -0.0325 , -0.03125, -0.03   , -0.02875, -0.0275 , -0.02625,\n",
       "        -0.025  , -0.02375, -0.0225 , -0.02125, -0.02   , -0.01875,\n",
       "        -0.0175 , -0.01625, -0.015  , -0.01375, -0.0125 , -0.01125,\n",
       "        -0.01   , -0.00875, -0.0075 , -0.00625, -0.005  , -0.00375,\n",
       "        -0.0025 , -0.00125,  0.     ,  0.00125,  0.0025 ,  0.00375,\n",
       "         0.005  ,  0.00625,  0.0075 ,  0.00875,  0.01   ,  0.01125,\n",
       "         0.0125 ,  0.01375,  0.015  ,  0.01625,  0.0175 ,  0.01875,\n",
       "         0.02   ,  0.02125,  0.0225 ,  0.02375,  0.025  ,  0.02625,\n",
       "         0.0275 ,  0.02875,  0.03   ,  0.03125,  0.0325 ,  0.03375,\n",
       "         0.035  ,  0.03625,  0.0375 ,  0.03875,  0.04   ,  0.04125,\n",
       "         0.0425 ,  0.04375,  0.045  ,  0.04625,  0.0475 ,  0.04875,\n",
       "         0.05   ,  0.05125,  0.0525 ,  0.05375,  0.055  ,  0.05625,\n",
       "         0.0575 ,  0.05875,  0.06   ,  0.06125,  0.0625 ,  0.06375,\n",
       "         0.065  ,  0.06625,  0.0675 ,  0.06875,  0.07   ]),\n",
       " array([ 0.22015583,  0.22149974,  0.22284364,  0.22418754,  0.22553145,\n",
       "         0.22687535,  0.22821925,  0.22956316,  0.23090706,  0.23225096,\n",
       "         0.23359487,  0.23493877,  0.23628267,  0.23762658,  0.23897048,\n",
       "         0.24031438,  0.24165829,  0.24300219,  0.2443461 ,  0.24569   ,\n",
       "         0.2470339 ,  0.24837781,  0.24972171,  0.25106561,  0.25240952,\n",
       "         0.25374906,  0.2550886 ,  0.25642814,  0.25776768,  0.25911158,\n",
       "         0.26045548,  0.26179939,  0.26314329,  0.26448719,  0.2658311 ,\n",
       "         0.267175  ,  0.26851891,  0.26985845,  0.27119799,  0.27253753,\n",
       "         0.27387707,  0.27522097,  0.27656487,  0.27790878,  0.27925268,\n",
       "         0.28059658,  0.28194049,  0.28328439,  0.28462829,  0.28596783,\n",
       "         0.28730737,  0.28864692,  0.28998646,  0.29133036,  0.29267426,\n",
       "         0.29401817,  0.29536207,  0.29670597,  0.29804988,  0.29939378,\n",
       "         0.30073768,  0.30207722,  0.30341676,  0.3047563 ,  0.30609584,\n",
       "         0.30743975,  0.30878365,  0.31012755,  0.31147146,  0.31281536,\n",
       "         0.31415927,  0.31550317,  0.31684707,  0.31819098,  0.31953488,\n",
       "         0.32087878,  0.32222269,  0.32356223,  0.32490177,  0.32624131,\n",
       "         0.32758085,  0.32892475,  0.33026865,  0.33161256,  0.33295646,\n",
       "         0.33430036,  0.33564427,  0.33698817,  0.33833208,  0.33967162,\n",
       "         0.34101116,  0.3423507 ,  0.34369024,  0.34503414,  0.34637804,\n",
       "         0.34772195,  0.34906585,  0.35040975,  0.35175366,  0.35309756,\n",
       "         0.35444146,  0.35578537,  0.35712927,  0.35847318,  0.35981708,\n",
       "         0.36116098,  0.36250489,  0.36384879,  0.36519269,  0.3665366 ,\n",
       "         0.3678805 ,  0.3692244 ,  0.37056831]),\n",
       " array([ 1.05645652,  1.0554835 ,  1.05451048,  1.05353746,  1.05256444,\n",
       "         1.05158924,  1.05061403,  1.04963883,  1.04866363,  1.04768843,\n",
       "         1.04671322,  1.04573802,  1.04476282,  1.04378761,  1.04281241,\n",
       "         1.04183721,  1.04086201,  1.0398868 ,  1.0389116 ,  1.0379364 ,\n",
       "         1.0369612 ,  1.03598599,  1.03501079,  1.03403559,  1.03306038,\n",
       "         1.03208518,  1.03110998,  1.03013478,  1.02915957,  1.02818437,\n",
       "         1.02720917,  1.02623397,  1.02525876,  1.02428356,  1.02330836,\n",
       "         1.02233315,  1.02135795,  1.02038275,  1.01940755,  1.01843234,\n",
       "         1.01745714,  1.01648194,  1.01550674,  1.01453153,  1.01355633,\n",
       "         1.01258113,  1.01160592,  1.01063072,  1.00965552,  1.00868032,\n",
       "         1.00770511,  1.00672991,  1.00575471,  1.00477951,  1.0038043 ,\n",
       "         1.0028291 ,  1.0018539 ,  1.00088088,  0.99990786,  0.99893483,\n",
       "         0.99796181,  0.99698661,  0.99601141,  0.9950362 ,  0.994061  ,\n",
       "         0.9930858 ,  0.9921106 ,  0.99113539,  0.99016019,  0.98918499,\n",
       "         0.98820979,  0.98723458,  0.98625938,  0.98528418,  0.98430897,\n",
       "         0.98333377,  0.98235857,  0.98138337,  0.98040816,  0.97943296,\n",
       "         0.97845776,  0.97748256,  0.97650735,  0.97553215,  0.97455695,\n",
       "         0.97358175,  0.97260654,  0.97163134,  0.97065614,  0.96968093,\n",
       "         0.96870573,  0.96773053,  0.96675533,  0.96578012,  0.96480492,\n",
       "         0.96382972,  0.96285452,  0.96187931,  0.96090411,  0.95992891,\n",
       "         0.9589537 ,  0.9579785 ,  0.9570033 ,  0.9560281 ,  0.95505289,\n",
       "         0.95407769,  0.95310249,  0.95212729,  0.95115208,  0.95017688,\n",
       "         0.94920168,  0.94822647,  0.94725127]))"
      ]
     },
     "execution_count": 16,
     "metadata": {},
     "output_type": "execute_result"
    }
   ],
   "source": [
    "phis_n,gams_n,thes_n"
   ]
  },
  {
   "cell_type": "code",
   "execution_count": 17,
   "metadata": {},
   "outputs": [
    {
     "name": "stdout",
     "output_type": "stream",
     "text": [
      "       |  eq.    #p.     dx       dL\n",
      "Phi:     0.0000  113  1.250e-03  1.400e-01 \n",
      "Gamma:   0.2954  113  1.344e-03  1.504e-01 \n",
      "Theta:   1.0019  113 -9.730e-04 -1.092e-01\n"
     ]
    }
   ],
   "source": [
    "print('       |  eq.    #p.     dx       dL')\n",
    "strngOut = 'Phi:   {:8.4f} {:4} {:10.3e} {:10.3e} \\nGamma: {:8.4f} {:4} {:10.3e} {:10.3e} \\nTheta: {:8.4f} {:4} {:10.3e} {:10.3e}'\n",
    "print(strngOut.format(p0,len(phis_n),phis_n[1]-phis_n[0],phis_n[-1]-phis_n[0],g0,len(gams_n), gams_n[1]-gams_n[0],gams_n[-1]-gams_n[0],t0,len(thes_n),thes_n[1]-thes_n[0],thes_n[-1]-thes_n[0]))"
   ]
  },
  {
   "cell_type": "code",
   "execution_count": null,
   "metadata": {
    "scrolled": true
   },
   "outputs": [
    {
     "data": {
      "application/vnd.jupyter.widget-view+json": {
       "model_id": "0cd092004f424a37b62a24c48027bdc0",
       "version_major": 2,
       "version_minor": 0
      },
      "text/plain": [
       "VBox(children=(HTML(value=''), IntProgress(value=0, max=113)))"
      ]
     },
     "metadata": {},
     "output_type": "display_data"
    }
   ],
   "source": [
    "doublALL = np.zeros((ppL,ggL,ttL))\n",
    "doublALL2 = np.zeros((ppL,ggL,ttL,8))\n",
    "kineti = np.zeros((ppL,ggL,ttL,9,3))\n",
    "smo = np.zeros((ppL,ggL,ttL,3,24))\n",
    "\n",
    "p_s = 100\n",
    "g_s = 100\n",
    "t_s = 100\n",
    "\n",
    "\n",
    "\n",
    "for pi, p in qp.log_progress(enumerate(phis_n),every=1,size=(len(phis_n))):\n",
    "    for gi, g in enumerate(gams_n):\n",
    "        for ti,t in enumerate(thes_n):\n",
    "            doublALL[pi,gi,ti] = p_s*(p-p0)**2 + g_s*(g-g0)**2 + t_s*(t-t0)**2\n",
    "            kineti[pi,gi,ti] = qp.calc_g_G(p,g,t)\n",
    "            smo[pi,gi,ti] = qp.calc_s_mat(p,g,t)\n",
    "            \n",
    "doublALL2[:,:,:,0] = doublALL\n",
    "\n",
    "newdict = {}\n",
    "newdict['smoCube'] = smo\n",
    "newdict['kinCube'] = kineti\n",
    "newdict['potCube'] = doublALL2\n",
    "newdict['dipCUBE'] = np.zeros((ppL,ggL,ttL,3,8,8))\n",
    "newdict['geoCUBE'] = np.zeros((ppL,ggL,ttL,3,15))\n",
    "newdict['phis'] = pp\n",
    "newdict['gams'] = gg\n",
    "newdict['thes'] = tt\n",
    "\n",
    "saveNew = True\n",
    "if saveNew:\n",
    "    np.save('doubledoublefinerArmonic.npy', newdict)\n",
    "    \n",
    "qp.printDict(newdict)"
   ]
  },
  {
   "cell_type": "code",
   "execution_count": null,
   "metadata": {},
   "outputs": [],
   "source": [
    "newdict['kinCube'].shape"
   ]
  },
  {
   "cell_type": "code",
   "execution_count": null,
   "metadata": {},
   "outputs": [],
   "source": [
    "poten = newdict['potCube'][14,:,14,0]\n",
    "plt.plot(gams_n,poten_gam)\n",
    "plt.plot(gams_n,poten_gam)"
   ]
  },
  {
   "cell_type": "markdown",
   "metadata": {},
   "source": [
    "# Attempt at doing adsorbing potential"
   ]
  },
  {
   "cell_type": "code",
   "execution_count": null,
   "metadata": {},
   "outputs": [],
   "source": [
    "%matplotlib inline\n",
    "\n",
    "a = 1\n",
    "b = 50\n",
    "c = 9\n",
    "re = np.pi-0.01\n",
    "\n",
    "x = np.linspace(-10,10,50)\n",
    "\n",
    "#y = a * (np.arctan(b*(x + c)) + np.arctan(b*(x - c)))\n",
    "\n",
    "y = a * ((-np.arctan(b*(x + c)) + np.arctan(b*(x - c)))+re)\n",
    "\n",
    "y = np.where(y<0,0,y)\n",
    "\n",
    "plt.plot(x,y)\n",
    "\n",
    "y"
   ]
  },
  {
   "cell_type": "code",
   "execution_count": null,
   "metadata": {},
   "outputs": [],
   "source": []
  }
 ],
 "metadata": {
  "kernelspec": {
   "display_name": "Python 3",
   "language": "python",
   "name": "python3"
  },
  "language_info": {
   "codemirror_mode": {
    "name": "ipython",
    "version": 3
   },
   "file_extension": ".py",
   "mimetype": "text/x-python",
   "name": "python",
   "nbconvert_exporter": "python",
   "pygments_lexer": "ipython3",
   "version": "3.6.1"
  }
 },
 "nbformat": 4,
 "nbformat_minor": 2
}
