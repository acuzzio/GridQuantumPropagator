{
 "cells": [
  {
   "cell_type": "code",
   "execution_count": 1,
   "metadata": {},
   "outputs": [
    {
     "name": "stdout",
     "output_type": "stream",
     "text": [
      "dict_keys(['kinCube', 'potCube', 'dipCUBE', 'geoCUBE', 'phis', 'gams', 'thes'])\n"
     ]
    },
    {
     "data": {
      "text/plain": [
       "((29, 21, 29, 9, 3),\n",
       " (29, 21, 29, 8),\n",
       " (29, 21, 29, 3, 8, 8),\n",
       " (29, 21, 29, 15, 3))"
      ]
     },
     "execution_count": 1,
     "metadata": {},
     "output_type": "execute_result"
    }
   ],
   "source": [
    "dataDict = np.load('datainput_FinerGrid.npy')[()]\n",
    "qp.printDictKeys(dataDict)\n",
    "dataDict['kinCube'].shape, dataDict['potCube'].shape, dataDict['dipCUBE'].shape, dataDict['geoCUBE'].shape"
   ]
  },
  {
   "cell_type": "code",
   "execution_count": 2,
   "metadata": {},
   "outputs": [
    {
     "data": {
      "text/plain": [
       "(14, 10, 14)"
      ]
     },
     "execution_count": 2,
     "metadata": {},
     "output_type": "execute_result"
    }
   ],
   "source": [
    "gsm_phi_ind = dataDict['phis'].index('P000-000')\n",
    "gsm_gam_ind = dataDict['gams'].index('P016-923')\n",
    "gsm_the_ind = dataDict['thes'].index('P114-804')\n",
    "\n",
    "gsm_phi_ind, gsm_gam_ind, gsm_the_ind"
   ]
  },
  {
   "cell_type": "code",
   "execution_count": 3,
   "metadata": {},
   "outputs": [],
   "source": [
    "from quantumpropagator import labTranformA,fromLabelsToFloats\n",
    "\n",
    "phiV, gamV, theV = fromLabelsToFloats(dataDict)\n",
    "\n",
    "phis = labTranformA(dataDict['phis'])\n",
    "gams = labTranformA(dataDict['gams'])\n",
    "thes = labTranformA(dataDict['thes'])\n",
    "\n",
    "phiL = len(phis)\n",
    "gamL = len(gams)\n",
    "theL = len(thes)"
   ]
  },
  {
   "cell_type": "code",
   "execution_count": 4,
   "metadata": {},
   "outputs": [
    {
     "data": {
      "text/plain": [
       "(array([-7. , -6.5, -6. , -5.5, -5. , -4.5, -4. , -3.5, -3. , -2.5, -2. ,\n",
       "        -1.5, -1. , -0.5,  0. ,  0.5,  1. ,  1.5,  2. ,  2.5,  3. ,  3.5,\n",
       "         4. ,  4.5,  5. ,  5.5,  6. ,  6.5,  7. ]),\n",
       " array([-0.07 , -0.065, -0.06 , -0.055, -0.05 , -0.045, -0.04 , -0.035,\n",
       "        -0.03 , -0.025, -0.02 , -0.015, -0.01 , -0.005,  0.   ,  0.005,\n",
       "         0.01 ,  0.015,  0.02 ,  0.025,  0.03 ,  0.035,  0.04 ,  0.045,\n",
       "         0.05 ,  0.055,  0.06 ,  0.065,  0.07 ]),\n",
       " -0.14000000000000001,\n",
       " -0.0050000000000000044,\n",
       " 29)"
      ]
     },
     "execution_count": 4,
     "metadata": {},
     "output_type": "execute_result"
    }
   ],
   "source": [
    "phis,phiV,phiV[0]-phiV[-1],phiV[0]-phiV[1],phiL"
   ]
  },
  {
   "cell_type": "code",
   "execution_count": 5,
   "metadata": {},
   "outputs": [
    {
     "data": {
      "text/plain": [
       "(array([ 13.846,  14.154,  14.462,  14.769,  15.077,  15.385,  15.692,\n",
       "         16.   ,  16.308,  16.615,  16.923,  17.231,  17.538,  17.846,\n",
       "         18.154,  18.462,  18.769,  19.077,  19.385,  19.692,  20.   ]),\n",
       " array([ 0.24165829,  0.2470339 ,  0.25240952,  0.25776768,  0.26314329,\n",
       "         0.26851891,  0.27387707,  0.27925268,  0.28462829,  0.28998646,\n",
       "         0.29536207,  0.30073768,  0.30609584,  0.31147146,  0.31684707,\n",
       "         0.32222269,  0.32758085,  0.33295646,  0.33833208,  0.34369024,\n",
       "         0.34906585]),\n",
       " -0.10740756216773104,\n",
       " -0.0053756140961425392,\n",
       " 21)"
      ]
     },
     "execution_count": 5,
     "metadata": {},
     "output_type": "execute_result"
    }
   ],
   "source": [
    "gams,gamV,gamV[0]-gamV[-1],gamV[0]-gamV[1],gamL"
   ]
  },
  {
   "cell_type": "code",
   "execution_count": 6,
   "metadata": {},
   "outputs": [
    {
     "data": {
      "text/plain": [
       "(array([ 121.061,  120.615,  120.168,  119.721,  119.274,  118.827,\n",
       "         118.38 ,  117.933,  117.486,  117.039,  116.592,  116.145,\n",
       "         115.698,  115.251,  114.804,  114.358,  113.911,  113.464,\n",
       "         113.017,  112.57 ,  112.123,  111.676,  111.229,  110.782,\n",
       "         110.335,  109.888,  109.441,  108.994,  108.547]),\n",
       " array([ 1.05645652,  1.05256444,  1.04866363,  1.04476282,  1.04086201,\n",
       "         1.0369612 ,  1.03306038,  1.02915957,  1.02525876,  1.02135795,\n",
       "         1.01745714,  1.01355633,  1.00965552,  1.00575471,  1.0018539 ,\n",
       "         0.99796181,  0.994061  ,  0.99016019,  0.98625938,  0.98235857,\n",
       "         0.97845776,  0.97455695,  0.97065614,  0.96675533,  0.96285452,\n",
       "         0.9589537 ,  0.95505289,  0.95115208,  0.94725127]),\n",
       " 0.10920525129728531,\n",
       " 0.0038920842319474236,\n",
       " 29)"
      ]
     },
     "execution_count": 6,
     "metadata": {},
     "output_type": "execute_result"
    }
   ],
   "source": [
    "thes,theV,theV[0]-theV[-1],theV[0]-theV[1], theL"
   ]
  },
  {
   "cell_type": "code",
   "execution_count": 7,
   "metadata": {},
   "outputs": [
    {
     "data": {
      "text/plain": [
       "((29, 21, 29, 8), (29, 21, 29, 9, 3))"
      ]
     },
     "execution_count": 7,
     "metadata": {},
     "output_type": "execute_result"
    }
   ],
   "source": [
    "dataDict['potCube'].shape, dataDict['kinCube'].shape,"
   ]
  },
  {
   "cell_type": "code",
   "execution_count": 8,
   "metadata": {},
   "outputs": [],
   "source": [
    "#dataDict['potCube'] = dataDict['potCube'][:,0:20,:]\n",
    "#dataDict['kinCube'] = dataDict['kinCube'][:,0:20,:]\n",
    "#dataDict['potCube'].shape, dataDict['kinCube'].shape, "
   ]
  },
  {
   "cell_type": "code",
   "execution_count": 9,
   "metadata": {},
   "outputs": [],
   "source": [
    "#gspotALL = dataDict['potCube']\n",
    "#gspot = gspotALL[:,:,:,0]\n",
    "#gspot2 = np.empty_like(gspot)\n",
    "#gspotALL2 = np.zeros_like(gspotALL)\n",
    "#\n",
    "#print(gspot.shape,np.amin(gspot),np.amax(gspot),np.amax(gspot)-np.amin(gspot))#\n",
    "\n",
    "#p_s = 0.01\n",
    "#g_s = 100\n",
    "#t_s = 100\n",
    "#p0 = phiV[14] \n",
    "#g0 = gamV[10]\n",
    "#t0 = theV[14]\n",
    "\n",
    "#for pi, p in enumerate(phiV):\n",
    "#    for gi, g in enumerate(gamV):\n",
    "#        for ti,t in enumerate(theV):\n",
    "#             gspot2[pi,gi,ti] = p_s*(p-p0)**2 + g_s*(g-g0)**2 + t_s*(t-t0)**2\n",
    "#                \n",
    "#gspotALL2[:,:,:,0] = gspot23\n",
    "\n",
    "#dataDict['potCube'] = gspotALL2\n",
    "\n",
    "#saveNew = True\n",
    "#if saveNew:\n",
    "#    np.save('datainput_FinerGrid_potential.npy', dataDict)"
   ]
  },
  {
   "cell_type": "code",
   "execution_count": 10,
   "metadata": {},
   "outputs": [],
   "source": [
    "%matplotlib notebook\n",
    "from mpl_toolkits.mplot3d import axes3d\n",
    "import matplotlib.pyplot as plt\n",
    "from ipywidgets import interact#, interactive, fixed, interact_manual\n",
    "import ipywidgets as widgets\n",
    "\n",
    "def do3dplot(xs,ys,zss):\n",
    "    fig = plt.figure()\n",
    "    ax = fig.add_subplot(111, projection='3d')\n",
    "    X,Y = np.meshgrid(ys,xs)\n",
    "    #ax.plot_wireframe(X, Y, zss)\n",
    "    ax.scatter(X, Y, zss)\n",
    "    \n",
    "def do3dplot2(X,Y,Z):\n",
    "    fig = plt.figure()\n",
    "    ax = fig.add_subplot(111, projection='3d')\n",
    "    #ax.plot_wireframe(X, Y, Z)\n",
    "    ax.scatter(X, Y, Z)\n",
    "    \n"
   ]
  },
  {
   "cell_type": "markdown",
   "metadata": {},
   "source": [
    "# Potentials"
   ]
  },
  {
   "cell_type": "markdown",
   "metadata": {},
   "source": [
    "## K matrix elements"
   ]
  },
  {
   "cell_type": "code",
   "execution_count": 11,
   "metadata": {
    "scrolled": false
   },
   "outputs": [
    {
     "data": {
      "application/vnd.jupyter.widget-view+json": {
       "model_id": "9f955b290e2f4071b0223bbe61ca0725",
       "version_major": 2,
       "version_minor": 0
      },
      "text/plain": [
       "interactive(children=(IntSlider(value=0, description='mkelem', max=8), IntSlider(value=0, description='deriv',…"
      ]
     },
     "metadata": {},
     "output_type": "display_data"
    }
   ],
   "source": [
    "def kinElem(mkelem,deriv,phi):\n",
    "    expl = '{}\\'th order derivative coefficient in K matrix'.format(deriv)\n",
    "    tis = ['Tpp','Tpg','Tpt','Tgp','Tgg','Tgt','Ttp','Ttg','Ttt']\n",
    "    tisexpl = '{} -> '.format(tis[mkelem])\n",
    "    print(tisexpl + expl)\n",
    "    x = gams\n",
    "    y = thes\n",
    "    z = dataDict['kinCube'][phi,:,:,mkelem,deriv]\n",
    "    do3dplot(x,y,z)\n",
    "\n",
    "interact(kinElem, mkelem = widgets.IntSlider(min=0,max=8,step=1,value=0), deriv = widgets.IntSlider(min=0,max=2,step=1,value=0),phi = widgets.IntSlider(min=0,max=phiL-1,step=1,value=0));"
   ]
  },
  {
   "cell_type": "markdown",
   "metadata": {},
   "source": [
    "# Double the grid"
   ]
  },
  {
   "cell_type": "code",
   "execution_count": 12,
   "metadata": {},
   "outputs": [
    {
     "data": {
      "text/plain": [
       "(array([-0.07 , -0.065, -0.06 , -0.055, -0.05 , -0.045, -0.04 , -0.035,\n",
       "        -0.03 , -0.025, -0.02 , -0.015, -0.01 , -0.005,  0.   ,  0.005,\n",
       "         0.01 ,  0.015,  0.02 ,  0.025,  0.03 ,  0.035,  0.04 ,  0.045,\n",
       "         0.05 ,  0.055,  0.06 ,  0.065,  0.07 ]),\n",
       " array([ 0.24165829,  0.2470339 ,  0.25240952,  0.25776768,  0.26314329,\n",
       "         0.26851891,  0.27387707,  0.27925268,  0.28462829,  0.28998646,\n",
       "         0.29536207,  0.30073768,  0.30609584,  0.31147146,  0.31684707,\n",
       "         0.32222269,  0.32758085,  0.33295646,  0.33833208,  0.34369024,\n",
       "         0.34906585]),\n",
       " array([ 1.05645652,  1.05256444,  1.04866363,  1.04476282,  1.04086201,\n",
       "         1.0369612 ,  1.03306038,  1.02915957,  1.02525876,  1.02135795,\n",
       "         1.01745714,  1.01355633,  1.00965552,  1.00575471,  1.0018539 ,\n",
       "         0.99796181,  0.994061  ,  0.99016019,  0.98625938,  0.98235857,\n",
       "         0.97845776,  0.97455695,  0.97065614,  0.96675533,  0.96285452,\n",
       "         0.9589537 ,  0.95505289,  0.95115208,  0.94725127]))"
      ]
     },
     "execution_count": 12,
     "metadata": {},
     "output_type": "execute_result"
    }
   ],
   "source": [
    "phiV,gamV,theV"
   ]
  },
  {
   "cell_type": "code",
   "execution_count": 13,
   "metadata": {},
   "outputs": [],
   "source": [
    "import quantumpropagator as qp\n",
    "\n",
    "def doubleAxespoins(Y):\n",
    "    N = len(Y)\n",
    "    X = np.arange(0, 2*N, 2)\n",
    "    X_new = np.arange(2*N-1)       # Where you want to interpolate\n",
    "    Y_new = np.interp(X_new, X, Y) \n",
    "    return(Y_new)\n",
    "\n",
    "phis_n = doubleAxespoins(phiV)\n",
    "gams_n = doubleAxespoins(gamV)\n",
    "thes_n = doubleAxespoins(theV)\n",
    "\n",
    "pp,gg,tt = qp.fromFloatsToLabels(phis_n, gams_n, thes_n)\n",
    "ppL = len(pp)\n",
    "ggL = len(gg)\n",
    "ttL = len(tt)"
   ]
  },
  {
   "cell_type": "code",
   "execution_count": 14,
   "metadata": {},
   "outputs": [
    {
     "data": {
      "text/plain": [
       "(array([-0.07  , -0.0675, -0.065 , -0.0625, -0.06  , -0.0575, -0.055 ,\n",
       "        -0.0525, -0.05  , -0.0475, -0.045 , -0.0425, -0.04  , -0.0375,\n",
       "        -0.035 , -0.0325, -0.03  , -0.0275, -0.025 , -0.0225, -0.02  ,\n",
       "        -0.0175, -0.015 , -0.0125, -0.01  , -0.0075, -0.005 , -0.0025,\n",
       "         0.    ,  0.0025,  0.005 ,  0.0075,  0.01  ,  0.0125,  0.015 ,\n",
       "         0.0175,  0.02  ,  0.0225,  0.025 ,  0.0275,  0.03  ,  0.0325,\n",
       "         0.035 ,  0.0375,  0.04  ,  0.0425,  0.045 ,  0.0475,  0.05  ,\n",
       "         0.0525,  0.055 ,  0.0575,  0.06  ,  0.0625,  0.065 ,  0.0675,  0.07  ]),\n",
       " array([ 0.24165829,  0.2443461 ,  0.2470339 ,  0.24972171,  0.25240952,\n",
       "         0.2550886 ,  0.25776768,  0.26045548,  0.26314329,  0.2658311 ,\n",
       "         0.26851891,  0.27119799,  0.27387707,  0.27656487,  0.27925268,\n",
       "         0.28194049,  0.28462829,  0.28730737,  0.28998646,  0.29267426,\n",
       "         0.29536207,  0.29804988,  0.30073768,  0.30341676,  0.30609584,\n",
       "         0.30878365,  0.31147146,  0.31415927,  0.31684707,  0.31953488,\n",
       "         0.32222269,  0.32490177,  0.32758085,  0.33026865,  0.33295646,\n",
       "         0.33564427,  0.33833208,  0.34101116,  0.34369024,  0.34637804,\n",
       "         0.34906585]),\n",
       " array([ 1.05645652,  1.05451048,  1.05256444,  1.05061403,  1.04866363,\n",
       "         1.04671322,  1.04476282,  1.04281241,  1.04086201,  1.0389116 ,\n",
       "         1.0369612 ,  1.03501079,  1.03306038,  1.03110998,  1.02915957,\n",
       "         1.02720917,  1.02525876,  1.02330836,  1.02135795,  1.01940755,\n",
       "         1.01745714,  1.01550674,  1.01355633,  1.01160592,  1.00965552,\n",
       "         1.00770511,  1.00575471,  1.0038043 ,  1.0018539 ,  0.99990786,\n",
       "         0.99796181,  0.99601141,  0.994061  ,  0.9921106 ,  0.99016019,\n",
       "         0.98820979,  0.98625938,  0.98430897,  0.98235857,  0.98040816,\n",
       "         0.97845776,  0.97650735,  0.97455695,  0.97260654,  0.97065614,\n",
       "         0.96870573,  0.96675533,  0.96480492,  0.96285452,  0.96090411,\n",
       "         0.9589537 ,  0.9570033 ,  0.95505289,  0.95310249,  0.95115208,\n",
       "         0.94920168,  0.94725127]))"
      ]
     },
     "execution_count": 14,
     "metadata": {},
     "output_type": "execute_result"
    }
   ],
   "source": [
    "phis_n,gams_n,thes_n"
   ]
  },
  {
   "cell_type": "code",
   "execution_count": null,
   "metadata": {
    "scrolled": true
   },
   "outputs": [
    {
     "data": {
      "application/vnd.jupyter.widget-view+json": {
       "model_id": "bb5b4fa38cbc42439d7567f16737c21a",
       "version_major": 2,
       "version_minor": 0
      },
      "text/plain": [
       "VBox(children=(HTML(value=''), IntProgress(value=0, max=57)))"
      ]
     },
     "metadata": {},
     "output_type": "display_data"
    }
   ],
   "source": [
    "doublALL = np.zeros((ppL,ggL,ttL))\n",
    "doublALL2 = np.zeros((ppL,ggL,ttL,8))\n",
    "kineti = np.zeros((ppL,ggL,ttL,9,3))\n",
    "\n",
    "p_s = 100\n",
    "g_s = 100\n",
    "t_s = 100\n",
    "p0 = phis_n[28] \n",
    "g0 = gams_n[20]\n",
    "t0 = thes_n[28]\n",
    "\n",
    "for pi, p in qp.log_progress(enumerate(phis_n),every=1,size=(len(phis_n))):\n",
    "    for gi, g in enumerate(gams_n):\n",
    "        for ti,t in enumerate(thes_n):\n",
    "            doublALL[pi,gi,ti] = p_s*(p-p0)**2 + g_s*(g-g0)**2 + t_s*(t-t0)**2\n",
    "            kineti[pi,gi,ti] = qp.calc_g_G(p,g,t)\n",
    "            \n",
    "doublALL2[:,:,:,0] = doublALL\n",
    "\n",
    "newdict = {}\n",
    "newdict['kinCube'] = kineti\n",
    "newdict['potCube'] = doublALL2\n",
    "newdict['dipCUBE'] = np.zeros((ppL,ggL,ttL,3,8,8))\n",
    "newdict['geoCUBE'] = np.zeros((ppL,ggL,ttL,3,15))\n",
    "newdict['phis'] = pp\n",
    "newdict['gams'] = gg\n",
    "newdict['thes'] = tt\n",
    "\n",
    "saveNew = True\n",
    "if saveNew:\n",
    "    np.save('doubledoublefinerArmonic.npy', newdict)\n",
    "    \n",
    "qp.printDict(newdict)"
   ]
  },
  {
   "cell_type": "code",
   "execution_count": 16,
   "metadata": {},
   "outputs": [
    {
     "data": {
      "text/plain": [
       "(57, 41, 57, 9, 3)"
      ]
     },
     "execution_count": 16,
     "metadata": {},
     "output_type": "execute_result"
    }
   ],
   "source": [
    "newdict['kinCube'].shape"
   ]
  },
  {
   "cell_type": "code",
   "execution_count": null,
   "metadata": {},
   "outputs": [],
   "source": []
  }
 ],
 "metadata": {
  "kernelspec": {
   "display_name": "Python 3",
   "language": "python",
   "name": "python3"
  },
  "language_info": {
   "codemirror_mode": {
    "name": "ipython",
    "version": 3
   },
   "file_extension": ".py",
   "mimetype": "text/x-python",
   "name": "python",
   "nbconvert_exporter": "python",
   "pygments_lexer": "ipython3",
   "version": "3.6.1"
  }
 },
 "nbformat": 4,
 "nbformat_minor": 2
}
