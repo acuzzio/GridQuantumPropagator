{
 "cells": [
  {
   "cell_type": "code",
   "execution_count": 1,
   "metadata": {},
   "outputs": [],
   "source": [
    "dataDict = np.load('datainput.npy')[()]"
   ]
  },
  {
   "cell_type": "code",
   "execution_count": 2,
   "metadata": {},
   "outputs": [
    {
     "name": "stdout",
     "output_type": "stream",
     "text": [
      "dict_keys(['kinCube', 'potCube', 'dipCUBE', 'geoCUBE', 'phis', 'gams', 'thes'])\n"
     ]
    }
   ],
   "source": [
    "qp.printDictKeys(dataDict)"
   ]
  },
  {
   "cell_type": "code",
   "execution_count": 3,
   "metadata": {},
   "outputs": [
    {
     "data": {
      "text/plain": [
       "((19, 20, 47, 9, 3),\n",
       " (19, 20, 47, 14),\n",
       " (19, 20, 47, 3, 14, 14),\n",
       " (19, 20, 47, 15, 3))"
      ]
     },
     "execution_count": 3,
     "metadata": {},
     "output_type": "execute_result"
    }
   ],
   "source": [
    "dataDict['kinCube'].shape, dataDict['potCube'].shape, dataDict['dipCUBE'].shape, dataDict['geoCUBE'].shape"
   ]
  },
  {
   "cell_type": "code",
   "execution_count": 4,
   "metadata": {},
   "outputs": [],
   "source": [
    "gsm_phi_ind = dataDict['phis'].index('P000-000')\n",
    "gsm_gam_ind = dataDict['gams'].index('P016-211')\n",
    "gsm_the_ind = dataDict['thes'].index('P114-719')"
   ]
  },
  {
   "cell_type": "code",
   "execution_count": 5,
   "metadata": {},
   "outputs": [
    {
     "data": {
      "text/plain": [
       "(8, 13, 6)"
      ]
     },
     "execution_count": 5,
     "metadata": {},
     "output_type": "execute_result"
    }
   ],
   "source": [
    "gsm_phi_ind, gsm_gam_ind, gsm_the_ind"
   ]
  },
  {
   "cell_type": "code",
   "execution_count": 6,
   "metadata": {},
   "outputs": [],
   "source": [
    "from quantumpropagator import labTranformA\n",
    "\n",
    "phis = labTranformA(dataDict['phis'])\n",
    "gams = labTranformA(dataDict['gams'])\n",
    "thes = labTranformA(dataDict['thes'])"
   ]
  },
  {
   "cell_type": "code",
   "execution_count": 7,
   "metadata": {},
   "outputs": [],
   "source": [
    "dphi = phis[0] - phis[1]\n",
    "dgam = gams[0] - gams[1]\n",
    "dthe = thes[0] - thes[1]"
   ]
  },
  {
   "cell_type": "code",
   "execution_count": 8,
   "metadata": {},
   "outputs": [],
   "source": [
    "from quantumpropagator import calc_g_G\n",
    "\n"
   ]
  },
  {
   "cell_type": "code",
   "execution_count": 9,
   "metadata": {},
   "outputs": [
    {
     "data": {
      "text/plain": [
       "array([  8.   ,   8.632,   9.263,   9.895,  10.526,  11.158,  11.789,\n",
       "        12.421,  13.053,  13.684,  14.316,  14.947,  15.579,  16.211,\n",
       "        16.842,  17.474,  18.105,  18.737,  19.368,  20.   ])"
      ]
     },
     "execution_count": 9,
     "metadata": {},
     "output_type": "execute_result"
    }
   ],
   "source": [
    "gams"
   ]
  },
  {
   "cell_type": "code",
   "execution_count": 10,
   "metadata": {},
   "outputs": [
    {
     "data": {
      "text/plain": [
       "array([ 120.112,  119.213,  118.315,  117.416,  116.517,  115.618,\n",
       "        114.719,  113.82 ,  112.921,  112.022,  111.124,  110.225,\n",
       "        109.326,  108.427,  107.528,  106.629,  105.73 ,  104.831,\n",
       "        103.933,  103.034,  102.135,  101.236,  100.337,   99.438,\n",
       "         98.539,   97.64 ,   96.742,   95.843,   94.944,   94.045,\n",
       "         93.146,   92.247,   91.348,   90.449,   89.551,   88.652,\n",
       "         87.753,   86.854,   85.955,   85.056,   84.157,   83.258,\n",
       "         82.36 ,   81.461,   80.562,   79.663,   78.764])"
      ]
     },
     "execution_count": 10,
     "metadata": {},
     "output_type": "execute_result"
    }
   ],
   "source": [
    "thes"
   ]
  },
  {
   "cell_type": "code",
   "execution_count": 11,
   "metadata": {},
   "outputs": [],
   "source": [
    "dataDict['potCube'] = dataDict['potCube'][gsm_phi_ind,:,:]\n",
    "dataDict['kinCube'] = dataDict['kinCube'][gsm_phi_ind,:,:]"
   ]
  },
  {
   "cell_type": "code",
   "execution_count": 12,
   "metadata": {},
   "outputs": [
    {
     "data": {
      "text/plain": [
       "((20, 47, 14), (20, 47, 9, 3))"
      ]
     },
     "execution_count": 12,
     "metadata": {},
     "output_type": "execute_result"
    }
   ],
   "source": [
    "dataDict['potCube'].shape, dataDict['kinCube'].shape,"
   ]
  },
  {
   "cell_type": "code",
   "execution_count": 13,
   "metadata": {},
   "outputs": [],
   "source": [
    "#dataDict['potCube'] = dataDict['potCube'][:,0:20,:]\n",
    "#dataDict['kinCube'] = dataDict['kinCube'][:,0:20,:]"
   ]
  },
  {
   "cell_type": "code",
   "execution_count": 14,
   "metadata": {},
   "outputs": [
    {
     "data": {
      "text/plain": [
       "((20, 47, 14), (20, 47, 9, 3))"
      ]
     },
     "execution_count": 14,
     "metadata": {},
     "output_type": "execute_result"
    }
   ],
   "source": [
    "dataDict['potCube'].shape, dataDict['kinCube'].shape, "
   ]
  },
  {
   "cell_type": "code",
   "execution_count": 15,
   "metadata": {},
   "outputs": [],
   "source": [
    "%matplotlib notebook\n",
    "from mpl_toolkits.mplot3d import axes3d\n",
    "import matplotlib.pyplot as plt\n",
    "from ipywidgets import interact#, interactive, fixed, interact_manual\n",
    "import ipywidgets as widgets\n",
    "\n",
    "def do3dplot(xs,ys,zss):\n",
    "    fig = plt.figure()\n",
    "    ax = fig.add_subplot(111, projection='3d')\n",
    "    X,Y = np.meshgrid(xs, ys)\n",
    "    ax.plot_wireframe(X, Y, zss)\n",
    "    \n",
    "def kinElem(mkelem,deriv):\n",
    "    expl = '{}\\'th order derivative coefficient in K matrix'.format(deriv)\n",
    "    tis = ['Tpp','Tpg','Tpt','Tgp','Tgg','Tgt','Ttp','Ttg','Ttt']\n",
    "    tisexpl = '{} -> '.format(tis[mkelem])\n",
    "    print(tisexpl + expl)\n",
    "    x = thes\n",
    "    y = gams\n",
    "    z = dataDict['kinCube'][:,:,mkelem,deriv]\n",
    "    do3dplot(x,y,z)"
   ]
  },
  {
   "cell_type": "markdown",
   "metadata": {},
   "source": [
    "## K matrix elements"
   ]
  },
  {
   "cell_type": "code",
   "execution_count": 16,
   "metadata": {},
   "outputs": [
    {
     "data": {
      "application/vnd.jupyter.widget-view+json": {
       "model_id": "1bdc3d7773304a139ee8501d41093815",
       "version_major": 2,
       "version_minor": 0
      },
      "text/plain": [
       "interactive(children=(IntSlider(value=0, description='mkelem', max=8), IntSlider(value=0, description='deriv',…"
      ]
     },
     "metadata": {},
     "output_type": "display_data"
    }
   ],
   "source": [
    "interact(kinElem, mkelem = widgets.IntSlider(min=0,max=8,step=1,value=0), deriv = widgets.IntSlider(min=0,max=2,step=1,value=0));"
   ]
  }
 ],
 "metadata": {
  "kernelspec": {
   "display_name": "Python 3",
   "language": "python",
   "name": "python3"
  },
  "language_info": {
   "codemirror_mode": {
    "name": "ipython",
    "version": 3
   },
   "file_extension": ".py",
   "mimetype": "text/x-python",
   "name": "python",
   "nbconvert_exporter": "python",
   "pygments_lexer": "ipython3",
   "version": "3.6.1"
  }
 },
 "nbformat": 4,
 "nbformat_minor": 2
}
