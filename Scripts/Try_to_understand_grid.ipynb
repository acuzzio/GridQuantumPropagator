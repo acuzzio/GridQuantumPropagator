{
 "cells": [
  {
   "cell_type": "code",
   "execution_count": 18,
   "metadata": {},
   "outputs": [],
   "source": [
    "dataDict = np.load('datainput_FinerGrid.npy')[()]"
   ]
  },
  {
   "cell_type": "code",
   "execution_count": 19,
   "metadata": {},
   "outputs": [
    {
     "name": "stdout",
     "output_type": "stream",
     "text": [
      "dict_keys(['kinCube', 'potCube', 'dipCUBE', 'geoCUBE', 'phis', 'gams', 'thes'])\n"
     ]
    }
   ],
   "source": [
    "qp.printDictKeys(dataDict)"
   ]
  },
  {
   "cell_type": "code",
   "execution_count": 20,
   "metadata": {},
   "outputs": [
    {
     "data": {
      "text/plain": [
       "((29, 21, 29, 9, 3),\n",
       " (29, 21, 29, 8),\n",
       " (29, 21, 29, 3, 8, 8),\n",
       " (29, 21, 29, 15, 3))"
      ]
     },
     "execution_count": 20,
     "metadata": {},
     "output_type": "execute_result"
    }
   ],
   "source": [
    "dataDict['kinCube'].shape, dataDict['potCube'].shape, dataDict['dipCUBE'].shape, dataDict['geoCUBE'].shape"
   ]
  },
  {
   "cell_type": "code",
   "execution_count": 21,
   "metadata": {},
   "outputs": [],
   "source": [
    "gsm_phi_ind = dataDict['phis'].index('P000-000')\n",
    "gsm_gam_ind = dataDict['gams'].index('P016-923')\n",
    "gsm_the_ind = dataDict['thes'].index('P114-804')"
   ]
  },
  {
   "cell_type": "code",
   "execution_count": 22,
   "metadata": {},
   "outputs": [
    {
     "data": {
      "text/plain": [
       "(14, 10, 14)"
      ]
     },
     "execution_count": 22,
     "metadata": {},
     "output_type": "execute_result"
    }
   ],
   "source": [
    "gsm_phi_ind, gsm_gam_ind, gsm_the_ind"
   ]
  },
  {
   "cell_type": "code",
   "execution_count": 23,
   "metadata": {},
   "outputs": [],
   "source": [
    "from quantumpropagator import labTranformA,fromLabelsToFloats\n",
    "\n",
    "phiV, gamV, theV = fromLabelsToFloats(dataDict)\n",
    "\n",
    "phis = labTranformA(dataDict['phis'])\n",
    "gams = labTranformA(dataDict['gams'])\n",
    "thes = labTranformA(dataDict['thes'])\n",
    "\n",
    "phiL = len(phis)\n",
    "gamL = len(gams)\n",
    "theL = len(thes)"
   ]
  },
  {
   "cell_type": "code",
   "execution_count": 24,
   "metadata": {},
   "outputs": [
    {
     "data": {
      "text/plain": [
       "(array([-7. , -6.5, -6. , -5.5, -5. , -4.5, -4. , -3.5, -3. , -2.5, -2. ,\n",
       "        -1.5, -1. , -0.5,  0. ,  0.5,  1. ,  1.5,  2. ,  2.5,  3. ,  3.5,\n",
       "         4. ,  4.5,  5. ,  5.5,  6. ,  6.5,  7. ]),\n",
       " array([-1.16666667, -1.08333333, -1.        , -0.91666667, -0.83333333,\n",
       "        -0.75      , -0.66666667, -0.58333333, -0.5       , -0.41666667,\n",
       "        -0.33333333, -0.25      , -0.16666667, -0.08333333,  0.        ,\n",
       "         0.08333333,  0.16666667,  0.25      ,  0.33333333,  0.41666667,\n",
       "         0.5       ,  0.58333333,  0.66666667,  0.75      ,  0.83333333,\n",
       "         0.91666667,  1.        ,  1.08333333,  1.16666667]))"
      ]
     },
     "execution_count": 24,
     "metadata": {},
     "output_type": "execute_result"
    }
   ],
   "source": [
    "phis,phiV"
   ]
  },
  {
   "cell_type": "code",
   "execution_count": 25,
   "metadata": {},
   "outputs": [
    {
     "data": {
      "text/plain": [
       "-0.005375610000000003"
      ]
     },
     "execution_count": 25,
     "metadata": {},
     "output_type": "execute_result"
    }
   ],
   "source": [
    "0.24165829-0.2470339"
   ]
  },
  {
   "cell_type": "code",
   "execution_count": 26,
   "metadata": {},
   "outputs": [
    {
     "data": {
      "text/plain": [
       "(array([ 13.846,  14.154,  14.462,  14.769,  15.077,  15.385,  15.692,\n",
       "         16.   ,  16.308,  16.615,  16.923,  17.231,  17.538,  17.846,\n",
       "         18.154,  18.462,  18.769,  19.077,  19.385,  19.692,  20.   ]),\n",
       " array([ 0.24165829,  0.2470339 ,  0.25240952,  0.25776768,  0.26314329,\n",
       "         0.26851891,  0.27387707,  0.27925268,  0.28462829,  0.28998646,\n",
       "         0.29536207,  0.30073768,  0.30609584,  0.31147146,  0.31684707,\n",
       "         0.32222269,  0.32758085,  0.33295646,  0.33833208,  0.34369024,\n",
       "         0.34906585]))"
      ]
     },
     "execution_count": 26,
     "metadata": {},
     "output_type": "execute_result"
    }
   ],
   "source": [
    "gams,gamV"
   ]
  },
  {
   "cell_type": "code",
   "execution_count": 27,
   "metadata": {},
   "outputs": [
    {
     "data": {
      "text/plain": [
       "(array([ 121.061,  120.615,  120.168,  119.721,  119.274,  118.827,\n",
       "         118.38 ,  117.933,  117.486,  117.039,  116.592,  116.145,\n",
       "         115.698,  115.251,  114.804,  114.358,  113.911,  113.464,\n",
       "         113.017,  112.57 ,  112.123,  111.676,  111.229,  110.782,\n",
       "         110.335,  109.888,  109.441,  108.994,  108.547]),\n",
       " array([ 1.05645652,  1.05256444,  1.04866363,  1.04476282,  1.04086201,\n",
       "         1.0369612 ,  1.03306038,  1.02915957,  1.02525876,  1.02135795,\n",
       "         1.01745714,  1.01355633,  1.00965552,  1.00575471,  1.0018539 ,\n",
       "         0.99796181,  0.994061  ,  0.99016019,  0.98625938,  0.98235857,\n",
       "         0.97845776,  0.97455695,  0.97065614,  0.96675533,  0.96285452,\n",
       "         0.9589537 ,  0.95505289,  0.95115208,  0.94725127]))"
      ]
     },
     "execution_count": 27,
     "metadata": {},
     "output_type": "execute_result"
    }
   ],
   "source": [
    "thes,theV"
   ]
  },
  {
   "cell_type": "code",
   "execution_count": 11,
   "metadata": {},
   "outputs": [
    {
     "data": {
      "text/plain": [
       "((29, 21, 29, 8), (29, 21, 29, 9, 3))"
      ]
     },
     "execution_count": 11,
     "metadata": {},
     "output_type": "execute_result"
    }
   ],
   "source": [
    "dataDict['potCube'].shape, dataDict['kinCube'].shape,"
   ]
  },
  {
   "cell_type": "code",
   "execution_count": 12,
   "metadata": {},
   "outputs": [],
   "source": [
    "#dataDict['potCube'] = dataDict['potCube'][:,0:20,:]\n",
    "#dataDict['kinCube'] = dataDict['kinCube'][:,0:20,:]\n",
    "#dataDict['potCube'].shape, dataDict['kinCube'].shape, "
   ]
  },
  {
   "cell_type": "code",
   "execution_count": 13,
   "metadata": {},
   "outputs": [
    {
     "data": {
      "text/plain": [
       "5.65446703139437"
      ]
     },
     "execution_count": 13,
     "metadata": {},
     "output_type": "execute_result"
    }
   ],
   "source": [
    "qp.fromHartoEv(0.207797710364)"
   ]
  },
  {
   "cell_type": "code",
   "execution_count": 14,
   "metadata": {},
   "outputs": [
    {
     "name": "stdout",
     "output_type": "stream",
     "text": [
      "(29, 21, 29) -269.70609157 -269.498293859 0.207797710364\n"
     ]
    }
   ],
   "source": [
    "gspotALL = dataDict['potCube']\n",
    "gspot = gspotALL[:,:,:,0]\n",
    "gspot2 = np.empty_like(gspot)\n",
    "gspotALL2 = np.zeros_like(gspotALL)\n",
    "\n",
    "print(gspot.shape,np.amin(gspot),np.amax(gspot),np.amax(gspot)-np.amin(gspot))\n",
    "\n",
    "p_s = 0.01\n",
    "g_s = 1\n",
    "t_s = 1\n",
    "p0 = phiV[14] \n",
    "g0 = gamV[10]\n",
    "t0 = theV[14]\n",
    "\n",
    "for pi, p in enumerate(phiV):\n",
    "    for gi, g in enumerate(gamV):\n",
    "        for ti,t in enumerate(theV):\n",
    "             gspot2[pi,gi,ti] = p_s*(p-p0)**2 + g_s*(g-g0)**2 + t_s*(t-t0)**2\n",
    "                \n",
    "gspotALL2[:,:,:,0] = gspot2\n",
    "\n",
    "dataDict['potCube'] = gspotALL2\n",
    "\n",
    "saveNew = True\n",
    "if saveNew:\n",
    "    np.save('datainput_FinerGrid_potential.npy', dataDict)"
   ]
  },
  {
   "cell_type": "code",
   "execution_count": 15,
   "metadata": {},
   "outputs": [],
   "source": [
    "%matplotlib notebook\n",
    "from mpl_toolkits.mplot3d import axes3d\n",
    "import matplotlib.pyplot as plt\n",
    "from ipywidgets import interact#, interactive, fixed, interact_manual\n",
    "import quantumpropagator as qp\n",
    "import ipywidgets as widgets\n",
    "\n",
    "def do3dplot(xs,ys,zss):\n",
    "    fig = plt.figure()\n",
    "    ax = fig.add_subplot(111, projection='3d')\n",
    "    X,Y = np.meshgrid(ys,xs)\n",
    "    #ax.plot_wireframe(X, Y, zss)\n",
    "    ax.scatter(X, Y, zss)\n",
    "    \n",
    "def do3dplot2(X,Y,Z):\n",
    "    fig = plt.figure()\n",
    "    ax = fig.add_subplot(111, projection='3d')\n",
    "    #ax.plot_wireframe(X, Y, Z)\n",
    "    ax.scatter(X, Y, Z)\n",
    "    \n"
   ]
  },
  {
   "cell_type": "markdown",
   "metadata": {},
   "source": [
    "# Potentials"
   ]
  },
  {
   "cell_type": "markdown",
   "metadata": {},
   "source": [
    "## K matrix elements"
   ]
  },
  {
   "cell_type": "code",
   "execution_count": 17,
   "metadata": {
    "scrolled": false
   },
   "outputs": [
    {
     "data": {
      "application/vnd.jupyter.widget-view+json": {
       "model_id": "116f2fe2425f447b80d32e77d321c296",
       "version_major": 2,
       "version_minor": 0
      },
      "text/plain": [
       "interactive(children=(IntSlider(value=0, description='mkelem', max=8), IntSlider(value=0, description='deriv',…"
      ]
     },
     "metadata": {},
     "output_type": "display_data"
    }
   ],
   "source": [
    "def kinElem(mkelem,deriv,phi):\n",
    "    expl = '{}\\'th order derivative coefficient in K matrix'.format(deriv)\n",
    "    tis = ['Tpp','Tpg','Tpt','Tgp','Tgg','Tgt','Ttp','Ttg','Ttt']\n",
    "    tisexpl = '{} -> '.format(tis[mkelem])\n",
    "    print(tisexpl + expl)\n",
    "    x = gams\n",
    "    y = thes\n",
    "    z = dataDict['kinCube'][phi,:,:,mkelem,deriv]\n",
    "    do3dplot(x,y,z)\n",
    "\n",
    "interact(kinElem, mkelem = widgets.IntSlider(min=0,max=8,step=1,value=0), deriv = widgets.IntSlider(min=0,max=2,step=1,value=0),phi = widgets.IntSlider(min=0,max=phiL-1,step=1,value=0));"
   ]
  },
  {
   "cell_type": "code",
   "execution_count": null,
   "metadata": {},
   "outputs": [],
   "source": []
  }
 ],
 "metadata": {
  "kernelspec": {
   "display_name": "Python 3",
   "language": "python",
   "name": "python3"
  },
  "language_info": {
   "codemirror_mode": {
    "name": "ipython",
    "version": 3
   },
   "file_extension": ".py",
   "mimetype": "text/x-python",
   "name": "python",
   "nbconvert_exporter": "python",
   "pygments_lexer": "ipython3",
   "version": "3.6.1"
  }
 },
 "nbformat": 4,
 "nbformat_minor": 2
}
