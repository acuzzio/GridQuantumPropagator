{
 "cells": [
  {
   "cell_type": "code",
   "execution_count": 1,
   "metadata": {
    "scrolled": true
   },
   "outputs": [],
   "source": [
    "import matplotlib.pyplot as plt\n",
    "import os\n",
    "#from __future__ import print_function\n",
    "from ipywidgets import interact#, interactive, fixed, interact_manual\n",
    "import ipywidgets as widgets"
   ]
  },
  {
   "cell_type": "code",
   "execution_count": 2,
   "metadata": {
    "scrolled": true
   },
   "outputs": [],
   "source": [
    "def heatThisLog(h5File):\n",
    "    wf  = qp.retrieve_hdf5_data(h5File,'WF')\n",
    "    fig = plt.figure(figsize=(8, 16), dpi= 80, facecolor='w', edgecolor='k')\n",
    "    plt.ylabel('Gamma')\n",
    "    plt.xlabel('Theta')\n",
    "    #plt.imshow(qp.abs2(wf), vmax = 1e-30)\n",
    "    plt.imshow(np.log(qp.abs2(wf)))\n",
    "    \n",
    "def heatThis(h5File):\n",
    "    from mpl_toolkits.axes_grid1 import make_axes_locatable\n",
    "    wf   = qp.retrieve_hdf5_data(h5File,'WF')\n",
    "    time = qp.retrieve_hdf5_data(h5File,'Time')[0]\n",
    "    fig = plt.figure(figsize=(16, 16), dpi= 80, facecolor='w', edgecolor='k')\n",
    "    plt.title('Time = {:10.5f} fs'.format(time))\n",
    "    plt.ylabel('Gamma')\n",
    "    plt.xlabel('Theta')\n",
    "\n",
    "    #plt.imshow(qp.abs2(wf), vmax = 1e-30)\n",
    "    #plt.imshow(qp.abs2(wf), cmap='PuBu_r')\n",
    "    \n",
    "    # this is to get a nice colorbar on the side\n",
    "    ax = plt.gca()\n",
    "    im = ax.imshow(qp.abs2(wf), cmap='PuBu_r')\n",
    "    divider = make_axes_locatable(ax)\n",
    "    cax = divider.append_axes(\"right\", size=\"5%\", pad=0.05)\n",
    "\n",
    "    plt.colorbar(im, cax=cax)\n",
    "    \n",
    "def f(x):\n",
    "    return heatThis(os.path.join(a,filesList[x]))"
   ]
  },
  {
   "cell_type": "code",
   "execution_count": 3,
   "metadata": {
    "scrolled": true
   },
   "outputs": [
    {
     "name": "stdout",
     "output_type": "stream",
     "text": [
      "0 -> input2_0000\n",
      "1 -> input2_0001\n",
      "2 -> input2_0002\n",
      "3 -> input2_0003\n",
      "4 -> input2_0004\n",
      "5 -> input2_0005\n",
      "6 -> input2_0007\n",
      "7 -> inputProfiling_0000\n",
      "8 -> inputProfiling_0001\n",
      "9 -> input_dt_01_0000\n",
      "10 -> input_dt_01_0001\n",
      "\n"
     ]
    }
   ],
   "source": [
    "subfolders = sorted([ dir for dir in os.listdir('.') if os.path.isdir(dir) and dir != '.ipynb_checkpoints'])\n",
    "print(''.join(['{} -> {}\\n'.format(a,b) for a,b in enumerate(subfolders)]))"
   ]
  },
  {
   "cell_type": "code",
   "execution_count": 4,
   "metadata": {
    "scrolled": true
   },
   "outputs": [],
   "source": [
    "a=subfolders[5]"
   ]
  },
  {
   "cell_type": "code",
   "execution_count": 5,
   "metadata": {
    "scrolled": true
   },
   "outputs": [],
   "source": [
    "filesList = [ fn for fn in sorted(os.listdir(a)) if fn[:8] == 'Gaussian']"
   ]
  },
  {
   "cell_type": "code",
   "execution_count": 6,
   "metadata": {
    "scrolled": false
   },
   "outputs": [
    {
     "data": {
      "application/vnd.jupyter.widget-view+json": {
       "model_id": "b1afe87a795542deb4a77537c6322ede",
       "version_major": 2,
       "version_minor": 0
      },
      "text/plain": [
       "interactive(children=(IntSlider(value=101, description='x', max=101), Output()), _dom_classes=('widget-interac…"
      ]
     },
     "metadata": {},
     "output_type": "display_data"
    }
   ],
   "source": [
    "lastV = len(filesList)-1\n",
    "interact(f, x = widgets.IntSlider(min=0,max=lastV,step=1,value=lastV));"
   ]
  },
  {
   "cell_type": "markdown",
   "metadata": {},
   "source": [
    "# 1d slices"
   ]
  },
  {
   "cell_type": "code",
   "execution_count": 7,
   "metadata": {
    "scrolled": true
   },
   "outputs": [],
   "source": [
    "gamL,theL = (qp.retrieve_hdf5_data(os.path.join(a,filesList[0]),'WF')).shape"
   ]
  },
  {
   "cell_type": "code",
   "execution_count": 8,
   "metadata": {
    "scrolled": true
   },
   "outputs": [],
   "source": [
    "def sliceGammas(h5File, gamma):\n",
    "    wf  = qp.retrieve_hdf5_data(h5File,'WF')\n",
    "    fig = plt.figure(figsize=(10, 5), dpi= 80, facecolor='w', edgecolor='k')\n",
    "    ys = wf[gamma,:]\n",
    "    time = qp.retrieve_hdf5_data(h5File,'Time')[0]\n",
    "    plt.title('Time = {:10.5f} fs --- gammaL = {}'.format(time,gamma))\n",
    "    plt.ylim(-0.5,0.5)\n",
    "    plt.plot(np.arange(ys.size), np.real(ys), linewidth=3.0)\n",
    "    plt.plot(np.arange(ys.size), np.imag(ys), linewidth=3.0)\n",
    "\n",
    "def sliceThetas(h5File, theta):\n",
    "    wf  = qp.retrieve_hdf5_data(h5File,'WF')\n",
    "    fig = plt.figure(figsize=(10, 5), dpi= 80, facecolor='w', edgecolor='k')\n",
    "    ys = wf[:,theta]\n",
    "    time = qp.retrieve_hdf5_data(h5File,'Time')[0]\n",
    "    plt.title('Time = {:10.5f} fs --- thetaL = {}'.format(time,theta))\n",
    "    plt.ylim(-0.5,0.5)\n",
    "    plt.plot(np.arange(ys.size), np.real(ys), linewidth=3.0)\n",
    "    plt.plot(np.arange(ys.size), np.imag(ys), linewidth=3.0)\n",
    "    \n",
    "    \n",
    "def fgam(file_number,gamma):\n",
    "    return sliceGammas(os.path.join(a, filesList[file_number]), gamma)\n",
    "\n",
    "def fthe(file_number,theta):\n",
    "    return sliceThetas(os.path.join(a, filesList[file_number]), theta)"
   ]
  },
  {
   "cell_type": "code",
   "execution_count": 9,
   "metadata": {
    "scrolled": false
   },
   "outputs": [
    {
     "data": {
      "application/vnd.jupyter.widget-view+json": {
       "model_id": "4ce6dc263f8c4cc49a4a0d6869a6bd66",
       "version_major": 2,
       "version_minor": 0
      },
      "text/plain": [
       "interactive(children=(IntSlider(value=101, description='file_number', max=101), IntSlider(value=8, description…"
      ]
     },
     "metadata": {},
     "output_type": "display_data"
    }
   ],
   "source": [
    "interact(fgam, file_number = widgets.IntSlider(min=0,max=lastV,step=1,value=lastV), gamma = widgets.IntSlider(min=0,max=gamL-1,step=1,value=8));"
   ]
  },
  {
   "cell_type": "code",
   "execution_count": 10,
   "metadata": {
    "scrolled": false
   },
   "outputs": [
    {
     "data": {
      "application/vnd.jupyter.widget-view+json": {
       "model_id": "b9b55bbff05248ada158606802f61fca",
       "version_major": 2,
       "version_minor": 0
      },
      "text/plain": [
       "interactive(children=(IntSlider(value=101, description='file_number', max=101), IntSlider(value=14, descriptio…"
      ]
     },
     "metadata": {},
     "output_type": "display_data"
    }
   ],
   "source": [
    "interact(fthe, file_number = widgets.IntSlider(min=0,max=lastV,step=1,value=lastV), theta = widgets.IntSlider(min=0,max=theL-1,step=1,value=14));"
   ]
  },
  {
   "cell_type": "code",
   "execution_count": null,
   "metadata": {},
   "outputs": [],
   "source": []
  }
 ],
 "metadata": {
  "kernelspec": {
   "display_name": "Python 3",
   "language": "python",
   "name": "python3"
  },
  "language_info": {
   "codemirror_mode": {
    "name": "ipython",
    "version": 3
   },
   "file_extension": ".py",
   "mimetype": "text/x-python",
   "name": "python",
   "nbconvert_exporter": "python",
   "pygments_lexer": "ipython3",
   "version": "3.6.1"
  }
 },
 "nbformat": 4,
 "nbformat_minor": 2
}
