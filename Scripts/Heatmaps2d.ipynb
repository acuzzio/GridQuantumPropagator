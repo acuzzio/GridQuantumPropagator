{
 "cells": [
  {
   "cell_type": "code",
   "execution_count": 1,
   "metadata": {
    "scrolled": true
   },
   "outputs": [],
   "source": [
    "import matplotlib.pyplot as plt\n",
    "import os\n",
    "import pandas as pd\n",
    "from quantumpropagator import readWholeH5toDict, abs2\n",
    "#from __future__ import print_function\n",
    "from ipywidgets import interact#, interactive, fixed, interact_manual\n",
    "import ipywidgets as widgets"
   ]
  },
  {
   "cell_type": "code",
   "execution_count": 2,
   "metadata": {
    "scrolled": true
   },
   "outputs": [],
   "source": [
    "def heatThisLog(h5File):\n",
    "    wf  = qp.retrieve_hdf5_data(h5File,'WF')\n",
    "    fig = plt.figure(figsize=(8, 16), dpi= 80, facecolor='w', edgecolor='k')\n",
    "    plt.ylabel('Gamma')\n",
    "    plt.xlabel('Theta')\n",
    "    #plt.imshow(qp.abs2(wf), vmax = 1e-30)\n",
    "    plt.imshow(np.log(qp.abs2(wf)))\n",
    "    \n",
    "def heatThis(h5File,save=None):\n",
    "    save = save or False\n",
    "    from mpl_toolkits.axes_grid1 import make_axes_locatable\n",
    "    wf   = qp.retrieve_hdf5_data(h5File,'WF')\n",
    "    time = qp.retrieve_hdf5_data(h5File,'Time')[0]\n",
    "    fig = plt.figure(figsize=(15, 8), dpi= 80, facecolor='w', edgecolor='k')\n",
    "    plt.title('Time = {:10.5f} fs'.format(time))\n",
    "    plt.ylabel('Gamma')\n",
    "    plt.xlabel('Theta')\n",
    "    #plt.gca().set_yticks(gams)\n",
    "    #plt.gca().set_yticklabels(gams)\n",
    "    #plt.gca().set_xticks(thes)\n",
    "    #plt.gca().set_xticklabels(thes)\n",
    "\n",
    "    #plt.imshow(qp.abs2(wf), vmax = 1e-30)\n",
    "    #plt.imshow(qp.abs2(wf), cmap='PuBu_r')\n",
    "    \n",
    "    # this is to get a nice colorbar on the side\n",
    "    ax = plt.gca()\n",
    "    im = ax.imshow(qp.abs2(wf), cmap='hot', vmax=0.1)\n",
    "    #im = ax.imshow(qp.abs2(wf), cmap='PuBu_r', vmax=0.4)\n",
    "    divider = make_axes_locatable(ax)\n",
    "    cax = divider.append_axes(\"right\", size=\"5%\", pad=0.05)\n",
    "\n",
    "    plt.colorbar(im, cax=cax)\n",
    "    \n",
    "    if save:\n",
    "        fig.savefig(os.path.splitext(h5File)[0] + '.png')\n",
    "        plt.close()\n",
    "    \n",
    "def f(x):\n",
    "    return heatThis(os.path.join(a,filesList[x]))"
   ]
  },
  {
   "cell_type": "code",
   "execution_count": 3,
   "metadata": {
    "scrolled": true
   },
   "outputs": [
    {
     "name": "stdout",
     "output_type": "stream",
     "text": [
      "0 -> inputProfiling_0000\n",
      "1 -> inputProfiling_0001\n",
      "2 -> inputProfiling_0002\n",
      "3 -> inputProfiling_0003\n",
      "4 -> inputProfiling_0004\n",
      "5 -> inputProfiling_0005\n",
      "6 -> inputProfiling_0006\n",
      "7 -> inputProfiling_0007\n",
      "8 -> inputProfiling_0008\n",
      "9 -> inputProfiling_0009\n",
      "10 -> inputProfiling_0010\n",
      "11 -> inputProfiling_0011\n",
      "12 -> inputProfiling_0012\n",
      "13 -> inputProfiling_0013\n",
      "14 -> inputProfiling_0014\n",
      "15 -> inputProfiling_0015\n",
      "16 -> inputProfiling_0016\n",
      "17 -> inputProfiling_0017\n",
      "18 -> inputProfiling_0018\n",
      "19 -> inputProfiling_0019\n",
      "\n"
     ]
    }
   ],
   "source": [
    "subfolders = sorted([ dir for dir in os.listdir('.') if os.path.isdir(dir) and dir != '.ipynb_checkpoints'])\n",
    "print(''.join(['{} -> {}\\n'.format(a,b) for a,b in enumerate(subfolders)]))"
   ]
  },
  {
   "cell_type": "code",
   "execution_count": 4,
   "metadata": {
    "scrolled": true
   },
   "outputs": [],
   "source": [
    "a = subfolders[19]"
   ]
  },
  {
   "cell_type": "code",
   "execution_count": 5,
   "metadata": {
    "scrolled": true
   },
   "outputs": [],
   "source": [
    "filesList = [ fn for fn in sorted(os.listdir(a)) if fn[:8] == 'Gaussian' and fn[-3:] == '.h5']\n",
    "outh5 = os.path.join(a,'allInput.h5')\n",
    "dictio = readWholeH5toDict(outh5)\n",
    "gams,thes = dictio['gams'],dictio['thes']"
   ]
  },
  {
   "cell_type": "code",
   "execution_count": 6,
   "metadata": {
    "scrolled": false
   },
   "outputs": [
    {
     "data": {
      "application/vnd.jupyter.widget-view+json": {
       "model_id": "01e6ca57cb0b456f91cebf25f44aeda0",
       "version_major": 2,
       "version_minor": 0
      },
      "text/plain": [
       "interactive(children=(IntSlider(value=1334, description='x', max=1334), Output()), _dom_classes=('widget-inter…"
      ]
     },
     "metadata": {},
     "output_type": "display_data"
    }
   ],
   "source": [
    "lastV = len(filesList)-1\n",
    "interact(f, x = widgets.IntSlider(min=0,max=lastV,step=1,value=lastV));\n",
    "createimages = False\n",
    "\n",
    "if createimages:\n",
    "    for filn in filesList:\n",
    "        filna = os.path.join(a,filn)\n",
    "        heatThis(filna,save=True)\n",
    "        "
   ]
  },
  {
   "cell_type": "markdown",
   "metadata": {},
   "source": [
    "# 1d slices"
   ]
  },
  {
   "cell_type": "code",
   "execution_count": 7,
   "metadata": {
    "scrolled": true
   },
   "outputs": [],
   "source": [
    "gamL,theL = (qp.retrieve_hdf5_data(os.path.join(a,filesList[0]),'WF')).shape"
   ]
  },
  {
   "cell_type": "code",
   "execution_count": 8,
   "metadata": {
    "scrolled": true
   },
   "outputs": [],
   "source": [
    "def sliceGammas(h5File, gamma):\n",
    "    wf  = qp.retrieve_hdf5_data(h5File,'WF')\n",
    "    fig = plt.figure(figsize=(11, 6), dpi= 80, facecolor='w', edgecolor='k')\n",
    "    ys = wf[gamma,:]\n",
    "    time = qp.retrieve_hdf5_data(h5File,'Time')[0]\n",
    "    plt.title('Time = {:10.5f} fs --- gammaL = {}'.format(time,gamma))\n",
    "    plt.ylim(-0.5,0.5)\n",
    "    plt.plot(thes, np.real(ys), linewidth=1,ls='--')\n",
    "    plt.plot(thes, np.imag(ys), linewidth=1,ls='--')\n",
    "    plt.plot(thes, abs2(ys), linewidth=3,ls='-')\n",
    "\n",
    "def sliceThetas(h5File, theta):\n",
    "    wf  = qp.retrieve_hdf5_data(h5File,'WF')\n",
    "    fig = plt.figure(figsize=(11, 6), dpi= 80, facecolor='w', edgecolor='k')\n",
    "    ys = wf[:,theta]\n",
    "    time = qp.retrieve_hdf5_data(h5File,'Time')[0]\n",
    "    plt.title('Time = {:10.5f} fs --- thetaL = {}'.format(time,theta))\n",
    "    plt.ylim(-0.5,0.5)\n",
    "    plt.plot(gams, np.real(ys), linewidth=1,ls='--')\n",
    "    plt.plot(gams, np.imag(ys), linewidth=1,ls='--')\n",
    "    plt.plot(gams, abs2(ys), linewidth=3,ls='-')    \n",
    "    \n",
    "def fgam(file_number,gamma):\n",
    "    return sliceGammas(os.path.join(a, filesList[file_number]), gamma)\n",
    "\n",
    "def fthe(file_number,theta):\n",
    "    return sliceThetas(os.path.join(a, filesList[file_number]), theta)"
   ]
  },
  {
   "cell_type": "code",
   "execution_count": 9,
   "metadata": {
    "scrolled": false
   },
   "outputs": [
    {
     "data": {
      "application/vnd.jupyter.widget-view+json": {
       "model_id": "b6be793072f94b93bf93ab5ceba3ac6a",
       "version_major": 2,
       "version_minor": 0
      },
      "text/plain": [
       "interactive(children=(IntSlider(value=1334, description='file_number', max=1334), IntSlider(value=10, descript…"
      ]
     },
     "metadata": {},
     "output_type": "display_data"
    }
   ],
   "source": [
    "interact(fgam, file_number = widgets.IntSlider(min=0,max=lastV,step=1,value=lastV), gamma = widgets.IntSlider(min=0,max=gamL-1,step=1,value=10));"
   ]
  },
  {
   "cell_type": "code",
   "execution_count": 10,
   "metadata": {
    "scrolled": false
   },
   "outputs": [
    {
     "data": {
      "application/vnd.jupyter.widget-view+json": {
       "model_id": "6fd3077ffd8047e1bc731fec263e89a0",
       "version_major": 2,
       "version_minor": 0
      },
      "text/plain": [
       "interactive(children=(IntSlider(value=1334, description='file_number', max=1334), IntSlider(value=16, descript…"
      ]
     },
     "metadata": {},
     "output_type": "display_data"
    }
   ],
   "source": [
    "interact(fthe, file_number = widgets.IntSlider(min=0,max=lastV,step=1,value=lastV), theta = widgets.IntSlider(min=0,max=theL-1,step=1,value=16));"
   ]
  },
  {
   "cell_type": "code",
   "execution_count": 11,
   "metadata": {},
   "outputs": [],
   "source": [
    "outfn = os.path.join(a,'output')"
   ]
  },
  {
   "cell_type": "code",
   "execution_count": 12,
   "metadata": {},
   "outputs": [
    {
     "data": {
      "text/html": [
       "<div>\n",
       "<style>\n",
       "    .dataframe thead tr:only-child th {\n",
       "        text-align: right;\n",
       "    }\n",
       "\n",
       "    .dataframe thead th {\n",
       "        text-align: left;\n",
       "    }\n",
       "\n",
       "    .dataframe tbody tr th {\n",
       "        vertical-align: top;\n",
       "    }\n",
       "</style>\n",
       "<table border=\"1\" class=\"dataframe\">\n",
       "  <thead>\n",
       "    <tr style=\"text-align: right;\">\n",
       "      <th></th>\n",
       "      <th>0</th>\n",
       "      <th>1</th>\n",
       "      <th>2</th>\n",
       "      <th>3</th>\n",
       "      <th>4</th>\n",
       "      <th>5</th>\n",
       "      <th>6</th>\n",
       "    </tr>\n",
       "  </thead>\n",
       "  <tbody>\n",
       "    <tr>\n",
       "      <th>0</th>\n",
       "      <td>0</td>\n",
       "      <td>0.000000</td>\n",
       "      <td>0.643456</td>\n",
       "      <td>0.000447</td>\n",
       "      <td>0.0</td>\n",
       "      <td>0.000447</td>\n",
       "      <td>0.000000e+00</td>\n",
       "    </tr>\n",
       "    <tr>\n",
       "      <th>1</th>\n",
       "      <td>30</td>\n",
       "      <td>0.300298</td>\n",
       "      <td>0.643456</td>\n",
       "      <td>0.000447</td>\n",
       "      <td>0.0</td>\n",
       "      <td>0.000447</td>\n",
       "      <td>-3.252607e-16</td>\n",
       "    </tr>\n",
       "    <tr>\n",
       "      <th>2</th>\n",
       "      <td>60</td>\n",
       "      <td>0.600596</td>\n",
       "      <td>0.643456</td>\n",
       "      <td>0.000447</td>\n",
       "      <td>0.0</td>\n",
       "      <td>0.000447</td>\n",
       "      <td>-1.300609e-15</td>\n",
       "    </tr>\n",
       "    <tr>\n",
       "      <th>3</th>\n",
       "      <td>90</td>\n",
       "      <td>0.900893</td>\n",
       "      <td>0.643456</td>\n",
       "      <td>0.000447</td>\n",
       "      <td>0.0</td>\n",
       "      <td>0.000447</td>\n",
       "      <td>-2.925286e-15</td>\n",
       "    </tr>\n",
       "    <tr>\n",
       "      <th>4</th>\n",
       "      <td>120</td>\n",
       "      <td>1.201191</td>\n",
       "      <td>0.643456</td>\n",
       "      <td>0.000447</td>\n",
       "      <td>0.0</td>\n",
       "      <td>0.000447</td>\n",
       "      <td>-5.198912e-15</td>\n",
       "    </tr>\n",
       "  </tbody>\n",
       "</table>\n",
       "</div>"
      ],
      "text/plain": [
       "     0         1         2         3    4         5             6\n",
       "0    0  0.000000  0.643456  0.000447  0.0  0.000447  0.000000e+00\n",
       "1   30  0.300298  0.643456  0.000447  0.0  0.000447 -3.252607e-16\n",
       "2   60  0.600596  0.643456  0.000447  0.0  0.000447 -1.300609e-15\n",
       "3   90  0.900893  0.643456  0.000447  0.0  0.000447 -2.925286e-15\n",
       "4  120  1.201191  0.643456  0.000447  0.0  0.000447 -5.198912e-15"
      ]
     },
     "execution_count": 12,
     "metadata": {},
     "output_type": "execute_result"
    }
   ],
   "source": [
    "data = pd.read_csv(outfn, delim_whitespace=True, header=None);\n",
    "data.head()"
   ]
  },
  {
   "cell_type": "code",
   "execution_count": 13,
   "metadata": {},
   "outputs": [
    {
     "data": {
      "image/png": "[encoded data removed]",
      "text/plain": [
       "<matplotlib.figure.Figure at 0x7f77d944b748>"
      ]
     },
     "metadata": {},
     "output_type": "display_data"
    }
   ],
   "source": [
    "data[2].plot(title = 'Norm', figsize=(15,4));"
   ]
  },
  {
   "cell_type": "code",
   "execution_count": 14,
   "metadata": {
    "scrolled": true
   },
   "outputs": [
    {
     "data": {
      "image/png": "[encoded data removed]",
      "text/plain": [
       "<matplotlib.figure.Figure at 0x7f77d96dbbe0>"
      ]
     },
     "metadata": {},
     "output_type": "display_data"
    }
   ],
   "source": [
    "data[3].plot(title = 'Kinetic', figsize=(15,4));"
   ]
  },
  {
   "cell_type": "code",
   "execution_count": 15,
   "metadata": {},
   "outputs": [
    {
     "data": {
      "image/png": "[encoded data removed]",
      "text/plain": [
       "<matplotlib.figure.Figure at 0x7f77d971f4a8>"
      ]
     },
     "metadata": {},
     "output_type": "display_data"
    }
   ],
   "source": [
    "data[4].plot(title = 'Potential', figsize=(15,4));"
   ]
  },
  {
   "cell_type": "markdown",
   "metadata": {},
   "source": [
    "### Expected values"
   ]
  },
  {
   "cell_type": "code",
   "execution_count": 16,
   "metadata": {},
   "outputs": [],
   "source": [
    "def expected(h5file):\n",
    "    wf  = qp.retrieve_hdf5_data(h5file,'WF')\n",
    "    gamAvg = sum(np.sum(abs2(wf),axis=1) * gams)\n",
    "    theAvg = sum(np.sum(abs2(wf),axis=0) * thes)\n",
    "    print('Expected Values:\\nTheta: {:10.3f} \\nGamma: {:10.3f}'.format(gamAvg, theAvg))\n",
    "\n",
    "def fexp(x):\n",
    "    return expected(os.path.join(a,filesList[x]))"
   ]
  },
  {
   "cell_type": "code",
   "execution_count": 17,
   "metadata": {},
   "outputs": [
    {
     "data": {
      "application/vnd.jupyter.widget-view+json": {
       "model_id": "57523fcd86644c8b92dcd21cace438ce",
       "version_major": 2,
       "version_minor": 0
      },
      "text/plain": [
       "interactive(children=(IntSlider(value=1334, description='x', max=1334), Output()), _dom_classes=('widget-inter…"
      ]
     },
     "metadata": {},
     "output_type": "display_data"
    }
   ],
   "source": [
    "interact(fexp, x = widgets.IntSlider(min=0,max=lastV,step=1,value=lastV));"
   ]
  }
 ],
 "metadata": {
  "kernelspec": {
   "display_name": "Python 3",
   "language": "python",
   "name": "python3"
  },
  "language_info": {
   "codemirror_mode": {
    "name": "ipython",
    "version": 3
   },
   "file_extension": ".py",
   "mimetype": "text/x-python",
   "name": "python",
   "nbconvert_exporter": "python",
   "pygments_lexer": "ipython3",
   "version": "3.6.1"
  }
 },
 "nbformat": 4,
 "nbformat_minor": 2
}
