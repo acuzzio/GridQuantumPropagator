{
 "cells": [
  {
   "cell_type": "code",
   "execution_count": 54,
   "metadata": {},
   "outputs": [],
   "source": [
    "import matplotlib.pyplot as plt\n",
    "import os\n",
    "#from __future__ import print_function\n",
    "from ipywidgets import interact#, interactive, fixed, interact_manual\n",
    "import ipywidgets as widgets"
   ]
  },
  {
   "cell_type": "code",
   "execution_count": 55,
   "metadata": {},
   "outputs": [],
   "source": [
    "def heatThisLog(h5File):\n",
    "    wf  = qp.retrieve_hdf5_data(h5File,'WF')\n",
    "    fig = plt.figure(figsize=(8, 16), dpi= 80, facecolor='w', edgecolor='k')\n",
    "    plt.ylabel('Gamma')\n",
    "    plt.xlabel('Theta')\n",
    "    #plt.imshow(qp.abs2(wf), vmax = 1e-30)\n",
    "    plt.imshow(np.log(qp.abs2(wf)))\n",
    "    \n",
    "def heatThis(h5File):\n",
    "    from mpl_toolkits.axes_grid1 import make_axes_locatable\n",
    "    wf   = qp.retrieve_hdf5_data(h5File,'WF')\n",
    "    time = qp.retrieve_hdf5_data(h5File,'Time')[0]\n",
    "    fig = plt.figure(figsize=(16, 16), dpi= 80, facecolor='w', edgecolor='k')\n",
    "    plt.title('Time = {:10.5f} fs'.format(time))\n",
    "    plt.ylabel('Gamma')\n",
    "    plt.xlabel('Theta')\n",
    "\n",
    "    #plt.imshow(qp.abs2(wf), vmax = 1e-30)\n",
    "    #plt.imshow(qp.abs2(wf), cmap='PuBu_r')\n",
    "    \n",
    "    # this is to get a nice colorbar on the side\n",
    "    ax = plt.gca()\n",
    "    im = ax.imshow(qp.abs2(wf), cmap='PuBu_r')\n",
    "    divider = make_axes_locatable(ax)\n",
    "    cax = divider.append_axes(\"right\", size=\"5%\", pad=0.05)\n",
    "\n",
    "    plt.colorbar(im, cax=cax)\n",
    "    \n",
    "def f(x):\n",
    "    return heatThis(os.path.join(a,filesList[x]))"
   ]
  },
  {
   "cell_type": "code",
   "execution_count": 56,
   "metadata": {},
   "outputs": [
    {
     "name": "stdout",
     "output_type": "stream",
     "text": [
      "0 -> input2_0000\n",
      "1 -> input2_0001\n",
      "2 -> input2_0002\n",
      "3 -> input2_0003\n",
      "4 -> input2_0004\n",
      "5 -> input2_0005\n",
      "6 -> input2_0006\n",
      "7 -> input2_0007\n",
      "\n"
     ]
    }
   ],
   "source": [
    "subfolders = sorted([ dir for dir in os.listdir('.') if os.path.isdir(dir) and dir != '.ipynb_checkpoints'])\n",
    "print(''.join(['{} -> {}\\n'.format(a,b) for a,b in enumerate(subfolders)]))"
   ]
  },
  {
   "cell_type": "code",
   "execution_count": 57,
   "metadata": {},
   "outputs": [
    {
     "data": {
      "text/plain": [
       "'input2_0007'"
      ]
     },
     "execution_count": 57,
     "metadata": {},
     "output_type": "execute_result"
    }
   ],
   "source": [
    "a=subfolders[-1]\n",
    "a"
   ]
  },
  {
   "cell_type": "code",
   "execution_count": 58,
   "metadata": {},
   "outputs": [],
   "source": [
    "filesList = sorted(os.listdir(a))"
   ]
  },
  {
   "cell_type": "code",
   "execution_count": 59,
   "metadata": {},
   "outputs": [
    {
     "data": {
      "application/vnd.jupyter.widget-view+json": {
       "model_id": "cd7ea2b2656a4abf8e21b81b0a5dc522",
       "version_major": 2,
       "version_minor": 0
      },
      "text/plain": [
       "interactive(children=(IntSlider(value=0, description='x', max=1224), Output()), _dom_classes=('widget-interact…"
      ]
     },
     "metadata": {},
     "output_type": "display_data"
    },
    {
     "data": {
      "text/plain": [
       "<function __main__.f(x)>"
      ]
     },
     "execution_count": 59,
     "metadata": {},
     "output_type": "execute_result"
    }
   ],
   "source": [
    "interact(f, x = widgets.IntSlider(min=0,max=(len(filesList)-1),step=1,value=0))"
   ]
  },
  {
   "cell_type": "code",
   "execution_count": 60,
   "metadata": {},
   "outputs": [],
   "source": [
    "gamL,theL = (qp.retrieve_hdf5_data(os.path.join(a,filesList[0]),'WF')).shape"
   ]
  },
  {
   "cell_type": "code",
   "execution_count": 69,
   "metadata": {},
   "outputs": [],
   "source": [
    "def sliceThetas(h5File, gamma):\n",
    "    wf  = qp.retrieve_hdf5_data(h5File,'WF')\n",
    "    fig = plt.figure(figsize=(10, 5), dpi= 80, facecolor='w', edgecolor='k')\n",
    "    ys = wf[gamma,:]\n",
    "    time = qp.retrieve_hdf5_data(h5File,'Time')[0]\n",
    "    plt.title('Time = {:10.5f} fs --- gammaL = {}'.format(time,gamma))\n",
    "    plt.ylim(-0.5,0.5)\n",
    "    plt.plot(np.arange(ys.size), np.real(ys), linewidth=3.0)\n",
    "    plt.plot(np.arange(ys.size), np.imag(ys), linewidth=3.0)\n",
    "\n",
    "    \n",
    "    \n",
    "def f2(file_number,gamma):\n",
    "    return sliceThetas(os.path.join(a, filesList[file_number]), gamma)"
   ]
  },
  {
   "cell_type": "code",
   "execution_count": 70,
   "metadata": {},
   "outputs": [
    {
     "data": {
      "application/vnd.jupyter.widget-view+json": {
       "model_id": "67260742e9b346ddb728115bde0ae09b",
       "version_major": 2,
       "version_minor": 0
      },
      "text/plain": [
       "interactive(children=(IntSlider(value=0, description='file_number', max=1224), IntSlider(value=0, description=…"
      ]
     },
     "metadata": {},
     "output_type": "display_data"
    },
    {
     "data": {
      "text/plain": [
       "<function __main__.f2(file_number, gamma)>"
      ]
     },
     "execution_count": 70,
     "metadata": {},
     "output_type": "execute_result"
    }
   ],
   "source": [
    "interact(f2, file_number = widgets.IntSlider(min=0,max=(len(filesList)-1),step=1,value=0), gamma = widgets.IntSlider(min=0,max=gamL-1,step=1,value=0))"
   ]
  },
  {
   "cell_type": "code",
   "execution_count": null,
   "metadata": {},
   "outputs": [],
   "source": []
  }
 ],
 "metadata": {
  "kernelspec": {
   "display_name": "Python 3",
   "language": "python",
   "name": "python3"
  },
  "language_info": {
   "codemirror_mode": {
    "name": "ipython",
    "version": 3
   },
   "file_extension": ".py",
   "mimetype": "text/x-python",
   "name": "python",
   "nbconvert_exporter": "python",
   "pygments_lexer": "ipython3",
   "version": "3.6.1"
  }
 },
 "nbformat": 4,
 "nbformat_minor": 2
}
