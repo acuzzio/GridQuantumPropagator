{
 "cells": [
  {
   "cell_type": "code",
   "execution_count": 10,
   "metadata": {},
   "outputs": [
    {
     "data": {
      "text/html": [
       "<style>.container { width:100% !important; }</style>"
      ],
      "text/plain": [
       "<IPython.core.display.HTML object>"
      ]
     },
     "metadata": {},
     "output_type": "display_data"
    }
   ],
   "source": [
    "from IPython.core.display import display, HTML\n",
    "display(HTML(\"<style>.container { width:100% !important; }</style>\"))\n",
    "\n",
    "import matplotlib.pyplot as plt\n",
    "import ipywidgets as widgets\n",
    "\n",
    "import os\n",
    "import subprocess\n",
    "\n",
    "%matplotlib notebook"
   ]
  },
  {
   "cell_type": "code",
   "execution_count": 11,
   "metadata": {},
   "outputs": [
    {
     "name": "stdout",
     "output_type": "stream",
     "text": [
      "0 -> zNorbornadiene_N001-500_P016-615_P092-458\n",
      "1 -> zNorbornadiene_N002-000_P016-308_P092-458\n",
      "2 -> zNorbornadiene_N002-000_P016-615_P092-011\n",
      "3 -> zNorbornadiene_N002-000_P016-615_P092-905\n",
      "4 -> zNorbornadiene_N002-000_P016-923_P092-458\n",
      "5 -> zNorbornadiene_N002-500_P016-615_P092-458\n",
      "6 -> zNorbornadiene_P000-000_P015-077_P092-458\n",
      "7 -> zNorbornadiene_P000-500_P015-077_P092-458\n",
      "\n"
     ]
    }
   ],
   "source": [
    "root_folder = '/home/alessio/Desktop/CONICAL2_3/d-FromScan_around23/1-c-other-around-all_space'\n",
    "lab='allGeoms'\n",
    "subfolders = sorted([dir for dir in os.listdir(root_folder) if os.path.isdir(os.path.join(root_folder,dir))])\n",
    "print(''.join(['{} -> {}\\n'.format(a,b) for a,b in enumerate(subfolders)]))"
   ]
  },
  {
   "cell_type": "code",
   "execution_count": 12,
   "metadata": {
    "scrolled": false
   },
   "outputs": [],
   "source": [
    "list_of_greps = []\n",
    "\n",
    "for i,fol in enumerate(subfolders):\n",
    "    geom_fol = os.path.join(root_folder,fol,lab)\n",
    "    command = 'grep norm: ' + geom_fol + \"/*/*.out | awk '{print $3}'\"\n",
    "    p = subprocess.Popen(command, stdout=subprocess.PIPE, shell=True)\n",
    "    (output, err) = p.communicate()\n",
    "    numpy_array = np.array([float(x) for x in output.split(b'\\n') if x != b''])\n",
    "    list_of_greps.append(numpy_array)"
   ]
  },
  {
   "cell_type": "code",
   "execution_count": 13,
   "metadata": {
    "scrolled": false
   },
   "outputs": [
    {
     "data": {
      "application/vnd.jupyter.widget-view+json": {
       "model_id": "fd83c7210aef4d1b8385dfda8c48b59d",
       "version_major": 2,
       "version_minor": 0
      },
      "text/plain": [
       "interactive(children=(FloatText(value=10.0, description='maximum_bin'), FloatText(value=1.0, description='reso…"
      ]
     },
     "metadata": {},
     "output_type": "display_data"
    }
   ],
   "source": [
    "def plot_histogramZ(list_of_greps,high,resol,normalize):\n",
    "\n",
    "    bins = np.arange(0,high,resol)\n",
    "\n",
    "    fig, ax = plt.subplots(figsize=(15, 6))\n",
    "    _, bins, patches = plt.hist([ np.clip(x, bins[0], bins[-1]) for x in list_of_greps ],\n",
    "                                #density=normalize,  # <- normalization \n",
    "                                bins=bins, \n",
    "                                #color=['#3782CC', '#AFD5FA', '#000000'], \n",
    "                                label=subfolders)\n",
    "\n",
    "    xlabels = bins[1:].astype(str)\n",
    "    xlabels[-1] += '+'\n",
    "\n",
    "    N_labels = len(xlabels)\n",
    "    plt.xlim([0, high])\n",
    "    plt.xticks(resol * np.arange(N_labels) + (resol/2))\n",
    "    ax.set_xticklabels(xlabels)\n",
    "\n",
    "    #plt.yticks([])\n",
    "    plt.title(r'Distribution of values for Derivative coupling between $S_1$ / $S_2$')\n",
    "    plt.setp(patches, linewidth=0)\n",
    "    plt.legend(loc='upper right')\n",
    "\n",
    "    fig.tight_layout()\n",
    "\n",
    "def wrapper(maximum_bin,resolution,normalize):\n",
    "    plot_histogramZ(list_of_greps, maximum_bin, resolution,normalize)\n",
    "    \n",
    "widgets.interact(wrapper, \n",
    "                 maximum_bin = widgets.FloatText(value=10), \n",
    "                 resolution = widgets.FloatText(value=1),\n",
    "                 normalize = widgets.Checkbox(value=True, description='Normalize'),);"
   ]
  },
  {
   "cell_type": "code",
   "execution_count": null,
   "metadata": {},
   "outputs": [],
   "source": []
  },
  {
   "cell_type": "code",
   "execution_count": null,
   "metadata": {},
   "outputs": [],
   "source": []
  }
 ],
 "metadata": {
  "kernelspec": {
   "display_name": "Python 3",
   "language": "python",
   "name": "python3"
  },
  "language_info": {
   "codemirror_mode": {
    "name": "ipython",
    "version": 3
   },
   "file_extension": ".py",
   "mimetype": "text/x-python",
   "name": "python",
   "nbconvert_exporter": "python",
   "pygments_lexer": "ipython3",
   "version": "3.6.1"
  }
 },
 "nbformat": 4,
 "nbformat_minor": 2
}
