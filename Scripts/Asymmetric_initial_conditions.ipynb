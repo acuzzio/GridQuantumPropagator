{
 "cells": [
  {
   "cell_type": "code",
   "execution_count": 1,
   "metadata": {
    "ExecuteTime": {
     "end_time": "2019-06-18T17:42:16.289731Z",
     "start_time": "2019-06-18T17:41:55.519968Z"
    }
   },
   "outputs": [
    {
     "name": "stdout",
     "output_type": "stream",
     "text": [
      "no display found. Using non-interactive Agg backend\n"
     ]
    },
    {
     "data": {
      "text/html": [
       "<style>.container { width:100% !important; }</style>"
      ],
      "text/plain": [
       "<IPython.core.display.HTML object>"
      ]
     },
     "metadata": {},
     "output_type": "display_data"
    }
   ],
   "source": [
    "import os\n",
    "import quantumpropagator as qp\n",
    "import numpy as np\n",
    "import matplotlib.pyplot as plt\n",
    "from IPython.core.display import display, HTML\n",
    "display(HTML(\"<style>.container { width:100% !important; }</style>\"))\n",
    "\n",
    "%matplotlib inline"
   ]
  },
  {
   "cell_type": "code",
   "execution_count": 2,
   "metadata": {
    "ExecuteTime": {
     "end_time": "2019-06-18T17:42:17.357932Z",
     "start_time": "2019-06-18T17:42:17.353935Z"
    }
   },
   "outputs": [],
   "source": [
    "fol = 'C:\\\\Users\\\\utente\\\\Desktop\\\\DATA\\\\'\n",
    "#fn1 = os.path.join(fol,'datanewoneWithNACnow.npy')\n",
    "fn2 = os.path.join(fol,'newExtrapolated_gammaExtrExag.pickle')"
   ]
  },
  {
   "cell_type": "code",
   "execution_count": 3,
   "metadata": {
    "ExecuteTime": {
     "end_time": "2019-06-18T17:42:27.361909Z",
     "start_time": "2019-06-18T17:42:18.345463Z"
    }
   },
   "outputs": [],
   "source": [
    "data = qp.pickleLoad(fn2)"
   ]
  },
  {
   "cell_type": "code",
   "execution_count": 4,
   "metadata": {
    "ExecuteTime": {
     "end_time": "2019-06-18T17:42:28.356547Z",
     "start_time": "2019-06-18T17:42:28.331559Z"
    }
   },
   "outputs": [
    {
     "data": {
      "text/plain": [
       "dict_keys(['kinCube', 'smoCube', 'phis', 'geoCUBE', 'dipCUBE', 'gams', 'potCube', 'thes'])"
      ]
     },
     "execution_count": 4,
     "metadata": {},
     "output_type": "execute_result"
    }
   ],
   "source": [
    "data.keys()"
   ]
  },
  {
   "cell_type": "code",
   "execution_count": 5,
   "metadata": {
    "ExecuteTime": {
     "end_time": "2019-06-18T17:42:29.310961Z",
     "start_time": "2019-06-18T17:42:29.303968Z"
    }
   },
   "outputs": [],
   "source": [
    "pot = data['potCube']"
   ]
  },
  {
   "cell_type": "code",
   "execution_count": 6,
   "metadata": {
    "ExecuteTime": {
     "end_time": "2019-06-18T17:42:30.082734Z",
     "start_time": "2019-06-18T17:42:30.056749Z"
    }
   },
   "outputs": [
    {
     "data": {
      "text/plain": [
       "(29, 28, 55, 0)"
      ]
     },
     "execution_count": 6,
     "metadata": {},
     "output_type": "execute_result"
    }
   ],
   "source": [
    "phi_min, gam_min, the_min, state_min = np.unravel_index(pot.argmin(), pot.shape)\n",
    "phi_min, gam_min, the_min, state_min"
   ]
  },
  {
   "cell_type": "code",
   "execution_count": 17,
   "metadata": {
    "ExecuteTime": {
     "end_time": "2019-06-18T18:04:17.783576Z",
     "start_time": "2019-06-18T18:04:17.778579Z"
    }
   },
   "outputs": [],
   "source": [
    "phi_slice_min = pot[:,gam_min, the_min, state_min]\n",
    "kin_slice_min = data['kinCube'][:,gam_min, the_min]  # -8.35513655e-08"
   ]
  },
  {
   "cell_type": "code",
   "execution_count": 9,
   "metadata": {
    "ExecuteTime": {
     "end_time": "2019-06-18T17:42:38.364353Z",
     "start_time": "2019-06-18T17:42:38.113507Z"
    }
   },
   "outputs": [
    {
     "data": {
      "image/png": "[encoded data removed]",
      "text/plain": [
       "<Figure size 720x360 with 1 Axes>"
      ]
     },
     "metadata": {
      "needs_background": "light"
     },
     "output_type": "display_data"
    }
   ],
   "source": [
    "fig, ax0 = plt.subplots(1,1,figsize=(10,5))\n",
    "\n",
    "ax0.plot(phi_slice_min);"
   ]
  },
  {
   "cell_type": "code",
   "execution_count": 11,
   "metadata": {
    "ExecuteTime": {
     "end_time": "2019-06-18T17:59:33.823895Z",
     "start_time": "2019-06-18T17:59:33.783920Z"
    }
   },
   "outputs": [],
   "source": [
    "\n",
    "def Cderivative1D_phi(GRID, phiL, dphi, Vm, K):\n",
    "\n",
    "    I = -1j\n",
    "    \n",
    "    new = np.empty_like(GRID)\n",
    "\n",
    "    for t in range(phiL):\n",
    "        G = GRID[t]\n",
    "        V = Vm[t]\n",
    "\n",
    "        # derivatives in phi\n",
    "        if t == 0:\n",
    "            d2G_dt2 = (-GRID[t+2]+16*GRID[t+1]-30*GRID[t]) / (12 * dphi**2)\n",
    "\n",
    "        elif t == 1:\n",
    "            d2G_dt2 = (-GRID[t+2]+16*GRID[t+1]-30*GRID[t]+16*GRID[t-1]) / (12 * dphi**2)\n",
    "\n",
    "        elif t == phiL-2:\n",
    "            d2G_dt2 = (+16*GRID[t+1]-30*GRID[t]+16*GRID[t-1]-GRID[t-2]) / (12 * dphi**2)\n",
    "\n",
    "        elif t == phiL-1:\n",
    "            d2G_dt2 = (-30*GRID[t]+16*GRID[t-1]-GRID[t-2]) / (12 * dphi**2)\n",
    "\n",
    "        else:\n",
    "            d2G_dt2 = (-GRID[t+2]+16*GRID[t+1]-30*GRID[t]+16*GRID[t-1]-GRID[t-2]) / (12 * dphi**2)\n",
    "\n",
    "        # T elements (9)\n",
    "        Ttot = -8.35513655e-08 * d2G_dt2\n",
    "        Vtot = V * G\n",
    "\n",
    "        new[t] = I * (Ttot + Vtot)\n",
    "\n",
    "    return(new)\n"
   ]
  }
 ],
 "metadata": {
  "kernelspec": {
   "display_name": "Python 3",
   "language": "python",
   "name": "python3"
  },
  "language_info": {
   "codemirror_mode": {
    "name": "ipython",
    "version": 3
   },
   "file_extension": ".py",
   "mimetype": "text/x-python",
   "name": "python",
   "nbconvert_exporter": "python",
   "pygments_lexer": "ipython3",
   "version": "3.7.3"
  },
  "toc": {
   "base_numbering": 1,
   "nav_menu": {},
   "number_sections": true,
   "sideBar": true,
   "skip_h1_title": false,
   "title_cell": "Table of Contents",
   "title_sidebar": "Contents",
   "toc_cell": false,
   "toc_position": {},
   "toc_section_display": true,
   "toc_window_display": false
  }
 },
 "nbformat": 4,
 "nbformat_minor": 2
}
