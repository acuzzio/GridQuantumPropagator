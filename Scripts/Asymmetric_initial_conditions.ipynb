{
 "cells": [
  {
   "cell_type": "code",
   "execution_count": 11,
   "metadata": {
    "ExecuteTime": {
     "end_time": "2019-06-24T19:24:56.969989Z",
     "start_time": "2019-06-24T19:24:39.054903Z"
    }
   },
   "outputs": [
    {
     "data": {
      "text/html": [
       "<style>.container { width:100% !important; }</style>"
      ],
      "text/plain": [
       "<IPython.core.display.HTML object>"
      ]
     },
     "metadata": {},
     "output_type": "display_data"
    }
   ],
   "source": [
    "import os\n",
    "import quantumpropagator as qp\n",
    "import numpy as np\n",
    "import matplotlib.pyplot as plt\n",
    "from IPython.core.display import display, HTML\n",
    "display(HTML(\"<style>.container { width:100% !important; }</style>\"))\n",
    "from scipy.linalg import toeplitz\n",
    "from quantumpropagator import fromLabelsToFloats, labTranformA\n",
    "np.set_printoptions(linewidth=250, edgeitems=5)\n",
    "\n",
    "%matplotlib inline\n",
    "#matplotlib notebook"
   ]
  },
  {
   "cell_type": "code",
   "execution_count": 12,
   "metadata": {
    "ExecuteTime": {
     "end_time": "2019-06-24T19:25:07.426191Z",
     "start_time": "2019-06-24T19:24:57.807027Z"
    }
   },
   "outputs": [
    {
     "name": "stdout",
     "output_type": "stream",
     "text": [
      "dict_keys(['kinCube', 'smoCube', 'phis', 'geoCUBE', 'dipCUBE', 'gams', 'potCube', 'thes'])\n",
      "\n",
      "\n",
      "******************************************************************\n",
      "*                                                                *\n",
      "*  \u001b[93mTheta and Gamma have different values of K matrix along them\u001b[0m  *\n",
      "*                                                                *\n",
      "******************************************************************\n",
      "\n",
      "\n",
      "\n"
     ]
    },
    {
     "data": {
      "text/plain": [
       "(29, 28, 55, 0)"
      ]
     },
     "execution_count": 12,
     "metadata": {},
     "output_type": "execute_result"
    }
   ],
   "source": [
    "fol = 'C:\\\\Users\\\\utente\\\\Desktop\\\\DATA\\\\'\n",
    "#fn1 = os.path.join(fol,'datanewoneWithNACnow.npy')\n",
    "fn2 = os.path.join(fol,'newExtrapolated_gammaExtrExag.pickle')\n",
    "data = qp.pickleLoad(fn2)\n",
    "print(data.keys())\n",
    "\n",
    "\n",
    "pot = data['potCube']\n",
    "phi_min, gam_min, the_min, state_min = np.unravel_index(pot.argmin(), pot.shape)\n",
    "\n",
    "phi_slice_min = pot[:,gam_min, the_min, state_min]\n",
    "gam_slice_min = pot[phi_min,:, the_min, state_min]\n",
    "the_slice_min = pot[phi_min,gam_min, :, state_min]\n",
    "\n",
    "qp.warning('Theta and Gamma have different values of K matrix along them')\n",
    "\n",
    "phi_min, gam_min, the_min, state_min"
   ]
  },
  {
   "cell_type": "code",
   "execution_count": 13,
   "metadata": {
    "ExecuteTime": {
     "end_time": "2019-06-24T19:25:07.453176Z",
     "start_time": "2019-06-24T19:25:07.431189Z"
    }
   },
   "outputs": [
    {
     "name": "stdout",
     "output_type": "stream",
     "text": [
      "         Labels extr.        internal extr.     dq      range\n",
      "Phi ->   0.1250  -0.1450  12.5000 -14.5000  -0.0050   0.2700\n",
      "Gam ->   0.4294   0.1344  24.6050   7.7030  -0.0054   0.2950\n",
      "The ->   0.5806   1.2008  66.5340 137.6000   0.0039  -0.6202\n"
     ]
    }
   ],
   "source": [
    "phis_ext = labTranformA(data['phis'])\n",
    "gams_ext = labTranformA(data['gams'])\n",
    "thes_ext = labTranformA(data['thes'])\n",
    "\n",
    "phiV_ext, gamV_ext, theV_ext = fromLabelsToFloats(data)\n",
    "\n",
    "dphi = phiV_ext[0] - phiV_ext[1]\n",
    "dgam = gamV_ext[0] - gamV_ext[1]\n",
    "dthe = theV_ext[0] - theV_ext[1]\n",
    "\n",
    "# take range\n",
    "range_phi = phiV_ext[-1] - phiV_ext[0]\n",
    "range_gam = gamV_ext[-1] - gamV_ext[0]\n",
    "range_the = theV_ext[-1] - theV_ext[0]\n",
    "\n",
    "\n",
    "header = '         Labels extr.        internal extr.     dq      range\\n'\n",
    "string = 'Phi -> {:8.4f} {:8.4f} {:8.4f} {:8.4f} {:8.4f} {:8.4f}\\nGam -> {:8.4f} {:8.4f} {:8.4f} {:8.4f} {:8.4f} {:8.4f}\\nThe -> {:8.4f} {:8.4f} {:8.4f} {:8.4f} {:8.4f} {:8.4f}'\n",
    "out = (header + string).format(phiV_ext[-1],phiV_ext[0],phis_ext[-1],phis_ext[0],dphi,range_phi,\n",
    "                               gamV_ext[-1],gamV_ext[0],gams_ext[-1],gams_ext[0],dgam,range_gam,\n",
    "                               theV_ext[-1],theV_ext[0],thes_ext[-1],thes_ext[0],dthe,range_the)\n",
    "print(out)"
   ]
  },
  {
   "cell_type": "code",
   "execution_count": 14,
   "metadata": {
    "ExecuteTime": {
     "end_time": "2019-06-24T19:25:09.004953Z",
     "start_time": "2019-06-24T19:25:08.961979Z"
    }
   },
   "outputs": [
    {
     "name": "stderr",
     "output_type": "stream",
     "text": [
      "C:\\ProgramData\\Anaconda3\\lib\\site-packages\\ipykernel_launcher.py:41: ComplexWarning: Casting complex values to real discards the imaginary part\n",
      "C:\\ProgramData\\Anaconda3\\lib\\site-packages\\ipykernel_launcher.py:45: ComplexWarning: Casting complex values to real discards the imaginary part\n",
      "C:\\ProgramData\\Anaconda3\\lib\\site-packages\\ipykernel_launcher.py:49: ComplexWarning: Casting complex values to real discards the imaginary part\n"
     ]
    }
   ],
   "source": [
    "def forcehere(vec,ind,h=None):\n",
    "    '''\n",
    "    calculates the numerical force at point at index index\n",
    "    vector :: np.array(double)\n",
    "    index :: Int\n",
    "    '''\n",
    "    if h == None:\n",
    "        warning('dimensionality is not clear')\n",
    "        h = 1\n",
    "    num = (-vec[ind-2]+16*vec[ind-1]-30*vec[ind]+16*vec[ind+1]-vec[ind+2])\n",
    "    denom = 12 * h**2\n",
    "    return(num/denom)\n",
    "\n",
    "\n",
    "force_phi = forcehere(phi_slice_min, phi_min, h=dphi)\n",
    "force_gam = forcehere(gam_slice_min, gam_min, h=dgam)\n",
    "force_the = forcehere(the_slice_min, the_min, h=dthe)\n",
    "\n",
    "coe_phi = data['kinCube'][phi_min, gam_min, the_min, 0, 2]\n",
    "coe_gam = data['kinCube'][phi_min, gam_min, the_min, 4, 2]\n",
    "coe_the = data['kinCube'][phi_min, gam_min, the_min, 8, 2]\n",
    "\n",
    "G_phi = 1 / ( -2 * coe_phi )\n",
    "G_gam = 1 / ( -2 * coe_gam )\n",
    "G_the = 1 / ( -2 * coe_the )\n",
    "\n",
    "Gw_phi = np.sqrt(force_phi*G_phi)\n",
    "Gw_gam = np.sqrt(force_gam*G_gam)\n",
    "Gw_the = np.sqrt(force_the*G_the)\n",
    "\n",
    "Gw_phi = 2.553413e+04\n",
    "Gw_gam = 5.722417e+03\n",
    "Gw_the = 1.631186e+03\n",
    "\n",
    "phi_0 = phiV_ext[phi_min]\n",
    "gam_0 = gamV_ext[gam_min]\n",
    "the_0 = theV_ext[the_min]\n",
    "\n",
    "wf_phi = np.empty_like(phiV_ext)\n",
    "for p, phi in enumerate(phiV_ext):\n",
    "    wf_phi[p] = qp.gaussian2(phi, phi_0, Gw_phi, 0)\n",
    "    \n",
    "wf_gam = np.empty_like(gamV_ext)\n",
    "for g, gam in enumerate(gamV_ext):\n",
    "    wf_gam[g] = qp.gaussian2(gam, gam_0, Gw_gam, 0)\n",
    "    \n",
    "wf_the = np.empty_like(theV_ext)\n",
    "for t, the in enumerate(theV_ext):\n",
    "    wf_the[t] = qp.gaussian2(the, the_0, Gw_the, 0)\n"
   ]
  },
  {
   "cell_type": "code",
   "execution_count": 15,
   "metadata": {
    "ExecuteTime": {
     "end_time": "2019-06-24T19:30:38.236910Z",
     "start_time": "2019-06-24T19:30:38.166953Z"
    }
   },
   "outputs": [
    {
     "ename": "NameError",
     "evalue": "name 'maxx' is not defined",
     "output_type": "error",
     "traceback": [
      "\u001b[1;31m---------------------------------------------------------------------------\u001b[0m",
      "\u001b[1;31mNameError\u001b[0m                                 Traceback (most recent call last)",
      "\u001b[1;32m<ipython-input-15-ab8ce17abb2f>\u001b[0m in \u001b[0;36m<module>\u001b[1;34m\u001b[0m\n\u001b[0;32m     26\u001b[0m \u001b[1;33m\u001b[0m\u001b[0m\n\u001b[0;32m     27\u001b[0m \u001b[0mplt\u001b[0m\u001b[1;33m.\u001b[0m\u001b[0mplot\u001b[0m\u001b[1;33m(\u001b[0m\u001b[0mphis_ext\u001b[0m\u001b[1;33m,\u001b[0m \u001b[0mphi_slice_min\u001b[0m\u001b[1;33m,\u001b[0m \u001b[0mlabel\u001b[0m\u001b[1;33m=\u001b[0m\u001b[1;34m'Potential'\u001b[0m\u001b[1;33m)\u001b[0m\u001b[1;33m\u001b[0m\u001b[1;33m\u001b[0m\u001b[0m\n\u001b[1;32m---> 28\u001b[1;33m \u001b[0mplt\u001b[0m\u001b[1;33m.\u001b[0m\u001b[0mplot\u001b[0m\u001b[1;33m(\u001b[0m\u001b[0mphis_ext\u001b[0m\u001b[1;33m,\u001b[0m \u001b[0mnormalized\u001b[0m\u001b[1;33m,\u001b[0m \u001b[0mlabel\u001b[0m\u001b[1;33m=\u001b[0m\u001b[1;34m'Eigenvector with \"mass\" {}'\u001b[0m\u001b[1;33m.\u001b[0m\u001b[0mformat\u001b[0m\u001b[1;33m(\u001b[0m\u001b[0mmaxx\u001b[0m\u001b[1;33m)\u001b[0m\u001b[1;33m,\u001b[0m\u001b[0mlw\u001b[0m\u001b[1;33m=\u001b[0m\u001b[1;34m'.5'\u001b[0m\u001b[1;33m)\u001b[0m\u001b[1;33m\u001b[0m\u001b[1;33m\u001b[0m\u001b[0m\n\u001b[0m\u001b[0;32m     29\u001b[0m \u001b[0mplt\u001b[0m\u001b[1;33m.\u001b[0m\u001b[0mplot\u001b[0m\u001b[1;33m(\u001b[0m\u001b[0mphis_ext\u001b[0m\u001b[1;33m,\u001b[0m \u001b[0mwf_phi_n\u001b[0m\u001b[1;33m,\u001b[0m \u001b[0mlabel\u001b[0m\u001b[1;33m=\u001b[0m\u001b[1;34m'What we always got'\u001b[0m\u001b[1;33m)\u001b[0m\u001b[1;33m\u001b[0m\u001b[1;33m\u001b[0m\u001b[0m\n\u001b[0;32m     30\u001b[0m \u001b[1;33m\u001b[0m\u001b[0m\n",
      "\u001b[1;31mNameError\u001b[0m: name 'maxx' is not defined"
     ]
    },
    {
     "data": {
      "image/png": "[encoded data removed]",
      "text/plain": [
       "<Figure size 720x360 with 1 Axes>"
      ]
     },
     "metadata": {
      "needs_background": "light"
     },
     "output_type": "display_data"
    }
   ],
   "source": [
    "def troiaio(potential,MASS,num,ddim):\n",
    "    \n",
    "    p_matrix = toeplitz([-(5/2), (4/3), -(1/12), *np.zeros(potential.size-3)])\n",
    "\n",
    "    matrix_divided = p_matrix/(ddim**2)\n",
    "\n",
    "    new = matrix_divided * MASS\n",
    "    linear_pot_diagonal = np.diag(potential)\n",
    "    to_diagonalize = (linear_pot_diagonal + new)\n",
    "    \n",
    "    eigVal, eigVec = np.linalg.eigh(to_diagonalize)\n",
    "    return(eigVec)    \n",
    "\n",
    "        \n",
    "num = 0\n",
    "        \n",
    "troi = troiaio(phi_slice_min, coe_phi, num, dphi)\n",
    "\n",
    "ground_state = troi[:,0]\n",
    "\n",
    "normalized = ground_state/(np.linalg.norm(ground_state))\n",
    "\n",
    "wf_phi_n = wf_phi/(np.linalg.norm(wf_phi))\n",
    "\n",
    "fig = plt.figure(figsize=(10,5))\n",
    "\n",
    "plt.plot(phis_ext, phi_slice_min, label='Potential')\n",
    "plt.plot(phis_ext, normalized, label='Eigenvector with \"mass\" {}'.format(maxx),lw='.5')\n",
    "plt.plot(phis_ext, wf_phi_n, label='What we always got')\n",
    "\n",
    "plt.legend()\n",
    "plt.tight_layout();\n"
   ]
  },
  {
   "cell_type": "code",
   "execution_count": 16,
   "metadata": {
    "ExecuteTime": {
     "end_time": "2019-06-24T19:26:00.734697Z",
     "start_time": "2019-06-24T19:26:00.729699Z"
    }
   },
   "outputs": [],
   "source": [
    "def normalize_this_please(x):\n",
    "    return(x/np.linalg.norm(x))\n",
    "\n"
   ]
  },
  {
   "cell_type": "code",
   "execution_count": 17,
   "metadata": {
    "ExecuteTime": {
     "end_time": "2019-06-24T19:30:32.119422Z",
     "start_time": "2019-06-24T19:30:31.593542Z"
    }
   },
   "outputs": [
    {
     "data": {
      "image/png": "[encoded data removed]",
      "text/plain": [
       "<Figure size 1080x432 with 3 Axes>"
      ]
     },
     "metadata": {
      "needs_background": "light"
     },
     "output_type": "display_data"
    }
   ],
   "source": [
    "num = 0\n",
    "\n",
    "# listz = [0.1,0.01,0.001,0.0001,0.00001,0.000001]\n",
    "        \n",
    "list_in_phi = troiaio(phi_slice_min, coe_phi,num,dphi)\n",
    "list_in_gam = troiaio(gam_slice_min, coe_gam,num,dgam)\n",
    "list_in_the = troiaio(the_slice_min, coe_the,num,dthe)\n",
    "\n",
    "fig, [ax0,ax1,ax2] = plt.subplots(1, 3, figsize=(15,6), sharey=True)\n",
    "\n",
    "#norm = 5.145840\n",
    "# norm = 1\n",
    "\n",
    "ax0.plot(phiV_ext, phi_slice_min, label='Potential')\n",
    "ax0.plot(phiV_ext, normalize_this_please(wf_phi), label='Current initial condition', ls='--')\n",
    "ax0.plot(phiV_ext, abs(list_in_phi[:,0]), lw=0.5, label='Eigenvector/Eigenvalue procedure')\n",
    "ax0.set_title('Phi: 55 points')\n",
    "ax0.set_ylabel('Energy Hartree')\n",
    "ax0.set_xlabel('Phi at equilibrium')\n",
    "ax0.legend()\n",
    "\n",
    "ax1.plot(gamV_ext, gam_slice_min)\n",
    "ax1.plot(gamV_ext, normalize_this_please(wf_gam), ls='--')\n",
    "ax1.plot(gamV_ext, abs(list_in_gam[:,0]), lw=0.5)\n",
    "#ax1.axvline(x=gamV_ext[28])\n",
    "ax1.set_title('Gam: 56 points')\n",
    "ax1.set_xlabel('Gam at equilibrium')\n",
    "\n",
    "ax2.plot(theV_ext, the_slice_min)\n",
    "ax2.plot(theV_ext, normalize_this_please(wf_the), ls='--')\n",
    "ax2.plot(theV_ext, abs(list_in_the[:,0]), lw=0.5)\n",
    "ax2.set_title('The: 160 points')\n",
    "ax2.set_xlabel('The at equilibrium')\n",
    "\n",
    "\n",
    "\n",
    "\n",
    "\n",
    "fig.savefig('C:\\\\Users\\\\utente\\\\Desktop\\\\Dropbox\\\\u-3dPropagation_manuscript\\\\Report\\\\images\\\\initialskew.png')\n",
    "\n",
    "fig.tight_layout()"
   ]
  },
  {
   "cell_type": "code",
   "execution_count": 28,
   "metadata": {},
   "outputs": [],
   "source": [
    "def troiaio2(potential,MASS,num,ddim):\n",
    "    \n",
    "    p_matrix = toeplitz([-(5/2), (4/3), -(1/12), *np.zeros(potential.size-3)])\n",
    "\n",
    "    matrix_divided = p_matrix/(ddim**2)\n",
    "\n",
    "    new = matrix_divided * MASS\n",
    "    linear_pot_diagonal = np.diag(potential)\n",
    "    to_diagonalize = (linear_pot_diagonal + new)\n",
    "    \n",
    "    eigVal, eigVec = np.linalg.eigh(to_diagonalize)\n",
    "    return(eigVal, eigVec)\n",
    "\n",
    "eigVal_phi, eigVec_phi = troiaio2(phi_slice_min, coe_phi,num,dphi)\n",
    "eigVal_gam, eigVec_gam  = troiaio2(gam_slice_min, coe_gam,num,dgam)\n",
    "eigVal_the, eigVec_the  = troiaio2(the_slice_min, coe_the,num,dthe)"
   ]
  },
  {
   "cell_type": "code",
   "execution_count": 44,
   "metadata": {},
   "outputs": [
    {
     "data": {
      "text/plain": [
       "-0.004045786306196331"
      ]
     },
     "execution_count": 44,
     "metadata": {},
     "output_type": "execute_result"
    }
   ],
   "source": [
    "(eigVal_phi[0]-eigVal_phi[1])"
   ]
  },
  {
   "cell_type": "code",
   "execution_count": 27,
   "metadata": {},
   "outputs": [
    {
     "data": {
      "text/plain": [
       "-0.11008594590000002"
      ]
     },
     "execution_count": 27,
     "metadata": {},
     "output_type": "execute_result"
    }
   ],
   "source": [
    "(0.00195115- 0.00599694)*27.21"
   ]
  },
  {
   "cell_type": "code",
   "execution_count": 31,
   "metadata": {},
   "outputs": [
    {
     "data": {
      "text/plain": [
       "-0.19555854718683915"
      ]
     },
     "execution_count": 31,
     "metadata": {},
     "output_type": "execute_result"
    }
   ],
   "source": [
    "(eigVal_gam[0]-eigVal_gam[1])*27.21"
   ]
  },
  {
   "cell_type": "code",
   "execution_count": 32,
   "metadata": {},
   "outputs": [
    {
     "data": {
      "text/plain": [
       "-0.05756865612923376"
      ]
     },
     "execution_count": 32,
     "metadata": {},
     "output_type": "execute_result"
    }
   ],
   "source": [
    "(eigVal_the[0]-eigVal_the[1])*27.21"
   ]
  },
  {
   "cell_type": "code",
   "execution_count": 42,
   "metadata": {},
   "outputs": [
    {
     "name": "stdout",
     "output_type": "stream",
     "text": [
      "(55, 56, 160, 3, 8, 8)\n"
     ]
    },
    {
     "data": {
      "text/plain": [
       "(array([2.99811259e-05, 5.51990712e-05, 2.11588560e-01]),\n",
       " array([-6.28606479e-04, -3.89539345e-04,  1.06922449e+00]))"
      ]
     },
     "execution_count": 42,
     "metadata": {},
     "output_type": "execute_result"
    }
   ],
   "source": [
    "print(data['dipCUBE'].shape)\n",
    "data['dipCUBE'][28,29,55,:,0,0],data['dipCUBE'][28,29,55,:,1,1]"
   ]
  },
  {
   "cell_type": "code",
   "execution_count": 43,
   "metadata": {},
   "outputs": [
    {
     "data": {
      "text/plain": [
       "(array([ 0.00027804,  0.00105638, -0.19670413]),\n",
       " array([ 1.45309240e-04,  1.34356896e-04, -2.26745850e-01]))"
      ]
     },
     "execution_count": 43,
     "metadata": {},
     "output_type": "execute_result"
    }
   ],
   "source": [
    "data['dipCUBE'][20,29,55,:,0,0],data['dipCUBE'][20,29,55,:,1,1]"
   ]
  },
  {
   "cell_type": "code",
   "execution_count": null,
   "metadata": {},
   "outputs": [],
   "source": [
    "-11271.29027    -37.59698"
   ]
  }
 ],
 "metadata": {
  "kernelspec": {
   "display_name": "Python 3",
   "language": "python",
   "name": "python3"
  },
  "language_info": {
   "codemirror_mode": {
    "name": "ipython",
    "version": 3
   },
   "file_extension": ".py",
   "mimetype": "text/x-python",
   "name": "python",
   "nbconvert_exporter": "python",
   "pygments_lexer": "ipython3",
   "version": "3.7.3"
  },
  "toc": {
   "base_numbering": 1,
   "nav_menu": {},
   "number_sections": true,
   "sideBar": true,
   "skip_h1_title": false,
   "title_cell": "Table of Contents",
   "title_sidebar": "Contents",
   "toc_cell": false,
   "toc_position": {},
   "toc_section_display": true,
   "toc_window_display": false
  }
 },
 "nbformat": 4,
 "nbformat_minor": 2
}
