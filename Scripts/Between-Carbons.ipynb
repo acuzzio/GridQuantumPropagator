{
 "cells": [
  {
   "cell_type": "code",
   "execution_count": 1,
   "metadata": {},
   "outputs": [
    {
     "name": "stdout",
     "output_type": "stream",
     "text": [
      "no display found. Using non-interactive Agg backend\n",
      "everything loaded\n"
     ]
    }
   ],
   "source": [
    "import quantumpropagator as qp\n",
    "from ipywidgets import interactive, interact, HBox, Layout, VBox\n",
    "import pandas as pd\n",
    "import os\n",
    "import glob\n",
    "from tqdm import tqdm_notebook as tqdm\n",
    "import ipywidgets as widgets\n",
    "from ipywidgets import interact, fixed\n",
    "from mpl_toolkits.mplot3d import axes3d\n",
    "import matplotlib.pyplot as plt\n",
    "import numpy as np\n",
    "\n",
    "%matplotlib widget\n",
    "\n",
    "pd.options.display.max_rows = 5\n",
    "pd.options.display.max_columns = 90\n",
    "np.set_printoptions(linewidth=250, edgeitems=5)\n",
    "\n",
    "print ('everything loaded')\n"
   ]
  },
  {
   "cell_type": "code",
   "execution_count": 2,
   "metadata": {
    "ExecuteTime": {
     "end_time": "2019-06-24T19:25:07.426191Z",
     "start_time": "2019-06-24T19:24:57.807027Z"
    }
   },
   "outputs": [
    {
     "name": "stdout",
     "output_type": "stream",
     "text": [
      "dict_keys(['kinCube', 'smoCube', 'phis', 'geoCUBE', 'dipCUBE', 'gams', 'potCube', 'thes'])\n"
     ]
    }
   ],
   "source": [
    "fol = 'C:\\\\Users\\\\utente\\\\Desktop\\\\DATA\\\\'\n",
    "fn2 = os.path.join(fol,'newExtrapolated_gammaExtrExag.pickle')\n",
    "data = qp.pickleLoad(fn2)\n",
    "print(data.keys())\n",
    "fn1 = os.path.join(fol,'datanewoneWithNACnow.npy')\n",
    "data = np.load(fn1)\n",
    "dictionary = data[()]\n",
    "\n",
    "geoms = dictionary['geoCUBE']"
   ]
  },
  {
   "cell_type": "code",
   "execution_count": 3,
   "metadata": {},
   "outputs": [
    {
     "name": "stdout",
     "output_type": "stream",
     "text": [
      "(25, 26, 100, 15, 3)\n"
     ]
    },
    {
     "data": {
      "text/plain": [
       "(14, 14, 21, 0)"
      ]
     },
     "execution_count": 3,
     "metadata": {},
     "output_type": "execute_result"
    }
   ],
   "source": [
    "# minimum geometry\n",
    "single = geoms[29-15,28-15,55-30]\n",
    "single = geoms[20,20,99]\n",
    "\n",
    "print(geoms.shape)\n",
    "qp.find_numpy_index_minumum(dictionary['potCube'])"
   ]
  },
  {
   "cell_type": "code",
   "execution_count": 4,
   "metadata": {},
   "outputs": [],
   "source": [
    "def grid_locus(single):\n",
    "    print(single)\n",
    "\n",
    "def points_in_cylinder(pt1, pt2, r, q):\n",
    "    vec = pt2 - pt1\n",
    "    const = r * np.linalg.norm(vec)\n",
    "    boolean1 = np.dot(q - pt1, vec) >= 0 \n",
    "    boolean2 = np.dot(q - pt2, vec) <= 0\n",
    "    boolean3 = np.linalg.norm(np.cross(q - pt1, vec), axis=1) <= const\n",
    "    #print('1:{}\\n2:{}\\n3:{}'.format(boolean1,boolean2,boolean3))\n",
    "    return boolean1*boolean2*boolean3\n",
    "\n",
    "\n",
    "uno = 10\n",
    "due = 9\n",
    "tre = 8\n",
    "qua = 7\n",
    "r = 0.6\n",
    "#q = np.array([[0,0.5,0],[0,0,0],[0.3,0,0.3],[1,0,1]])\n",
    "# q = np.array([0,0,0])\n",
    "\n",
    "\n",
    "pt1 = single[uno]\n",
    "pt2 = single[due]\n",
    "pt3 = single[tre]\n",
    "pt4 = single[qua]\n",
    "\n",
    "# indexes = np.where(points_in_cylinder(pt1, pt2, r, q))\n",
    "# q[indexes],indexes"
   ]
  },
  {
   "cell_type": "code",
   "execution_count": 5,
   "metadata": {},
   "outputs": [
    {
     "data": {
      "text/plain": [
       "(262144, 3)"
      ]
     },
     "execution_count": 5,
     "metadata": {},
     "output_type": "execute_result"
    }
   ],
   "source": [
    "xmin, ymin, zmin = -10,-10,-10\n",
    "nx, ny, nz = 64,64,64\n",
    "x = np.linspace(xmin,-xmin,nx)\n",
    "y = np.linspace(ymin,-ymin,ny)\n",
    "z = np.linspace(zmin,-zmin,nz)\n",
    "dx = x[1]-x[0]\n",
    "dy = y[1]-y[0]\n",
    "dz = z[1]-z[0]\n",
    "\n",
    "B,A,C = np.meshgrid(x,y,z)\n",
    "list_of_points_in_3d = np.stack([A.flatten(),B.flatten(),C.flatten()]).T\n",
    "list_of_points_in_3d.shape"
   ]
  },
  {
   "cell_type": "code",
   "execution_count": 6,
   "metadata": {},
   "outputs": [],
   "source": [
    "a = np.where(points_in_cylinder(pt1, pt2, r, list_of_points_in_3d))\n",
    "b = np.where(points_in_cylinder(pt3, pt4, r, list_of_points_in_3d))\n",
    "c = np.where(points_in_cylinder(pt1, pt4, r, list_of_points_in_3d))\n",
    "d = np.where(points_in_cylinder(pt2, pt3, r, list_of_points_in_3d))"
   ]
  },
  {
   "cell_type": "code",
   "execution_count": 7,
   "metadata": {},
   "outputs": [],
   "source": [
    "dic = {}\n",
    "dic['all_grid'] = list_of_points_in_3d\n",
    "dic['selected1'] = qp.fromBohToAng(np.concatenate((list_of_points_in_3d[a],list_of_points_in_3d[b])))\n",
    "dic['selected2'] = qp.fromBohToAng(np.concatenate((list_of_points_in_3d[c],list_of_points_in_3d[d])))\n",
    "dic['points'] = (pt1,pt2,pt3,pt4)"
   ]
  },
  {
   "cell_type": "code",
   "execution_count": 8,
   "metadata": {},
   "outputs": [
    {
     "name": "stdout",
     "output_type": "stream",
     "text": [
      "\n",
      "file C:\\Users\\utente\\Desktop\\lol.xyz written:\n",
      "\n",
      "vmd C:\\Users\\utente\\Desktop\\lol.xyz\n",
      "(264, 3)\n",
      "\n",
      "file C:\\Users\\utente\\Desktop\\points.xyz written:\n",
      "\n",
      "vmd C:\\Users\\utente\\Desktop\\points.xyz\n"
     ]
    },
    {
     "data": {
      "text/plain": [
       "65000"
      ]
     },
     "execution_count": 8,
     "metadata": {},
     "output_type": "execute_result"
    }
   ],
   "source": [
    "save_file_to_visualize = True\n",
    "if save_file_to_visualize:\n",
    "    qp.pickleSave('C:\\\\Users\\\\utente\\\\Desktop\\\\lol.p',dic)\n",
    "    qp.saveTraj(np.array([single]),['C','C','C','H','H','H','H','C','C','C','C','H','H','H','H'], 'C:\\\\Users\\\\utente\\\\Desktop\\\\lol',convert=True)\n",
    "    print(dic['selected1'].shape)\n",
    "    qp.saveTraj(np.array([dic['selected1']]),['H']*370,'C:\\\\Users\\\\utente\\\\Desktop\\\\points')\n",
    "\n",
    "pL, gL, tL, atomN, _ = geoms.shape\n",
    "pL*gL*tL"
   ]
  },
  {
   "cell_type": "code",
   "execution_count": 12,
   "metadata": {},
   "outputs": [],
   "source": [
    "creat_list = False\n",
    "\n",
    "if creat_list:\n",
    "\n",
    "    list_first = []\n",
    "    list_second = []\n",
    "    counter = 0\n",
    "    for p in tqdm(range(pL)[:3]):\n",
    "        for g in tqdm(range(gL)[:3],leave=False):\n",
    "            for t in tqdm(range(tL)[:3],leave=False):\n",
    "    # for p in tqdm(range(pL)[:1]):\n",
    "    #     for g in tqdm(range(gL)[:1]):\n",
    "    #         for t in tqdm(range(tL)[3:4]):\n",
    "                uno = 10\n",
    "                due = 9\n",
    "                tre = 8\n",
    "                qua = 7\n",
    "                r = 0.6\n",
    "                single = geoms[p,g,t]\n",
    "\n",
    "                pt1 = single[uno]\n",
    "                pt2 = single[due]\n",
    "                pt3 = single[tre]\n",
    "                pt4 = single[qua]\n",
    "                a = np.where(points_in_cylinder(pt1, pt2, r, list_of_points_in_3d))\n",
    "                b = np.where(points_in_cylinder(pt3, pt4, r, list_of_points_in_3d))\n",
    "                c = np.where(points_in_cylinder(pt1, pt4, r, list_of_points_in_3d))\n",
    "                d = np.where(points_in_cylinder(pt2, pt3, r, list_of_points_in_3d))\n",
    "\n",
    "                list_first.append(np.concatenate((a[0],b[0])))\n",
    "                list_second.append(np.concatenate((c[0],d[0])))\n",
    "                if counter % 1000 == 0: # one each 1000\n",
    "                    dic3 = {}\n",
    "                    dic3['selected1'] = qp.fromBohToAng(np.concatenate((list_of_points_in_3d[a],list_of_points_in_3d[b])))\n",
    "                    dic3['selected2'] = qp.fromBohToAng(np.concatenate((list_of_points_in_3d[c],list_of_points_in_3d[d])))\n",
    "                    qp.saveTraj(np.array([single]),['C','C','C','H','H','H','H','C','C','C','C','H','H','H','H'], 'C:\\\\Users\\\\utente\\\\Desktop\\\\CHECKFOLDER\\\\{}'.format(counter),convert=True)\n",
    "                    qp.saveTraj(np.array([dic3['selected1']]),['H']*370,'C:\\\\Users\\\\utente\\\\Desktop\\\\CHECKFOLDER\\\\poi{}'.format(counter))\n",
    "                counter+=1\n",
    "\n",
    "\n",
    "    list_first\n",
    "    dic2 = {}\n",
    "    dic2['list_first'] = list_first\n",
    "    dic2['list_second'] = list_second\n",
    "    qp.pickleSave('C:\\\\Users\\\\utente\\\\Desktop\\\\first_second.p',dic2)"
   ]
  },
  {
   "cell_type": "markdown",
   "metadata": {},
   "source": [
    "From here it is implemented in the code, already"
   ]
  },
  {
   "cell_type": "code",
   "execution_count": 65,
   "metadata": {},
   "outputs": [
    {
     "name": "stdout",
     "output_type": "stream",
     "text": [
      "0 -> b-pulseAlongX_0.22_goodG_0000\n",
      "1 -> b-pulseAlongX_0.22_short_0_goodG_0000\n",
      "2 -> b-pulseAlongX_0.22_short_pi_goodG_0000\n",
      "3 -> c-Experiments_on_Nac_0000\n",
      "4 -> d-experiments_smooth01_0000\n",
      "5 -> d-experiments_smooth10_0000\n",
      "6 -> h-IR-X_80_0000\n",
      "7 -> i-IR-Z_80_0000\n",
      "8 -> k-IR-Y_80_0000\n",
      "9 -> l-IR-XZ-50_0000\n",
      "10 -> l-IR-XZ-70_0000\n",
      "11 -> l-IR-XZ-90_0000\n",
      "12 -> m-only_IR_longer_with_nac_2_1_0000\n",
      "13 -> m-only_IR_longer_with_nac_2_1_counterClock_0000\n",
      "14 -> m-only_IR_longer_with_nac_2_1_inverted_phase_0000\n"
     ]
    }
   ],
   "source": [
    "folder_root = 'C:\\\\Users\\\\utente\\\\Desktop\\\\Dropbox\\\\USA\\\\bet'\n",
    "folders = glob.glob(folder_root + '\\\\*0000')\n",
    "\n",
    "os.path.basename(folders[0])\n",
    "\n",
    "for i,fol in list(enumerate(folders)):\n",
    "    print('{} -> {}'.format(i,os.path.basename(fol)))\n",
    "\n",
    "\n"
   ]
  },
  {
   "cell_type": "code",
   "execution_count": 74,
   "metadata": {},
   "outputs": [
    {
     "name": "stderr",
     "output_type": "stream",
     "text": [
      "C:\\ProgramData\\Anaconda3\\lib\\site-packages\\matplotlib\\pyplot.py:514: RuntimeWarning: More than 20 figures have been opened. Figures created through the pyplot interface (`matplotlib.pyplot.figure`) are retained until explicitly closed and may consume too much memory. (To control this warning, see the rcParam `figure.max_open_warning`).\n",
      "  max_open_warning, RuntimeWarning)\n"
     ]
    },
    {
     "data": {
      "application/vnd.jupyter.widget-view+json": {
       "model_id": "1cb5ce57b2c14b7fb96d99d19548f151",
       "version_major": 2,
       "version_minor": 0
      },
      "text/plain": [
       "FigureCanvasNbAgg()"
      ]
     },
     "metadata": {},
     "output_type": "display_data"
    }
   ],
   "source": [
    "from matplotlib import cm\n",
    "\n",
    "viridis = cm.get_cmap('hsv', 12)\n",
    "list_of_folder = [0,1,12,14]\n",
    "colors = viridis(np.linspace(0, 1, len(list_of_folder)+1))\n",
    "\n",
    "fig, ax0 = plt.subplots(1,1,figsize=(10,5))\n",
    "\n",
    "for i,index in enumerate(list_of_folder):\n",
    "    this_folder = folders[index]\n",
    "    this_label = os.path.basename(this_folder)\n",
    "    file1 = os.path.join(this_folder,'list_first.dat')\n",
    "    file2 = os.path.join(this_folder,'list_second.dat')\n",
    "    first_data = np.loadtxt(file1)\n",
    "    second_data = np.loadtxt(file2)\n",
    "    time = first_data[:,0]\n",
    "    differential = 0.317460*0.317460*0.317460\n",
    "    c1 = first_data[:,1]*differential\n",
    "    c2 = second_data[:,1]*differential\n",
    "    ax0.plot(time, c1, color=colors[i], ls = '--')\n",
    "    ax0.plot(time, c2, label='{}'.format(this_label), color=colors[i], ls = '-')\n",
    "ax0.legend()\n",
    "fig.tight_layout();    "
   ]
  }
 ],
 "metadata": {
  "kernelspec": {
   "display_name": "Python 3",
   "language": "python",
   "name": "python3"
  },
  "language_info": {
   "codemirror_mode": {
    "name": "ipython",
    "version": 3
   },
   "file_extension": ".py",
   "mimetype": "text/x-python",
   "name": "python",
   "nbconvert_exporter": "python",
   "pygments_lexer": "ipython3",
   "version": "3.7.3"
  }
 },
 "nbformat": 4,
 "nbformat_minor": 2
}
