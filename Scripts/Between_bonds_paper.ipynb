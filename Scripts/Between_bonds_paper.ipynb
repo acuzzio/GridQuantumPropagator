{
 "cells": [
  {
   "cell_type": "code",
   "execution_count": 1,
   "metadata": {},
   "outputs": [],
   "source": [
    "import quantumpropagator as qp\n",
    "import matplotlib.pyplot as plt\n",
    "from matplotlib import cm\n",
    "import matplotlib\n",
    "from ipywidgets import interact,fixed #, interactive, fixed, interact_manual\n",
    "import ipywidgets as widgets\n",
    "import os\n",
    "import glob\n",
    "import pandas as pd\n",
    "#%matplotlib notebook\n",
    "%matplotlib ipympl\n",
    "\n",
    "plt.rcParams.update({'font.size': 10})"
   ]
  },
  {
   "cell_type": "code",
   "execution_count": 2,
   "metadata": {},
   "outputs": [
    {
     "name": "stdout",
     "output_type": "stream",
     "text": [
      "0 -> b-pulseAlongX_0.22_goodG_0000\n",
      "1 -> b-pulseAlongX_0.22_short_0_goodG_0000\n",
      "2 -> b-pulseAlongX_0.22_short_pi_goodG_0000\n",
      "3 -> c-Experiments_on_Nac_0000\n",
      "4 -> d-experiments_smooth01_0000\n",
      "5 -> d-experiments_smooth10_0000\n",
      "6 -> d-experiments_smooth50_0000\n",
      "7 -> h-IR-X_80_0000\n",
      "8 -> i-IR-Z_80_0000\n",
      "9 -> k-IR-Y_80_0000\n",
      "10 -> l-IR-XZ-50_0000\n",
      "11 -> l-IR-XZ-70_0000\n",
      "12 -> l-IR-XZ-90_0000\n",
      "13 -> m-only_IR_longer_with_nac_2_1_0000\n",
      "14 -> m-only_IR_longer_with_nac_2_1_counterClock_0000\n",
      "15 -> m-only_IR_longer_with_nac_2_1_inverted_phase_0000\n",
      "16 -> m-only_IR_longer_with_nac_2_1_phase_pi_0000\n",
      "17 -> m-only_IR_middle100_0000\n",
      "18 -> m-only_IR_middle140_0000\n",
      "19 -> m-only_IR_middle50_0000\n",
      "20 -> m-only_IR_middle80_0000\n",
      "21 -> m-only_IR_middle90_0000\n",
      "22 -> m-only_IR_retarded75_0000\n",
      "23 -> m-only_IR_retarded80_0000\n",
      "24 -> m-only_IR_retarded85_0000\n",
      "25 -> m-only_IR_retarded90_0000\n",
      "26 -> m-only_IR_short_with_nac_2_1_0000\n",
      "27 -> m-only_IR_short_with_nac_2_1_inverted_phase_0000\n",
      "28 -> m-only_IR_short_with_nac_2_1_phase_pi_0000\n",
      "29 -> m-only_IR_xy_Longer_0000\n",
      "30 -> n-IR-YZ-50_0000\n",
      "31 -> n-IR-YZ-70_0000\n",
      "32 -> n-IR-YZ-90_0000\n",
      "33 -> x-FC-6-NAC100_0000\n",
      "34 -> y-IR_140_nac0_0000\n",
      "35 -> y-IR_140_nac10_0000\n",
      "36 -> z-from_S1_without_pulse_0000\n",
      "37 -> z-from_S2_without_pulse_0000\n",
      "\n"
     ]
    }
   ],
   "source": [
    "fol = '/home/alessio/Desktop/Dropbox/USA/bet/'\n",
    "subfolders = sorted([dir for dir in os.listdir(fol) if os.path.isdir(os.path.join(fol,dir)) and dir != os.path.join(fol,'.ipynb_checkpoints')])\n",
    "print(''.join(['{} -> {}\\n'.format(a,b) for a,b in enumerate(subfolders)]))"
   ]
  },
  {
   "cell_type": "code",
   "execution_count": 3,
   "metadata": {},
   "outputs": [],
   "source": [
    "i_want = [0]\n",
    "selected = [ subfolders[i] for i in i_want ]"
   ]
  },
  {
   "cell_type": "code",
   "execution_count": 14,
   "metadata": {},
   "outputs": [
    {
     "data": {
      "application/vnd.jupyter.widget-view+json": {
       "model_id": "ddd51c73a99e46d39b8b8a01a04ab4f1",
       "version_major": 2,
       "version_minor": 0
      },
      "text/plain": [
       "A Jupyter Widget"
      ]
     },
     "metadata": {},
     "output_type": "display_data"
    }
   ],
   "source": [
    "viridis = cm.get_cmap('hsv',12)\n",
    "colors = viridis(np.linspace(0,1, len(i_want)+1))\n",
    "\n",
    "def graph_between_bonds(folder_list):\n",
    "    fig, [ax0,ax1] = plt.subplots(2,1,figsize=(10,10))\n",
    "    \n",
    "    \n",
    "    for i, this_folder in enumerate(folder_list):\n",
    "        abs_path = os.path.join(fol,this_folder)\n",
    "        fir_file = os.path.join(abs_path, 'list_first.dat')\n",
    "        sec_file = os.path.join(abs_path, 'list_second.dat')\n",
    "        population_file = os.path.join(abs_path, 'outputPopul')\n",
    "        dataP = pd.read_csv(population_file, delim_whitespace=True, header=None)\n",
    "        fir = np.loadtxt(fir_file)\n",
    "        sec = np.loadtxt(sec_file)\n",
    "        norm = 0.317460*0.317460*0.317460\n",
    "        ax0.plot(fir[:,0],fir[:,1]*norm, color=colors[i], ls='-', label='{} single bond'.format(this_folder))\n",
    "        ax0.plot(sec[:,0],sec[:,1]*norm, color=colors[i], ls='--', label='{} double bond'.format(this_folder))\n",
    "        ax1.plot(dataP[0],dataP[2], color=colors[i], ls='-', label=r'{} $S_1$'.format(this_folder))\n",
    "    \n",
    "    ax1.set_ylim([0,1.01])\n",
    "    ax0.legend()\n",
    "    ax1.legend()\n",
    "    ax0.set_title(this_folder)\n",
    "    ax0.set_xlabel('fs')\n",
    "    ax0.set_ylabel('Fraction of 50 electrons')\n",
    "    \n",
    "    fig.tight_layout()\n",
    "        \n",
    "graph_between_bonds(selected)"
   ]
  },
  {
   "cell_type": "markdown",
   "metadata": {},
   "source": [
    "# Blender visualizer"
   ]
  },
  {
   "cell_type": "code",
   "execution_count": 2,
   "metadata": {},
   "outputs": [],
   "source": [
    "file_geom = '/home/alessio/densities/prova_bonds_cylinder/geoms.p'\n",
    "\n",
    "geoms = qp.pickleLoad(file_geom)\n"
   ]
  },
  {
   "cell_type": "markdown",
   "metadata": {},
   "source": [
    "# Prima prova"
   ]
  },
  {
   "cell_type": "code",
   "execution_count": 11,
   "metadata": {},
   "outputs": [
    {
     "name": "stderr",
     "output_type": "stream",
     "text": [
      "bash: line 2: /home/alessio/prova_bonds_cylinder/graphs/sync.sh: No such file or directory\n"
     ]
    }
   ],
   "source": [
    "%%bash\n",
    "\n",
    "/home/alessio/prova_bonds_cylinder/graphs/sync.sh"
   ]
  },
  {
   "cell_type": "code",
   "execution_count": 12,
   "metadata": {},
   "outputs": [
    {
     "data": {
      "image/png": "[encoded data removed]",
      "text/plain": [
       "<matplotlib.figure.Figure at 0x7efe6016a6a0>"
      ]
     },
     "metadata": {
      "needs_background": "light"
     },
     "output_type": "display_data"
    }
   ],
   "source": [
    "folddat = '/home/alessio/prova_bonds_cylinder/graphs'\n",
    "\n",
    "files_dat = glob.glob(folddat + '/old/*.dat')\n",
    "files_dat = glob.glob(folddat + '/0.6/*.dat')\n",
    "#files_dat = glob.glob(folddat + '/new_withr_c-0.6-r_s-0.6-cs-0.0/*.dat')\n",
    "\n",
    "matplotlib.rcParams.update({'font.size': 12})\n",
    "\n",
    "data = [ np.loadtxt(i) for i in files_dat ]\n",
    "\n",
    "fig, ax0 = plt.subplots(1,1,figsize = (10,8))\n",
    "\n",
    "colors = ['b','r','g','c']\n",
    "labels = ['single','double','C9 sphere','C8 sphere']\n",
    "\n",
    "for i, this_data in enumerate(data):\n",
    "    ax0.plot(this_data[:,0],this_data[:,1], label='UV {}'.format(labels[i]), color=colors[i])\n",
    "\n",
    "\n",
    "ax0.set_xlabel(\"fs\")\n",
    "ax0.set_ylabel('Fraction of 50 electrons')\n",
    "ax0.legend()\n",
    "fig.tight_layout()"
   ]
  },
  {
   "cell_type": "markdown",
   "metadata": {},
   "source": [
    "# from pickle to vmd"
   ]
  },
  {
   "cell_type": "code",
   "execution_count": 21,
   "metadata": {},
   "outputs": [
    {
     "ename": "FileNotFoundError",
     "evalue": "[Errno 2] No such file or directory: '/home/alessio/prova_bonds_cylinder/second_first.p'",
     "output_type": "error",
     "traceback": [
      "\u001b[0;31m---------------------------------------------------------------------------\u001b[0m",
      "\u001b[0;31mFileNotFoundError\u001b[0m                         Traceback (most recent call last)",
      "\u001b[0;32m<ipython-input-21-c96410928592>\u001b[0m in \u001b[0;36m<module>\u001b[0;34m()\u001b[0m\n\u001b[1;32m      1\u001b[0m \u001b[0mfilename\u001b[0m \u001b[0;34m=\u001b[0m \u001b[0;34m'/home/alessio/prova_bonds_cylinder/second_first.p'\u001b[0m\u001b[0;34m\u001b[0m\u001b[0m\n\u001b[1;32m      2\u001b[0m \u001b[0;31m#filename = '/home/alessio/prova_bonds_cylinder/CANCELLAMI/r-0.6-cyc-0.6/r-0.6-cyc-0.6-lists.p'\u001b[0m\u001b[0;34m\u001b[0m\u001b[0;34m\u001b[0m\u001b[0m\n\u001b[0;32m----> 3\u001b[0;31m \u001b[0mdiction\u001b[0m \u001b[0;34m=\u001b[0m \u001b[0mqp\u001b[0m\u001b[0;34m.\u001b[0m\u001b[0mpickleLoad\u001b[0m\u001b[0;34m(\u001b[0m\u001b[0mfilename\u001b[0m\u001b[0;34m)\u001b[0m\u001b[0;34m\u001b[0m\u001b[0m\n\u001b[0m\u001b[1;32m      4\u001b[0m \u001b[0;34m\u001b[0m\u001b[0m\n\u001b[1;32m      5\u001b[0m \u001b[0mselection\u001b[0m \u001b[0;34m=\u001b[0m \u001b[0mdiction\u001b[0m\u001b[0;34m[\u001b[0m\u001b[0;34m'list_1'\u001b[0m\u001b[0;34m]\u001b[0m\u001b[0;34m\u001b[0m\u001b[0m\n",
      "\u001b[0;32m~/Desktop/git/GridQuantumPropagator/Scripts/quantumpropagator/GeneralFunctions.py\u001b[0m in \u001b[0;36mpickleLoad\u001b[0;34m(fn)\u001b[0m\n\u001b[1;32m     32\u001b[0m     \u001b[0mfn\u001b[0m \u001b[0;34m:\u001b[0m\u001b[0;34m:\u001b[0m \u001b[0mFilePath\u001b[0m\u001b[0;34m\u001b[0m\u001b[0m\n\u001b[1;32m     33\u001b[0m     '''\n\u001b[0;32m---> 34\u001b[0;31m     \u001b[0;32mreturn\u001b[0m \u001b[0mpickle\u001b[0m\u001b[0;34m.\u001b[0m\u001b[0mload\u001b[0m\u001b[0;34m(\u001b[0m\u001b[0mopen\u001b[0m\u001b[0;34m(\u001b[0m\u001b[0mfn\u001b[0m\u001b[0;34m,\u001b[0m\u001b[0;34m'rb'\u001b[0m\u001b[0;34m)\u001b[0m\u001b[0;34m)\u001b[0m\u001b[0;34m\u001b[0m\u001b[0m\n\u001b[0m\u001b[1;32m     35\u001b[0m \u001b[0;34m\u001b[0m\u001b[0m\n\u001b[1;32m     36\u001b[0m \u001b[0;32mdef\u001b[0m \u001b[0mpickleSave\u001b[0m\u001b[0;34m(\u001b[0m\u001b[0mfn\u001b[0m\u001b[0;34m,\u001b[0m\u001b[0mthing\u001b[0m\u001b[0;34m)\u001b[0m\u001b[0;34m:\u001b[0m\u001b[0;34m\u001b[0m\u001b[0m\n",
      "\u001b[0;31mFileNotFoundError\u001b[0m: [Errno 2] No such file or directory: '/home/alessio/prova_bonds_cylinder/second_first.p'"
     ]
    }
   ],
   "source": [
    "filename = '/home/alessio/prova_bonds_cylinder/second_first.p'\n",
    "#filename = '/home/alessio/prova_bonds_cylinder/CANCELLAMI/r-0.6-cyc-0.6/r-0.6-cyc-0.6-lists.p'\n",
    "diction = qp.pickleLoad(filename)\n",
    "\n",
    "selection = diction['list_1']\n",
    "\n",
    "new_index = 32590\n",
    "\n",
    "geom = flat_geoms[new_index]\n",
    "new_first = selection[new_index]\n",
    "selected_grids = list_of_points_in_3d[new_first]\n",
    "\n",
    "qp.saveTraj(np.array([geom]),['C','C','C','H','H','H','H','C','C','C','C','H','H','H','H'],'/home/alessio/prova_bonds_cylinder/new_norb', True)\n",
    "n_gridpoints, _ = selected_grids.shape\n",
    "atomT = ['H']*n_gridpoints\n",
    "qp.saveTraj(np.array([selected_grids]), atomT, '/home/alessio/prova_bonds_cylinder/new_first',True)"
   ]
  },
  {
   "cell_type": "markdown",
   "metadata": {},
   "source": [
    "# On the new ones"
   ]
  },
  {
   "cell_type": "code",
   "execution_count": 3,
   "metadata": {},
   "outputs": [
    {
     "name": "stderr",
     "output_type": "stream",
     "text": [
      "bash: line 1: /home/alessio/densities/From_pinot/sync.sh: No such file or directory\n"
     ]
    }
   ],
   "source": [
    "%%bash\n",
    "/home/alessio/densities/From_pinot/sync.sh\n"
   ]
  },
  {
   "cell_type": "code",
   "execution_count": 21,
   "metadata": {},
   "outputs": [
    {
     "name": "stdout",
     "output_type": "stream",
     "text": [
      "0 -> b-UV-0.22_0000\n",
      "1 -> m-IR-Polarized-INV_0000\n",
      "2 -> m-IR-Polarized-LON_0000\n",
      "3 -> m-IR-Polarized-NOR_0000\n",
      "4 -> position-from1_0000\n",
      "5 -> position-from2_0000\n",
      "6 -> position-from3_0000\n",
      "7 -> position-from4_0000\n",
      "8 -> position-from5_0000\n",
      "9 -> t-FC_excited_phi_0000\n",
      "10 -> t-IR-to-excite-phi_0000\n",
      "11 -> t-UV-0.22_excited_phi_0000\n",
      "12 -> t-UV-0.22_excited_phi_0001\n",
      "13 -> z-from1_0000\n",
      "\n"
     ]
    }
   ],
   "source": [
    "folddat = '/home/alessio/densities/From_pinot/calculationZ/r_c_1.4-non-overlapping/ALL'\n",
    "folddat = '/home/alessio/densities/From_pinot/calculationZ/r_c-1.6-non-overlapping/ALL'\n",
    "\n",
    "\n",
    "subfolders = sorted([dir for dir in os.listdir(folddat) if os.path.isdir(os.path.join(folddat,dir))])\n",
    "print(''.join(['{} -> {}\\n'.format(a,b) for a,b in enumerate(subfolders)]))"
   ]
  },
  {
   "cell_type": "code",
   "execution_count": 23,
   "metadata": {},
   "outputs": [
    {
     "data": {
      "image/png": "[encoded data removed]",
      "text/plain": [
       "<matplotlib.figure.Figure at 0x7f6a7e715be0>"
      ]
     },
     "metadata": {
      "needs_background": "light"
     },
     "output_type": "display_data"
    }
   ],
   "source": [
    "select_these = [0]\n",
    "\n",
    "lts = ['-',':','--']\n",
    "fol_lab = ['UV', 'IR INV','IR LONG', 'IR NOR', 'P1', 'P2', 'P3', 'P4', 'P5', 'FC-excite', 'To excite', 'shit', 'UV-excite', 'FC']\n",
    "#fol_lab = ['UV','IR LONG', 'IR INV']\n",
    "\n",
    "\n",
    "fig, ax0 = plt.subplots(1,1,figsize = (18,8))\n",
    "\n",
    "\n",
    "for ii,i in enumerate(select_these):\n",
    "    subdir = os.path.join(folddat,subfolders[i])\n",
    "    files_dat = sorted([ os.path.join(subdir,x) for x in os.listdir(subdir) if x[-4:] == '.dat' and x[0] == 'l'])\n",
    "    #print(files_dat)\n",
    "    data = [ np.loadtxt(i) for i in files_dat ]\n",
    "\n",
    "    \n",
    "    colors = ['r','b']\n",
    "    labels = ['red','blue']\n",
    "\n",
    "    for j, this_data in enumerate(data):\n",
    "        ax0.plot(this_data[:,0],this_data[:,1], label='{} {}'.format(fol_lab[i], labels[j]), color=colors[j],linestyle=lts[ii])\n",
    "\n",
    "\n",
    "#ax0.set_xlim([0,40])\n",
    "ax0.set_xlabel(\"fs\")\n",
    "ax0.set_ylabel('Fraction of 4 electrons')\n",
    "ax0.legend()\n",
    "fig.tight_layout()"
   ]
  },
  {
   "cell_type": "code",
   "execution_count": 28,
   "metadata": {},
   "outputs": [
    {
     "data": {
      "application/vnd.jupyter.widget-view+json": {
       "model_id": "e89bb9823be24483b2fe0adc1403cee1",
       "version_major": 2,
       "version_minor": 0
      },
      "text/plain": [
       "A Jupyter Widget"
      ]
     },
     "metadata": {},
     "output_type": "display_data"
    }
   ],
   "source": [
    "select_these = [0,3,13]\n",
    "\n",
    "lts = ['-',':','--']\n",
    "fol_lab = ['UV', 'IR INV','IR LONG', 'IR NOR', 'P1', 'P2', 'P3', 'P4', 'P5', 'FC-excite', 'To excite', 'shit', 'UV-excite', 'FC']\n",
    "\n",
    "\n",
    "fig, ax0 = plt.subplots(1,1,figsize = (15,8))\n",
    "\n",
    "\n",
    "for ii,i in enumerate(select_these):\n",
    "    subdir = os.path.join(folddat,subfolders[i])\n",
    "    files_dat = [ os.path.join(subdir,x) for x in os.listdir(subdir) if x[-4:] == '.dat']\n",
    "\n",
    "    data = [ np.loadtxt(i) for i in files_dat ]\n",
    "\n",
    "    \n",
    "    colors = ['b','r','k','dimgray']\n",
    "    labels = ['Blue','red','C9 sphere','C8 sphere']\n",
    "\n",
    "    for j, this_data in enumerate(data):\n",
    "        ax0.plot(this_data[:,0],this_data[:,1], label='{} {}'.format(fol_lab[i], labels[j]), color=colors[j],linestyle=lts[ii])\n",
    "\n",
    "#ax0.set_xlim([0,60])\n",
    "ax0.set_xlabel(\"fs\")\n",
    "ax0.set_ylabel('Fraction of 4 electrons')\n",
    "ax0.legend()\n",
    "fig.tight_layout()"
   ]
  },
  {
   "cell_type": "code",
   "execution_count": null,
   "metadata": {},
   "outputs": [],
   "source": []
  }
 ],
 "metadata": {
  "kernelspec": {
   "display_name": "Python 3",
   "language": "python",
   "name": "python3"
  },
  "language_info": {
   "codemirror_mode": {
    "name": "ipython",
    "version": 3
   },
   "file_extension": ".py",
   "mimetype": "text/x-python",
   "name": "python",
   "nbconvert_exporter": "python",
   "pygments_lexer": "ipython3",
   "version": "3.5.4"
  }
 },
 "nbformat": 4,
 "nbformat_minor": 2
}
