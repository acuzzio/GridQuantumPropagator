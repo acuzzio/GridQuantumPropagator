{
 "cells": [
  {
   "cell_type": "code",
   "execution_count": 4,
   "metadata": {},
   "outputs": [],
   "source": [
    "import quantumpropagator as qp\n",
    "import matplotlib.pyplot as plt\n",
    "from ipywidgets import interact,fixed #, interactive, fixed, interact_manual\n",
    "import ipywidgets as widgets\n",
    "import os\n",
    "import glob\n",
    "#%matplotlib notebook\n",
    "%matplotlib ipympl\n",
    "\n",
    "plt.rcParams.update({'font.size': 10})"
   ]
  },
  {
   "cell_type": "code",
   "execution_count": 7,
   "metadata": {},
   "outputs": [
    {
     "name": "stdout",
     "output_type": "stream",
     "text": [
      "0 -> b-pulseAlongX_0.22_goodG_0000\n",
      "1 -> b-pulseAlongX_0.22_short_0_goodG_0000\n",
      "2 -> b-pulseAlongX_0.22_short_pi_goodG_0000\n",
      "3 -> c-Experiments_on_Nac_0000\n",
      "4 -> d-experiments_smooth01_0000\n",
      "5 -> d-experiments_smooth10_0000\n",
      "6 -> d-experiments_smooth50_0000\n",
      "7 -> h-IR-X_80_0000\n",
      "8 -> i-IR-Z_80_0000\n",
      "9 -> k-IR-Y_80_0000\n",
      "10 -> l-IR-XZ-50_0000\n",
      "11 -> l-IR-XZ-70_0000\n",
      "12 -> l-IR-XZ-90_0000\n",
      "13 -> m-only_IR_longer_with_nac_2_1_0000\n",
      "14 -> m-only_IR_longer_with_nac_2_1_counterClock_0000\n",
      "15 -> m-only_IR_longer_with_nac_2_1_inverted_phase_0000\n",
      "16 -> m-only_IR_longer_with_nac_2_1_phase_pi_0000\n",
      "17 -> m-only_IR_middle100_0000\n",
      "18 -> m-only_IR_middle140_0000\n",
      "19 -> m-only_IR_middle50_0000\n",
      "20 -> m-only_IR_middle80_0000\n",
      "21 -> m-only_IR_middle90_0000\n",
      "22 -> m-only_IR_retarded75_0000\n",
      "23 -> m-only_IR_retarded80_0000\n",
      "24 -> m-only_IR_retarded85_0000\n",
      "25 -> m-only_IR_retarded90_0000\n",
      "26 -> m-only_IR_short_with_nac_2_1_0000\n",
      "27 -> m-only_IR_short_with_nac_2_1_inverted_phase_0000\n",
      "28 -> m-only_IR_short_with_nac_2_1_phase_pi_0000\n",
      "29 -> m-only_IR_xy_Longer_0000\n",
      "30 -> n-IR-YZ-50_0000\n",
      "31 -> n-IR-YZ-70_0000\n",
      "32 -> n-IR-YZ-90_0000\n",
      "33 -> x-FC-6-NAC100_0000\n",
      "34 -> y-IR_140_nac0_0000\n",
      "35 -> y-IR_140_nac10_0000\n",
      "36 -> z-from_S1_without_pulse_0000\n",
      "37 -> z-from_S2_without_pulse_0000\n",
      "\n"
     ]
    }
   ],
   "source": [
    "fol = '/home/alessio/Desktop/Dropbox/USA/bet/'\n",
    "subfolders = sorted([dir for dir in os.listdir(fol) if os.path.isdir(os.path.join(fol,dir)) and dir != os.path.join(fol,'.ipynb_checkpoints')])\n",
    "print(''.join(['{} -> {}\\n'.format(a,b) for a,b in enumerate(subfolders)]))"
   ]
  },
  {
   "cell_type": "code",
   "execution_count": 10,
   "metadata": {},
   "outputs": [],
   "source": [
    "i_want = [0]\n",
    "selected = [ subfolders[i] for i in i_want]"
   ]
  },
  {
   "cell_type": "code",
   "execution_count": 41,
   "metadata": {},
   "outputs": [
    {
     "name": "stderr",
     "output_type": "stream",
     "text": [
      "/home/alessio/config/miniconda/envs/quantumpropagator/lib/python3.5/site-packages/matplotlib/pyplot.py:523: RuntimeWarning: More than 20 figures have been opened. Figures created through the pyplot interface (`matplotlib.pyplot.figure`) are retained until explicitly closed and may consume too much memory. (To control this warning, see the rcParam `figure.max_open_warning`).\n",
      "  max_open_warning, RuntimeWarning)\n"
     ]
    },
    {
     "data": {
      "application/vnd.jupyter.widget-view+json": {
       "model_id": "e3877262f172405bb5873faab8b49eec",
       "version_major": 2,
       "version_minor": 0
      },
      "text/plain": [
       "A Jupyter Widget"
      ]
     },
     "metadata": {},
     "output_type": "display_data"
    }
   ],
   "source": [
    "def graph_between_bonds(folder_list):\n",
    "    fig, ax0 = plt.subplots(1,1,figsize=(8,5))\n",
    "    for this_folder in folder_list:\n",
    "        abs_path = os.path.join(fol,this_folder)\n",
    "        fir_file = os.path.join(abs_path, 'list_first.dat')\n",
    "        sec_file = os.path.join(abs_path, 'list_second.dat')\n",
    "        fir = np.loadtxt(fir_file)\n",
    "        sec = np.loadtxt(sec_file)\n",
    "        norm = 0.317460*0.317460*0.317460\n",
    "        ax0.plot(fir[:,0],fir[:,1]*norm, color='b', label='single bond')\n",
    "        ax0.plot(sec[:,0],sec[:,1]*norm, color='r', label='double bond')\n",
    "    \n",
    "    ax0.legend()\n",
    "    ax0.set_title(this_folder)\n",
    "    ax0.set_xlabel('fs')\n",
    "    ax0.set_ylabel('Fraction of 50 electrons')\n",
    "    \n",
    "    fig.tight_layout()\n",
    "        \n",
    "graph_between_bonds(selected)"
   ]
  },
  {
   "cell_type": "code",
   "execution_count": null,
   "metadata": {},
   "outputs": [],
   "source": []
  }
 ],
 "metadata": {
  "kernelspec": {
   "display_name": "Python 3",
   "language": "python",
   "name": "python3"
  },
  "language_info": {
   "codemirror_mode": {
    "name": "ipython",
    "version": 3
   },
   "file_extension": ".py",
   "mimetype": "text/x-python",
   "name": "python",
   "nbconvert_exporter": "python",
   "pygments_lexer": "ipython3",
   "version": "3.5.4"
  }
 },
 "nbformat": 4,
 "nbformat_minor": 2
}
