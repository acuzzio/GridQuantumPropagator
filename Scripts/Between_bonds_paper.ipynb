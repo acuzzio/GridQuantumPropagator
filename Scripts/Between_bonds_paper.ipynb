{
 "cells": [
  {
   "cell_type": "code",
   "execution_count": 38,
   "metadata": {},
   "outputs": [],
   "source": [
    "import quantumpropagator as qp\n",
    "import matplotlib.pyplot as plt\n",
    "from matplotlib import cm\n",
    "from ipywidgets import interact,fixed #, interactive, fixed, interact_manual\n",
    "import ipywidgets as widgets\n",
    "import os\n",
    "import glob\n",
    "import pandas as pd\n",
    "#%matplotlib notebook\n",
    "%matplotlib ipympl\n",
    "\n",
    "plt.rcParams.update({'font.size': 10})"
   ]
  },
  {
   "cell_type": "code",
   "execution_count": 39,
   "metadata": {},
   "outputs": [
    {
     "name": "stdout",
     "output_type": "stream",
     "text": [
      "0 -> b-pulseAlongX_0.22_goodG_0000\n",
      "1 -> b-pulseAlongX_0.22_short_0_goodG_0000\n",
      "2 -> b-pulseAlongX_0.22_short_pi_goodG_0000\n",
      "3 -> c-Experiments_on_Nac_0000\n",
      "4 -> d-experiments_smooth01_0000\n",
      "5 -> d-experiments_smooth10_0000\n",
      "6 -> d-experiments_smooth50_0000\n",
      "7 -> h-IR-X_80_0000\n",
      "8 -> i-IR-Z_80_0000\n",
      "9 -> k-IR-Y_80_0000\n",
      "10 -> l-IR-XZ-50_0000\n",
      "11 -> l-IR-XZ-70_0000\n",
      "12 -> l-IR-XZ-90_0000\n",
      "13 -> m-only_IR_longer_with_nac_2_1_0000\n",
      "14 -> m-only_IR_longer_with_nac_2_1_counterClock_0000\n",
      "15 -> m-only_IR_longer_with_nac_2_1_inverted_phase_0000\n",
      "16 -> m-only_IR_longer_with_nac_2_1_phase_pi_0000\n",
      "17 -> m-only_IR_middle100_0000\n",
      "18 -> m-only_IR_middle140_0000\n",
      "19 -> m-only_IR_middle50_0000\n",
      "20 -> m-only_IR_middle80_0000\n",
      "21 -> m-only_IR_middle90_0000\n",
      "22 -> m-only_IR_retarded75_0000\n",
      "23 -> m-only_IR_retarded80_0000\n",
      "24 -> m-only_IR_retarded85_0000\n",
      "25 -> m-only_IR_retarded90_0000\n",
      "26 -> m-only_IR_short_with_nac_2_1_0000\n",
      "27 -> m-only_IR_short_with_nac_2_1_inverted_phase_0000\n",
      "28 -> m-only_IR_short_with_nac_2_1_phase_pi_0000\n",
      "29 -> m-only_IR_xy_Longer_0000\n",
      "30 -> n-IR-YZ-50_0000\n",
      "31 -> n-IR-YZ-70_0000\n",
      "32 -> n-IR-YZ-90_0000\n",
      "33 -> x-FC-6-NAC100_0000\n",
      "34 -> y-IR_140_nac0_0000\n",
      "35 -> y-IR_140_nac10_0000\n",
      "36 -> z-from_S1_without_pulse_0000\n",
      "37 -> z-from_S2_without_pulse_0000\n",
      "\n"
     ]
    }
   ],
   "source": [
    "fol = '/home/alessio/Desktop/Dropbox/USA/bet/'\n",
    "subfolders = sorted([dir for dir in os.listdir(fol) if os.path.isdir(os.path.join(fol,dir)) and dir != os.path.join(fol,'.ipynb_checkpoints')])\n",
    "print(''.join(['{} -> {}\\n'.format(a,b) for a,b in enumerate(subfolders)]))"
   ]
  },
  {
   "cell_type": "code",
   "execution_count": 49,
   "metadata": {},
   "outputs": [],
   "source": [
    "i_want = [0]\n",
    "selected = [ subfolders[i] for i in i_want ]"
   ]
  },
  {
   "cell_type": "code",
   "execution_count": 50,
   "metadata": {},
   "outputs": [
    {
     "data": {
      "application/vnd.jupyter.widget-view+json": {
       "model_id": "dea78ad047264db88e4fef6f3203dcc7",
       "version_major": 2,
       "version_minor": 0
      },
      "text/plain": [
       "A Jupyter Widget"
      ]
     },
     "metadata": {},
     "output_type": "display_data"
    }
   ],
   "source": [
    "viridis = cm.get_cmap('hsv',12)\n",
    "colors = viridis(np.linspace(0,1, len(i_want)+1))\n",
    "\n",
    "def graph_between_bonds(folder_list):\n",
    "    fig, [ax0,ax1] = plt.subplots(2,1,figsize=(10,10))\n",
    "    \n",
    "    \n",
    "    for i, this_folder in enumerate(folder_list):\n",
    "        abs_path = os.path.join(fol,this_folder)\n",
    "        fir_file = os.path.join(abs_path, 'list_first.dat')\n",
    "        sec_file = os.path.join(abs_path, 'list_second.dat')\n",
    "        population_file = os.path.join(abs_path, 'outputPopul')\n",
    "        dataP = pd.read_csv(population_file, delim_whitespace=True, header=None)\n",
    "        fir = np.loadtxt(fir_file)\n",
    "        sec = np.loadtxt(sec_file)\n",
    "        norm = 0.317460*0.317460*0.317460\n",
    "        ax0.plot(fir[:,0],fir[:,1]*norm, color=colors[i], ls='-', label='{} single bond'.format(this_folder))\n",
    "        ax0.plot(sec[:,0],sec[:,1]*norm, color=colors[i], ls='--', label='{} double bond'.format(this_folder))\n",
    "        ax1.plot(dataP[0],dataP[2], color=colors[i], ls='-', label=r'{} $S_1$'.format(this_folder))\n",
    "    \n",
    "    ax1.set_ylim([0,1.01])\n",
    "    ax0.legend()\n",
    "    ax1.legend()\n",
    "    ax0.set_title(this_folder)\n",
    "    ax0.set_xlabel('fs')\n",
    "    ax0.set_ylabel('Fraction of 50 electrons')\n",
    "    \n",
    "    fig.tight_layout()\n",
    "        \n",
    "graph_between_bonds(selected)"
   ]
  },
  {
   "cell_type": "markdown",
   "metadata": {},
   "source": [
    "# Blender visualizer"
   ]
  },
  {
   "cell_type": "code",
   "execution_count": 57,
   "metadata": {},
   "outputs": [],
   "source": [
    "file_geom = '/home/alessio/prova_bonds_cylinder/geoms.p'\n",
    "file_fs = '/home/alessio/prova_bonds_cylinder/first_second.p'\n",
    "\n",
    "geoms = qp.pickleLoad(file_geom)\n",
    "fs = qp.pickleLoad(file_fs)\n"
   ]
  },
  {
   "cell_type": "code",
   "execution_count": 58,
   "metadata": {},
   "outputs": [
    {
     "data": {
      "text/plain": [
       "((65000, 15, 3), (65000,), (65000,))"
      ]
     },
     "execution_count": 58,
     "metadata": {},
     "output_type": "execute_result"
    }
   ],
   "source": [
    "geoms.shape\n",
    "flat_geoms = geoms.reshape(-1, *geoms.shape[-2:])\n",
    "flat_geoms.shape,fs['list_first'].shape, fs['list_second'].shape"
   ]
  },
  {
   "cell_type": "code",
   "execution_count": 59,
   "metadata": {},
   "outputs": [],
   "source": [
    "xmin, ymin, zmin = -10,-10,-10\n",
    "nx, ny, nz = 64,64,64\n",
    "x = np.linspace(xmin,-xmin,nx)\n",
    "y = np.linspace(ymin,-ymin,ny)\n",
    "z = np.linspace(zmin,-zmin,nz)\n",
    "dx = x[1]-x[0]\n",
    "dy = y[1]-y[0]\n",
    "dz = z[1]-z[0]\n",
    "\n",
    "B,A,C = np.meshgrid(x,y,z)\n",
    "list_of_points_in_3d = np.stack([A.flatten(),B.flatten(),C.flatten()]).T"
   ]
  },
  {
   "cell_type": "code",
   "execution_count": 60,
   "metadata": {},
   "outputs": [
    {
     "data": {
      "text/plain": [
       "array([ 0.47619048,  1.42857143, -2.38095238])"
      ]
     },
     "execution_count": 60,
     "metadata": {},
     "output_type": "execute_result"
    }
   ],
   "source": [
    "list_of_points_in_3d.shape\n",
    "list_of_points_in_3d[137496]"
   ]
  },
  {
   "cell_type": "code",
   "execution_count": 63,
   "metadata": {},
   "outputs": [
    {
     "data": {
      "text/plain": [
       "((15, 3), (384,), (190,))"
      ]
     },
     "execution_count": 63,
     "metadata": {},
     "output_type": "execute_result"
    }
   ],
   "source": [
    "index = 30000\n",
    "\n",
    "geom = flat_geoms[index]\n",
    "first = fs['list_first'][index]\n",
    "second = fs['list_second'][index]\n",
    "\n",
    "geom.shape, first.shape, second.shape"
   ]
  },
  {
   "cell_type": "code",
   "execution_count": 64,
   "metadata": {},
   "outputs": [
    {
     "name": "stdout",
     "output_type": "stream",
     "text": [
      "\n",
      "file /home/alessio/prova_bonds_cylinder/norb.xyz written:\n",
      "\n",
      "vmd /home/alessio/prova_bonds_cylinder/norb.xyz\n",
      "\n",
      "file /home/alessio/prova_bonds_cylinder/first.xyz written:\n",
      "\n",
      "vmd /home/alessio/prova_bonds_cylinder/first.xyz\n"
     ]
    }
   ],
   "source": [
    "qp.saveTraj(np.array([geom]),['C','C','C','H','H','H','H','C','C','C','C','H','H','H','H'],'/home/alessio/prova_bonds_cylinder/norb', True)\n",
    "selected_grids = list_of_points_in_3d[first]\n",
    "n_gridpoints, _ = selected_grids.shape\n",
    "atomT = ['H']*n_gridpoints\n",
    "qp.saveTraj(np.array([selected_grids]), atomT, '/home/alessio/prova_bonds_cylinder/first',True)"
   ]
  },
  {
   "cell_type": "code",
   "execution_count": 66,
   "metadata": {},
   "outputs": [],
   "source": [
    "a = np.arange(3)\n",
    "b = np.arange(3) +10"
   ]
  },
  {
   "cell_type": "code",
   "execution_count": 73,
   "metadata": {},
   "outputs": [
    {
     "data": {
      "text/plain": [
       "array([[ 0,  1,  2],\n",
       "       [10, 11, 12]])"
      ]
     },
     "execution_count": 73,
     "metadata": {},
     "output_type": "execute_result"
    }
   ],
   "source": [
    "np.stack((a,b))"
   ]
  },
  {
   "cell_type": "code",
   "execution_count": null,
   "metadata": {},
   "outputs": [],
   "source": []
  }
 ],
 "metadata": {
  "kernelspec": {
   "display_name": "Python 3",
   "language": "python",
   "name": "python3"
  },
  "language_info": {
   "codemirror_mode": {
    "name": "ipython",
    "version": 3
   },
   "file_extension": ".py",
   "mimetype": "text/x-python",
   "name": "python",
   "nbconvert_exporter": "python",
   "pygments_lexer": "ipython3",
   "version": "3.5.4"
  }
 },
 "nbformat": 4,
 "nbformat_minor": 2
}
