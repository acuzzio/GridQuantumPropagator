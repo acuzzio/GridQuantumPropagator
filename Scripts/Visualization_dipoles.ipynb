{
 "cells": [
  {
   "cell_type": "markdown",
   "metadata": {},
   "source": [
    "# Paper used to visualize Dipole in 3d."
   ]
  },
  {
   "cell_type": "code",
   "execution_count": 19,
   "metadata": {},
   "outputs": [],
   "source": [
    "import os\n",
    "import quantumpropagator as qp"
   ]
  },
  {
   "cell_type": "code",
   "execution_count": 20,
   "metadata": {},
   "outputs": [
    {
     "name": "stdout",
     "output_type": "stream",
     "text": [
      "Pickle loaded\n"
     ]
    },
    {
     "data": {
      "text/plain": [
       "dict_keys(['dipCUBE', 'kinCube', 'smoCube', 'thes', 'potCube', 'gams', 'phis', 'geoCUBE'])"
      ]
     },
     "execution_count": 20,
     "metadata": {},
     "output_type": "execute_result"
    }
   ],
   "source": [
    "folder_output = '/home/alessio/k-nokick/IMPORTANTS/VISUALIZE_DIPOLES'\n",
    "name_data_file = '/home/alessio/NAC_smoothing/LESSMASS/2019-May-smoothNacONLY.pickle'\n",
    "\n",
    "data = qp.pickleLoad(name_data_file)\n",
    "print('Pickle loaded')\n",
    "\n",
    "data.keys()"
   ]
  },
  {
   "cell_type": "code",
   "execution_count": 22,
   "metadata": {},
   "outputs": [
    {
     "name": "stdout",
     "output_type": "stream",
     "text": [
      "Dipo (0) along X -> 0000\n",
      "/home/alessio/k-nokick/IMPORTANTS/VISUALIZE_DIPOLES/Dipole0001.h5 (55, 56, 160, 8)\n",
      "Dipo (0) along Y -> 0001\n",
      "/home/alessio/k-nokick/IMPORTANTS/VISUALIZE_DIPOLES/Dipole0002.h5 (55, 56, 160, 8)\n",
      "Dipo (0) along Z -> 0002\n",
      "/home/alessio/k-nokick/IMPORTANTS/VISUALIZE_DIPOLES/Dipole0003.h5 (55, 56, 160, 8)\n",
      "Dipo (0,0) along X -> 0003\n",
      "/home/alessio/k-nokick/IMPORTANTS/VISUALIZE_DIPOLES/Dipole0004.h5 (55, 56, 160, 8)\n",
      "Dipo (0,0) along Y -> 0004\n",
      "/home/alessio/k-nokick/IMPORTANTS/VISUALIZE_DIPOLES/Dipole0005.h5 (55, 56, 160, 8)\n",
      "Dipo (0,0) along Z -> 0005\n",
      "/home/alessio/k-nokick/IMPORTANTS/VISUALIZE_DIPOLES/Dipole0006.h5 (55, 56, 160, 8)\n",
      "Dipo (0,1) along X -> 0006\n",
      "/home/alessio/k-nokick/IMPORTANTS/VISUALIZE_DIPOLES/Dipole0007.h5 (55, 56, 160, 8)\n",
      "Dipo (0,1) along Y -> 0007\n",
      "/home/alessio/k-nokick/IMPORTANTS/VISUALIZE_DIPOLES/Dipole0008.h5 (55, 56, 160, 8)\n",
      "Dipo (0,1) along Z -> 0008\n",
      "/home/alessio/k-nokick/IMPORTANTS/VISUALIZE_DIPOLES/Dipole0009.h5 (55, 56, 160, 8)\n",
      "Dipo (0,2) along X -> 0009\n",
      "/home/alessio/k-nokick/IMPORTANTS/VISUALIZE_DIPOLES/Dipole0010.h5 (55, 56, 160, 8)\n",
      "Dipo (0,2) along Y -> 0010\n",
      "/home/alessio/k-nokick/IMPORTANTS/VISUALIZE_DIPOLES/Dipole0011.h5 (55, 56, 160, 8)\n",
      "Dipo (0,2) along Z -> 0011\n",
      "/home/alessio/k-nokick/IMPORTANTS/VISUALIZE_DIPOLES/Dipole0012.h5 (55, 56, 160, 8)\n",
      "Dipo (0,3) along X -> 0012\n",
      "/home/alessio/k-nokick/IMPORTANTS/VISUALIZE_DIPOLES/Dipole0013.h5 (55, 56, 160, 8)\n",
      "Dipo (0,3) along Y -> 0013\n",
      "/home/alessio/k-nokick/IMPORTANTS/VISUALIZE_DIPOLES/Dipole0014.h5 (55, 56, 160, 8)\n",
      "Dipo (0,3) along Z -> 0014\n",
      "/home/alessio/k-nokick/IMPORTANTS/VISUALIZE_DIPOLES/Dipole0015.h5 (55, 56, 160, 8)\n",
      "Dipo (0,4) along X -> 0015\n",
      "/home/alessio/k-nokick/IMPORTANTS/VISUALIZE_DIPOLES/Dipole0016.h5 (55, 56, 160, 8)\n",
      "Dipo (0,4) along Y -> 0016\n",
      "/home/alessio/k-nokick/IMPORTANTS/VISUALIZE_DIPOLES/Dipole0017.h5 (55, 56, 160, 8)\n",
      "Dipo (0,4) along Z -> 0017\n",
      "/home/alessio/k-nokick/IMPORTANTS/VISUALIZE_DIPOLES/Dipole0018.h5 (55, 56, 160, 8)\n",
      "Dipo (0,5) along X -> 0018\n",
      "/home/alessio/k-nokick/IMPORTANTS/VISUALIZE_DIPOLES/Dipole0019.h5 (55, 56, 160, 8)\n",
      "Dipo (0,5) along Y -> 0019\n",
      "/home/alessio/k-nokick/IMPORTANTS/VISUALIZE_DIPOLES/Dipole0020.h5 (55, 56, 160, 8)\n",
      "Dipo (0,5) along Z -> 0020\n",
      "/home/alessio/k-nokick/IMPORTANTS/VISUALIZE_DIPOLES/Dipole0021.h5 (55, 56, 160, 8)\n",
      "Dipo (0,6) along X -> 0021\n",
      "/home/alessio/k-nokick/IMPORTANTS/VISUALIZE_DIPOLES/Dipole0022.h5 (55, 56, 160, 8)\n",
      "Dipo (0,6) along Y -> 0022\n",
      "/home/alessio/k-nokick/IMPORTANTS/VISUALIZE_DIPOLES/Dipole0023.h5 (55, 56, 160, 8)\n",
      "Dipo (0,6) along Z -> 0023\n",
      "/home/alessio/k-nokick/IMPORTANTS/VISUALIZE_DIPOLES/Dipole0024.h5 (55, 56, 160, 8)\n",
      "Dipo (0,7) along X -> 0024\n",
      "/home/alessio/k-nokick/IMPORTANTS/VISUALIZE_DIPOLES/Dipole0025.h5 (55, 56, 160, 8)\n",
      "Dipo (0,7) along Y -> 0025\n",
      "/home/alessio/k-nokick/IMPORTANTS/VISUALIZE_DIPOLES/Dipole0026.h5 (55, 56, 160, 8)\n",
      "Dipo (0,7) along Z -> 0026\n",
      "/home/alessio/k-nokick/IMPORTANTS/VISUALIZE_DIPOLES/Dipole0027.h5 (55, 56, 160, 8)\n"
     ]
    }
   ],
   "source": [
    "saveFile = True\n",
    "what_to_save = data['dipCUBE']\n",
    "\n",
    "a=0\n",
    "\n",
    "for state1 in [0]:\n",
    "    for cart in range(3):\n",
    "        dictio = {}\n",
    "        cartL = ['X','Y','Z']\n",
    "        print('Dipo ({}) along {} -> {:04}'.format(state1,cartL[cart],a))\n",
    "        a+=1\n",
    "\n",
    "        if saveFile:\n",
    "            filename = os.path.join(folder_output,'Dipole{:04}.h5'.format(a))\n",
    "            dictio['DIPO'] = what_to_save[:,:,:,cart,state1,:]\n",
    "            print(filename, dictio['DIPO'].shape)\n",
    "            dictio['state1'] = state1\n",
    "            dictio['state2'] = \"all\"\n",
    "            dictio['cart'] = cart\n",
    "            qp.writeH5fileDict(filename, dictio)\n",
    "\n",
    "for state1 in [0]:\n",
    "    for state2 in range(nstates):\n",
    "        for cart in range(3):\n",
    "            dictio = {} \n",
    "            cartL = ['X','Y','Z']\n",
    "            print('Dipo ({},{}) along {} -> {:04}'.format(state1,state2,cartL[cart],a))\n",
    "            a+=1\n",
    "            if saveFile:\n",
    "                filename = os.path.join(folder_output,'Dipole{:04}.h5'.format(a))\n",
    "                new_vector = np.zeros((55, 56, 160, 8))\n",
    "                new_vector[:,:,:,state2] = what_to_save[:,:,:,cart,state1,state2]\n",
    "                dictio['DIPO'] = new_vector\n",
    "                print(filename, dictio['DIPO'].shape)\n",
    "                dictio['state1'] = state1\n",
    "                dictio['state2'] = state2\n",
    "                dictio['cart'] = cart\n",
    "                qp.writeH5fileDict(filename, dictio)\n"
   ]
  },
  {
   "cell_type": "code",
   "execution_count": null,
   "metadata": {},
   "outputs": [],
   "source": []
  }
 ],
 "metadata": {
  "kernelspec": {
   "display_name": "Python 3",
   "language": "python",
   "name": "python3"
  },
  "language_info": {
   "codemirror_mode": {
    "name": "ipython",
    "version": 3
   },
   "file_extension": ".py",
   "mimetype": "text/x-python",
   "name": "python",
   "nbconvert_exporter": "python",
   "pygments_lexer": "ipython3",
   "version": "3.6.8"
  }
 },
 "nbformat": 4,
 "nbformat_minor": 4
}
